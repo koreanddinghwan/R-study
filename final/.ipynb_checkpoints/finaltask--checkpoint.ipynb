{
 "cells": [
  {
   "cell_type": "markdown",
   "id": "87fa73e4",
   "metadata": {},
   "source": [
    "\n",
    "### 문제.  다음 셀에 우리가 배운 데이터시각화 라이브러리 두 가지, 데이터 분석 라이브러리, 수학 연산 라이브러리를 약어별칭(alias)과 함께 불러오세요."
   ]
  },
  {
   "cell_type": "code",
   "execution_count": 1,
   "id": "7552665b",
   "metadata": {},
   "outputs": [],
   "source": [
    "#데이터 시각화\n",
    "import seaborn as sns\n",
    "import matplotlib.pyplot as plt\n",
    "\n",
    "#데이터 분석 라이브러리\n",
    "import pandas as pd\n",
    "\n",
    "#수학연산 라이브러리\n",
    "import numpy as np"
   ]
  },
  {
   "cell_type": "markdown",
   "id": "2c61240f",
   "metadata": {},
   "source": [
    "### 문제. finaltaskdata.csv 파일을 msleep 이라는 데이터 프레임으로 불러오세요. "
   ]
  },
  {
   "cell_type": "code",
   "execution_count": 2,
   "id": "883cd1d2",
   "metadata": {},
   "outputs": [],
   "source": [
    "#read_csv로 현재 cwd상에서 데이터 불러온다.\n",
    "# import os\n",
    "# print(os.getcwd())\n",
    "\n",
    "msleep = pd.read_csv('finaltaskdata.csv')"
   ]
  },
  {
   "cell_type": "markdown",
   "id": "b1f4d407",
   "metadata": {},
   "source": [
    "### 문제. 데이터 앞부분 10개 행을 확인하세요."
   ]
  },
  {
   "cell_type": "code",
   "execution_count": 3,
   "id": "3d49472c",
   "metadata": {},
   "outputs": [
    {
     "data": {
      "text/html": [
       "<div>\n",
       "<style scoped>\n",
       "    .dataframe tbody tr th:only-of-type {\n",
       "        vertical-align: middle;\n",
       "    }\n",
       "\n",
       "    .dataframe tbody tr th {\n",
       "        vertical-align: top;\n",
       "    }\n",
       "\n",
       "    .dataframe thead th {\n",
       "        text-align: right;\n",
       "    }\n",
       "</style>\n",
       "<table border=\"1\" class=\"dataframe\">\n",
       "  <thead>\n",
       "    <tr style=\"text-align: right;\">\n",
       "      <th></th>\n",
       "      <th>name</th>\n",
       "      <th>genus</th>\n",
       "      <th>vore</th>\n",
       "      <th>order</th>\n",
       "      <th>conservation</th>\n",
       "      <th>sleep_total</th>\n",
       "      <th>sleep_rem</th>\n",
       "      <th>sleep_cycle</th>\n",
       "      <th>awake</th>\n",
       "      <th>brainwt</th>\n",
       "      <th>bodywt</th>\n",
       "    </tr>\n",
       "  </thead>\n",
       "  <tbody>\n",
       "    <tr>\n",
       "      <th>0</th>\n",
       "      <td>Cheetah</td>\n",
       "      <td>Acinonyx</td>\n",
       "      <td>carni</td>\n",
       "      <td>Carnivora</td>\n",
       "      <td>lc</td>\n",
       "      <td>12.1</td>\n",
       "      <td>NaN</td>\n",
       "      <td>NaN</td>\n",
       "      <td>11.9</td>\n",
       "      <td>NaN</td>\n",
       "      <td>50.000</td>\n",
       "    </tr>\n",
       "    <tr>\n",
       "      <th>1</th>\n",
       "      <td>Owl monkey</td>\n",
       "      <td>Aotus</td>\n",
       "      <td>omni</td>\n",
       "      <td>Primates</td>\n",
       "      <td>NaN</td>\n",
       "      <td>17.0</td>\n",
       "      <td>1.8</td>\n",
       "      <td>NaN</td>\n",
       "      <td>7.0</td>\n",
       "      <td>0.01550</td>\n",
       "      <td>0.480</td>\n",
       "    </tr>\n",
       "    <tr>\n",
       "      <th>2</th>\n",
       "      <td>Mountain beaver</td>\n",
       "      <td>Aplodontia</td>\n",
       "      <td>herbi</td>\n",
       "      <td>Rodentia</td>\n",
       "      <td>nt</td>\n",
       "      <td>14.4</td>\n",
       "      <td>2.4</td>\n",
       "      <td>NaN</td>\n",
       "      <td>9.6</td>\n",
       "      <td>NaN</td>\n",
       "      <td>1.350</td>\n",
       "    </tr>\n",
       "    <tr>\n",
       "      <th>3</th>\n",
       "      <td>Greater short-tailed shrew</td>\n",
       "      <td>Blarina</td>\n",
       "      <td>omni</td>\n",
       "      <td>Soricomorpha</td>\n",
       "      <td>lc</td>\n",
       "      <td>14.9</td>\n",
       "      <td>2.3</td>\n",
       "      <td>0.133333</td>\n",
       "      <td>9.1</td>\n",
       "      <td>0.00029</td>\n",
       "      <td>0.019</td>\n",
       "    </tr>\n",
       "    <tr>\n",
       "      <th>4</th>\n",
       "      <td>Cow</td>\n",
       "      <td>Bos</td>\n",
       "      <td>herbi</td>\n",
       "      <td>Artiodactyla</td>\n",
       "      <td>domesticated</td>\n",
       "      <td>4.0</td>\n",
       "      <td>0.7</td>\n",
       "      <td>0.666667</td>\n",
       "      <td>20.0</td>\n",
       "      <td>0.42300</td>\n",
       "      <td>600.000</td>\n",
       "    </tr>\n",
       "    <tr>\n",
       "      <th>5</th>\n",
       "      <td>Three-toed sloth</td>\n",
       "      <td>Bradypus</td>\n",
       "      <td>herbi</td>\n",
       "      <td>Pilosa</td>\n",
       "      <td>NaN</td>\n",
       "      <td>14.4</td>\n",
       "      <td>2.2</td>\n",
       "      <td>0.766667</td>\n",
       "      <td>9.6</td>\n",
       "      <td>NaN</td>\n",
       "      <td>3.850</td>\n",
       "    </tr>\n",
       "    <tr>\n",
       "      <th>6</th>\n",
       "      <td>Northern fur seal</td>\n",
       "      <td>Callorhinus</td>\n",
       "      <td>carni</td>\n",
       "      <td>Carnivora</td>\n",
       "      <td>vu</td>\n",
       "      <td>8.7</td>\n",
       "      <td>1.4</td>\n",
       "      <td>0.383333</td>\n",
       "      <td>15.3</td>\n",
       "      <td>NaN</td>\n",
       "      <td>20.490</td>\n",
       "    </tr>\n",
       "    <tr>\n",
       "      <th>7</th>\n",
       "      <td>Vesper mouse</td>\n",
       "      <td>Calomys</td>\n",
       "      <td>NaN</td>\n",
       "      <td>Rodentia</td>\n",
       "      <td>NaN</td>\n",
       "      <td>7.0</td>\n",
       "      <td>NaN</td>\n",
       "      <td>NaN</td>\n",
       "      <td>17.0</td>\n",
       "      <td>-1.00000</td>\n",
       "      <td>0.045</td>\n",
       "    </tr>\n",
       "    <tr>\n",
       "      <th>8</th>\n",
       "      <td>Dog</td>\n",
       "      <td>Canis</td>\n",
       "      <td>carni</td>\n",
       "      <td>Carnivora</td>\n",
       "      <td>domesticated</td>\n",
       "      <td>10.1</td>\n",
       "      <td>2.9</td>\n",
       "      <td>0.333333</td>\n",
       "      <td>13.9</td>\n",
       "      <td>0.07000</td>\n",
       "      <td>14.000</td>\n",
       "    </tr>\n",
       "    <tr>\n",
       "      <th>9</th>\n",
       "      <td>Roe deer</td>\n",
       "      <td>Capreolus</td>\n",
       "      <td>herbi</td>\n",
       "      <td>Artiodactyla</td>\n",
       "      <td>lc</td>\n",
       "      <td>-3.0</td>\n",
       "      <td>NaN</td>\n",
       "      <td>NaN</td>\n",
       "      <td>21.0</td>\n",
       "      <td>0.09820</td>\n",
       "      <td>14.800</td>\n",
       "    </tr>\n",
       "  </tbody>\n",
       "</table>\n",
       "</div>"
      ],
      "text/plain": [
       "                         name        genus   vore         order  conservation  \\\n",
       "0                     Cheetah     Acinonyx  carni     Carnivora            lc   \n",
       "1                  Owl monkey        Aotus   omni      Primates           NaN   \n",
       "2             Mountain beaver   Aplodontia  herbi      Rodentia            nt   \n",
       "3  Greater short-tailed shrew      Blarina   omni  Soricomorpha            lc   \n",
       "4                         Cow          Bos  herbi  Artiodactyla  domesticated   \n",
       "5            Three-toed sloth     Bradypus  herbi        Pilosa           NaN   \n",
       "6           Northern fur seal  Callorhinus  carni     Carnivora            vu   \n",
       "7                Vesper mouse      Calomys    NaN      Rodentia           NaN   \n",
       "8                         Dog        Canis  carni     Carnivora  domesticated   \n",
       "9                    Roe deer    Capreolus  herbi  Artiodactyla            lc   \n",
       "\n",
       "   sleep_total  sleep_rem  sleep_cycle  awake  brainwt   bodywt  \n",
       "0         12.1        NaN          NaN   11.9      NaN   50.000  \n",
       "1         17.0        1.8          NaN    7.0  0.01550    0.480  \n",
       "2         14.4        2.4          NaN    9.6      NaN    1.350  \n",
       "3         14.9        2.3     0.133333    9.1  0.00029    0.019  \n",
       "4          4.0        0.7     0.666667   20.0  0.42300  600.000  \n",
       "5         14.4        2.2     0.766667    9.6      NaN    3.850  \n",
       "6          8.7        1.4     0.383333   15.3      NaN   20.490  \n",
       "7          7.0        NaN          NaN   17.0 -1.00000    0.045  \n",
       "8         10.1        2.9     0.333333   13.9  0.07000   14.000  \n",
       "9         -3.0        NaN          NaN   21.0  0.09820   14.800  "
      ]
     },
     "execution_count": 3,
     "metadata": {},
     "output_type": "execute_result"
    }
   ],
   "source": [
    "#인덱스 칼럼 따로 지정하지 않고 불러오겠습니다.\n",
    "msleep.head(10)"
   ]
  },
  {
   "cell_type": "markdown",
   "id": "3d3ac886",
   "metadata": {},
   "source": [
    "### 문제.  데이터에 대한 전반적인 정보를 확인하세요."
   ]
  },
  {
   "cell_type": "code",
   "execution_count": 4,
   "id": "4f8496ef",
   "metadata": {},
   "outputs": [
    {
     "name": "stdout",
     "output_type": "stream",
     "text": [
      "<class 'pandas.core.frame.DataFrame'>\n",
      "RangeIndex: 83 entries, 0 to 82\n",
      "Data columns (total 11 columns):\n",
      " #   Column        Non-Null Count  Dtype  \n",
      "---  ------        --------------  -----  \n",
      " 0   name          83 non-null     object \n",
      " 1   genus         83 non-null     object \n",
      " 2   vore          76 non-null     object \n",
      " 3   order         83 non-null     object \n",
      " 4   conservation  54 non-null     object \n",
      " 5   sleep_total   83 non-null     float64\n",
      " 6   sleep_rem     61 non-null     float64\n",
      " 7   sleep_cycle   32 non-null     float64\n",
      " 8   awake         83 non-null     float64\n",
      " 9   brainwt       57 non-null     float64\n",
      " 10  bodywt        83 non-null     float64\n",
      "dtypes: float64(6), object(5)\n",
      "memory usage: 7.3+ KB\n"
     ]
    }
   ],
   "source": [
    "#전반적인 정보 확인하는 info 메서드 사용\n",
    "msleep.info()"
   ]
  },
  {
   "cell_type": "markdown",
   "id": "b22e39b4",
   "metadata": {},
   "source": [
    "### 문제.  데이터의 칼럼명을 확인하세요."
   ]
  },
  {
   "cell_type": "code",
   "execution_count": 5,
   "id": "498bec33",
   "metadata": {},
   "outputs": [
    {
     "data": {
      "text/plain": [
       "Index(['name', 'genus', 'vore', 'order', 'conservation', 'sleep_total',\n",
       "       'sleep_rem', 'sleep_cycle', 'awake', 'brainwt', 'bodywt'],\n",
       "      dtype='object')"
      ]
     },
     "execution_count": 5,
     "metadata": {},
     "output_type": "execute_result"
    }
   ],
   "source": [
    "#칼럼명 확인\n",
    "msleep.columns"
   ]
  },
  {
   "cell_type": "markdown",
   "id": "5631579b",
   "metadata": {},
   "source": [
    "### 문제. brainwt과 bodywt 칼럼명을 brain_weight과 body_weight으로 변경하고 다시 칼럼명을 확인하세요."
   ]
  },
  {
   "cell_type": "code",
   "execution_count": 6,
   "id": "0c5cd086",
   "metadata": {},
   "outputs": [
    {
     "data": {
      "text/plain": [
       "Index(['name', 'genus', 'vore', 'order', 'conservation', 'sleep_total',\n",
       "       'sleep_rem', 'sleep_cycle', 'awake', 'brain_weight', 'body_weight'],\n",
       "      dtype='object')"
      ]
     },
     "execution_count": 6,
     "metadata": {},
     "output_type": "execute_result"
    }
   ],
   "source": [
    "#칼럼명을 rename 함수를 통해 바꿔준다.\n",
    "#inplace옵션을 통해 재할당없이 메모리상에서 바로 바꿉니다.\n",
    "msleep.rename(columns = \n",
    "    {\n",
    "        'brainwt' : 'brain_weight',\n",
    "        'bodywt' : 'body_weight'\n",
    "    }, inplace = True)\n",
    "\n",
    "msleep.columns"
   ]
  },
  {
   "cell_type": "markdown",
   "id": "65b31db5",
   "metadata": {},
   "source": [
    "### 문제.  데이터의 칼럼별 요약통계량을 확인하세요."
   ]
  },
  {
   "cell_type": "code",
   "execution_count": 7,
   "id": "33796714",
   "metadata": {},
   "outputs": [
    {
     "data": {
      "text/html": [
       "<div>\n",
       "<style scoped>\n",
       "    .dataframe tbody tr th:only-of-type {\n",
       "        vertical-align: middle;\n",
       "    }\n",
       "\n",
       "    .dataframe tbody tr th {\n",
       "        vertical-align: top;\n",
       "    }\n",
       "\n",
       "    .dataframe thead th {\n",
       "        text-align: right;\n",
       "    }\n",
       "</style>\n",
       "<table border=\"1\" class=\"dataframe\">\n",
       "  <thead>\n",
       "    <tr style=\"text-align: right;\">\n",
       "      <th></th>\n",
       "      <th>sleep_total</th>\n",
       "      <th>sleep_rem</th>\n",
       "      <th>sleep_cycle</th>\n",
       "      <th>awake</th>\n",
       "      <th>brain_weight</th>\n",
       "      <th>body_weight</th>\n",
       "    </tr>\n",
       "  </thead>\n",
       "  <tbody>\n",
       "    <tr>\n",
       "      <th>count</th>\n",
       "      <td>83.000000</td>\n",
       "      <td>61.000000</td>\n",
       "      <td>32.000000</td>\n",
       "      <td>83.000000</td>\n",
       "      <td>57.000000</td>\n",
       "      <td>83.000000</td>\n",
       "    </tr>\n",
       "    <tr>\n",
       "      <th>mean</th>\n",
       "      <td>10.361446</td>\n",
       "      <td>1.875410</td>\n",
       "      <td>0.439583</td>\n",
       "      <td>13.567470</td>\n",
       "      <td>0.259098</td>\n",
       "      <td>166.136349</td>\n",
       "    </tr>\n",
       "    <tr>\n",
       "      <th>std</th>\n",
       "      <td>4.618146</td>\n",
       "      <td>1.298288</td>\n",
       "      <td>0.358680</td>\n",
       "      <td>4.452085</td>\n",
       "      <td>0.982433</td>\n",
       "      <td>786.839732</td>\n",
       "    </tr>\n",
       "    <tr>\n",
       "      <th>min</th>\n",
       "      <td>-3.000000</td>\n",
       "      <td>0.100000</td>\n",
       "      <td>0.116667</td>\n",
       "      <td>4.100000</td>\n",
       "      <td>-1.000000</td>\n",
       "      <td>0.005000</td>\n",
       "    </tr>\n",
       "    <tr>\n",
       "      <th>25%</th>\n",
       "      <td>7.850000</td>\n",
       "      <td>0.900000</td>\n",
       "      <td>0.183333</td>\n",
       "      <td>10.250000</td>\n",
       "      <td>0.002600</td>\n",
       "      <td>0.174000</td>\n",
       "    </tr>\n",
       "    <tr>\n",
       "      <th>50%</th>\n",
       "      <td>10.100000</td>\n",
       "      <td>1.500000</td>\n",
       "      <td>0.333333</td>\n",
       "      <td>13.900000</td>\n",
       "      <td>0.012300</td>\n",
       "      <td>1.670000</td>\n",
       "    </tr>\n",
       "    <tr>\n",
       "      <th>75%</th>\n",
       "      <td>13.750000</td>\n",
       "      <td>2.400000</td>\n",
       "      <td>0.579167</td>\n",
       "      <td>16.150000</td>\n",
       "      <td>0.115000</td>\n",
       "      <td>41.750000</td>\n",
       "    </tr>\n",
       "    <tr>\n",
       "      <th>max</th>\n",
       "      <td>19.900000</td>\n",
       "      <td>6.600000</td>\n",
       "      <td>1.500000</td>\n",
       "      <td>22.100000</td>\n",
       "      <td>5.712000</td>\n",
       "      <td>6654.000000</td>\n",
       "    </tr>\n",
       "  </tbody>\n",
       "</table>\n",
       "</div>"
      ],
      "text/plain": [
       "       sleep_total  sleep_rem  sleep_cycle      awake  brain_weight  \\\n",
       "count    83.000000  61.000000    32.000000  83.000000     57.000000   \n",
       "mean     10.361446   1.875410     0.439583  13.567470      0.259098   \n",
       "std       4.618146   1.298288     0.358680   4.452085      0.982433   \n",
       "min      -3.000000   0.100000     0.116667   4.100000     -1.000000   \n",
       "25%       7.850000   0.900000     0.183333  10.250000      0.002600   \n",
       "50%      10.100000   1.500000     0.333333  13.900000      0.012300   \n",
       "75%      13.750000   2.400000     0.579167  16.150000      0.115000   \n",
       "max      19.900000   6.600000     1.500000  22.100000      5.712000   \n",
       "\n",
       "       body_weight  \n",
       "count    83.000000  \n",
       "mean    166.136349  \n",
       "std     786.839732  \n",
       "min       0.005000  \n",
       "25%       0.174000  \n",
       "50%       1.670000  \n",
       "75%      41.750000  \n",
       "max    6654.000000  "
      ]
     },
     "execution_count": 7,
     "metadata": {},
     "output_type": "execute_result"
    }
   ],
   "source": [
    "#요약통계량 describe()메서드\n",
    "msleep.describe()"
   ]
  },
  {
   "cell_type": "markdown",
   "id": "df04f78a",
   "metadata": {},
   "source": [
    "### 문제. 요약통계량에서 음수가 있는지 확인한 것을 바탕으로 이상치가 있는 칼럼의 이상치를 제거하고, 해당 칼럼의 최소값을 확인하세요."
   ]
  },
  {
   "cell_type": "code",
   "execution_count": 8,
   "id": "66fc54fb",
   "metadata": {},
   "outputs": [
    {
     "data": {
      "text/plain": [
       "1.9"
      ]
     },
     "execution_count": 8,
     "metadata": {},
     "output_type": "execute_result"
    }
   ],
   "source": [
    "#최소값이 음수인 sleep_total과 brain_weight 이상치 대체\n",
    "msleep = msleep[msleep.sleep_total >= 0]\n",
    "msleep.sleep_total.min()"
   ]
  },
  {
   "cell_type": "code",
   "execution_count": 9,
   "id": "22ac20e0",
   "metadata": {},
   "outputs": [
    {
     "data": {
      "text/plain": [
       "0.00014"
      ]
     },
     "execution_count": 9,
     "metadata": {},
     "output_type": "execute_result"
    }
   ],
   "source": [
    "msleep = msleep[msleep.brain_weight >= 0]\n",
    "msleep.brain_weight.min()"
   ]
  },
  {
   "cell_type": "markdown",
   "id": "d71ce9de",
   "metadata": {},
   "source": [
    "### 문제. conservation status의 고유값별 빈도를 다음과 같이 확인하세요."
   ]
  },
  {
   "cell_type": "code",
   "execution_count": 10,
   "id": "f54960ae",
   "metadata": {},
   "outputs": [
    {
     "data": {
      "text/plain": [
       "lc              18\n",
       "domesticated    10\n",
       "en               3\n",
       "vu               2\n",
       "nt               2\n",
       "Name: conservation, dtype: int64"
      ]
     },
     "execution_count": 10,
     "metadata": {},
     "output_type": "execute_result"
    }
   ],
   "source": [
    "#칼럼에 value_counts()메서드로 값별 빈도를 얻는다.\n",
    "msleep.conservation.value_counts()"
   ]
  },
  {
   "cell_type": "markdown",
   "id": "b3dcad6a",
   "metadata": {},
   "source": [
    "### 문제. 멸종 위기가 높은 순서대로 아래와 같이 값을 변경하고 다시 고유값별 빈도를 확인하세요.\n",
    "- en => 1_endangered\n",
    "- vu => 2_vulnerable\n",
    "- nt => 3_near_threatened\n",
    "- lc => 4_least_concern\n",
    "- domesticated => 5_domesticated"
   ]
  },
  {
   "cell_type": "code",
   "execution_count": 11,
   "id": "3b569905",
   "metadata": {},
   "outputs": [
    {
     "data": {
      "text/plain": [
       "4_least_concern      18\n",
       "5_domesticated       10\n",
       "1_endangered          3\n",
       "2_vulnerable          2\n",
       "3_near_threatened     2\n",
       "Name: conservation, dtype: int64"
      ]
     },
     "execution_count": 11,
     "metadata": {},
     "output_type": "execute_result"
    }
   ],
   "source": [
    "#map함수를 통해 각 셀의 값을 대체해줍니다.\n",
    "msleep.conservation = msleep.conservation.map({\n",
    "    'en' : '1_endangered',\n",
    "    'vu' : '2_vulnerable',\n",
    "    'nt' : '3_near_threatened',\n",
    "    'lc' : '4_least_concern',\n",
    "    'domesticated' : '5_domesticated'\n",
    "})\n",
    "msleep.conservation.value_counts()"
   ]
  },
  {
   "cell_type": "markdown",
   "id": "c0b123eb",
   "metadata": {},
   "source": [
    "### 문제.  칼럼별 결측치의 개수를 한번에 확인해보세요."
   ]
  },
  {
   "cell_type": "code",
   "execution_count": 12,
   "id": "7f3fa1d8",
   "metadata": {},
   "outputs": [
    {
     "data": {
      "text/plain": [
       "name             0\n",
       "genus            0\n",
       "vore             5\n",
       "order            0\n",
       "conservation    20\n",
       "sleep_total      0\n",
       "sleep_rem        7\n",
       "sleep_cycle     25\n",
       "awake            0\n",
       "brain_weight     0\n",
       "body_weight      0\n",
       "dtype: int64"
      ]
     },
     "execution_count": 12,
     "metadata": {},
     "output_type": "execute_result"
    }
   ],
   "source": [
    "#isna, isnull은 기본적으로 같으며, alias라고 생각하면 편하다.\n",
    "#sum메서드로 칼럼별 결측치 개수를 한번에 확인할 수 있다.\n",
    "msleep.isna().sum()"
   ]
  },
  {
   "cell_type": "markdown",
   "id": "e9cb50b7",
   "metadata": {},
   "source": [
    "### 문제. 식성(vore) 변수에 대해서 결측치들을 \"unknown\"으로 대체하여 재할당하세요. 해당 칼럼의 고유값별 빈도를 다음과 같이 확인하세요."
   ]
  },
  {
   "cell_type": "code",
   "execution_count": 13,
   "id": "3843c55c",
   "metadata": {
    "scrolled": true
   },
   "outputs": [
    {
     "data": {
      "text/plain": [
       "herbi      19\n",
       "omni       17\n",
       "carni       9\n",
       "insecti     5\n",
       "unknown     5\n",
       "Name: vore, dtype: int64"
      ]
     },
     "execution_count": 13,
     "metadata": {},
     "output_type": "execute_result"
    }
   ],
   "source": [
    "#결측치를 대체하는 fillna함수에 inplace옵션을 주어 메모리상에서 대체한다.\n",
    "msleep.vore.fillna('unknown', inplace=True)\n",
    "msleep.vore.value_counts()"
   ]
  },
  {
   "cell_type": "markdown",
   "id": "1df3d364",
   "metadata": {},
   "source": [
    "### 문제. 총수면량의 극단치를 확인해보세요."
   ]
  },
  {
   "cell_type": "code",
   "execution_count": 14,
   "id": "27c0ab15",
   "metadata": {
    "scrolled": true
   },
   "outputs": [
    {
     "data": {
      "text/plain": [
       "<AxesSubplot:xlabel='sleep_total'>"
      ]
     },
     "execution_count": 14,
     "metadata": {},
     "output_type": "execute_result"
    },
    {
     "data": {
      "image/png": "[encoded data removed]",
      "text/plain": [
       "<Figure size 640x480 with 1 Axes>"
      ]
     },
     "metadata": {},
     "output_type": "display_data"
    }
   ],
   "source": [
    "sns.boxplot(x = msleep.sleep_total)"
   ]
  },
  {
   "cell_type": "markdown",
   "id": "2fd660d7",
   "metadata": {},
   "source": [
    "### 문제. 총수면량의 극단치를 제거하고, 다시 확인해보세요.\n",
    "- 복사본을 만들 필요는 없습니다."
   ]
  },
  {
   "cell_type": "code",
   "execution_count": 15,
   "id": "f54bc972",
   "metadata": {},
   "outputs": [
    {
     "data": {
      "text/plain": [
       "<AxesSubplot:xlabel='sleep_total'>"
      ]
     },
     "execution_count": 15,
     "metadata": {},
     "output_type": "execute_result"
    },
    {
     "data": {
      "image/png": "[encoded data removed]",
      "text/plain": [
       "<Figure size 640x480 with 1 Axes>"
      ]
     },
     "metadata": {},
     "output_type": "display_data"
    }
   ],
   "source": [
    "q1 = np.percentile(msleep.sleep_total, 25) #1사분위수\n",
    "q3 = np.percentile(msleep.sleep_total, 75) #3사분위수\n",
    "iqr = q3 - q1\n",
    "upper_bound = q3 + (iqr * 1.5)\n",
    "#upper bound보다 큰 값은 제거한다.\n",
    "msleep = msleep[msleep.sleep_total <= upper_bound] \n",
    "sns.boxplot(x = msleep.sleep_total)"
   ]
  },
  {
   "cell_type": "markdown",
   "id": "11e84cfa",
   "metadata": {},
   "source": [
    "### 문제. 총수면량에서 렘수면량을 제외한 비렘수면량(sleep_nonrem)을 파생변수로 만들어 추가보세요."
   ]
  },
  {
   "cell_type": "code",
   "execution_count": 16,
   "id": "fd2f1221",
   "metadata": {},
   "outputs": [],
   "source": [
    "#sleep_nonrem 칼럼 새로 생성\n",
    "msleep['sleep_nonrem'] = msleep['sleep_total'] - msleep['sleep_rem']"
   ]
  },
  {
   "cell_type": "markdown",
   "id": "51d7ebf5",
   "metadata": {},
   "source": [
    "### 문제. 총수면량과 렘수면량, 비렘수면량에 대해서 분단위(in hours to minutes)로 계산된 파생변수를 각각 만들어 추가해보세요.(기존 변수명 뒤에 '_min'을 붙이세요)\n",
    "- msleep 데이터 안에 파생변수가 존재하도록 진행해야 됩니다."
   ]
  },
  {
   "cell_type": "code",
   "execution_count": 17,
   "id": "2c4f1f12",
   "metadata": {},
   "outputs": [],
   "source": [
    "#기존 칼럼에 60을 곱한 새로운 칼럼을 생성한다.\n",
    "msleep['sleep_rem_min'] = msleep['sleep_rem'] * 60\n",
    "msleep['sleep_nonrem_min'] = msleep['sleep_nonrem'] * 60"
   ]
  },
  {
   "cell_type": "markdown",
   "id": "3cdcd29a",
   "metadata": {},
   "source": [
    "### 문제. 식성(육/초/충/잡/모름)별로 총수면량(시간단위)의 평균을 출력해보세요.\n",
    "- 그룹으로 묶은 뒤 해당하는 칼럼만 추출하여 진행하도록 하세요. 마찬가지로 한줄로 작성하도록 합니다."
   ]
  },
  {
   "cell_type": "code",
   "execution_count": 18,
   "id": "d85800d6",
   "metadata": {},
   "outputs": [
    {
     "data": {
      "text/plain": [
       "vore\n",
       "carni      10.688889\n",
       "herbi       8.110526\n",
       "insecti    11.700000\n",
       "omni       11.105882\n",
       "unknown    10.560000\n",
       "Name: sleep_total, dtype: float64"
      ]
     },
     "execution_count": 18,
     "metadata": {},
     "output_type": "execute_result"
    }
   ],
   "source": [
    "#groupby함수로 vore를 기준으로 그루핑, sleep_total 칼럼의 그룹별 평균을 구한다.\n",
    "msleep.groupby('vore').sleep_total.mean()"
   ]
  },
  {
   "cell_type": "markdown",
   "id": "ea07040a",
   "metadata": {},
   "source": [
    "### 문제. 아래의 표는 멸종 위협에 대해서 High와 Low, Non으로 구분한 표입니다. red_list라는 데이터 프레임으로 만들어보세요. \n",
    "```python\n",
    "conservation               risk\n",
    "\n",
    "1_endangered               high\n",
    "2_vulnerable               high\n",
    "3_near_threatened          low\n",
    "4_least_concern            low\n",
    "5_domesticated             non\n",
    "unknown                    non\n",
    "```\n",
    "- 상단의 칼럼명(변수명)은 데이터에 입력할 필요는 없습니다."
   ]
  },
  {
   "cell_type": "code",
   "execution_count": 19,
   "id": "f4906adb",
   "metadata": {},
   "outputs": [
    {
     "data": {
      "text/html": [
       "<div>\n",
       "<style scoped>\n",
       "    .dataframe tbody tr th:only-of-type {\n",
       "        vertical-align: middle;\n",
       "    }\n",
       "\n",
       "    .dataframe tbody tr th {\n",
       "        vertical-align: top;\n",
       "    }\n",
       "\n",
       "    .dataframe thead th {\n",
       "        text-align: right;\n",
       "    }\n",
       "</style>\n",
       "<table border=\"1\" class=\"dataframe\">\n",
       "  <thead>\n",
       "    <tr style=\"text-align: right;\">\n",
       "      <th></th>\n",
       "      <th>conservation</th>\n",
       "      <th>risk</th>\n",
       "    </tr>\n",
       "  </thead>\n",
       "  <tbody>\n",
       "    <tr>\n",
       "      <th>0</th>\n",
       "      <td>1_endangered</td>\n",
       "      <td>high</td>\n",
       "    </tr>\n",
       "    <tr>\n",
       "      <th>1</th>\n",
       "      <td>2_vulnerable</td>\n",
       "      <td>high</td>\n",
       "    </tr>\n",
       "    <tr>\n",
       "      <th>2</th>\n",
       "      <td>3_near_threatened</td>\n",
       "      <td>low</td>\n",
       "    </tr>\n",
       "    <tr>\n",
       "      <th>3</th>\n",
       "      <td>4_least_concern</td>\n",
       "      <td>low</td>\n",
       "    </tr>\n",
       "    <tr>\n",
       "      <th>4</th>\n",
       "      <td>5_domesticated</td>\n",
       "      <td>non</td>\n",
       "    </tr>\n",
       "    <tr>\n",
       "      <th>5</th>\n",
       "      <td>unknown</td>\n",
       "      <td>non</td>\n",
       "    </tr>\n",
       "  </tbody>\n",
       "</table>\n",
       "</div>"
      ],
      "text/plain": [
       "        conservation  risk\n",
       "0       1_endangered  high\n",
       "1       2_vulnerable  high\n",
       "2  3_near_threatened   low\n",
       "3    4_least_concern   low\n",
       "4     5_domesticated   non\n",
       "5            unknown   non"
      ]
     },
     "execution_count": 19,
     "metadata": {},
     "output_type": "execute_result"
    }
   ],
   "source": [
    "#pandas의 데이터프레임 만드는 함수를 사용한다.\n",
    "#index_column은 따로 지정하지 않는다.\n",
    "red_list = pd.DataFrame({\n",
    "    'conservation' : ['1_endangered', '2_vulnerable', '3_near_threatened', '4_least_concern', '5_domesticated', 'unknown'],\n",
    "    'risk' : ['high', 'high', 'low', 'low', 'non', 'non']\n",
    "})\n",
    "red_list"
   ]
  },
  {
   "cell_type": "markdown",
   "id": "5fb14904",
   "metadata": {},
   "source": [
    "### 문제. red_list 데이터 프레임을 활용하여 msleep 데이터에 risk 라는 변수가 추가되도록 재할당하세요. 데이터 앞부분을 확인해보세요.\n",
    "- 적절하게 병합하여 파생변수가 생성되는 것과 같이 추가되도록 하세요."
   ]
  },
  {
   "cell_type": "code",
   "execution_count": 20,
   "id": "47fd6e2f",
   "metadata": {},
   "outputs": [
    {
     "data": {
      "text/html": [
       "<div>\n",
       "<style scoped>\n",
       "    .dataframe tbody tr th:only-of-type {\n",
       "        vertical-align: middle;\n",
       "    }\n",
       "\n",
       "    .dataframe tbody tr th {\n",
       "        vertical-align: top;\n",
       "    }\n",
       "\n",
       "    .dataframe thead th {\n",
       "        text-align: right;\n",
       "    }\n",
       "</style>\n",
       "<table border=\"1\" class=\"dataframe\">\n",
       "  <thead>\n",
       "    <tr style=\"text-align: right;\">\n",
       "      <th></th>\n",
       "      <th>name</th>\n",
       "      <th>genus</th>\n",
       "      <th>vore</th>\n",
       "      <th>order</th>\n",
       "      <th>conservation</th>\n",
       "      <th>sleep_total</th>\n",
       "      <th>sleep_rem</th>\n",
       "      <th>sleep_cycle</th>\n",
       "      <th>awake</th>\n",
       "      <th>brain_weight</th>\n",
       "      <th>body_weight</th>\n",
       "      <th>sleep_nonrem</th>\n",
       "      <th>sleep_rem_min</th>\n",
       "      <th>sleep_nonrem_min</th>\n",
       "      <th>risk</th>\n",
       "    </tr>\n",
       "    <tr>\n",
       "      <th>name</th>\n",
       "      <th></th>\n",
       "      <th></th>\n",
       "      <th></th>\n",
       "      <th></th>\n",
       "      <th></th>\n",
       "      <th></th>\n",
       "      <th></th>\n",
       "      <th></th>\n",
       "      <th></th>\n",
       "      <th></th>\n",
       "      <th></th>\n",
       "      <th></th>\n",
       "      <th></th>\n",
       "      <th></th>\n",
       "      <th></th>\n",
       "    </tr>\n",
       "  </thead>\n",
       "  <tbody>\n",
       "    <tr>\n",
       "      <th>Greater short-tailed shrew</th>\n",
       "      <td>Greater short-tailed shrew</td>\n",
       "      <td>Blarina</td>\n",
       "      <td>omni</td>\n",
       "      <td>Soricomorpha</td>\n",
       "      <td>4_least_concern</td>\n",
       "      <td>14.9</td>\n",
       "      <td>2.3</td>\n",
       "      <td>0.133333</td>\n",
       "      <td>9.1</td>\n",
       "      <td>0.00029</td>\n",
       "      <td>0.019</td>\n",
       "      <td>12.6</td>\n",
       "      <td>138.0</td>\n",
       "      <td>756.0</td>\n",
       "      <td>low</td>\n",
       "    </tr>\n",
       "    <tr>\n",
       "      <th>Goat</th>\n",
       "      <td>Goat</td>\n",
       "      <td>Capri</td>\n",
       "      <td>herbi</td>\n",
       "      <td>Artiodactyla</td>\n",
       "      <td>4_least_concern</td>\n",
       "      <td>5.3</td>\n",
       "      <td>0.6</td>\n",
       "      <td>NaN</td>\n",
       "      <td>18.7</td>\n",
       "      <td>0.11500</td>\n",
       "      <td>33.500</td>\n",
       "      <td>4.7</td>\n",
       "      <td>36.0</td>\n",
       "      <td>282.0</td>\n",
       "      <td>low</td>\n",
       "    </tr>\n",
       "    <tr>\n",
       "      <th>Star-nosed mole</th>\n",
       "      <td>Star-nosed mole</td>\n",
       "      <td>Condylura</td>\n",
       "      <td>omni</td>\n",
       "      <td>Soricomorpha</td>\n",
       "      <td>4_least_concern</td>\n",
       "      <td>10.3</td>\n",
       "      <td>2.2</td>\n",
       "      <td>NaN</td>\n",
       "      <td>13.7</td>\n",
       "      <td>0.00100</td>\n",
       "      <td>0.060</td>\n",
       "      <td>8.1</td>\n",
       "      <td>132.0</td>\n",
       "      <td>486.0</td>\n",
       "      <td>low</td>\n",
       "    </tr>\n",
       "    <tr>\n",
       "      <th>Lesser short-tailed shrew</th>\n",
       "      <td>Lesser short-tailed shrew</td>\n",
       "      <td>Cryptotis</td>\n",
       "      <td>omni</td>\n",
       "      <td>Soricomorpha</td>\n",
       "      <td>4_least_concern</td>\n",
       "      <td>9.1</td>\n",
       "      <td>1.4</td>\n",
       "      <td>0.150000</td>\n",
       "      <td>14.9</td>\n",
       "      <td>0.00014</td>\n",
       "      <td>0.005</td>\n",
       "      <td>7.7</td>\n",
       "      <td>84.0</td>\n",
       "      <td>462.0</td>\n",
       "      <td>low</td>\n",
       "    </tr>\n",
       "    <tr>\n",
       "      <th>Long-nosed armadillo</th>\n",
       "      <td>Long-nosed armadillo</td>\n",
       "      <td>Dasypus</td>\n",
       "      <td>carni</td>\n",
       "      <td>Cingulata</td>\n",
       "      <td>4_least_concern</td>\n",
       "      <td>17.4</td>\n",
       "      <td>3.1</td>\n",
       "      <td>0.383333</td>\n",
       "      <td>6.6</td>\n",
       "      <td>0.01080</td>\n",
       "      <td>3.500</td>\n",
       "      <td>14.3</td>\n",
       "      <td>186.0</td>\n",
       "      <td>858.0</td>\n",
       "      <td>low</td>\n",
       "    </tr>\n",
       "  </tbody>\n",
       "</table>\n",
       "</div>"
      ],
      "text/plain": [
       "                                                  name      genus   vore  \\\n",
       "name                                                                       \n",
       "Greater short-tailed shrew  Greater short-tailed shrew    Blarina   omni   \n",
       "Goat                                              Goat      Capri  herbi   \n",
       "Star-nosed mole                        Star-nosed mole  Condylura   omni   \n",
       "Lesser short-tailed shrew    Lesser short-tailed shrew  Cryptotis   omni   \n",
       "Long-nosed armadillo              Long-nosed armadillo    Dasypus  carni   \n",
       "\n",
       "                                   order     conservation  sleep_total  \\\n",
       "name                                                                     \n",
       "Greater short-tailed shrew  Soricomorpha  4_least_concern         14.9   \n",
       "Goat                        Artiodactyla  4_least_concern          5.3   \n",
       "Star-nosed mole             Soricomorpha  4_least_concern         10.3   \n",
       "Lesser short-tailed shrew   Soricomorpha  4_least_concern          9.1   \n",
       "Long-nosed armadillo           Cingulata  4_least_concern         17.4   \n",
       "\n",
       "                            sleep_rem  sleep_cycle  awake  brain_weight  \\\n",
       "name                                                                      \n",
       "Greater short-tailed shrew        2.3     0.133333    9.1       0.00029   \n",
       "Goat                              0.6          NaN   18.7       0.11500   \n",
       "Star-nosed mole                   2.2          NaN   13.7       0.00100   \n",
       "Lesser short-tailed shrew         1.4     0.150000   14.9       0.00014   \n",
       "Long-nosed armadillo              3.1     0.383333    6.6       0.01080   \n",
       "\n",
       "                            body_weight  sleep_nonrem  sleep_rem_min  \\\n",
       "name                                                                   \n",
       "Greater short-tailed shrew        0.019          12.6          138.0   \n",
       "Goat                             33.500           4.7           36.0   \n",
       "Star-nosed mole                   0.060           8.1          132.0   \n",
       "Lesser short-tailed shrew         0.005           7.7           84.0   \n",
       "Long-nosed armadillo              3.500          14.3          186.0   \n",
       "\n",
       "                            sleep_nonrem_min risk  \n",
       "name                                               \n",
       "Greater short-tailed shrew             756.0  low  \n",
       "Goat                                   282.0  low  \n",
       "Star-nosed mole                        486.0  low  \n",
       "Lesser short-tailed shrew              462.0  low  \n",
       "Long-nosed armadillo                   858.0  low  "
      ]
     },
     "execution_count": 20,
     "metadata": {},
     "output_type": "execute_result"
    }
   ],
   "source": [
    "#msleep에 red_list를 join 한다.\n",
    "#msleep 데이터의 보존을 위해선 left outer join을 해야하나, \n",
    "#join되는 칼럼명의 도메인이 red_list의 unknown을 제외하곤 동일하기에 inner를 사용한다.(옵션 명시 안하면 inner join)\n",
    "msleep = pd.merge(msleep, red_list, on='conservation')\n",
    "\n",
    "#출력 결과값의 인덱스 칼럼이 name으로 지정되어있으므로, 바꿔준다.\n",
    "msleep.index = msleep['name']\n",
    "\n",
    "#데이터 앞부분 확인\n",
    "msleep.head()"
   ]
  },
  {
   "cell_type": "markdown",
   "id": "cbad0f29",
   "metadata": {},
   "source": [
    "### 문제. 멸종 위기(risk)가 높은지 낮은지 없는지에 따라 깨어있는 시간(awake) 분포를 막대그래프로 다음과 같이 출력해보세요.\n",
    "- 투명도는 멸종 위기가 높은 경우 0.7, 낮은 경우 0.5, 없는 경우 0.3으로 지정하세요."
   ]
  },
  {
   "cell_type": "code",
   "execution_count": 26,
   "id": "50e0f61a",
   "metadata": {},
   "outputs": [
    {
     "data": {
      "image/png": "[encoded data removed]",
      "text/plain": [
       "<Figure size 640x480 with 1 Axes>"
      ]
     },
     "metadata": {},
     "output_type": "display_data"
    }
   ],
   "source": [
    "#high, low, non 별로 Row를 추출해 임시 데이터프레임에 담는다.\n",
    "high_risk = msleep[msleep['risk'] == 'high']\n",
    "low_risk = msleep[msleep['risk'] == 'low']\n",
    "non_risk = msleep[msleep['risk'] == 'non']\n",
    "\n",
    "#각 데이터프레임의 awake 칼럼의 히스토그램을 그린다.\n",
    "high_risk['awake'].hist(alpha=0.7, label='high risk')\n",
    "low_risk['awake'].hist(alpha=0.5, label='low risk')\n",
    "non_risk['awake'].hist(alpha=0.3, label='non risk')\n",
    "\n",
    "#범례표시\n",
    "plt.legend()"
   ]
  }
 ],
 "metadata": {
  "kernelspec": {
   "display_name": "Python 3 (ipykernel)",
   "language": "python",
   "name": "python3"
  },
  "language_info": {
   "codemirror_mode": {
    "name": "ipython",
    "version": 3
   },
   "file_extension": ".py",
   "mimetype": "text/x-python",
   "name": "python",
   "nbconvert_exporter": "python",
   "pygments_lexer": "ipython3",
   "version": "3.9.13"
  },
  "toc": {
   "base_numbering": 1,
   "nav_menu": {},
   "number_sections": true,
   "sideBar": true,
   "skip_h1_title": false,
   "title_cell": "Table of Contents",
   "title_sidebar": "Contents",
   "toc_cell": false,
   "toc_position": {
    "height": "calc(100% - 180px)",
    "left": "10px",
    "top": "150px",
    "width": "288px"
   },
   "toc_section_display": true,
   "toc_window_display": true
  }
 },
 "nbformat": 4,
 "nbformat_minor": 5
}
