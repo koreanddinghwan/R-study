{
 "cells": [
  {
   "cell_type": "code",
   "execution_count": null,
   "id": "b03c0936",
   "metadata": {},
   "outputs": [],
   "source": [
    "1 + 2"
   ]
  },
  {
   "cell_type": "markdown",
   "id": "8c126f88",
   "metadata": {},
   "source": [
    "# 1\n",
    "## 2\n",
    "### 3\n",
    "#### 4\n",
    "\n",
    "우측상단의 code를 markdown으로 변경.\n",
    "        "
   ]
  },
  {
   "cell_type": "markdown",
   "id": "9e995870",
   "metadata": {},
   "source": [
    "# edit mode 실행\n",
    "\n",
    "1.shift enter\n",
    "2.ctrl enter\n",
    "3.alt enter"
   ]
  },
  {
   "cell_type": "markdown",
   "id": "bb1008a4",
   "metadata": {},
   "source": [
    "단축키확인 -> command)h"
   ]
  },
  {
   "cell_type": "code",
   "execution_count": null,
   "id": "894bc37c",
   "metadata": {},
   "outputs": [],
   "source": [
    "edit)shift+tab -> tooltip"
   ]
  },
  {
   "cell_type": "code",
   "execution_count": null,
   "id": "dad91d49",
   "metadata": {},
   "outputs": [],
   "source": [
    "!pip install jupyterthemes"
   ]
  },
  {
   "cell_type": "markdown",
   "id": "94a3bf58",
   "metadata": {},
   "source": [
    "```term\n",
    "(base) randpython/8weeks [ jt -l             master * ] 8:32 PM\n",
    "Available Themes:\n",
    "   chesterish\n",
    "   grade3\n",
    "   gruvboxd\n",
    "   gruvboxl\n",
    "   monokai\n",
    "   oceans16\n",
    "   onedork\n",
    "   solarizedd\n",
    "   solarizedl\n",
    "(base) randpython/8weeks [ jt -t             master * ] 8:32 PM\n",
    "usage: jt [-h] [-l] [-t THEME] [-f MONOFONT] [-fs MONOSIZE]\n",
    "          [-nf NBFONT] [-nfs NBFONTSIZE] [-tf TCFONT]\n",
    "          [-tfs TCFONTSIZE] [-dfs DFFONTSIZE]\n",
    "          [-ofs OUTFONTSIZE] [-mathfs MATHFONTSIZE]\n",
    "          [-m MARGINS] [-cursw CURSORWIDTH]\n",
    "          [-cursc CURSORCOLOR] [-cellw CELLWIDTH]\n",
    "          [-lineh LINEHEIGHT] [-altp] [-altmd] [-altout] [-P]\n",
    "          [-T] [-N] [-kl] [-vim] [-r] [-dfonts]\n",
    "jt: error: argument -t/--theme: expected one argument\n",
    "(base) randpython/8weeks [ jt -t onedork -T\n",
    "```\n",
    "\n",
    "-T를 넣어줘야 툴바가 보임."
   ]
  },
  {
   "cell_type": "markdown",
   "id": "02f61704",
   "metadata": {},
   "source": [
    "!를 붙이고 pip install을 하는 이유는 pip install을 터미널에서 하는 것처럼 해달라는 의미  \n",
    "[shell command로 실행](https://jakevdp.github.io/blog/2017/12/05/installing-python-packages-from-jupyter/)\n",
    "\n"
   ]
  },
  {
   "cell_type": "markdown",
   "id": "9fda597b",
   "metadata": {},
   "source": [
    "# data type\n",
    "\n",
    "## 숫자\n",
    "\n",
    "1. 정수형, 실수형\n",
    "2. 산술연산자\n",
    "    - 사칙연산\n",
    "    - 제곱\n",
    "    - 나머지, 몫\n",
    "3. 할당연산자"
   ]
  },
  {
   "cell_type": "code",
   "execution_count": null,
   "id": "e7f29144",
   "metadata": {
    "ExecuteTime": {
     "end_time": "2022-10-27T11:54:33.585163Z",
     "start_time": "2022-10-27T11:54:33.576132Z"
    }
   },
   "outputs": [],
   "source": [
    "a = 1\n",
    "print(a)\n",
    "\n",
    "b = 2\n",
    "b"
   ]
  },
  {
   "cell_type": "code",
   "execution_count": null,
   "id": "ceb6dd2d",
   "metadata": {
    "ExecuteTime": {
     "end_time": "2022-10-27T11:54:34.376383Z",
     "start_time": "2022-10-27T11:54:34.371375Z"
    }
   },
   "outputs": [],
   "source": [
    "a + b"
   ]
  },
  {
   "cell_type": "code",
   "execution_count": null,
   "id": "64ab58ad",
   "metadata": {
    "ExecuteTime": {
     "end_time": "2022-10-27T11:54:34.567962Z",
     "start_time": "2022-10-27T11:54:34.563139Z"
    }
   },
   "outputs": [],
   "source": [
    "a - b"
   ]
  },
  {
   "cell_type": "code",
   "execution_count": null,
   "id": "10f6f4f8",
   "metadata": {
    "ExecuteTime": {
     "end_time": "2022-10-27T11:54:36.773206Z",
     "start_time": "2022-10-27T11:54:36.768572Z"
    }
   },
   "outputs": [],
   "source": [
    "a * b"
   ]
  },
  {
   "cell_type": "code",
   "execution_count": null,
   "id": "8c627a19",
   "metadata": {
    "ExecuteTime": {
     "end_time": "2022-10-27T11:54:37.008079Z",
     "start_time": "2022-10-27T11:54:37.002601Z"
    }
   },
   "outputs": [],
   "source": [
    "a / b"
   ]
  },
  {
   "cell_type": "code",
   "execution_count": null,
   "id": "5038ffc9",
   "metadata": {
    "ExecuteTime": {
     "end_time": "2022-10-27T11:54:38.167208Z",
     "start_time": "2022-10-27T11:54:38.162480Z"
    }
   },
   "outputs": [],
   "source": [
    "a % b"
   ]
  },
  {
   "cell_type": "code",
   "execution_count": null,
   "id": "b47145bb",
   "metadata": {
    "ExecuteTime": {
     "end_time": "2022-10-27T11:54:55.711748Z",
     "start_time": "2022-10-27T11:54:55.706370Z"
    }
   },
   "outputs": [],
   "source": [
    "a = 3\n",
    "b = 4\n",
    "a ** b"
   ]
  },
  {
   "cell_type": "markdown",
   "id": "aee20ec8",
   "metadata": {},
   "source": [
    "## 문자열\n",
    "\n",
    "2. 여러 줄 문자열\n",
    "3. 문자열 연산\n",
    "4. 문자열 인덱싱, 슬라이싱\n",
    "5. 문자열 포매팅\n",
    "6. \n"
   ]
  },
  {
   "cell_type": "markdown",
   "id": "3198f3f8",
   "metadata": {},
   "source": [
    "### 문자열 만들기 4가지"
   ]
  },
  {
   "cell_type": "code",
   "execution_count": null,
   "id": "3602adb4",
   "metadata": {
    "ExecuteTime": {
     "end_time": "2022-10-27T12:06:13.433143Z",
     "start_time": "2022-10-27T12:06:13.427135Z"
    }
   },
   "outputs": [],
   "source": [
    "\"hello\""
   ]
  },
  {
   "cell_type": "code",
   "execution_count": null,
   "id": "f92b00aa",
   "metadata": {
    "ExecuteTime": {
     "end_time": "2022-10-27T11:58:02.398922Z",
     "start_time": "2022-10-27T11:58:02.394272Z"
    }
   },
   "outputs": [],
   "source": [
    "'hello'"
   ]
  },
  {
   "cell_type": "code",
   "execution_count": null,
   "id": "226316e4",
   "metadata": {
    "ExecuteTime": {
     "end_time": "2022-10-27T11:58:06.285710Z",
     "start_time": "2022-10-27T11:58:06.279150Z"
    }
   },
   "outputs": [],
   "source": [
    "'''hello'''"
   ]
  },
  {
   "cell_type": "code",
   "execution_count": null,
   "id": "e1d9b3b3",
   "metadata": {
    "ExecuteTime": {
     "end_time": "2022-10-27T11:58:11.371681Z",
     "start_time": "2022-10-27T11:58:11.366106Z"
    }
   },
   "outputs": [],
   "source": [
    "\"\"\"hello\"\"\""
   ]
  },
  {
   "cell_type": "code",
   "execution_count": null,
   "id": "9ca64b81",
   "metadata": {
    "ExecuteTime": {
     "end_time": "2022-10-27T11:58:33.133139Z",
     "start_time": "2022-10-27T11:58:33.128502Z"
    }
   },
   "outputs": [],
   "source": [
    "\"\"\"'hi im kang'\"\"\""
   ]
  },
  {
   "cell_type": "code",
   "execution_count": null,
   "id": "55fabab2",
   "metadata": {
    "ExecuteTime": {
     "end_time": "2022-10-27T11:59:57.742735Z",
     "start_time": "2022-10-27T11:59:57.737820Z"
    }
   },
   "outputs": [],
   "source": [
    "'''\"i'm a student\", he says'''"
   ]
  },
  {
   "cell_type": "code",
   "execution_count": null,
   "id": "441bbf7d",
   "metadata": {
    "ExecuteTime": {
     "end_time": "2022-10-27T12:04:55.785630Z",
     "start_time": "2022-10-27T12:04:55.778722Z"
    }
   },
   "outputs": [],
   "source": [
    "print('''\"i'm a student\", he says''')"
   ]
  },
  {
   "cell_type": "markdown",
   "id": "a6da6e68",
   "metadata": {},
   "source": [
    "### 이스케이프 시퀀스"
   ]
  },
  {
   "cell_type": "code",
   "execution_count": null,
   "id": "9595ebd1",
   "metadata": {
    "ExecuteTime": {
     "end_time": "2022-10-27T12:02:02.447621Z",
     "start_time": "2022-10-27T12:02:02.444268Z"
    }
   },
   "outputs": [],
   "source": [
    "print(\"\"\"\\\"i\\'m a student\\\", he says\"\"\")"
   ]
  },
  {
   "cell_type": "code",
   "execution_count": null,
   "id": "bcb0ece4",
   "metadata": {
    "ExecuteTime": {
     "end_time": "2022-10-27T12:02:20.715410Z",
     "start_time": "2022-10-27T12:02:20.711374Z"
    }
   },
   "outputs": [],
   "source": [
    "print(\"\"\"\\\"i\\'m a student\\\".\\n he says\"\"\")"
   ]
  },
  {
   "cell_type": "code",
   "execution_count": null,
   "id": "99154516",
   "metadata": {
    "ExecuteTime": {
     "end_time": "2022-10-27T12:02:44.400802Z",
     "start_time": "2022-10-27T12:02:44.397333Z"
    }
   },
   "outputs": [],
   "source": [
    "print(\"\"\"\\\"i\\'m a student\\\".\\t he says\"\"\")"
   ]
  },
  {
   "cell_type": "code",
   "execution_count": null,
   "id": "f56e9909",
   "metadata": {
    "ExecuteTime": {
     "end_time": "2022-10-27T12:06:19.812159Z",
     "start_time": "2022-10-27T12:06:19.807993Z"
    }
   },
   "outputs": [],
   "source": [
    "print(\"\"\"\\\"i\\'m a student\\\".\\\\ he says\"\"\")"
   ]
  },
  {
   "cell_type": "markdown",
   "id": "88a6b4b3",
   "metadata": {},
   "source": [
    "### 문자열 연산"
   ]
  },
  {
   "cell_type": "code",
   "execution_count": null,
   "id": "bf94cc37",
   "metadata": {
    "ExecuteTime": {
     "end_time": "2022-10-27T12:03:40.815396Z",
     "start_time": "2022-10-27T12:03:40.810345Z"
    }
   },
   "outputs": [],
   "source": [
    "a = \"apple\"\n",
    "b = \"banana\"\n",
    "\n",
    "a + b"
   ]
  },
  {
   "cell_type": "code",
   "execution_count": null,
   "id": "bc7eb166",
   "metadata": {
    "ExecuteTime": {
     "end_time": "2022-10-27T12:04:35.417271Z",
     "start_time": "2022-10-27T12:04:35.410444Z"
    }
   },
   "outputs": [],
   "source": [
    "a = \"apple\"\n",
    "b = 3\n",
    "a * b\n",
    "\n",
    "print(\"=\" * 50)\n",
    "print(\"result\")\n",
    "print(\"=\" * 50)"
   ]
  },
  {
   "cell_type": "code",
   "execution_count": null,
   "id": "7913dac0",
   "metadata": {
    "ExecuteTime": {
     "end_time": "2022-10-27T12:04:43.218526Z",
     "start_time": "2022-10-27T12:04:43.213845Z"
    }
   },
   "outputs": [],
   "source": [
    "\"+\" * 50\n",
    "\"result\""
   ]
  },
  {
   "cell_type": "code",
   "execution_count": null,
   "id": "1e31a061",
   "metadata": {
    "ExecuteTime": {
     "end_time": "2022-10-27T12:19:36.133412Z",
     "start_time": "2022-10-27T12:19:36.128372Z"
    }
   },
   "outputs": [],
   "source": [
    "a = \"life is too short\"\n",
    "\n",
    "len(a)\n",
    "#함수 코드블럭 + shift-tab\n"
   ]
  },
  {
   "cell_type": "markdown",
   "id": "30ce0a61",
   "metadata": {},
   "source": [
    "### 문자열 인덱싱"
   ]
  },
  {
   "cell_type": "code",
   "execution_count": null,
   "id": "1823e991",
   "metadata": {
    "ExecuteTime": {
     "end_time": "2022-10-27T12:22:22.050442Z",
     "start_time": "2022-10-27T12:22:22.042437Z"
    }
   },
   "outputs": [],
   "source": [
    "print(a[0])\n",
    "print(a[3])\n",
    "print(a[5])\n",
    "print(a[-1])\n",
    "print(a[-2])\n",
    "print(a[16])\n",
    "\n",
    "b = \"life\"\n",
    "print(b[-1])\n",
    "print(b[1])\n"
   ]
  },
  {
   "cell_type": "markdown",
   "id": "38780353",
   "metadata": {},
   "source": [
    "### 문자열 슬라이싱\n"
   ]
  },
  {
   "cell_type": "code",
   "execution_count": null,
   "id": "349f9b35",
   "metadata": {
    "ExecuteTime": {
     "end_time": "2022-10-27T12:26:18.153743Z",
     "start_time": "2022-10-27T12:26:18.148865Z"
    }
   },
   "outputs": [],
   "source": [
    "#0이사 4미만\n",
    "a[0:4]"
   ]
  },
  {
   "cell_type": "code",
   "execution_count": null,
   "id": "082dd3ad",
   "metadata": {
    "ExecuteTime": {
     "end_time": "2022-10-27T12:26:29.443665Z",
     "start_time": "2022-10-27T12:26:29.438766Z"
    }
   },
   "outputs": [],
   "source": [
    "a[5:7]"
   ]
  },
  {
   "cell_type": "code",
   "execution_count": null,
   "id": "3d040fe0",
   "metadata": {
    "ExecuteTime": {
     "end_time": "2022-10-27T12:26:37.661804Z",
     "start_time": "2022-10-27T12:26:37.655759Z"
    }
   },
   "outputs": [],
   "source": [
    "a[5:17]"
   ]
  },
  {
   "cell_type": "code",
   "execution_count": null,
   "id": "7822e6f3",
   "metadata": {
    "ExecuteTime": {
     "end_time": "2022-10-27T12:26:41.209653Z",
     "start_time": "2022-10-27T12:26:41.205063Z"
    }
   },
   "outputs": [],
   "source": [
    "a[5:]"
   ]
  },
  {
   "cell_type": "code",
   "execution_count": null,
   "id": "0f50b9e4",
   "metadata": {
    "ExecuteTime": {
     "end_time": "2022-10-27T12:26:48.372692Z",
     "start_time": "2022-10-27T12:26:48.367283Z"
    }
   },
   "outputs": [],
   "source": [
    "a[:5]"
   ]
  },
  {
   "cell_type": "code",
   "execution_count": null,
   "id": "de1eb3c3",
   "metadata": {
    "ExecuteTime": {
     "end_time": "2022-10-27T12:26:54.354140Z",
     "start_time": "2022-10-27T12:26:54.349323Z"
    }
   },
   "outputs": [],
   "source": [
    "a[:]"
   ]
  },
  {
   "cell_type": "code",
   "execution_count": null,
   "id": "805f8aea",
   "metadata": {
    "ExecuteTime": {
     "end_time": "2022-10-27T12:26:59.531054Z",
     "start_time": "2022-10-27T12:26:59.525072Z"
    }
   },
   "outputs": [],
   "source": [
    "a[:-1]"
   ]
  },
  {
   "cell_type": "code",
   "execution_count": null,
   "id": "0446744a",
   "metadata": {
    "ExecuteTime": {
     "end_time": "2022-10-27T12:27:20.723882Z",
     "start_time": "2022-10-27T12:27:20.718619Z"
    }
   },
   "outputs": [],
   "source": [
    "a[-1:]"
   ]
  },
  {
   "cell_type": "code",
   "execution_count": null,
   "id": "c410b546",
   "metadata": {
    "ExecuteTime": {
     "end_time": "2022-10-27T12:27:50.095217Z",
     "start_time": "2022-10-27T12:27:50.089732Z"
    }
   },
   "outputs": [],
   "source": [
    "a[-5:-1]"
   ]
  },
  {
   "cell_type": "code",
   "execution_count": null,
   "id": "329b0562",
   "metadata": {
    "ExecuteTime": {
     "end_time": "2022-10-27T12:27:55.941217Z",
     "start_time": "2022-10-27T12:27:55.936186Z"
    }
   },
   "outputs": [],
   "source": [
    "a[-5:]"
   ]
  },
  {
   "cell_type": "code",
   "execution_count": null,
   "id": "b8f58365",
   "metadata": {
    "ExecuteTime": {
     "end_time": "2022-10-27T12:30:55.460897Z",
     "start_time": "2022-10-27T12:30:55.451144Z"
    }
   },
   "outputs": [],
   "source": [
    "data = \"20220421Sunny\"\n",
    "year = data[0:4]\n",
    "month = data[4:6]\n",
    "day = data[6:8]\n",
    "weather = data[8:]\n",
    "print(year, month, day, weather)"
   ]
  },
  {
   "cell_type": "markdown",
   "id": "27331bde",
   "metadata": {},
   "source": [
    "### 문자열 포매팅"
   ]
  },
  {
   "cell_type": "code",
   "execution_count": null,
   "id": "ec8dcb8d",
   "metadata": {
    "ExecuteTime": {
     "end_time": "2022-10-27T12:31:42.804889Z",
     "start_time": "2022-10-27T12:31:42.799872Z"
    }
   },
   "outputs": [],
   "source": [
    "#대입\n",
    "\"I eat %d apples.\" % 3"
   ]
  },
  {
   "cell_type": "code",
   "execution_count": null,
   "id": "a8af10e3",
   "metadata": {
    "ExecuteTime": {
     "end_time": "2022-10-27T12:32:08.019805Z",
     "start_time": "2022-10-27T12:32:08.014808Z"
    }
   },
   "outputs": [],
   "source": [
    "\"I eat %s apples.\" % \"three\""
   ]
  },
  {
   "cell_type": "code",
   "execution_count": null,
   "id": "1bc6effd",
   "metadata": {
    "ExecuteTime": {
     "end_time": "2022-10-27T12:32:33.185035Z",
     "start_time": "2022-10-27T12:32:33.181020Z"
    }
   },
   "outputs": [],
   "source": [
    "print(\"I eat %s apples\" % \"three\")"
   ]
  },
  {
   "cell_type": "code",
   "execution_count": null,
   "id": "f2c7bf94",
   "metadata": {
    "ExecuteTime": {
     "end_time": "2022-10-27T12:32:51.707990Z",
     "start_time": "2022-10-27T12:32:51.704376Z"
    }
   },
   "outputs": [],
   "source": [
    "num = 3\n",
    "print(\"I eat %d apples.\" % num)"
   ]
  },
  {
   "cell_type": "code",
   "execution_count": null,
   "id": "b6ca1d21",
   "metadata": {
    "ExecuteTime": {
     "end_time": "2022-10-27T12:33:38.982435Z",
     "start_time": "2022-10-27T12:33:38.976380Z"
    }
   },
   "outputs": [],
   "source": [
    "num = 10\n",
    "day = \"three\"\n",
    "print(\"I ate %d apples. so i was sick for %s days\" %(num, day))"
   ]
  },
  {
   "cell_type": "code",
   "execution_count": null,
   "id": "e8fe6476",
   "metadata": {
    "ExecuteTime": {
     "end_time": "2022-10-27T12:35:01.355979Z",
     "start_time": "2022-10-27T12:35:01.351068Z"
    }
   },
   "outputs": [],
   "source": [
    "accuracy_rate = 90\n",
    "print(\"Error is %d%%\" % accuracy_rate)"
   ]
  },
  {
   "cell_type": "code",
   "execution_count": null,
   "id": "9ba9d7ab",
   "metadata": {
    "ExecuteTime": {
     "end_time": "2022-10-27T12:35:24.034159Z",
     "start_time": "2022-10-27T12:35:24.027721Z"
    }
   },
   "outputs": [],
   "source": [
    "# 포매팅\n",
    "\"%10s포매팅\" % \"hi\""
   ]
  },
  {
   "cell_type": "code",
   "execution_count": null,
   "id": "4491913e",
   "metadata": {
    "ExecuteTime": {
     "end_time": "2022-10-27T12:35:34.240540Z",
     "start_time": "2022-10-27T12:35:34.235496Z"
    }
   },
   "outputs": [],
   "source": [
    "\"%-10s포매팅\" % \"hi\""
   ]
  },
  {
   "cell_type": "code",
   "execution_count": null,
   "id": "83c8eb37",
   "metadata": {
    "ExecuteTime": {
     "end_time": "2022-10-27T12:35:55.947401Z",
     "start_time": "2022-10-27T12:35:55.939895Z"
    }
   },
   "outputs": [],
   "source": [
    "\"%10f\" % 3.42"
   ]
  },
  {
   "cell_type": "code",
   "execution_count": null,
   "id": "ec35868a",
   "metadata": {
    "ExecuteTime": {
     "end_time": "2022-10-27T12:36:08.149750Z",
     "start_time": "2022-10-27T12:36:08.143749Z"
    }
   },
   "outputs": [],
   "source": [
    "\"%-10f\" % 3.42"
   ]
  },
  {
   "cell_type": "code",
   "execution_count": null,
   "id": "ab7261ac",
   "metadata": {
    "ExecuteTime": {
     "end_time": "2022-10-27T12:36:39.138279Z",
     "start_time": "2022-10-27T12:36:39.133587Z"
    }
   },
   "outputs": [],
   "source": [
    "\"%.4f\" % 3.42"
   ]
  },
  {
   "cell_type": "code",
   "execution_count": null,
   "id": "139a6cee",
   "metadata": {
    "ExecuteTime": {
     "end_time": "2022-10-27T12:37:06.626258Z",
     "start_time": "2022-10-27T12:37:06.621379Z"
    }
   },
   "outputs": [],
   "source": [
    "\"I eat {0} apples\".format(3)"
   ]
  },
  {
   "cell_type": "code",
   "execution_count": null,
   "id": "ad6f9dca",
   "metadata": {
    "ExecuteTime": {
     "end_time": "2022-10-27T12:37:20.362816Z",
     "start_time": "2022-10-27T12:37:20.357911Z"
    }
   },
   "outputs": [],
   "source": [
    "\"I eat {0} apples\".format(\"three\")\n"
   ]
  },
  {
   "cell_type": "code",
   "execution_count": null,
   "id": "fc4de22d",
   "metadata": {
    "ExecuteTime": {
     "end_time": "2022-10-27T12:37:38.952722Z",
     "start_time": "2022-10-27T12:37:38.947378Z"
    }
   },
   "outputs": [],
   "source": [
    "num = 3\n",
    "\"I eat {} apples\".format(num)"
   ]
  },
  {
   "cell_type": "code",
   "execution_count": null,
   "id": "a75fd320",
   "metadata": {
    "ExecuteTime": {
     "end_time": "2022-10-27T12:38:00.884384Z",
     "start_time": "2022-10-27T12:38:00.878636Z"
    }
   },
   "outputs": [],
   "source": [
    "num = 3\n",
    "num2 = 4\n",
    "\"I eat {} apples and {} pears\".format(num, num2)"
   ]
  },
  {
   "cell_type": "code",
   "execution_count": null,
   "id": "a531be36",
   "metadata": {
    "ExecuteTime": {
     "end_time": "2022-10-27T12:38:54.003561Z",
     "start_time": "2022-10-27T12:38:53.998066Z"
    }
   },
   "outputs": [],
   "source": [
    "# 중괄호 안의 변수명을 .format의 변수병과 일치시킴\n",
    "# 달라도 상관은 없지만 같아야 인식하기 쉬움\n",
    "\"I eat {num2} apples and {num2} pears\".format(num = 3, num2 = 2)"
   ]
  },
  {
   "cell_type": "code",
   "execution_count": null,
   "id": "d896a3ab",
   "metadata": {
    "ExecuteTime": {
     "end_time": "2022-10-27T12:39:45.204889Z",
     "start_time": "2022-10-27T12:39:45.201977Z"
    }
   },
   "outputs": [],
   "source": [
    "a = \"apple\""
   ]
  },
  {
   "cell_type": "code",
   "execution_count": null,
   "id": "4b6bcc45",
   "metadata": {
    "ExecuteTime": {
     "end_time": "2022-10-27T12:40:07.416962Z",
     "start_time": "2022-10-27T12:40:07.409483Z"
    }
   },
   "outputs": [],
   "source": [
    "# 문자열에서 해당하는 값 개수\n",
    "a.count(\"p\")"
   ]
  },
  {
   "cell_type": "code",
   "execution_count": null,
   "id": "51c4af1c",
   "metadata": {
    "ExecuteTime": {
     "end_time": "2022-10-27T12:40:57.677245Z",
     "start_time": "2022-10-27T12:40:57.671882Z"
    }
   },
   "outputs": [],
   "source": [
    "# 문자열 위치 찾기\n",
    "a.find(\"a\")\n"
   ]
  },
  {
   "cell_type": "code",
   "execution_count": null,
   "id": "c49d25e2",
   "metadata": {
    "ExecuteTime": {
     "end_time": "2022-10-27T12:40:56.405634Z",
     "start_time": "2022-10-27T12:40:56.400767Z"
    }
   },
   "outputs": [],
   "source": [
    "a.index(\"a\")"
   ]
  },
  {
   "cell_type": "code",
   "execution_count": null,
   "id": "e9d0af1a",
   "metadata": {
    "ExecuteTime": {
     "end_time": "2022-10-27T12:41:31.785132Z",
     "start_time": "2022-10-27T12:41:31.755530Z"
    }
   },
   "outputs": [],
   "source": [
    "# 차이\n",
    "print(a.find(\"q\"))\n",
    "print(a.index(\"q\"))"
   ]
  },
  {
   "cell_type": "code",
   "execution_count": null,
   "id": "0e764de4",
   "metadata": {
    "ExecuteTime": {
     "end_time": "2022-10-27T12:42:51.243296Z",
     "start_time": "2022-10-27T12:42:51.236338Z"
    }
   },
   "outputs": [],
   "source": [
    "# 문자열 수정\n",
    "\n",
    "print(\".\".join(\"abcd\"))\n",
    "print(\" \".join(\"abcd\"))\n",
    "print(\"hi\".upper())\n",
    "print(\"HI\".lower())\n"
   ]
  },
  {
   "cell_type": "code",
   "execution_count": null,
   "id": "ad65ac98",
   "metadata": {
    "ExecuteTime": {
     "end_time": "2022-10-27T12:44:51.282744Z",
     "start_time": "2022-10-27T12:44:51.275410Z"
    }
   },
   "outputs": [],
   "source": [
    "a = \" hi \"\n",
    "print(\"\\\"\", a, \"\\\"\")\n",
    "print(\"\\\"\", a.lstrip(\" \"), \"\\\"\")\n",
    "print(\"\\\"\", a.rstrip(\" \"), \"\\\"\")\n",
    "print(\"\\\"\", a.strip(\" \"), \"\\\"\")"
   ]
  },
  {
   "cell_type": "code",
   "execution_count": null,
   "id": "b1e92966",
   "metadata": {
    "ExecuteTime": {
     "end_time": "2022-10-27T12:47:41.648663Z",
     "start_time": "2022-10-27T12:47:41.642169Z"
    }
   },
   "outputs": [],
   "source": [
    "a = \"a is apple. c is banana\"\n",
    "print(a.replace(\"c\", \"b\"))\n",
    "print(a) #재할당해줘야함\n",
    "\n",
    "a = a.replace(\"c is\", \"b is\")\n",
    "print(a)\n",
    "\n"
   ]
  },
  {
   "cell_type": "code",
   "execution_count": null,
   "id": "840f1df9",
   "metadata": {
    "ExecuteTime": {
     "end_time": "2022-10-27T12:49:54.329324Z",
     "start_time": "2022-10-27T12:49:54.324195Z"
    }
   },
   "outputs": [],
   "source": [
    "#문자열 스플릿\n",
    "#리스트로 반환함.\n",
    "print(a)\n",
    "print(a.split('.'))\n",
    "\n"
   ]
  },
  {
   "cell_type": "markdown",
   "id": "3bca7038",
   "metadata": {},
   "source": [
    "## 리스트"
   ]
  },
  {
   "cell_type": "markdown",
   "id": "79b5a428",
   "metadata": {},
   "source": [
    "### 리스트 만들고 사용하기"
   ]
  },
  {
   "cell_type": "code",
   "execution_count": null,
   "id": "f13352ec",
   "metadata": {
    "ExecuteTime": {
     "end_time": "2022-10-30T07:30:02.529936Z",
     "start_time": "2022-10-30T07:30:02.521874Z"
    }
   },
   "outputs": [],
   "source": [
    "a = []\n",
    "b = [1,2,3]\n",
    "c = ['1','b','c',4]\n",
    "d = [[1,2,], [3,4]]\n",
    "\n",
    "print(a)\n",
    "print(b)\n",
    "print(c)\n",
    "print(d)"
   ]
  },
  {
   "cell_type": "markdown",
   "id": "fcd11d28",
   "metadata": {},
   "source": [
    "### 리스트 인덱싱과 슬라이싱"
   ]
  },
  {
   "cell_type": "code",
   "execution_count": null,
   "id": "00cac51b",
   "metadata": {
    "ExecuteTime": {
     "end_time": "2022-10-30T07:31:10.833681Z",
     "start_time": "2022-10-30T07:31:10.826597Z"
    }
   },
   "outputs": [],
   "source": [
    "print(b[1])\n",
    "print(d[1])\n",
    "b[0]"
   ]
  },
  {
   "cell_type": "code",
   "execution_count": null,
   "id": "e10780b1",
   "metadata": {
    "ExecuteTime": {
     "end_time": "2022-10-30T07:31:16.664109Z",
     "start_time": "2022-10-30T07:31:16.658570Z"
    }
   },
   "outputs": [],
   "source": [
    "b[-1]"
   ]
  },
  {
   "cell_type": "code",
   "execution_count": null,
   "id": "801171c7",
   "metadata": {
    "ExecuteTime": {
     "end_time": "2022-10-30T07:31:34.483994Z",
     "start_time": "2022-10-30T07:31:34.478171Z"
    }
   },
   "outputs": [],
   "source": [
    "d[0][1]"
   ]
  },
  {
   "cell_type": "code",
   "execution_count": null,
   "id": "bd35bd66",
   "metadata": {
    "ExecuteTime": {
     "end_time": "2022-10-30T07:31:40.352929Z",
     "start_time": "2022-10-30T07:31:40.347894Z"
    }
   },
   "outputs": [],
   "source": [
    "d[1][0]"
   ]
  },
  {
   "cell_type": "code",
   "execution_count": null,
   "id": "8fdcedbf",
   "metadata": {
    "ExecuteTime": {
     "end_time": "2022-10-30T07:32:26.592602Z",
     "start_time": "2022-10-30T07:32:26.585002Z"
    }
   },
   "outputs": [],
   "source": [
    "a = [1,2,3,4,5]\n",
    "\n",
    "a[0:3]"
   ]
  },
  {
   "cell_type": "code",
   "execution_count": null,
   "id": "3a481170",
   "metadata": {
    "ExecuteTime": {
     "end_time": "2022-10-30T07:32:33.717349Z",
     "start_time": "2022-10-30T07:32:33.711003Z"
    }
   },
   "outputs": [],
   "source": [
    "a[:3]"
   ]
  },
  {
   "cell_type": "code",
   "execution_count": null,
   "id": "d196ae90",
   "metadata": {
    "ExecuteTime": {
     "end_time": "2022-10-30T07:32:45.463507Z",
     "start_time": "2022-10-30T07:32:45.457498Z"
    }
   },
   "outputs": [],
   "source": [
    "a[2:4]"
   ]
  },
  {
   "cell_type": "code",
   "execution_count": null,
   "id": "465182b6",
   "metadata": {
    "ExecuteTime": {
     "end_time": "2022-10-30T07:33:00.029317Z",
     "start_time": "2022-10-30T07:33:00.022518Z"
    }
   },
   "outputs": [],
   "source": [
    "a[3:]"
   ]
  },
  {
   "cell_type": "code",
   "execution_count": null,
   "id": "d108314d",
   "metadata": {
    "ExecuteTime": {
     "end_time": "2022-10-30T07:36:05.121384Z",
     "start_time": "2022-10-30T07:36:05.113749Z"
    }
   },
   "outputs": [],
   "source": [
    "a = [1,2,3,['a','b','c'],4,5]\n",
    "a[2:5]"
   ]
  },
  {
   "cell_type": "markdown",
   "id": "460d2458",
   "metadata": {},
   "source": [
    "### 리스트연산하기"
   ]
  },
  {
   "cell_type": "code",
   "execution_count": null,
   "id": "0bab7b89",
   "metadata": {
    "ExecuteTime": {
     "end_time": "2022-10-30T07:34:24.949214Z",
     "start_time": "2022-10-30T07:34:24.942832Z"
    }
   },
   "outputs": [],
   "source": [
    "a = [1,2,3]\n",
    "b = [4,5,6]\n",
    "a + b "
   ]
  },
  {
   "cell_type": "code",
   "execution_count": null,
   "id": "2294f3a0",
   "metadata": {
    "ExecuteTime": {
     "end_time": "2022-10-30T07:34:27.615496Z",
     "start_time": "2022-10-30T07:34:27.609902Z"
    }
   },
   "outputs": [],
   "source": [
    "a * 3"
   ]
  },
  {
   "cell_type": "code",
   "execution_count": null,
   "id": "d8c14ffe",
   "metadata": {
    "ExecuteTime": {
     "end_time": "2022-10-30T07:36:28.474399Z",
     "start_time": "2022-10-30T07:36:28.468308Z"
    }
   },
   "outputs": [],
   "source": [
    "len(a)"
   ]
  },
  {
   "cell_type": "markdown",
   "id": "8ff750a3",
   "metadata": {},
   "source": [
    "### 리스트의 수정과 삭제"
   ]
  },
  {
   "cell_type": "code",
   "execution_count": null,
   "id": "0065dd3d",
   "metadata": {
    "ExecuteTime": {
     "end_time": "2022-10-30T07:35:12.422297Z",
     "start_time": "2022-10-30T07:35:12.418587Z"
    }
   },
   "outputs": [],
   "source": [
    "a[2] = 4"
   ]
  },
  {
   "cell_type": "code",
   "execution_count": null,
   "id": "b6123b0b",
   "metadata": {
    "ExecuteTime": {
     "end_time": "2022-10-30T07:35:14.088455Z",
     "start_time": "2022-10-30T07:35:14.082702Z"
    }
   },
   "outputs": [],
   "source": [
    "a"
   ]
  },
  {
   "cell_type": "code",
   "execution_count": null,
   "id": "1729690f",
   "metadata": {
    "ExecuteTime": {
     "end_time": "2022-10-30T07:36:41.612954Z",
     "start_time": "2022-10-30T07:36:41.584125Z"
    }
   },
   "outputs": [],
   "source": [
    "str1 = \"asdf\"\n",
    "str1[0] = 'c'"
   ]
  },
  {
   "cell_type": "markdown",
   "id": "86d28795",
   "metadata": {},
   "source": [
    "### 리스트 관련 함수"
   ]
  },
  {
   "cell_type": "code",
   "execution_count": null,
   "id": "fce97946",
   "metadata": {
    "ExecuteTime": {
     "end_time": "2022-10-30T07:39:08.204195Z",
     "start_time": "2022-10-30T07:39:08.198071Z"
    }
   },
   "outputs": [],
   "source": [
    "a = [1,2,3]\n",
    "a.append(4)\n",
    "\n",
    "print(a)"
   ]
  },
  {
   "cell_type": "code",
   "execution_count": null,
   "id": "ca36b6f0",
   "metadata": {
    "ExecuteTime": {
     "end_time": "2022-10-30T07:39:08.393918Z",
     "start_time": "2022-10-30T07:39:08.366173Z"
    }
   },
   "outputs": [],
   "source": [
    "a.append(5,6)"
   ]
  },
  {
   "cell_type": "code",
   "execution_count": null,
   "id": "5bb6578c",
   "metadata": {
    "ExecuteTime": {
     "end_time": "2022-10-30T07:39:08.538226Z",
     "start_time": "2022-10-30T07:39:08.528829Z"
    }
   },
   "outputs": [],
   "source": [
    "a.append(5)\n",
    "a.append(6)\n",
    "\n",
    "a.append([7,8])\n",
    "a"
   ]
  },
  {
   "cell_type": "code",
   "execution_count": null,
   "id": "35ef1df0",
   "metadata": {
    "ExecuteTime": {
     "end_time": "2022-10-30T07:39:08.920826Z",
     "start_time": "2022-10-30T07:39:08.912765Z"
    }
   },
   "outputs": [],
   "source": [
    "a = [1,4,3,2]\n",
    "a.sort()\n",
    "a"
   ]
  },
  {
   "cell_type": "code",
   "execution_count": null,
   "id": "90783de2",
   "metadata": {
    "ExecuteTime": {
     "end_time": "2022-10-30T07:39:10.222509Z",
     "start_time": "2022-10-30T07:39:10.215529Z"
    }
   },
   "outputs": [],
   "source": [
    "a.reverse()\n",
    "a"
   ]
  },
  {
   "cell_type": "code",
   "execution_count": null,
   "id": "d9adcf6e",
   "metadata": {
    "ExecuteTime": {
     "end_time": "2022-10-30T07:39:51.993519Z",
     "start_time": "2022-10-30T07:39:51.986556Z"
    }
   },
   "outputs": [],
   "source": [
    "a.sort()\n",
    "a.sort(reverse=True)\n",
    "a"
   ]
  },
  {
   "cell_type": "code",
   "execution_count": null,
   "id": "5e3387d4",
   "metadata": {
    "ExecuteTime": {
     "end_time": "2022-10-30T07:40:02.529400Z",
     "start_time": "2022-10-30T07:40:02.522142Z"
    }
   },
   "outputs": [],
   "source": [
    "a = [1,2,3]\n",
    "a.index(3)"
   ]
  },
  {
   "cell_type": "code",
   "execution_count": null,
   "id": "cee39de8",
   "metadata": {
    "ExecuteTime": {
     "end_time": "2022-10-30T07:40:38.235139Z",
     "start_time": "2022-10-30T07:40:38.207049Z"
    }
   },
   "outputs": [],
   "source": [
    "a.index(4)"
   ]
  },
  {
   "cell_type": "code",
   "execution_count": null,
   "id": "efed5ee9",
   "metadata": {
    "ExecuteTime": {
     "end_time": "2022-10-30T07:40:39.309272Z",
     "start_time": "2022-10-30T07:40:39.279245Z"
    }
   },
   "outputs": [],
   "source": [
    "a.find(4)"
   ]
  },
  {
   "cell_type": "code",
   "execution_count": null,
   "id": "4510c21a",
   "metadata": {
    "ExecuteTime": {
     "end_time": "2022-10-30T07:41:35.353210Z",
     "start_time": "2022-10-30T07:41:35.344246Z"
    }
   },
   "outputs": [],
   "source": [
    "a = [1,2,4]\n",
    "\n",
    "a.insert(2,3)\n",
    "a"
   ]
  },
  {
   "cell_type": "code",
   "execution_count": null,
   "id": "c0fd7022",
   "metadata": {
    "ExecuteTime": {
     "end_time": "2022-10-30T07:41:46.168694Z",
     "start_time": "2022-10-30T07:41:46.164539Z"
    }
   },
   "outputs": [],
   "source": [
    "a = [1,2,3,1,2,3]\n",
    "a.remove(3)"
   ]
  },
  {
   "cell_type": "code",
   "execution_count": null,
   "id": "c4e4b938",
   "metadata": {
    "ExecuteTime": {
     "end_time": "2022-10-30T07:41:50.564614Z",
     "start_time": "2022-10-30T07:41:50.559471Z"
    }
   },
   "outputs": [],
   "source": [
    "a"
   ]
  },
  {
   "cell_type": "code",
   "execution_count": null,
   "id": "7406773c",
   "metadata": {
    "ExecuteTime": {
     "end_time": "2022-10-30T07:42:15.424272Z",
     "start_time": "2022-10-30T07:42:15.417837Z"
    }
   },
   "outputs": [],
   "source": [
    "a = [1,2,3]\n",
    "a.pop()"
   ]
  },
  {
   "cell_type": "code",
   "execution_count": null,
   "id": "6f665f08",
   "metadata": {
    "ExecuteTime": {
     "end_time": "2022-10-30T07:42:38.165180Z",
     "start_time": "2022-10-30T07:42:38.160108Z"
    }
   },
   "outputs": [],
   "source": [
    "a = [1,2,3,1]\n",
    "\n",
    "a.count(1)"
   ]
  },
  {
   "cell_type": "code",
   "execution_count": null,
   "id": "16c32ad9",
   "metadata": {
    "ExecuteTime": {
     "end_time": "2022-10-30T07:43:35.289608Z",
     "start_time": "2022-10-30T07:43:35.284581Z"
    }
   },
   "outputs": [],
   "source": [
    "#리스트 확장\n",
    "a = [1,2,3]\n",
    "a.extend([4])"
   ]
  },
  {
   "cell_type": "code",
   "execution_count": null,
   "id": "0ebbda71",
   "metadata": {
    "ExecuteTime": {
     "end_time": "2022-10-30T07:43:35.628993Z",
     "start_time": "2022-10-30T07:43:35.623359Z"
    }
   },
   "outputs": [],
   "source": [
    "a"
   ]
  },
  {
   "cell_type": "markdown",
   "id": "022f828d",
   "metadata": {},
   "source": [
    "## 튜플"
   ]
  },
  {
   "cell_type": "markdown",
   "id": "5ac9ea07",
   "metadata": {},
   "source": [
    "### 튜플 vs 리스트"
   ]
  },
  {
   "cell_type": "code",
   "execution_count": null,
   "id": "baa92fe8",
   "metadata": {
    "ExecuteTime": {
     "start_time": "2022-10-30T12:09:05.017Z"
    }
   },
   "outputs": [],
   "source": [
    "t1 = ()\n",
    "t2 = (1)\n",
    "t3 = (1,2,3)\n",
    "t4 = ('a','b',('ab','cd'))\n",
    "print(t1)\n",
    "print(t2)\n",
    "print(t3)\n",
    "print(t4)"
   ]
  },
  {
   "cell_type": "markdown",
   "id": "63812dbf",
   "metadata": {},
   "source": [
    "### 튜플다루기"
   ]
  },
  {
   "cell_type": "code",
   "execution_count": null,
   "id": "972dae26",
   "metadata": {
    "ExecuteTime": {
     "end_time": "2022-10-30T07:49:23.024969Z",
     "start_time": "2022-10-30T07:49:23.017772Z"
    }
   },
   "outputs": [],
   "source": [
    "t3[2]"
   ]
  },
  {
   "cell_type": "code",
   "execution_count": null,
   "id": "59d96a98",
   "metadata": {
    "ExecuteTime": {
     "end_time": "2022-10-30T07:49:23.236697Z",
     "start_time": "2022-10-30T07:49:23.206943Z"
    }
   },
   "outputs": [],
   "source": [
    "#값 못바꿈\n",
    "t3[2] = 4"
   ]
  },
  {
   "cell_type": "code",
   "execution_count": null,
   "id": "84f7e7b1",
   "metadata": {
    "ExecuteTime": {
     "end_time": "2022-10-30T07:49:33.230975Z",
     "start_time": "2022-10-30T07:49:33.224166Z"
    }
   },
   "outputs": [],
   "source": [
    "t3[:2]"
   ]
  },
  {
   "cell_type": "code",
   "execution_count": null,
   "id": "82595083",
   "metadata": {
    "ExecuteTime": {
     "end_time": "2022-10-30T07:50:15.019757Z",
     "start_time": "2022-10-30T07:50:15.014103Z"
    }
   },
   "outputs": [],
   "source": [
    "a = (1,2,3)\n",
    "b = (4,5,6)\n",
    "a * 3"
   ]
  },
  {
   "cell_type": "code",
   "execution_count": null,
   "id": "947dfae1",
   "metadata": {
    "ExecuteTime": {
     "end_time": "2022-10-30T07:50:16.329865Z",
     "start_time": "2022-10-30T07:50:16.323619Z"
    }
   },
   "outputs": [],
   "source": [
    "a + b"
   ]
  },
  {
   "cell_type": "code",
   "execution_count": null,
   "id": "0cc67ced",
   "metadata": {
    "ExecuteTime": {
     "end_time": "2022-10-30T08:56:25.489598Z",
     "start_time": "2022-10-30T08:56:25.475134Z"
    }
   },
   "outputs": [],
   "source": [
    "len(a)"
   ]
  },
  {
   "cell_type": "code",
   "execution_count": null,
   "id": "3a976e3d",
   "metadata": {
    "ExecuteTime": {
     "end_time": "2022-10-30T08:56:42.505775Z",
     "start_time": "2022-10-30T08:56:42.499495Z"
    }
   },
   "outputs": [],
   "source": [
    "a = (1,2,3)\n",
    "b = 1,2,3\n",
    "# 튜플은 괄호안써도 인식됨\n",
    "print(a)\n",
    "print(b)"
   ]
  },
  {
   "cell_type": "markdown",
   "id": "d2b01c35",
   "metadata": {},
   "source": [
    "## 딕셔너리"
   ]
  },
  {
   "cell_type": "markdown",
   "id": "40f879e9",
   "metadata": {
    "ExecuteTime": {
     "end_time": "2022-10-30T08:57:59.488687Z",
     "start_time": "2022-10-30T08:57:59.485279Z"
    }
   },
   "source": [
    "### 딕셔너리란"
   ]
  },
  {
   "cell_type": "code",
   "execution_count": null,
   "id": "e35b50cf",
   "metadata": {
    "ExecuteTime": {
     "end_time": "2022-10-30T09:24:05.954891Z",
     "start_time": "2022-10-30T09:24:05.949470Z"
    }
   },
   "outputs": [],
   "source": [
    "dic = {'name' : 'aaa', 'mobile' : '010-2410-3123', 'birth' : '200428'}"
   ]
  },
  {
   "cell_type": "code",
   "execution_count": null,
   "id": "47166216",
   "metadata": {
    "ExecuteTime": {
     "end_time": "2022-10-30T09:24:09.551475Z",
     "start_time": "2022-10-30T09:24:09.544060Z"
    }
   },
   "outputs": [],
   "source": [
    "dic"
   ]
  },
  {
   "cell_type": "code",
   "execution_count": null,
   "id": "ce33ff20",
   "metadata": {
    "ExecuteTime": {
     "end_time": "2022-10-30T09:24:35.703838Z",
     "start_time": "2022-10-30T09:24:35.699812Z"
    }
   },
   "outputs": [],
   "source": [
    "a = {1 : 3}"
   ]
  },
  {
   "cell_type": "code",
   "execution_count": null,
   "id": "efabea31",
   "metadata": {
    "ExecuteTime": {
     "end_time": "2022-10-30T09:24:48.902071Z",
     "start_time": "2022-10-30T09:24:48.898447Z"
    }
   },
   "outputs": [],
   "source": [
    "a = {1: [1,2,3]}"
   ]
  },
  {
   "cell_type": "code",
   "execution_count": null,
   "id": "406ea8be",
   "metadata": {
    "ExecuteTime": {
     "end_time": "2022-10-30T09:24:56.688318Z",
     "start_time": "2022-10-30T09:24:56.656559Z"
    }
   },
   "outputs": [],
   "source": [
    "a = {[1,2,3] : 1}"
   ]
  },
  {
   "cell_type": "code",
   "execution_count": null,
   "id": "ca75b101",
   "metadata": {},
   "outputs": [],
   "source": [
    "#키:값 쌍에서 키는 숫자혹은 문자여야함\n"
   ]
  },
  {
   "cell_type": "code",
   "execution_count": null,
   "id": "252c6c63",
   "metadata": {},
   "outputs": [],
   "source": []
  },
  {
   "cell_type": "markdown",
   "id": "99928ee6",
   "metadata": {
    "ExecuteTime": {
     "end_time": "2022-10-30T08:58:06.837876Z",
     "start_time": "2022-10-30T08:58:06.832974Z"
    }
   },
   "source": [
    "### 만들기"
   ]
  },
  {
   "cell_type": "markdown",
   "id": "5dc1ff03",
   "metadata": {
    "ExecuteTime": {
     "end_time": "2022-10-30T08:58:22.451834Z",
     "start_time": "2022-10-30T08:58:22.448031Z"
    }
   },
   "source": [
    "### 쌍 추가/삭제 "
   ]
  },
  {
   "cell_type": "code",
   "execution_count": null,
   "id": "bd71c36b",
   "metadata": {
    "ExecuteTime": {
     "end_time": "2022-10-30T10:53:04.700353Z",
     "start_time": "2022-10-30T10:53:04.695916Z"
    }
   },
   "outputs": [],
   "source": [
    "dic['email'] = 'asdf'"
   ]
  },
  {
   "cell_type": "code",
   "execution_count": null,
   "id": "06c4ec87",
   "metadata": {
    "ExecuteTime": {
     "end_time": "2022-10-30T10:53:04.869754Z",
     "start_time": "2022-10-30T10:53:04.862443Z"
    }
   },
   "outputs": [],
   "source": [
    "dic"
   ]
  },
  {
   "cell_type": "code",
   "execution_count": null,
   "id": "4348d1ba",
   "metadata": {
    "ExecuteTime": {
     "end_time": "2022-10-30T10:53:05.138669Z",
     "start_time": "2022-10-30T10:53:05.111566Z"
    }
   },
   "outputs": [],
   "source": [
    "#대괄호로 접근한 키에 값을 할당하면 추가된다.\n",
    "dic['name':1234]"
   ]
  },
  {
   "cell_type": "code",
   "execution_count": null,
   "id": "34d2cb28",
   "metadata": {
    "ExecuteTime": {
     "end_time": "2022-10-30T10:53:05.707877Z",
     "start_time": "2022-10-30T10:53:05.700692Z"
    }
   },
   "outputs": [],
   "source": [
    "dic['name']"
   ]
  },
  {
   "cell_type": "code",
   "execution_count": null,
   "id": "ccbd8720",
   "metadata": {
    "ExecuteTime": {
     "end_time": "2022-10-30T10:29:31.616774Z",
     "start_time": "2022-10-30T10:29:31.613429Z"
    }
   },
   "outputs": [],
   "source": [
    "dic['name'] = 'ppp'"
   ]
  },
  {
   "cell_type": "code",
   "execution_count": null,
   "id": "b2c04022",
   "metadata": {
    "ExecuteTime": {
     "end_time": "2022-10-30T10:29:31.784299Z",
     "start_time": "2022-10-30T10:29:31.777729Z"
    }
   },
   "outputs": [],
   "source": [
    "dic."
   ]
  },
  {
   "cell_type": "markdown",
   "id": "15641a2d",
   "metadata": {
    "ExecuteTime": {
     "end_time": "2022-10-30T08:58:36.836469Z",
     "start_time": "2022-10-30T08:58:36.833639Z"
    }
   },
   "source": [
    "### 관련함수 "
   ]
  },
  {
   "cell_type": "code",
   "execution_count": null,
   "id": "07d6d2d9",
   "metadata": {
    "ExecuteTime": {
     "end_time": "2022-10-30T10:29:46.929310Z",
     "start_time": "2022-10-30T10:29:46.921896Z"
    }
   },
   "outputs": [],
   "source": [
    "dic.keys()\n",
    "#순서가 없음"
   ]
  },
  {
   "cell_type": "code",
   "execution_count": null,
   "id": "6b0eb905",
   "metadata": {
    "ExecuteTime": {
     "end_time": "2022-10-30T10:29:54.049170Z",
     "start_time": "2022-10-30T10:29:54.042816Z"
    }
   },
   "outputs": [],
   "source": [
    "type(dic)"
   ]
  },
  {
   "cell_type": "code",
   "execution_count": null,
   "id": "b6dc60dc",
   "metadata": {
    "ExecuteTime": {
     "end_time": "2022-10-30T10:30:04.614793Z",
     "start_time": "2022-10-30T10:30:04.606715Z"
    }
   },
   "outputs": [],
   "source": [
    "type(dic['name'])"
   ]
  },
  {
   "cell_type": "code",
   "execution_count": null,
   "id": "e08fcd67",
   "metadata": {
    "ExecuteTime": {
     "end_time": "2022-10-30T10:30:11.473454Z",
     "start_time": "2022-10-30T10:30:11.468960Z"
    }
   },
   "outputs": [],
   "source": [
    "a = dic.keys()"
   ]
  },
  {
   "cell_type": "code",
   "execution_count": null,
   "id": "4d1e868b",
   "metadata": {
    "ExecuteTime": {
     "end_time": "2022-10-30T10:30:49.989877Z",
     "start_time": "2022-10-30T10:30:49.958351Z"
    }
   },
   "outputs": [],
   "source": [
    "#dic.keys()는 dict_keys라는 새로운객체를 반환함\n",
    "type(a)\n",
    "#슬라이싱등이 불가능함\n"
   ]
  },
  {
   "cell_type": "code",
   "execution_count": null,
   "id": "f2789115",
   "metadata": {
    "ExecuteTime": {
     "end_time": "2022-10-30T10:31:55.242838Z",
     "start_time": "2022-10-30T10:31:55.239650Z"
    }
   },
   "outputs": [],
   "source": [
    "#리스트로 바꾸기\n",
    "a = list(a)"
   ]
  },
  {
   "cell_type": "code",
   "execution_count": null,
   "id": "1d82254f",
   "metadata": {
    "ExecuteTime": {
     "end_time": "2022-10-30T10:31:55.573358Z",
     "start_time": "2022-10-30T10:31:55.566735Z"
    }
   },
   "outputs": [],
   "source": [
    "print(a)\n",
    "type(a)"
   ]
  },
  {
   "cell_type": "code",
   "execution_count": null,
   "id": "3d2d5b45",
   "metadata": {
    "ExecuteTime": {
     "end_time": "2022-10-30T10:32:11.795046Z",
     "start_time": "2022-10-30T10:32:11.789705Z"
    }
   },
   "outputs": [],
   "source": [
    "a = list(dic.keys())"
   ]
  },
  {
   "cell_type": "code",
   "execution_count": null,
   "id": "15980e94",
   "metadata": {
    "ExecuteTime": {
     "end_time": "2022-10-30T10:32:14.081413Z",
     "start_time": "2022-10-30T10:32:14.074382Z"
    }
   },
   "outputs": [],
   "source": [
    "a"
   ]
  },
  {
   "cell_type": "code",
   "execution_count": null,
   "id": "1f4c8f88",
   "metadata": {
    "ExecuteTime": {
     "end_time": "2022-10-30T10:32:26.101551Z",
     "start_time": "2022-10-30T10:32:26.093436Z"
    }
   },
   "outputs": [],
   "source": [
    "dic.values()"
   ]
  },
  {
   "cell_type": "code",
   "execution_count": null,
   "id": "5165a968",
   "metadata": {
    "ExecuteTime": {
     "end_time": "2022-10-30T10:32:46.008330Z",
     "start_time": "2022-10-30T10:32:46.003982Z"
    }
   },
   "outputs": [],
   "source": [
    "a = list(dic.values())\n",
    "print(a)"
   ]
  },
  {
   "cell_type": "code",
   "execution_count": null,
   "id": "d1b0f24e",
   "metadata": {
    "ExecuteTime": {
     "end_time": "2022-10-30T10:33:30.042037Z",
     "start_time": "2022-10-30T10:33:30.030394Z"
    }
   },
   "outputs": [],
   "source": [
    "dic.items()"
   ]
  },
  {
   "cell_type": "code",
   "execution_count": null,
   "id": "1c3ad499",
   "metadata": {
    "ExecuteTime": {
     "end_time": "2022-10-30T10:33:42.735850Z",
     "start_time": "2022-10-30T10:33:42.731783Z"
    }
   },
   "outputs": [],
   "source": [
    "a = list(dic.items())"
   ]
  },
  {
   "cell_type": "code",
   "execution_count": null,
   "id": "13262da9",
   "metadata": {
    "ExecuteTime": {
     "end_time": "2022-10-30T10:33:46.152119Z",
     "start_time": "2022-10-30T10:33:46.147124Z"
    }
   },
   "outputs": [],
   "source": [
    "a[0]"
   ]
  },
  {
   "cell_type": "code",
   "execution_count": null,
   "id": "cfbc01d9",
   "metadata": {
    "ExecuteTime": {
     "end_time": "2022-10-30T10:33:50.918375Z",
     "start_time": "2022-10-30T10:33:50.910615Z"
    }
   },
   "outputs": [],
   "source": [
    "a[0][0]"
   ]
  },
  {
   "cell_type": "code",
   "execution_count": null,
   "id": "e7494ae6",
   "metadata": {
    "ExecuteTime": {
     "end_time": "2022-10-30T10:36:47.900211Z",
     "start_time": "2022-10-30T10:36:47.893706Z"
    }
   },
   "outputs": [],
   "source": [
    "dic['name']\n",
    "dic.get('name')\n",
    "dic.get('non')\n",
    "#dic[non]\n",
    "#get은 아무것도 리턴하지 않음.\n",
    "#그래서 디폴트값을 설정해주곤함\n",
    "dic.get('non', 'default')"
   ]
  },
  {
   "cell_type": "code",
   "execution_count": null,
   "id": "f2ba1c54",
   "metadata": {
    "ExecuteTime": {
     "end_time": "2022-10-30T10:38:10.483977Z",
     "start_time": "2022-10-30T10:38:10.474690Z"
    }
   },
   "outputs": [],
   "source": [
    "#값이 있는지확인\n",
    "l1 = [1,2,3,4]\n",
    "t1 = (1,2,3,4)\n",
    "\n",
    "print(1 in l1)\n",
    "print(0 in t1)\n",
    "print('name' in dic)\n",
    "print('noa' in dic)"
   ]
  },
  {
   "cell_type": "markdown",
   "id": "976ccac5",
   "metadata": {},
   "source": [
    "## 집합"
   ]
  },
  {
   "cell_type": "markdown",
   "id": "5e925249",
   "metadata": {
    "ExecuteTime": {
     "end_time": "2022-10-30T10:42:42.455441Z",
     "start_time": "2022-10-30T10:42:42.448897Z"
    }
   },
   "source": [
    "### 만들기 "
   ]
  },
  {
   "cell_type": "code",
   "execution_count": null,
   "id": "9469508e",
   "metadata": {
    "ExecuteTime": {
     "end_time": "2022-10-30T10:46:58.543664Z",
     "start_time": "2022-10-30T10:46:58.513403Z"
    }
   },
   "outputs": [],
   "source": [
    "s1 = set([1,2,3])\n",
    "print(s1)\n",
    "\n",
    "s2 = set('Hello')\n",
    "print(s2)\n",
    "\n",
    "#집합은 순서가 없고 중복이 제거됨\n",
    "print(s2[0])"
   ]
  },
  {
   "cell_type": "markdown",
   "id": "31cbaf72",
   "metadata": {},
   "source": [
    "### 중복제거 "
   ]
  },
  {
   "cell_type": "code",
   "execution_count": null,
   "id": "4dfcdabd",
   "metadata": {
    "ExecuteTime": {
     "end_time": "2022-10-30T10:46:46.813643Z",
     "start_time": "2022-10-30T10:46:46.809062Z"
    }
   },
   "outputs": [],
   "source": [
    "#중복제거방법\n",
    "a = [1,2,3,4,5,6,7,8]\n",
    "a = list(set(a))\n",
    "print(a)"
   ]
  },
  {
   "cell_type": "code",
   "execution_count": null,
   "id": "1127c2df",
   "metadata": {
    "ExecuteTime": {
     "end_time": "2022-10-30T10:47:12.353826Z",
     "start_time": "2022-10-30T10:47:12.349655Z"
    }
   },
   "outputs": [],
   "source": [
    "a = 'asdfasdfasdf'\n",
    "a = ''.join((set(a)))\n",
    "print(a)"
   ]
  },
  {
   "cell_type": "markdown",
   "id": "ad824909",
   "metadata": {
    "ExecuteTime": {
     "end_time": "2022-10-30T10:47:18.680102Z",
     "start_time": "2022-10-30T10:47:18.677030Z"
    }
   },
   "source": [
    "### 집합연산"
   ]
  },
  {
   "cell_type": "code",
   "execution_count": null,
   "id": "dd58e6c6",
   "metadata": {
    "ExecuteTime": {
     "end_time": "2022-10-30T10:51:59.204162Z",
     "start_time": "2022-10-30T10:51:59.192277Z"
    }
   },
   "outputs": [],
   "source": [
    "s1 = set([1,2,3,4,5,6])\n",
    "s2 = set([4,5,6,7,8,9])\n",
    "\n",
    "# 교집합구하기\n",
    "print(s1.intersection(s2))\n",
    "print(s1 & s2)\n",
    "\n",
    "# 합집합\n",
    "print(s1.union(s2))\n",
    "print(s1 | s2)\n",
    "\n",
    "# 차집합\n",
    "print(s1 - s2)\n",
    "print(s1.difference(s2))\n",
    "print(s2 - s1)\n",
    "\n"
   ]
  },
  {
   "cell_type": "code",
   "execution_count": null,
   "id": "03755250",
   "metadata": {
    "ExecuteTime": {
     "end_time": "2022-10-30T10:51:59.376557Z",
     "start_time": "2022-10-30T10:51:59.367942Z"
    }
   },
   "outputs": [],
   "source": [
    "# 값 추가\n",
    "s1.add(7)\n",
    "print(s1)\n",
    "\n",
    "# 여러개 추가\n",
    "s1.update([8,9])\n",
    "print(s1)"
   ]
  },
  {
   "cell_type": "code",
   "execution_count": null,
   "id": "0f1c6122",
   "metadata": {
    "ExecuteTime": {
     "end_time": "2022-10-30T10:51:59.573996Z",
     "start_time": "2022-10-30T10:51:59.568081Z"
    }
   },
   "outputs": [],
   "source": [
    "# 값 삭제\n",
    "s1.remove(2)\n",
    "print(s1)"
   ]
  },
  {
   "cell_type": "markdown",
   "id": "d34b6a0e",
   "metadata": {
    "ExecuteTime": {
     "end_time": "2022-10-30T10:52:14.163202Z",
     "start_time": "2022-10-30T10:52:14.160090Z"
    }
   },
   "source": [
    "## 불 자료형 "
   ]
  },
  {
   "cell_type": "markdown",
   "id": "6588c1e0",
   "metadata": {
    "ExecuteTime": {
     "end_time": "2022-10-30T10:52:25.292991Z",
     "start_time": "2022-10-30T10:52:25.288643Z"
    }
   },
   "source": [
    "### 정의 "
   ]
  },
  {
   "cell_type": "code",
   "execution_count": null,
   "id": "ed05cb82",
   "metadata": {
    "ExecuteTime": {
     "end_time": "2022-10-30T10:56:35.508340Z",
     "start_time": "2022-10-30T10:56:35.504276Z"
    }
   },
   "outputs": [],
   "source": [
    "#참과 거짓으로만 판단된다\n",
    "a = True\n",
    "b = False\n",
    "print(a, b)"
   ]
  },
  {
   "cell_type": "code",
   "execution_count": null,
   "id": "28288a3f",
   "metadata": {
    "ExecuteTime": {
     "end_time": "2022-10-30T10:56:51.167941Z",
     "start_time": "2022-10-30T10:56:51.162216Z"
    }
   },
   "outputs": [],
   "source": [
    "print(type(a))\n",
    "print(type(b))"
   ]
  },
  {
   "cell_type": "markdown",
   "id": "79f80a71",
   "metadata": {
    "ExecuteTime": {
     "end_time": "2022-10-30T10:52:37.228203Z",
     "start_time": "2022-10-30T10:52:37.224975Z"
    }
   },
   "source": [
    "### 자료형의 참과 거짓"
   ]
  },
  {
   "cell_type": "code",
   "execution_count": null,
   "id": "fa448250",
   "metadata": {
    "ExecuteTime": {
     "end_time": "2022-10-30T10:57:05.038889Z",
     "start_time": "2022-10-30T10:57:05.033567Z"
    }
   },
   "outputs": [],
   "source": [
    "type(1 == 1)"
   ]
  },
  {
   "cell_type": "code",
   "execution_count": null,
   "id": "5fa6fcf3",
   "metadata": {
    "ExecuteTime": {
     "end_time": "2022-10-30T10:57:13.867840Z",
     "start_time": "2022-10-30T10:57:13.861589Z"
    }
   },
   "outputs": [],
   "source": [
    "type(2 > 1)"
   ]
  },
  {
   "cell_type": "code",
   "execution_count": null,
   "id": "88cd6075",
   "metadata": {
    "ExecuteTime": {
     "end_time": "2022-10-30T11:00:12.638990Z",
     "start_time": "2022-10-30T11:00:12.631568Z"
    }
   },
   "outputs": [],
   "source": [
    "type(2 < 1)"
   ]
  },
  {
   "cell_type": "markdown",
   "id": "6e3e1010",
   "metadata": {},
   "source": [
    "### 불연산"
   ]
  },
  {
   "cell_type": "code",
   "execution_count": null,
   "id": "8235315d",
   "metadata": {
    "ExecuteTime": {
     "end_time": "2022-10-30T10:57:39.912376Z",
     "start_time": "2022-10-30T10:57:39.906540Z"
    }
   },
   "outputs": [],
   "source": [
    "print('aaa' == 'aaa')\n",
    "type('aaa' == 'bbb')"
   ]
  },
  {
   "cell_type": "code",
   "execution_count": null,
   "id": "7d967040",
   "metadata": {
    "ExecuteTime": {
     "end_time": "2022-10-30T10:58:18.523552Z",
     "start_time": "2022-10-30T10:58:18.517865Z"
    }
   },
   "outputs": [],
   "source": [
    "print(bool('a'))\n",
    "print(bool(''))\n",
    "print(bool([1,2]))\n",
    "print(bool([]))"
   ]
  },
  {
   "cell_type": "code",
   "execution_count": null,
   "id": "fe773551",
   "metadata": {
    "ExecuteTime": {
     "end_time": "2022-10-30T11:00:25.560037Z",
     "start_time": "2022-10-30T11:00:25.555469Z"
    }
   },
   "outputs": [],
   "source": [
    "print(bool(0))\n",
    "print(bool(None))\n",
    "print(bool(1))"
   ]
  },
  {
   "cell_type": "markdown",
   "id": "0c293562",
   "metadata": {
    "ExecuteTime": {
     "end_time": "2022-10-30T11:00:32.980473Z",
     "start_time": "2022-10-30T11:00:32.977036Z"
    }
   },
   "source": [
    "## 깊은복사, 얕은복사"
   ]
  },
  {
   "cell_type": "code",
   "execution_count": null,
   "id": "d90f723d",
   "metadata": {
    "ExecuteTime": {
     "end_time": "2022-10-30T11:00:55.965671Z",
     "start_time": "2022-10-30T11:00:55.958257Z"
    }
   },
   "outputs": [],
   "source": [
    "a = [1,2,3]\n",
    "a_new = a\n",
    "a[0] = 0\n",
    "print(a)\n",
    "print(a_new)"
   ]
  },
  {
   "cell_type": "code",
   "execution_count": null,
   "id": "8b812ca0",
   "metadata": {
    "ExecuteTime": {
     "end_time": "2022-10-30T11:01:40.216134Z",
     "start_time": "2022-10-30T11:01:40.211426Z"
    }
   },
   "outputs": [],
   "source": [
    "a = [1,2,3]\n",
    "a_new = a[:]\n",
    "a[0] = 0\n",
    "print(a)\n",
    "print(a_new)"
   ]
  },
  {
   "cell_type": "code",
   "execution_count": null,
   "id": "37616e9e",
   "metadata": {
    "ExecuteTime": {
     "end_time": "2022-10-30T11:05:35.213170Z",
     "start_time": "2022-10-30T11:05:35.204403Z"
    }
   },
   "outputs": [],
   "source": [
    "import copy\n",
    "a = [1,2,3]\n",
    "a_new = copy.deepcopy(a)\n",
    "a[0] = 0\n",
    "print(a)\n",
    "print(a_new)"
   ]
  },
  {
   "cell_type": "markdown",
   "id": "fad0e415",
   "metadata": {},
   "source": [
    "## 변수생성"
   ]
  },
  {
   "cell_type": "code",
   "execution_count": null,
   "id": "c59480aa",
   "metadata": {
    "ExecuteTime": {
     "end_time": "2022-10-30T11:03:59.535599Z",
     "start_time": "2022-10-30T11:03:59.528138Z"
    }
   },
   "outputs": [],
   "source": [
    "a = 'a'\n",
    "b = 'b'\n",
    "a, b = 'a', 'b'\n",
    "print(a, b)"
   ]
  },
  {
   "cell_type": "code",
   "execution_count": null,
   "id": "b1e60d91",
   "metadata": {
    "ExecuteTime": {
     "end_time": "2022-10-30T11:04:41.019677Z",
     "start_time": "2022-10-30T11:04:41.015426Z"
    }
   },
   "outputs": [],
   "source": [
    "[a,b] = ['a','b']\n",
    "print(a)\n",
    "print(b)"
   ]
  },
  {
   "cell_type": "code",
   "execution_count": null,
   "id": "79d092eb",
   "metadata": {
    "ExecuteTime": {
     "end_time": "2022-10-30T11:04:50.816151Z",
     "start_time": "2022-10-30T11:04:50.810071Z"
    }
   },
   "outputs": [],
   "source": [
    "a = b = 'a'\n",
    "print(a)\n",
    "print(b)"
   ]
  },
  {
   "cell_type": "code",
   "execution_count": null,
   "id": "9ce90695",
   "metadata": {
    "ExecuteTime": {
     "end_time": "2022-10-30T11:05:13.522515Z",
     "start_time": "2022-10-30T11:05:13.516544Z"
    }
   },
   "outputs": [],
   "source": [
    "a = 3\n",
    "b = 5\n",
    "a, b = b, a\n",
    "print(a, b)"
   ]
  },
  {
   "cell_type": "markdown",
   "id": "73c25107",
   "metadata": {
    "ExecuteTime": {
     "end_time": "2022-10-30T11:06:09.184948Z",
     "start_time": "2022-10-30T11:06:09.180536Z"
    }
   },
   "source": [
    "# 조건문, 논리식 등등"
   ]
  },
  {
   "cell_type": "markdown",
   "id": "ba7c83da",
   "metadata": {},
   "source": [
    "## if문"
   ]
  },
  {
   "cell_type": "code",
   "execution_count": null,
   "id": "b6ee55ba",
   "metadata": {
    "ExecuteTime": {
     "end_time": "2022-10-30T11:39:51.919774Z",
     "start_time": "2022-10-30T11:39:49.719738Z"
    }
   },
   "outputs": [],
   "source": [
    "member = input('회원인가요?(y/n)')\n",
    "if member == 'y':\n",
    "    print('어서오세용')\n",
    "else:\n",
    "    print('뉘세요')"
   ]
  },
  {
   "cell_type": "code",
   "execution_count": null,
   "id": "f34044d1",
   "metadata": {
    "ExecuteTime": {
     "start_time": "2022-10-30T11:44:47.675Z"
    }
   },
   "outputs": [],
   "source": [
    "age = int(input('나이 입력: '))\n",
    "price = 20000\n",
    "\n",
    "if 1 <= age < 6:\n",
    "    print('입장료 무료')\n",
    "elif 6 <= age < 60:\n",
    "    print('입장료는 ', price, '입니다.')\n",
    "elif age >= 60:\n",
    "    print('입장료는 ', price * 0.5, '입니다.')\n",
    "else:\n",
    "    print('1살 이상의 나이 입력해주세요')\n"
   ]
  },
  {
   "cell_type": "markdown",
   "id": "da33cb1e",
   "metadata": {},
   "source": [
    "### 중첩조건문"
   ]
  },
  {
   "cell_type": "code",
   "execution_count": null,
   "id": "386ed95e",
   "metadata": {
    "ExecuteTime": {
     "end_time": "2022-10-30T11:47:52.526650Z",
     "start_time": "2022-10-30T11:47:49.559079Z"
    }
   },
   "outputs": [],
   "source": [
    "id1 = input('아이디: ')\n",
    "pwd2 = input('비밀번호: ')\n",
    "if id1 == 'admin':\n",
    "    if pwd2 == '1234':\n",
    "        print('로그인성공')\n",
    "    else:\n",
    "        print('비밀번호 오류')\n",
    "else:\n",
    "    print('아이디오류')"
   ]
  },
  {
   "cell_type": "markdown",
   "id": "84f6a75d",
   "metadata": {},
   "source": [
    "## 반복문"
   ]
  },
  {
   "cell_type": "markdown",
   "id": "4f3cd248",
   "metadata": {},
   "source": [
    "### range"
   ]
  },
  {
   "cell_type": "code",
   "execution_count": null,
   "id": "c5dd64dc",
   "metadata": {
    "ExecuteTime": {
     "end_time": "2022-10-30T16:07:32.740647Z",
     "start_time": "2022-10-30T16:07:32.732807Z"
    }
   },
   "outputs": [],
   "source": [
    "for i in range(5):\n",
    "    print('+' * (i + 1))"
   ]
  },
  {
   "cell_type": "code",
   "execution_count": null,
   "id": "1a3c0240",
   "metadata": {
    "ExecuteTime": {
     "end_time": "2022-10-30T16:08:39.596065Z",
     "start_time": "2022-10-30T16:08:39.591080Z"
    }
   },
   "outputs": [],
   "source": [
    "odd = [1,3,5,7,9]\n",
    "for i in odd:\n",
    "    print(i + 1, end= ' ')"
   ]
  },
  {
   "cell_type": "code",
   "execution_count": null,
   "id": "d1bfb270",
   "metadata": {
    "ExecuteTime": {
     "end_time": "2022-10-30T16:31:46.403243Z",
     "start_time": "2022-10-30T16:31:46.394956Z"
    }
   },
   "outputs": [],
   "source": [
    "for i in range(1,31):\n",
    "    if i % 7 == 0:\n",
    "        print('7의배수: ', i)"
   ]
  },
  {
   "cell_type": "code",
   "execution_count": null,
   "id": "31971872",
   "metadata": {
    "ExecuteTime": {
     "end_time": "2022-10-30T16:38:09.830104Z",
     "start_time": "2022-10-30T16:38:01.530557Z"
    }
   },
   "outputs": [],
   "source": [
    "while (True):\n",
    "    num = int(input('구구단입력 0 종료:'))\n",
    "    if num == 0:\n",
    "        break\n",
    "    i = 1\n",
    "    while i <= 9:\n",
    "        print('%d x %d = %d' % (num, i, num * i))\n",
    "        i += 1"
   ]
  },
  {
   "cell_type": "code",
   "execution_count": null,
   "id": "fbd3e0fe",
   "metadata": {
    "ExecuteTime": {
     "end_time": "2022-10-30T16:41:19.246813Z",
     "start_time": "2022-10-30T16:41:13.753684Z"
    }
   },
   "outputs": [],
   "source": [
    "alpha = {'A' : '1!', 'B' : '2@', 'C' : '3#', 'D' : '4$', 'E':'5%' }\n",
    "while True:\n",
    "    code = ''\n",
    "    word = input('input')\n",
    "    if word == '0':\n",
    "        break\n",
    "    for ch in word:\n",
    "        code += alpha[ch]\n",
    "    print('단어:', word, '암호코드', code, '\\n')\n",
    "print('임호코드 변한프로그램')\n",
    "        \n",
    "        \n",
    "    "
   ]
  },
  {
   "cell_type": "markdown",
   "id": "d0d3fca1",
   "metadata": {},
   "source": [
    "# 함수"
   ]
  },
  {
   "cell_type": "markdown",
   "id": "b906ce62",
   "metadata": {},
   "source": [
    "## 내장함수"
   ]
  },
  {
   "cell_type": "code",
   "execution_count": 2,
   "id": "93769d3e",
   "metadata": {
    "ExecuteTime": {
     "end_time": "2022-11-04T00:30:05.043842Z",
     "start_time": "2022-11-04T00:30:05.034986Z"
    }
   },
   "outputs": [
    {
     "data": {
      "text/plain": [
       "int"
      ]
     },
     "execution_count": 2,
     "metadata": {},
     "output_type": "execute_result"
    }
   ],
   "source": [
    "type(1)"
   ]
  },
  {
   "cell_type": "code",
   "execution_count": 3,
   "id": "0ef6d6ae",
   "metadata": {
    "ExecuteTime": {
     "end_time": "2022-11-04T00:30:15.214935Z",
     "start_time": "2022-11-04T00:30:15.207788Z"
    }
   },
   "outputs": [
    {
     "data": {
      "text/plain": [
       "str"
      ]
     },
     "execution_count": 3,
     "metadata": {},
     "output_type": "execute_result"
    }
   ],
   "source": [
    "type(\"test\")"
   ]
  },
  {
   "cell_type": "code",
   "execution_count": 24,
   "id": "250a3c26",
   "metadata": {
    "ExecuteTime": {
     "end_time": "2022-11-04T00:36:10.995109Z",
     "start_time": "2022-11-04T00:36:10.985587Z"
    }
   },
   "outputs": [
    {
     "name": "stdout",
     "output_type": "stream",
     "text": [
      "1\n",
      "3\n",
      "-3\n",
      "1.0\n",
      "1.0\n",
      "3.3\n",
      "32\n",
      "3.3\n"
     ]
    }
   ],
   "source": [
    "print(int(\"1\"))\n",
    "#print(int('asdf'))\n",
    "print(int(3.2))\n",
    "print(int(-3.3))\n",
    "\n",
    "print(float(1))\n",
    "print(float('1'))\n",
    "print(float(3.3))\n",
    "\n",
    "print(str(32))\n",
    "print(float(3.3))"
   ]
  },
  {
   "cell_type": "code",
   "execution_count": 25,
   "id": "ae1349dd",
   "metadata": {
    "ExecuteTime": {
     "end_time": "2022-11-04T00:36:29.529823Z",
     "start_time": "2022-11-04T00:36:29.522320Z"
    }
   },
   "outputs": [
    {
     "name": "stdout",
     "output_type": "stream",
     "text": [
      "w\n",
      " \n",
      "11\n"
     ]
    }
   ],
   "source": [
    "print(max(\"hello world\"))\n",
    "print(min(\"hello world\"))\n",
    "print(len(\"Hello world\"))"
   ]
  },
  {
   "cell_type": "code",
   "execution_count": 26,
   "id": "4b74f76d",
   "metadata": {
    "ExecuteTime": {
     "end_time": "2022-11-04T00:36:34.693163Z",
     "start_time": "2022-11-04T00:36:34.687517Z"
    }
   },
   "outputs": [],
   "source": [
    "import math"
   ]
  },
  {
   "cell_type": "code",
   "execution_count": 30,
   "id": "ff8d57a4",
   "metadata": {
    "ExecuteTime": {
     "end_time": "2022-11-04T00:38:02.505821Z",
     "start_time": "2022-11-04T00:38:02.499682Z"
    }
   },
   "outputs": [
    {
     "name": "stdout",
     "output_type": "stream",
     "text": [
      "6361.725123519331\n"
     ]
    }
   ],
   "source": [
    "r = 45\n",
    "radians = r * r * math.pi\n",
    "print(radians)\n"
   ]
  },
  {
   "cell_type": "code",
   "execution_count": 31,
   "id": "348f37d9",
   "metadata": {
    "ExecuteTime": {
     "end_time": "2022-11-04T00:38:09.724481Z",
     "start_time": "2022-11-04T00:38:09.719145Z"
    }
   },
   "outputs": [],
   "source": [
    "import random"
   ]
  },
  {
   "cell_type": "code",
   "execution_count": 38,
   "id": "58fb528f",
   "metadata": {
    "ExecuteTime": {
     "end_time": "2022-11-04T00:39:09.105403Z",
     "start_time": "2022-11-04T00:39:09.098002Z"
    }
   },
   "outputs": [
    {
     "name": "stdout",
     "output_type": "stream",
     "text": [
      "0.9782409603578234\n",
      "0.674006513357297\n",
      "0.921258927168555\n",
      "0.2494825194175846\n",
      "0.9110895641210602\n",
      "0.7926913003302075\n",
      "0.7740780297530958\n",
      "0.20797561568001743\n",
      "0.6166150130643638\n",
      "0.147255098585113\n"
     ]
    }
   ],
   "source": [
    "for i in range(10):\n",
    "    x = random.random()\n",
    "    print(x)\n"
   ]
  },
  {
   "cell_type": "code",
   "execution_count": 51,
   "id": "70a748c8",
   "metadata": {
    "ExecuteTime": {
     "end_time": "2022-11-04T00:39:34.822038Z",
     "start_time": "2022-11-04T00:39:34.814812Z"
    }
   },
   "outputs": [
    {
     "name": "stdout",
     "output_type": "stream",
     "text": [
      "6\n"
     ]
    }
   ],
   "source": [
    "x = random.randint(5,10)\n",
    "print(x)"
   ]
  },
  {
   "cell_type": "code",
   "execution_count": 65,
   "id": "96e2f8a9",
   "metadata": {
    "ExecuteTime": {
     "end_time": "2022-11-04T00:40:00.653348Z",
     "start_time": "2022-11-04T00:40:00.647442Z"
    }
   },
   "outputs": [
    {
     "name": "stdout",
     "output_type": "stream",
     "text": [
      "3\n"
     ]
    }
   ],
   "source": [
    "t = [1,2,3,4]\n",
    "print(random.choice(t))"
   ]
  },
  {
   "cell_type": "markdown",
   "id": "565411d0",
   "metadata": {},
   "source": [
    "## 사용자정의함수"
   ]
  },
  {
   "cell_type": "markdown",
   "id": "f1d04077",
   "metadata": {},
   "source": [
    "def 함수이름(arg1, arg2):\n",
    "    statement1\n",
    "    ...\n",
    "    return 결과값\n",
    "\n"
   ]
  },
  {
   "cell_type": "code",
   "execution_count": 67,
   "id": "41c6c7dd",
   "metadata": {
    "ExecuteTime": {
     "end_time": "2022-11-04T00:42:32.162901Z",
     "start_time": "2022-11-04T00:42:32.156244Z"
    }
   },
   "outputs": [
    {
     "name": "stdout",
     "output_type": "stream",
     "text": [
      "I am okay.\n",
      "I sleep all night\n"
     ]
    }
   ],
   "source": [
    "def print_lyrics():\n",
    "    print('I am okay.')\n",
    "    print('I sleep all night')\n",
    "print_lyrics()"
   ]
  },
  {
   "cell_type": "code",
   "execution_count": 69,
   "id": "49440f92",
   "metadata": {
    "ExecuteTime": {
     "end_time": "2022-11-04T00:43:26.111479Z",
     "start_time": "2022-11-04T00:43:26.105118Z"
    }
   },
   "outputs": [],
   "source": [
    "def cylinder_volume(height, radius = 5): #디폴트값 radius 5\n",
    "    return radius ** 2 * height * math.pi"
   ]
  },
  {
   "cell_type": "code",
   "execution_count": 73,
   "id": "6154ca22",
   "metadata": {
    "ExecuteTime": {
     "end_time": "2022-11-04T00:44:07.383134Z",
     "start_time": "2022-11-04T00:44:07.376267Z"
    }
   },
   "outputs": [
    {
     "name": "stdout",
     "output_type": "stream",
     "text": [
      "785.3981633974482\n",
      "785.3981633974482\n"
     ]
    }
   ],
   "source": [
    "print(cylinder_volume(10, 5))\n",
    "print(cylinder_volume(10))"
   ]
  },
  {
   "cell_type": "code",
   "execution_count": 76,
   "id": "b4e9d9d5",
   "metadata": {
    "ExecuteTime": {
     "end_time": "2022-11-04T00:45:41.314978Z",
     "start_time": "2022-11-04T00:45:36.082396Z"
    }
   },
   "outputs": [
    {
     "name": "stdout",
     "output_type": "stream",
     "text": [
      "1st: 4\n",
      "2nd: 7\n",
      "큰수 : 7\n"
     ]
    }
   ],
   "source": [
    "def max1(num1, num2):\n",
    "    if num1 > num2:\n",
    "        return num1\n",
    "    else:\n",
    "        return num2\n",
    "\n",
    "a = int(input('1st: '))\n",
    "b = int(input('2nd: '))\n",
    "print('큰수 : %d' % (max1(a,b)))"
   ]
  },
  {
   "cell_type": "code",
   "execution_count": 81,
   "id": "3c6d4a62",
   "metadata": {
    "ExecuteTime": {
     "end_time": "2022-11-04T00:47:39.817172Z",
     "start_time": "2022-11-04T00:47:39.804758Z"
    }
   },
   "outputs": [
    {
     "name": "stdout",
     "output_type": "stream",
     "text": [
      "0 번째, next number\n",
      "1 번째, next number\n",
      "2 번째, next number\n",
      "3 번째, crap\n",
      "4 번째, next number\n",
      "5 번째, next number\n",
      "6 번째, crap\n",
      "7 번째, next number\n",
      "8 번째, next number\n",
      "9 번째, crap\n",
      "10 번째, next number\n",
      "11 번째, next number\n",
      "12 번째, next number\n",
      "13 번째, crap\n",
      "14 번째, next number\n",
      "15 번째, next number\n",
      "16 번째, crap\n",
      "17 번째, next number\n",
      "18 번째, next number\n",
      "19 번째, crap\n",
      "20 번째, next number\n",
      "21 번째, next number\n",
      "22 번째, next number\n",
      "23 번째, crap\n",
      "24 번째, next number\n",
      "25 번째, next number\n",
      "26 번째, crap\n",
      "27 번째, next number\n",
      "28 번째, next number\n",
      "29 번째, crap\n"
     ]
    }
   ],
   "source": [
    "def game(num):\n",
    "    a = num//10\n",
    "    b = num % 10\n",
    "    if a == 3 or a == 6 or a == 9:\n",
    "        return 'crap'\n",
    "    elif b == 3 or b == 6 or b == 9:\n",
    "        return 'crap'\n",
    "    else:\n",
    "        return 'next number'\n",
    "\n",
    "for i in range(30):\n",
    "    print('%d 번째, %s' % (i, game(i)))"
   ]
  },
  {
   "cell_type": "markdown",
   "id": "d0e308e8",
   "metadata": {},
   "source": [
    "## 람다함수"
   ]
  },
  {
   "cell_type": "code",
   "execution_count": 82,
   "id": "a0a3a3c9",
   "metadata": {
    "ExecuteTime": {
     "end_time": "2022-11-04T00:48:39.728514Z",
     "start_time": "2022-11-04T00:48:39.721213Z"
    }
   },
   "outputs": [],
   "source": [
    "def plus_five(x):\n",
    "    return x + 5"
   ]
  },
  {
   "cell_type": "code",
   "execution_count": 83,
   "id": "ae6121ca",
   "metadata": {
    "ExecuteTime": {
     "end_time": "2022-11-04T00:48:44.019668Z",
     "start_time": "2022-11-04T00:48:44.011508Z"
    }
   },
   "outputs": [
    {
     "data": {
      "text/plain": [
       "15"
      ]
     },
     "execution_count": 83,
     "metadata": {},
     "output_type": "execute_result"
    }
   ],
   "source": [
    "plus_five(10)"
   ]
  },
  {
   "cell_type": "code",
   "execution_count": 84,
   "id": "61ea5db3",
   "metadata": {
    "ExecuteTime": {
     "end_time": "2022-11-04T00:49:08.826927Z",
     "start_time": "2022-11-04T00:49:08.821503Z"
    }
   },
   "outputs": [],
   "source": [
    "#간단한건 람다함수쓰래요\n",
    "plus_five_lambda = lambda x: x + 5"
   ]
  },
  {
   "cell_type": "code",
   "execution_count": 86,
   "id": "f4585bd9",
   "metadata": {
    "ExecuteTime": {
     "end_time": "2022-11-04T00:49:29.967245Z",
     "start_time": "2022-11-04T00:49:29.952381Z"
    }
   },
   "outputs": [
    {
     "data": {
      "text/plain": [
       "15"
      ]
     },
     "execution_count": 86,
     "metadata": {},
     "output_type": "execute_result"
    }
   ],
   "source": [
    "plus_five_lambda(10)"
   ]
  },
  {
   "cell_type": "code",
   "execution_count": 92,
   "id": "bda97d3d",
   "metadata": {
    "ExecuteTime": {
     "end_time": "2022-11-04T00:51:27.230060Z",
     "start_time": "2022-11-04T00:51:27.221460Z"
    }
   },
   "outputs": [
    {
     "name": "stdout",
     "output_type": "stream",
     "text": [
      "<map object at 0x7f985129e7c0>\n",
      "[15, 25, 35]\n",
      "[15, 25, 35]\n",
      "[15, 25, 35]\n"
     ]
    }
   ],
   "source": [
    "raw_list = [10, 20, 30]\n",
    "print(map(plus_five_lambda, raw_list))\n",
    "print(list(map(plus_five, raw_list)))\n",
    "print(list(map(plus_five_lambda, raw_list)))\n",
    "print(list(map(lambda x: x + 5, raw_list))) #추천!"
   ]
  },
  {
   "cell_type": "markdown",
   "id": "3114e887",
   "metadata": {},
   "source": [
    "# 리스트내포\n"
   ]
  },
  {
   "cell_type": "markdown",
   "id": "7786581b",
   "metadata": {
    "ExecuteTime": {
     "end_time": "2022-11-04T00:56:36.973115Z",
     "start_time": "2022-11-04T00:56:36.967234Z"
    }
   },
   "source": [
    "## 조건없음"
   ]
  },
  {
   "cell_type": "markdown",
   "id": "8d209731",
   "metadata": {},
   "source": [
    "[표현식 for 변수 in 항목들]"
   ]
  },
  {
   "cell_type": "code",
   "execution_count": 102,
   "id": "0f6d213e",
   "metadata": {
    "ExecuteTime": {
     "end_time": "2022-11-04T00:55:30.418623Z",
     "start_time": "2022-11-04T00:55:30.412117Z"
    }
   },
   "outputs": [
    {
     "name": "stdout",
     "output_type": "stream",
     "text": [
      "[-20, -10, 0, 10, 20]\n"
     ]
    }
   ],
   "source": [
    "list1 = [-20, -10, 0, 10, 20]\n",
    "result = []\n",
    "for i in list1:\n",
    "    result.append(i)\n",
    "print(result)"
   ]
  },
  {
   "cell_type": "code",
   "execution_count": 101,
   "id": "5a5120fe",
   "metadata": {
    "ExecuteTime": {
     "end_time": "2022-11-04T00:54:56.264570Z",
     "start_time": "2022-11-04T00:54:56.255342Z"
    }
   },
   "outputs": [
    {
     "data": {
      "text/plain": [
       "[-20, -10, 0, 10, 20]"
      ]
     },
     "execution_count": 101,
     "metadata": {},
     "output_type": "execute_result"
    }
   ],
   "source": [
    "[i for i in result]"
   ]
  },
  {
   "cell_type": "code",
   "execution_count": 104,
   "id": "fb010aed",
   "metadata": {
    "ExecuteTime": {
     "end_time": "2022-11-04T00:55:51.307186Z",
     "start_time": "2022-11-04T00:55:51.298827Z"
    }
   },
   "outputs": [
    {
     "name": "stdout",
     "output_type": "stream",
     "text": [
      "[-4.0, -2.0, 0.0, 2.0, 4.0]\n"
     ]
    }
   ],
   "source": [
    "list1 = [-20, -10, 0, 10, 20]\n",
    "result = []\n",
    "for i in list1:\n",
    "    result.append(i / 5)\n",
    "print(result)"
   ]
  },
  {
   "cell_type": "code",
   "execution_count": 106,
   "id": "1487d583",
   "metadata": {
    "ExecuteTime": {
     "end_time": "2022-11-04T00:56:06.777420Z",
     "start_time": "2022-11-04T00:56:06.768568Z"
    }
   },
   "outputs": [
    {
     "data": {
      "text/plain": [
       "[-4.0, -2.0, 0.0, 2.0, 4.0]"
      ]
     },
     "execution_count": 106,
     "metadata": {},
     "output_type": "execute_result"
    }
   ],
   "source": [
    "[i / 5 for i in list1]"
   ]
  },
  {
   "cell_type": "code",
   "execution_count": 107,
   "id": "a01d0ef0",
   "metadata": {
    "ExecuteTime": {
     "end_time": "2022-11-04T00:56:14.545193Z",
     "start_time": "2022-11-04T00:56:14.536879Z"
    }
   },
   "outputs": [
    {
     "data": {
      "text/plain": [
       "[400, 100, 0, 100, 400]"
      ]
     },
     "execution_count": 107,
     "metadata": {},
     "output_type": "execute_result"
    }
   ],
   "source": [
    "[i ** 2 for i in list1]"
   ]
  },
  {
   "cell_type": "markdown",
   "id": "8aafff68",
   "metadata": {
    "ExecuteTime": {
     "end_time": "2022-11-04T00:56:45.960414Z",
     "start_time": "2022-11-04T00:56:45.955566Z"
    }
   },
   "source": [
    "## 조건 있음"
   ]
  },
  {
   "cell_type": "markdown",
   "id": "90a719e7",
   "metadata": {},
   "source": [
    "[표현식 for 변수 in 항복들 if 조건] "
   ]
  },
  {
   "cell_type": "code",
   "execution_count": 112,
   "id": "68168412",
   "metadata": {
    "ExecuteTime": {
     "end_time": "2022-11-04T00:58:28.368745Z",
     "start_time": "2022-11-04T00:58:28.362452Z"
    }
   },
   "outputs": [
    {
     "name": "stdout",
     "output_type": "stream",
     "text": [
      "[-0.05, -0.1, 0.1, 0.05]\n"
     ]
    }
   ],
   "source": [
    "result = []\n",
    "for i in list1:\n",
    "    if i != 0:\n",
    "        result.append(1/ i)\n",
    "print(result)"
   ]
  },
  {
   "cell_type": "code",
   "execution_count": 111,
   "id": "8f0ca58f",
   "metadata": {
    "ExecuteTime": {
     "end_time": "2022-11-04T00:57:34.810412Z",
     "start_time": "2022-11-04T00:57:34.802072Z"
    }
   },
   "outputs": [
    {
     "data": {
      "text/plain": [
       "[-0.05, -0.1, 0.1, 0.05]"
      ]
     },
     "execution_count": 111,
     "metadata": {},
     "output_type": "execute_result"
    }
   ],
   "source": [
    "[1 / i for i in list1 if i != 0]"
   ]
  },
  {
   "cell_type": "code",
   "execution_count": 113,
   "id": "662c7bb9",
   "metadata": {
    "ExecuteTime": {
     "end_time": "2022-11-04T00:58:50.867859Z",
     "start_time": "2022-11-04T00:58:50.860373Z"
    }
   },
   "outputs": [
    {
     "data": {
      "text/plain": [
       "[0, 3, 6]"
      ]
     },
     "execution_count": 113,
     "metadata": {},
     "output_type": "execute_result"
    }
   ],
   "source": [
    "[num * 3 for num in range(3)]"
   ]
  },
  {
   "cell_type": "code",
   "execution_count": 114,
   "id": "3248407a",
   "metadata": {
    "ExecuteTime": {
     "end_time": "2022-11-04T00:59:12.867650Z",
     "start_time": "2022-11-04T00:59:12.856960Z"
    }
   },
   "outputs": [
    {
     "data": {
      "text/plain": [
       "[0, 6, 12, 18, 24]"
      ]
     },
     "execution_count": 114,
     "metadata": {},
     "output_type": "execute_result"
    }
   ],
   "source": [
    "[num * 3 for num in range(10) if num % 2 == 0]"
   ]
  },
  {
   "cell_type": "code",
   "execution_count": 125,
   "id": "6bc2cfcd",
   "metadata": {
    "ExecuteTime": {
     "end_time": "2022-11-04T01:03:02.748546Z",
     "start_time": "2022-11-04T01:03:02.737722Z"
    }
   },
   "outputs": [
    {
     "name": "stdout",
     "output_type": "stream",
     "text": [
      "['a', 'b', 'c', 'd', 'e', 'f', 'g', 'h', 'i', 'j', 'k', 'l', 'm', 'n', 'o', 'p', 'q', 'r', 's', 't', 'u', 'v', 'w', 'x', 'y', 'z']\n",
      "['A', 'B', 'C', 'D', 'E', 'F', 'G', 'H', 'I', 'J', 'K', 'L', 'M', 'N', 'O', 'P', 'Q', 'R', 'S', 'T', 'U', 'V', 'W', 'X', 'Y', 'Z']\n",
      "['A', 'B', 'C', 'D', 'E', 'F', 'G', 'H', 'I', 'J', 'K', 'L', 'M', 'N', 'O', 'P', 'Q', 'R', 'S', 'T', 'U', 'V', 'W', 'X', 'Y', 'Z', 'a', 'b', 'c', 'd', 'e', 'f', 'g', 'h', 'i', 'j', 'k', 'l', 'm', 'n', 'o', 'p', 'q', 'r', 's', 't']\n"
     ]
    }
   ],
   "source": [
    "# A = 65,.... Z = 96... a = 97 \n",
    "alpha = [chr(n) for n in range(97, 97 + 26)]\n",
    "print(alpha)\n",
    "\n",
    "ALPHA = [chr(n) for n in range(65, 65 + 26)]\n",
    "print(ALPHA)\n",
    "\n",
    "Aalpha = [chr(n) for n in range(65, 65 + 52) if n not in range(91, 97)]\n",
    "print(Aalpha)"
   ]
  },
  {
   "cell_type": "markdown",
   "id": "f51e4383",
   "metadata": {
    "ExecuteTime": {
     "end_time": "2022-11-04T01:03:21.414895Z",
     "start_time": "2022-11-04T01:03:21.409771Z"
    }
   },
   "source": [
    "# 정규표현식"
   ]
  },
  {
   "cell_type": "code",
   "execution_count": 128,
   "id": "ec9dfbf9",
   "metadata": {
    "ExecuteTime": {
     "end_time": "2022-11-04T01:03:38.800205Z",
     "start_time": "2022-11-04T01:03:38.794877Z"
    }
   },
   "outputs": [],
   "source": [
    "import re"
   ]
  },
  {
   "cell_type": "code",
   "execution_count": 133,
   "id": "b3643b4b",
   "metadata": {
    "ExecuteTime": {
     "end_time": "2022-11-04T01:04:45.017907Z",
     "start_time": "2022-11-04T01:04:45.008473Z"
    }
   },
   "outputs": [
    {
     "data": {
      "text/plain": [
       "<re.Match object; span=(0, 5), match='Hello'>"
      ]
     },
     "execution_count": 133,
     "metadata": {},
     "output_type": "execute_result"
    }
   ],
   "source": [
    "re.match('Hello', 'Hello, world!')"
   ]
  },
  {
   "cell_type": "code",
   "execution_count": 134,
   "id": "28809882",
   "metadata": {
    "ExecuteTime": {
     "end_time": "2022-11-04T01:04:46.350274Z",
     "start_time": "2022-11-04T01:04:46.345509Z"
    }
   },
   "outputs": [],
   "source": [
    "re.match('Python', 'Hello, world!')"
   ]
  },
  {
   "cell_type": "code",
   "execution_count": 135,
   "id": "041212b9",
   "metadata": {
    "ExecuteTime": {
     "end_time": "2022-11-04T01:06:18.535723Z",
     "start_time": "2022-11-04T01:06:18.526181Z"
    }
   },
   "outputs": [
    {
     "data": {
      "text/plain": [
       "<re.Match object; span=(0, 5), match='Hello'>"
      ]
     },
     "execution_count": 135,
     "metadata": {},
     "output_type": "execute_result"
    }
   ],
   "source": [
    "re.search('^Hello', 'Hello, world!')#일부분 매치 확인"
   ]
  },
  {
   "cell_type": "code",
   "execution_count": 138,
   "id": "156fc389",
   "metadata": {
    "ExecuteTime": {
     "end_time": "2022-11-04T01:06:51.990321Z",
     "start_time": "2022-11-04T01:06:51.985485Z"
    }
   },
   "outputs": [],
   "source": [
    "re.search('^world', 'Hello, world!')"
   ]
  },
  {
   "cell_type": "code",
   "execution_count": 139,
   "id": "881db1ee",
   "metadata": {
    "ExecuteTime": {
     "end_time": "2022-11-04T01:06:53.280975Z",
     "start_time": "2022-11-04T01:06:53.272257Z"
    }
   },
   "outputs": [
    {
     "data": {
      "text/plain": [
       "<re.Match object; span=(7, 13), match='world!'>"
      ]
     },
     "execution_count": 139,
     "metadata": {},
     "output_type": "execute_result"
    }
   ],
   "source": [
    "re.search('world!$', 'Hello, world!')"
   ]
  },
  {
   "cell_type": "code",
   "execution_count": 153,
   "id": "456e97af",
   "metadata": {
    "ExecuteTime": {
     "end_time": "2022-11-04T01:08:15.001186Z",
     "start_time": "2022-11-04T01:08:14.995938Z"
    }
   },
   "outputs": [],
   "source": [
    "#특정문자열포함?\n",
    "re.match('hello|world', 'Hello, world!')"
   ]
  },
  {
   "cell_type": "code",
   "execution_count": 154,
   "id": "d8602506",
   "metadata": {
    "ExecuteTime": {
     "end_time": "2022-11-04T01:08:39.504846Z",
     "start_time": "2022-11-04T01:08:39.495865Z"
    }
   },
   "outputs": [
    {
     "data": {
      "text/plain": [
       "<re.Match object; span=(0, 6), match='123456'>"
      ]
     },
     "execution_count": 154,
     "metadata": {},
     "output_type": "execute_result"
    }
   ],
   "source": [
    "re.match('[0-9]*', '123456')"
   ]
  },
  {
   "cell_type": "code",
   "execution_count": 156,
   "id": "a52b120a",
   "metadata": {
    "ExecuteTime": {
     "end_time": "2022-11-04T01:09:47.132573Z",
     "start_time": "2022-11-04T01:09:47.124552Z"
    }
   },
   "outputs": [
    {
     "data": {
      "text/plain": [
       "<re.Match object; span=(0, 9), match='123456789'>"
      ]
     },
     "execution_count": 156,
     "metadata": {},
     "output_type": "execute_result"
    }
   ],
   "source": [
    "re.match('[0-9]+', '123456789abcde')"
   ]
  },
  {
   "cell_type": "code",
   "execution_count": 158,
   "id": "460c9b50",
   "metadata": {
    "ExecuteTime": {
     "end_time": "2022-11-04T01:10:04.477218Z",
     "start_time": "2022-11-04T01:10:04.472608Z"
    }
   },
   "outputs": [],
   "source": [
    "re.match('[0-9]+', 'abcde')"
   ]
  },
  {
   "cell_type": "code",
   "execution_count": 159,
   "id": "5e327421",
   "metadata": {
    "ExecuteTime": {
     "end_time": "2022-11-04T01:10:25.118119Z",
     "start_time": "2022-11-04T01:10:25.108898Z"
    }
   },
   "outputs": [
    {
     "data": {
      "text/plain": [
       "<re.Match object; span=(0, 1), match='b'>"
      ]
     },
     "execution_count": 159,
     "metadata": {},
     "output_type": "execute_result"
    }
   ],
   "source": [
    "re.match('a*b', 'b')"
   ]
  },
  {
   "cell_type": "code",
   "execution_count": 160,
   "id": "8df1e4a7",
   "metadata": {
    "ExecuteTime": {
     "end_time": "2022-11-04T01:10:33.254016Z",
     "start_time": "2022-11-04T01:10:33.247797Z"
    }
   },
   "outputs": [],
   "source": [
    "re.match('a+b', 'b')"
   ]
  },
  {
   "cell_type": "code",
   "execution_count": 161,
   "id": "d03fdc20",
   "metadata": {
    "ExecuteTime": {
     "end_time": "2022-11-04T01:10:48.936413Z",
     "start_time": "2022-11-04T01:10:48.928098Z"
    }
   },
   "outputs": [
    {
     "data": {
      "text/plain": [
       "<re.Match object; span=(0, 3), match='aab'>"
      ]
     },
     "execution_count": 161,
     "metadata": {},
     "output_type": "execute_result"
    }
   ],
   "source": [
    "re.match('a*b', 'aab')"
   ]
  },
  {
   "cell_type": "code",
   "execution_count": 162,
   "id": "d9d166f4",
   "metadata": {
    "ExecuteTime": {
     "end_time": "2022-11-04T01:10:55.526598Z",
     "start_time": "2022-11-04T01:10:55.518409Z"
    }
   },
   "outputs": [
    {
     "data": {
      "text/plain": [
       "<re.Match object; span=(0, 3), match='aab'>"
      ]
     },
     "execution_count": 162,
     "metadata": {},
     "output_type": "execute_result"
    }
   ],
   "source": [
    "re.match('a+b', 'aab')"
   ]
  },
  {
   "cell_type": "code",
   "execution_count": 163,
   "id": "71971348",
   "metadata": {
    "ExecuteTime": {
     "end_time": "2022-11-04T01:11:24.491742Z",
     "start_time": "2022-11-04T01:11:24.469084Z"
    }
   },
   "outputs": [
    {
     "data": {
      "text/plain": [
       "<re.Match object; span=(0, 3), match='abd'>"
      ]
     },
     "execution_count": 163,
     "metadata": {},
     "output_type": "execute_result"
    }
   ],
   "source": [
    "re.match('abc?d', 'abd')"
   ]
  },
  {
   "cell_type": "code",
   "execution_count": 165,
   "id": "10a8a1f6",
   "metadata": {
    "ExecuteTime": {
     "end_time": "2022-11-04T01:12:00.372980Z",
     "start_time": "2022-11-04T01:12:00.365730Z"
    }
   },
   "outputs": [
    {
     "data": {
      "text/plain": [
       "<re.Match object; span=(0, 3), match='abd'>"
      ]
     },
     "execution_count": 165,
     "metadata": {},
     "output_type": "execute_result"
    }
   ],
   "source": [
    "re.match('ab[0-9]?d', 'abd') #숫자 한개 or 0개 허용"
   ]
  },
  {
   "cell_type": "code",
   "execution_count": 166,
   "id": "14658773",
   "metadata": {
    "ExecuteTime": {
     "end_time": "2022-11-04T01:12:07.501779Z",
     "start_time": "2022-11-04T01:12:07.494025Z"
    }
   },
   "outputs": [
    {
     "data": {
      "text/plain": [
       "<re.Match object; span=(0, 4), match='ab0d'>"
      ]
     },
     "execution_count": 166,
     "metadata": {},
     "output_type": "execute_result"
    }
   ],
   "source": [
    "re.match('ab[0-9]?d', 'ab0d')"
   ]
  },
  {
   "cell_type": "code",
   "execution_count": 167,
   "id": "7feb124f",
   "metadata": {
    "ExecuteTime": {
     "end_time": "2022-11-04T01:12:11.948564Z",
     "start_time": "2022-11-04T01:12:11.940678Z"
    }
   },
   "outputs": [],
   "source": [
    "re.match('ab[0-9]?d', 'ab01d')"
   ]
  },
  {
   "cell_type": "code",
   "execution_count": 169,
   "id": "ec21ac4c",
   "metadata": {
    "ExecuteTime": {
     "end_time": "2022-11-04T01:12:51.214150Z",
     "start_time": "2022-11-04T01:12:51.207073Z"
    }
   },
   "outputs": [],
   "source": [
    "re.match('ab.d', 'abd')#.은 와일드카드"
   ]
  },
  {
   "cell_type": "code",
   "execution_count": 170,
   "id": "65a0e2eb",
   "metadata": {
    "ExecuteTime": {
     "end_time": "2022-11-04T01:13:00.187812Z",
     "start_time": "2022-11-04T01:13:00.176478Z"
    }
   },
   "outputs": [
    {
     "data": {
      "text/plain": [
       "<re.Match object; span=(0, 4), match='abcd'>"
      ]
     },
     "execution_count": 170,
     "metadata": {},
     "output_type": "execute_result"
    }
   ],
   "source": [
    "re.match('ab.d', 'abcd')"
   ]
  },
  {
   "cell_type": "code",
   "execution_count": 171,
   "id": "777361ea",
   "metadata": {
    "ExecuteTime": {
     "end_time": "2022-11-04T01:13:43.927421Z",
     "start_time": "2022-11-04T01:13:43.912183Z"
    }
   },
   "outputs": [
    {
     "data": {
      "text/plain": [
       "<re.Match object; span=(0, 3), match='hhh'>"
      ]
     },
     "execution_count": 171,
     "metadata": {},
     "output_type": "execute_result"
    }
   ],
   "source": [
    "re.match('h{3}', 'hhhello')"
   ]
  },
  {
   "cell_type": "code",
   "execution_count": 172,
   "id": "cc775bda",
   "metadata": {
    "ExecuteTime": {
     "end_time": "2022-11-04T01:14:06.466376Z",
     "start_time": "2022-11-04T01:14:06.457840Z"
    }
   },
   "outputs": [
    {
     "data": {
      "text/plain": [
       "<re.Match object; span=(0, 15), match='hellohellohello'>"
      ]
     },
     "execution_count": 172,
     "metadata": {},
     "output_type": "execute_result"
    }
   ],
   "source": [
    "re.match('(hello){3}', 'hellohellohelloworld')"
   ]
  },
  {
   "cell_type": "code",
   "execution_count": 174,
   "id": "dcd702fa",
   "metadata": {
    "ExecuteTime": {
     "end_time": "2022-11-04T01:15:00.293111Z",
     "start_time": "2022-11-04T01:15:00.283307Z"
    }
   },
   "outputs": [
    {
     "data": {
      "text/plain": [
       "<re.Match object; span=(0, 13), match='010-2419-0303'>"
      ]
     },
     "execution_count": 174,
     "metadata": {},
     "output_type": "execute_result"
    }
   ],
   "source": [
    "re.match('[0-9]{3}-?[0-9]{4}-?[0-9]{4}', '010-2419-0303')"
   ]
  },
  {
   "cell_type": "code",
   "execution_count": 175,
   "id": "5ebc1b44",
   "metadata": {
    "ExecuteTime": {
     "end_time": "2022-11-04T01:15:08.944339Z",
     "start_time": "2022-11-04T01:15:08.936588Z"
    }
   },
   "outputs": [
    {
     "data": {
      "text/plain": [
       "<re.Match object; span=(0, 12), match='010-24190303'>"
      ]
     },
     "execution_count": 175,
     "metadata": {},
     "output_type": "execute_result"
    }
   ],
   "source": [
    "re.match('[0-9]{3}-?[0-9]{4}-?[0-9]{4}', '010-24190303')"
   ]
  },
  {
   "cell_type": "code",
   "execution_count": 176,
   "id": "4c6abb15",
   "metadata": {
    "ExecuteTime": {
     "end_time": "2022-11-04T01:15:13.493263Z",
     "start_time": "2022-11-04T01:15:13.485598Z"
    }
   },
   "outputs": [
    {
     "data": {
      "text/plain": [
       "<re.Match object; span=(0, 11), match='01024190303'>"
      ]
     },
     "execution_count": 176,
     "metadata": {},
     "output_type": "execute_result"
    }
   ],
   "source": [
    "re.match('[0-9]{3}-?[0-9]{4}-?[0-9]{4}', '01024190303')"
   ]
  },
  {
   "cell_type": "code",
   "execution_count": 177,
   "id": "e0b8a8f9",
   "metadata": {
    "ExecuteTime": {
     "end_time": "2022-11-04T01:15:45.703930Z",
     "start_time": "2022-11-04T01:15:45.694321Z"
    }
   },
   "outputs": [
    {
     "data": {
      "text/plain": [
       "<re.Match object; span=(0, 12), match='010-24190303'>"
      ]
     },
     "execution_count": 177,
     "metadata": {},
     "output_type": "execute_result"
    }
   ],
   "source": [
    "re.match('010-?[0-9]{4}-?[0-9]{4}', '010-24190303')"
   ]
  },
  {
   "cell_type": "code",
   "execution_count": 178,
   "id": "9e6d135b",
   "metadata": {
    "ExecuteTime": {
     "end_time": "2022-11-04T01:15:49.918457Z",
     "start_time": "2022-11-04T01:15:49.912815Z"
    }
   },
   "outputs": [],
   "source": [
    "re.match('010-?[0-9]{4}-?[0-9]{4}', '017-24190303')"
   ]
  },
  {
   "cell_type": "code",
   "execution_count": 179,
   "id": "0ac67645",
   "metadata": {
    "ExecuteTime": {
     "end_time": "2022-11-04T01:16:16.185591Z",
     "start_time": "2022-11-04T01:16:16.179663Z"
    }
   },
   "outputs": [],
   "source": [
    "re.match('[a-zA-Z]+', '1234')"
   ]
  },
  {
   "cell_type": "code",
   "execution_count": 180,
   "id": "8f039756",
   "metadata": {
    "ExecuteTime": {
     "end_time": "2022-11-04T01:16:19.565708Z",
     "start_time": "2022-11-04T01:16:19.561671Z"
    }
   },
   "outputs": [],
   "source": [
    "re.match('[a-zA-Z]+', '123a4')"
   ]
  },
  {
   "cell_type": "code",
   "execution_count": 181,
   "id": "348da614",
   "metadata": {
    "ExecuteTime": {
     "end_time": "2022-11-04T01:16:34.908365Z",
     "start_time": "2022-11-04T01:16:34.899485Z"
    }
   },
   "outputs": [
    {
     "data": {
      "text/plain": [
       "<re.Match object; span=(0, 1), match='a'>"
      ]
     },
     "execution_count": 181,
     "metadata": {},
     "output_type": "execute_result"
    }
   ],
   "source": [
    "re.match('[a-zA-Z]+', 'a1234')"
   ]
  },
  {
   "cell_type": "code",
   "execution_count": 182,
   "id": "87e328f3",
   "metadata": {
    "ExecuteTime": {
     "end_time": "2022-11-04T01:16:45.996055Z",
     "start_time": "2022-11-04T01:16:45.988351Z"
    }
   },
   "outputs": [
    {
     "data": {
      "text/plain": [
       "<re.Match object; span=(0, 1), match='A'>"
      ]
     },
     "execution_count": 182,
     "metadata": {},
     "output_type": "execute_result"
    }
   ],
   "source": [
    "re.match('[A-Z]+', 'A1234')"
   ]
  },
  {
   "cell_type": "code",
   "execution_count": 184,
   "id": "650bcc67",
   "metadata": {
    "ExecuteTime": {
     "end_time": "2022-11-04T01:17:25.977454Z",
     "start_time": "2022-11-04T01:17:25.967574Z"
    }
   },
   "outputs": [
    {
     "data": {
      "text/plain": [
       "<re.Match object; span=(0, 1), match='웅'>"
      ]
     },
     "execution_count": 184,
     "metadata": {},
     "output_type": "execute_result"
    }
   ],
   "source": [
    "re.match('[가-힣]+', '웅1234')"
   ]
  },
  {
   "cell_type": "code",
   "execution_count": 185,
   "id": "ce0611ef",
   "metadata": {
    "ExecuteTime": {
     "end_time": "2022-11-04T01:17:36.011450Z",
     "start_time": "2022-11-04T01:17:36.002453Z"
    }
   },
   "outputs": [
    {
     "data": {
      "text/plain": [
       "<re.Match object; span=(0, 1), match='가'>"
      ]
     },
     "execution_count": 185,
     "metadata": {},
     "output_type": "execute_result"
    }
   ],
   "source": [
    "re.match('[가-힣]+', '가abc')"
   ]
  },
  {
   "cell_type": "code",
   "execution_count": 186,
   "id": "a6ad0c42",
   "metadata": {
    "ExecuteTime": {
     "end_time": "2022-11-04T01:18:04.857423Z",
     "start_time": "2022-11-04T01:18:04.847631Z"
    }
   },
   "outputs": [
    {
     "data": {
      "text/plain": [
       "<re.Match object; span=(0, 5), match='hello'>"
      ]
     },
     "execution_count": 186,
     "metadata": {},
     "output_type": "execute_result"
    }
   ],
   "source": [
    "#대괄호 안의 ^는 이 문자패턴을 제외한 것들을 의미\n",
    "re.match('[^A-Z]+', 'hello')"
   ]
  },
  {
   "cell_type": "code",
   "execution_count": 187,
   "id": "4fab6eab",
   "metadata": {
    "ExecuteTime": {
     "end_time": "2022-11-04T01:18:33.991736Z",
     "start_time": "2022-11-04T01:18:33.983486Z"
    }
   },
   "outputs": [],
   "source": [
    "re.match('[^A-Z]+', 'Hello')"
   ]
  },
  {
   "cell_type": "code",
   "execution_count": 188,
   "id": "ca61858a",
   "metadata": {
    "ExecuteTime": {
     "end_time": "2022-11-04T01:51:30.964244Z",
     "start_time": "2022-11-04T01:51:30.956258Z"
    }
   },
   "outputs": [],
   "source": [
    "re.search('[0-9]+$', 'asdfa')"
   ]
  },
  {
   "cell_type": "code",
   "execution_count": 189,
   "id": "1296e517",
   "metadata": {
    "ExecuteTime": {
     "end_time": "2022-11-04T01:51:35.835116Z",
     "start_time": "2022-11-04T01:51:35.829165Z"
    }
   },
   "outputs": [
    {
     "data": {
      "text/plain": [
       "<re.Match object; span=(5, 6), match='1'>"
      ]
     },
     "execution_count": 189,
     "metadata": {},
     "output_type": "execute_result"
    }
   ],
   "source": [
    "re.search('[0-9]+$', 'asdfa1')"
   ]
  },
  {
   "cell_type": "code",
   "execution_count": 190,
   "id": "e05aea06",
   "metadata": {
    "ExecuteTime": {
     "end_time": "2022-11-04T01:52:16.171524Z",
     "start_time": "2022-11-04T01:52:16.167429Z"
    }
   },
   "outputs": [
    {
     "data": {
      "text/plain": [
       "<re.Match object; span=(1, 2), match='*'>"
      ]
     },
     "execution_count": 190,
     "metadata": {},
     "output_type": "execute_result"
    }
   ],
   "source": [
    "#특수문자\n",
    "\n",
    "re.search('\\*', ' ** 2')"
   ]
  },
  {
   "cell_type": "code",
   "execution_count": 191,
   "id": "3ab3bf5f",
   "metadata": {
    "ExecuteTime": {
     "end_time": "2022-11-04T01:52:30.046639Z",
     "start_time": "2022-11-04T01:52:30.037532Z"
    }
   },
   "outputs": [
    {
     "data": {
      "text/plain": [
       "<re.Match object; span=(4, 5), match='2'>"
      ]
     },
     "execution_count": 191,
     "metadata": {},
     "output_type": "execute_result"
    }
   ],
   "source": [
    "re.search('\\d', ' ** 2')"
   ]
  },
  {
   "cell_type": "code",
   "execution_count": 193,
   "id": "d0cfc74d",
   "metadata": {
    "ExecuteTime": {
     "end_time": "2022-11-04T01:52:43.771477Z",
     "start_time": "2022-11-04T01:52:43.764233Z"
    }
   },
   "outputs": [
    {
     "data": {
      "text/plain": [
       "<re.Match object; span=(5, 6), match='%'>"
      ]
     },
     "execution_count": 193,
     "metadata": {},
     "output_type": "execute_result"
    }
   ],
   "source": [
    "re.search('\\%', ' ** 2%')"
   ]
  },
  {
   "cell_type": "code",
   "execution_count": 194,
   "id": "dc6a0dce",
   "metadata": {
    "ExecuteTime": {
     "end_time": "2022-11-04T01:53:23.774933Z",
     "start_time": "2022-11-04T01:53:23.765533Z"
    }
   },
   "outputs": [
    {
     "data": {
      "text/plain": [
       "<re.Match object; span=(0, 1), match='$'>"
      ]
     },
     "execution_count": 194,
     "metadata": {},
     "output_type": "execute_result"
    }
   ],
   "source": [
    "re.match('[$()]+', '$document') #하나라도 있는지 확인"
   ]
  },
  {
   "cell_type": "code",
   "execution_count": 195,
   "id": "976f262c",
   "metadata": {
    "ExecuteTime": {
     "end_time": "2022-11-04T01:54:34.243079Z",
     "start_time": "2022-11-04T01:54:34.230231Z"
    }
   },
   "outputs": [
    {
     "data": {
      "text/plain": [
       "<re.Match object; span=(0, 2), match='($'>"
      ]
     },
     "execution_count": 195,
     "metadata": {},
     "output_type": "execute_result"
    }
   ],
   "source": [
    "re.match('[$()]+', '(document)') #하나라도 있는지 확인"
   ]
  },
  {
   "cell_type": "code",
   "execution_count": 196,
   "id": "bf78756b",
   "metadata": {
    "ExecuteTime": {
     "end_time": "2022-11-04T01:54:58.916293Z",
     "start_time": "2022-11-04T01:54:58.907268Z"
    }
   },
   "outputs": [
    {
     "data": {
      "text/plain": [
       "<re.Match object; span=(0, 9), match='123421341'>"
      ]
     },
     "execution_count": 196,
     "metadata": {},
     "output_type": "execute_result"
    }
   ],
   "source": [
    "re.match('\\d+', '123421341') #[0-9]"
   ]
  },
  {
   "cell_type": "code",
   "execution_count": 197,
   "id": "ee815998",
   "metadata": {
    "ExecuteTime": {
     "end_time": "2022-11-04T01:55:08.174926Z",
     "start_time": "2022-11-04T01:55:08.167182Z"
    }
   },
   "outputs": [
    {
     "data": {
      "text/plain": [
       "<re.Match object; span=(0, 6), match='123421'>"
      ]
     },
     "execution_count": 197,
     "metadata": {},
     "output_type": "execute_result"
    }
   ],
   "source": [
    "re.match('\\d+', '123421abc')"
   ]
  },
  {
   "cell_type": "code",
   "execution_count": 198,
   "id": "d34fa81a",
   "metadata": {
    "ExecuteTime": {
     "end_time": "2022-11-04T01:55:20.748991Z",
     "start_time": "2022-11-04T01:55:20.742501Z"
    }
   },
   "outputs": [],
   "source": [
    "re.match('\\D+', '123421abc')#[^0-9]"
   ]
  },
  {
   "cell_type": "code",
   "execution_count": 199,
   "id": "5a4ca5d6",
   "metadata": {
    "ExecuteTime": {
     "end_time": "2022-11-04T01:55:32.846129Z",
     "start_time": "2022-11-04T01:55:32.837710Z"
    }
   },
   "outputs": [
    {
     "data": {
      "text/plain": [
       "<re.Match object; span=(0, 3), match='abc'>"
      ]
     },
     "execution_count": 199,
     "metadata": {},
     "output_type": "execute_result"
    }
   ],
   "source": [
    "re.match('\\D+', 'abc')"
   ]
  },
  {
   "cell_type": "code",
   "execution_count": 201,
   "id": "817a6f88",
   "metadata": {
    "ExecuteTime": {
     "end_time": "2022-11-04T01:57:04.661385Z",
     "start_time": "2022-11-04T01:57:04.652165Z"
    }
   },
   "outputs": [
    {
     "name": "stdout",
     "output_type": "stream",
     "text": [
      "None\n",
      "<re.Match object; span=(7, 8), match='#'>\n"
     ]
    }
   ],
   "source": [
    "print(re.search('\\W+', \"asdfasdf\"))\n",
    "print(re.search('\\W+', \"asdfasd#f\"))\n"
   ]
  },
  {
   "cell_type": "code",
   "execution_count": 204,
   "id": "7a5ce9bc",
   "metadata": {
    "ExecuteTime": {
     "end_time": "2022-11-04T01:58:00.123411Z",
     "start_time": "2022-11-04T01:58:00.116166Z"
    }
   },
   "outputs": [
    {
     "name": "stdout",
     "output_type": "stream",
     "text": [
      "<re.Match object; span=(0, 14), match='asdfasdfas 234'>\n",
      "<re.Match object; span=(0, 14), match='asdfasdfas 234'>\n"
     ]
    }
   ],
   "source": [
    "print(re.match('[a-zA-Z0-9 ]+', \"asdfasdfas 234\"))\n",
    "print(re.search('[a-zA-Z0-9 ]+', \"asdfasdfas 234\"))"
   ]
  },
  {
   "cell_type": "code",
   "execution_count": 207,
   "id": "38f62790",
   "metadata": {
    "ExecuteTime": {
     "end_time": "2022-11-04T01:59:42.231189Z",
     "start_time": "2022-11-04T01:59:42.223261Z"
    }
   },
   "outputs": [
    {
     "name": "stdout",
     "output_type": "stream",
     "text": [
      "<re.Match object; span=(0, 4), match='1324'>\n",
      "None\n"
     ]
    }
   ],
   "source": [
    "#표현식을 할때마다하는게 귀찮으니 객체화\n",
    "p = re.compile('[0-9]+')\n",
    "print(p.match('1324'))\n",
    "print(p.match('abc'))"
   ]
  },
  {
   "cell_type": "code",
   "execution_count": 210,
   "id": "ddc6f407",
   "metadata": {
    "ExecuteTime": {
     "end_time": "2022-11-04T02:01:45.775874Z",
     "start_time": "2022-11-04T02:01:45.767947Z"
    }
   },
   "outputs": [
    {
     "name": "stdout",
     "output_type": "stream",
     "text": [
      "He\n",
      "He\n"
     ]
    }
   ],
   "source": [
    "text = 'Hello world'\n",
    "print(re.match('^[A-Za-z]{2}', text).group()) #찾은 값 반환\n",
    "x = re.match('^[A-Za-z]{2}', text)\n",
    "print(x.group())"
   ]
  },
  {
   "cell_type": "code",
   "execution_count": null,
   "id": "b8e1f3ec",
   "metadata": {},
   "outputs": [],
   "source": []
  },
  {
   "cell_type": "code",
   "execution_count": 215,
   "id": "fa1c71a5",
   "metadata": {
    "ExecuteTime": {
     "end_time": "2022-11-04T02:03:09.814105Z",
     "start_time": "2022-11-04T02:03:09.806706Z"
    }
   },
   "outputs": [
    {
     "data": {
      "text/plain": [
       "<re.Match object; span=(0, 5), match='Hello'>"
      ]
     },
     "execution_count": 215,
     "metadata": {},
     "output_type": "execute_result"
    }
   ],
   "source": [
    "text = 'Hello World'\n",
    "re.search('[A-Za-z]{2,}', text)"
   ]
  },
  {
   "cell_type": "code",
   "execution_count": 214,
   "id": "65a59ef4",
   "metadata": {
    "ExecuteTime": {
     "end_time": "2022-11-04T02:03:07.835750Z",
     "start_time": "2022-11-04T02:03:07.827028Z"
    }
   },
   "outputs": [
    {
     "data": {
      "text/plain": [
       "['Hello', 'World']"
      ]
     },
     "execution_count": 214,
     "metadata": {},
     "output_type": "execute_result"
    }
   ],
   "source": [
    "re.findall('[A-Za-z]{2,}', text) #모두 찾고 싶을때는 findall"
   ]
  },
  {
   "cell_type": "code",
   "execution_count": null,
   "id": "366e3cf3",
   "metadata": {},
   "outputs": [],
   "source": []
  },
  {
   "cell_type": "code",
   "execution_count": null,
   "id": "e5837e40",
   "metadata": {},
   "outputs": [],
   "source": []
  },
  {
   "cell_type": "code",
   "execution_count": null,
   "id": "e2dc8a56",
   "metadata": {},
   "outputs": [],
   "source": []
  },
  {
   "cell_type": "code",
   "execution_count": null,
   "id": "45728975",
   "metadata": {},
   "outputs": [],
   "source": []
  }
 ],
 "metadata": {
  "kernelspec": {
   "display_name": "Python 3 (ipykernel)",
   "language": "python",
   "name": "python3"
  },
  "language_info": {
   "codemirror_mode": {
    "name": "ipython",
    "version": 3
   },
   "file_extension": ".py",
   "mimetype": "text/x-python",
   "name": "python",
   "nbconvert_exporter": "python",
   "pygments_lexer": "ipython3",
   "version": "3.9.12"
  },
  "toc": {
   "base_numbering": 1,
   "nav_menu": {},
   "number_sections": true,
   "sideBar": true,
   "skip_h1_title": false,
   "title_cell": "Table of Contents",
   "title_sidebar": "Contents",
   "toc_cell": false,
   "toc_position": {},
   "toc_section_display": true,
   "toc_window_display": true
  }
 },
 "nbformat": 4,
 "nbformat_minor": 5
}
