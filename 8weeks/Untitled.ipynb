{
 "cells": [
  {
   "cell_type": "code",
   "execution_count": null,
   "id": "b03c0936",
   "metadata": {},
   "outputs": [],
   "source": [
    "1 + 2"
   ]
  },
  {
   "cell_type": "markdown",
   "id": "8c126f88",
   "metadata": {},
   "source": [
    "# 1\n",
    "## 2\n",
    "### 3\n",
    "#### 4\n",
    "\n",
    "우측상단의 code를 markdown으로 변경.\n",
    "        "
   ]
  },
  {
   "cell_type": "markdown",
   "id": "9e995870",
   "metadata": {},
   "source": [
    "# edit mode 실행\n",
    "\n",
    "1.shift enter\n",
    "2.ctrl enter\n",
    "3.alt enter"
   ]
  },
  {
   "cell_type": "markdown",
   "id": "bb1008a4",
   "metadata": {},
   "source": [
    "단축키확인 -> command)h"
   ]
  },
  {
   "cell_type": "code",
   "execution_count": null,
   "id": "894bc37c",
   "metadata": {},
   "outputs": [],
   "source": [
    "edit)shift+tab -> tooltip"
   ]
  },
  {
   "cell_type": "code",
   "execution_count": null,
   "id": "dad91d49",
   "metadata": {},
   "outputs": [],
   "source": [
    "!pip install jupyterthemes"
   ]
  },
  {
   "cell_type": "markdown",
   "id": "94a3bf58",
   "metadata": {},
   "source": [
    "```term\n",
    "(base) randpython/8weeks [ jt -l             master * ] 8:32 PM\n",
    "Available Themes:\n",
    "   chesterish\n",
    "   grade3\n",
    "   gruvboxd\n",
    "   gruvboxl\n",
    "   monokai\n",
    "   oceans16\n",
    "   onedork\n",
    "   solarizedd\n",
    "   solarizedl\n",
    "(base) randpython/8weeks [ jt -t             master * ] 8:32 PM\n",
    "usage: jt [-h] [-l] [-t THEME] [-f MONOFONT] [-fs MONOSIZE]\n",
    "          [-nf NBFONT] [-nfs NBFONTSIZE] [-tf TCFONT]\n",
    "          [-tfs TCFONTSIZE] [-dfs DFFONTSIZE]\n",
    "          [-ofs OUTFONTSIZE] [-mathfs MATHFONTSIZE]\n",
    "          [-m MARGINS] [-cursw CURSORWIDTH]\n",
    "          [-cursc CURSORCOLOR] [-cellw CELLWIDTH]\n",
    "          [-lineh LINEHEIGHT] [-altp] [-altmd] [-altout] [-P]\n",
    "          [-T] [-N] [-kl] [-vim] [-r] [-dfonts]\n",
    "jt: error: argument -t/--theme: expected one argument\n",
    "(base) randpython/8weeks [ jt -t onedork -T\n",
    "```\n",
    "\n",
    "-T를 넣어줘야 툴바가 보임."
   ]
  },
  {
   "cell_type": "markdown",
   "id": "02f61704",
   "metadata": {},
   "source": [
    "!를 붙이고 pip install을 하는 이유는 pip install을 터미널에서 하는 것처럼 해달라는 의미  \n",
    "[shell command로 실행](https://jakevdp.github.io/blog/2017/12/05/installing-python-packages-from-jupyter/)\n",
    "\n"
   ]
  },
  {
   "cell_type": "markdown",
   "id": "9fda597b",
   "metadata": {},
   "source": [
    "# data type\n",
    "\n",
    "## 숫자\n",
    "\n",
    "1. 정수형, 실수형\n",
    "2. 산술연산자\n",
    "    - 사칙연산\n",
    "    - 제곱\n",
    "    - 나머지, 몫\n",
    "3. 할당연산자"
   ]
  },
  {
   "cell_type": "code",
   "execution_count": null,
   "id": "e7f29144",
   "metadata": {
    "ExecuteTime": {
     "end_time": "2022-10-27T11:54:33.585163Z",
     "start_time": "2022-10-27T11:54:33.576132Z"
    }
   },
   "outputs": [],
   "source": [
    "a = 1\n",
    "print(a)\n",
    "\n",
    "b = 2\n",
    "b"
   ]
  },
  {
   "cell_type": "code",
   "execution_count": null,
   "id": "ceb6dd2d",
   "metadata": {
    "ExecuteTime": {
     "end_time": "2022-10-27T11:54:34.376383Z",
     "start_time": "2022-10-27T11:54:34.371375Z"
    }
   },
   "outputs": [],
   "source": [
    "a + b"
   ]
  },
  {
   "cell_type": "code",
   "execution_count": null,
   "id": "64ab58ad",
   "metadata": {
    "ExecuteTime": {
     "end_time": "2022-10-27T11:54:34.567962Z",
     "start_time": "2022-10-27T11:54:34.563139Z"
    }
   },
   "outputs": [],
   "source": [
    "a - b"
   ]
  },
  {
   "cell_type": "code",
   "execution_count": null,
   "id": "10f6f4f8",
   "metadata": {
    "ExecuteTime": {
     "end_time": "2022-10-27T11:54:36.773206Z",
     "start_time": "2022-10-27T11:54:36.768572Z"
    }
   },
   "outputs": [],
   "source": [
    "a * b"
   ]
  },
  {
   "cell_type": "code",
   "execution_count": null,
   "id": "8c627a19",
   "metadata": {
    "ExecuteTime": {
     "end_time": "2022-10-27T11:54:37.008079Z",
     "start_time": "2022-10-27T11:54:37.002601Z"
    }
   },
   "outputs": [],
   "source": [
    "a / b"
   ]
  },
  {
   "cell_type": "code",
   "execution_count": null,
   "id": "5038ffc9",
   "metadata": {
    "ExecuteTime": {
     "end_time": "2022-10-27T11:54:38.167208Z",
     "start_time": "2022-10-27T11:54:38.162480Z"
    }
   },
   "outputs": [],
   "source": [
    "a % b"
   ]
  },
  {
   "cell_type": "code",
   "execution_count": null,
   "id": "b47145bb",
   "metadata": {
    "ExecuteTime": {
     "end_time": "2022-10-27T11:54:55.711748Z",
     "start_time": "2022-10-27T11:54:55.706370Z"
    }
   },
   "outputs": [],
   "source": [
    "a = 3\n",
    "b = 4\n",
    "a ** b"
   ]
  },
  {
   "cell_type": "markdown",
   "id": "aee20ec8",
   "metadata": {},
   "source": [
    "## 문자열\n",
    "\n",
    "2. 여러 줄 문자열\n",
    "3. 문자열 연산\n",
    "4. 문자열 인덱싱, 슬라이싱\n",
    "5. 문자열 포매팅\n",
    "6. \n"
   ]
  },
  {
   "cell_type": "markdown",
   "id": "3198f3f8",
   "metadata": {},
   "source": [
    "### 문자열 만들기 4가지"
   ]
  },
  {
   "cell_type": "code",
   "execution_count": null,
   "id": "3602adb4",
   "metadata": {
    "ExecuteTime": {
     "end_time": "2022-10-27T12:06:13.433143Z",
     "start_time": "2022-10-27T12:06:13.427135Z"
    }
   },
   "outputs": [],
   "source": [
    "\"hello\""
   ]
  },
  {
   "cell_type": "code",
   "execution_count": null,
   "id": "f92b00aa",
   "metadata": {
    "ExecuteTime": {
     "end_time": "2022-10-27T11:58:02.398922Z",
     "start_time": "2022-10-27T11:58:02.394272Z"
    }
   },
   "outputs": [],
   "source": [
    "'hello'"
   ]
  },
  {
   "cell_type": "code",
   "execution_count": null,
   "id": "226316e4",
   "metadata": {
    "ExecuteTime": {
     "end_time": "2022-10-27T11:58:06.285710Z",
     "start_time": "2022-10-27T11:58:06.279150Z"
    }
   },
   "outputs": [],
   "source": [
    "'''hello'''"
   ]
  },
  {
   "cell_type": "code",
   "execution_count": null,
   "id": "e1d9b3b3",
   "metadata": {
    "ExecuteTime": {
     "end_time": "2022-10-27T11:58:11.371681Z",
     "start_time": "2022-10-27T11:58:11.366106Z"
    }
   },
   "outputs": [],
   "source": [
    "\"\"\"hello\"\"\""
   ]
  },
  {
   "cell_type": "code",
   "execution_count": null,
   "id": "9ca64b81",
   "metadata": {
    "ExecuteTime": {
     "end_time": "2022-10-27T11:58:33.133139Z",
     "start_time": "2022-10-27T11:58:33.128502Z"
    }
   },
   "outputs": [],
   "source": [
    "\"\"\"'hi im kang'\"\"\""
   ]
  },
  {
   "cell_type": "code",
   "execution_count": null,
   "id": "55fabab2",
   "metadata": {
    "ExecuteTime": {
     "end_time": "2022-10-27T11:59:57.742735Z",
     "start_time": "2022-10-27T11:59:57.737820Z"
    }
   },
   "outputs": [],
   "source": [
    "'''\"i'm a student\", he says'''"
   ]
  },
  {
   "cell_type": "code",
   "execution_count": null,
   "id": "441bbf7d",
   "metadata": {
    "ExecuteTime": {
     "end_time": "2022-10-27T12:04:55.785630Z",
     "start_time": "2022-10-27T12:04:55.778722Z"
    }
   },
   "outputs": [],
   "source": [
    "print('''\"i'm a student\", he says''')"
   ]
  },
  {
   "cell_type": "markdown",
   "id": "a6da6e68",
   "metadata": {},
   "source": [
    "### 이스케이프 시퀀스"
   ]
  },
  {
   "cell_type": "code",
   "execution_count": null,
   "id": "9595ebd1",
   "metadata": {
    "ExecuteTime": {
     "end_time": "2022-10-27T12:02:02.447621Z",
     "start_time": "2022-10-27T12:02:02.444268Z"
    }
   },
   "outputs": [],
   "source": [
    "print(\"\"\"\\\"i\\'m a student\\\", he says\"\"\")"
   ]
  },
  {
   "cell_type": "code",
   "execution_count": null,
   "id": "bcb0ece4",
   "metadata": {
    "ExecuteTime": {
     "end_time": "2022-10-27T12:02:20.715410Z",
     "start_time": "2022-10-27T12:02:20.711374Z"
    }
   },
   "outputs": [],
   "source": [
    "print(\"\"\"\\\"i\\'m a student\\\".\\n he says\"\"\")"
   ]
  },
  {
   "cell_type": "code",
   "execution_count": null,
   "id": "99154516",
   "metadata": {
    "ExecuteTime": {
     "end_time": "2022-10-27T12:02:44.400802Z",
     "start_time": "2022-10-27T12:02:44.397333Z"
    }
   },
   "outputs": [],
   "source": [
    "print(\"\"\"\\\"i\\'m a student\\\".\\t he says\"\"\")"
   ]
  },
  {
   "cell_type": "code",
   "execution_count": null,
   "id": "f56e9909",
   "metadata": {
    "ExecuteTime": {
     "end_time": "2022-10-27T12:06:19.812159Z",
     "start_time": "2022-10-27T12:06:19.807993Z"
    }
   },
   "outputs": [],
   "source": [
    "print(\"\"\"\\\"i\\'m a student\\\".\\\\ he says\"\"\")"
   ]
  },
  {
   "cell_type": "markdown",
   "id": "88a6b4b3",
   "metadata": {},
   "source": [
    "### 문자열 연산"
   ]
  },
  {
   "cell_type": "code",
   "execution_count": null,
   "id": "bf94cc37",
   "metadata": {
    "ExecuteTime": {
     "end_time": "2022-10-27T12:03:40.815396Z",
     "start_time": "2022-10-27T12:03:40.810345Z"
    }
   },
   "outputs": [],
   "source": [
    "a = \"apple\"\n",
    "b = \"banana\"\n",
    "\n",
    "a + b"
   ]
  },
  {
   "cell_type": "code",
   "execution_count": null,
   "id": "bc7eb166",
   "metadata": {
    "ExecuteTime": {
     "end_time": "2022-10-27T12:04:35.417271Z",
     "start_time": "2022-10-27T12:04:35.410444Z"
    }
   },
   "outputs": [],
   "source": [
    "a = \"apple\"\n",
    "b = 3\n",
    "a * b\n",
    "\n",
    "print(\"=\" * 50)\n",
    "print(\"result\")\n",
    "print(\"=\" * 50)"
   ]
  },
  {
   "cell_type": "code",
   "execution_count": null,
   "id": "7913dac0",
   "metadata": {
    "ExecuteTime": {
     "end_time": "2022-10-27T12:04:43.218526Z",
     "start_time": "2022-10-27T12:04:43.213845Z"
    }
   },
   "outputs": [],
   "source": [
    "\"+\" * 50\n",
    "\"result\""
   ]
  },
  {
   "cell_type": "code",
   "execution_count": null,
   "id": "1e31a061",
   "metadata": {
    "ExecuteTime": {
     "end_time": "2022-10-27T12:19:36.133412Z",
     "start_time": "2022-10-27T12:19:36.128372Z"
    }
   },
   "outputs": [],
   "source": [
    "a = \"life is too short\"\n",
    "\n",
    "len(a)\n",
    "#함수 코드블럭 + shift-tab\n"
   ]
  },
  {
   "cell_type": "markdown",
   "id": "30ce0a61",
   "metadata": {},
   "source": [
    "### 문자열 인덱싱"
   ]
  },
  {
   "cell_type": "code",
   "execution_count": null,
   "id": "1823e991",
   "metadata": {
    "ExecuteTime": {
     "end_time": "2022-10-27T12:22:22.050442Z",
     "start_time": "2022-10-27T12:22:22.042437Z"
    }
   },
   "outputs": [],
   "source": [
    "print(a[0])\n",
    "print(a[3])\n",
    "print(a[5])\n",
    "print(a[-1])\n",
    "print(a[-2])\n",
    "print(a[16])\n",
    "\n",
    "b = \"life\"\n",
    "print(b[-1])\n",
    "print(b[1])\n"
   ]
  },
  {
   "cell_type": "markdown",
   "id": "38780353",
   "metadata": {},
   "source": [
    "### 문자열 슬라이싱\n"
   ]
  },
  {
   "cell_type": "code",
   "execution_count": null,
   "id": "349f9b35",
   "metadata": {
    "ExecuteTime": {
     "end_time": "2022-10-27T12:26:18.153743Z",
     "start_time": "2022-10-27T12:26:18.148865Z"
    }
   },
   "outputs": [],
   "source": [
    "#0이사 4미만\n",
    "a[0:4]"
   ]
  },
  {
   "cell_type": "code",
   "execution_count": null,
   "id": "082dd3ad",
   "metadata": {
    "ExecuteTime": {
     "end_time": "2022-10-27T12:26:29.443665Z",
     "start_time": "2022-10-27T12:26:29.438766Z"
    }
   },
   "outputs": [],
   "source": [
    "a[5:7]"
   ]
  },
  {
   "cell_type": "code",
   "execution_count": null,
   "id": "3d040fe0",
   "metadata": {
    "ExecuteTime": {
     "end_time": "2022-10-27T12:26:37.661804Z",
     "start_time": "2022-10-27T12:26:37.655759Z"
    }
   },
   "outputs": [],
   "source": [
    "a[5:17]"
   ]
  },
  {
   "cell_type": "code",
   "execution_count": null,
   "id": "7822e6f3",
   "metadata": {
    "ExecuteTime": {
     "end_time": "2022-10-27T12:26:41.209653Z",
     "start_time": "2022-10-27T12:26:41.205063Z"
    }
   },
   "outputs": [],
   "source": [
    "a[5:]"
   ]
  },
  {
   "cell_type": "code",
   "execution_count": null,
   "id": "0f50b9e4",
   "metadata": {
    "ExecuteTime": {
     "end_time": "2022-10-27T12:26:48.372692Z",
     "start_time": "2022-10-27T12:26:48.367283Z"
    }
   },
   "outputs": [],
   "source": [
    "a[:5]"
   ]
  },
  {
   "cell_type": "code",
   "execution_count": null,
   "id": "de1eb3c3",
   "metadata": {
    "ExecuteTime": {
     "end_time": "2022-10-27T12:26:54.354140Z",
     "start_time": "2022-10-27T12:26:54.349323Z"
    }
   },
   "outputs": [],
   "source": [
    "a[:]"
   ]
  },
  {
   "cell_type": "code",
   "execution_count": null,
   "id": "805f8aea",
   "metadata": {
    "ExecuteTime": {
     "end_time": "2022-10-27T12:26:59.531054Z",
     "start_time": "2022-10-27T12:26:59.525072Z"
    }
   },
   "outputs": [],
   "source": [
    "a[:-1]"
   ]
  },
  {
   "cell_type": "code",
   "execution_count": null,
   "id": "0446744a",
   "metadata": {
    "ExecuteTime": {
     "end_time": "2022-10-27T12:27:20.723882Z",
     "start_time": "2022-10-27T12:27:20.718619Z"
    }
   },
   "outputs": [],
   "source": [
    "a[-1:]"
   ]
  },
  {
   "cell_type": "code",
   "execution_count": null,
   "id": "c410b546",
   "metadata": {
    "ExecuteTime": {
     "end_time": "2022-10-27T12:27:50.095217Z",
     "start_time": "2022-10-27T12:27:50.089732Z"
    }
   },
   "outputs": [],
   "source": [
    "a[-5:-1]"
   ]
  },
  {
   "cell_type": "code",
   "execution_count": null,
   "id": "329b0562",
   "metadata": {
    "ExecuteTime": {
     "end_time": "2022-10-27T12:27:55.941217Z",
     "start_time": "2022-10-27T12:27:55.936186Z"
    }
   },
   "outputs": [],
   "source": [
    "a[-5:]"
   ]
  },
  {
   "cell_type": "code",
   "execution_count": null,
   "id": "b8f58365",
   "metadata": {
    "ExecuteTime": {
     "end_time": "2022-10-27T12:30:55.460897Z",
     "start_time": "2022-10-27T12:30:55.451144Z"
    }
   },
   "outputs": [],
   "source": [
    "data = \"20220421Sunny\"\n",
    "year = data[0:4]\n",
    "month = data[4:6]\n",
    "day = data[6:8]\n",
    "weather = data[8:]\n",
    "print(year, month, day, weather)"
   ]
  },
  {
   "cell_type": "markdown",
   "id": "27331bde",
   "metadata": {},
   "source": [
    "### 문자열 포매팅"
   ]
  },
  {
   "cell_type": "code",
   "execution_count": null,
   "id": "ec8dcb8d",
   "metadata": {
    "ExecuteTime": {
     "end_time": "2022-10-27T12:31:42.804889Z",
     "start_time": "2022-10-27T12:31:42.799872Z"
    }
   },
   "outputs": [],
   "source": [
    "#대입\n",
    "\"I eat %d apples.\" % 3"
   ]
  },
  {
   "cell_type": "code",
   "execution_count": null,
   "id": "a8af10e3",
   "metadata": {
    "ExecuteTime": {
     "end_time": "2022-10-27T12:32:08.019805Z",
     "start_time": "2022-10-27T12:32:08.014808Z"
    }
   },
   "outputs": [],
   "source": [
    "\"I eat %s apples.\" % \"three\""
   ]
  },
  {
   "cell_type": "code",
   "execution_count": null,
   "id": "1bc6effd",
   "metadata": {
    "ExecuteTime": {
     "end_time": "2022-10-27T12:32:33.185035Z",
     "start_time": "2022-10-27T12:32:33.181020Z"
    }
   },
   "outputs": [],
   "source": [
    "print(\"I eat %s apples\" % \"three\")"
   ]
  },
  {
   "cell_type": "code",
   "execution_count": null,
   "id": "f2c7bf94",
   "metadata": {
    "ExecuteTime": {
     "end_time": "2022-10-27T12:32:51.707990Z",
     "start_time": "2022-10-27T12:32:51.704376Z"
    }
   },
   "outputs": [],
   "source": [
    "num = 3\n",
    "print(\"I eat %d apples.\" % num)"
   ]
  },
  {
   "cell_type": "code",
   "execution_count": null,
   "id": "b6ca1d21",
   "metadata": {
    "ExecuteTime": {
     "end_time": "2022-10-27T12:33:38.982435Z",
     "start_time": "2022-10-27T12:33:38.976380Z"
    }
   },
   "outputs": [],
   "source": [
    "num = 10\n",
    "day = \"three\"\n",
    "print(\"I ate %d apples. so i was sick for %s days\" %(num, day))"
   ]
  },
  {
   "cell_type": "code",
   "execution_count": null,
   "id": "e8fe6476",
   "metadata": {
    "ExecuteTime": {
     "end_time": "2022-10-27T12:35:01.355979Z",
     "start_time": "2022-10-27T12:35:01.351068Z"
    }
   },
   "outputs": [],
   "source": [
    "accuracy_rate = 90\n",
    "print(\"Error is %d%%\" % accuracy_rate)"
   ]
  },
  {
   "cell_type": "code",
   "execution_count": null,
   "id": "9ba9d7ab",
   "metadata": {
    "ExecuteTime": {
     "end_time": "2022-10-27T12:35:24.034159Z",
     "start_time": "2022-10-27T12:35:24.027721Z"
    }
   },
   "outputs": [],
   "source": [
    "# 포매팅\n",
    "\"%10s포매팅\" % \"hi\""
   ]
  },
  {
   "cell_type": "code",
   "execution_count": null,
   "id": "4491913e",
   "metadata": {
    "ExecuteTime": {
     "end_time": "2022-10-27T12:35:34.240540Z",
     "start_time": "2022-10-27T12:35:34.235496Z"
    }
   },
   "outputs": [],
   "source": [
    "\"%-10s포매팅\" % \"hi\""
   ]
  },
  {
   "cell_type": "code",
   "execution_count": null,
   "id": "83c8eb37",
   "metadata": {
    "ExecuteTime": {
     "end_time": "2022-10-27T12:35:55.947401Z",
     "start_time": "2022-10-27T12:35:55.939895Z"
    }
   },
   "outputs": [],
   "source": [
    "\"%10f\" % 3.42"
   ]
  },
  {
   "cell_type": "code",
   "execution_count": null,
   "id": "ec35868a",
   "metadata": {
    "ExecuteTime": {
     "end_time": "2022-10-27T12:36:08.149750Z",
     "start_time": "2022-10-27T12:36:08.143749Z"
    }
   },
   "outputs": [],
   "source": [
    "\"%-10f\" % 3.42"
   ]
  },
  {
   "cell_type": "code",
   "execution_count": null,
   "id": "ab7261ac",
   "metadata": {
    "ExecuteTime": {
     "end_time": "2022-10-27T12:36:39.138279Z",
     "start_time": "2022-10-27T12:36:39.133587Z"
    }
   },
   "outputs": [],
   "source": [
    "\"%.4f\" % 3.42"
   ]
  },
  {
   "cell_type": "code",
   "execution_count": null,
   "id": "139a6cee",
   "metadata": {
    "ExecuteTime": {
     "end_time": "2022-10-27T12:37:06.626258Z",
     "start_time": "2022-10-27T12:37:06.621379Z"
    }
   },
   "outputs": [],
   "source": [
    "\"I eat {0} apples\".format(3)"
   ]
  },
  {
   "cell_type": "code",
   "execution_count": null,
   "id": "ad6f9dca",
   "metadata": {
    "ExecuteTime": {
     "end_time": "2022-10-27T12:37:20.362816Z",
     "start_time": "2022-10-27T12:37:20.357911Z"
    }
   },
   "outputs": [],
   "source": [
    "\"I eat {0} apples\".format(\"three\")\n"
   ]
  },
  {
   "cell_type": "code",
   "execution_count": null,
   "id": "fc4de22d",
   "metadata": {
    "ExecuteTime": {
     "end_time": "2022-10-27T12:37:38.952722Z",
     "start_time": "2022-10-27T12:37:38.947378Z"
    }
   },
   "outputs": [],
   "source": [
    "num = 3\n",
    "\"I eat {} apples\".format(num)"
   ]
  },
  {
   "cell_type": "code",
   "execution_count": null,
   "id": "a75fd320",
   "metadata": {
    "ExecuteTime": {
     "end_time": "2022-10-27T12:38:00.884384Z",
     "start_time": "2022-10-27T12:38:00.878636Z"
    }
   },
   "outputs": [],
   "source": [
    "num = 3\n",
    "num2 = 4\n",
    "\"I eat {} apples and {} pears\".format(num, num2)"
   ]
  },
  {
   "cell_type": "code",
   "execution_count": null,
   "id": "a531be36",
   "metadata": {
    "ExecuteTime": {
     "end_time": "2022-10-27T12:38:54.003561Z",
     "start_time": "2022-10-27T12:38:53.998066Z"
    }
   },
   "outputs": [],
   "source": [
    "# 중괄호 안의 변수명을 .format의 변수병과 일치시킴\n",
    "# 달라도 상관은 없지만 같아야 인식하기 쉬움\n",
    "\"I eat {num2} apples and {num2} pears\".format(num = 3, num2 = 2)"
   ]
  },
  {
   "cell_type": "code",
   "execution_count": null,
   "id": "d896a3ab",
   "metadata": {
    "ExecuteTime": {
     "end_time": "2022-10-27T12:39:45.204889Z",
     "start_time": "2022-10-27T12:39:45.201977Z"
    }
   },
   "outputs": [],
   "source": [
    "a = \"apple\""
   ]
  },
  {
   "cell_type": "code",
   "execution_count": null,
   "id": "4b6bcc45",
   "metadata": {
    "ExecuteTime": {
     "end_time": "2022-10-27T12:40:07.416962Z",
     "start_time": "2022-10-27T12:40:07.409483Z"
    }
   },
   "outputs": [],
   "source": [
    "# 문자열에서 해당하는 값 개수\n",
    "a.count(\"p\")"
   ]
  },
  {
   "cell_type": "code",
   "execution_count": null,
   "id": "51c4af1c",
   "metadata": {
    "ExecuteTime": {
     "end_time": "2022-10-27T12:40:57.677245Z",
     "start_time": "2022-10-27T12:40:57.671882Z"
    }
   },
   "outputs": [],
   "source": [
    "# 문자열 위치 찾기\n",
    "a.find(\"a\")\n"
   ]
  },
  {
   "cell_type": "code",
   "execution_count": null,
   "id": "c49d25e2",
   "metadata": {
    "ExecuteTime": {
     "end_time": "2022-10-27T12:40:56.405634Z",
     "start_time": "2022-10-27T12:40:56.400767Z"
    }
   },
   "outputs": [],
   "source": [
    "a.index(\"a\")"
   ]
  },
  {
   "cell_type": "code",
   "execution_count": null,
   "id": "e9d0af1a",
   "metadata": {
    "ExecuteTime": {
     "end_time": "2022-10-27T12:41:31.785132Z",
     "start_time": "2022-10-27T12:41:31.755530Z"
    }
   },
   "outputs": [],
   "source": [
    "# 차이\n",
    "print(a.find(\"q\"))\n",
    "print(a.index(\"q\"))"
   ]
  },
  {
   "cell_type": "code",
   "execution_count": null,
   "id": "0e764de4",
   "metadata": {
    "ExecuteTime": {
     "end_time": "2022-10-27T12:42:51.243296Z",
     "start_time": "2022-10-27T12:42:51.236338Z"
    }
   },
   "outputs": [],
   "source": [
    "# 문자열 수정\n",
    "\n",
    "print(\".\".join(\"abcd\"))\n",
    "print(\" \".join(\"abcd\"))\n",
    "print(\"hi\".upper())\n",
    "print(\"HI\".lower())\n"
   ]
  },
  {
   "cell_type": "code",
   "execution_count": null,
   "id": "ad65ac98",
   "metadata": {
    "ExecuteTime": {
     "end_time": "2022-10-27T12:44:51.282744Z",
     "start_time": "2022-10-27T12:44:51.275410Z"
    }
   },
   "outputs": [],
   "source": [
    "a = \" hi \"\n",
    "print(\"\\\"\", a, \"\\\"\")\n",
    "print(\"\\\"\", a.lstrip(\" \"), \"\\\"\")\n",
    "print(\"\\\"\", a.rstrip(\" \"), \"\\\"\")\n",
    "print(\"\\\"\", a.strip(\" \"), \"\\\"\")"
   ]
  },
  {
   "cell_type": "code",
   "execution_count": null,
   "id": "b1e92966",
   "metadata": {
    "ExecuteTime": {
     "end_time": "2022-10-27T12:47:41.648663Z",
     "start_time": "2022-10-27T12:47:41.642169Z"
    }
   },
   "outputs": [],
   "source": [
    "a = \"a is apple. c is banana\"\n",
    "print(a.replace(\"c\", \"b\"))\n",
    "print(a) #재할당해줘야함\n",
    "\n",
    "a = a.replace(\"c is\", \"b is\")\n",
    "print(a)\n",
    "\n"
   ]
  },
  {
   "cell_type": "code",
   "execution_count": null,
   "id": "840f1df9",
   "metadata": {
    "ExecuteTime": {
     "end_time": "2022-10-27T12:49:54.329324Z",
     "start_time": "2022-10-27T12:49:54.324195Z"
    }
   },
   "outputs": [],
   "source": [
    "#문자열 스플릿\n",
    "#리스트로 반환함.\n",
    "print(a)\n",
    "print(a.split('.'))\n",
    "\n"
   ]
  },
  {
   "cell_type": "markdown",
   "id": "3bca7038",
   "metadata": {},
   "source": [
    "## 리스트"
   ]
  },
  {
   "cell_type": "markdown",
   "id": "79b5a428",
   "metadata": {},
   "source": [
    "### 리스트 만들고 사용하기"
   ]
  },
  {
   "cell_type": "code",
   "execution_count": null,
   "id": "f13352ec",
   "metadata": {
    "ExecuteTime": {
     "end_time": "2022-10-30T07:30:02.529936Z",
     "start_time": "2022-10-30T07:30:02.521874Z"
    }
   },
   "outputs": [],
   "source": [
    "a = []\n",
    "b = [1,2,3]\n",
    "c = ['1','b','c',4]\n",
    "d = [[1,2,], [3,4]]\n",
    "\n",
    "print(a)\n",
    "print(b)\n",
    "print(c)\n",
    "print(d)"
   ]
  },
  {
   "cell_type": "markdown",
   "id": "fcd11d28",
   "metadata": {},
   "source": [
    "### 리스트 인덱싱과 슬라이싱"
   ]
  },
  {
   "cell_type": "code",
   "execution_count": null,
   "id": "00cac51b",
   "metadata": {
    "ExecuteTime": {
     "end_time": "2022-10-30T07:31:10.833681Z",
     "start_time": "2022-10-30T07:31:10.826597Z"
    }
   },
   "outputs": [],
   "source": [
    "print(b[1])\n",
    "print(d[1])\n",
    "b[0]"
   ]
  },
  {
   "cell_type": "code",
   "execution_count": null,
   "id": "e10780b1",
   "metadata": {
    "ExecuteTime": {
     "end_time": "2022-10-30T07:31:16.664109Z",
     "start_time": "2022-10-30T07:31:16.658570Z"
    }
   },
   "outputs": [],
   "source": [
    "b[-1]"
   ]
  },
  {
   "cell_type": "code",
   "execution_count": null,
   "id": "801171c7",
   "metadata": {
    "ExecuteTime": {
     "end_time": "2022-10-30T07:31:34.483994Z",
     "start_time": "2022-10-30T07:31:34.478171Z"
    }
   },
   "outputs": [],
   "source": [
    "d[0][1]"
   ]
  },
  {
   "cell_type": "code",
   "execution_count": null,
   "id": "bd35bd66",
   "metadata": {
    "ExecuteTime": {
     "end_time": "2022-10-30T07:31:40.352929Z",
     "start_time": "2022-10-30T07:31:40.347894Z"
    }
   },
   "outputs": [],
   "source": [
    "d[1][0]"
   ]
  },
  {
   "cell_type": "code",
   "execution_count": null,
   "id": "8fdcedbf",
   "metadata": {
    "ExecuteTime": {
     "end_time": "2022-10-30T07:32:26.592602Z",
     "start_time": "2022-10-30T07:32:26.585002Z"
    }
   },
   "outputs": [],
   "source": [
    "a = [1,2,3,4,5]\n",
    "\n",
    "a[0:3]"
   ]
  },
  {
   "cell_type": "code",
   "execution_count": null,
   "id": "3a481170",
   "metadata": {
    "ExecuteTime": {
     "end_time": "2022-10-30T07:32:33.717349Z",
     "start_time": "2022-10-30T07:32:33.711003Z"
    }
   },
   "outputs": [],
   "source": [
    "a[:3]"
   ]
  },
  {
   "cell_type": "code",
   "execution_count": null,
   "id": "d196ae90",
   "metadata": {
    "ExecuteTime": {
     "end_time": "2022-10-30T07:32:45.463507Z",
     "start_time": "2022-10-30T07:32:45.457498Z"
    }
   },
   "outputs": [],
   "source": [
    "a[2:4]"
   ]
  },
  {
   "cell_type": "code",
   "execution_count": null,
   "id": "465182b6",
   "metadata": {
    "ExecuteTime": {
     "end_time": "2022-10-30T07:33:00.029317Z",
     "start_time": "2022-10-30T07:33:00.022518Z"
    }
   },
   "outputs": [],
   "source": [
    "a[3:]"
   ]
  },
  {
   "cell_type": "code",
   "execution_count": null,
   "id": "d108314d",
   "metadata": {
    "ExecuteTime": {
     "end_time": "2022-10-30T07:36:05.121384Z",
     "start_time": "2022-10-30T07:36:05.113749Z"
    }
   },
   "outputs": [],
   "source": [
    "a = [1,2,3,['a','b','c'],4,5]\n",
    "a[2:5]"
   ]
  },
  {
   "cell_type": "markdown",
   "id": "460d2458",
   "metadata": {},
   "source": [
    "### 리스트연산하기"
   ]
  },
  {
   "cell_type": "code",
   "execution_count": null,
   "id": "0bab7b89",
   "metadata": {
    "ExecuteTime": {
     "end_time": "2022-10-30T07:34:24.949214Z",
     "start_time": "2022-10-30T07:34:24.942832Z"
    }
   },
   "outputs": [],
   "source": [
    "a = [1,2,3]\n",
    "b = [4,5,6]\n",
    "a + b "
   ]
  },
  {
   "cell_type": "code",
   "execution_count": null,
   "id": "2294f3a0",
   "metadata": {
    "ExecuteTime": {
     "end_time": "2022-10-30T07:34:27.615496Z",
     "start_time": "2022-10-30T07:34:27.609902Z"
    }
   },
   "outputs": [],
   "source": [
    "a * 3"
   ]
  },
  {
   "cell_type": "code",
   "execution_count": null,
   "id": "d8c14ffe",
   "metadata": {
    "ExecuteTime": {
     "end_time": "2022-10-30T07:36:28.474399Z",
     "start_time": "2022-10-30T07:36:28.468308Z"
    }
   },
   "outputs": [],
   "source": [
    "len(a)"
   ]
  },
  {
   "cell_type": "markdown",
   "id": "8ff750a3",
   "metadata": {},
   "source": [
    "### 리스트의 수정과 삭제"
   ]
  },
  {
   "cell_type": "code",
   "execution_count": null,
   "id": "0065dd3d",
   "metadata": {
    "ExecuteTime": {
     "end_time": "2022-10-30T07:35:12.422297Z",
     "start_time": "2022-10-30T07:35:12.418587Z"
    }
   },
   "outputs": [],
   "source": [
    "a[2] = 4"
   ]
  },
  {
   "cell_type": "code",
   "execution_count": null,
   "id": "b6123b0b",
   "metadata": {
    "ExecuteTime": {
     "end_time": "2022-10-30T07:35:14.088455Z",
     "start_time": "2022-10-30T07:35:14.082702Z"
    }
   },
   "outputs": [],
   "source": [
    "a"
   ]
  },
  {
   "cell_type": "code",
   "execution_count": null,
   "id": "1729690f",
   "metadata": {
    "ExecuteTime": {
     "end_time": "2022-10-30T07:36:41.612954Z",
     "start_time": "2022-10-30T07:36:41.584125Z"
    }
   },
   "outputs": [],
   "source": [
    "str1 = \"asdf\"\n",
    "str1[0] = 'c'"
   ]
  },
  {
   "cell_type": "markdown",
   "id": "86d28795",
   "metadata": {},
   "source": [
    "### 리스트 관련 함수"
   ]
  },
  {
   "cell_type": "code",
   "execution_count": null,
   "id": "fce97946",
   "metadata": {
    "ExecuteTime": {
     "end_time": "2022-10-30T07:39:08.204195Z",
     "start_time": "2022-10-30T07:39:08.198071Z"
    }
   },
   "outputs": [],
   "source": [
    "a = [1,2,3]\n",
    "a.append(4)\n",
    "\n",
    "print(a)"
   ]
  },
  {
   "cell_type": "code",
   "execution_count": null,
   "id": "ca36b6f0",
   "metadata": {
    "ExecuteTime": {
     "end_time": "2022-10-30T07:39:08.393918Z",
     "start_time": "2022-10-30T07:39:08.366173Z"
    }
   },
   "outputs": [],
   "source": [
    "a.append(5,6)"
   ]
  },
  {
   "cell_type": "code",
   "execution_count": null,
   "id": "5bb6578c",
   "metadata": {
    "ExecuteTime": {
     "end_time": "2022-10-30T07:39:08.538226Z",
     "start_time": "2022-10-30T07:39:08.528829Z"
    }
   },
   "outputs": [],
   "source": [
    "a.append(5)\n",
    "a.append(6)\n",
    "\n",
    "a.append([7,8])\n",
    "a"
   ]
  },
  {
   "cell_type": "code",
   "execution_count": null,
   "id": "35ef1df0",
   "metadata": {
    "ExecuteTime": {
     "end_time": "2022-10-30T07:39:08.920826Z",
     "start_time": "2022-10-30T07:39:08.912765Z"
    }
   },
   "outputs": [],
   "source": [
    "a = [1,4,3,2]\n",
    "a.sort()\n",
    "a"
   ]
  },
  {
   "cell_type": "code",
   "execution_count": null,
   "id": "90783de2",
   "metadata": {
    "ExecuteTime": {
     "end_time": "2022-10-30T07:39:10.222509Z",
     "start_time": "2022-10-30T07:39:10.215529Z"
    }
   },
   "outputs": [],
   "source": [
    "a.reverse()\n",
    "a"
   ]
  },
  {
   "cell_type": "code",
   "execution_count": null,
   "id": "d9adcf6e",
   "metadata": {
    "ExecuteTime": {
     "end_time": "2022-10-30T07:39:51.993519Z",
     "start_time": "2022-10-30T07:39:51.986556Z"
    }
   },
   "outputs": [],
   "source": [
    "a.sort()\n",
    "a.sort(reverse=True)\n",
    "a"
   ]
  },
  {
   "cell_type": "code",
   "execution_count": null,
   "id": "5e3387d4",
   "metadata": {
    "ExecuteTime": {
     "end_time": "2022-10-30T07:40:02.529400Z",
     "start_time": "2022-10-30T07:40:02.522142Z"
    }
   },
   "outputs": [],
   "source": [
    "a = [1,2,3]\n",
    "a.index(3)"
   ]
  },
  {
   "cell_type": "code",
   "execution_count": null,
   "id": "cee39de8",
   "metadata": {
    "ExecuteTime": {
     "end_time": "2022-10-30T07:40:38.235139Z",
     "start_time": "2022-10-30T07:40:38.207049Z"
    }
   },
   "outputs": [],
   "source": [
    "a.index(4)"
   ]
  },
  {
   "cell_type": "code",
   "execution_count": null,
   "id": "efed5ee9",
   "metadata": {
    "ExecuteTime": {
     "end_time": "2022-10-30T07:40:39.309272Z",
     "start_time": "2022-10-30T07:40:39.279245Z"
    }
   },
   "outputs": [],
   "source": [
    "a.find(4)"
   ]
  },
  {
   "cell_type": "code",
   "execution_count": null,
   "id": "4510c21a",
   "metadata": {
    "ExecuteTime": {
     "end_time": "2022-10-30T07:41:35.353210Z",
     "start_time": "2022-10-30T07:41:35.344246Z"
    }
   },
   "outputs": [],
   "source": [
    "a = [1,2,4]\n",
    "\n",
    "a.insert(2,3)\n",
    "a"
   ]
  },
  {
   "cell_type": "code",
   "execution_count": null,
   "id": "c0fd7022",
   "metadata": {
    "ExecuteTime": {
     "end_time": "2022-10-30T07:41:46.168694Z",
     "start_time": "2022-10-30T07:41:46.164539Z"
    }
   },
   "outputs": [],
   "source": [
    "a = [1,2,3,1,2,3]\n",
    "a.remove(3)"
   ]
  },
  {
   "cell_type": "code",
   "execution_count": null,
   "id": "c4e4b938",
   "metadata": {
    "ExecuteTime": {
     "end_time": "2022-10-30T07:41:50.564614Z",
     "start_time": "2022-10-30T07:41:50.559471Z"
    }
   },
   "outputs": [],
   "source": [
    "a"
   ]
  },
  {
   "cell_type": "code",
   "execution_count": null,
   "id": "7406773c",
   "metadata": {
    "ExecuteTime": {
     "end_time": "2022-10-30T07:42:15.424272Z",
     "start_time": "2022-10-30T07:42:15.417837Z"
    }
   },
   "outputs": [],
   "source": [
    "a = [1,2,3]\n",
    "a.pop()"
   ]
  },
  {
   "cell_type": "code",
   "execution_count": null,
   "id": "6f665f08",
   "metadata": {
    "ExecuteTime": {
     "end_time": "2022-10-30T07:42:38.165180Z",
     "start_time": "2022-10-30T07:42:38.160108Z"
    }
   },
   "outputs": [],
   "source": [
    "a = [1,2,3,1]\n",
    "\n",
    "a.count(1)"
   ]
  },
  {
   "cell_type": "code",
   "execution_count": null,
   "id": "16c32ad9",
   "metadata": {
    "ExecuteTime": {
     "end_time": "2022-10-30T07:43:35.289608Z",
     "start_time": "2022-10-30T07:43:35.284581Z"
    }
   },
   "outputs": [],
   "source": [
    "#리스트 확장\n",
    "a = [1,2,3]\n",
    "a.extend([4])"
   ]
  },
  {
   "cell_type": "code",
   "execution_count": null,
   "id": "0ebbda71",
   "metadata": {
    "ExecuteTime": {
     "end_time": "2022-10-30T07:43:35.628993Z",
     "start_time": "2022-10-30T07:43:35.623359Z"
    }
   },
   "outputs": [],
   "source": [
    "a"
   ]
  },
  {
   "cell_type": "markdown",
   "id": "022f828d",
   "metadata": {},
   "source": [
    "## 튜플"
   ]
  },
  {
   "cell_type": "markdown",
   "id": "5ac9ea07",
   "metadata": {},
   "source": [
    "### 튜플 vs 리스트"
   ]
  },
  {
   "cell_type": "code",
   "execution_count": null,
   "id": "baa92fe8",
   "metadata": {
    "ExecuteTime": {
     "start_time": "2022-10-30T12:09:05.017Z"
    }
   },
   "outputs": [],
   "source": [
    "t1 = ()\n",
    "t2 = (1)\n",
    "t3 = (1,2,3)\n",
    "t4 = ('a','b',('ab','cd'))\n",
    "print(t1)\n",
    "print(t2)\n",
    "print(t3)\n",
    "print(t4)"
   ]
  },
  {
   "cell_type": "markdown",
   "id": "63812dbf",
   "metadata": {},
   "source": [
    "### 튜플다루기"
   ]
  },
  {
   "cell_type": "code",
   "execution_count": null,
   "id": "972dae26",
   "metadata": {
    "ExecuteTime": {
     "end_time": "2022-10-30T07:49:23.024969Z",
     "start_time": "2022-10-30T07:49:23.017772Z"
    }
   },
   "outputs": [],
   "source": [
    "t3[2]"
   ]
  },
  {
   "cell_type": "code",
   "execution_count": null,
   "id": "59d96a98",
   "metadata": {
    "ExecuteTime": {
     "end_time": "2022-10-30T07:49:23.236697Z",
     "start_time": "2022-10-30T07:49:23.206943Z"
    }
   },
   "outputs": [],
   "source": [
    "#값 못바꿈\n",
    "t3[2] = 4"
   ]
  },
  {
   "cell_type": "code",
   "execution_count": null,
   "id": "84f7e7b1",
   "metadata": {
    "ExecuteTime": {
     "end_time": "2022-10-30T07:49:33.230975Z",
     "start_time": "2022-10-30T07:49:33.224166Z"
    }
   },
   "outputs": [],
   "source": [
    "t3[:2]"
   ]
  },
  {
   "cell_type": "code",
   "execution_count": null,
   "id": "82595083",
   "metadata": {
    "ExecuteTime": {
     "end_time": "2022-10-30T07:50:15.019757Z",
     "start_time": "2022-10-30T07:50:15.014103Z"
    }
   },
   "outputs": [],
   "source": [
    "a = (1,2,3)\n",
    "b = (4,5,6)\n",
    "a * 3"
   ]
  },
  {
   "cell_type": "code",
   "execution_count": null,
   "id": "947dfae1",
   "metadata": {
    "ExecuteTime": {
     "end_time": "2022-10-30T07:50:16.329865Z",
     "start_time": "2022-10-30T07:50:16.323619Z"
    }
   },
   "outputs": [],
   "source": [
    "a + b"
   ]
  },
  {
   "cell_type": "code",
   "execution_count": null,
   "id": "0cc67ced",
   "metadata": {
    "ExecuteTime": {
     "end_time": "2022-10-30T08:56:25.489598Z",
     "start_time": "2022-10-30T08:56:25.475134Z"
    }
   },
   "outputs": [],
   "source": [
    "len(a)"
   ]
  },
  {
   "cell_type": "code",
   "execution_count": null,
   "id": "3a976e3d",
   "metadata": {
    "ExecuteTime": {
     "end_time": "2022-10-30T08:56:42.505775Z",
     "start_time": "2022-10-30T08:56:42.499495Z"
    }
   },
   "outputs": [],
   "source": [
    "a = (1,2,3)\n",
    "b = 1,2,3\n",
    "# 튜플은 괄호안써도 인식됨\n",
    "print(a)\n",
    "print(b)"
   ]
  },
  {
   "cell_type": "markdown",
   "id": "d2b01c35",
   "metadata": {},
   "source": [
    "## 딕셔너리"
   ]
  },
  {
   "cell_type": "markdown",
   "id": "40f879e9",
   "metadata": {
    "ExecuteTime": {
     "end_time": "2022-10-30T08:57:59.488687Z",
     "start_time": "2022-10-30T08:57:59.485279Z"
    }
   },
   "source": [
    "### 딕셔너리란"
   ]
  },
  {
   "cell_type": "code",
   "execution_count": null,
   "id": "e35b50cf",
   "metadata": {
    "ExecuteTime": {
     "end_time": "2022-10-30T09:24:05.954891Z",
     "start_time": "2022-10-30T09:24:05.949470Z"
    }
   },
   "outputs": [],
   "source": [
    "dic = {'name' : 'aaa', 'mobile' : '010-2410-3123', 'birth' : '200428'}"
   ]
  },
  {
   "cell_type": "code",
   "execution_count": null,
   "id": "47166216",
   "metadata": {
    "ExecuteTime": {
     "end_time": "2022-10-30T09:24:09.551475Z",
     "start_time": "2022-10-30T09:24:09.544060Z"
    }
   },
   "outputs": [],
   "source": [
    "dic"
   ]
  },
  {
   "cell_type": "code",
   "execution_count": null,
   "id": "ce33ff20",
   "metadata": {
    "ExecuteTime": {
     "end_time": "2022-10-30T09:24:35.703838Z",
     "start_time": "2022-10-30T09:24:35.699812Z"
    }
   },
   "outputs": [],
   "source": [
    "a = {1 : 3}"
   ]
  },
  {
   "cell_type": "code",
   "execution_count": null,
   "id": "efabea31",
   "metadata": {
    "ExecuteTime": {
     "end_time": "2022-10-30T09:24:48.902071Z",
     "start_time": "2022-10-30T09:24:48.898447Z"
    }
   },
   "outputs": [],
   "source": [
    "a = {1: [1,2,3]}"
   ]
  },
  {
   "cell_type": "code",
   "execution_count": null,
   "id": "406ea8be",
   "metadata": {
    "ExecuteTime": {
     "end_time": "2022-10-30T09:24:56.688318Z",
     "start_time": "2022-10-30T09:24:56.656559Z"
    }
   },
   "outputs": [],
   "source": [
    "a = {[1,2,3] : 1}"
   ]
  },
  {
   "cell_type": "code",
   "execution_count": null,
   "id": "ca75b101",
   "metadata": {},
   "outputs": [],
   "source": [
    "#키:값 쌍에서 키는 숫자혹은 문자여야함\n"
   ]
  },
  {
   "cell_type": "code",
   "execution_count": null,
   "id": "252c6c63",
   "metadata": {},
   "outputs": [],
   "source": []
  },
  {
   "cell_type": "markdown",
   "id": "99928ee6",
   "metadata": {
    "ExecuteTime": {
     "end_time": "2022-10-30T08:58:06.837876Z",
     "start_time": "2022-10-30T08:58:06.832974Z"
    }
   },
   "source": [
    "### 만들기"
   ]
  },
  {
   "cell_type": "markdown",
   "id": "5dc1ff03",
   "metadata": {
    "ExecuteTime": {
     "end_time": "2022-10-30T08:58:22.451834Z",
     "start_time": "2022-10-30T08:58:22.448031Z"
    }
   },
   "source": [
    "### 쌍 추가/삭제 "
   ]
  },
  {
   "cell_type": "code",
   "execution_count": null,
   "id": "bd71c36b",
   "metadata": {
    "ExecuteTime": {
     "end_time": "2022-10-30T10:53:04.700353Z",
     "start_time": "2022-10-30T10:53:04.695916Z"
    }
   },
   "outputs": [],
   "source": [
    "dic['email'] = 'asdf'"
   ]
  },
  {
   "cell_type": "code",
   "execution_count": null,
   "id": "06c4ec87",
   "metadata": {
    "ExecuteTime": {
     "end_time": "2022-10-30T10:53:04.869754Z",
     "start_time": "2022-10-30T10:53:04.862443Z"
    }
   },
   "outputs": [],
   "source": [
    "dic"
   ]
  },
  {
   "cell_type": "code",
   "execution_count": null,
   "id": "4348d1ba",
   "metadata": {
    "ExecuteTime": {
     "end_time": "2022-10-30T10:53:05.138669Z",
     "start_time": "2022-10-30T10:53:05.111566Z"
    }
   },
   "outputs": [],
   "source": [
    "#대괄호로 접근한 키에 값을 할당하면 추가된다.\n",
    "dic['name':1234]"
   ]
  },
  {
   "cell_type": "code",
   "execution_count": null,
   "id": "34d2cb28",
   "metadata": {
    "ExecuteTime": {
     "end_time": "2022-10-30T10:53:05.707877Z",
     "start_time": "2022-10-30T10:53:05.700692Z"
    }
   },
   "outputs": [],
   "source": [
    "dic['name']"
   ]
  },
  {
   "cell_type": "code",
   "execution_count": null,
   "id": "ccbd8720",
   "metadata": {
    "ExecuteTime": {
     "end_time": "2022-10-30T10:29:31.616774Z",
     "start_time": "2022-10-30T10:29:31.613429Z"
    }
   },
   "outputs": [],
   "source": [
    "dic['name'] = 'ppp'"
   ]
  },
  {
   "cell_type": "code",
   "execution_count": null,
   "id": "b2c04022",
   "metadata": {
    "ExecuteTime": {
     "end_time": "2022-10-30T10:29:31.784299Z",
     "start_time": "2022-10-30T10:29:31.777729Z"
    }
   },
   "outputs": [],
   "source": [
    "dic."
   ]
  },
  {
   "cell_type": "markdown",
   "id": "15641a2d",
   "metadata": {
    "ExecuteTime": {
     "end_time": "2022-10-30T08:58:36.836469Z",
     "start_time": "2022-10-30T08:58:36.833639Z"
    }
   },
   "source": [
    "### 관련함수 "
   ]
  },
  {
   "cell_type": "code",
   "execution_count": null,
   "id": "07d6d2d9",
   "metadata": {
    "ExecuteTime": {
     "end_time": "2022-10-30T10:29:46.929310Z",
     "start_time": "2022-10-30T10:29:46.921896Z"
    }
   },
   "outputs": [],
   "source": [
    "dic.keys()\n",
    "#순서가 없음"
   ]
  },
  {
   "cell_type": "code",
   "execution_count": null,
   "id": "6b0eb905",
   "metadata": {
    "ExecuteTime": {
     "end_time": "2022-10-30T10:29:54.049170Z",
     "start_time": "2022-10-30T10:29:54.042816Z"
    }
   },
   "outputs": [],
   "source": [
    "type(dic)"
   ]
  },
  {
   "cell_type": "code",
   "execution_count": null,
   "id": "b6dc60dc",
   "metadata": {
    "ExecuteTime": {
     "end_time": "2022-10-30T10:30:04.614793Z",
     "start_time": "2022-10-30T10:30:04.606715Z"
    }
   },
   "outputs": [],
   "source": [
    "type(dic['name'])"
   ]
  },
  {
   "cell_type": "code",
   "execution_count": null,
   "id": "e08fcd67",
   "metadata": {
    "ExecuteTime": {
     "end_time": "2022-10-30T10:30:11.473454Z",
     "start_time": "2022-10-30T10:30:11.468960Z"
    }
   },
   "outputs": [],
   "source": [
    "a = dic.keys()"
   ]
  },
  {
   "cell_type": "code",
   "execution_count": null,
   "id": "4d1e868b",
   "metadata": {
    "ExecuteTime": {
     "end_time": "2022-10-30T10:30:49.989877Z",
     "start_time": "2022-10-30T10:30:49.958351Z"
    }
   },
   "outputs": [],
   "source": [
    "#dic.keys()는 dict_keys라는 새로운객체를 반환함\n",
    "type(a)\n",
    "#슬라이싱등이 불가능함\n"
   ]
  },
  {
   "cell_type": "code",
   "execution_count": null,
   "id": "f2789115",
   "metadata": {
    "ExecuteTime": {
     "end_time": "2022-10-30T10:31:55.242838Z",
     "start_time": "2022-10-30T10:31:55.239650Z"
    }
   },
   "outputs": [],
   "source": [
    "#리스트로 바꾸기\n",
    "a = list(a)"
   ]
  },
  {
   "cell_type": "code",
   "execution_count": null,
   "id": "1d82254f",
   "metadata": {
    "ExecuteTime": {
     "end_time": "2022-10-30T10:31:55.573358Z",
     "start_time": "2022-10-30T10:31:55.566735Z"
    }
   },
   "outputs": [],
   "source": [
    "print(a)\n",
    "type(a)"
   ]
  },
  {
   "cell_type": "code",
   "execution_count": null,
   "id": "3d2d5b45",
   "metadata": {
    "ExecuteTime": {
     "end_time": "2022-10-30T10:32:11.795046Z",
     "start_time": "2022-10-30T10:32:11.789705Z"
    }
   },
   "outputs": [],
   "source": [
    "a = list(dic.keys())"
   ]
  },
  {
   "cell_type": "code",
   "execution_count": null,
   "id": "15980e94",
   "metadata": {
    "ExecuteTime": {
     "end_time": "2022-10-30T10:32:14.081413Z",
     "start_time": "2022-10-30T10:32:14.074382Z"
    }
   },
   "outputs": [],
   "source": [
    "a"
   ]
  },
  {
   "cell_type": "code",
   "execution_count": null,
   "id": "1f4c8f88",
   "metadata": {
    "ExecuteTime": {
     "end_time": "2022-10-30T10:32:26.101551Z",
     "start_time": "2022-10-30T10:32:26.093436Z"
    }
   },
   "outputs": [],
   "source": [
    "dic.values()"
   ]
  },
  {
   "cell_type": "code",
   "execution_count": null,
   "id": "5165a968",
   "metadata": {
    "ExecuteTime": {
     "end_time": "2022-10-30T10:32:46.008330Z",
     "start_time": "2022-10-30T10:32:46.003982Z"
    }
   },
   "outputs": [],
   "source": [
    "a = list(dic.values())\n",
    "print(a)"
   ]
  },
  {
   "cell_type": "code",
   "execution_count": null,
   "id": "d1b0f24e",
   "metadata": {
    "ExecuteTime": {
     "end_time": "2022-10-30T10:33:30.042037Z",
     "start_time": "2022-10-30T10:33:30.030394Z"
    }
   },
   "outputs": [],
   "source": [
    "dic.items()"
   ]
  },
  {
   "cell_type": "code",
   "execution_count": null,
   "id": "1c3ad499",
   "metadata": {
    "ExecuteTime": {
     "end_time": "2022-10-30T10:33:42.735850Z",
     "start_time": "2022-10-30T10:33:42.731783Z"
    }
   },
   "outputs": [],
   "source": [
    "a = list(dic.items())"
   ]
  },
  {
   "cell_type": "code",
   "execution_count": null,
   "id": "13262da9",
   "metadata": {
    "ExecuteTime": {
     "end_time": "2022-10-30T10:33:46.152119Z",
     "start_time": "2022-10-30T10:33:46.147124Z"
    }
   },
   "outputs": [],
   "source": [
    "a[0]"
   ]
  },
  {
   "cell_type": "code",
   "execution_count": null,
   "id": "cfbc01d9",
   "metadata": {
    "ExecuteTime": {
     "end_time": "2022-10-30T10:33:50.918375Z",
     "start_time": "2022-10-30T10:33:50.910615Z"
    }
   },
   "outputs": [],
   "source": [
    "a[0][0]"
   ]
  },
  {
   "cell_type": "code",
   "execution_count": null,
   "id": "e7494ae6",
   "metadata": {
    "ExecuteTime": {
     "end_time": "2022-10-30T10:36:47.900211Z",
     "start_time": "2022-10-30T10:36:47.893706Z"
    }
   },
   "outputs": [],
   "source": [
    "dic['name']\n",
    "dic.get('name')\n",
    "dic.get('non')\n",
    "#dic[non]\n",
    "#get은 아무것도 리턴하지 않음.\n",
    "#그래서 디폴트값을 설정해주곤함\n",
    "dic.get('non', 'default')"
   ]
  },
  {
   "cell_type": "code",
   "execution_count": null,
   "id": "f2ba1c54",
   "metadata": {
    "ExecuteTime": {
     "end_time": "2022-10-30T10:38:10.483977Z",
     "start_time": "2022-10-30T10:38:10.474690Z"
    }
   },
   "outputs": [],
   "source": [
    "#값이 있는지확인\n",
    "l1 = [1,2,3,4]\n",
    "t1 = (1,2,3,4)\n",
    "\n",
    "print(1 in l1)\n",
    "print(0 in t1)\n",
    "print('name' in dic)\n",
    "print('noa' in dic)"
   ]
  },
  {
   "cell_type": "markdown",
   "id": "976ccac5",
   "metadata": {},
   "source": [
    "## 집합"
   ]
  },
  {
   "cell_type": "markdown",
   "id": "5e925249",
   "metadata": {
    "ExecuteTime": {
     "end_time": "2022-10-30T10:42:42.455441Z",
     "start_time": "2022-10-30T10:42:42.448897Z"
    }
   },
   "source": [
    "### 만들기 "
   ]
  },
  {
   "cell_type": "code",
   "execution_count": null,
   "id": "9469508e",
   "metadata": {
    "ExecuteTime": {
     "end_time": "2022-10-30T10:46:58.543664Z",
     "start_time": "2022-10-30T10:46:58.513403Z"
    }
   },
   "outputs": [],
   "source": [
    "s1 = set([1,2,3])\n",
    "print(s1)\n",
    "\n",
    "s2 = set('Hello')\n",
    "print(s2)\n",
    "\n",
    "#집합은 순서가 없고 중복이 제거됨\n",
    "print(s2[0])"
   ]
  },
  {
   "cell_type": "markdown",
   "id": "31cbaf72",
   "metadata": {},
   "source": [
    "### 중복제거 "
   ]
  },
  {
   "cell_type": "code",
   "execution_count": null,
   "id": "4dfcdabd",
   "metadata": {
    "ExecuteTime": {
     "end_time": "2022-10-30T10:46:46.813643Z",
     "start_time": "2022-10-30T10:46:46.809062Z"
    }
   },
   "outputs": [],
   "source": [
    "#중복제거방법\n",
    "a = [1,2,3,4,5,6,7,8]\n",
    "a = list(set(a))\n",
    "print(a)"
   ]
  },
  {
   "cell_type": "code",
   "execution_count": null,
   "id": "1127c2df",
   "metadata": {
    "ExecuteTime": {
     "end_time": "2022-10-30T10:47:12.353826Z",
     "start_time": "2022-10-30T10:47:12.349655Z"
    }
   },
   "outputs": [],
   "source": [
    "a = 'asdfasdfasdf'\n",
    "a = ''.join((set(a)))\n",
    "print(a)"
   ]
  },
  {
   "cell_type": "markdown",
   "id": "ad824909",
   "metadata": {
    "ExecuteTime": {
     "end_time": "2022-10-30T10:47:18.680102Z",
     "start_time": "2022-10-30T10:47:18.677030Z"
    }
   },
   "source": [
    "### 집합연산"
   ]
  },
  {
   "cell_type": "code",
   "execution_count": null,
   "id": "dd58e6c6",
   "metadata": {
    "ExecuteTime": {
     "end_time": "2022-10-30T10:51:59.204162Z",
     "start_time": "2022-10-30T10:51:59.192277Z"
    }
   },
   "outputs": [],
   "source": [
    "s1 = set([1,2,3,4,5,6])\n",
    "s2 = set([4,5,6,7,8,9])\n",
    "\n",
    "# 교집합구하기\n",
    "print(s1.intersection(s2))\n",
    "print(s1 & s2)\n",
    "\n",
    "# 합집합\n",
    "print(s1.union(s2))\n",
    "print(s1 | s2)\n",
    "\n",
    "# 차집합\n",
    "print(s1 - s2)\n",
    "print(s1.difference(s2))\n",
    "print(s2 - s1)\n",
    "\n"
   ]
  },
  {
   "cell_type": "code",
   "execution_count": null,
   "id": "03755250",
   "metadata": {
    "ExecuteTime": {
     "end_time": "2022-10-30T10:51:59.376557Z",
     "start_time": "2022-10-30T10:51:59.367942Z"
    }
   },
   "outputs": [],
   "source": [
    "# 값 추가\n",
    "s1.add(7)\n",
    "print(s1)\n",
    "\n",
    "# 여러개 추가\n",
    "s1.update([8,9])\n",
    "print(s1)"
   ]
  },
  {
   "cell_type": "code",
   "execution_count": null,
   "id": "0f1c6122",
   "metadata": {
    "ExecuteTime": {
     "end_time": "2022-10-30T10:51:59.573996Z",
     "start_time": "2022-10-30T10:51:59.568081Z"
    }
   },
   "outputs": [],
   "source": [
    "# 값 삭제\n",
    "s1.remove(2)\n",
    "print(s1)"
   ]
  },
  {
   "cell_type": "markdown",
   "id": "d34b6a0e",
   "metadata": {
    "ExecuteTime": {
     "end_time": "2022-10-30T10:52:14.163202Z",
     "start_time": "2022-10-30T10:52:14.160090Z"
    }
   },
   "source": [
    "## 불 자료형 "
   ]
  },
  {
   "cell_type": "markdown",
   "id": "6588c1e0",
   "metadata": {
    "ExecuteTime": {
     "end_time": "2022-10-30T10:52:25.292991Z",
     "start_time": "2022-10-30T10:52:25.288643Z"
    }
   },
   "source": [
    "### 정의 "
   ]
  },
  {
   "cell_type": "code",
   "execution_count": null,
   "id": "ed05cb82",
   "metadata": {
    "ExecuteTime": {
     "end_time": "2022-10-30T10:56:35.508340Z",
     "start_time": "2022-10-30T10:56:35.504276Z"
    }
   },
   "outputs": [],
   "source": [
    "#참과 거짓으로만 판단된다\n",
    "a = True\n",
    "b = False\n",
    "print(a, b)"
   ]
  },
  {
   "cell_type": "code",
   "execution_count": null,
   "id": "28288a3f",
   "metadata": {
    "ExecuteTime": {
     "end_time": "2022-10-30T10:56:51.167941Z",
     "start_time": "2022-10-30T10:56:51.162216Z"
    }
   },
   "outputs": [],
   "source": [
    "print(type(a))\n",
    "print(type(b))"
   ]
  },
  {
   "cell_type": "markdown",
   "id": "79f80a71",
   "metadata": {
    "ExecuteTime": {
     "end_time": "2022-10-30T10:52:37.228203Z",
     "start_time": "2022-10-30T10:52:37.224975Z"
    }
   },
   "source": [
    "### 자료형의 참과 거짓"
   ]
  },
  {
   "cell_type": "code",
   "execution_count": null,
   "id": "fa448250",
   "metadata": {
    "ExecuteTime": {
     "end_time": "2022-10-30T10:57:05.038889Z",
     "start_time": "2022-10-30T10:57:05.033567Z"
    }
   },
   "outputs": [],
   "source": [
    "type(1 == 1)"
   ]
  },
  {
   "cell_type": "code",
   "execution_count": null,
   "id": "5fa6fcf3",
   "metadata": {
    "ExecuteTime": {
     "end_time": "2022-10-30T10:57:13.867840Z",
     "start_time": "2022-10-30T10:57:13.861589Z"
    }
   },
   "outputs": [],
   "source": [
    "type(2 > 1)"
   ]
  },
  {
   "cell_type": "code",
   "execution_count": null,
   "id": "88cd6075",
   "metadata": {
    "ExecuteTime": {
     "end_time": "2022-10-30T11:00:12.638990Z",
     "start_time": "2022-10-30T11:00:12.631568Z"
    }
   },
   "outputs": [],
   "source": [
    "type(2 < 1)"
   ]
  },
  {
   "cell_type": "markdown",
   "id": "6e3e1010",
   "metadata": {},
   "source": [
    "### 불연산"
   ]
  },
  {
   "cell_type": "code",
   "execution_count": null,
   "id": "8235315d",
   "metadata": {
    "ExecuteTime": {
     "end_time": "2022-10-30T10:57:39.912376Z",
     "start_time": "2022-10-30T10:57:39.906540Z"
    }
   },
   "outputs": [],
   "source": [
    "print('aaa' == 'aaa')\n",
    "type('aaa' == 'bbb')"
   ]
  },
  {
   "cell_type": "code",
   "execution_count": null,
   "id": "7d967040",
   "metadata": {
    "ExecuteTime": {
     "end_time": "2022-10-30T10:58:18.523552Z",
     "start_time": "2022-10-30T10:58:18.517865Z"
    }
   },
   "outputs": [],
   "source": [
    "print(bool('a'))\n",
    "print(bool(''))\n",
    "print(bool([1,2]))\n",
    "print(bool([]))"
   ]
  },
  {
   "cell_type": "code",
   "execution_count": null,
   "id": "fe773551",
   "metadata": {
    "ExecuteTime": {
     "end_time": "2022-10-30T11:00:25.560037Z",
     "start_time": "2022-10-30T11:00:25.555469Z"
    }
   },
   "outputs": [],
   "source": [
    "print(bool(0))\n",
    "print(bool(None))\n",
    "print(bool(1))"
   ]
  },
  {
   "cell_type": "markdown",
   "id": "0c293562",
   "metadata": {
    "ExecuteTime": {
     "end_time": "2022-10-30T11:00:32.980473Z",
     "start_time": "2022-10-30T11:00:32.977036Z"
    }
   },
   "source": [
    "## 깊은복사, 얕은복사"
   ]
  },
  {
   "cell_type": "code",
   "execution_count": null,
   "id": "d90f723d",
   "metadata": {
    "ExecuteTime": {
     "end_time": "2022-10-30T11:00:55.965671Z",
     "start_time": "2022-10-30T11:00:55.958257Z"
    }
   },
   "outputs": [],
   "source": [
    "a = [1,2,3]\n",
    "a_new = a\n",
    "a[0] = 0\n",
    "print(a)\n",
    "print(a_new)"
   ]
  },
  {
   "cell_type": "code",
   "execution_count": null,
   "id": "8b812ca0",
   "metadata": {
    "ExecuteTime": {
     "end_time": "2022-10-30T11:01:40.216134Z",
     "start_time": "2022-10-30T11:01:40.211426Z"
    }
   },
   "outputs": [],
   "source": [
    "a = [1,2,3]\n",
    "a_new = a[:]\n",
    "a[0] = 0\n",
    "print(a)\n",
    "print(a_new)"
   ]
  },
  {
   "cell_type": "code",
   "execution_count": null,
   "id": "37616e9e",
   "metadata": {
    "ExecuteTime": {
     "end_time": "2022-10-30T11:05:35.213170Z",
     "start_time": "2022-10-30T11:05:35.204403Z"
    }
   },
   "outputs": [],
   "source": [
    "import copy\n",
    "a = [1,2,3]\n",
    "a_new = copy.deepcopy(a)\n",
    "a[0] = 0\n",
    "print(a)\n",
    "print(a_new)"
   ]
  },
  {
   "cell_type": "markdown",
   "id": "fad0e415",
   "metadata": {},
   "source": [
    "## 변수생성"
   ]
  },
  {
   "cell_type": "code",
   "execution_count": null,
   "id": "c59480aa",
   "metadata": {
    "ExecuteTime": {
     "end_time": "2022-10-30T11:03:59.535599Z",
     "start_time": "2022-10-30T11:03:59.528138Z"
    }
   },
   "outputs": [],
   "source": [
    "a = 'a'\n",
    "b = 'b'\n",
    "a, b = 'a', 'b'\n",
    "print(a, b)"
   ]
  },
  {
   "cell_type": "code",
   "execution_count": null,
   "id": "b1e60d91",
   "metadata": {
    "ExecuteTime": {
     "end_time": "2022-10-30T11:04:41.019677Z",
     "start_time": "2022-10-30T11:04:41.015426Z"
    }
   },
   "outputs": [],
   "source": [
    "[a,b] = ['a','b']\n",
    "print(a)\n",
    "print(b)"
   ]
  },
  {
   "cell_type": "code",
   "execution_count": null,
   "id": "79d092eb",
   "metadata": {
    "ExecuteTime": {
     "end_time": "2022-10-30T11:04:50.816151Z",
     "start_time": "2022-10-30T11:04:50.810071Z"
    }
   },
   "outputs": [],
   "source": [
    "a = b = 'a'\n",
    "print(a)\n",
    "print(b)"
   ]
  },
  {
   "cell_type": "code",
   "execution_count": null,
   "id": "9ce90695",
   "metadata": {
    "ExecuteTime": {
     "end_time": "2022-10-30T11:05:13.522515Z",
     "start_time": "2022-10-30T11:05:13.516544Z"
    }
   },
   "outputs": [],
   "source": [
    "a = 3\n",
    "b = 5\n",
    "a, b = b, a\n",
    "print(a, b)"
   ]
  },
  {
   "cell_type": "markdown",
   "id": "73c25107",
   "metadata": {
    "ExecuteTime": {
     "end_time": "2022-10-30T11:06:09.184948Z",
     "start_time": "2022-10-30T11:06:09.180536Z"
    }
   },
   "source": [
    "# 조건문, 논리식 등등"
   ]
  },
  {
   "cell_type": "markdown",
   "id": "ba7c83da",
   "metadata": {},
   "source": [
    "## if문"
   ]
  },
  {
   "cell_type": "code",
   "execution_count": null,
   "id": "b6ee55ba",
   "metadata": {
    "ExecuteTime": {
     "end_time": "2022-10-30T11:39:51.919774Z",
     "start_time": "2022-10-30T11:39:49.719738Z"
    }
   },
   "outputs": [],
   "source": [
    "member = input('회원인가요?(y/n)')\n",
    "if member == 'y':\n",
    "    print('어서오세용')\n",
    "else:\n",
    "    print('뉘세요')"
   ]
  },
  {
   "cell_type": "code",
   "execution_count": null,
   "id": "f34044d1",
   "metadata": {
    "ExecuteTime": {
     "start_time": "2022-10-30T11:44:47.675Z"
    }
   },
   "outputs": [],
   "source": [
    "age = int(input('나이 입력: '))\n",
    "price = 20000\n",
    "\n",
    "if 1 <= age < 6:\n",
    "    print('입장료 무료')\n",
    "elif 6 <= age < 60:\n",
    "    print('입장료는 ', price, '입니다.')\n",
    "elif age >= 60:\n",
    "    print('입장료는 ', price * 0.5, '입니다.')\n",
    "else:\n",
    "    print('1살 이상의 나이 입력해주세요')\n"
   ]
  },
  {
   "cell_type": "markdown",
   "id": "da33cb1e",
   "metadata": {},
   "source": [
    "### 중첩조건문"
   ]
  },
  {
   "cell_type": "code",
   "execution_count": null,
   "id": "386ed95e",
   "metadata": {
    "ExecuteTime": {
     "end_time": "2022-10-30T11:47:52.526650Z",
     "start_time": "2022-10-30T11:47:49.559079Z"
    }
   },
   "outputs": [],
   "source": [
    "id1 = input('아이디: ')\n",
    "pwd2 = input('비밀번호: ')\n",
    "if id1 == 'admin':\n",
    "    if pwd2 == '1234':\n",
    "        print('로그인성공')\n",
    "    else:\n",
    "        print('비밀번호 오류')\n",
    "else:\n",
    "    print('아이디오류')"
   ]
  },
  {
   "cell_type": "markdown",
   "id": "84f6a75d",
   "metadata": {},
   "source": [
    "## 반복문"
   ]
  },
  {
   "cell_type": "markdown",
   "id": "4f3cd248",
   "metadata": {},
   "source": [
    "### range"
   ]
  },
  {
   "cell_type": "code",
   "execution_count": null,
   "id": "c5dd64dc",
   "metadata": {
    "ExecuteTime": {
     "end_time": "2022-10-30T16:07:32.740647Z",
     "start_time": "2022-10-30T16:07:32.732807Z"
    }
   },
   "outputs": [],
   "source": [
    "for i in range(5):\n",
    "    print('+' * (i + 1))"
   ]
  },
  {
   "cell_type": "code",
   "execution_count": null,
   "id": "1a3c0240",
   "metadata": {
    "ExecuteTime": {
     "end_time": "2022-10-30T16:08:39.596065Z",
     "start_time": "2022-10-30T16:08:39.591080Z"
    }
   },
   "outputs": [],
   "source": [
    "odd = [1,3,5,7,9]\n",
    "for i in odd:\n",
    "    print(i + 1, end= ' ')"
   ]
  },
  {
   "cell_type": "code",
   "execution_count": null,
   "id": "d1bfb270",
   "metadata": {
    "ExecuteTime": {
     "end_time": "2022-10-30T16:31:46.403243Z",
     "start_time": "2022-10-30T16:31:46.394956Z"
    }
   },
   "outputs": [],
   "source": [
    "for i in range(1,31):\n",
    "    if i % 7 == 0:\n",
    "        print('7의배수: ', i)"
   ]
  },
  {
   "cell_type": "code",
   "execution_count": null,
   "id": "31971872",
   "metadata": {
    "ExecuteTime": {
     "end_time": "2022-10-30T16:38:09.830104Z",
     "start_time": "2022-10-30T16:38:01.530557Z"
    }
   },
   "outputs": [],
   "source": [
    "while (True):\n",
    "    num = int(input('구구단입력 0 종료:'))\n",
    "    if num == 0:\n",
    "        break\n",
    "    i = 1\n",
    "    while i <= 9:\n",
    "        print('%d x %d = %d' % (num, i, num * i))\n",
    "        i += 1"
   ]
  },
  {
   "cell_type": "code",
   "execution_count": null,
   "id": "fbd3e0fe",
   "metadata": {
    "ExecuteTime": {
     "end_time": "2022-10-30T16:41:19.246813Z",
     "start_time": "2022-10-30T16:41:13.753684Z"
    }
   },
   "outputs": [],
   "source": [
    "alpha = {'A' : '1!', 'B' : '2@', 'C' : '3#', 'D' : '4$', 'E':'5%' }\n",
    "while True:\n",
    "    code = ''\n",
    "    word = input('input')\n",
    "    if word == '0':\n",
    "        break\n",
    "    for ch in word:\n",
    "        code += alpha[ch]\n",
    "    print('단어:', word, '암호코드', code, '\\n')\n",
    "print('임호코드 변한프로그램')\n",
    "        \n",
    "        \n",
    "    "
   ]
  },
  {
   "cell_type": "code",
   "execution_count": null,
   "id": "cfb35482",
   "metadata": {},
   "outputs": [],
   "source": []
  }
 ],
 "metadata": {
  "kernelspec": {
   "display_name": "Python 3 (ipykernel)",
   "language": "python",
   "name": "python3"
  },
  "language_info": {
   "codemirror_mode": {
    "name": "ipython",
    "version": 3
   },
   "file_extension": ".py",
   "mimetype": "text/x-python",
   "name": "python",
   "nbconvert_exporter": "python",
   "pygments_lexer": "ipython3",
   "version": "3.9.12"
  },
  "toc": {
   "base_numbering": 1,
   "nav_menu": {},
   "number_sections": true,
   "sideBar": true,
   "skip_h1_title": false,
   "title_cell": "Table of Contents",
   "title_sidebar": "Contents",
   "toc_cell": false,
   "toc_position": {},
   "toc_section_display": true,
   "toc_window_display": true
  }
 },
 "nbformat": 4,
 "nbformat_minor": 5
}
