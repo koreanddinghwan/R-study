{
 "cells": [
  {
   "cell_type": "code",
   "execution_count": 2,
   "id": "b03c0936",
   "metadata": {},
   "outputs": [
    {
     "data": {
      "text/plain": [
       "3"
      ]
     },
     "execution_count": 2,
     "metadata": {},
     "output_type": "execute_result"
    }
   ],
   "source": [
    "1 + 2"
   ]
  },
  {
   "cell_type": "markdown",
   "id": "8c126f88",
   "metadata": {},
   "source": [
    "# 1\n",
    "## 2\n",
    "### 3\n",
    "#### 4\n",
    "\n",
    "우측상단의 code를 markdown으로 변경.\n",
    "        "
   ]
  },
  {
   "cell_type": "markdown",
   "id": "9e995870",
   "metadata": {},
   "source": [
    "# edit mode 실행\n",
    "\n",
    "1.shift enter\n",
    "2.ctrl enter\n",
    "3.alt enter"
   ]
  },
  {
   "cell_type": "markdown",
   "id": "bb1008a4",
   "metadata": {},
   "source": [
    "단축키확인 -> command)h"
   ]
  },
  {
   "cell_type": "code",
   "execution_count": null,
   "id": "894bc37c",
   "metadata": {},
   "outputs": [],
   "source": [
    "edit)shift+tab -> tooltip"
   ]
  },
  {
   "cell_type": "code",
   "execution_count": 11,
   "id": "dad91d49",
   "metadata": {},
   "outputs": [
    {
     "name": "stdout",
     "output_type": "stream",
     "text": [
      "Requirement already satisfied: jupyterthemes in /Users/ddinghwan/opt/anaconda3/lib/python3.9/site-packages (0.20.0)\n",
      "Requirement already satisfied: notebook>=5.6.0 in /Users/ddinghwan/opt/anaconda3/lib/python3.9/site-packages (from jupyterthemes) (6.4.8)\n",
      "Requirement already satisfied: jupyter-core in /Users/ddinghwan/opt/anaconda3/lib/python3.9/site-packages (from jupyterthemes) (4.9.2)\n",
      "Requirement already satisfied: ipython>=5.4.1 in /Users/ddinghwan/opt/anaconda3/lib/python3.9/site-packages (from jupyterthemes) (8.2.0)\n",
      "Requirement already satisfied: matplotlib>=1.4.3 in /Users/ddinghwan/opt/anaconda3/lib/python3.9/site-packages (from jupyterthemes) (3.5.1)\n",
      "Requirement already satisfied: lesscpy>=0.11.2 in /Users/ddinghwan/opt/anaconda3/lib/python3.9/site-packages (from jupyterthemes) (0.15.1)\n",
      "Requirement already satisfied: matplotlib-inline in /Users/ddinghwan/opt/anaconda3/lib/python3.9/site-packages (from ipython>=5.4.1->jupyterthemes) (0.1.2)\n",
      "Requirement already satisfied: decorator in /Users/ddinghwan/opt/anaconda3/lib/python3.9/site-packages (from ipython>=5.4.1->jupyterthemes) (5.1.1)\n",
      "Requirement already satisfied: jedi>=0.16 in /Users/ddinghwan/opt/anaconda3/lib/python3.9/site-packages (from ipython>=5.4.1->jupyterthemes) (0.18.1)\n",
      "Requirement already satisfied: backcall in /Users/ddinghwan/opt/anaconda3/lib/python3.9/site-packages (from ipython>=5.4.1->jupyterthemes) (0.2.0)\n",
      "Requirement already satisfied: pickleshare in /Users/ddinghwan/opt/anaconda3/lib/python3.9/site-packages (from ipython>=5.4.1->jupyterthemes) (0.7.5)\n",
      "Requirement already satisfied: setuptools>=18.5 in /Users/ddinghwan/opt/anaconda3/lib/python3.9/site-packages (from ipython>=5.4.1->jupyterthemes) (61.2.0)\n",
      "Requirement already satisfied: prompt-toolkit!=3.0.0,!=3.0.1,<3.1.0,>=2.0.0 in /Users/ddinghwan/opt/anaconda3/lib/python3.9/site-packages (from ipython>=5.4.1->jupyterthemes) (3.0.20)\n",
      "Requirement already satisfied: stack-data in /Users/ddinghwan/opt/anaconda3/lib/python3.9/site-packages (from ipython>=5.4.1->jupyterthemes) (0.2.0)\n",
      "Requirement already satisfied: pexpect>4.3 in /Users/ddinghwan/opt/anaconda3/lib/python3.9/site-packages (from ipython>=5.4.1->jupyterthemes) (4.8.0)\n",
      "Requirement already satisfied: appnope in /Users/ddinghwan/opt/anaconda3/lib/python3.9/site-packages (from ipython>=5.4.1->jupyterthemes) (0.1.2)\n",
      "Requirement already satisfied: pygments>=2.4.0 in /Users/ddinghwan/opt/anaconda3/lib/python3.9/site-packages (from ipython>=5.4.1->jupyterthemes) (2.11.2)\n",
      "Requirement already satisfied: traitlets>=5 in /Users/ddinghwan/opt/anaconda3/lib/python3.9/site-packages (from ipython>=5.4.1->jupyterthemes) (5.1.1)\n",
      "Requirement already satisfied: parso<0.9.0,>=0.8.0 in /Users/ddinghwan/opt/anaconda3/lib/python3.9/site-packages (from jedi>=0.16->ipython>=5.4.1->jupyterthemes) (0.8.3)\n",
      "Requirement already satisfied: ply in /Users/ddinghwan/opt/anaconda3/lib/python3.9/site-packages (from lesscpy>=0.11.2->jupyterthemes) (3.11)\n",
      "Requirement already satisfied: python-dateutil>=2.7 in /Users/ddinghwan/opt/anaconda3/lib/python3.9/site-packages (from matplotlib>=1.4.3->jupyterthemes) (2.8.2)\n",
      "Requirement already satisfied: cycler>=0.10 in /Users/ddinghwan/opt/anaconda3/lib/python3.9/site-packages (from matplotlib>=1.4.3->jupyterthemes) (0.11.0)\n",
      "Requirement already satisfied: numpy>=1.17 in /Users/ddinghwan/opt/anaconda3/lib/python3.9/site-packages (from matplotlib>=1.4.3->jupyterthemes) (1.21.5)\n",
      "Requirement already satisfied: fonttools>=4.22.0 in /Users/ddinghwan/opt/anaconda3/lib/python3.9/site-packages (from matplotlib>=1.4.3->jupyterthemes) (4.25.0)\n",
      "Requirement already satisfied: pyparsing>=2.2.1 in /Users/ddinghwan/opt/anaconda3/lib/python3.9/site-packages (from matplotlib>=1.4.3->jupyterthemes) (3.0.4)\n",
      "Requirement already satisfied: packaging>=20.0 in /Users/ddinghwan/opt/anaconda3/lib/python3.9/site-packages (from matplotlib>=1.4.3->jupyterthemes) (21.3)\n",
      "Requirement already satisfied: kiwisolver>=1.0.1 in /Users/ddinghwan/opt/anaconda3/lib/python3.9/site-packages (from matplotlib>=1.4.3->jupyterthemes) (1.3.2)\n",
      "Requirement already satisfied: pillow>=6.2.0 in /Users/ddinghwan/opt/anaconda3/lib/python3.9/site-packages (from matplotlib>=1.4.3->jupyterthemes) (9.0.1)\n",
      "Requirement already satisfied: argon2-cffi in /Users/ddinghwan/opt/anaconda3/lib/python3.9/site-packages (from notebook>=5.6.0->jupyterthemes) (21.3.0)\n",
      "Requirement already satisfied: ipykernel in /Users/ddinghwan/opt/anaconda3/lib/python3.9/site-packages (from notebook>=5.6.0->jupyterthemes) (6.9.1)\n",
      "Requirement already satisfied: nest-asyncio>=1.5 in /Users/ddinghwan/opt/anaconda3/lib/python3.9/site-packages (from notebook>=5.6.0->jupyterthemes) (1.5.5)\n",
      "Requirement already satisfied: Send2Trash>=1.8.0 in /Users/ddinghwan/opt/anaconda3/lib/python3.9/site-packages (from notebook>=5.6.0->jupyterthemes) (1.8.0)\n",
      "Requirement already satisfied: tornado>=6.1 in /Users/ddinghwan/opt/anaconda3/lib/python3.9/site-packages (from notebook>=5.6.0->jupyterthemes) (6.1)\n",
      "Requirement already satisfied: nbconvert in /Users/ddinghwan/opt/anaconda3/lib/python3.9/site-packages (from notebook>=5.6.0->jupyterthemes) (6.4.4)\n",
      "Requirement already satisfied: ipython-genutils in /Users/ddinghwan/opt/anaconda3/lib/python3.9/site-packages (from notebook>=5.6.0->jupyterthemes) (0.2.0)\n",
      "Requirement already satisfied: jinja2 in /Users/ddinghwan/opt/anaconda3/lib/python3.9/site-packages (from notebook>=5.6.0->jupyterthemes) (2.11.3)\n",
      "Requirement already satisfied: jupyter-client>=5.3.4 in /Users/ddinghwan/opt/anaconda3/lib/python3.9/site-packages (from notebook>=5.6.0->jupyterthemes) (6.1.12)\n",
      "Requirement already satisfied: prometheus-client in /Users/ddinghwan/opt/anaconda3/lib/python3.9/site-packages (from notebook>=5.6.0->jupyterthemes) (0.13.1)\n",
      "Requirement already satisfied: pyzmq>=17 in /Users/ddinghwan/opt/anaconda3/lib/python3.9/site-packages (from notebook>=5.6.0->jupyterthemes) (22.3.0)\n",
      "Requirement already satisfied: terminado>=0.8.3 in /Users/ddinghwan/opt/anaconda3/lib/python3.9/site-packages (from notebook>=5.6.0->jupyterthemes) (0.13.1)\n",
      "Requirement already satisfied: nbformat in /Users/ddinghwan/opt/anaconda3/lib/python3.9/site-packages (from notebook>=5.6.0->jupyterthemes) (5.3.0)\n",
      "Requirement already satisfied: ptyprocess>=0.5 in /Users/ddinghwan/opt/anaconda3/lib/python3.9/site-packages (from pexpect>4.3->ipython>=5.4.1->jupyterthemes) (0.7.0)\n",
      "Requirement already satisfied: wcwidth in /Users/ddinghwan/opt/anaconda3/lib/python3.9/site-packages (from prompt-toolkit!=3.0.0,!=3.0.1,<3.1.0,>=2.0.0->ipython>=5.4.1->jupyterthemes) (0.2.5)\n",
      "Requirement already satisfied: six>=1.5 in /Users/ddinghwan/opt/anaconda3/lib/python3.9/site-packages (from python-dateutil>=2.7->matplotlib>=1.4.3->jupyterthemes) (1.16.0)\n",
      "Requirement already satisfied: argon2-cffi-bindings in /Users/ddinghwan/opt/anaconda3/lib/python3.9/site-packages (from argon2-cffi->notebook>=5.6.0->jupyterthemes) (21.2.0)\n",
      "Requirement already satisfied: cffi>=1.0.1 in /Users/ddinghwan/opt/anaconda3/lib/python3.9/site-packages (from argon2-cffi-bindings->argon2-cffi->notebook>=5.6.0->jupyterthemes) (1.15.0)\n",
      "Requirement already satisfied: pycparser in /Users/ddinghwan/opt/anaconda3/lib/python3.9/site-packages (from cffi>=1.0.1->argon2-cffi-bindings->argon2-cffi->notebook>=5.6.0->jupyterthemes) (2.21)\n",
      "Requirement already satisfied: debugpy<2.0,>=1.0.0 in /Users/ddinghwan/opt/anaconda3/lib/python3.9/site-packages (from ipykernel->notebook>=5.6.0->jupyterthemes) (1.5.1)\n",
      "Requirement already satisfied: MarkupSafe>=0.23 in /Users/ddinghwan/opt/anaconda3/lib/python3.9/site-packages (from jinja2->notebook>=5.6.0->jupyterthemes) (2.0.1)\n",
      "Requirement already satisfied: pandocfilters>=1.4.1 in /Users/ddinghwan/opt/anaconda3/lib/python3.9/site-packages (from nbconvert->notebook>=5.6.0->jupyterthemes) (1.5.0)\n",
      "Requirement already satisfied: defusedxml in /Users/ddinghwan/opt/anaconda3/lib/python3.9/site-packages (from nbconvert->notebook>=5.6.0->jupyterthemes) (0.7.1)\n",
      "Requirement already satisfied: nbclient<0.6.0,>=0.5.0 in /Users/ddinghwan/opt/anaconda3/lib/python3.9/site-packages (from nbconvert->notebook>=5.6.0->jupyterthemes) (0.5.13)\n",
      "Requirement already satisfied: entrypoints>=0.2.2 in /Users/ddinghwan/opt/anaconda3/lib/python3.9/site-packages (from nbconvert->notebook>=5.6.0->jupyterthemes) (0.4)\n",
      "Requirement already satisfied: mistune<2,>=0.8.1 in /Users/ddinghwan/opt/anaconda3/lib/python3.9/site-packages (from nbconvert->notebook>=5.6.0->jupyterthemes) (0.8.4)\n",
      "Requirement already satisfied: testpath in /Users/ddinghwan/opt/anaconda3/lib/python3.9/site-packages (from nbconvert->notebook>=5.6.0->jupyterthemes) (0.5.0)\n",
      "Requirement already satisfied: beautifulsoup4 in /Users/ddinghwan/opt/anaconda3/lib/python3.9/site-packages (from nbconvert->notebook>=5.6.0->jupyterthemes) (4.11.1)\n",
      "Requirement already satisfied: jupyterlab-pygments in /Users/ddinghwan/opt/anaconda3/lib/python3.9/site-packages (from nbconvert->notebook>=5.6.0->jupyterthemes) (0.1.2)\n",
      "Requirement already satisfied: bleach in /Users/ddinghwan/opt/anaconda3/lib/python3.9/site-packages (from nbconvert->notebook>=5.6.0->jupyterthemes) (4.1.0)\n"
     ]
    },
    {
     "name": "stdout",
     "output_type": "stream",
     "text": [
      "Requirement already satisfied: jsonschema>=2.6 in /Users/ddinghwan/opt/anaconda3/lib/python3.9/site-packages (from nbformat->notebook>=5.6.0->jupyterthemes) (4.4.0)\n",
      "Requirement already satisfied: fastjsonschema in /Users/ddinghwan/opt/anaconda3/lib/python3.9/site-packages (from nbformat->notebook>=5.6.0->jupyterthemes) (2.15.1)\n",
      "Requirement already satisfied: attrs>=17.4.0 in /Users/ddinghwan/opt/anaconda3/lib/python3.9/site-packages (from jsonschema>=2.6->nbformat->notebook>=5.6.0->jupyterthemes) (21.4.0)\n",
      "Requirement already satisfied: pyrsistent!=0.17.0,!=0.17.1,!=0.17.2,>=0.14.0 in /Users/ddinghwan/opt/anaconda3/lib/python3.9/site-packages (from jsonschema>=2.6->nbformat->notebook>=5.6.0->jupyterthemes) (0.18.0)\n",
      "Requirement already satisfied: soupsieve>1.2 in /Users/ddinghwan/opt/anaconda3/lib/python3.9/site-packages (from beautifulsoup4->nbconvert->notebook>=5.6.0->jupyterthemes) (2.3.1)\n",
      "Requirement already satisfied: webencodings in /Users/ddinghwan/opt/anaconda3/lib/python3.9/site-packages (from bleach->nbconvert->notebook>=5.6.0->jupyterthemes) (0.5.1)\n",
      "Requirement already satisfied: executing in /Users/ddinghwan/opt/anaconda3/lib/python3.9/site-packages (from stack-data->ipython>=5.4.1->jupyterthemes) (0.8.3)\n",
      "Requirement already satisfied: pure-eval in /Users/ddinghwan/opt/anaconda3/lib/python3.9/site-packages (from stack-data->ipython>=5.4.1->jupyterthemes) (0.2.2)\n",
      "Requirement already satisfied: asttokens in /Users/ddinghwan/opt/anaconda3/lib/python3.9/site-packages (from stack-data->ipython>=5.4.1->jupyterthemes) (2.0.5)\n"
     ]
    }
   ],
   "source": [
    "!pip install jupyterthemes"
   ]
  },
  {
   "cell_type": "markdown",
   "id": "94a3bf58",
   "metadata": {},
   "source": [
    "```term\n",
    "(base) randpython/8weeks [ jt -l             master * ] 8:32 PM\n",
    "Available Themes:\n",
    "   chesterish\n",
    "   grade3\n",
    "   gruvboxd\n",
    "   gruvboxl\n",
    "   monokai\n",
    "   oceans16\n",
    "   onedork\n",
    "   solarizedd\n",
    "   solarizedl\n",
    "(base) randpython/8weeks [ jt -t             master * ] 8:32 PM\n",
    "usage: jt [-h] [-l] [-t THEME] [-f MONOFONT] [-fs MONOSIZE]\n",
    "          [-nf NBFONT] [-nfs NBFONTSIZE] [-tf TCFONT]\n",
    "          [-tfs TCFONTSIZE] [-dfs DFFONTSIZE]\n",
    "          [-ofs OUTFONTSIZE] [-mathfs MATHFONTSIZE]\n",
    "          [-m MARGINS] [-cursw CURSORWIDTH]\n",
    "          [-cursc CURSORCOLOR] [-cellw CELLWIDTH]\n",
    "          [-lineh LINEHEIGHT] [-altp] [-altmd] [-altout] [-P]\n",
    "          [-T] [-N] [-kl] [-vim] [-r] [-dfonts]\n",
    "jt: error: argument -t/--theme: expected one argument\n",
    "(base) randpython/8weeks [ jt -t onedork -T\n",
    "```\n",
    "\n",
    "-T를 넣어줘야 툴바가 보임."
   ]
  },
  {
   "cell_type": "markdown",
   "id": "02f61704",
   "metadata": {},
   "source": [
    "!를 붙이고 pip install을 하는 이유는 pip install을 터미널에서 하는 것처럼 해달라는 의미  \n",
    "[shell command로 실행](https://jakevdp.github.io/blog/2017/12/05/installing-python-packages-from-jupyter/)\n",
    "\n"
   ]
  },
  {
   "cell_type": "markdown",
   "id": "9fda597b",
   "metadata": {},
   "source": [
    "# data type\n",
    "\n",
    "## 숫자\n",
    "\n",
    "1. 정수형, 실수형\n",
    "2. 산술연산자\n",
    "    - 사칙연산\n",
    "    - 제곱\n",
    "    - 나머지, 몫\n",
    "3. 할당연산자"
   ]
  },
  {
   "cell_type": "code",
   "execution_count": 21,
   "id": "e7f29144",
   "metadata": {
    "ExecuteTime": {
     "end_time": "2022-10-27T11:54:33.585163Z",
     "start_time": "2022-10-27T11:54:33.576132Z"
    }
   },
   "outputs": [
    {
     "name": "stdout",
     "output_type": "stream",
     "text": [
      "1\n"
     ]
    },
    {
     "data": {
      "text/plain": [
       "2"
      ]
     },
     "execution_count": 21,
     "metadata": {},
     "output_type": "execute_result"
    }
   ],
   "source": [
    "a = 1\n",
    "print(a)\n",
    "\n",
    "b = 2\n",
    "b"
   ]
  },
  {
   "cell_type": "code",
   "execution_count": 22,
   "id": "ceb6dd2d",
   "metadata": {
    "ExecuteTime": {
     "end_time": "2022-10-27T11:54:34.376383Z",
     "start_time": "2022-10-27T11:54:34.371375Z"
    }
   },
   "outputs": [
    {
     "data": {
      "text/plain": [
       "3"
      ]
     },
     "execution_count": 22,
     "metadata": {},
     "output_type": "execute_result"
    }
   ],
   "source": [
    "a + b"
   ]
  },
  {
   "cell_type": "code",
   "execution_count": 23,
   "id": "64ab58ad",
   "metadata": {
    "ExecuteTime": {
     "end_time": "2022-10-27T11:54:34.567962Z",
     "start_time": "2022-10-27T11:54:34.563139Z"
    }
   },
   "outputs": [
    {
     "data": {
      "text/plain": [
       "-1"
      ]
     },
     "execution_count": 23,
     "metadata": {},
     "output_type": "execute_result"
    }
   ],
   "source": [
    "a - b"
   ]
  },
  {
   "cell_type": "code",
   "execution_count": 24,
   "id": "10f6f4f8",
   "metadata": {
    "ExecuteTime": {
     "end_time": "2022-10-27T11:54:36.773206Z",
     "start_time": "2022-10-27T11:54:36.768572Z"
    }
   },
   "outputs": [
    {
     "data": {
      "text/plain": [
       "2"
      ]
     },
     "execution_count": 24,
     "metadata": {},
     "output_type": "execute_result"
    }
   ],
   "source": [
    "a * b"
   ]
  },
  {
   "cell_type": "code",
   "execution_count": 25,
   "id": "8c627a19",
   "metadata": {
    "ExecuteTime": {
     "end_time": "2022-10-27T11:54:37.008079Z",
     "start_time": "2022-10-27T11:54:37.002601Z"
    }
   },
   "outputs": [
    {
     "data": {
      "text/plain": [
       "0.5"
      ]
     },
     "execution_count": 25,
     "metadata": {},
     "output_type": "execute_result"
    }
   ],
   "source": [
    "a / b"
   ]
  },
  {
   "cell_type": "code",
   "execution_count": 26,
   "id": "5038ffc9",
   "metadata": {
    "ExecuteTime": {
     "end_time": "2022-10-27T11:54:38.167208Z",
     "start_time": "2022-10-27T11:54:38.162480Z"
    }
   },
   "outputs": [
    {
     "data": {
      "text/plain": [
       "1"
      ]
     },
     "execution_count": 26,
     "metadata": {},
     "output_type": "execute_result"
    }
   ],
   "source": [
    "a % b"
   ]
  },
  {
   "cell_type": "code",
   "execution_count": 28,
   "id": "b47145bb",
   "metadata": {
    "ExecuteTime": {
     "end_time": "2022-10-27T11:54:55.711748Z",
     "start_time": "2022-10-27T11:54:55.706370Z"
    }
   },
   "outputs": [
    {
     "data": {
      "text/plain": [
       "81"
      ]
     },
     "execution_count": 28,
     "metadata": {},
     "output_type": "execute_result"
    }
   ],
   "source": [
    "a = 3\n",
    "b = 4\n",
    "a ** b"
   ]
  },
  {
   "cell_type": "markdown",
   "id": "aee20ec8",
   "metadata": {},
   "source": [
    "## 문자열\n",
    "\n",
    "2. 여러 줄 문자열\n",
    "3. 문자열 연산\n",
    "4. 문자열 인덱싱, 슬라이싱\n",
    "5. 문자열 포매팅\n",
    "6. \n"
   ]
  },
  {
   "cell_type": "markdown",
   "id": "3198f3f8",
   "metadata": {},
   "source": [
    "### 문자열 만들기 4가지"
   ]
  },
  {
   "cell_type": "code",
   "execution_count": 63,
   "id": "3602adb4",
   "metadata": {
    "ExecuteTime": {
     "end_time": "2022-10-27T12:06:13.433143Z",
     "start_time": "2022-10-27T12:06:13.427135Z"
    }
   },
   "outputs": [
    {
     "data": {
      "text/plain": [
       "'hello'"
      ]
     },
     "execution_count": 63,
     "metadata": {},
     "output_type": "execute_result"
    }
   ],
   "source": [
    "\"hello\""
   ]
  },
  {
   "cell_type": "code",
   "execution_count": 32,
   "id": "f92b00aa",
   "metadata": {
    "ExecuteTime": {
     "end_time": "2022-10-27T11:58:02.398922Z",
     "start_time": "2022-10-27T11:58:02.394272Z"
    }
   },
   "outputs": [
    {
     "data": {
      "text/plain": [
       "'hello'"
      ]
     },
     "execution_count": 32,
     "metadata": {},
     "output_type": "execute_result"
    }
   ],
   "source": [
    "'hello'"
   ]
  },
  {
   "cell_type": "code",
   "execution_count": 33,
   "id": "226316e4",
   "metadata": {
    "ExecuteTime": {
     "end_time": "2022-10-27T11:58:06.285710Z",
     "start_time": "2022-10-27T11:58:06.279150Z"
    }
   },
   "outputs": [
    {
     "data": {
      "text/plain": [
       "'hello'"
      ]
     },
     "execution_count": 33,
     "metadata": {},
     "output_type": "execute_result"
    }
   ],
   "source": [
    "'''hello'''"
   ]
  },
  {
   "cell_type": "code",
   "execution_count": 34,
   "id": "e1d9b3b3",
   "metadata": {
    "ExecuteTime": {
     "end_time": "2022-10-27T11:58:11.371681Z",
     "start_time": "2022-10-27T11:58:11.366106Z"
    }
   },
   "outputs": [
    {
     "data": {
      "text/plain": [
       "'hello'"
      ]
     },
     "execution_count": 34,
     "metadata": {},
     "output_type": "execute_result"
    }
   ],
   "source": [
    "\"\"\"hello\"\"\""
   ]
  },
  {
   "cell_type": "code",
   "execution_count": 35,
   "id": "9ca64b81",
   "metadata": {
    "ExecuteTime": {
     "end_time": "2022-10-27T11:58:33.133139Z",
     "start_time": "2022-10-27T11:58:33.128502Z"
    }
   },
   "outputs": [
    {
     "data": {
      "text/plain": [
       "\"'hi im kang'\""
      ]
     },
     "execution_count": 35,
     "metadata": {},
     "output_type": "execute_result"
    }
   ],
   "source": [
    "\"\"\"'hi im kang'\"\"\""
   ]
  },
  {
   "cell_type": "code",
   "execution_count": 38,
   "id": "55fabab2",
   "metadata": {
    "ExecuteTime": {
     "end_time": "2022-10-27T11:59:57.742735Z",
     "start_time": "2022-10-27T11:59:57.737820Z"
    }
   },
   "outputs": [
    {
     "data": {
      "text/plain": [
       "'\"i\\'m a student\", he says'"
      ]
     },
     "execution_count": 38,
     "metadata": {},
     "output_type": "execute_result"
    }
   ],
   "source": [
    "'''\"i'm a student\", he says'''"
   ]
  },
  {
   "cell_type": "code",
   "execution_count": 62,
   "id": "441bbf7d",
   "metadata": {
    "ExecuteTime": {
     "end_time": "2022-10-27T12:04:55.785630Z",
     "start_time": "2022-10-27T12:04:55.778722Z"
    }
   },
   "outputs": [
    {
     "name": "stdout",
     "output_type": "stream",
     "text": [
      "\"i'm a student\", he says\n"
     ]
    }
   ],
   "source": [
    "print('''\"i'm a student\", he says''')"
   ]
  },
  {
   "cell_type": "markdown",
   "id": "a6da6e68",
   "metadata": {},
   "source": [
    "### 이스케이프 시퀀스"
   ]
  },
  {
   "cell_type": "code",
   "execution_count": 46,
   "id": "9595ebd1",
   "metadata": {
    "ExecuteTime": {
     "end_time": "2022-10-27T12:02:02.447621Z",
     "start_time": "2022-10-27T12:02:02.444268Z"
    }
   },
   "outputs": [
    {
     "name": "stdout",
     "output_type": "stream",
     "text": [
      "\"i'm a student\", he says\n"
     ]
    }
   ],
   "source": [
    "print(\"\"\"\\\"i\\'m a student\\\", he says\"\"\")"
   ]
  },
  {
   "cell_type": "code",
   "execution_count": 48,
   "id": "bcb0ece4",
   "metadata": {
    "ExecuteTime": {
     "end_time": "2022-10-27T12:02:20.715410Z",
     "start_time": "2022-10-27T12:02:20.711374Z"
    }
   },
   "outputs": [
    {
     "name": "stdout",
     "output_type": "stream",
     "text": [
      "\"i'm a student\",\n",
      " he says\n"
     ]
    }
   ],
   "source": [
    "print(\"\"\"\\\"i\\'m a student\\\".\\n he says\"\"\")"
   ]
  },
  {
   "cell_type": "code",
   "execution_count": 50,
   "id": "99154516",
   "metadata": {
    "ExecuteTime": {
     "end_time": "2022-10-27T12:02:44.400802Z",
     "start_time": "2022-10-27T12:02:44.397333Z"
    }
   },
   "outputs": [
    {
     "name": "stdout",
     "output_type": "stream",
     "text": [
      "\"i'm a student\".\t he says\n"
     ]
    }
   ],
   "source": [
    "print(\"\"\"\\\"i\\'m a student\\\".\\t he says\"\"\")"
   ]
  },
  {
   "cell_type": "code",
   "execution_count": 64,
   "id": "f56e9909",
   "metadata": {
    "ExecuteTime": {
     "end_time": "2022-10-27T12:06:19.812159Z",
     "start_time": "2022-10-27T12:06:19.807993Z"
    }
   },
   "outputs": [
    {
     "name": "stdout",
     "output_type": "stream",
     "text": [
      "\"i'm a student\".\\ he says\n"
     ]
    }
   ],
   "source": [
    "print(\"\"\"\\\"i\\'m a student\\\".\\\\ he says\"\"\")"
   ]
  },
  {
   "cell_type": "markdown",
   "id": "88a6b4b3",
   "metadata": {},
   "source": [
    "### 문자열 연산"
   ]
  },
  {
   "cell_type": "code",
   "execution_count": 55,
   "id": "bf94cc37",
   "metadata": {
    "ExecuteTime": {
     "end_time": "2022-10-27T12:03:40.815396Z",
     "start_time": "2022-10-27T12:03:40.810345Z"
    }
   },
   "outputs": [
    {
     "data": {
      "text/plain": [
       "'applebanana'"
      ]
     },
     "execution_count": 55,
     "metadata": {},
     "output_type": "execute_result"
    }
   ],
   "source": [
    "a = \"apple\"\n",
    "b = \"banana\"\n",
    "\n",
    "a + b"
   ]
  },
  {
   "cell_type": "code",
   "execution_count": 60,
   "id": "bc7eb166",
   "metadata": {
    "ExecuteTime": {
     "end_time": "2022-10-27T12:04:35.417271Z",
     "start_time": "2022-10-27T12:04:35.410444Z"
    }
   },
   "outputs": [
    {
     "name": "stdout",
     "output_type": "stream",
     "text": [
      "==================================================\n",
      "result\n",
      "==================================================\n"
     ]
    }
   ],
   "source": [
    "a = \"apple\"\n",
    "b = 3\n",
    "a * b\n",
    "\n",
    "print(\"=\" * 50)\n",
    "print(\"result\")\n",
    "print(\"=\" * 50)"
   ]
  },
  {
   "cell_type": "code",
   "execution_count": 61,
   "id": "7913dac0",
   "metadata": {
    "ExecuteTime": {
     "end_time": "2022-10-27T12:04:43.218526Z",
     "start_time": "2022-10-27T12:04:43.213845Z"
    }
   },
   "outputs": [
    {
     "data": {
      "text/plain": [
       "'result'"
      ]
     },
     "execution_count": 61,
     "metadata": {},
     "output_type": "execute_result"
    }
   ],
   "source": [
    "\"+\" * 50\n",
    "\"result\""
   ]
  },
  {
   "cell_type": "code",
   "execution_count": 66,
   "id": "1e31a061",
   "metadata": {
    "ExecuteTime": {
     "end_time": "2022-10-27T12:19:36.133412Z",
     "start_time": "2022-10-27T12:19:36.128372Z"
    }
   },
   "outputs": [
    {
     "data": {
      "text/plain": [
       "17"
      ]
     },
     "execution_count": 66,
     "metadata": {},
     "output_type": "execute_result"
    }
   ],
   "source": [
    "a = \"life is too short\"\n",
    "\n",
    "len(a)\n",
    "#함수 코드블럭 + shift-tab\n"
   ]
  },
  {
   "cell_type": "markdown",
   "id": "30ce0a61",
   "metadata": {},
   "source": [
    "### 문자열 인덱싱"
   ]
  },
  {
   "cell_type": "code",
   "execution_count": 76,
   "id": "1823e991",
   "metadata": {
    "ExecuteTime": {
     "end_time": "2022-10-27T12:22:22.050442Z",
     "start_time": "2022-10-27T12:22:22.042437Z"
    }
   },
   "outputs": [
    {
     "name": "stdout",
     "output_type": "stream",
     "text": [
      "l\n",
      "e\n",
      "i\n",
      "t\n",
      "r\n",
      "t\n",
      "e\n",
      "i\n"
     ]
    }
   ],
   "source": [
    "print(a[0])\n",
    "print(a[3])\n",
    "print(a[5])\n",
    "print(a[-1])\n",
    "print(a[-2])\n",
    "print(a[16])\n",
    "\n",
    "b = \"life\"\n",
    "print(b[-1])\n",
    "print(b[1])\n"
   ]
  },
  {
   "cell_type": "markdown",
   "id": "38780353",
   "metadata": {},
   "source": [
    "### 문자열 슬라이싱\n"
   ]
  },
  {
   "cell_type": "code",
   "execution_count": 80,
   "id": "349f9b35",
   "metadata": {
    "ExecuteTime": {
     "end_time": "2022-10-27T12:26:18.153743Z",
     "start_time": "2022-10-27T12:26:18.148865Z"
    }
   },
   "outputs": [
    {
     "data": {
      "text/plain": [
       "'life'"
      ]
     },
     "execution_count": 80,
     "metadata": {},
     "output_type": "execute_result"
    }
   ],
   "source": [
    "#0이사 4미만\n",
    "a[0:4]"
   ]
  },
  {
   "cell_type": "code",
   "execution_count": 81,
   "id": "082dd3ad",
   "metadata": {
    "ExecuteTime": {
     "end_time": "2022-10-27T12:26:29.443665Z",
     "start_time": "2022-10-27T12:26:29.438766Z"
    }
   },
   "outputs": [
    {
     "data": {
      "text/plain": [
       "'is'"
      ]
     },
     "execution_count": 81,
     "metadata": {},
     "output_type": "execute_result"
    }
   ],
   "source": [
    "a[5:7]"
   ]
  },
  {
   "cell_type": "code",
   "execution_count": 82,
   "id": "3d040fe0",
   "metadata": {
    "ExecuteTime": {
     "end_time": "2022-10-27T12:26:37.661804Z",
     "start_time": "2022-10-27T12:26:37.655759Z"
    }
   },
   "outputs": [
    {
     "data": {
      "text/plain": [
       "'is too short'"
      ]
     },
     "execution_count": 82,
     "metadata": {},
     "output_type": "execute_result"
    }
   ],
   "source": [
    "a[5:17]"
   ]
  },
  {
   "cell_type": "code",
   "execution_count": 83,
   "id": "7822e6f3",
   "metadata": {
    "ExecuteTime": {
     "end_time": "2022-10-27T12:26:41.209653Z",
     "start_time": "2022-10-27T12:26:41.205063Z"
    }
   },
   "outputs": [
    {
     "data": {
      "text/plain": [
       "'is too short'"
      ]
     },
     "execution_count": 83,
     "metadata": {},
     "output_type": "execute_result"
    }
   ],
   "source": [
    "a[5:]"
   ]
  },
  {
   "cell_type": "code",
   "execution_count": 84,
   "id": "0f50b9e4",
   "metadata": {
    "ExecuteTime": {
     "end_time": "2022-10-27T12:26:48.372692Z",
     "start_time": "2022-10-27T12:26:48.367283Z"
    }
   },
   "outputs": [
    {
     "data": {
      "text/plain": [
       "'life '"
      ]
     },
     "execution_count": 84,
     "metadata": {},
     "output_type": "execute_result"
    }
   ],
   "source": [
    "a[:5]"
   ]
  },
  {
   "cell_type": "code",
   "execution_count": 86,
   "id": "de1eb3c3",
   "metadata": {
    "ExecuteTime": {
     "end_time": "2022-10-27T12:26:54.354140Z",
     "start_time": "2022-10-27T12:26:54.349323Z"
    }
   },
   "outputs": [
    {
     "data": {
      "text/plain": [
       "'life is too short'"
      ]
     },
     "execution_count": 86,
     "metadata": {},
     "output_type": "execute_result"
    }
   ],
   "source": [
    "a[:]"
   ]
  },
  {
   "cell_type": "code",
   "execution_count": 87,
   "id": "805f8aea",
   "metadata": {
    "ExecuteTime": {
     "end_time": "2022-10-27T12:26:59.531054Z",
     "start_time": "2022-10-27T12:26:59.525072Z"
    }
   },
   "outputs": [
    {
     "data": {
      "text/plain": [
       "'life is too shor'"
      ]
     },
     "execution_count": 87,
     "metadata": {},
     "output_type": "execute_result"
    }
   ],
   "source": [
    "a[:-1]"
   ]
  },
  {
   "cell_type": "code",
   "execution_count": 89,
   "id": "0446744a",
   "metadata": {
    "ExecuteTime": {
     "end_time": "2022-10-27T12:27:20.723882Z",
     "start_time": "2022-10-27T12:27:20.718619Z"
    }
   },
   "outputs": [
    {
     "data": {
      "text/plain": [
       "'t'"
      ]
     },
     "execution_count": 89,
     "metadata": {},
     "output_type": "execute_result"
    }
   ],
   "source": [
    "a[-1:]"
   ]
  },
  {
   "cell_type": "code",
   "execution_count": 92,
   "id": "c410b546",
   "metadata": {
    "ExecuteTime": {
     "end_time": "2022-10-27T12:27:50.095217Z",
     "start_time": "2022-10-27T12:27:50.089732Z"
    }
   },
   "outputs": [
    {
     "data": {
      "text/plain": [
       "'shor'"
      ]
     },
     "execution_count": 92,
     "metadata": {},
     "output_type": "execute_result"
    }
   ],
   "source": [
    "a[-5:-1]"
   ]
  },
  {
   "cell_type": "code",
   "execution_count": 93,
   "id": "329b0562",
   "metadata": {
    "ExecuteTime": {
     "end_time": "2022-10-27T12:27:55.941217Z",
     "start_time": "2022-10-27T12:27:55.936186Z"
    }
   },
   "outputs": [
    {
     "data": {
      "text/plain": [
       "'short'"
      ]
     },
     "execution_count": 93,
     "metadata": {},
     "output_type": "execute_result"
    }
   ],
   "source": [
    "a[-5:]"
   ]
  },
  {
   "cell_type": "code",
   "execution_count": 100,
   "id": "b8f58365",
   "metadata": {
    "ExecuteTime": {
     "end_time": "2022-10-27T12:30:55.460897Z",
     "start_time": "2022-10-27T12:30:55.451144Z"
    }
   },
   "outputs": [
    {
     "name": "stdout",
     "output_type": "stream",
     "text": [
      "2022 04 21 Sunny\n"
     ]
    }
   ],
   "source": [
    "data = \"20220421Sunny\"\n",
    "year = data[0:4]\n",
    "month = data[4:6]\n",
    "day = data[6:8]\n",
    "weather = data[8:]\n",
    "print(year, month, day, weather)"
   ]
  },
  {
   "cell_type": "markdown",
   "id": "27331bde",
   "metadata": {},
   "source": [
    "### 문자열 포매팅"
   ]
  },
  {
   "cell_type": "code",
   "execution_count": 103,
   "id": "ec8dcb8d",
   "metadata": {
    "ExecuteTime": {
     "end_time": "2022-10-27T12:31:42.804889Z",
     "start_time": "2022-10-27T12:31:42.799872Z"
    }
   },
   "outputs": [
    {
     "data": {
      "text/plain": [
       "'I eat 3 apples.'"
      ]
     },
     "execution_count": 103,
     "metadata": {},
     "output_type": "execute_result"
    }
   ],
   "source": [
    "#대입\n",
    "\"I eat %d apples.\" % 3"
   ]
  },
  {
   "cell_type": "code",
   "execution_count": 104,
   "id": "a8af10e3",
   "metadata": {
    "ExecuteTime": {
     "end_time": "2022-10-27T12:32:08.019805Z",
     "start_time": "2022-10-27T12:32:08.014808Z"
    }
   },
   "outputs": [
    {
     "data": {
      "text/plain": [
       "'I eat three apples.'"
      ]
     },
     "execution_count": 104,
     "metadata": {},
     "output_type": "execute_result"
    }
   ],
   "source": [
    "\"I eat %s apples.\" % \"three\""
   ]
  },
  {
   "cell_type": "code",
   "execution_count": 106,
   "id": "1bc6effd",
   "metadata": {
    "ExecuteTime": {
     "end_time": "2022-10-27T12:32:33.185035Z",
     "start_time": "2022-10-27T12:32:33.181020Z"
    }
   },
   "outputs": [
    {
     "name": "stdout",
     "output_type": "stream",
     "text": [
      "I eat three apples\n"
     ]
    }
   ],
   "source": [
    "print(\"I eat %s apples\" % \"three\")"
   ]
  },
  {
   "cell_type": "code",
   "execution_count": 107,
   "id": "f2c7bf94",
   "metadata": {
    "ExecuteTime": {
     "end_time": "2022-10-27T12:32:51.707990Z",
     "start_time": "2022-10-27T12:32:51.704376Z"
    }
   },
   "outputs": [
    {
     "name": "stdout",
     "output_type": "stream",
     "text": [
      "I eat 3 apples.\n"
     ]
    }
   ],
   "source": [
    "num = 3\n",
    "print(\"I eat %d apples.\" % num)"
   ]
  },
  {
   "cell_type": "code",
   "execution_count": 110,
   "id": "b6ca1d21",
   "metadata": {
    "ExecuteTime": {
     "end_time": "2022-10-27T12:33:38.982435Z",
     "start_time": "2022-10-27T12:33:38.976380Z"
    }
   },
   "outputs": [
    {
     "name": "stdout",
     "output_type": "stream",
     "text": [
      "I ate 10 apples. so i was sick for three days\n"
     ]
    }
   ],
   "source": [
    "num = 10\n",
    "day = \"three\"\n",
    "print(\"I ate %d apples. so i was sick for %s days\" %(num, day))"
   ]
  },
  {
   "cell_type": "code",
   "execution_count": 116,
   "id": "e8fe6476",
   "metadata": {
    "ExecuteTime": {
     "end_time": "2022-10-27T12:35:01.355979Z",
     "start_time": "2022-10-27T12:35:01.351068Z"
    }
   },
   "outputs": [
    {
     "name": "stdout",
     "output_type": "stream",
     "text": [
      "Error is 90%\n"
     ]
    }
   ],
   "source": [
    "accuracy_rate = 90\n",
    "print(\"Error is %d%%\" % accuracy_rate)"
   ]
  },
  {
   "cell_type": "code",
   "execution_count": 118,
   "id": "9ba9d7ab",
   "metadata": {
    "ExecuteTime": {
     "end_time": "2022-10-27T12:35:24.034159Z",
     "start_time": "2022-10-27T12:35:24.027721Z"
    }
   },
   "outputs": [
    {
     "data": {
      "text/plain": [
       "'        hi포매팅'"
      ]
     },
     "execution_count": 118,
     "metadata": {},
     "output_type": "execute_result"
    }
   ],
   "source": [
    "# 포매팅\n",
    "\"%10s포매팅\" % \"hi\""
   ]
  },
  {
   "cell_type": "code",
   "execution_count": 119,
   "id": "4491913e",
   "metadata": {
    "ExecuteTime": {
     "end_time": "2022-10-27T12:35:34.240540Z",
     "start_time": "2022-10-27T12:35:34.235496Z"
    }
   },
   "outputs": [
    {
     "data": {
      "text/plain": [
       "'hi        포매팅'"
      ]
     },
     "execution_count": 119,
     "metadata": {},
     "output_type": "execute_result"
    }
   ],
   "source": [
    "\"%-10s포매팅\" % \"hi\""
   ]
  },
  {
   "cell_type": "code",
   "execution_count": 120,
   "id": "83c8eb37",
   "metadata": {
    "ExecuteTime": {
     "end_time": "2022-10-27T12:35:55.947401Z",
     "start_time": "2022-10-27T12:35:55.939895Z"
    }
   },
   "outputs": [
    {
     "data": {
      "text/plain": [
       "'  3.420000'"
      ]
     },
     "execution_count": 120,
     "metadata": {},
     "output_type": "execute_result"
    }
   ],
   "source": [
    "\"%10f\" % 3.42"
   ]
  },
  {
   "cell_type": "code",
   "execution_count": 121,
   "id": "ec35868a",
   "metadata": {
    "ExecuteTime": {
     "end_time": "2022-10-27T12:36:08.149750Z",
     "start_time": "2022-10-27T12:36:08.143749Z"
    }
   },
   "outputs": [
    {
     "data": {
      "text/plain": [
       "'3.420000  '"
      ]
     },
     "execution_count": 121,
     "metadata": {},
     "output_type": "execute_result"
    }
   ],
   "source": [
    "\"%-10f\" % 3.42"
   ]
  },
  {
   "cell_type": "code",
   "execution_count": 124,
   "id": "ab7261ac",
   "metadata": {
    "ExecuteTime": {
     "end_time": "2022-10-27T12:36:39.138279Z",
     "start_time": "2022-10-27T12:36:39.133587Z"
    }
   },
   "outputs": [
    {
     "data": {
      "text/plain": [
       "'3.4200'"
      ]
     },
     "execution_count": 124,
     "metadata": {},
     "output_type": "execute_result"
    }
   ],
   "source": [
    "\"%.4f\" % 3.42"
   ]
  },
  {
   "cell_type": "code",
   "execution_count": 125,
   "id": "139a6cee",
   "metadata": {
    "ExecuteTime": {
     "end_time": "2022-10-27T12:37:06.626258Z",
     "start_time": "2022-10-27T12:37:06.621379Z"
    }
   },
   "outputs": [
    {
     "data": {
      "text/plain": [
       "'I eat 3 apples'"
      ]
     },
     "execution_count": 125,
     "metadata": {},
     "output_type": "execute_result"
    }
   ],
   "source": [
    "\"I eat {0} apples\".format(3)"
   ]
  },
  {
   "cell_type": "code",
   "execution_count": 126,
   "id": "ad6f9dca",
   "metadata": {
    "ExecuteTime": {
     "end_time": "2022-10-27T12:37:20.362816Z",
     "start_time": "2022-10-27T12:37:20.357911Z"
    }
   },
   "outputs": [
    {
     "data": {
      "text/plain": [
       "'I eat three apples'"
      ]
     },
     "execution_count": 126,
     "metadata": {},
     "output_type": "execute_result"
    }
   ],
   "source": [
    "\"I eat {0} apples\".format(\"three\")\n"
   ]
  },
  {
   "cell_type": "code",
   "execution_count": 127,
   "id": "fc4de22d",
   "metadata": {
    "ExecuteTime": {
     "end_time": "2022-10-27T12:37:38.952722Z",
     "start_time": "2022-10-27T12:37:38.947378Z"
    }
   },
   "outputs": [
    {
     "data": {
      "text/plain": [
       "'I eat 3 apples'"
      ]
     },
     "execution_count": 127,
     "metadata": {},
     "output_type": "execute_result"
    }
   ],
   "source": [
    "num = 3\n",
    "\"I eat {} apples\".format(num)"
   ]
  },
  {
   "cell_type": "code",
   "execution_count": 128,
   "id": "a75fd320",
   "metadata": {
    "ExecuteTime": {
     "end_time": "2022-10-27T12:38:00.884384Z",
     "start_time": "2022-10-27T12:38:00.878636Z"
    }
   },
   "outputs": [
    {
     "data": {
      "text/plain": [
       "'I eat 3 apples and 4 pears'"
      ]
     },
     "execution_count": 128,
     "metadata": {},
     "output_type": "execute_result"
    }
   ],
   "source": [
    "num = 3\n",
    "num2 = 4\n",
    "\"I eat {} apples and {} pears\".format(num, num2)"
   ]
  },
  {
   "cell_type": "code",
   "execution_count": 131,
   "id": "a531be36",
   "metadata": {
    "ExecuteTime": {
     "end_time": "2022-10-27T12:38:54.003561Z",
     "start_time": "2022-10-27T12:38:53.998066Z"
    }
   },
   "outputs": [
    {
     "data": {
      "text/plain": [
       "'I eat 2 apples and 2 pears'"
      ]
     },
     "execution_count": 131,
     "metadata": {},
     "output_type": "execute_result"
    }
   ],
   "source": [
    "# 중괄호 안의 변수명을 .format의 변수병과 일치시킴\n",
    "# 달라도 상관은 없지만 같아야 인식하기 쉬움\n",
    "\"I eat {num2} apples and {num2} pears\".format(num = 3, num2 = 2)"
   ]
  },
  {
   "cell_type": "code",
   "execution_count": 132,
   "id": "d896a3ab",
   "metadata": {
    "ExecuteTime": {
     "end_time": "2022-10-27T12:39:45.204889Z",
     "start_time": "2022-10-27T12:39:45.201977Z"
    }
   },
   "outputs": [],
   "source": [
    "a = \"apple\""
   ]
  },
  {
   "cell_type": "code",
   "execution_count": 134,
   "id": "4b6bcc45",
   "metadata": {
    "ExecuteTime": {
     "end_time": "2022-10-27T12:40:07.416962Z",
     "start_time": "2022-10-27T12:40:07.409483Z"
    }
   },
   "outputs": [
    {
     "data": {
      "text/plain": [
       "2"
      ]
     },
     "execution_count": 134,
     "metadata": {},
     "output_type": "execute_result"
    }
   ],
   "source": [
    "# 문자열에서 해당하는 값 개수\n",
    "a.count(\"p\")"
   ]
  },
  {
   "cell_type": "code",
   "execution_count": 139,
   "id": "51c4af1c",
   "metadata": {
    "ExecuteTime": {
     "end_time": "2022-10-27T12:40:57.677245Z",
     "start_time": "2022-10-27T12:40:57.671882Z"
    }
   },
   "outputs": [
    {
     "data": {
      "text/plain": [
       "0"
      ]
     },
     "execution_count": 139,
     "metadata": {},
     "output_type": "execute_result"
    }
   ],
   "source": [
    "# 문자열 위치 찾기\n",
    "a.find(\"a\")\n"
   ]
  },
  {
   "cell_type": "code",
   "execution_count": 138,
   "id": "c49d25e2",
   "metadata": {
    "ExecuteTime": {
     "end_time": "2022-10-27T12:40:56.405634Z",
     "start_time": "2022-10-27T12:40:56.400767Z"
    }
   },
   "outputs": [
    {
     "data": {
      "text/plain": [
       "0"
      ]
     },
     "execution_count": 138,
     "metadata": {},
     "output_type": "execute_result"
    }
   ],
   "source": [
    "a.index(\"a\")"
   ]
  },
  {
   "cell_type": "code",
   "execution_count": 141,
   "id": "e9d0af1a",
   "metadata": {
    "ExecuteTime": {
     "end_time": "2022-10-27T12:41:31.785132Z",
     "start_time": "2022-10-27T12:41:31.755530Z"
    }
   },
   "outputs": [
    {
     "name": "stdout",
     "output_type": "stream",
     "text": [
      "-1\n"
     ]
    },
    {
     "ename": "ValueError",
     "evalue": "substring not found",
     "output_type": "error",
     "traceback": [
      "\u001b[0;31m---------------------------------------------------------------------------\u001b[0m",
      "\u001b[0;31mValueError\u001b[0m                                Traceback (most recent call last)",
      "Input \u001b[0;32mIn [141]\u001b[0m, in \u001b[0;36m<cell line: 3>\u001b[0;34m()\u001b[0m\n\u001b[1;32m      1\u001b[0m \u001b[38;5;66;03m# 차이\u001b[39;00m\n\u001b[1;32m      2\u001b[0m \u001b[38;5;28mprint\u001b[39m(a\u001b[38;5;241m.\u001b[39mfind(\u001b[38;5;124m\"\u001b[39m\u001b[38;5;124mq\u001b[39m\u001b[38;5;124m\"\u001b[39m))\n\u001b[0;32m----> 3\u001b[0m \u001b[38;5;28mprint\u001b[39m(\u001b[43ma\u001b[49m\u001b[38;5;241;43m.\u001b[39;49m\u001b[43mindex\u001b[49m\u001b[43m(\u001b[49m\u001b[38;5;124;43m\"\u001b[39;49m\u001b[38;5;124;43mq\u001b[39;49m\u001b[38;5;124;43m\"\u001b[39;49m\u001b[43m)\u001b[49m)\n",
      "\u001b[0;31mValueError\u001b[0m: substring not found"
     ]
    }
   ],
   "source": [
    "# 차이\n",
    "print(a.find(\"q\"))\n",
    "print(a.index(\"q\"))"
   ]
  },
  {
   "cell_type": "code",
   "execution_count": 145,
   "id": "0e764de4",
   "metadata": {
    "ExecuteTime": {
     "end_time": "2022-10-27T12:42:51.243296Z",
     "start_time": "2022-10-27T12:42:51.236338Z"
    }
   },
   "outputs": [
    {
     "name": "stdout",
     "output_type": "stream",
     "text": [
      "a.b.c.d\n",
      "a b c d\n",
      "HI\n",
      "hi\n"
     ]
    }
   ],
   "source": [
    "# 문자열 수정\n",
    "\n",
    "print(\".\".join(\"abcd\"))\n",
    "print(\" \".join(\"abcd\"))\n",
    "print(\"hi\".upper())\n",
    "print(\"HI\".lower())\n"
   ]
  },
  {
   "cell_type": "code",
   "execution_count": 151,
   "id": "ad65ac98",
   "metadata": {
    "ExecuteTime": {
     "end_time": "2022-10-27T12:44:51.282744Z",
     "start_time": "2022-10-27T12:44:51.275410Z"
    }
   },
   "outputs": [
    {
     "name": "stdout",
     "output_type": "stream",
     "text": [
      "\"  hi  \"\n",
      "\" hi  \"\n",
      "\"  hi \"\n",
      "\" hi \"\n"
     ]
    }
   ],
   "source": [
    "a = \" hi \"\n",
    "print(\"\\\"\", a, \"\\\"\")\n",
    "print(\"\\\"\", a.lstrip(\" \"), \"\\\"\")\n",
    "print(\"\\\"\", a.rstrip(\" \"), \"\\\"\")\n",
    "print(\"\\\"\", a.strip(\" \"), \"\\\"\")"
   ]
  },
  {
   "cell_type": "code",
   "execution_count": 165,
   "id": "b1e92966",
   "metadata": {
    "ExecuteTime": {
     "end_time": "2022-10-27T12:47:41.648663Z",
     "start_time": "2022-10-27T12:47:41.642169Z"
    }
   },
   "outputs": [
    {
     "name": "stdout",
     "output_type": "stream",
     "text": [
      "a is apple. b is banana\n",
      "a is apple. c is banana\n",
      "a is apple. b is banana\n"
     ]
    }
   ],
   "source": [
    "a = \"a is apple. c is banana\"\n",
    "print(a.replace(\"c\", \"b\"))\n",
    "print(a) #재할당해줘야함\n",
    "\n",
    "a = a.replace(\"c is\", \"b is\")\n",
    "print(a)\n",
    "\n"
   ]
  },
  {
   "cell_type": "code",
   "execution_count": 170,
   "id": "840f1df9",
   "metadata": {
    "ExecuteTime": {
     "end_time": "2022-10-27T12:49:54.329324Z",
     "start_time": "2022-10-27T12:49:54.324195Z"
    }
   },
   "outputs": [
    {
     "name": "stdout",
     "output_type": "stream",
     "text": [
      "a is apple. b is banana\n",
      "['a is apple', ' b is banana']\n"
     ]
    }
   ],
   "source": [
    "#문자열 스플릿\n",
    "#리스트로 반환함.\n",
    "print(a)\n",
    "print(a.split('.'))\n",
    "\n"
   ]
  },
  {
   "cell_type": "markdown",
   "id": "3bca7038",
   "metadata": {},
   "source": [
    "## 리스트"
   ]
  },
  {
   "cell_type": "markdown",
   "id": "79b5a428",
   "metadata": {},
   "source": [
    "### 리스트 만들고 사용하기"
   ]
  },
  {
   "cell_type": "code",
   "execution_count": 6,
   "id": "f13352ec",
   "metadata": {
    "ExecuteTime": {
     "end_time": "2022-10-30T07:30:02.529936Z",
     "start_time": "2022-10-30T07:30:02.521874Z"
    }
   },
   "outputs": [
    {
     "name": "stdout",
     "output_type": "stream",
     "text": [
      "[]\n",
      "[1, 2, 3]\n",
      "['1', 'b', 'c', 4]\n",
      "[[1, 2], [3, 4]]\n"
     ]
    }
   ],
   "source": [
    "a = []\n",
    "b = [1,2,3]\n",
    "c = ['1','b','c',4]\n",
    "d = [[1,2,], [3,4]]\n",
    "\n",
    "print(a)\n",
    "print(b)\n",
    "print(c)\n",
    "print(d)"
   ]
  },
  {
   "cell_type": "markdown",
   "id": "fcd11d28",
   "metadata": {},
   "source": [
    "### 리스트 인덱싱과 슬라이싱"
   ]
  },
  {
   "cell_type": "code",
   "execution_count": 16,
   "id": "00cac51b",
   "metadata": {
    "ExecuteTime": {
     "end_time": "2022-10-30T07:31:10.833681Z",
     "start_time": "2022-10-30T07:31:10.826597Z"
    }
   },
   "outputs": [
    {
     "name": "stdout",
     "output_type": "stream",
     "text": [
      "2\n",
      "[3, 4]\n"
     ]
    },
    {
     "data": {
      "text/plain": [
       "1"
      ]
     },
     "execution_count": 16,
     "metadata": {},
     "output_type": "execute_result"
    }
   ],
   "source": [
    "print(b[1])\n",
    "print(d[1])\n",
    "b[0]"
   ]
  },
  {
   "cell_type": "code",
   "execution_count": 17,
   "id": "e10780b1",
   "metadata": {
    "ExecuteTime": {
     "end_time": "2022-10-30T07:31:16.664109Z",
     "start_time": "2022-10-30T07:31:16.658570Z"
    }
   },
   "outputs": [
    {
     "data": {
      "text/plain": [
       "3"
      ]
     },
     "execution_count": 17,
     "metadata": {},
     "output_type": "execute_result"
    }
   ],
   "source": [
    "b[-1]"
   ]
  },
  {
   "cell_type": "code",
   "execution_count": 18,
   "id": "801171c7",
   "metadata": {
    "ExecuteTime": {
     "end_time": "2022-10-30T07:31:34.483994Z",
     "start_time": "2022-10-30T07:31:34.478171Z"
    }
   },
   "outputs": [
    {
     "data": {
      "text/plain": [
       "2"
      ]
     },
     "execution_count": 18,
     "metadata": {},
     "output_type": "execute_result"
    }
   ],
   "source": [
    "d[0][1]"
   ]
  },
  {
   "cell_type": "code",
   "execution_count": 19,
   "id": "bd35bd66",
   "metadata": {
    "ExecuteTime": {
     "end_time": "2022-10-30T07:31:40.352929Z",
     "start_time": "2022-10-30T07:31:40.347894Z"
    }
   },
   "outputs": [
    {
     "data": {
      "text/plain": [
       "3"
      ]
     },
     "execution_count": 19,
     "metadata": {},
     "output_type": "execute_result"
    }
   ],
   "source": [
    "d[1][0]"
   ]
  },
  {
   "cell_type": "code",
   "execution_count": 22,
   "id": "8fdcedbf",
   "metadata": {
    "ExecuteTime": {
     "end_time": "2022-10-30T07:32:26.592602Z",
     "start_time": "2022-10-30T07:32:26.585002Z"
    }
   },
   "outputs": [
    {
     "data": {
      "text/plain": [
       "[1, 2, 3]"
      ]
     },
     "execution_count": 22,
     "metadata": {},
     "output_type": "execute_result"
    }
   ],
   "source": [
    "a = [1,2,3,4,5]\n",
    "\n",
    "a[0:3]"
   ]
  },
  {
   "cell_type": "code",
   "execution_count": 23,
   "id": "3a481170",
   "metadata": {
    "ExecuteTime": {
     "end_time": "2022-10-30T07:32:33.717349Z",
     "start_time": "2022-10-30T07:32:33.711003Z"
    }
   },
   "outputs": [
    {
     "data": {
      "text/plain": [
       "[1, 2, 3]"
      ]
     },
     "execution_count": 23,
     "metadata": {},
     "output_type": "execute_result"
    }
   ],
   "source": [
    "a[:3]"
   ]
  },
  {
   "cell_type": "code",
   "execution_count": 24,
   "id": "d196ae90",
   "metadata": {
    "ExecuteTime": {
     "end_time": "2022-10-30T07:32:45.463507Z",
     "start_time": "2022-10-30T07:32:45.457498Z"
    }
   },
   "outputs": [
    {
     "data": {
      "text/plain": [
       "[3, 4]"
      ]
     },
     "execution_count": 24,
     "metadata": {},
     "output_type": "execute_result"
    }
   ],
   "source": [
    "a[2:4]"
   ]
  },
  {
   "cell_type": "code",
   "execution_count": 26,
   "id": "465182b6",
   "metadata": {
    "ExecuteTime": {
     "end_time": "2022-10-30T07:33:00.029317Z",
     "start_time": "2022-10-30T07:33:00.022518Z"
    }
   },
   "outputs": [
    {
     "data": {
      "text/plain": [
       "[4, 5]"
      ]
     },
     "execution_count": 26,
     "metadata": {},
     "output_type": "execute_result"
    }
   ],
   "source": [
    "a[3:]"
   ]
  },
  {
   "cell_type": "code",
   "execution_count": 38,
   "id": "d108314d",
   "metadata": {
    "ExecuteTime": {
     "end_time": "2022-10-30T07:36:05.121384Z",
     "start_time": "2022-10-30T07:36:05.113749Z"
    }
   },
   "outputs": [
    {
     "data": {
      "text/plain": [
       "[3, ['a', 'b', 'c'], 4]"
      ]
     },
     "execution_count": 38,
     "metadata": {},
     "output_type": "execute_result"
    }
   ],
   "source": [
    "a = [1,2,3,['a','b','c'],4,5]\n",
    "a[2:5]"
   ]
  },
  {
   "cell_type": "markdown",
   "id": "460d2458",
   "metadata": {},
   "source": [
    "### 리스트연산하기"
   ]
  },
  {
   "cell_type": "code",
   "execution_count": 31,
   "id": "0bab7b89",
   "metadata": {
    "ExecuteTime": {
     "end_time": "2022-10-30T07:34:24.949214Z",
     "start_time": "2022-10-30T07:34:24.942832Z"
    }
   },
   "outputs": [
    {
     "data": {
      "text/plain": [
       "[1, 2, 3, 4, 5, 6]"
      ]
     },
     "execution_count": 31,
     "metadata": {},
     "output_type": "execute_result"
    }
   ],
   "source": [
    "a = [1,2,3]\n",
    "b = [4,5,6]\n",
    "a + b "
   ]
  },
  {
   "cell_type": "code",
   "execution_count": 32,
   "id": "2294f3a0",
   "metadata": {
    "ExecuteTime": {
     "end_time": "2022-10-30T07:34:27.615496Z",
     "start_time": "2022-10-30T07:34:27.609902Z"
    }
   },
   "outputs": [
    {
     "data": {
      "text/plain": [
       "[1, 2, 3, 1, 2, 3, 1, 2, 3]"
      ]
     },
     "execution_count": 32,
     "metadata": {},
     "output_type": "execute_result"
    }
   ],
   "source": [
    "a * 3"
   ]
  },
  {
   "cell_type": "code",
   "execution_count": 39,
   "id": "d8c14ffe",
   "metadata": {
    "ExecuteTime": {
     "end_time": "2022-10-30T07:36:28.474399Z",
     "start_time": "2022-10-30T07:36:28.468308Z"
    }
   },
   "outputs": [
    {
     "data": {
      "text/plain": [
       "6"
      ]
     },
     "execution_count": 39,
     "metadata": {},
     "output_type": "execute_result"
    }
   ],
   "source": [
    "len(a)"
   ]
  },
  {
   "cell_type": "markdown",
   "id": "8ff750a3",
   "metadata": {},
   "source": [
    "### 리스트의 수정과 삭제"
   ]
  },
  {
   "cell_type": "code",
   "execution_count": 35,
   "id": "0065dd3d",
   "metadata": {
    "ExecuteTime": {
     "end_time": "2022-10-30T07:35:12.422297Z",
     "start_time": "2022-10-30T07:35:12.418587Z"
    }
   },
   "outputs": [],
   "source": [
    "a[2] = 4"
   ]
  },
  {
   "cell_type": "code",
   "execution_count": 36,
   "id": "b6123b0b",
   "metadata": {
    "ExecuteTime": {
     "end_time": "2022-10-30T07:35:14.088455Z",
     "start_time": "2022-10-30T07:35:14.082702Z"
    }
   },
   "outputs": [
    {
     "data": {
      "text/plain": [
       "[1, 2, 4]"
      ]
     },
     "execution_count": 36,
     "metadata": {},
     "output_type": "execute_result"
    }
   ],
   "source": [
    "a"
   ]
  },
  {
   "cell_type": "code",
   "execution_count": 40,
   "id": "1729690f",
   "metadata": {
    "ExecuteTime": {
     "end_time": "2022-10-30T07:36:41.612954Z",
     "start_time": "2022-10-30T07:36:41.584125Z"
    }
   },
   "outputs": [
    {
     "ename": "TypeError",
     "evalue": "'str' object does not support item assignment",
     "output_type": "error",
     "traceback": [
      "\u001b[0;31m---------------------------------------------------------------------------\u001b[0m",
      "\u001b[0;31mTypeError\u001b[0m                                 Traceback (most recent call last)",
      "Input \u001b[0;32mIn [40]\u001b[0m, in \u001b[0;36m<cell line: 2>\u001b[0;34m()\u001b[0m\n\u001b[1;32m      1\u001b[0m str1 \u001b[38;5;241m=\u001b[39m \u001b[38;5;124m\"\u001b[39m\u001b[38;5;124masdf\u001b[39m\u001b[38;5;124m\"\u001b[39m\n\u001b[0;32m----> 2\u001b[0m str1[\u001b[38;5;241m0\u001b[39m] \u001b[38;5;241m=\u001b[39m \u001b[38;5;124m'\u001b[39m\u001b[38;5;124mc\u001b[39m\u001b[38;5;124m'\u001b[39m\n",
      "\u001b[0;31mTypeError\u001b[0m: 'str' object does not support item assignment"
     ]
    }
   ],
   "source": [
    "str1 = \"asdf\"\n",
    "str1[0] = 'c'"
   ]
  },
  {
   "cell_type": "markdown",
   "id": "86d28795",
   "metadata": {},
   "source": [
    "### 리스트 관련 함수"
   ]
  },
  {
   "cell_type": "code",
   "execution_count": 65,
   "id": "fce97946",
   "metadata": {
    "ExecuteTime": {
     "end_time": "2022-10-30T07:39:08.204195Z",
     "start_time": "2022-10-30T07:39:08.198071Z"
    }
   },
   "outputs": [
    {
     "name": "stdout",
     "output_type": "stream",
     "text": [
      "[1, 2, 3, 4]\n"
     ]
    }
   ],
   "source": [
    "a = [1,2,3]\n",
    "a.append(4)\n",
    "\n",
    "print(a)"
   ]
  },
  {
   "cell_type": "code",
   "execution_count": 66,
   "id": "ca36b6f0",
   "metadata": {
    "ExecuteTime": {
     "end_time": "2022-10-30T07:39:08.393918Z",
     "start_time": "2022-10-30T07:39:08.366173Z"
    }
   },
   "outputs": [
    {
     "ename": "TypeError",
     "evalue": "list.append() takes exactly one argument (2 given)",
     "output_type": "error",
     "traceback": [
      "\u001b[0;31m---------------------------------------------------------------------------\u001b[0m",
      "\u001b[0;31mTypeError\u001b[0m                                 Traceback (most recent call last)",
      "Input \u001b[0;32mIn [66]\u001b[0m, in \u001b[0;36m<cell line: 1>\u001b[0;34m()\u001b[0m\n\u001b[0;32m----> 1\u001b[0m \u001b[43ma\u001b[49m\u001b[38;5;241;43m.\u001b[39;49m\u001b[43mappend\u001b[49m\u001b[43m(\u001b[49m\u001b[38;5;241;43m5\u001b[39;49m\u001b[43m,\u001b[49m\u001b[38;5;241;43m6\u001b[39;49m\u001b[43m)\u001b[49m\n",
      "\u001b[0;31mTypeError\u001b[0m: list.append() takes exactly one argument (2 given)"
     ]
    }
   ],
   "source": [
    "a.append(5,6)"
   ]
  },
  {
   "cell_type": "code",
   "execution_count": 67,
   "id": "5bb6578c",
   "metadata": {
    "ExecuteTime": {
     "end_time": "2022-10-30T07:39:08.538226Z",
     "start_time": "2022-10-30T07:39:08.528829Z"
    }
   },
   "outputs": [
    {
     "data": {
      "text/plain": [
       "[1, 2, 3, 4, 5, 6, [7, 8]]"
      ]
     },
     "execution_count": 67,
     "metadata": {},
     "output_type": "execute_result"
    }
   ],
   "source": [
    "a.append(5)\n",
    "a.append(6)\n",
    "\n",
    "a.append([7,8])\n",
    "a"
   ]
  },
  {
   "cell_type": "code",
   "execution_count": 68,
   "id": "35ef1df0",
   "metadata": {
    "ExecuteTime": {
     "end_time": "2022-10-30T07:39:08.920826Z",
     "start_time": "2022-10-30T07:39:08.912765Z"
    }
   },
   "outputs": [
    {
     "data": {
      "text/plain": [
       "[1, 2, 3, 4]"
      ]
     },
     "execution_count": 68,
     "metadata": {},
     "output_type": "execute_result"
    }
   ],
   "source": [
    "a = [1,4,3,2]\n",
    "a.sort()\n",
    "a"
   ]
  },
  {
   "cell_type": "code",
   "execution_count": 69,
   "id": "90783de2",
   "metadata": {
    "ExecuteTime": {
     "end_time": "2022-10-30T07:39:10.222509Z",
     "start_time": "2022-10-30T07:39:10.215529Z"
    }
   },
   "outputs": [
    {
     "data": {
      "text/plain": [
       "[4, 3, 2, 1]"
      ]
     },
     "execution_count": 69,
     "metadata": {},
     "output_type": "execute_result"
    }
   ],
   "source": [
    "a.reverse()\n",
    "a"
   ]
  },
  {
   "cell_type": "code",
   "execution_count": 74,
   "id": "d9adcf6e",
   "metadata": {
    "ExecuteTime": {
     "end_time": "2022-10-30T07:39:51.993519Z",
     "start_time": "2022-10-30T07:39:51.986556Z"
    }
   },
   "outputs": [
    {
     "data": {
      "text/plain": [
       "[4, 3, 2, 1]"
      ]
     },
     "execution_count": 74,
     "metadata": {},
     "output_type": "execute_result"
    }
   ],
   "source": [
    "a.sort()\n",
    "a.sort(reverse=True)\n",
    "a"
   ]
  },
  {
   "cell_type": "code",
   "execution_count": 75,
   "id": "5e3387d4",
   "metadata": {
    "ExecuteTime": {
     "end_time": "2022-10-30T07:40:02.529400Z",
     "start_time": "2022-10-30T07:40:02.522142Z"
    }
   },
   "outputs": [
    {
     "data": {
      "text/plain": [
       "2"
      ]
     },
     "execution_count": 75,
     "metadata": {},
     "output_type": "execute_result"
    }
   ],
   "source": [
    "a = [1,2,3]\n",
    "a.index(3)"
   ]
  },
  {
   "cell_type": "code",
   "execution_count": 80,
   "id": "cee39de8",
   "metadata": {
    "ExecuteTime": {
     "end_time": "2022-10-30T07:40:38.235139Z",
     "start_time": "2022-10-30T07:40:38.207049Z"
    }
   },
   "outputs": [
    {
     "ename": "ValueError",
     "evalue": "4 is not in list",
     "output_type": "error",
     "traceback": [
      "\u001b[0;31m---------------------------------------------------------------------------\u001b[0m",
      "\u001b[0;31mValueError\u001b[0m                                Traceback (most recent call last)",
      "Input \u001b[0;32mIn [80]\u001b[0m, in \u001b[0;36m<cell line: 1>\u001b[0;34m()\u001b[0m\n\u001b[0;32m----> 1\u001b[0m \u001b[43ma\u001b[49m\u001b[38;5;241;43m.\u001b[39;49m\u001b[43mindex\u001b[49m\u001b[43m(\u001b[49m\u001b[38;5;241;43m4\u001b[39;49m\u001b[43m)\u001b[49m\n",
      "\u001b[0;31mValueError\u001b[0m: 4 is not in list"
     ]
    }
   ],
   "source": [
    "a.index(4)"
   ]
  },
  {
   "cell_type": "code",
   "execution_count": 81,
   "id": "efed5ee9",
   "metadata": {
    "ExecuteTime": {
     "end_time": "2022-10-30T07:40:39.309272Z",
     "start_time": "2022-10-30T07:40:39.279245Z"
    }
   },
   "outputs": [
    {
     "ename": "AttributeError",
     "evalue": "'list' object has no attribute 'find'",
     "output_type": "error",
     "traceback": [
      "\u001b[0;31m---------------------------------------------------------------------------\u001b[0m",
      "\u001b[0;31mAttributeError\u001b[0m                            Traceback (most recent call last)",
      "Input \u001b[0;32mIn [81]\u001b[0m, in \u001b[0;36m<cell line: 1>\u001b[0;34m()\u001b[0m\n\u001b[0;32m----> 1\u001b[0m \u001b[43ma\u001b[49m\u001b[38;5;241;43m.\u001b[39;49m\u001b[43mfind\u001b[49m(\u001b[38;5;241m4\u001b[39m)\n",
      "\u001b[0;31mAttributeError\u001b[0m: 'list' object has no attribute 'find'"
     ]
    }
   ],
   "source": [
    "a.find(4)"
   ]
  },
  {
   "cell_type": "code",
   "execution_count": 84,
   "id": "4510c21a",
   "metadata": {
    "ExecuteTime": {
     "end_time": "2022-10-30T07:41:35.353210Z",
     "start_time": "2022-10-30T07:41:35.344246Z"
    }
   },
   "outputs": [
    {
     "data": {
      "text/plain": [
       "[1, 2, 3, 4]"
      ]
     },
     "execution_count": 84,
     "metadata": {},
     "output_type": "execute_result"
    }
   ],
   "source": [
    "a = [1,2,4]\n",
    "\n",
    "a.insert(2,3)\n",
    "a"
   ]
  },
  {
   "cell_type": "code",
   "execution_count": 85,
   "id": "c0fd7022",
   "metadata": {
    "ExecuteTime": {
     "end_time": "2022-10-30T07:41:46.168694Z",
     "start_time": "2022-10-30T07:41:46.164539Z"
    }
   },
   "outputs": [],
   "source": [
    "a = [1,2,3,1,2,3]\n",
    "a.remove(3)"
   ]
  },
  {
   "cell_type": "code",
   "execution_count": 87,
   "id": "c4e4b938",
   "metadata": {
    "ExecuteTime": {
     "end_time": "2022-10-30T07:41:50.564614Z",
     "start_time": "2022-10-30T07:41:50.559471Z"
    }
   },
   "outputs": [
    {
     "data": {
      "text/plain": [
       "[1, 2, 1, 2, 3]"
      ]
     },
     "execution_count": 87,
     "metadata": {},
     "output_type": "execute_result"
    }
   ],
   "source": [
    "a"
   ]
  },
  {
   "cell_type": "code",
   "execution_count": 89,
   "id": "7406773c",
   "metadata": {
    "ExecuteTime": {
     "end_time": "2022-10-30T07:42:15.424272Z",
     "start_time": "2022-10-30T07:42:15.417837Z"
    }
   },
   "outputs": [
    {
     "data": {
      "text/plain": [
       "3"
      ]
     },
     "execution_count": 89,
     "metadata": {},
     "output_type": "execute_result"
    }
   ],
   "source": [
    "a = [1,2,3]\n",
    "a.pop()"
   ]
  },
  {
   "cell_type": "code",
   "execution_count": 91,
   "id": "6f665f08",
   "metadata": {
    "ExecuteTime": {
     "end_time": "2022-10-30T07:42:38.165180Z",
     "start_time": "2022-10-30T07:42:38.160108Z"
    }
   },
   "outputs": [
    {
     "data": {
      "text/plain": [
       "2"
      ]
     },
     "execution_count": 91,
     "metadata": {},
     "output_type": "execute_result"
    }
   ],
   "source": [
    "a = [1,2,3,1]\n",
    "\n",
    "a.count(1)"
   ]
  },
  {
   "cell_type": "code",
   "execution_count": 95,
   "id": "16c32ad9",
   "metadata": {
    "ExecuteTime": {
     "end_time": "2022-10-30T07:43:35.289608Z",
     "start_time": "2022-10-30T07:43:35.284581Z"
    }
   },
   "outputs": [],
   "source": [
    "#리스트 확장\n",
    "a = [1,2,3]\n",
    "a.extend([4])"
   ]
  },
  {
   "cell_type": "code",
   "execution_count": 96,
   "id": "0ebbda71",
   "metadata": {
    "ExecuteTime": {
     "end_time": "2022-10-30T07:43:35.628993Z",
     "start_time": "2022-10-30T07:43:35.623359Z"
    }
   },
   "outputs": [
    {
     "data": {
      "text/plain": [
       "[1, 2, 3, 4]"
      ]
     },
     "execution_count": 96,
     "metadata": {},
     "output_type": "execute_result"
    }
   ],
   "source": [
    "a"
   ]
  },
  {
   "cell_type": "markdown",
   "id": "022f828d",
   "metadata": {},
   "source": [
    "## 튜플"
   ]
  },
  {
   "cell_type": "markdown",
   "id": "5ac9ea07",
   "metadata": {},
   "source": [
    "### 튜플 vs 리스트"
   ]
  },
  {
   "cell_type": "code",
   "execution_count": null,
   "id": "baa92fe8",
   "metadata": {
    "ExecuteTime": {
     "start_time": "2022-10-30T12:09:05.017Z"
    }
   },
   "outputs": [],
   "source": [
    "t1 = ()\n",
    "t2 = (1)\n",
    "t3 = (1,2,3)\n",
    "t4 = ('a','b',('ab','cd'))\n",
    "print(t1)\n",
    "print(t2)\n",
    "print(t3)\n",
    "print(t4)"
   ]
  },
  {
   "cell_type": "markdown",
   "id": "63812dbf",
   "metadata": {},
   "source": [
    "### 튜플다루기"
   ]
  },
  {
   "cell_type": "code",
   "execution_count": 118,
   "id": "972dae26",
   "metadata": {
    "ExecuteTime": {
     "end_time": "2022-10-30T07:49:23.024969Z",
     "start_time": "2022-10-30T07:49:23.017772Z"
    }
   },
   "outputs": [
    {
     "data": {
      "text/plain": [
       "3"
      ]
     },
     "execution_count": 118,
     "metadata": {},
     "output_type": "execute_result"
    }
   ],
   "source": [
    "t3[2]"
   ]
  },
  {
   "cell_type": "code",
   "execution_count": 119,
   "id": "59d96a98",
   "metadata": {
    "ExecuteTime": {
     "end_time": "2022-10-30T07:49:23.236697Z",
     "start_time": "2022-10-30T07:49:23.206943Z"
    }
   },
   "outputs": [
    {
     "ename": "TypeError",
     "evalue": "'tuple' object does not support item assignment",
     "output_type": "error",
     "traceback": [
      "\u001b[0;31m---------------------------------------------------------------------------\u001b[0m",
      "\u001b[0;31mTypeError\u001b[0m                                 Traceback (most recent call last)",
      "Input \u001b[0;32mIn [119]\u001b[0m, in \u001b[0;36m<cell line: 1>\u001b[0;34m()\u001b[0m\n\u001b[0;32m----> 1\u001b[0m t3[\u001b[38;5;241m2\u001b[39m] \u001b[38;5;241m=\u001b[39m \u001b[38;5;241m4\u001b[39m\n",
      "\u001b[0;31mTypeError\u001b[0m: 'tuple' object does not support item assignment"
     ]
    }
   ],
   "source": [
    "#값 못바꿈\n",
    "t3[2] = 4"
   ]
  },
  {
   "cell_type": "code",
   "execution_count": 122,
   "id": "84f7e7b1",
   "metadata": {
    "ExecuteTime": {
     "end_time": "2022-10-30T07:49:33.230975Z",
     "start_time": "2022-10-30T07:49:33.224166Z"
    }
   },
   "outputs": [
    {
     "data": {
      "text/plain": [
       "(1, 2)"
      ]
     },
     "execution_count": 122,
     "metadata": {},
     "output_type": "execute_result"
    }
   ],
   "source": [
    "t3[:2]"
   ]
  },
  {
   "cell_type": "code",
   "execution_count": 132,
   "id": "82595083",
   "metadata": {
    "ExecuteTime": {
     "end_time": "2022-10-30T07:50:15.019757Z",
     "start_time": "2022-10-30T07:50:15.014103Z"
    }
   },
   "outputs": [
    {
     "data": {
      "text/plain": [
       "(1, 2, 3, 1, 2, 3, 1, 2, 3)"
      ]
     },
     "execution_count": 132,
     "metadata": {},
     "output_type": "execute_result"
    }
   ],
   "source": [
    "a = (1,2,3)\n",
    "b = (4,5,6)\n",
    "a * 3"
   ]
  },
  {
   "cell_type": "code",
   "execution_count": 133,
   "id": "947dfae1",
   "metadata": {
    "ExecuteTime": {
     "end_time": "2022-10-30T07:50:16.329865Z",
     "start_time": "2022-10-30T07:50:16.323619Z"
    }
   },
   "outputs": [
    {
     "data": {
      "text/plain": [
       "(1, 2, 3, 4, 5, 6)"
      ]
     },
     "execution_count": 133,
     "metadata": {},
     "output_type": "execute_result"
    }
   ],
   "source": [
    "a + b"
   ]
  },
  {
   "cell_type": "code",
   "execution_count": 135,
   "id": "0cc67ced",
   "metadata": {
    "ExecuteTime": {
     "end_time": "2022-10-30T08:56:25.489598Z",
     "start_time": "2022-10-30T08:56:25.475134Z"
    }
   },
   "outputs": [
    {
     "data": {
      "text/plain": [
       "3"
      ]
     },
     "execution_count": 135,
     "metadata": {},
     "output_type": "execute_result"
    }
   ],
   "source": [
    "len(a)"
   ]
  },
  {
   "cell_type": "code",
   "execution_count": 136,
   "id": "3a976e3d",
   "metadata": {
    "ExecuteTime": {
     "end_time": "2022-10-30T08:56:42.505775Z",
     "start_time": "2022-10-30T08:56:42.499495Z"
    }
   },
   "outputs": [
    {
     "name": "stdout",
     "output_type": "stream",
     "text": [
      "(1, 2, 3)\n",
      "(1, 2, 3)\n"
     ]
    }
   ],
   "source": [
    "a = (1,2,3)\n",
    "b = 1,2,3\n",
    "# 튜플은 괄호안써도 인식됨\n",
    "print(a)\n",
    "print(b)"
   ]
  },
  {
   "cell_type": "markdown",
   "id": "d2b01c35",
   "metadata": {},
   "source": [
    "## 딕셔너리"
   ]
  },
  {
   "cell_type": "markdown",
   "id": "40f879e9",
   "metadata": {
    "ExecuteTime": {
     "end_time": "2022-10-30T08:57:59.488687Z",
     "start_time": "2022-10-30T08:57:59.485279Z"
    }
   },
   "source": [
    "### 딕셔너리란"
   ]
  },
  {
   "cell_type": "code",
   "execution_count": 143,
   "id": "e35b50cf",
   "metadata": {
    "ExecuteTime": {
     "end_time": "2022-10-30T09:24:05.954891Z",
     "start_time": "2022-10-30T09:24:05.949470Z"
    }
   },
   "outputs": [],
   "source": [
    "dic = {'name' : 'aaa', 'mobile' : '010-2410-3123', 'birth' : '200428'}"
   ]
  },
  {
   "cell_type": "code",
   "execution_count": 145,
   "id": "47166216",
   "metadata": {
    "ExecuteTime": {
     "end_time": "2022-10-30T09:24:09.551475Z",
     "start_time": "2022-10-30T09:24:09.544060Z"
    }
   },
   "outputs": [
    {
     "data": {
      "text/plain": [
       "{'name': 'aaa', 'mobile': '010-2410-3123', 'birth': '200428'}"
      ]
     },
     "execution_count": 145,
     "metadata": {},
     "output_type": "execute_result"
    }
   ],
   "source": [
    "dic"
   ]
  },
  {
   "cell_type": "code",
   "execution_count": 147,
   "id": "ce33ff20",
   "metadata": {
    "ExecuteTime": {
     "end_time": "2022-10-30T09:24:35.703838Z",
     "start_time": "2022-10-30T09:24:35.699812Z"
    }
   },
   "outputs": [],
   "source": [
    "a = {1 : 3}"
   ]
  },
  {
   "cell_type": "code",
   "execution_count": 148,
   "id": "efabea31",
   "metadata": {
    "ExecuteTime": {
     "end_time": "2022-10-30T09:24:48.902071Z",
     "start_time": "2022-10-30T09:24:48.898447Z"
    }
   },
   "outputs": [],
   "source": [
    "a = {1: [1,2,3]}"
   ]
  },
  {
   "cell_type": "code",
   "execution_count": 149,
   "id": "406ea8be",
   "metadata": {
    "ExecuteTime": {
     "end_time": "2022-10-30T09:24:56.688318Z",
     "start_time": "2022-10-30T09:24:56.656559Z"
    }
   },
   "outputs": [
    {
     "ename": "TypeError",
     "evalue": "unhashable type: 'list'",
     "output_type": "error",
     "traceback": [
      "\u001b[0;31m---------------------------------------------------------------------------\u001b[0m",
      "\u001b[0;31mTypeError\u001b[0m                                 Traceback (most recent call last)",
      "Input \u001b[0;32mIn [149]\u001b[0m, in \u001b[0;36m<cell line: 1>\u001b[0;34m()\u001b[0m\n\u001b[0;32m----> 1\u001b[0m a \u001b[38;5;241m=\u001b[39m {[\u001b[38;5;241m1\u001b[39m,\u001b[38;5;241m2\u001b[39m,\u001b[38;5;241m3\u001b[39m] : \u001b[38;5;241m1\u001b[39m}\n",
      "\u001b[0;31mTypeError\u001b[0m: unhashable type: 'list'"
     ]
    }
   ],
   "source": [
    "a = {[1,2,3] : 1}"
   ]
  },
  {
   "cell_type": "code",
   "execution_count": null,
   "id": "ca75b101",
   "metadata": {},
   "outputs": [],
   "source": [
    "#키:값 쌍에서 키는 숫자혹은 문자여야함\n"
   ]
  },
  {
   "cell_type": "code",
   "execution_count": null,
   "id": "252c6c63",
   "metadata": {},
   "outputs": [],
   "source": []
  },
  {
   "cell_type": "markdown",
   "id": "99928ee6",
   "metadata": {
    "ExecuteTime": {
     "end_time": "2022-10-30T08:58:06.837876Z",
     "start_time": "2022-10-30T08:58:06.832974Z"
    }
   },
   "source": [
    "### 만들기"
   ]
  },
  {
   "cell_type": "markdown",
   "id": "5dc1ff03",
   "metadata": {
    "ExecuteTime": {
     "end_time": "2022-10-30T08:58:22.451834Z",
     "start_time": "2022-10-30T08:58:22.448031Z"
    }
   },
   "source": [
    "### 쌍 추가/삭제 "
   ]
  },
  {
   "cell_type": "code",
   "execution_count": 243,
   "id": "bd71c36b",
   "metadata": {
    "ExecuteTime": {
     "end_time": "2022-10-30T10:53:04.700353Z",
     "start_time": "2022-10-30T10:53:04.695916Z"
    }
   },
   "outputs": [],
   "source": [
    "dic['email'] = 'asdf'"
   ]
  },
  {
   "cell_type": "code",
   "execution_count": 244,
   "id": "06c4ec87",
   "metadata": {
    "ExecuteTime": {
     "end_time": "2022-10-30T10:53:04.869754Z",
     "start_time": "2022-10-30T10:53:04.862443Z"
    }
   },
   "outputs": [
    {
     "data": {
      "text/plain": [
       "{'name': 'ppp', 'mobile': '010-2410-3123', 'birth': '200428', 'email': 'asdf'}"
      ]
     },
     "execution_count": 244,
     "metadata": {},
     "output_type": "execute_result"
    }
   ],
   "source": [
    "dic"
   ]
  },
  {
   "cell_type": "code",
   "execution_count": 245,
   "id": "4348d1ba",
   "metadata": {
    "ExecuteTime": {
     "end_time": "2022-10-30T10:53:05.138669Z",
     "start_time": "2022-10-30T10:53:05.111566Z"
    }
   },
   "outputs": [
    {
     "ename": "TypeError",
     "evalue": "unhashable type: 'slice'",
     "output_type": "error",
     "traceback": [
      "\u001b[0;31m---------------------------------------------------------------------------\u001b[0m",
      "\u001b[0;31mTypeError\u001b[0m                                 Traceback (most recent call last)",
      "Input \u001b[0;32mIn [245]\u001b[0m, in \u001b[0;36m<cell line: 2>\u001b[0;34m()\u001b[0m\n\u001b[1;32m      1\u001b[0m \u001b[38;5;66;03m#대괄호로 접근한 키에 값을 할당하면 추가된다.\u001b[39;00m\n\u001b[0;32m----> 2\u001b[0m \u001b[43mdic\u001b[49m\u001b[43m[\u001b[49m\u001b[38;5;124;43m'\u001b[39;49m\u001b[38;5;124;43mname\u001b[39;49m\u001b[38;5;124;43m'\u001b[39;49m\u001b[43m:\u001b[49m\u001b[38;5;241;43m1234\u001b[39;49m\u001b[43m]\u001b[49m\n",
      "\u001b[0;31mTypeError\u001b[0m: unhashable type: 'slice'"
     ]
    }
   ],
   "source": [
    "#대괄호로 접근한 키에 값을 할당하면 추가된다.\n",
    "dic['name':1234]"
   ]
  },
  {
   "cell_type": "code",
   "execution_count": 246,
   "id": "34d2cb28",
   "metadata": {
    "ExecuteTime": {
     "end_time": "2022-10-30T10:53:05.707877Z",
     "start_time": "2022-10-30T10:53:05.700692Z"
    }
   },
   "outputs": [
    {
     "data": {
      "text/plain": [
       "'ppp'"
      ]
     },
     "execution_count": 246,
     "metadata": {},
     "output_type": "execute_result"
    }
   ],
   "source": [
    "dic['name']"
   ]
  },
  {
   "cell_type": "code",
   "execution_count": 160,
   "id": "ccbd8720",
   "metadata": {
    "ExecuteTime": {
     "end_time": "2022-10-30T10:29:31.616774Z",
     "start_time": "2022-10-30T10:29:31.613429Z"
    }
   },
   "outputs": [],
   "source": [
    "dic['name'] = 'ppp'"
   ]
  },
  {
   "cell_type": "code",
   "execution_count": 161,
   "id": "b2c04022",
   "metadata": {
    "ExecuteTime": {
     "end_time": "2022-10-30T10:29:31.784299Z",
     "start_time": "2022-10-30T10:29:31.777729Z"
    }
   },
   "outputs": [
    {
     "data": {
      "text/plain": [
       "'ppp'"
      ]
     },
     "execution_count": 161,
     "metadata": {},
     "output_type": "execute_result"
    }
   ],
   "source": [
    "dic."
   ]
  },
  {
   "cell_type": "markdown",
   "id": "15641a2d",
   "metadata": {
    "ExecuteTime": {
     "end_time": "2022-10-30T08:58:36.836469Z",
     "start_time": "2022-10-30T08:58:36.833639Z"
    }
   },
   "source": [
    "### 관련함수 "
   ]
  },
  {
   "cell_type": "code",
   "execution_count": 162,
   "id": "07d6d2d9",
   "metadata": {
    "ExecuteTime": {
     "end_time": "2022-10-30T10:29:46.929310Z",
     "start_time": "2022-10-30T10:29:46.921896Z"
    }
   },
   "outputs": [
    {
     "data": {
      "text/plain": [
       "dict_keys(['name', 'mobile', 'birth', 'email'])"
      ]
     },
     "execution_count": 162,
     "metadata": {},
     "output_type": "execute_result"
    }
   ],
   "source": [
    "dic.keys()\n",
    "#순서가 없음"
   ]
  },
  {
   "cell_type": "code",
   "execution_count": 163,
   "id": "6b0eb905",
   "metadata": {
    "ExecuteTime": {
     "end_time": "2022-10-30T10:29:54.049170Z",
     "start_time": "2022-10-30T10:29:54.042816Z"
    }
   },
   "outputs": [
    {
     "data": {
      "text/plain": [
       "dict"
      ]
     },
     "execution_count": 163,
     "metadata": {},
     "output_type": "execute_result"
    }
   ],
   "source": [
    "type(dic)"
   ]
  },
  {
   "cell_type": "code",
   "execution_count": 164,
   "id": "b6dc60dc",
   "metadata": {
    "ExecuteTime": {
     "end_time": "2022-10-30T10:30:04.614793Z",
     "start_time": "2022-10-30T10:30:04.606715Z"
    }
   },
   "outputs": [
    {
     "data": {
      "text/plain": [
       "str"
      ]
     },
     "execution_count": 164,
     "metadata": {},
     "output_type": "execute_result"
    }
   ],
   "source": [
    "type(dic['name'])"
   ]
  },
  {
   "cell_type": "code",
   "execution_count": 165,
   "id": "e08fcd67",
   "metadata": {
    "ExecuteTime": {
     "end_time": "2022-10-30T10:30:11.473454Z",
     "start_time": "2022-10-30T10:30:11.468960Z"
    }
   },
   "outputs": [],
   "source": [
    "a = dic.keys()"
   ]
  },
  {
   "cell_type": "code",
   "execution_count": 167,
   "id": "4d1e868b",
   "metadata": {
    "ExecuteTime": {
     "end_time": "2022-10-30T10:30:49.989877Z",
     "start_time": "2022-10-30T10:30:49.958351Z"
    }
   },
   "outputs": [
    {
     "ename": "TypeError",
     "evalue": "dict_keys.isdisjoint() takes exactly one argument (0 given)",
     "output_type": "error",
     "traceback": [
      "\u001b[0;31m---------------------------------------------------------------------------\u001b[0m",
      "\u001b[0;31mTypeError\u001b[0m                                 Traceback (most recent call last)",
      "Input \u001b[0;32mIn [167]\u001b[0m, in \u001b[0;36m<cell line: 3>\u001b[0;34m()\u001b[0m\n\u001b[1;32m      1\u001b[0m \u001b[38;5;66;03m#dic.keys()는 dict_keys라는 새로운객체를 반환함\u001b[39;00m\n\u001b[1;32m      2\u001b[0m \u001b[38;5;28mtype\u001b[39m(a)\n\u001b[0;32m----> 3\u001b[0m \u001b[43ma\u001b[49m\u001b[38;5;241;43m.\u001b[39;49m\u001b[43misdisjoint\u001b[49m\u001b[43m(\u001b[49m\u001b[43m)\u001b[49m\n",
      "\u001b[0;31mTypeError\u001b[0m: dict_keys.isdisjoint() takes exactly one argument (0 given)"
     ]
    }
   ],
   "source": [
    "#dic.keys()는 dict_keys라는 새로운객체를 반환함\n",
    "type(a)\n",
    "#슬라이싱등이 불가능함\n"
   ]
  },
  {
   "cell_type": "code",
   "execution_count": 170,
   "id": "f2789115",
   "metadata": {
    "ExecuteTime": {
     "end_time": "2022-10-30T10:31:55.242838Z",
     "start_time": "2022-10-30T10:31:55.239650Z"
    }
   },
   "outputs": [],
   "source": [
    "#리스트로 바꾸기\n",
    "a = list(a)"
   ]
  },
  {
   "cell_type": "code",
   "execution_count": 171,
   "id": "1d82254f",
   "metadata": {
    "ExecuteTime": {
     "end_time": "2022-10-30T10:31:55.573358Z",
     "start_time": "2022-10-30T10:31:55.566735Z"
    }
   },
   "outputs": [
    {
     "name": "stdout",
     "output_type": "stream",
     "text": [
      "['name', 'mobile', 'birth', 'email']\n"
     ]
    },
    {
     "data": {
      "text/plain": [
       "list"
      ]
     },
     "execution_count": 171,
     "metadata": {},
     "output_type": "execute_result"
    }
   ],
   "source": [
    "print(a)\n",
    "type(a)"
   ]
  },
  {
   "cell_type": "code",
   "execution_count": 172,
   "id": "3d2d5b45",
   "metadata": {
    "ExecuteTime": {
     "end_time": "2022-10-30T10:32:11.795046Z",
     "start_time": "2022-10-30T10:32:11.789705Z"
    }
   },
   "outputs": [],
   "source": [
    "a = list(dic.keys())"
   ]
  },
  {
   "cell_type": "code",
   "execution_count": 173,
   "id": "15980e94",
   "metadata": {
    "ExecuteTime": {
     "end_time": "2022-10-30T10:32:14.081413Z",
     "start_time": "2022-10-30T10:32:14.074382Z"
    }
   },
   "outputs": [
    {
     "data": {
      "text/plain": [
       "['name', 'mobile', 'birth', 'email']"
      ]
     },
     "execution_count": 173,
     "metadata": {},
     "output_type": "execute_result"
    }
   ],
   "source": [
    "a"
   ]
  },
  {
   "cell_type": "code",
   "execution_count": 174,
   "id": "1f4c8f88",
   "metadata": {
    "ExecuteTime": {
     "end_time": "2022-10-30T10:32:26.101551Z",
     "start_time": "2022-10-30T10:32:26.093436Z"
    }
   },
   "outputs": [
    {
     "data": {
      "text/plain": [
       "dict_values(['ppp', '010-2410-3123', '200428', 'asdf'])"
      ]
     },
     "execution_count": 174,
     "metadata": {},
     "output_type": "execute_result"
    }
   ],
   "source": [
    "dic.values()"
   ]
  },
  {
   "cell_type": "code",
   "execution_count": 177,
   "id": "5165a968",
   "metadata": {
    "ExecuteTime": {
     "end_time": "2022-10-30T10:32:46.008330Z",
     "start_time": "2022-10-30T10:32:46.003982Z"
    }
   },
   "outputs": [
    {
     "name": "stdout",
     "output_type": "stream",
     "text": [
      "['ppp', '010-2410-3123', '200428', 'asdf']\n"
     ]
    }
   ],
   "source": [
    "a = list(dic.values())\n",
    "print(a)"
   ]
  },
  {
   "cell_type": "code",
   "execution_count": 179,
   "id": "d1b0f24e",
   "metadata": {
    "ExecuteTime": {
     "end_time": "2022-10-30T10:33:30.042037Z",
     "start_time": "2022-10-30T10:33:30.030394Z"
    }
   },
   "outputs": [
    {
     "data": {
      "text/plain": [
       "dict_items([('name', 'ppp'), ('mobile', '010-2410-3123'), ('birth', '200428'), ('email', 'asdf')])"
      ]
     },
     "execution_count": 179,
     "metadata": {},
     "output_type": "execute_result"
    }
   ],
   "source": [
    "dic.items()"
   ]
  },
  {
   "cell_type": "code",
   "execution_count": 180,
   "id": "1c3ad499",
   "metadata": {
    "ExecuteTime": {
     "end_time": "2022-10-30T10:33:42.735850Z",
     "start_time": "2022-10-30T10:33:42.731783Z"
    }
   },
   "outputs": [],
   "source": [
    "a = list(dic.items())"
   ]
  },
  {
   "cell_type": "code",
   "execution_count": 181,
   "id": "13262da9",
   "metadata": {
    "ExecuteTime": {
     "end_time": "2022-10-30T10:33:46.152119Z",
     "start_time": "2022-10-30T10:33:46.147124Z"
    }
   },
   "outputs": [
    {
     "data": {
      "text/plain": [
       "('name', 'ppp')"
      ]
     },
     "execution_count": 181,
     "metadata": {},
     "output_type": "execute_result"
    }
   ],
   "source": [
    "a[0]"
   ]
  },
  {
   "cell_type": "code",
   "execution_count": 182,
   "id": "cfbc01d9",
   "metadata": {
    "ExecuteTime": {
     "end_time": "2022-10-30T10:33:50.918375Z",
     "start_time": "2022-10-30T10:33:50.910615Z"
    }
   },
   "outputs": [
    {
     "data": {
      "text/plain": [
       "'name'"
      ]
     },
     "execution_count": 182,
     "metadata": {},
     "output_type": "execute_result"
    }
   ],
   "source": [
    "a[0][0]"
   ]
  },
  {
   "cell_type": "code",
   "execution_count": 198,
   "id": "e7494ae6",
   "metadata": {
    "ExecuteTime": {
     "end_time": "2022-10-30T10:36:47.900211Z",
     "start_time": "2022-10-30T10:36:47.893706Z"
    }
   },
   "outputs": [
    {
     "data": {
      "text/plain": [
       "'default'"
      ]
     },
     "execution_count": 198,
     "metadata": {},
     "output_type": "execute_result"
    }
   ],
   "source": [
    "dic['name']\n",
    "dic.get('name')\n",
    "dic.get('non')\n",
    "#dic[non]\n",
    "#get은 아무것도 리턴하지 않음.\n",
    "#그래서 디폴트값을 설정해주곤함\n",
    "dic.get('non', 'default')"
   ]
  },
  {
   "cell_type": "code",
   "execution_count": 203,
   "id": "f2ba1c54",
   "metadata": {
    "ExecuteTime": {
     "end_time": "2022-10-30T10:38:10.483977Z",
     "start_time": "2022-10-30T10:38:10.474690Z"
    }
   },
   "outputs": [
    {
     "name": "stdout",
     "output_type": "stream",
     "text": [
      "True\n",
      "False\n",
      "True\n",
      "False\n"
     ]
    }
   ],
   "source": [
    "#값이 있는지확인\n",
    "l1 = [1,2,3,4]\n",
    "t1 = (1,2,3,4)\n",
    "\n",
    "print(1 in l1)\n",
    "print(0 in t1)\n",
    "print('name' in dic)\n",
    "print('noa' in dic)"
   ]
  },
  {
   "cell_type": "markdown",
   "id": "976ccac5",
   "metadata": {},
   "source": [
    "## 집합"
   ]
  },
  {
   "cell_type": "markdown",
   "id": "5e925249",
   "metadata": {
    "ExecuteTime": {
     "end_time": "2022-10-30T10:42:42.455441Z",
     "start_time": "2022-10-30T10:42:42.448897Z"
    }
   },
   "source": [
    "### 만들기 "
   ]
  },
  {
   "cell_type": "code",
   "execution_count": 219,
   "id": "9469508e",
   "metadata": {
    "ExecuteTime": {
     "end_time": "2022-10-30T10:46:58.543664Z",
     "start_time": "2022-10-30T10:46:58.513403Z"
    }
   },
   "outputs": [
    {
     "name": "stdout",
     "output_type": "stream",
     "text": [
      "{1, 2, 3}\n",
      "{'o', 'l', 'H', 'e'}\n"
     ]
    },
    {
     "ename": "TypeError",
     "evalue": "'set' object is not subscriptable",
     "output_type": "error",
     "traceback": [
      "\u001b[0;31m---------------------------------------------------------------------------\u001b[0m",
      "\u001b[0;31mTypeError\u001b[0m                                 Traceback (most recent call last)",
      "Input \u001b[0;32mIn [219]\u001b[0m, in \u001b[0;36m<cell line: 8>\u001b[0;34m()\u001b[0m\n\u001b[1;32m      5\u001b[0m \u001b[38;5;28mprint\u001b[39m(s2)\n\u001b[1;32m      7\u001b[0m \u001b[38;5;66;03m#집합은 순서가 없고 중복이 제거됨\u001b[39;00m\n\u001b[0;32m----> 8\u001b[0m \u001b[38;5;28mprint\u001b[39m(\u001b[43ms2\u001b[49m\u001b[43m[\u001b[49m\u001b[38;5;241;43m0\u001b[39;49m\u001b[43m]\u001b[49m)\n",
      "\u001b[0;31mTypeError\u001b[0m: 'set' object is not subscriptable"
     ]
    }
   ],
   "source": [
    "s1 = set([1,2,3])\n",
    "print(s1)\n",
    "\n",
    "s2 = set('Hello')\n",
    "print(s2)\n",
    "\n",
    "#집합은 순서가 없고 중복이 제거됨\n",
    "print(s2[0])"
   ]
  },
  {
   "cell_type": "markdown",
   "id": "31cbaf72",
   "metadata": {},
   "source": [
    "### 중복제거 "
   ]
  },
  {
   "cell_type": "code",
   "execution_count": 218,
   "id": "4dfcdabd",
   "metadata": {
    "ExecuteTime": {
     "end_time": "2022-10-30T10:46:46.813643Z",
     "start_time": "2022-10-30T10:46:46.809062Z"
    }
   },
   "outputs": [
    {
     "name": "stdout",
     "output_type": "stream",
     "text": [
      "[1, 2, 3, 4, 5, 6, 7, 8]\n"
     ]
    }
   ],
   "source": [
    "#중복제거방법\n",
    "a = [1,2,3,4,5,6,7,8]\n",
    "a = list(set(a))\n",
    "print(a)"
   ]
  },
  {
   "cell_type": "code",
   "execution_count": 220,
   "id": "1127c2df",
   "metadata": {
    "ExecuteTime": {
     "end_time": "2022-10-30T10:47:12.353826Z",
     "start_time": "2022-10-30T10:47:12.349655Z"
    }
   },
   "outputs": [
    {
     "name": "stdout",
     "output_type": "stream",
     "text": [
      "sdfa\n"
     ]
    }
   ],
   "source": [
    "a = 'asdfasdfasdf'\n",
    "a = ''.join((set(a)))\n",
    "print(a)"
   ]
  },
  {
   "cell_type": "markdown",
   "id": "ad824909",
   "metadata": {
    "ExecuteTime": {
     "end_time": "2022-10-30T10:47:18.680102Z",
     "start_time": "2022-10-30T10:47:18.677030Z"
    }
   },
   "source": [
    "### 집합연산"
   ]
  },
  {
   "cell_type": "code",
   "execution_count": 236,
   "id": "dd58e6c6",
   "metadata": {
    "ExecuteTime": {
     "end_time": "2022-10-30T10:51:59.204162Z",
     "start_time": "2022-10-30T10:51:59.192277Z"
    }
   },
   "outputs": [
    {
     "name": "stdout",
     "output_type": "stream",
     "text": [
      "{4, 5, 6}\n",
      "{4, 5, 6}\n",
      "{1, 2, 3, 4, 5, 6, 7, 8, 9}\n",
      "{1, 2, 3, 4, 5, 6, 7, 8, 9}\n",
      "{1, 2, 3}\n",
      "{1, 2, 3}\n",
      "{8, 9, 7}\n"
     ]
    }
   ],
   "source": [
    "s1 = set([1,2,3,4,5,6])\n",
    "s2 = set([4,5,6,7,8,9])\n",
    "\n",
    "# 교집합구하기\n",
    "print(s1.intersection(s2))\n",
    "print(s1 & s2)\n",
    "\n",
    "# 합집합\n",
    "print(s1.union(s2))\n",
    "print(s1 | s2)\n",
    "\n",
    "# 차집합\n",
    "print(s1 - s2)\n",
    "print(s1.difference(s2))\n",
    "print(s2 - s1)\n",
    "\n"
   ]
  },
  {
   "cell_type": "code",
   "execution_count": 237,
   "id": "03755250",
   "metadata": {
    "ExecuteTime": {
     "end_time": "2022-10-30T10:51:59.376557Z",
     "start_time": "2022-10-30T10:51:59.367942Z"
    }
   },
   "outputs": [
    {
     "name": "stdout",
     "output_type": "stream",
     "text": [
      "{1, 2, 3, 4, 5, 6, 7}\n",
      "{1, 2, 3, 4, 5, 6, 7, 8, 9}\n"
     ]
    }
   ],
   "source": [
    "# 값 추가\n",
    "s1.add(7)\n",
    "print(s1)\n",
    "\n",
    "# 여러개 추가\n",
    "s1.update([8,9])\n",
    "print(s1)"
   ]
  },
  {
   "cell_type": "code",
   "execution_count": 238,
   "id": "0f1c6122",
   "metadata": {
    "ExecuteTime": {
     "end_time": "2022-10-30T10:51:59.573996Z",
     "start_time": "2022-10-30T10:51:59.568081Z"
    }
   },
   "outputs": [
    {
     "name": "stdout",
     "output_type": "stream",
     "text": [
      "{1, 3, 4, 5, 6, 7, 8, 9}\n"
     ]
    }
   ],
   "source": [
    "# 값 삭제\n",
    "s1.remove(2)\n",
    "print(s1)"
   ]
  },
  {
   "cell_type": "markdown",
   "id": "d34b6a0e",
   "metadata": {
    "ExecuteTime": {
     "end_time": "2022-10-30T10:52:14.163202Z",
     "start_time": "2022-10-30T10:52:14.160090Z"
    }
   },
   "source": [
    "## 불 자료형 "
   ]
  },
  {
   "cell_type": "markdown",
   "id": "6588c1e0",
   "metadata": {
    "ExecuteTime": {
     "end_time": "2022-10-30T10:52:25.292991Z",
     "start_time": "2022-10-30T10:52:25.288643Z"
    }
   },
   "source": [
    "### 정의 "
   ]
  },
  {
   "cell_type": "code",
   "execution_count": 248,
   "id": "ed05cb82",
   "metadata": {
    "ExecuteTime": {
     "end_time": "2022-10-30T10:56:35.508340Z",
     "start_time": "2022-10-30T10:56:35.504276Z"
    }
   },
   "outputs": [
    {
     "name": "stdout",
     "output_type": "stream",
     "text": [
      "True False\n"
     ]
    }
   ],
   "source": [
    "#참과 거짓으로만 판단된다\n",
    "a = True\n",
    "b = False\n",
    "print(a, b)"
   ]
  },
  {
   "cell_type": "code",
   "execution_count": 250,
   "id": "28288a3f",
   "metadata": {
    "ExecuteTime": {
     "end_time": "2022-10-30T10:56:51.167941Z",
     "start_time": "2022-10-30T10:56:51.162216Z"
    }
   },
   "outputs": [
    {
     "name": "stdout",
     "output_type": "stream",
     "text": [
      "<class 'bool'>\n",
      "<class 'bool'>\n"
     ]
    }
   ],
   "source": [
    "print(type(a))\n",
    "print(type(b))"
   ]
  },
  {
   "cell_type": "markdown",
   "id": "79f80a71",
   "metadata": {
    "ExecuteTime": {
     "end_time": "2022-10-30T10:52:37.228203Z",
     "start_time": "2022-10-30T10:52:37.224975Z"
    }
   },
   "source": [
    "### 자료형의 참과 거짓"
   ]
  },
  {
   "cell_type": "code",
   "execution_count": 251,
   "id": "fa448250",
   "metadata": {
    "ExecuteTime": {
     "end_time": "2022-10-30T10:57:05.038889Z",
     "start_time": "2022-10-30T10:57:05.033567Z"
    }
   },
   "outputs": [
    {
     "data": {
      "text/plain": [
       "bool"
      ]
     },
     "execution_count": 251,
     "metadata": {},
     "output_type": "execute_result"
    }
   ],
   "source": [
    "type(1 == 1)"
   ]
  },
  {
   "cell_type": "code",
   "execution_count": 252,
   "id": "5fa6fcf3",
   "metadata": {
    "ExecuteTime": {
     "end_time": "2022-10-30T10:57:13.867840Z",
     "start_time": "2022-10-30T10:57:13.861589Z"
    }
   },
   "outputs": [
    {
     "data": {
      "text/plain": [
       "bool"
      ]
     },
     "execution_count": 252,
     "metadata": {},
     "output_type": "execute_result"
    }
   ],
   "source": [
    "type(2 > 1)"
   ]
  },
  {
   "cell_type": "code",
   "execution_count": 262,
   "id": "88cd6075",
   "metadata": {
    "ExecuteTime": {
     "end_time": "2022-10-30T11:00:12.638990Z",
     "start_time": "2022-10-30T11:00:12.631568Z"
    }
   },
   "outputs": [
    {
     "data": {
      "text/plain": [
       "bool"
      ]
     },
     "execution_count": 262,
     "metadata": {},
     "output_type": "execute_result"
    }
   ],
   "source": [
    "type(2 < 1)"
   ]
  },
  {
   "cell_type": "markdown",
   "id": "6e3e1010",
   "metadata": {},
   "source": [
    "### 불연산"
   ]
  },
  {
   "cell_type": "code",
   "execution_count": 256,
   "id": "8235315d",
   "metadata": {
    "ExecuteTime": {
     "end_time": "2022-10-30T10:57:39.912376Z",
     "start_time": "2022-10-30T10:57:39.906540Z"
    }
   },
   "outputs": [
    {
     "name": "stdout",
     "output_type": "stream",
     "text": [
      "True\n"
     ]
    },
    {
     "data": {
      "text/plain": [
       "bool"
      ]
     },
     "execution_count": 256,
     "metadata": {},
     "output_type": "execute_result"
    }
   ],
   "source": [
    "print('aaa' == 'aaa')\n",
    "type('aaa' == 'bbb')"
   ]
  },
  {
   "cell_type": "code",
   "execution_count": 259,
   "id": "7d967040",
   "metadata": {
    "ExecuteTime": {
     "end_time": "2022-10-30T10:58:18.523552Z",
     "start_time": "2022-10-30T10:58:18.517865Z"
    }
   },
   "outputs": [
    {
     "name": "stdout",
     "output_type": "stream",
     "text": [
      "True\n",
      "False\n",
      "True\n",
      "False\n"
     ]
    }
   ],
   "source": [
    "print(bool('a'))\n",
    "print(bool(''))\n",
    "print(bool([1,2]))\n",
    "print(bool([]))"
   ]
  },
  {
   "cell_type": "code",
   "execution_count": 263,
   "id": "fe773551",
   "metadata": {
    "ExecuteTime": {
     "end_time": "2022-10-30T11:00:25.560037Z",
     "start_time": "2022-10-30T11:00:25.555469Z"
    }
   },
   "outputs": [
    {
     "name": "stdout",
     "output_type": "stream",
     "text": [
      "False\n",
      "False\n",
      "True\n"
     ]
    }
   ],
   "source": [
    "print(bool(0))\n",
    "print(bool(None))\n",
    "print(bool(1))"
   ]
  },
  {
   "cell_type": "markdown",
   "id": "0c293562",
   "metadata": {
    "ExecuteTime": {
     "end_time": "2022-10-30T11:00:32.980473Z",
     "start_time": "2022-10-30T11:00:32.977036Z"
    }
   },
   "source": [
    "## 깊은복사, 얕은복사"
   ]
  },
  {
   "cell_type": "code",
   "execution_count": 265,
   "id": "d90f723d",
   "metadata": {
    "ExecuteTime": {
     "end_time": "2022-10-30T11:00:55.965671Z",
     "start_time": "2022-10-30T11:00:55.958257Z"
    }
   },
   "outputs": [
    {
     "name": "stdout",
     "output_type": "stream",
     "text": [
      "[0, 2, 3]\n",
      "[0, 2, 3]\n"
     ]
    }
   ],
   "source": [
    "a = [1,2,3]\n",
    "a_new = a\n",
    "a[0] = 0\n",
    "print(a)\n",
    "print(a_new)"
   ]
  },
  {
   "cell_type": "code",
   "execution_count": 267,
   "id": "8b812ca0",
   "metadata": {
    "ExecuteTime": {
     "end_time": "2022-10-30T11:01:40.216134Z",
     "start_time": "2022-10-30T11:01:40.211426Z"
    }
   },
   "outputs": [
    {
     "name": "stdout",
     "output_type": "stream",
     "text": [
      "[0, 2, 3]\n",
      "[1, 2, 3]\n"
     ]
    }
   ],
   "source": [
    "a = [1,2,3]\n",
    "a_new = a[:]\n",
    "a[0] = 0\n",
    "print(a)\n",
    "print(a_new)"
   ]
  },
  {
   "cell_type": "code",
   "execution_count": 274,
   "id": "37616e9e",
   "metadata": {
    "ExecuteTime": {
     "end_time": "2022-10-30T11:05:35.213170Z",
     "start_time": "2022-10-30T11:05:35.204403Z"
    }
   },
   "outputs": [
    {
     "name": "stdout",
     "output_type": "stream",
     "text": [
      "[0, 2, 3]\n",
      "[1, 2, 3]\n"
     ]
    }
   ],
   "source": [
    "import copy\n",
    "a = [1,2,3]\n",
    "a_new = copy.deepcopy(a)\n",
    "a[0] = 0\n",
    "print(a)\n",
    "print(a_new)"
   ]
  },
  {
   "cell_type": "markdown",
   "id": "fad0e415",
   "metadata": {},
   "source": [
    "## 변수생성"
   ]
  },
  {
   "cell_type": "code",
   "execution_count": 270,
   "id": "c59480aa",
   "metadata": {
    "ExecuteTime": {
     "end_time": "2022-10-30T11:03:59.535599Z",
     "start_time": "2022-10-30T11:03:59.528138Z"
    }
   },
   "outputs": [
    {
     "name": "stdout",
     "output_type": "stream",
     "text": [
      "a b\n"
     ]
    }
   ],
   "source": [
    "a = 'a'\n",
    "b = 'b'\n",
    "a, b = 'a', 'b'\n",
    "print(a, b)"
   ]
  },
  {
   "cell_type": "code",
   "execution_count": 271,
   "id": "b1e60d91",
   "metadata": {
    "ExecuteTime": {
     "end_time": "2022-10-30T11:04:41.019677Z",
     "start_time": "2022-10-30T11:04:41.015426Z"
    }
   },
   "outputs": [
    {
     "name": "stdout",
     "output_type": "stream",
     "text": [
      "a\n",
      "b\n"
     ]
    }
   ],
   "source": [
    "[a,b] = ['a','b']\n",
    "print(a)\n",
    "print(b)"
   ]
  },
  {
   "cell_type": "code",
   "execution_count": 272,
   "id": "79d092eb",
   "metadata": {
    "ExecuteTime": {
     "end_time": "2022-10-30T11:04:50.816151Z",
     "start_time": "2022-10-30T11:04:50.810071Z"
    }
   },
   "outputs": [
    {
     "name": "stdout",
     "output_type": "stream",
     "text": [
      "a\n",
      "a\n"
     ]
    }
   ],
   "source": [
    "a = b = 'a'\n",
    "print(a)\n",
    "print(b)"
   ]
  },
  {
   "cell_type": "code",
   "execution_count": 273,
   "id": "9ce90695",
   "metadata": {
    "ExecuteTime": {
     "end_time": "2022-10-30T11:05:13.522515Z",
     "start_time": "2022-10-30T11:05:13.516544Z"
    }
   },
   "outputs": [
    {
     "name": "stdout",
     "output_type": "stream",
     "text": [
      "5 3\n"
     ]
    }
   ],
   "source": [
    "a = 3\n",
    "b = 5\n",
    "a, b = b, a\n",
    "print(a, b)"
   ]
  },
  {
   "cell_type": "markdown",
   "id": "73c25107",
   "metadata": {
    "ExecuteTime": {
     "end_time": "2022-10-30T11:06:09.184948Z",
     "start_time": "2022-10-30T11:06:09.180536Z"
    }
   },
   "source": [
    "# 조건문, 논리식 등등"
   ]
  },
  {
   "cell_type": "markdown",
   "id": "ba7c83da",
   "metadata": {},
   "source": [
    "## if문"
   ]
  },
  {
   "cell_type": "code",
   "execution_count": 281,
   "id": "b6ee55ba",
   "metadata": {
    "ExecuteTime": {
     "end_time": "2022-10-30T11:39:51.919774Z",
     "start_time": "2022-10-30T11:39:49.719738Z"
    }
   },
   "outputs": [
    {
     "name": "stdout",
     "output_type": "stream",
     "text": [
      "회원인가요?(y/n)a\n",
      "뉘세요\n"
     ]
    }
   ],
   "source": [
    "member = input('회원인가요?(y/n)')\n",
    "if member == 'y':\n",
    "    print('어서오세용')\n",
    "else:\n",
    "    print('뉘세요')"
   ]
  },
  {
   "cell_type": "code",
   "execution_count": null,
   "id": "f34044d1",
   "metadata": {
    "ExecuteTime": {
     "start_time": "2022-10-30T11:44:47.675Z"
    }
   },
   "outputs": [],
   "source": [
    "age = int(input('나이 입력: '))\n",
    "price = 20000\n",
    "\n",
    "if 1 <= age < 6:\n",
    "    print('입장료 무료')\n",
    "elif 6 <= age < 60:\n",
    "    print('입장료는 ', price, '입니다.')\n",
    "elif age >= 60:\n",
    "    print('입장료는 ', price * 0.5, '입니다.')\n",
    "else:\n",
    "    print('1살 이상의 나이 입력해주세요')\n"
   ]
  },
  {
   "cell_type": "markdown",
   "id": "da33cb1e",
   "metadata": {},
   "source": [
    "### 중첩조건문"
   ]
  },
  {
   "cell_type": "code",
   "execution_count": 290,
   "id": "386ed95e",
   "metadata": {
    "ExecuteTime": {
     "end_time": "2022-10-30T11:47:52.526650Z",
     "start_time": "2022-10-30T11:47:49.559079Z"
    }
   },
   "outputs": [
    {
     "name": "stdout",
     "output_type": "stream",
     "text": [
      "아이디: admin\n",
      "비밀번호: 1234\n",
      "로그인성공\n"
     ]
    }
   ],
   "source": [
    "id1 = input('아이디: ')\n",
    "pwd2 = input('비밀번호: ')\n",
    "if id1 == 'admin':\n",
    "    if pwd2 == '1234':\n",
    "        print('로그인성공')\n",
    "    else:\n",
    "        print('비밀번호 오류')\n",
    "else:\n",
    "    print('아이디오류')"
   ]
  },
  {
   "cell_type": "markdown",
   "id": "84f6a75d",
   "metadata": {},
   "source": [
    "## 반복문"
   ]
  },
  {
   "cell_type": "markdown",
   "id": "4ee8a934",
   "metadata": {},
   "source": [
    "### range"
   ]
  },
  {
   "cell_type": "code",
   "execution_count": 2,
   "id": "4a078988",
   "metadata": {
    "ExecuteTime": {
     "end_time": "2022-10-30T16:07:32.740647Z",
     "start_time": "2022-10-30T16:07:32.732807Z"
    }
   },
   "outputs": [
    {
     "name": "stdout",
     "output_type": "stream",
     "text": [
      "+\n",
      "++\n",
      "+++\n",
      "++++\n",
      "+++++\n"
     ]
    }
   ],
   "source": [
    "for i in range(5):\n",
    "    print('+' * (i + 1))"
   ]
  },
  {
   "cell_type": "code",
   "execution_count": 3,
   "id": "d4503916",
   "metadata": {
    "ExecuteTime": {
     "end_time": "2022-10-30T16:08:39.596065Z",
     "start_time": "2022-10-30T16:08:39.591080Z"
    }
   },
   "outputs": [
    {
     "name": "stdout",
     "output_type": "stream",
     "text": [
      "2 4 6 8 10 "
     ]
    }
   ],
   "source": [
    "odd = [1,3,5,7,9]\n",
    "for i in odd:\n",
    "    print(i + 1, end= ' ')"
   ]
  },
  {
   "cell_type": "code",
   "execution_count": 5,
   "id": "ef38e4d2",
   "metadata": {
    "ExecuteTime": {
     "end_time": "2022-10-30T16:31:46.403243Z",
     "start_time": "2022-10-30T16:31:46.394956Z"
    }
   },
   "outputs": [
    {
     "name": "stdout",
     "output_type": "stream",
     "text": [
      "7의배수:  7\n",
      "7의배수:  14\n",
      "7의배수:  21\n",
      "7의배수:  28\n"
     ]
    }
   ],
   "source": [
    "for i in range(1,31):\n",
    "    if i % 7 == 0:\n",
    "        print('7의배수: ', i)"
   ]
  },
  {
   "cell_type": "code",
   "execution_count": 14,
   "id": "03afa683",
   "metadata": {
    "ExecuteTime": {
     "end_time": "2022-10-30T16:38:09.830104Z",
     "start_time": "2022-10-30T16:38:01.530557Z"
    }
   },
   "outputs": [
    {
     "name": "stdout",
     "output_type": "stream",
     "text": [
      "구구단입력 0 종료:1\n",
      "1 x 1 = 1\n",
      "1 x 2 = 2\n",
      "1 x 3 = 3\n",
      "1 x 4 = 4\n",
      "1 x 5 = 5\n",
      "1 x 6 = 6\n",
      "1 x 7 = 7\n",
      "1 x 8 = 8\n",
      "1 x 9 = 9\n",
      "구구단입력 0 종료:10\n",
      "10 x 1 = 10\n",
      "10 x 2 = 20\n",
      "10 x 3 = 30\n",
      "10 x 4 = 40\n",
      "10 x 5 = 50\n",
      "10 x 6 = 60\n",
      "10 x 7 = 70\n",
      "10 x 8 = 80\n",
      "10 x 9 = 90\n",
      "구구단입력 0 종료:9\n",
      "9 x 1 = 9\n",
      "9 x 2 = 18\n",
      "9 x 3 = 27\n",
      "9 x 4 = 36\n",
      "9 x 5 = 45\n",
      "9 x 6 = 54\n",
      "9 x 7 = 63\n",
      "9 x 8 = 72\n",
      "9 x 9 = 81\n",
      "구구단입력 0 종료:0\n"
     ]
    }
   ],
   "source": [
    "while (True):\n",
    "    num = int(input('구구단입력 0 종료:'))\n",
    "    if num == 0:\n",
    "        break\n",
    "    i = 1\n",
    "    while i <= 9:\n",
    "        print('%d x %d = %d' % (num, i, num * i))\n",
    "        i += 1"
   ]
  },
  {
   "cell_type": "code",
   "execution_count": 15,
   "id": "19f4475c",
   "metadata": {
    "ExecuteTime": {
     "end_time": "2022-10-30T16:39:30.398563Z",
     "start_time": "2022-10-30T16:39:30.392805Z"
    }
   },
   "outputs": [
    {
     "ename": "SyntaxError",
     "evalue": "invalid syntax (267665802.py, line 5)",
     "output_type": "error",
     "traceback": [
      "\u001b[0;36m  Input \u001b[0;32mIn [15]\u001b[0;36m\u001b[0m\n\u001b[0;31m    if word == '0'\u001b[0m\n\u001b[0m                  ^\u001b[0m\n\u001b[0;31mSyntaxError\u001b[0m\u001b[0;31m:\u001b[0m invalid syntax\n"
     ]
    }
   ],
   "source": [
    "alpha = {'A' : '1!', 'B' : '2@', 'C' : '3#', 'D' : '4$', 'E':'5%' }\n",
    "while True:\n",
    "    code = ''\n",
    "    word = input('input')\n",
    "    if word == '0':\n",
    "        break\n",
    "    for ch in word:\n",
    "        code += alpha[ch]\n",
    "    print('단어:', word, '암호코드', code, '\\n')\n",
    "print('임호코드 변한프로그램')\n",
    "        \n",
    "        \n",
    "    "
   ]
  },
  {
   "cell_type": "code",
   "execution_count": null,
   "id": "71d61c84",
   "metadata": {},
   "outputs": [],
   "source": []
  },
  {
   "cell_type": "code",
   "execution_count": null,
   "id": "cc5f0498",
   "metadata": {},
   "outputs": [],
   "source": []
  }
 ],
 "metadata": {
  "kernelspec": {
   "display_name": "Python 3 (ipykernel)",
   "language": "python",
   "name": "python3"
  },
  "language_info": {
   "codemirror_mode": {
    "name": "ipython",
    "version": 3
   },
   "file_extension": ".py",
   "mimetype": "text/x-python",
   "name": "python",
   "nbconvert_exporter": "python",
   "pygments_lexer": "ipython3",
   "version": "3.9.12"
  },
  "toc": {
   "base_numbering": 1,
   "nav_menu": {},
   "number_sections": true,
   "sideBar": true,
   "skip_h1_title": false,
   "title_cell": "Table of Contents",
   "title_sidebar": "Contents",
   "toc_cell": false,
   "toc_position": {},
   "toc_section_display": true,
   "toc_window_display": true
  }
 },
 "nbformat": 4,
 "nbformat_minor": 5
}
