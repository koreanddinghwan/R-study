{
 "cells": [
  {
   "cell_type": "code",
   "execution_count": 2,
   "id": "b03c0936",
   "metadata": {},
   "outputs": [
    {
     "data": {
      "text/plain": [
       "3"
      ]
     },
     "execution_count": 2,
     "metadata": {},
     "output_type": "execute_result"
    }
   ],
   "source": [
    "1 + 2"
   ]
  },
  {
   "cell_type": "markdown",
   "id": "8c126f88",
   "metadata": {},
   "source": [
    "# 1\n",
    "## 2\n",
    "### 3\n",
    "#### 4\n",
    "\n",
    "우측상단의 code를 markdown으로 변경.\n",
    "        "
   ]
  },
  {
   "cell_type": "markdown",
   "id": "9e995870",
   "metadata": {},
   "source": [
    "# edit mode 실행\n",
    "\n",
    "1.shift enter\n",
    "2.ctrl enter\n",
    "3.alt enter"
   ]
  },
  {
   "cell_type": "markdown",
   "id": "bb1008a4",
   "metadata": {},
   "source": [
    "단축키확인 -> command)h"
   ]
  },
  {
   "cell_type": "code",
   "execution_count": null,
   "id": "894bc37c",
   "metadata": {},
   "outputs": [],
   "source": [
    "edit)shift+tab -> tooltip"
   ]
  },
  {
   "cell_type": "code",
   "execution_count": 11,
   "id": "dad91d49",
   "metadata": {},
   "outputs": [
    {
     "name": "stdout",
     "output_type": "stream",
     "text": [
      "Requirement already satisfied: jupyterthemes in /Users/ddinghwan/opt/anaconda3/lib/python3.9/site-packages (0.20.0)\n",
      "Requirement already satisfied: notebook>=5.6.0 in /Users/ddinghwan/opt/anaconda3/lib/python3.9/site-packages (from jupyterthemes) (6.4.8)\n",
      "Requirement already satisfied: jupyter-core in /Users/ddinghwan/opt/anaconda3/lib/python3.9/site-packages (from jupyterthemes) (4.9.2)\n",
      "Requirement already satisfied: ipython>=5.4.1 in /Users/ddinghwan/opt/anaconda3/lib/python3.9/site-packages (from jupyterthemes) (8.2.0)\n",
      "Requirement already satisfied: matplotlib>=1.4.3 in /Users/ddinghwan/opt/anaconda3/lib/python3.9/site-packages (from jupyterthemes) (3.5.1)\n",
      "Requirement already satisfied: lesscpy>=0.11.2 in /Users/ddinghwan/opt/anaconda3/lib/python3.9/site-packages (from jupyterthemes) (0.15.1)\n",
      "Requirement already satisfied: matplotlib-inline in /Users/ddinghwan/opt/anaconda3/lib/python3.9/site-packages (from ipython>=5.4.1->jupyterthemes) (0.1.2)\n",
      "Requirement already satisfied: decorator in /Users/ddinghwan/opt/anaconda3/lib/python3.9/site-packages (from ipython>=5.4.1->jupyterthemes) (5.1.1)\n",
      "Requirement already satisfied: jedi>=0.16 in /Users/ddinghwan/opt/anaconda3/lib/python3.9/site-packages (from ipython>=5.4.1->jupyterthemes) (0.18.1)\n",
      "Requirement already satisfied: backcall in /Users/ddinghwan/opt/anaconda3/lib/python3.9/site-packages (from ipython>=5.4.1->jupyterthemes) (0.2.0)\n",
      "Requirement already satisfied: pickleshare in /Users/ddinghwan/opt/anaconda3/lib/python3.9/site-packages (from ipython>=5.4.1->jupyterthemes) (0.7.5)\n",
      "Requirement already satisfied: setuptools>=18.5 in /Users/ddinghwan/opt/anaconda3/lib/python3.9/site-packages (from ipython>=5.4.1->jupyterthemes) (61.2.0)\n",
      "Requirement already satisfied: prompt-toolkit!=3.0.0,!=3.0.1,<3.1.0,>=2.0.0 in /Users/ddinghwan/opt/anaconda3/lib/python3.9/site-packages (from ipython>=5.4.1->jupyterthemes) (3.0.20)\n",
      "Requirement already satisfied: stack-data in /Users/ddinghwan/opt/anaconda3/lib/python3.9/site-packages (from ipython>=5.4.1->jupyterthemes) (0.2.0)\n",
      "Requirement already satisfied: pexpect>4.3 in /Users/ddinghwan/opt/anaconda3/lib/python3.9/site-packages (from ipython>=5.4.1->jupyterthemes) (4.8.0)\n",
      "Requirement already satisfied: appnope in /Users/ddinghwan/opt/anaconda3/lib/python3.9/site-packages (from ipython>=5.4.1->jupyterthemes) (0.1.2)\n",
      "Requirement already satisfied: pygments>=2.4.0 in /Users/ddinghwan/opt/anaconda3/lib/python3.9/site-packages (from ipython>=5.4.1->jupyterthemes) (2.11.2)\n",
      "Requirement already satisfied: traitlets>=5 in /Users/ddinghwan/opt/anaconda3/lib/python3.9/site-packages (from ipython>=5.4.1->jupyterthemes) (5.1.1)\n",
      "Requirement already satisfied: parso<0.9.0,>=0.8.0 in /Users/ddinghwan/opt/anaconda3/lib/python3.9/site-packages (from jedi>=0.16->ipython>=5.4.1->jupyterthemes) (0.8.3)\n",
      "Requirement already satisfied: ply in /Users/ddinghwan/opt/anaconda3/lib/python3.9/site-packages (from lesscpy>=0.11.2->jupyterthemes) (3.11)\n",
      "Requirement already satisfied: python-dateutil>=2.7 in /Users/ddinghwan/opt/anaconda3/lib/python3.9/site-packages (from matplotlib>=1.4.3->jupyterthemes) (2.8.2)\n",
      "Requirement already satisfied: cycler>=0.10 in /Users/ddinghwan/opt/anaconda3/lib/python3.9/site-packages (from matplotlib>=1.4.3->jupyterthemes) (0.11.0)\n",
      "Requirement already satisfied: numpy>=1.17 in /Users/ddinghwan/opt/anaconda3/lib/python3.9/site-packages (from matplotlib>=1.4.3->jupyterthemes) (1.21.5)\n",
      "Requirement already satisfied: fonttools>=4.22.0 in /Users/ddinghwan/opt/anaconda3/lib/python3.9/site-packages (from matplotlib>=1.4.3->jupyterthemes) (4.25.0)\n",
      "Requirement already satisfied: pyparsing>=2.2.1 in /Users/ddinghwan/opt/anaconda3/lib/python3.9/site-packages (from matplotlib>=1.4.3->jupyterthemes) (3.0.4)\n",
      "Requirement already satisfied: packaging>=20.0 in /Users/ddinghwan/opt/anaconda3/lib/python3.9/site-packages (from matplotlib>=1.4.3->jupyterthemes) (21.3)\n",
      "Requirement already satisfied: kiwisolver>=1.0.1 in /Users/ddinghwan/opt/anaconda3/lib/python3.9/site-packages (from matplotlib>=1.4.3->jupyterthemes) (1.3.2)\n",
      "Requirement already satisfied: pillow>=6.2.0 in /Users/ddinghwan/opt/anaconda3/lib/python3.9/site-packages (from matplotlib>=1.4.3->jupyterthemes) (9.0.1)\n",
      "Requirement already satisfied: argon2-cffi in /Users/ddinghwan/opt/anaconda3/lib/python3.9/site-packages (from notebook>=5.6.0->jupyterthemes) (21.3.0)\n",
      "Requirement already satisfied: ipykernel in /Users/ddinghwan/opt/anaconda3/lib/python3.9/site-packages (from notebook>=5.6.0->jupyterthemes) (6.9.1)\n",
      "Requirement already satisfied: nest-asyncio>=1.5 in /Users/ddinghwan/opt/anaconda3/lib/python3.9/site-packages (from notebook>=5.6.0->jupyterthemes) (1.5.5)\n",
      "Requirement already satisfied: Send2Trash>=1.8.0 in /Users/ddinghwan/opt/anaconda3/lib/python3.9/site-packages (from notebook>=5.6.0->jupyterthemes) (1.8.0)\n",
      "Requirement already satisfied: tornado>=6.1 in /Users/ddinghwan/opt/anaconda3/lib/python3.9/site-packages (from notebook>=5.6.0->jupyterthemes) (6.1)\n",
      "Requirement already satisfied: nbconvert in /Users/ddinghwan/opt/anaconda3/lib/python3.9/site-packages (from notebook>=5.6.0->jupyterthemes) (6.4.4)\n",
      "Requirement already satisfied: ipython-genutils in /Users/ddinghwan/opt/anaconda3/lib/python3.9/site-packages (from notebook>=5.6.0->jupyterthemes) (0.2.0)\n",
      "Requirement already satisfied: jinja2 in /Users/ddinghwan/opt/anaconda3/lib/python3.9/site-packages (from notebook>=5.6.0->jupyterthemes) (2.11.3)\n",
      "Requirement already satisfied: jupyter-client>=5.3.4 in /Users/ddinghwan/opt/anaconda3/lib/python3.9/site-packages (from notebook>=5.6.0->jupyterthemes) (6.1.12)\n",
      "Requirement already satisfied: prometheus-client in /Users/ddinghwan/opt/anaconda3/lib/python3.9/site-packages (from notebook>=5.6.0->jupyterthemes) (0.13.1)\n",
      "Requirement already satisfied: pyzmq>=17 in /Users/ddinghwan/opt/anaconda3/lib/python3.9/site-packages (from notebook>=5.6.0->jupyterthemes) (22.3.0)\n",
      "Requirement already satisfied: terminado>=0.8.3 in /Users/ddinghwan/opt/anaconda3/lib/python3.9/site-packages (from notebook>=5.6.0->jupyterthemes) (0.13.1)\n",
      "Requirement already satisfied: nbformat in /Users/ddinghwan/opt/anaconda3/lib/python3.9/site-packages (from notebook>=5.6.0->jupyterthemes) (5.3.0)\n",
      "Requirement already satisfied: ptyprocess>=0.5 in /Users/ddinghwan/opt/anaconda3/lib/python3.9/site-packages (from pexpect>4.3->ipython>=5.4.1->jupyterthemes) (0.7.0)\n",
      "Requirement already satisfied: wcwidth in /Users/ddinghwan/opt/anaconda3/lib/python3.9/site-packages (from prompt-toolkit!=3.0.0,!=3.0.1,<3.1.0,>=2.0.0->ipython>=5.4.1->jupyterthemes) (0.2.5)\n",
      "Requirement already satisfied: six>=1.5 in /Users/ddinghwan/opt/anaconda3/lib/python3.9/site-packages (from python-dateutil>=2.7->matplotlib>=1.4.3->jupyterthemes) (1.16.0)\n",
      "Requirement already satisfied: argon2-cffi-bindings in /Users/ddinghwan/opt/anaconda3/lib/python3.9/site-packages (from argon2-cffi->notebook>=5.6.0->jupyterthemes) (21.2.0)\n",
      "Requirement already satisfied: cffi>=1.0.1 in /Users/ddinghwan/opt/anaconda3/lib/python3.9/site-packages (from argon2-cffi-bindings->argon2-cffi->notebook>=5.6.0->jupyterthemes) (1.15.0)\n",
      "Requirement already satisfied: pycparser in /Users/ddinghwan/opt/anaconda3/lib/python3.9/site-packages (from cffi>=1.0.1->argon2-cffi-bindings->argon2-cffi->notebook>=5.6.0->jupyterthemes) (2.21)\n",
      "Requirement already satisfied: debugpy<2.0,>=1.0.0 in /Users/ddinghwan/opt/anaconda3/lib/python3.9/site-packages (from ipykernel->notebook>=5.6.0->jupyterthemes) (1.5.1)\n",
      "Requirement already satisfied: MarkupSafe>=0.23 in /Users/ddinghwan/opt/anaconda3/lib/python3.9/site-packages (from jinja2->notebook>=5.6.0->jupyterthemes) (2.0.1)\n",
      "Requirement already satisfied: pandocfilters>=1.4.1 in /Users/ddinghwan/opt/anaconda3/lib/python3.9/site-packages (from nbconvert->notebook>=5.6.0->jupyterthemes) (1.5.0)\n",
      "Requirement already satisfied: defusedxml in /Users/ddinghwan/opt/anaconda3/lib/python3.9/site-packages (from nbconvert->notebook>=5.6.0->jupyterthemes) (0.7.1)\n",
      "Requirement already satisfied: nbclient<0.6.0,>=0.5.0 in /Users/ddinghwan/opt/anaconda3/lib/python3.9/site-packages (from nbconvert->notebook>=5.6.0->jupyterthemes) (0.5.13)\n",
      "Requirement already satisfied: entrypoints>=0.2.2 in /Users/ddinghwan/opt/anaconda3/lib/python3.9/site-packages (from nbconvert->notebook>=5.6.0->jupyterthemes) (0.4)\n",
      "Requirement already satisfied: mistune<2,>=0.8.1 in /Users/ddinghwan/opt/anaconda3/lib/python3.9/site-packages (from nbconvert->notebook>=5.6.0->jupyterthemes) (0.8.4)\n",
      "Requirement already satisfied: testpath in /Users/ddinghwan/opt/anaconda3/lib/python3.9/site-packages (from nbconvert->notebook>=5.6.0->jupyterthemes) (0.5.0)\n",
      "Requirement already satisfied: beautifulsoup4 in /Users/ddinghwan/opt/anaconda3/lib/python3.9/site-packages (from nbconvert->notebook>=5.6.0->jupyterthemes) (4.11.1)\n",
      "Requirement already satisfied: jupyterlab-pygments in /Users/ddinghwan/opt/anaconda3/lib/python3.9/site-packages (from nbconvert->notebook>=5.6.0->jupyterthemes) (0.1.2)\n",
      "Requirement already satisfied: bleach in /Users/ddinghwan/opt/anaconda3/lib/python3.9/site-packages (from nbconvert->notebook>=5.6.0->jupyterthemes) (4.1.0)\n"
     ]
    },
    {
     "name": "stdout",
     "output_type": "stream",
     "text": [
      "Requirement already satisfied: jsonschema>=2.6 in /Users/ddinghwan/opt/anaconda3/lib/python3.9/site-packages (from nbformat->notebook>=5.6.0->jupyterthemes) (4.4.0)\n",
      "Requirement already satisfied: fastjsonschema in /Users/ddinghwan/opt/anaconda3/lib/python3.9/site-packages (from nbformat->notebook>=5.6.0->jupyterthemes) (2.15.1)\n",
      "Requirement already satisfied: attrs>=17.4.0 in /Users/ddinghwan/opt/anaconda3/lib/python3.9/site-packages (from jsonschema>=2.6->nbformat->notebook>=5.6.0->jupyterthemes) (21.4.0)\n",
      "Requirement already satisfied: pyrsistent!=0.17.0,!=0.17.1,!=0.17.2,>=0.14.0 in /Users/ddinghwan/opt/anaconda3/lib/python3.9/site-packages (from jsonschema>=2.6->nbformat->notebook>=5.6.0->jupyterthemes) (0.18.0)\n",
      "Requirement already satisfied: soupsieve>1.2 in /Users/ddinghwan/opt/anaconda3/lib/python3.9/site-packages (from beautifulsoup4->nbconvert->notebook>=5.6.0->jupyterthemes) (2.3.1)\n",
      "Requirement already satisfied: webencodings in /Users/ddinghwan/opt/anaconda3/lib/python3.9/site-packages (from bleach->nbconvert->notebook>=5.6.0->jupyterthemes) (0.5.1)\n",
      "Requirement already satisfied: executing in /Users/ddinghwan/opt/anaconda3/lib/python3.9/site-packages (from stack-data->ipython>=5.4.1->jupyterthemes) (0.8.3)\n",
      "Requirement already satisfied: pure-eval in /Users/ddinghwan/opt/anaconda3/lib/python3.9/site-packages (from stack-data->ipython>=5.4.1->jupyterthemes) (0.2.2)\n",
      "Requirement already satisfied: asttokens in /Users/ddinghwan/opt/anaconda3/lib/python3.9/site-packages (from stack-data->ipython>=5.4.1->jupyterthemes) (2.0.5)\n"
     ]
    }
   ],
   "source": [
    "!pip install jupyterthemes"
   ]
  },
  {
   "cell_type": "markdown",
   "id": "94a3bf58",
   "metadata": {},
   "source": [
    "```term\n",
    "(base) randpython/8weeks [ jt -l             master * ] 8:32 PM\n",
    "Available Themes:\n",
    "   chesterish\n",
    "   grade3\n",
    "   gruvboxd\n",
    "   gruvboxl\n",
    "   monokai\n",
    "   oceans16\n",
    "   onedork\n",
    "   solarizedd\n",
    "   solarizedl\n",
    "(base) randpython/8weeks [ jt -t             master * ] 8:32 PM\n",
    "usage: jt [-h] [-l] [-t THEME] [-f MONOFONT] [-fs MONOSIZE]\n",
    "          [-nf NBFONT] [-nfs NBFONTSIZE] [-tf TCFONT]\n",
    "          [-tfs TCFONTSIZE] [-dfs DFFONTSIZE]\n",
    "          [-ofs OUTFONTSIZE] [-mathfs MATHFONTSIZE]\n",
    "          [-m MARGINS] [-cursw CURSORWIDTH]\n",
    "          [-cursc CURSORCOLOR] [-cellw CELLWIDTH]\n",
    "          [-lineh LINEHEIGHT] [-altp] [-altmd] [-altout] [-P]\n",
    "          [-T] [-N] [-kl] [-vim] [-r] [-dfonts]\n",
    "jt: error: argument -t/--theme: expected one argument\n",
    "(base) randpython/8weeks [ jt -t onedork -T\n",
    "```\n",
    "\n",
    "-T를 넣어줘야 툴바가 보임."
   ]
  },
  {
   "cell_type": "markdown",
   "id": "02f61704",
   "metadata": {},
   "source": [
    "!를 붙이고 pip install을 하는 이유는 pip install을 터미널에서 하는 것처럼 해달라는 의미  \n",
    "[shell command로 실행](https://jakevdp.github.io/blog/2017/12/05/installing-python-packages-from-jupyter/)\n",
    "\n"
   ]
  },
  {
   "cell_type": "markdown",
   "id": "e9a83263",
   "metadata": {},
   "source": [
    "# data type\n",
    "\n",
    "## 숫자\n",
    "\n",
    "1. 정수형, 실수형\n",
    "2. 산술연산자\n",
    "    - 사칙연산\n",
    "    - 제곱\n",
    "    - 나머지, 몫\n",
    "3. 할당연산자"
   ]
  },
  {
   "cell_type": "code",
   "execution_count": 21,
   "id": "64f860e5",
   "metadata": {
    "ExecuteTime": {
     "end_time": "2022-10-27T11:54:33.585163Z",
     "start_time": "2022-10-27T11:54:33.576132Z"
    }
   },
   "outputs": [
    {
     "name": "stdout",
     "output_type": "stream",
     "text": [
      "1\n"
     ]
    },
    {
     "data": {
      "text/plain": [
       "2"
      ]
     },
     "execution_count": 21,
     "metadata": {},
     "output_type": "execute_result"
    }
   ],
   "source": [
    "a = 1\n",
    "print(a)\n",
    "\n",
    "b = 2\n",
    "b"
   ]
  },
  {
   "cell_type": "code",
   "execution_count": 22,
   "id": "2109917b",
   "metadata": {
    "ExecuteTime": {
     "end_time": "2022-10-27T11:54:34.376383Z",
     "start_time": "2022-10-27T11:54:34.371375Z"
    }
   },
   "outputs": [
    {
     "data": {
      "text/plain": [
       "3"
      ]
     },
     "execution_count": 22,
     "metadata": {},
     "output_type": "execute_result"
    }
   ],
   "source": [
    "a + b"
   ]
  },
  {
   "cell_type": "code",
   "execution_count": 23,
   "id": "7a8e5cee",
   "metadata": {
    "ExecuteTime": {
     "end_time": "2022-10-27T11:54:34.567962Z",
     "start_time": "2022-10-27T11:54:34.563139Z"
    }
   },
   "outputs": [
    {
     "data": {
      "text/plain": [
       "-1"
      ]
     },
     "execution_count": 23,
     "metadata": {},
     "output_type": "execute_result"
    }
   ],
   "source": [
    "a - b"
   ]
  },
  {
   "cell_type": "code",
   "execution_count": 24,
   "id": "b4c910db",
   "metadata": {
    "ExecuteTime": {
     "end_time": "2022-10-27T11:54:36.773206Z",
     "start_time": "2022-10-27T11:54:36.768572Z"
    }
   },
   "outputs": [
    {
     "data": {
      "text/plain": [
       "2"
      ]
     },
     "execution_count": 24,
     "metadata": {},
     "output_type": "execute_result"
    }
   ],
   "source": [
    "a * b"
   ]
  },
  {
   "cell_type": "code",
   "execution_count": 25,
   "id": "596f0da2",
   "metadata": {
    "ExecuteTime": {
     "end_time": "2022-10-27T11:54:37.008079Z",
     "start_time": "2022-10-27T11:54:37.002601Z"
    }
   },
   "outputs": [
    {
     "data": {
      "text/plain": [
       "0.5"
      ]
     },
     "execution_count": 25,
     "metadata": {},
     "output_type": "execute_result"
    }
   ],
   "source": [
    "a / b"
   ]
  },
  {
   "cell_type": "code",
   "execution_count": 26,
   "id": "2b7dbd60",
   "metadata": {
    "ExecuteTime": {
     "end_time": "2022-10-27T11:54:38.167208Z",
     "start_time": "2022-10-27T11:54:38.162480Z"
    }
   },
   "outputs": [
    {
     "data": {
      "text/plain": [
       "1"
      ]
     },
     "execution_count": 26,
     "metadata": {},
     "output_type": "execute_result"
    }
   ],
   "source": [
    "a % b"
   ]
  },
  {
   "cell_type": "code",
   "execution_count": 28,
   "id": "0c61a179",
   "metadata": {
    "ExecuteTime": {
     "end_time": "2022-10-27T11:54:55.711748Z",
     "start_time": "2022-10-27T11:54:55.706370Z"
    }
   },
   "outputs": [
    {
     "data": {
      "text/plain": [
       "81"
      ]
     },
     "execution_count": 28,
     "metadata": {},
     "output_type": "execute_result"
    }
   ],
   "source": [
    "a = 3\n",
    "b = 4\n",
    "a ** b"
   ]
  },
  {
   "cell_type": "markdown",
   "id": "3ef11433",
   "metadata": {},
   "source": [
    "## 문자열\n",
    "\n",
    "2. 여러 줄 문자열\n",
    "3. 문자열 연산\n",
    "4. 문자열 인덱싱, 슬라이싱\n",
    "5. 문자열 포매팅\n",
    "6. \n"
   ]
  },
  {
   "cell_type": "markdown",
   "id": "b1380b64",
   "metadata": {},
   "source": [
    "### 문자열 만들기 4가지"
   ]
  },
  {
   "cell_type": "code",
   "execution_count": 63,
   "id": "b3c1404d",
   "metadata": {
    "ExecuteTime": {
     "end_time": "2022-10-27T12:06:13.433143Z",
     "start_time": "2022-10-27T12:06:13.427135Z"
    }
   },
   "outputs": [
    {
     "data": {
      "text/plain": [
       "'hello'"
      ]
     },
     "execution_count": 63,
     "metadata": {},
     "output_type": "execute_result"
    }
   ],
   "source": [
    "\"hello\""
   ]
  },
  {
   "cell_type": "code",
   "execution_count": 32,
   "id": "42a7042c",
   "metadata": {
    "ExecuteTime": {
     "end_time": "2022-10-27T11:58:02.398922Z",
     "start_time": "2022-10-27T11:58:02.394272Z"
    }
   },
   "outputs": [
    {
     "data": {
      "text/plain": [
       "'hello'"
      ]
     },
     "execution_count": 32,
     "metadata": {},
     "output_type": "execute_result"
    }
   ],
   "source": [
    "'hello'"
   ]
  },
  {
   "cell_type": "code",
   "execution_count": 33,
   "id": "5b77ed56",
   "metadata": {
    "ExecuteTime": {
     "end_time": "2022-10-27T11:58:06.285710Z",
     "start_time": "2022-10-27T11:58:06.279150Z"
    }
   },
   "outputs": [
    {
     "data": {
      "text/plain": [
       "'hello'"
      ]
     },
     "execution_count": 33,
     "metadata": {},
     "output_type": "execute_result"
    }
   ],
   "source": [
    "'''hello'''"
   ]
  },
  {
   "cell_type": "code",
   "execution_count": 34,
   "id": "f46cabbe",
   "metadata": {
    "ExecuteTime": {
     "end_time": "2022-10-27T11:58:11.371681Z",
     "start_time": "2022-10-27T11:58:11.366106Z"
    }
   },
   "outputs": [
    {
     "data": {
      "text/plain": [
       "'hello'"
      ]
     },
     "execution_count": 34,
     "metadata": {},
     "output_type": "execute_result"
    }
   ],
   "source": [
    "\"\"\"hello\"\"\""
   ]
  },
  {
   "cell_type": "code",
   "execution_count": 35,
   "id": "46021c96",
   "metadata": {
    "ExecuteTime": {
     "end_time": "2022-10-27T11:58:33.133139Z",
     "start_time": "2022-10-27T11:58:33.128502Z"
    }
   },
   "outputs": [
    {
     "data": {
      "text/plain": [
       "\"'hi im kang'\""
      ]
     },
     "execution_count": 35,
     "metadata": {},
     "output_type": "execute_result"
    }
   ],
   "source": [
    "\"\"\"'hi im kang'\"\"\""
   ]
  },
  {
   "cell_type": "code",
   "execution_count": 38,
   "id": "e8464556",
   "metadata": {
    "ExecuteTime": {
     "end_time": "2022-10-27T11:59:57.742735Z",
     "start_time": "2022-10-27T11:59:57.737820Z"
    }
   },
   "outputs": [
    {
     "data": {
      "text/plain": [
       "'\"i\\'m a student\", he says'"
      ]
     },
     "execution_count": 38,
     "metadata": {},
     "output_type": "execute_result"
    }
   ],
   "source": [
    "'''\"i'm a student\", he says'''"
   ]
  },
  {
   "cell_type": "code",
   "execution_count": 62,
   "id": "e9c96bae",
   "metadata": {
    "ExecuteTime": {
     "end_time": "2022-10-27T12:04:55.785630Z",
     "start_time": "2022-10-27T12:04:55.778722Z"
    }
   },
   "outputs": [
    {
     "name": "stdout",
     "output_type": "stream",
     "text": [
      "\"i'm a student\", he says\n"
     ]
    }
   ],
   "source": [
    "print('''\"i'm a student\", he says''')"
   ]
  },
  {
   "cell_type": "markdown",
   "id": "56f24354",
   "metadata": {},
   "source": [
    "### 이스케이프 시퀀스"
   ]
  },
  {
   "cell_type": "code",
   "execution_count": 46,
   "id": "60b30b39",
   "metadata": {
    "ExecuteTime": {
     "end_time": "2022-10-27T12:02:02.447621Z",
     "start_time": "2022-10-27T12:02:02.444268Z"
    }
   },
   "outputs": [
    {
     "name": "stdout",
     "output_type": "stream",
     "text": [
      "\"i'm a student\", he says\n"
     ]
    }
   ],
   "source": [
    "print(\"\"\"\\\"i\\'m a student\\\", he says\"\"\")"
   ]
  },
  {
   "cell_type": "code",
   "execution_count": 48,
   "id": "46434ca1",
   "metadata": {
    "ExecuteTime": {
     "end_time": "2022-10-27T12:02:20.715410Z",
     "start_time": "2022-10-27T12:02:20.711374Z"
    }
   },
   "outputs": [
    {
     "name": "stdout",
     "output_type": "stream",
     "text": [
      "\"i'm a student\",\n",
      " he says\n"
     ]
    }
   ],
   "source": [
    "print(\"\"\"\\\"i\\'m a student\\\".\\n he says\"\"\")"
   ]
  },
  {
   "cell_type": "code",
   "execution_count": 50,
   "id": "babc7b97",
   "metadata": {
    "ExecuteTime": {
     "end_time": "2022-10-27T12:02:44.400802Z",
     "start_time": "2022-10-27T12:02:44.397333Z"
    }
   },
   "outputs": [
    {
     "name": "stdout",
     "output_type": "stream",
     "text": [
      "\"i'm a student\".\t he says\n"
     ]
    }
   ],
   "source": [
    "print(\"\"\"\\\"i\\'m a student\\\".\\t he says\"\"\")"
   ]
  },
  {
   "cell_type": "code",
   "execution_count": 64,
   "id": "25a5e4e2",
   "metadata": {
    "ExecuteTime": {
     "end_time": "2022-10-27T12:06:19.812159Z",
     "start_time": "2022-10-27T12:06:19.807993Z"
    }
   },
   "outputs": [
    {
     "name": "stdout",
     "output_type": "stream",
     "text": [
      "\"i'm a student\".\\ he says\n"
     ]
    }
   ],
   "source": [
    "print(\"\"\"\\\"i\\'m a student\\\".\\\\ he says\"\"\")"
   ]
  },
  {
   "cell_type": "markdown",
   "id": "bf83a5ec",
   "metadata": {},
   "source": [
    "### 문자열 연산"
   ]
  },
  {
   "cell_type": "code",
   "execution_count": 55,
   "id": "3f8d437f",
   "metadata": {
    "ExecuteTime": {
     "end_time": "2022-10-27T12:03:40.815396Z",
     "start_time": "2022-10-27T12:03:40.810345Z"
    }
   },
   "outputs": [
    {
     "data": {
      "text/plain": [
       "'applebanana'"
      ]
     },
     "execution_count": 55,
     "metadata": {},
     "output_type": "execute_result"
    }
   ],
   "source": [
    "a = \"apple\"\n",
    "b = \"banana\"\n",
    "\n",
    "a + b"
   ]
  },
  {
   "cell_type": "code",
   "execution_count": 60,
   "id": "3b42aa6c",
   "metadata": {
    "ExecuteTime": {
     "end_time": "2022-10-27T12:04:35.417271Z",
     "start_time": "2022-10-27T12:04:35.410444Z"
    }
   },
   "outputs": [
    {
     "name": "stdout",
     "output_type": "stream",
     "text": [
      "==================================================\n",
      "result\n",
      "==================================================\n"
     ]
    }
   ],
   "source": [
    "a = \"apple\"\n",
    "b = 3\n",
    "a * b\n",
    "\n",
    "print(\"=\" * 50)\n",
    "print(\"result\")\n",
    "print(\"=\" * 50)"
   ]
  },
  {
   "cell_type": "code",
   "execution_count": 61,
   "id": "32058037",
   "metadata": {
    "ExecuteTime": {
     "end_time": "2022-10-27T12:04:43.218526Z",
     "start_time": "2022-10-27T12:04:43.213845Z"
    }
   },
   "outputs": [
    {
     "data": {
      "text/plain": [
       "'result'"
      ]
     },
     "execution_count": 61,
     "metadata": {},
     "output_type": "execute_result"
    }
   ],
   "source": [
    "\"+\" * 50\n",
    "\"result\""
   ]
  },
  {
   "cell_type": "code",
   "execution_count": 66,
   "id": "bd5263c4",
   "metadata": {
    "ExecuteTime": {
     "end_time": "2022-10-27T12:19:36.133412Z",
     "start_time": "2022-10-27T12:19:36.128372Z"
    }
   },
   "outputs": [
    {
     "data": {
      "text/plain": [
       "17"
      ]
     },
     "execution_count": 66,
     "metadata": {},
     "output_type": "execute_result"
    }
   ],
   "source": [
    "a = \"life is too short\"\n",
    "\n",
    "len(a)\n",
    "#함수 코드블럭 + shift-tab\n"
   ]
  },
  {
   "cell_type": "markdown",
   "id": "78a82c38",
   "metadata": {},
   "source": [
    "### 문자열 인덱싱"
   ]
  },
  {
   "cell_type": "code",
   "execution_count": 76,
   "id": "6ebf5c55",
   "metadata": {
    "ExecuteTime": {
     "end_time": "2022-10-27T12:22:22.050442Z",
     "start_time": "2022-10-27T12:22:22.042437Z"
    }
   },
   "outputs": [
    {
     "name": "stdout",
     "output_type": "stream",
     "text": [
      "l\n",
      "e\n",
      "i\n",
      "t\n",
      "r\n",
      "t\n",
      "e\n",
      "i\n"
     ]
    }
   ],
   "source": [
    "print(a[0])\n",
    "print(a[3])\n",
    "print(a[5])\n",
    "print(a[-1])\n",
    "print(a[-2])\n",
    "print(a[16])\n",
    "\n",
    "b = \"life\"\n",
    "print(b[-1])\n",
    "print(b[1])\n"
   ]
  },
  {
   "cell_type": "markdown",
   "id": "df0cd6d9",
   "metadata": {},
   "source": [
    "### 문자열 슬라이싱\n"
   ]
  },
  {
   "cell_type": "code",
   "execution_count": 80,
   "id": "7bf60136",
   "metadata": {
    "ExecuteTime": {
     "end_time": "2022-10-27T12:26:18.153743Z",
     "start_time": "2022-10-27T12:26:18.148865Z"
    }
   },
   "outputs": [
    {
     "data": {
      "text/plain": [
       "'life'"
      ]
     },
     "execution_count": 80,
     "metadata": {},
     "output_type": "execute_result"
    }
   ],
   "source": [
    "#0이사 4미만\n",
    "a[0:4]"
   ]
  },
  {
   "cell_type": "code",
   "execution_count": 81,
   "id": "d0633601",
   "metadata": {
    "ExecuteTime": {
     "end_time": "2022-10-27T12:26:29.443665Z",
     "start_time": "2022-10-27T12:26:29.438766Z"
    }
   },
   "outputs": [
    {
     "data": {
      "text/plain": [
       "'is'"
      ]
     },
     "execution_count": 81,
     "metadata": {},
     "output_type": "execute_result"
    }
   ],
   "source": [
    "a[5:7]"
   ]
  },
  {
   "cell_type": "code",
   "execution_count": 82,
   "id": "7f3d0bce",
   "metadata": {
    "ExecuteTime": {
     "end_time": "2022-10-27T12:26:37.661804Z",
     "start_time": "2022-10-27T12:26:37.655759Z"
    }
   },
   "outputs": [
    {
     "data": {
      "text/plain": [
       "'is too short'"
      ]
     },
     "execution_count": 82,
     "metadata": {},
     "output_type": "execute_result"
    }
   ],
   "source": [
    "a[5:17]"
   ]
  },
  {
   "cell_type": "code",
   "execution_count": 83,
   "id": "b16f4d4a",
   "metadata": {
    "ExecuteTime": {
     "end_time": "2022-10-27T12:26:41.209653Z",
     "start_time": "2022-10-27T12:26:41.205063Z"
    }
   },
   "outputs": [
    {
     "data": {
      "text/plain": [
       "'is too short'"
      ]
     },
     "execution_count": 83,
     "metadata": {},
     "output_type": "execute_result"
    }
   ],
   "source": [
    "a[5:]"
   ]
  },
  {
   "cell_type": "code",
   "execution_count": 84,
   "id": "47539514",
   "metadata": {
    "ExecuteTime": {
     "end_time": "2022-10-27T12:26:48.372692Z",
     "start_time": "2022-10-27T12:26:48.367283Z"
    }
   },
   "outputs": [
    {
     "data": {
      "text/plain": [
       "'life '"
      ]
     },
     "execution_count": 84,
     "metadata": {},
     "output_type": "execute_result"
    }
   ],
   "source": [
    "a[:5]"
   ]
  },
  {
   "cell_type": "code",
   "execution_count": 86,
   "id": "f2a25432",
   "metadata": {
    "ExecuteTime": {
     "end_time": "2022-10-27T12:26:54.354140Z",
     "start_time": "2022-10-27T12:26:54.349323Z"
    }
   },
   "outputs": [
    {
     "data": {
      "text/plain": [
       "'life is too short'"
      ]
     },
     "execution_count": 86,
     "metadata": {},
     "output_type": "execute_result"
    }
   ],
   "source": [
    "a[:]"
   ]
  },
  {
   "cell_type": "code",
   "execution_count": 87,
   "id": "21f55556",
   "metadata": {
    "ExecuteTime": {
     "end_time": "2022-10-27T12:26:59.531054Z",
     "start_time": "2022-10-27T12:26:59.525072Z"
    }
   },
   "outputs": [
    {
     "data": {
      "text/plain": [
       "'life is too shor'"
      ]
     },
     "execution_count": 87,
     "metadata": {},
     "output_type": "execute_result"
    }
   ],
   "source": [
    "a[:-1]"
   ]
  },
  {
   "cell_type": "code",
   "execution_count": 89,
   "id": "7b645996",
   "metadata": {
    "ExecuteTime": {
     "end_time": "2022-10-27T12:27:20.723882Z",
     "start_time": "2022-10-27T12:27:20.718619Z"
    }
   },
   "outputs": [
    {
     "data": {
      "text/plain": [
       "'t'"
      ]
     },
     "execution_count": 89,
     "metadata": {},
     "output_type": "execute_result"
    }
   ],
   "source": [
    "a[-1:]"
   ]
  },
  {
   "cell_type": "code",
   "execution_count": 92,
   "id": "ecde8757",
   "metadata": {
    "ExecuteTime": {
     "end_time": "2022-10-27T12:27:50.095217Z",
     "start_time": "2022-10-27T12:27:50.089732Z"
    }
   },
   "outputs": [
    {
     "data": {
      "text/plain": [
       "'shor'"
      ]
     },
     "execution_count": 92,
     "metadata": {},
     "output_type": "execute_result"
    }
   ],
   "source": [
    "a[-5:-1]"
   ]
  },
  {
   "cell_type": "code",
   "execution_count": 93,
   "id": "16dbc4a0",
   "metadata": {
    "ExecuteTime": {
     "end_time": "2022-10-27T12:27:55.941217Z",
     "start_time": "2022-10-27T12:27:55.936186Z"
    }
   },
   "outputs": [
    {
     "data": {
      "text/plain": [
       "'short'"
      ]
     },
     "execution_count": 93,
     "metadata": {},
     "output_type": "execute_result"
    }
   ],
   "source": [
    "a[-5:]"
   ]
  },
  {
   "cell_type": "code",
   "execution_count": 100,
   "id": "b4e75116",
   "metadata": {
    "ExecuteTime": {
     "end_time": "2022-10-27T12:30:55.460897Z",
     "start_time": "2022-10-27T12:30:55.451144Z"
    }
   },
   "outputs": [
    {
     "name": "stdout",
     "output_type": "stream",
     "text": [
      "2022 04 21 Sunny\n"
     ]
    }
   ],
   "source": [
    "data = \"20220421Sunny\"\n",
    "year = data[0:4]\n",
    "month = data[4:6]\n",
    "day = data[6:8]\n",
    "weather = data[8:]\n",
    "print(year, month, day, weather)"
   ]
  },
  {
   "cell_type": "markdown",
   "id": "e585aa91",
   "metadata": {},
   "source": [
    "### 문자열 포매팅"
   ]
  },
  {
   "cell_type": "code",
   "execution_count": 103,
   "id": "3683ab3a",
   "metadata": {
    "ExecuteTime": {
     "end_time": "2022-10-27T12:31:42.804889Z",
     "start_time": "2022-10-27T12:31:42.799872Z"
    }
   },
   "outputs": [
    {
     "data": {
      "text/plain": [
       "'I eat 3 apples.'"
      ]
     },
     "execution_count": 103,
     "metadata": {},
     "output_type": "execute_result"
    }
   ],
   "source": [
    "#대입\n",
    "\"I eat %d apples.\" % 3"
   ]
  },
  {
   "cell_type": "code",
   "execution_count": 104,
   "id": "e6eff963",
   "metadata": {
    "ExecuteTime": {
     "end_time": "2022-10-27T12:32:08.019805Z",
     "start_time": "2022-10-27T12:32:08.014808Z"
    }
   },
   "outputs": [
    {
     "data": {
      "text/plain": [
       "'I eat three apples.'"
      ]
     },
     "execution_count": 104,
     "metadata": {},
     "output_type": "execute_result"
    }
   ],
   "source": [
    "\"I eat %s apples.\" % \"three\""
   ]
  },
  {
   "cell_type": "code",
   "execution_count": 106,
   "id": "cbd8538e",
   "metadata": {
    "ExecuteTime": {
     "end_time": "2022-10-27T12:32:33.185035Z",
     "start_time": "2022-10-27T12:32:33.181020Z"
    }
   },
   "outputs": [
    {
     "name": "stdout",
     "output_type": "stream",
     "text": [
      "I eat three apples\n"
     ]
    }
   ],
   "source": [
    "print(\"I eat %s apples\" % \"three\")"
   ]
  },
  {
   "cell_type": "code",
   "execution_count": 107,
   "id": "3240ce29",
   "metadata": {
    "ExecuteTime": {
     "end_time": "2022-10-27T12:32:51.707990Z",
     "start_time": "2022-10-27T12:32:51.704376Z"
    }
   },
   "outputs": [
    {
     "name": "stdout",
     "output_type": "stream",
     "text": [
      "I eat 3 apples.\n"
     ]
    }
   ],
   "source": [
    "num = 3\n",
    "print(\"I eat %d apples.\" % num)"
   ]
  },
  {
   "cell_type": "code",
   "execution_count": 110,
   "id": "7717d776",
   "metadata": {
    "ExecuteTime": {
     "end_time": "2022-10-27T12:33:38.982435Z",
     "start_time": "2022-10-27T12:33:38.976380Z"
    }
   },
   "outputs": [
    {
     "name": "stdout",
     "output_type": "stream",
     "text": [
      "I ate 10 apples. so i was sick for three days\n"
     ]
    }
   ],
   "source": [
    "num = 10\n",
    "day = \"three\"\n",
    "print(\"I ate %d apples. so i was sick for %s days\" %(num, day))"
   ]
  },
  {
   "cell_type": "code",
   "execution_count": 116,
   "id": "68ddffad",
   "metadata": {
    "ExecuteTime": {
     "end_time": "2022-10-27T12:35:01.355979Z",
     "start_time": "2022-10-27T12:35:01.351068Z"
    }
   },
   "outputs": [
    {
     "name": "stdout",
     "output_type": "stream",
     "text": [
      "Error is 90%\n"
     ]
    }
   ],
   "source": [
    "accuracy_rate = 90\n",
    "print(\"Error is %d%%\" % accuracy_rate)"
   ]
  },
  {
   "cell_type": "code",
   "execution_count": 118,
   "id": "44aa2b92",
   "metadata": {
    "ExecuteTime": {
     "end_time": "2022-10-27T12:35:24.034159Z",
     "start_time": "2022-10-27T12:35:24.027721Z"
    }
   },
   "outputs": [
    {
     "data": {
      "text/plain": [
       "'        hi포매팅'"
      ]
     },
     "execution_count": 118,
     "metadata": {},
     "output_type": "execute_result"
    }
   ],
   "source": [
    "# 포매팅\n",
    "\"%10s포매팅\" % \"hi\""
   ]
  },
  {
   "cell_type": "code",
   "execution_count": 119,
   "id": "8fdcbf1f",
   "metadata": {
    "ExecuteTime": {
     "end_time": "2022-10-27T12:35:34.240540Z",
     "start_time": "2022-10-27T12:35:34.235496Z"
    }
   },
   "outputs": [
    {
     "data": {
      "text/plain": [
       "'hi        포매팅'"
      ]
     },
     "execution_count": 119,
     "metadata": {},
     "output_type": "execute_result"
    }
   ],
   "source": [
    "\"%-10s포매팅\" % \"hi\""
   ]
  },
  {
   "cell_type": "code",
   "execution_count": 120,
   "id": "4ad7af8c",
   "metadata": {
    "ExecuteTime": {
     "end_time": "2022-10-27T12:35:55.947401Z",
     "start_time": "2022-10-27T12:35:55.939895Z"
    }
   },
   "outputs": [
    {
     "data": {
      "text/plain": [
       "'  3.420000'"
      ]
     },
     "execution_count": 120,
     "metadata": {},
     "output_type": "execute_result"
    }
   ],
   "source": [
    "\"%10f\" % 3.42"
   ]
  },
  {
   "cell_type": "code",
   "execution_count": 121,
   "id": "80968344",
   "metadata": {
    "ExecuteTime": {
     "end_time": "2022-10-27T12:36:08.149750Z",
     "start_time": "2022-10-27T12:36:08.143749Z"
    }
   },
   "outputs": [
    {
     "data": {
      "text/plain": [
       "'3.420000  '"
      ]
     },
     "execution_count": 121,
     "metadata": {},
     "output_type": "execute_result"
    }
   ],
   "source": [
    "\"%-10f\" % 3.42"
   ]
  },
  {
   "cell_type": "code",
   "execution_count": 124,
   "id": "b249ae26",
   "metadata": {
    "ExecuteTime": {
     "end_time": "2022-10-27T12:36:39.138279Z",
     "start_time": "2022-10-27T12:36:39.133587Z"
    }
   },
   "outputs": [
    {
     "data": {
      "text/plain": [
       "'3.4200'"
      ]
     },
     "execution_count": 124,
     "metadata": {},
     "output_type": "execute_result"
    }
   ],
   "source": [
    "\"%.4f\" % 3.42"
   ]
  },
  {
   "cell_type": "code",
   "execution_count": 125,
   "id": "3d6bbd4f",
   "metadata": {
    "ExecuteTime": {
     "end_time": "2022-10-27T12:37:06.626258Z",
     "start_time": "2022-10-27T12:37:06.621379Z"
    }
   },
   "outputs": [
    {
     "data": {
      "text/plain": [
       "'I eat 3 apples'"
      ]
     },
     "execution_count": 125,
     "metadata": {},
     "output_type": "execute_result"
    }
   ],
   "source": [
    "\"I eat {0} apples\".format(3)"
   ]
  },
  {
   "cell_type": "code",
   "execution_count": 126,
   "id": "bd6b978e",
   "metadata": {
    "ExecuteTime": {
     "end_time": "2022-10-27T12:37:20.362816Z",
     "start_time": "2022-10-27T12:37:20.357911Z"
    }
   },
   "outputs": [
    {
     "data": {
      "text/plain": [
       "'I eat three apples'"
      ]
     },
     "execution_count": 126,
     "metadata": {},
     "output_type": "execute_result"
    }
   ],
   "source": [
    "\"I eat {0} apples\".format(\"three\")\n"
   ]
  },
  {
   "cell_type": "code",
   "execution_count": 127,
   "id": "98a06c4c",
   "metadata": {
    "ExecuteTime": {
     "end_time": "2022-10-27T12:37:38.952722Z",
     "start_time": "2022-10-27T12:37:38.947378Z"
    }
   },
   "outputs": [
    {
     "data": {
      "text/plain": [
       "'I eat 3 apples'"
      ]
     },
     "execution_count": 127,
     "metadata": {},
     "output_type": "execute_result"
    }
   ],
   "source": [
    "num = 3\n",
    "\"I eat {} apples\".format(num)"
   ]
  },
  {
   "cell_type": "code",
   "execution_count": 128,
   "id": "1728206b",
   "metadata": {
    "ExecuteTime": {
     "end_time": "2022-10-27T12:38:00.884384Z",
     "start_time": "2022-10-27T12:38:00.878636Z"
    }
   },
   "outputs": [
    {
     "data": {
      "text/plain": [
       "'I eat 3 apples and 4 pears'"
      ]
     },
     "execution_count": 128,
     "metadata": {},
     "output_type": "execute_result"
    }
   ],
   "source": [
    "num = 3\n",
    "num2 = 4\n",
    "\"I eat {} apples and {} pears\".format(num, num2)"
   ]
  },
  {
   "cell_type": "code",
   "execution_count": 131,
   "id": "636d5893",
   "metadata": {
    "ExecuteTime": {
     "end_time": "2022-10-27T12:38:54.003561Z",
     "start_time": "2022-10-27T12:38:53.998066Z"
    }
   },
   "outputs": [
    {
     "data": {
      "text/plain": [
       "'I eat 2 apples and 2 pears'"
      ]
     },
     "execution_count": 131,
     "metadata": {},
     "output_type": "execute_result"
    }
   ],
   "source": [
    "# 중괄호 안의 변수명을 .format의 변수병과 일치시킴\n",
    "# 달라도 상관은 없지만 같아야 인식하기 쉬움\n",
    "\"I eat {num2} apples and {num2} pears\".format(num = 3, num2 = 2)"
   ]
  },
  {
   "cell_type": "code",
   "execution_count": 132,
   "id": "87c5ede4",
   "metadata": {
    "ExecuteTime": {
     "end_time": "2022-10-27T12:39:45.204889Z",
     "start_time": "2022-10-27T12:39:45.201977Z"
    }
   },
   "outputs": [],
   "source": [
    "a = \"apple\""
   ]
  },
  {
   "cell_type": "code",
   "execution_count": 134,
   "id": "f044e1f7",
   "metadata": {
    "ExecuteTime": {
     "end_time": "2022-10-27T12:40:07.416962Z",
     "start_time": "2022-10-27T12:40:07.409483Z"
    }
   },
   "outputs": [
    {
     "data": {
      "text/plain": [
       "2"
      ]
     },
     "execution_count": 134,
     "metadata": {},
     "output_type": "execute_result"
    }
   ],
   "source": [
    "# 문자열에서 해당하는 값 개수\n",
    "a.count(\"p\")"
   ]
  },
  {
   "cell_type": "code",
   "execution_count": 139,
   "id": "5a319721",
   "metadata": {
    "ExecuteTime": {
     "end_time": "2022-10-27T12:40:57.677245Z",
     "start_time": "2022-10-27T12:40:57.671882Z"
    }
   },
   "outputs": [
    {
     "data": {
      "text/plain": [
       "0"
      ]
     },
     "execution_count": 139,
     "metadata": {},
     "output_type": "execute_result"
    }
   ],
   "source": [
    "# 문자열 위치 찾기\n",
    "a.find(\"a\")\n"
   ]
  },
  {
   "cell_type": "code",
   "execution_count": 138,
   "id": "91da9985",
   "metadata": {
    "ExecuteTime": {
     "end_time": "2022-10-27T12:40:56.405634Z",
     "start_time": "2022-10-27T12:40:56.400767Z"
    }
   },
   "outputs": [
    {
     "data": {
      "text/plain": [
       "0"
      ]
     },
     "execution_count": 138,
     "metadata": {},
     "output_type": "execute_result"
    }
   ],
   "source": [
    "a.index(\"a\")"
   ]
  },
  {
   "cell_type": "code",
   "execution_count": 141,
   "id": "067031c9",
   "metadata": {
    "ExecuteTime": {
     "end_time": "2022-10-27T12:41:31.785132Z",
     "start_time": "2022-10-27T12:41:31.755530Z"
    }
   },
   "outputs": [
    {
     "name": "stdout",
     "output_type": "stream",
     "text": [
      "-1\n"
     ]
    },
    {
     "ename": "ValueError",
     "evalue": "substring not found",
     "output_type": "error",
     "traceback": [
      "\u001b[0;31m---------------------------------------------------------------------------\u001b[0m",
      "\u001b[0;31mValueError\u001b[0m                                Traceback (most recent call last)",
      "Input \u001b[0;32mIn [141]\u001b[0m, in \u001b[0;36m<cell line: 3>\u001b[0;34m()\u001b[0m\n\u001b[1;32m      1\u001b[0m \u001b[38;5;66;03m# 차이\u001b[39;00m\n\u001b[1;32m      2\u001b[0m \u001b[38;5;28mprint\u001b[39m(a\u001b[38;5;241m.\u001b[39mfind(\u001b[38;5;124m\"\u001b[39m\u001b[38;5;124mq\u001b[39m\u001b[38;5;124m\"\u001b[39m))\n\u001b[0;32m----> 3\u001b[0m \u001b[38;5;28mprint\u001b[39m(\u001b[43ma\u001b[49m\u001b[38;5;241;43m.\u001b[39;49m\u001b[43mindex\u001b[49m\u001b[43m(\u001b[49m\u001b[38;5;124;43m\"\u001b[39;49m\u001b[38;5;124;43mq\u001b[39;49m\u001b[38;5;124;43m\"\u001b[39;49m\u001b[43m)\u001b[49m)\n",
      "\u001b[0;31mValueError\u001b[0m: substring not found"
     ]
    }
   ],
   "source": [
    "# 차이\n",
    "print(a.find(\"q\"))\n",
    "print(a.index(\"q\"))"
   ]
  },
  {
   "cell_type": "code",
   "execution_count": 145,
   "id": "c8b515a8",
   "metadata": {
    "ExecuteTime": {
     "end_time": "2022-10-27T12:42:51.243296Z",
     "start_time": "2022-10-27T12:42:51.236338Z"
    }
   },
   "outputs": [
    {
     "name": "stdout",
     "output_type": "stream",
     "text": [
      "a.b.c.d\n",
      "a b c d\n",
      "HI\n",
      "hi\n"
     ]
    }
   ],
   "source": [
    "# 문자열 수정\n",
    "\n",
    "print(\".\".join(\"abcd\"))\n",
    "print(\" \".join(\"abcd\"))\n",
    "print(\"hi\".upper())\n",
    "print(\"HI\".lower())\n"
   ]
  },
  {
   "cell_type": "code",
   "execution_count": 151,
   "id": "39133997",
   "metadata": {
    "ExecuteTime": {
     "end_time": "2022-10-27T12:44:51.282744Z",
     "start_time": "2022-10-27T12:44:51.275410Z"
    }
   },
   "outputs": [
    {
     "name": "stdout",
     "output_type": "stream",
     "text": [
      "\"  hi  \"\n",
      "\" hi  \"\n",
      "\"  hi \"\n",
      "\" hi \"\n"
     ]
    }
   ],
   "source": [
    "a = \" hi \"\n",
    "print(\"\\\"\", a, \"\\\"\")\n",
    "print(\"\\\"\", a.lstrip(\" \"), \"\\\"\")\n",
    "print(\"\\\"\", a.rstrip(\" \"), \"\\\"\")\n",
    "print(\"\\\"\", a.strip(\" \"), \"\\\"\")"
   ]
  },
  {
   "cell_type": "code",
   "execution_count": 165,
   "id": "c1490c54",
   "metadata": {
    "ExecuteTime": {
     "end_time": "2022-10-27T12:47:41.648663Z",
     "start_time": "2022-10-27T12:47:41.642169Z"
    }
   },
   "outputs": [
    {
     "name": "stdout",
     "output_type": "stream",
     "text": [
      "a is apple. b is banana\n",
      "a is apple. c is banana\n",
      "a is apple. b is banana\n"
     ]
    }
   ],
   "source": [
    "a = \"a is apple. c is banana\"\n",
    "print(a.replace(\"c\", \"b\"))\n",
    "print(a) #재할당해줘야함\n",
    "\n",
    "a = a.replace(\"c is\", \"b is\")\n",
    "print(a)\n",
    "\n"
   ]
  },
  {
   "cell_type": "code",
   "execution_count": 170,
   "id": "225b507e",
   "metadata": {
    "ExecuteTime": {
     "end_time": "2022-10-27T12:49:54.329324Z",
     "start_time": "2022-10-27T12:49:54.324195Z"
    }
   },
   "outputs": [
    {
     "name": "stdout",
     "output_type": "stream",
     "text": [
      "a is apple. b is banana\n",
      "['a is apple', ' b is banana']\n"
     ]
    }
   ],
   "source": [
    "#문자열 스플릿\n",
    "#리스트로 반환함.\n",
    "print(a)\n",
    "print(a.split('.'))\n",
    "\n"
   ]
  },
  {
   "cell_type": "markdown",
   "id": "de7d8351",
   "metadata": {},
   "source": [
    "## 리스트\n",
    "## 튜플\n",
    "## 딕셔너리\n",
    "## 집합\n",
    "## 불\n",
    "## 변수"
   ]
  }
 ],
 "metadata": {
  "kernelspec": {
   "display_name": "Python 3 (ipykernel)",
   "language": "python",
   "name": "python3"
  },
  "language_info": {
   "codemirror_mode": {
    "name": "ipython",
    "version": 3
   },
   "file_extension": ".py",
   "mimetype": "text/x-python",
   "name": "python",
   "nbconvert_exporter": "python",
   "pygments_lexer": "ipython3",
   "version": "3.9.12"
  },
  "toc": {
   "base_numbering": 1,
   "nav_menu": {},
   "number_sections": true,
   "sideBar": true,
   "skip_h1_title": false,
   "title_cell": "Table of Contents",
   "title_sidebar": "Contents",
   "toc_cell": false,
   "toc_position": {},
   "toc_section_display": true,
   "toc_window_display": true
  }
 },
 "nbformat": 4,
 "nbformat_minor": 5
}
