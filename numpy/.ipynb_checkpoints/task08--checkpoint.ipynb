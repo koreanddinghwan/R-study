{
 "cells": [
  {
   "cell_type": "markdown",
   "id": "93dad3d5",
   "metadata": {},
   "source": [
    "제출 파일명은 task08-학번.ipynb (예시:task08-2000000000.ipynb)로 제출해주세요.\n",
    "- 메뉴에서 File > rename 으로 파일명을 변경할 수 있어요.\n",
    "- 워킹 디렉토리는 보통 C드라이브 Users(사용자) 폴더 내에 본인 계정명으로 되어 있는 폴더에요.\n",
    "- 작성한 노트북파일을 찾아 제출하면 됩니다.\n",
    "\n",
    "\n",
    "*주의사항*\n",
    "\n",
    "- 제공된 스크립트에 답 작성 시, 코드 진행에 대한 설명 등을 주석으로 남기도록 합니다.\n",
    "\n",
    "- 파일명 오류 시 감점 요인이 될 수 있습니다.\n",
    "\n",
    "- 수업 시간에 배우지 않은 내용이 있다면 같은 결과가 출력되더라도 감점됩니다.\n",
    "\n",
    "- 과제의 문제 해결 시 복습을 통해서 충분히 풀 수 있는 문제들이기 때문에 타인과 상의하거나  의논하거나 정답을 공유하는 일체의 행동을 하지 않기 바랍니다. "
   ]
  },
  {
   "cell_type": "markdown",
   "id": "2a1a78a4",
   "metadata": {},
   "source": [
    "### 문제.  다음 셀에 우리가 배운 데이터시각화 라이브러리, 데이터 분석 라이브러리, 수학 연산 라이브러리를 약어별칭(alias)과 함께 불러오세요.\n"
   ]
  },
  {
   "cell_type": "code",
   "execution_count": 1,
   "id": "8c1df960",
   "metadata": {
    "ExecuteTime": {
     "end_time": "2022-11-30T06:23:42.774707Z",
     "start_time": "2022-11-30T06:23:40.560010Z"
    }
   },
   "outputs": [],
   "source": [
    "import matplotlib.pyplot as plt\n",
    "import numpy as np\n",
    "import pandas as pd"
   ]
  },
  {
   "cell_type": "markdown",
   "id": "5ef9d80b",
   "metadata": {},
   "source": [
    "### 문제.  다음 셀에 지난주 과제용 데이터 titanic.csv를 tt이라는 데이터프레임 형태로 불러오세요.\n"
   ]
  },
  {
   "cell_type": "code",
   "execution_count": 68,
   "id": "9b5d358b",
   "metadata": {
    "ExecuteTime": {
     "end_time": "2022-11-30T08:29:11.825875Z",
     "start_time": "2022-11-30T08:29:11.804420Z"
    }
   },
   "outputs": [],
   "source": [
    "tt = pd.read_csv('titanic.csv')\n",
    "\n",
    "#tt"
   ]
  },
  {
   "cell_type": "markdown",
   "id": "3ac33caf",
   "metadata": {},
   "source": [
    "### 문제.  다음 셀에 나이(Age)와 생존여부(Survived)의 관계를 그룹 누적 그래프를 사용하여 나타내보세요. "
   ]
  },
  {
   "cell_type": "code",
   "execution_count": 73,
   "id": "fba197a7",
   "metadata": {
    "ExecuteTime": {
     "end_time": "2022-11-30T08:34:14.595279Z",
     "start_time": "2022-11-30T08:34:14.455972Z"
    }
   },
   "outputs": [
    {
     "name": "stderr",
     "output_type": "stream",
     "text": [
      "/var/folders/88/bbspd9r57_x0bf9nx3dcf_1r0000gn/T/ipykernel_32013/37001129.py:7: VisibleDeprecationWarning: Creating an ndarray from ragged nested sequences (which is a list-or-tuple of lists-or-tuples-or ndarrays with different lengths or shapes) is deprecated. If you meant to do this, you must specify 'dtype=object' when creating the ndarray.\n",
      "  nparr_is_survived = np.array([df_survived['Age'], df_dead['Age']])\n"
     ]
    },
    {
     "data": {
      "image/png": "[encoded data removed]",
      "text/plain": [
       "<Figure size 720x432 with 1 Axes>"
      ]
     },
     "metadata": {
      "needs_background": "light"
     },
     "output_type": "display_data"
    }
   ],
   "source": [
    "#생존한 인원의 나이를 추출한다.\n",
    "df_survived = tt.loc[tt.Survived == 1, ['Survived', 'Age']]\n",
    "#생존하지 못한 인원의 나이를 추출한다.\n",
    "df_dead = tt.loc[tt.Survived == 0, ['Survived', 'Age']]\n",
    "\n",
    "#np array에 담는다.\n",
    "nparr_is_survived = np.array([df_survived['Age'], df_dead['Age']])\n",
    "\n",
    "plt.figure(figsize = (10, 6))\n",
    "#누적 히스토그램을 만들기 위해 위 nparray에 stacked=True로 누적옵션을 준다.\n",
    "plt.hist(nparr_is_survived,label=['Survived', 'Dead'], stacked=True)\n",
    "\n",
    "#x축, y축 이름을 정한다.\n",
    "plt.xlabel('Age') \n",
    "plt.ylabel('Frequency')\n",
    "#그래프 이름\n",
    "plt.title('Titanic Survivor Age Group Stacked Histogram')\n",
    "plt.grid() #격자 표시\n",
    "plt.legend() #범례 표시\n",
    "plt.show() #그래표 그리기\n"
   ]
  },
  {
   "cell_type": "code",
   "execution_count": null,
   "id": "d5dfbfd7",
   "metadata": {},
   "outputs": [],
   "source": [
    "\n"
   ]
  },
  {
   "cell_type": "markdown",
   "id": "f9d7b860",
   "metadata": {},
   "source": [
    "### 문제.  다음 셀에 탑승등급(Pclass) 중 1등급과 2등급 탑승객의 탑승요금(Fare)의 극단치 확인을 위한 그래프를 나타내보세요. "
   ]
  },
  {
   "cell_type": "code",
   "execution_count": 74,
   "id": "353e2f81",
   "metadata": {
    "ExecuteTime": {
     "end_time": "2022-11-30T08:34:43.022115Z",
     "start_time": "2022-11-30T08:34:42.919547Z"
    }
   },
   "outputs": [
    {
     "data": {
      "image/png": "[encoded data removed]",
      "text/plain": [
       "<Figure size 1080x360 with 1 Axes>"
      ]
     },
     "metadata": {
      "needs_background": "light"
     },
     "output_type": "display_data"
    }
   ],
   "source": [
    "#1등급 승객의 요금 데이터 추출\n",
    "df_pclass_first = tt.loc[tt.Pclass == 1, ['Pclass', 'Fare']]\n",
    "#2등급 승객의 요금 데이터 추출\n",
    "df_pclass_second = tt.loc[tt.Pclass == 2, ['Pclass', 'Fare']]\n",
    "\n",
    "#데이터 프레임을 np array로 변환한다.\n",
    "df_pclass_first = np.array(df_pclass_first['Fare'])\n",
    "df_pclass_second = np.array(df_pclass_second['Fare'])\n",
    "\n",
    "plt.figure(figsize = (15, 5))\n",
    "#가로 박스플랏을 그리기 위해 vert=False 옵션을 준다.\n",
    "plt.boxplot([df_pclass_first, df_pclass_second], labels=['Pclass1', 'Pclass2'], vert=False)\n",
    "\n",
    "#가로축은 Fare, 세로축은 Pclass가 된다.\n",
    "plt.xlabel('Fare')\n",
    "plt.ylabel('Pclass')\n",
    "plt.title(\"Titanic Pclass 1 & 2 Fare Box Plot\") #그래프 이름\n",
    "plt.show() #그래프 그리기\n"
   ]
  },
  {
   "cell_type": "code",
   "execution_count": null,
   "id": "9719746f",
   "metadata": {},
   "outputs": [],
   "source": []
  }
 ],
 "metadata": {
  "kernelspec": {
   "display_name": "Python 3 (ipykernel)",
   "language": "python",
   "name": "python3"
  },
  "language_info": {
   "codemirror_mode": {
    "name": "ipython",
    "version": 3
   },
   "file_extension": ".py",
   "mimetype": "text/x-python",
   "name": "python",
   "nbconvert_exporter": "python",
   "pygments_lexer": "ipython3",
   "version": "3.9.12"
  },
  "toc": {
   "base_numbering": 1,
   "nav_menu": {},
   "number_sections": true,
   "sideBar": true,
   "skip_h1_title": false,
   "title_cell": "Table of Contents",
   "title_sidebar": "Contents",
   "toc_cell": false,
   "toc_position": {},
   "toc_section_display": true,
   "toc_window_display": false
  }
 },
 "nbformat": 4,
 "nbformat_minor": 5
}
