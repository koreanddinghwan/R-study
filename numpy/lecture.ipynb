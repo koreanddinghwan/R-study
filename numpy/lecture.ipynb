{
 "cells": [
  {
   "cell_type": "code",
   "execution_count": null,
   "id": "b03c0936",
   "metadata": {},
   "outputs": [],
   "source": [
    "1 + 2"
   ]
  },
  {
   "cell_type": "markdown",
   "id": "8c126f88",
   "metadata": {},
   "source": [
    "# 1\n",
    "## 2\n",
    "### 3\n",
    "#### 4\n",
    "\n",
    "우측상단의 code를 markdown으로 변경.\n",
    "        "
   ]
  },
  {
   "cell_type": "markdown",
   "id": "9e995870",
   "metadata": {},
   "source": [
    "# edit mode 실행\n",
    "\n",
    "1.shift enter\n",
    "2.ctrl enter\n",
    "3.alt enter"
   ]
  },
  {
   "cell_type": "markdown",
   "id": "bb1008a4",
   "metadata": {},
   "source": [
    "단축키확인 -> command)h"
   ]
  },
  {
   "cell_type": "code",
   "execution_count": null,
   "id": "894bc37c",
   "metadata": {},
   "outputs": [],
   "source": [
    "edit)shift+tab -> tooltip"
   ]
  },
  {
   "cell_type": "code",
   "execution_count": null,
   "id": "dad91d49",
   "metadata": {},
   "outputs": [],
   "source": [
    "!pip install jupyterthemes"
   ]
  },
  {
   "cell_type": "markdown",
   "id": "94a3bf58",
   "metadata": {},
   "source": [
    "```term\n",
    "(base) randpython/8weeks [ jt -l             master * ] 8:32 PM\n",
    "Available Themes:\n",
    "   chesterish\n",
    "   grade3\n",
    "   gruvboxd\n",
    "   gruvboxl\n",
    "   monokai\n",
    "   oceans16\n",
    "   onedork\n",
    "   solarizedd\n",
    "   solarizedl\n",
    "(base) randpython/8weeks [ jt -t             master * ] 8:32 PM\n",
    "usage: jt [-h] [-l] [-t THEME] [-f MONOFONT] [-fs MONOSIZE]\n",
    "          [-nf NBFONT] [-nfs NBFONTSIZE] [-tf TCFONT]\n",
    "          [-tfs TCFONTSIZE] [-dfs DFFONTSIZE]\n",
    "          [-ofs OUTFONTSIZE] [-mathfs MATHFONTSIZE]\n",
    "          [-m MARGINS] [-cursw CURSORWIDTH]\n",
    "          [-cursc CURSORCOLOR] [-cellw CELLWIDTH]\n",
    "          [-lineh LINEHEIGHT] [-altp] [-altmd] [-altout] [-P]\n",
    "          [-T] [-N] [-kl] [-vim] [-r] [-dfonts]\n",
    "jt: error: argument -t/--theme: expected one argument\n",
    "(base) randpython/8weeks [ jt -t onedork -T\n",
    "```\n",
    "\n",
    "-T를 넣어줘야 툴바가 보임."
   ]
  },
  {
   "cell_type": "markdown",
   "id": "02f61704",
   "metadata": {},
   "source": [
    "!를 붙이고 pip install을 하는 이유는 pip install을 터미널에서 하는 것처럼 해달라는 의미  \n",
    "[shell command로 실행](https://jakevdp.github.io/blog/2017/12/05/installing-python-packages-from-jupyter/)\n",
    "\n"
   ]
  },
  {
   "cell_type": "markdown",
   "id": "9fda597b",
   "metadata": {},
   "source": [
    "# data type\n",
    "\n",
    "## 숫자\n",
    "\n",
    "1. 정수형, 실수형\n",
    "2. 산술연산자\n",
    "    - 사칙연산\n",
    "    - 제곱\n",
    "    - 나머지, 몫\n",
    "3. 할당연산자"
   ]
  },
  {
   "cell_type": "code",
   "execution_count": null,
   "id": "e7f29144",
   "metadata": {
    "ExecuteTime": {
     "end_time": "2022-10-27T11:54:33.585163Z",
     "start_time": "2022-10-27T11:54:33.576132Z"
    }
   },
   "outputs": [],
   "source": [
    "a = 1\n",
    "print(a)\n",
    "\n",
    "b = 2\n",
    "b"
   ]
  },
  {
   "cell_type": "code",
   "execution_count": null,
   "id": "ceb6dd2d",
   "metadata": {
    "ExecuteTime": {
     "end_time": "2022-10-27T11:54:34.376383Z",
     "start_time": "2022-10-27T11:54:34.371375Z"
    }
   },
   "outputs": [],
   "source": [
    "a + b"
   ]
  },
  {
   "cell_type": "code",
   "execution_count": null,
   "id": "64ab58ad",
   "metadata": {
    "ExecuteTime": {
     "end_time": "2022-10-27T11:54:34.567962Z",
     "start_time": "2022-10-27T11:54:34.563139Z"
    }
   },
   "outputs": [],
   "source": [
    "a - b"
   ]
  },
  {
   "cell_type": "code",
   "execution_count": null,
   "id": "10f6f4f8",
   "metadata": {
    "ExecuteTime": {
     "end_time": "2022-10-27T11:54:36.773206Z",
     "start_time": "2022-10-27T11:54:36.768572Z"
    }
   },
   "outputs": [],
   "source": [
    "a * b"
   ]
  },
  {
   "cell_type": "code",
   "execution_count": null,
   "id": "8c627a19",
   "metadata": {
    "ExecuteTime": {
     "end_time": "2022-10-27T11:54:37.008079Z",
     "start_time": "2022-10-27T11:54:37.002601Z"
    }
   },
   "outputs": [],
   "source": [
    "a / b"
   ]
  },
  {
   "cell_type": "code",
   "execution_count": null,
   "id": "5038ffc9",
   "metadata": {
    "ExecuteTime": {
     "end_time": "2022-10-27T11:54:38.167208Z",
     "start_time": "2022-10-27T11:54:38.162480Z"
    }
   },
   "outputs": [],
   "source": [
    "a % b"
   ]
  },
  {
   "cell_type": "code",
   "execution_count": null,
   "id": "b47145bb",
   "metadata": {
    "ExecuteTime": {
     "end_time": "2022-10-27T11:54:55.711748Z",
     "start_time": "2022-10-27T11:54:55.706370Z"
    }
   },
   "outputs": [],
   "source": [
    "a = 3\n",
    "b = 4\n",
    "a ** b"
   ]
  },
  {
   "cell_type": "markdown",
   "id": "aee20ec8",
   "metadata": {},
   "source": [
    "## 문자열\n",
    "\n",
    "2. 여러 줄 문자열\n",
    "3. 문자열 연산\n",
    "4. 문자열 인덱싱, 슬라이싱\n",
    "5. 문자열 포매팅\n",
    "6. \n"
   ]
  },
  {
   "cell_type": "markdown",
   "id": "3198f3f8",
   "metadata": {},
   "source": [
    "### 문자열 만들기 4가지"
   ]
  },
  {
   "cell_type": "code",
   "execution_count": null,
   "id": "3602adb4",
   "metadata": {
    "ExecuteTime": {
     "end_time": "2022-10-27T12:06:13.433143Z",
     "start_time": "2022-10-27T12:06:13.427135Z"
    }
   },
   "outputs": [],
   "source": [
    "\"hello\""
   ]
  },
  {
   "cell_type": "code",
   "execution_count": null,
   "id": "f92b00aa",
   "metadata": {
    "ExecuteTime": {
     "end_time": "2022-10-27T11:58:02.398922Z",
     "start_time": "2022-10-27T11:58:02.394272Z"
    }
   },
   "outputs": [],
   "source": [
    "'hello'"
   ]
  },
  {
   "cell_type": "code",
   "execution_count": null,
   "id": "226316e4",
   "metadata": {
    "ExecuteTime": {
     "end_time": "2022-10-27T11:58:06.285710Z",
     "start_time": "2022-10-27T11:58:06.279150Z"
    }
   },
   "outputs": [],
   "source": [
    "'''hello'''"
   ]
  },
  {
   "cell_type": "code",
   "execution_count": null,
   "id": "e1d9b3b3",
   "metadata": {
    "ExecuteTime": {
     "end_time": "2022-10-27T11:58:11.371681Z",
     "start_time": "2022-10-27T11:58:11.366106Z"
    }
   },
   "outputs": [],
   "source": [
    "\"\"\"hello\"\"\""
   ]
  },
  {
   "cell_type": "code",
   "execution_count": null,
   "id": "9ca64b81",
   "metadata": {
    "ExecuteTime": {
     "end_time": "2022-10-27T11:58:33.133139Z",
     "start_time": "2022-10-27T11:58:33.128502Z"
    }
   },
   "outputs": [],
   "source": [
    "\"\"\"'hi im kang'\"\"\""
   ]
  },
  {
   "cell_type": "code",
   "execution_count": null,
   "id": "55fabab2",
   "metadata": {
    "ExecuteTime": {
     "end_time": "2022-10-27T11:59:57.742735Z",
     "start_time": "2022-10-27T11:59:57.737820Z"
    }
   },
   "outputs": [],
   "source": [
    "'''\"i'm a student\", he says'''"
   ]
  },
  {
   "cell_type": "code",
   "execution_count": null,
   "id": "441bbf7d",
   "metadata": {
    "ExecuteTime": {
     "end_time": "2022-10-27T12:04:55.785630Z",
     "start_time": "2022-10-27T12:04:55.778722Z"
    }
   },
   "outputs": [],
   "source": [
    "print('''\"i'm a student\", he says''')"
   ]
  },
  {
   "cell_type": "markdown",
   "id": "a6da6e68",
   "metadata": {},
   "source": [
    "### 이스케이프 시퀀스"
   ]
  },
  {
   "cell_type": "code",
   "execution_count": null,
   "id": "9595ebd1",
   "metadata": {
    "ExecuteTime": {
     "end_time": "2022-10-27T12:02:02.447621Z",
     "start_time": "2022-10-27T12:02:02.444268Z"
    }
   },
   "outputs": [],
   "source": [
    "print(\"\"\"\\\"i\\'m a student\\\", he says\"\"\")"
   ]
  },
  {
   "cell_type": "code",
   "execution_count": null,
   "id": "bcb0ece4",
   "metadata": {
    "ExecuteTime": {
     "end_time": "2022-10-27T12:02:20.715410Z",
     "start_time": "2022-10-27T12:02:20.711374Z"
    }
   },
   "outputs": [],
   "source": [
    "print(\"\"\"\\\"i\\'m a student\\\".\\n he says\"\"\")"
   ]
  },
  {
   "cell_type": "code",
   "execution_count": null,
   "id": "99154516",
   "metadata": {
    "ExecuteTime": {
     "end_time": "2022-10-27T12:02:44.400802Z",
     "start_time": "2022-10-27T12:02:44.397333Z"
    }
   },
   "outputs": [],
   "source": [
    "print(\"\"\"\\\"i\\'m a student\\\".\\t he says\"\"\")"
   ]
  },
  {
   "cell_type": "code",
   "execution_count": null,
   "id": "f56e9909",
   "metadata": {
    "ExecuteTime": {
     "end_time": "2022-10-27T12:06:19.812159Z",
     "start_time": "2022-10-27T12:06:19.807993Z"
    }
   },
   "outputs": [],
   "source": [
    "print(\"\"\"\\\"i\\'m a student\\\".\\\\ he says\"\"\")"
   ]
  },
  {
   "cell_type": "markdown",
   "id": "88a6b4b3",
   "metadata": {},
   "source": [
    "### 문자열 연산"
   ]
  },
  {
   "cell_type": "code",
   "execution_count": null,
   "id": "bf94cc37",
   "metadata": {
    "ExecuteTime": {
     "end_time": "2022-10-27T12:03:40.815396Z",
     "start_time": "2022-10-27T12:03:40.810345Z"
    }
   },
   "outputs": [],
   "source": [
    "a = \"apple\"\n",
    "b = \"banana\"\n",
    "\n",
    "a + b"
   ]
  },
  {
   "cell_type": "code",
   "execution_count": null,
   "id": "bc7eb166",
   "metadata": {
    "ExecuteTime": {
     "end_time": "2022-10-27T12:04:35.417271Z",
     "start_time": "2022-10-27T12:04:35.410444Z"
    }
   },
   "outputs": [],
   "source": [
    "a = \"apple\"\n",
    "b = 3\n",
    "a * b\n",
    "\n",
    "print(\"=\" * 50)\n",
    "print(\"result\")\n",
    "print(\"=\" * 50)"
   ]
  },
  {
   "cell_type": "code",
   "execution_count": null,
   "id": "7913dac0",
   "metadata": {
    "ExecuteTime": {
     "end_time": "2022-10-27T12:04:43.218526Z",
     "start_time": "2022-10-27T12:04:43.213845Z"
    }
   },
   "outputs": [],
   "source": [
    "\"+\" * 50\n",
    "\"result\""
   ]
  },
  {
   "cell_type": "code",
   "execution_count": null,
   "id": "1e31a061",
   "metadata": {
    "ExecuteTime": {
     "end_time": "2022-10-27T12:19:36.133412Z",
     "start_time": "2022-10-27T12:19:36.128372Z"
    }
   },
   "outputs": [],
   "source": [
    "a = \"life is too short\"\n",
    "\n",
    "len(a)\n",
    "#함수 코드블럭 + shift-tab\n"
   ]
  },
  {
   "cell_type": "markdown",
   "id": "30ce0a61",
   "metadata": {},
   "source": [
    "### 문자열 인덱싱"
   ]
  },
  {
   "cell_type": "code",
   "execution_count": null,
   "id": "1823e991",
   "metadata": {
    "ExecuteTime": {
     "end_time": "2022-10-27T12:22:22.050442Z",
     "start_time": "2022-10-27T12:22:22.042437Z"
    }
   },
   "outputs": [],
   "source": [
    "print(a[0])\n",
    "print(a[3])\n",
    "print(a[5])\n",
    "print(a[-1])\n",
    "print(a[-2])\n",
    "print(a[16])\n",
    "\n",
    "b = \"life\"\n",
    "print(b[-1])\n",
    "print(b[1])\n"
   ]
  },
  {
   "cell_type": "markdown",
   "id": "38780353",
   "metadata": {},
   "source": [
    "### 문자열 슬라이싱\n"
   ]
  },
  {
   "cell_type": "code",
   "execution_count": null,
   "id": "349f9b35",
   "metadata": {
    "ExecuteTime": {
     "end_time": "2022-10-27T12:26:18.153743Z",
     "start_time": "2022-10-27T12:26:18.148865Z"
    }
   },
   "outputs": [],
   "source": [
    "#0이사 4미만\n",
    "a[0:4]"
   ]
  },
  {
   "cell_type": "code",
   "execution_count": null,
   "id": "082dd3ad",
   "metadata": {
    "ExecuteTime": {
     "end_time": "2022-10-27T12:26:29.443665Z",
     "start_time": "2022-10-27T12:26:29.438766Z"
    }
   },
   "outputs": [],
   "source": [
    "a[5:7]"
   ]
  },
  {
   "cell_type": "code",
   "execution_count": null,
   "id": "3d040fe0",
   "metadata": {
    "ExecuteTime": {
     "end_time": "2022-10-27T12:26:37.661804Z",
     "start_time": "2022-10-27T12:26:37.655759Z"
    }
   },
   "outputs": [],
   "source": [
    "a[5:17]"
   ]
  },
  {
   "cell_type": "code",
   "execution_count": null,
   "id": "7822e6f3",
   "metadata": {
    "ExecuteTime": {
     "end_time": "2022-10-27T12:26:41.209653Z",
     "start_time": "2022-10-27T12:26:41.205063Z"
    }
   },
   "outputs": [],
   "source": [
    "a[5:]"
   ]
  },
  {
   "cell_type": "code",
   "execution_count": null,
   "id": "0f50b9e4",
   "metadata": {
    "ExecuteTime": {
     "end_time": "2022-10-27T12:26:48.372692Z",
     "start_time": "2022-10-27T12:26:48.367283Z"
    }
   },
   "outputs": [],
   "source": [
    "a[:5]"
   ]
  },
  {
   "cell_type": "code",
   "execution_count": null,
   "id": "de1eb3c3",
   "metadata": {
    "ExecuteTime": {
     "end_time": "2022-10-27T12:26:54.354140Z",
     "start_time": "2022-10-27T12:26:54.349323Z"
    }
   },
   "outputs": [],
   "source": [
    "a[:]"
   ]
  },
  {
   "cell_type": "code",
   "execution_count": null,
   "id": "805f8aea",
   "metadata": {
    "ExecuteTime": {
     "end_time": "2022-10-27T12:26:59.531054Z",
     "start_time": "2022-10-27T12:26:59.525072Z"
    }
   },
   "outputs": [],
   "source": [
    "a[:-1]"
   ]
  },
  {
   "cell_type": "code",
   "execution_count": null,
   "id": "0446744a",
   "metadata": {
    "ExecuteTime": {
     "end_time": "2022-10-27T12:27:20.723882Z",
     "start_time": "2022-10-27T12:27:20.718619Z"
    }
   },
   "outputs": [],
   "source": [
    "a[-1:]"
   ]
  },
  {
   "cell_type": "code",
   "execution_count": null,
   "id": "c410b546",
   "metadata": {
    "ExecuteTime": {
     "end_time": "2022-10-27T12:27:50.095217Z",
     "start_time": "2022-10-27T12:27:50.089732Z"
    }
   },
   "outputs": [],
   "source": [
    "a[-5:-1]"
   ]
  },
  {
   "cell_type": "code",
   "execution_count": null,
   "id": "329b0562",
   "metadata": {
    "ExecuteTime": {
     "end_time": "2022-10-27T12:27:55.941217Z",
     "start_time": "2022-10-27T12:27:55.936186Z"
    }
   },
   "outputs": [],
   "source": [
    "a[-5:]"
   ]
  },
  {
   "cell_type": "code",
   "execution_count": null,
   "id": "b8f58365",
   "metadata": {
    "ExecuteTime": {
     "end_time": "2022-10-27T12:30:55.460897Z",
     "start_time": "2022-10-27T12:30:55.451144Z"
    }
   },
   "outputs": [],
   "source": [
    "data = \"20220421Sunny\"\n",
    "year = data[0:4]\n",
    "month = data[4:6]\n",
    "day = data[6:8]\n",
    "weather = data[8:]\n",
    "print(year, month, day, weather)"
   ]
  },
  {
   "cell_type": "markdown",
   "id": "27331bde",
   "metadata": {},
   "source": [
    "### 문자열 포매팅"
   ]
  },
  {
   "cell_type": "code",
   "execution_count": null,
   "id": "ec8dcb8d",
   "metadata": {
    "ExecuteTime": {
     "end_time": "2022-10-27T12:31:42.804889Z",
     "start_time": "2022-10-27T12:31:42.799872Z"
    }
   },
   "outputs": [],
   "source": [
    "#대입\n",
    "\"I eat %d apples.\" % 3"
   ]
  },
  {
   "cell_type": "code",
   "execution_count": null,
   "id": "a8af10e3",
   "metadata": {
    "ExecuteTime": {
     "end_time": "2022-10-27T12:32:08.019805Z",
     "start_time": "2022-10-27T12:32:08.014808Z"
    }
   },
   "outputs": [],
   "source": [
    "\"I eat %s apples.\" % \"three\""
   ]
  },
  {
   "cell_type": "code",
   "execution_count": null,
   "id": "1bc6effd",
   "metadata": {
    "ExecuteTime": {
     "end_time": "2022-10-27T12:32:33.185035Z",
     "start_time": "2022-10-27T12:32:33.181020Z"
    }
   },
   "outputs": [],
   "source": [
    "print(\"I eat %s apples\" % \"three\")"
   ]
  },
  {
   "cell_type": "code",
   "execution_count": null,
   "id": "f2c7bf94",
   "metadata": {
    "ExecuteTime": {
     "end_time": "2022-10-27T12:32:51.707990Z",
     "start_time": "2022-10-27T12:32:51.704376Z"
    }
   },
   "outputs": [],
   "source": [
    "num = 3\n",
    "print(\"I eat %d apples.\" % num)"
   ]
  },
  {
   "cell_type": "code",
   "execution_count": null,
   "id": "b6ca1d21",
   "metadata": {
    "ExecuteTime": {
     "end_time": "2022-10-27T12:33:38.982435Z",
     "start_time": "2022-10-27T12:33:38.976380Z"
    }
   },
   "outputs": [],
   "source": [
    "num = 10\n",
    "day = \"three\"\n",
    "print(\"I ate %d apples. so i was sick for %s days\" %(num, day))"
   ]
  },
  {
   "cell_type": "code",
   "execution_count": null,
   "id": "e8fe6476",
   "metadata": {
    "ExecuteTime": {
     "end_time": "2022-10-27T12:35:01.355979Z",
     "start_time": "2022-10-27T12:35:01.351068Z"
    }
   },
   "outputs": [],
   "source": [
    "accuracy_rate = 90\n",
    "print(\"Error is %d%%\" % accuracy_rate)"
   ]
  },
  {
   "cell_type": "code",
   "execution_count": null,
   "id": "9ba9d7ab",
   "metadata": {
    "ExecuteTime": {
     "end_time": "2022-10-27T12:35:24.034159Z",
     "start_time": "2022-10-27T12:35:24.027721Z"
    }
   },
   "outputs": [],
   "source": [
    "# 포매팅\n",
    "\"%10s포매팅\" % \"hi\""
   ]
  },
  {
   "cell_type": "code",
   "execution_count": null,
   "id": "4491913e",
   "metadata": {
    "ExecuteTime": {
     "end_time": "2022-10-27T12:35:34.240540Z",
     "start_time": "2022-10-27T12:35:34.235496Z"
    }
   },
   "outputs": [],
   "source": [
    "\"%-10s포매팅\" % \"hi\""
   ]
  },
  {
   "cell_type": "code",
   "execution_count": null,
   "id": "83c8eb37",
   "metadata": {
    "ExecuteTime": {
     "end_time": "2022-10-27T12:35:55.947401Z",
     "start_time": "2022-10-27T12:35:55.939895Z"
    }
   },
   "outputs": [],
   "source": [
    "\"%10f\" % 3.42"
   ]
  },
  {
   "cell_type": "code",
   "execution_count": null,
   "id": "ec35868a",
   "metadata": {
    "ExecuteTime": {
     "end_time": "2022-10-27T12:36:08.149750Z",
     "start_time": "2022-10-27T12:36:08.143749Z"
    }
   },
   "outputs": [],
   "source": [
    "\"%-10f\" % 3.42"
   ]
  },
  {
   "cell_type": "code",
   "execution_count": null,
   "id": "ab7261ac",
   "metadata": {
    "ExecuteTime": {
     "end_time": "2022-10-27T12:36:39.138279Z",
     "start_time": "2022-10-27T12:36:39.133587Z"
    }
   },
   "outputs": [],
   "source": [
    "\"%.4f\" % 3.42"
   ]
  },
  {
   "cell_type": "code",
   "execution_count": null,
   "id": "139a6cee",
   "metadata": {
    "ExecuteTime": {
     "end_time": "2022-10-27T12:37:06.626258Z",
     "start_time": "2022-10-27T12:37:06.621379Z"
    }
   },
   "outputs": [],
   "source": [
    "\"I eat {0} apples\".format(3)"
   ]
  },
  {
   "cell_type": "code",
   "execution_count": null,
   "id": "ad6f9dca",
   "metadata": {
    "ExecuteTime": {
     "end_time": "2022-10-27T12:37:20.362816Z",
     "start_time": "2022-10-27T12:37:20.357911Z"
    }
   },
   "outputs": [],
   "source": [
    "\"I eat {0} apples\".format(\"three\")\n"
   ]
  },
  {
   "cell_type": "code",
   "execution_count": null,
   "id": "fc4de22d",
   "metadata": {
    "ExecuteTime": {
     "end_time": "2022-10-27T12:37:38.952722Z",
     "start_time": "2022-10-27T12:37:38.947378Z"
    }
   },
   "outputs": [],
   "source": [
    "num = 3\n",
    "\"I eat {} apples\".format(num)"
   ]
  },
  {
   "cell_type": "code",
   "execution_count": null,
   "id": "a75fd320",
   "metadata": {
    "ExecuteTime": {
     "end_time": "2022-10-27T12:38:00.884384Z",
     "start_time": "2022-10-27T12:38:00.878636Z"
    }
   },
   "outputs": [],
   "source": [
    "num = 3\n",
    "num2 = 4\n",
    "\"I eat {} apples and {} pears\".format(num, num2)"
   ]
  },
  {
   "cell_type": "code",
   "execution_count": null,
   "id": "a531be36",
   "metadata": {
    "ExecuteTime": {
     "end_time": "2022-10-27T12:38:54.003561Z",
     "start_time": "2022-10-27T12:38:53.998066Z"
    }
   },
   "outputs": [],
   "source": [
    "# 중괄호 안의 변수명을 .format의 변수병과 일치시킴\n",
    "# 달라도 상관은 없지만 같아야 인식하기 쉬움\n",
    "\"I eat {num2} apples and {num2} pears\".format(num = 3, num2 = 2)"
   ]
  },
  {
   "cell_type": "code",
   "execution_count": null,
   "id": "d896a3ab",
   "metadata": {
    "ExecuteTime": {
     "end_time": "2022-10-27T12:39:45.204889Z",
     "start_time": "2022-10-27T12:39:45.201977Z"
    }
   },
   "outputs": [],
   "source": [
    "a = \"apple\""
   ]
  },
  {
   "cell_type": "code",
   "execution_count": null,
   "id": "4b6bcc45",
   "metadata": {
    "ExecuteTime": {
     "end_time": "2022-10-27T12:40:07.416962Z",
     "start_time": "2022-10-27T12:40:07.409483Z"
    }
   },
   "outputs": [],
   "source": [
    "# 문자열에서 해당하는 값 개수\n",
    "a.count(\"p\")"
   ]
  },
  {
   "cell_type": "code",
   "execution_count": null,
   "id": "51c4af1c",
   "metadata": {
    "ExecuteTime": {
     "end_time": "2022-10-27T12:40:57.677245Z",
     "start_time": "2022-10-27T12:40:57.671882Z"
    }
   },
   "outputs": [],
   "source": [
    "# 문자열 위치 찾기\n",
    "a.find(\"a\")\n"
   ]
  },
  {
   "cell_type": "code",
   "execution_count": null,
   "id": "c49d25e2",
   "metadata": {
    "ExecuteTime": {
     "end_time": "2022-10-27T12:40:56.405634Z",
     "start_time": "2022-10-27T12:40:56.400767Z"
    }
   },
   "outputs": [],
   "source": [
    "a.index(\"a\")"
   ]
  },
  {
   "cell_type": "code",
   "execution_count": null,
   "id": "e9d0af1a",
   "metadata": {
    "ExecuteTime": {
     "end_time": "2022-10-27T12:41:31.785132Z",
     "start_time": "2022-10-27T12:41:31.755530Z"
    }
   },
   "outputs": [],
   "source": [
    "# 차이\n",
    "print(a.find(\"q\"))\n",
    "print(a.index(\"q\"))"
   ]
  },
  {
   "cell_type": "code",
   "execution_count": null,
   "id": "0e764de4",
   "metadata": {
    "ExecuteTime": {
     "end_time": "2022-10-27T12:42:51.243296Z",
     "start_time": "2022-10-27T12:42:51.236338Z"
    }
   },
   "outputs": [],
   "source": [
    "# 문자열 수정\n",
    "\n",
    "print(\".\".join(\"abcd\"))\n",
    "print(\" \".join(\"abcd\"))\n",
    "print(\"hi\".upper())\n",
    "print(\"HI\".lower())\n"
   ]
  },
  {
   "cell_type": "code",
   "execution_count": null,
   "id": "ad65ac98",
   "metadata": {
    "ExecuteTime": {
     "end_time": "2022-10-27T12:44:51.282744Z",
     "start_time": "2022-10-27T12:44:51.275410Z"
    }
   },
   "outputs": [],
   "source": [
    "a = \" hi \"\n",
    "print(\"\\\"\", a, \"\\\"\")\n",
    "print(\"\\\"\", a.lstrip(\" \"), \"\\\"\")\n",
    "print(\"\\\"\", a.rstrip(\" \"), \"\\\"\")\n",
    "print(\"\\\"\", a.strip(\" \"), \"\\\"\")"
   ]
  },
  {
   "cell_type": "code",
   "execution_count": null,
   "id": "b1e92966",
   "metadata": {
    "ExecuteTime": {
     "end_time": "2022-10-27T12:47:41.648663Z",
     "start_time": "2022-10-27T12:47:41.642169Z"
    }
   },
   "outputs": [],
   "source": [
    "a = \"a is apple. c is banana\"\n",
    "print(a.replace(\"c\", \"b\"))\n",
    "print(a) #재할당해줘야함\n",
    "\n",
    "a = a.replace(\"c is\", \"b is\")\n",
    "print(a)\n",
    "\n"
   ]
  },
  {
   "cell_type": "code",
   "execution_count": null,
   "id": "840f1df9",
   "metadata": {
    "ExecuteTime": {
     "end_time": "2022-10-27T12:49:54.329324Z",
     "start_time": "2022-10-27T12:49:54.324195Z"
    }
   },
   "outputs": [],
   "source": [
    "#문자열 스플릿\n",
    "#리스트로 반환함.\n",
    "print(a)\n",
    "print(a.split('.'))\n",
    "\n"
   ]
  },
  {
   "cell_type": "markdown",
   "id": "3bca7038",
   "metadata": {},
   "source": [
    "## 리스트"
   ]
  },
  {
   "cell_type": "markdown",
   "id": "79b5a428",
   "metadata": {},
   "source": [
    "### 리스트 만들고 사용하기"
   ]
  },
  {
   "cell_type": "code",
   "execution_count": null,
   "id": "f13352ec",
   "metadata": {
    "ExecuteTime": {
     "end_time": "2022-10-30T07:30:02.529936Z",
     "start_time": "2022-10-30T07:30:02.521874Z"
    }
   },
   "outputs": [],
   "source": [
    "a = []\n",
    "b = [1,2,3]\n",
    "c = ['1','b','c',4]\n",
    "d = [[1,2,], [3,4]]\n",
    "\n",
    "print(a)\n",
    "print(b)\n",
    "print(c)\n",
    "print(d)"
   ]
  },
  {
   "cell_type": "markdown",
   "id": "fcd11d28",
   "metadata": {},
   "source": [
    "### 리스트 인덱싱과 슬라이싱"
   ]
  },
  {
   "cell_type": "code",
   "execution_count": null,
   "id": "00cac51b",
   "metadata": {
    "ExecuteTime": {
     "end_time": "2022-10-30T07:31:10.833681Z",
     "start_time": "2022-10-30T07:31:10.826597Z"
    }
   },
   "outputs": [],
   "source": [
    "print(b[1])\n",
    "print(d[1])\n",
    "b[0]"
   ]
  },
  {
   "cell_type": "code",
   "execution_count": null,
   "id": "e10780b1",
   "metadata": {
    "ExecuteTime": {
     "end_time": "2022-10-30T07:31:16.664109Z",
     "start_time": "2022-10-30T07:31:16.658570Z"
    }
   },
   "outputs": [],
   "source": [
    "b[-1]"
   ]
  },
  {
   "cell_type": "code",
   "execution_count": null,
   "id": "801171c7",
   "metadata": {
    "ExecuteTime": {
     "end_time": "2022-10-30T07:31:34.483994Z",
     "start_time": "2022-10-30T07:31:34.478171Z"
    }
   },
   "outputs": [],
   "source": [
    "d[0][1]"
   ]
  },
  {
   "cell_type": "code",
   "execution_count": null,
   "id": "bd35bd66",
   "metadata": {
    "ExecuteTime": {
     "end_time": "2022-10-30T07:31:40.352929Z",
     "start_time": "2022-10-30T07:31:40.347894Z"
    }
   },
   "outputs": [],
   "source": [
    "d[1][0]"
   ]
  },
  {
   "cell_type": "code",
   "execution_count": null,
   "id": "8fdcedbf",
   "metadata": {
    "ExecuteTime": {
     "end_time": "2022-10-30T07:32:26.592602Z",
     "start_time": "2022-10-30T07:32:26.585002Z"
    }
   },
   "outputs": [],
   "source": [
    "a = [1,2,3,4,5]\n",
    "\n",
    "a[0:3]"
   ]
  },
  {
   "cell_type": "code",
   "execution_count": null,
   "id": "3a481170",
   "metadata": {
    "ExecuteTime": {
     "end_time": "2022-10-30T07:32:33.717349Z",
     "start_time": "2022-10-30T07:32:33.711003Z"
    }
   },
   "outputs": [],
   "source": [
    "a[:3]"
   ]
  },
  {
   "cell_type": "code",
   "execution_count": null,
   "id": "d196ae90",
   "metadata": {
    "ExecuteTime": {
     "end_time": "2022-10-30T07:32:45.463507Z",
     "start_time": "2022-10-30T07:32:45.457498Z"
    }
   },
   "outputs": [],
   "source": [
    "a[2:4]"
   ]
  },
  {
   "cell_type": "code",
   "execution_count": null,
   "id": "465182b6",
   "metadata": {
    "ExecuteTime": {
     "end_time": "2022-10-30T07:33:00.029317Z",
     "start_time": "2022-10-30T07:33:00.022518Z"
    }
   },
   "outputs": [],
   "source": [
    "a[3:]"
   ]
  },
  {
   "cell_type": "code",
   "execution_count": null,
   "id": "d108314d",
   "metadata": {
    "ExecuteTime": {
     "end_time": "2022-10-30T07:36:05.121384Z",
     "start_time": "2022-10-30T07:36:05.113749Z"
    }
   },
   "outputs": [],
   "source": [
    "a = [1,2,3,['a','b','c'],4,5]\n",
    "a[2:5]"
   ]
  },
  {
   "cell_type": "markdown",
   "id": "460d2458",
   "metadata": {},
   "source": [
    "### 리스트연산하기"
   ]
  },
  {
   "cell_type": "code",
   "execution_count": null,
   "id": "0bab7b89",
   "metadata": {
    "ExecuteTime": {
     "end_time": "2022-10-30T07:34:24.949214Z",
     "start_time": "2022-10-30T07:34:24.942832Z"
    }
   },
   "outputs": [],
   "source": [
    "a = [1,2,3]\n",
    "b = [4,5,6]\n",
    "a + b "
   ]
  },
  {
   "cell_type": "code",
   "execution_count": null,
   "id": "2294f3a0",
   "metadata": {
    "ExecuteTime": {
     "end_time": "2022-10-30T07:34:27.615496Z",
     "start_time": "2022-10-30T07:34:27.609902Z"
    }
   },
   "outputs": [],
   "source": [
    "a * 3"
   ]
  },
  {
   "cell_type": "code",
   "execution_count": null,
   "id": "d8c14ffe",
   "metadata": {
    "ExecuteTime": {
     "end_time": "2022-10-30T07:36:28.474399Z",
     "start_time": "2022-10-30T07:36:28.468308Z"
    }
   },
   "outputs": [],
   "source": [
    "len(a)"
   ]
  },
  {
   "cell_type": "markdown",
   "id": "8ff750a3",
   "metadata": {},
   "source": [
    "### 리스트의 수정과 삭제"
   ]
  },
  {
   "cell_type": "code",
   "execution_count": null,
   "id": "0065dd3d",
   "metadata": {
    "ExecuteTime": {
     "end_time": "2022-10-30T07:35:12.422297Z",
     "start_time": "2022-10-30T07:35:12.418587Z"
    }
   },
   "outputs": [],
   "source": [
    "a[2] = 4"
   ]
  },
  {
   "cell_type": "code",
   "execution_count": null,
   "id": "b6123b0b",
   "metadata": {
    "ExecuteTime": {
     "end_time": "2022-10-30T07:35:14.088455Z",
     "start_time": "2022-10-30T07:35:14.082702Z"
    }
   },
   "outputs": [],
   "source": [
    "a"
   ]
  },
  {
   "cell_type": "code",
   "execution_count": null,
   "id": "1729690f",
   "metadata": {
    "ExecuteTime": {
     "end_time": "2022-10-30T07:36:41.612954Z",
     "start_time": "2022-10-30T07:36:41.584125Z"
    }
   },
   "outputs": [],
   "source": [
    "str1 = \"asdf\"\n",
    "str1[0] = 'c'"
   ]
  },
  {
   "cell_type": "markdown",
   "id": "86d28795",
   "metadata": {},
   "source": [
    "### 리스트 관련 함수"
   ]
  },
  {
   "cell_type": "code",
   "execution_count": null,
   "id": "fce97946",
   "metadata": {
    "ExecuteTime": {
     "end_time": "2022-10-30T07:39:08.204195Z",
     "start_time": "2022-10-30T07:39:08.198071Z"
    }
   },
   "outputs": [],
   "source": [
    "a = [1,2,3]\n",
    "a.append(4)\n",
    "\n",
    "print(a)"
   ]
  },
  {
   "cell_type": "code",
   "execution_count": null,
   "id": "ca36b6f0",
   "metadata": {
    "ExecuteTime": {
     "end_time": "2022-10-30T07:39:08.393918Z",
     "start_time": "2022-10-30T07:39:08.366173Z"
    }
   },
   "outputs": [],
   "source": [
    "a.append(5,6)"
   ]
  },
  {
   "cell_type": "code",
   "execution_count": null,
   "id": "5bb6578c",
   "metadata": {
    "ExecuteTime": {
     "end_time": "2022-10-30T07:39:08.538226Z",
     "start_time": "2022-10-30T07:39:08.528829Z"
    }
   },
   "outputs": [],
   "source": [
    "a.append(5)\n",
    "a.append(6)\n",
    "\n",
    "a.append([7,8])\n",
    "a"
   ]
  },
  {
   "cell_type": "code",
   "execution_count": null,
   "id": "35ef1df0",
   "metadata": {
    "ExecuteTime": {
     "end_time": "2022-10-30T07:39:08.920826Z",
     "start_time": "2022-10-30T07:39:08.912765Z"
    }
   },
   "outputs": [],
   "source": [
    "a = [1,4,3,2]\n",
    "a.sort()\n",
    "a"
   ]
  },
  {
   "cell_type": "code",
   "execution_count": null,
   "id": "90783de2",
   "metadata": {
    "ExecuteTime": {
     "end_time": "2022-10-30T07:39:10.222509Z",
     "start_time": "2022-10-30T07:39:10.215529Z"
    }
   },
   "outputs": [],
   "source": [
    "a.reverse()\n",
    "a"
   ]
  },
  {
   "cell_type": "code",
   "execution_count": null,
   "id": "d9adcf6e",
   "metadata": {
    "ExecuteTime": {
     "end_time": "2022-10-30T07:39:51.993519Z",
     "start_time": "2022-10-30T07:39:51.986556Z"
    }
   },
   "outputs": [],
   "source": [
    "a.sort()\n",
    "a.sort(reverse=True)\n",
    "a"
   ]
  },
  {
   "cell_type": "code",
   "execution_count": null,
   "id": "5e3387d4",
   "metadata": {
    "ExecuteTime": {
     "end_time": "2022-10-30T07:40:02.529400Z",
     "start_time": "2022-10-30T07:40:02.522142Z"
    }
   },
   "outputs": [],
   "source": [
    "a = [1,2,3]\n",
    "a.index(3)"
   ]
  },
  {
   "cell_type": "code",
   "execution_count": null,
   "id": "cee39de8",
   "metadata": {
    "ExecuteTime": {
     "end_time": "2022-10-30T07:40:38.235139Z",
     "start_time": "2022-10-30T07:40:38.207049Z"
    }
   },
   "outputs": [],
   "source": [
    "a.index(4)"
   ]
  },
  {
   "cell_type": "code",
   "execution_count": null,
   "id": "efed5ee9",
   "metadata": {
    "ExecuteTime": {
     "end_time": "2022-10-30T07:40:39.309272Z",
     "start_time": "2022-10-30T07:40:39.279245Z"
    }
   },
   "outputs": [],
   "source": [
    "a.find(4)"
   ]
  },
  {
   "cell_type": "code",
   "execution_count": null,
   "id": "4510c21a",
   "metadata": {
    "ExecuteTime": {
     "end_time": "2022-10-30T07:41:35.353210Z",
     "start_time": "2022-10-30T07:41:35.344246Z"
    }
   },
   "outputs": [],
   "source": [
    "a = [1,2,4]\n",
    "\n",
    "a.insert(2,3)\n",
    "a"
   ]
  },
  {
   "cell_type": "code",
   "execution_count": null,
   "id": "c0fd7022",
   "metadata": {
    "ExecuteTime": {
     "end_time": "2022-10-30T07:41:46.168694Z",
     "start_time": "2022-10-30T07:41:46.164539Z"
    }
   },
   "outputs": [],
   "source": [
    "a = [1,2,3,1,2,3]\n",
    "a.remove(3)"
   ]
  },
  {
   "cell_type": "code",
   "execution_count": null,
   "id": "c4e4b938",
   "metadata": {
    "ExecuteTime": {
     "end_time": "2022-10-30T07:41:50.564614Z",
     "start_time": "2022-10-30T07:41:50.559471Z"
    }
   },
   "outputs": [],
   "source": [
    "a"
   ]
  },
  {
   "cell_type": "code",
   "execution_count": null,
   "id": "7406773c",
   "metadata": {
    "ExecuteTime": {
     "end_time": "2022-10-30T07:42:15.424272Z",
     "start_time": "2022-10-30T07:42:15.417837Z"
    }
   },
   "outputs": [],
   "source": [
    "a = [1,2,3]\n",
    "a.pop()"
   ]
  },
  {
   "cell_type": "code",
   "execution_count": null,
   "id": "6f665f08",
   "metadata": {
    "ExecuteTime": {
     "end_time": "2022-10-30T07:42:38.165180Z",
     "start_time": "2022-10-30T07:42:38.160108Z"
    }
   },
   "outputs": [],
   "source": [
    "a = [1,2,3,1]\n",
    "\n",
    "a.count(1)"
   ]
  },
  {
   "cell_type": "code",
   "execution_count": null,
   "id": "16c32ad9",
   "metadata": {
    "ExecuteTime": {
     "end_time": "2022-10-30T07:43:35.289608Z",
     "start_time": "2022-10-30T07:43:35.284581Z"
    }
   },
   "outputs": [],
   "source": [
    "#리스트 확장\n",
    "a = [1,2,3]\n",
    "a.extend([4])"
   ]
  },
  {
   "cell_type": "code",
   "execution_count": null,
   "id": "0ebbda71",
   "metadata": {
    "ExecuteTime": {
     "end_time": "2022-10-30T07:43:35.628993Z",
     "start_time": "2022-10-30T07:43:35.623359Z"
    }
   },
   "outputs": [],
   "source": [
    "a"
   ]
  },
  {
   "cell_type": "markdown",
   "id": "022f828d",
   "metadata": {},
   "source": [
    "## 튜플"
   ]
  },
  {
   "cell_type": "markdown",
   "id": "5ac9ea07",
   "metadata": {},
   "source": [
    "### 튜플 vs 리스트"
   ]
  },
  {
   "cell_type": "code",
   "execution_count": null,
   "id": "baa92fe8",
   "metadata": {
    "ExecuteTime": {
     "start_time": "2022-10-30T12:09:05.017Z"
    }
   },
   "outputs": [],
   "source": [
    "t1 = ()\n",
    "t2 = (1)\n",
    "t3 = (1,2,3)\n",
    "t4 = ('a','b',('ab','cd'))\n",
    "print(t1)\n",
    "print(t2)\n",
    "print(t3)\n",
    "print(t4)"
   ]
  },
  {
   "cell_type": "markdown",
   "id": "63812dbf",
   "metadata": {},
   "source": [
    "### 튜플다루기"
   ]
  },
  {
   "cell_type": "code",
   "execution_count": null,
   "id": "972dae26",
   "metadata": {
    "ExecuteTime": {
     "end_time": "2022-10-30T07:49:23.024969Z",
     "start_time": "2022-10-30T07:49:23.017772Z"
    }
   },
   "outputs": [],
   "source": [
    "t3[2]"
   ]
  },
  {
   "cell_type": "code",
   "execution_count": null,
   "id": "59d96a98",
   "metadata": {
    "ExecuteTime": {
     "end_time": "2022-10-30T07:49:23.236697Z",
     "start_time": "2022-10-30T07:49:23.206943Z"
    }
   },
   "outputs": [],
   "source": [
    "#값 못바꿈\n",
    "t3[2] = 4"
   ]
  },
  {
   "cell_type": "code",
   "execution_count": null,
   "id": "84f7e7b1",
   "metadata": {
    "ExecuteTime": {
     "end_time": "2022-10-30T07:49:33.230975Z",
     "start_time": "2022-10-30T07:49:33.224166Z"
    }
   },
   "outputs": [],
   "source": [
    "t3[:2]"
   ]
  },
  {
   "cell_type": "code",
   "execution_count": null,
   "id": "82595083",
   "metadata": {
    "ExecuteTime": {
     "end_time": "2022-10-30T07:50:15.019757Z",
     "start_time": "2022-10-30T07:50:15.014103Z"
    }
   },
   "outputs": [],
   "source": [
    "a = (1,2,3)\n",
    "b = (4,5,6)\n",
    "a * 3"
   ]
  },
  {
   "cell_type": "code",
   "execution_count": null,
   "id": "947dfae1",
   "metadata": {
    "ExecuteTime": {
     "end_time": "2022-10-30T07:50:16.329865Z",
     "start_time": "2022-10-30T07:50:16.323619Z"
    }
   },
   "outputs": [],
   "source": [
    "a + b"
   ]
  },
  {
   "cell_type": "code",
   "execution_count": null,
   "id": "0cc67ced",
   "metadata": {
    "ExecuteTime": {
     "end_time": "2022-10-30T08:56:25.489598Z",
     "start_time": "2022-10-30T08:56:25.475134Z"
    }
   },
   "outputs": [],
   "source": [
    "len(a)"
   ]
  },
  {
   "cell_type": "code",
   "execution_count": null,
   "id": "3a976e3d",
   "metadata": {
    "ExecuteTime": {
     "end_time": "2022-10-30T08:56:42.505775Z",
     "start_time": "2022-10-30T08:56:42.499495Z"
    }
   },
   "outputs": [],
   "source": [
    "a = (1,2,3)\n",
    "b = 1,2,3\n",
    "# 튜플은 괄호안써도 인식됨\n",
    "print(a)\n",
    "print(b)"
   ]
  },
  {
   "cell_type": "markdown",
   "id": "d2b01c35",
   "metadata": {},
   "source": [
    "## 딕셔너리"
   ]
  },
  {
   "cell_type": "markdown",
   "id": "40f879e9",
   "metadata": {
    "ExecuteTime": {
     "end_time": "2022-10-30T08:57:59.488687Z",
     "start_time": "2022-10-30T08:57:59.485279Z"
    }
   },
   "source": [
    "### 딕셔너리란"
   ]
  },
  {
   "cell_type": "code",
   "execution_count": null,
   "id": "e35b50cf",
   "metadata": {
    "ExecuteTime": {
     "end_time": "2022-10-30T09:24:05.954891Z",
     "start_time": "2022-10-30T09:24:05.949470Z"
    }
   },
   "outputs": [],
   "source": [
    "dic = {'name' : 'aaa', 'mobile' : '010-2410-3123', 'birth' : '200428'}"
   ]
  },
  {
   "cell_type": "code",
   "execution_count": null,
   "id": "47166216",
   "metadata": {
    "ExecuteTime": {
     "end_time": "2022-10-30T09:24:09.551475Z",
     "start_time": "2022-10-30T09:24:09.544060Z"
    }
   },
   "outputs": [],
   "source": [
    "dic"
   ]
  },
  {
   "cell_type": "code",
   "execution_count": null,
   "id": "ce33ff20",
   "metadata": {
    "ExecuteTime": {
     "end_time": "2022-10-30T09:24:35.703838Z",
     "start_time": "2022-10-30T09:24:35.699812Z"
    }
   },
   "outputs": [],
   "source": [
    "a = {1 : 3}"
   ]
  },
  {
   "cell_type": "code",
   "execution_count": null,
   "id": "efabea31",
   "metadata": {
    "ExecuteTime": {
     "end_time": "2022-10-30T09:24:48.902071Z",
     "start_time": "2022-10-30T09:24:48.898447Z"
    }
   },
   "outputs": [],
   "source": [
    "a = {1: [1,2,3]}"
   ]
  },
  {
   "cell_type": "code",
   "execution_count": null,
   "id": "406ea8be",
   "metadata": {
    "ExecuteTime": {
     "end_time": "2022-10-30T09:24:56.688318Z",
     "start_time": "2022-10-30T09:24:56.656559Z"
    }
   },
   "outputs": [],
   "source": [
    "a = {[1,2,3] : 1}"
   ]
  },
  {
   "cell_type": "code",
   "execution_count": null,
   "id": "ca75b101",
   "metadata": {},
   "outputs": [],
   "source": [
    "#키:값 쌍에서 키는 숫자혹은 문자여야함\n"
   ]
  },
  {
   "cell_type": "code",
   "execution_count": null,
   "id": "252c6c63",
   "metadata": {},
   "outputs": [],
   "source": []
  },
  {
   "cell_type": "markdown",
   "id": "99928ee6",
   "metadata": {
    "ExecuteTime": {
     "end_time": "2022-10-30T08:58:06.837876Z",
     "start_time": "2022-10-30T08:58:06.832974Z"
    }
   },
   "source": [
    "### 만들기"
   ]
  },
  {
   "cell_type": "markdown",
   "id": "5dc1ff03",
   "metadata": {
    "ExecuteTime": {
     "end_time": "2022-10-30T08:58:22.451834Z",
     "start_time": "2022-10-30T08:58:22.448031Z"
    }
   },
   "source": [
    "### 쌍 추가/삭제 "
   ]
  },
  {
   "cell_type": "code",
   "execution_count": null,
   "id": "bd71c36b",
   "metadata": {
    "ExecuteTime": {
     "end_time": "2022-10-30T10:53:04.700353Z",
     "start_time": "2022-10-30T10:53:04.695916Z"
    }
   },
   "outputs": [],
   "source": [
    "dic['email'] = 'asdf'"
   ]
  },
  {
   "cell_type": "code",
   "execution_count": null,
   "id": "06c4ec87",
   "metadata": {
    "ExecuteTime": {
     "end_time": "2022-10-30T10:53:04.869754Z",
     "start_time": "2022-10-30T10:53:04.862443Z"
    }
   },
   "outputs": [],
   "source": [
    "dic"
   ]
  },
  {
   "cell_type": "code",
   "execution_count": null,
   "id": "4348d1ba",
   "metadata": {
    "ExecuteTime": {
     "end_time": "2022-10-30T10:53:05.138669Z",
     "start_time": "2022-10-30T10:53:05.111566Z"
    }
   },
   "outputs": [],
   "source": [
    "#대괄호로 접근한 키에 값을 할당하면 추가된다.\n",
    "dic['name':1234]"
   ]
  },
  {
   "cell_type": "code",
   "execution_count": null,
   "id": "34d2cb28",
   "metadata": {
    "ExecuteTime": {
     "end_time": "2022-10-30T10:53:05.707877Z",
     "start_time": "2022-10-30T10:53:05.700692Z"
    }
   },
   "outputs": [],
   "source": [
    "dic['name']"
   ]
  },
  {
   "cell_type": "code",
   "execution_count": null,
   "id": "ccbd8720",
   "metadata": {
    "ExecuteTime": {
     "end_time": "2022-10-30T10:29:31.616774Z",
     "start_time": "2022-10-30T10:29:31.613429Z"
    }
   },
   "outputs": [],
   "source": [
    "dic['name'] = 'ppp'"
   ]
  },
  {
   "cell_type": "code",
   "execution_count": null,
   "id": "b2c04022",
   "metadata": {
    "ExecuteTime": {
     "end_time": "2022-10-30T10:29:31.784299Z",
     "start_time": "2022-10-30T10:29:31.777729Z"
    }
   },
   "outputs": [],
   "source": [
    "dic."
   ]
  },
  {
   "cell_type": "markdown",
   "id": "15641a2d",
   "metadata": {
    "ExecuteTime": {
     "end_time": "2022-10-30T08:58:36.836469Z",
     "start_time": "2022-10-30T08:58:36.833639Z"
    }
   },
   "source": [
    "### 관련함수 "
   ]
  },
  {
   "cell_type": "code",
   "execution_count": null,
   "id": "07d6d2d9",
   "metadata": {
    "ExecuteTime": {
     "end_time": "2022-10-30T10:29:46.929310Z",
     "start_time": "2022-10-30T10:29:46.921896Z"
    }
   },
   "outputs": [],
   "source": [
    "dic.keys()\n",
    "#순서가 없음"
   ]
  },
  {
   "cell_type": "code",
   "execution_count": null,
   "id": "6b0eb905",
   "metadata": {
    "ExecuteTime": {
     "end_time": "2022-10-30T10:29:54.049170Z",
     "start_time": "2022-10-30T10:29:54.042816Z"
    }
   },
   "outputs": [],
   "source": [
    "type(dic)"
   ]
  },
  {
   "cell_type": "code",
   "execution_count": null,
   "id": "b6dc60dc",
   "metadata": {
    "ExecuteTime": {
     "end_time": "2022-10-30T10:30:04.614793Z",
     "start_time": "2022-10-30T10:30:04.606715Z"
    }
   },
   "outputs": [],
   "source": [
    "type(dic['name'])"
   ]
  },
  {
   "cell_type": "code",
   "execution_count": null,
   "id": "e08fcd67",
   "metadata": {
    "ExecuteTime": {
     "end_time": "2022-10-30T10:30:11.473454Z",
     "start_time": "2022-10-30T10:30:11.468960Z"
    }
   },
   "outputs": [],
   "source": [
    "a = dic.keys()"
   ]
  },
  {
   "cell_type": "code",
   "execution_count": null,
   "id": "4d1e868b",
   "metadata": {
    "ExecuteTime": {
     "end_time": "2022-10-30T10:30:49.989877Z",
     "start_time": "2022-10-30T10:30:49.958351Z"
    }
   },
   "outputs": [],
   "source": [
    "#dic.keys()는 dict_keys라는 새로운객체를 반환함\n",
    "type(a)\n",
    "#슬라이싱등이 불가능함\n"
   ]
  },
  {
   "cell_type": "code",
   "execution_count": null,
   "id": "f2789115",
   "metadata": {
    "ExecuteTime": {
     "end_time": "2022-10-30T10:31:55.242838Z",
     "start_time": "2022-10-30T10:31:55.239650Z"
    }
   },
   "outputs": [],
   "source": [
    "#리스트로 바꾸기\n",
    "a = list(a)"
   ]
  },
  {
   "cell_type": "code",
   "execution_count": null,
   "id": "1d82254f",
   "metadata": {
    "ExecuteTime": {
     "end_time": "2022-10-30T10:31:55.573358Z",
     "start_time": "2022-10-30T10:31:55.566735Z"
    }
   },
   "outputs": [],
   "source": [
    "print(a)\n",
    "type(a)"
   ]
  },
  {
   "cell_type": "code",
   "execution_count": null,
   "id": "3d2d5b45",
   "metadata": {
    "ExecuteTime": {
     "end_time": "2022-10-30T10:32:11.795046Z",
     "start_time": "2022-10-30T10:32:11.789705Z"
    }
   },
   "outputs": [],
   "source": [
    "a = list(dic.keys())"
   ]
  },
  {
   "cell_type": "code",
   "execution_count": null,
   "id": "15980e94",
   "metadata": {
    "ExecuteTime": {
     "end_time": "2022-10-30T10:32:14.081413Z",
     "start_time": "2022-10-30T10:32:14.074382Z"
    }
   },
   "outputs": [],
   "source": [
    "a"
   ]
  },
  {
   "cell_type": "code",
   "execution_count": null,
   "id": "1f4c8f88",
   "metadata": {
    "ExecuteTime": {
     "end_time": "2022-10-30T10:32:26.101551Z",
     "start_time": "2022-10-30T10:32:26.093436Z"
    }
   },
   "outputs": [],
   "source": [
    "dic.values()"
   ]
  },
  {
   "cell_type": "code",
   "execution_count": null,
   "id": "5165a968",
   "metadata": {
    "ExecuteTime": {
     "end_time": "2022-10-30T10:32:46.008330Z",
     "start_time": "2022-10-30T10:32:46.003982Z"
    }
   },
   "outputs": [],
   "source": [
    "a = list(dic.values())\n",
    "print(a)"
   ]
  },
  {
   "cell_type": "code",
   "execution_count": null,
   "id": "d1b0f24e",
   "metadata": {
    "ExecuteTime": {
     "end_time": "2022-10-30T10:33:30.042037Z",
     "start_time": "2022-10-30T10:33:30.030394Z"
    }
   },
   "outputs": [],
   "source": [
    "dic.items()"
   ]
  },
  {
   "cell_type": "code",
   "execution_count": null,
   "id": "1c3ad499",
   "metadata": {
    "ExecuteTime": {
     "end_time": "2022-10-30T10:33:42.735850Z",
     "start_time": "2022-10-30T10:33:42.731783Z"
    }
   },
   "outputs": [],
   "source": [
    "a = list(dic.items())"
   ]
  },
  {
   "cell_type": "code",
   "execution_count": null,
   "id": "13262da9",
   "metadata": {
    "ExecuteTime": {
     "end_time": "2022-10-30T10:33:46.152119Z",
     "start_time": "2022-10-30T10:33:46.147124Z"
    }
   },
   "outputs": [],
   "source": [
    "a[0]"
   ]
  },
  {
   "cell_type": "code",
   "execution_count": null,
   "id": "cfbc01d9",
   "metadata": {
    "ExecuteTime": {
     "end_time": "2022-10-30T10:33:50.918375Z",
     "start_time": "2022-10-30T10:33:50.910615Z"
    }
   },
   "outputs": [],
   "source": [
    "a[0][0]"
   ]
  },
  {
   "cell_type": "code",
   "execution_count": null,
   "id": "e7494ae6",
   "metadata": {
    "ExecuteTime": {
     "end_time": "2022-10-30T10:36:47.900211Z",
     "start_time": "2022-10-30T10:36:47.893706Z"
    }
   },
   "outputs": [],
   "source": [
    "dic['name']\n",
    "dic.get('name')\n",
    "dic.get('non')\n",
    "#dic[non]\n",
    "#get은 아무것도 리턴하지 않음.\n",
    "#그래서 디폴트값을 설정해주곤함\n",
    "dic.get('non', 'default')"
   ]
  },
  {
   "cell_type": "code",
   "execution_count": null,
   "id": "f2ba1c54",
   "metadata": {
    "ExecuteTime": {
     "end_time": "2022-10-30T10:38:10.483977Z",
     "start_time": "2022-10-30T10:38:10.474690Z"
    }
   },
   "outputs": [],
   "source": [
    "#값이 있는지확인\n",
    "l1 = [1,2,3,4]\n",
    "t1 = (1,2,3,4)\n",
    "\n",
    "print(1 in l1)\n",
    "print(0 in t1)\n",
    "print('name' in dic)\n",
    "print('noa' in dic)"
   ]
  },
  {
   "cell_type": "markdown",
   "id": "976ccac5",
   "metadata": {},
   "source": [
    "## 집합"
   ]
  },
  {
   "cell_type": "markdown",
   "id": "5e925249",
   "metadata": {
    "ExecuteTime": {
     "end_time": "2022-10-30T10:42:42.455441Z",
     "start_time": "2022-10-30T10:42:42.448897Z"
    }
   },
   "source": [
    "### 만들기 "
   ]
  },
  {
   "cell_type": "code",
   "execution_count": null,
   "id": "9469508e",
   "metadata": {
    "ExecuteTime": {
     "end_time": "2022-10-30T10:46:58.543664Z",
     "start_time": "2022-10-30T10:46:58.513403Z"
    }
   },
   "outputs": [],
   "source": [
    "s1 = set([1,2,3])\n",
    "print(s1)\n",
    "\n",
    "s2 = set('Hello')\n",
    "print(s2)\n",
    "\n",
    "#집합은 순서가 없고 중복이 제거됨\n",
    "print(s2[0])"
   ]
  },
  {
   "cell_type": "markdown",
   "id": "31cbaf72",
   "metadata": {},
   "source": [
    "### 중복제거 "
   ]
  },
  {
   "cell_type": "code",
   "execution_count": null,
   "id": "4dfcdabd",
   "metadata": {
    "ExecuteTime": {
     "end_time": "2022-10-30T10:46:46.813643Z",
     "start_time": "2022-10-30T10:46:46.809062Z"
    }
   },
   "outputs": [],
   "source": [
    "#중복제거방법\n",
    "a = [1,2,3,4,5,6,7,8]\n",
    "a = list(set(a))\n",
    "print(a)"
   ]
  },
  {
   "cell_type": "code",
   "execution_count": null,
   "id": "1127c2df",
   "metadata": {
    "ExecuteTime": {
     "end_time": "2022-10-30T10:47:12.353826Z",
     "start_time": "2022-10-30T10:47:12.349655Z"
    }
   },
   "outputs": [],
   "source": [
    "a = 'asdfasdfasdf'\n",
    "a = ''.join((set(a)))\n",
    "print(a)"
   ]
  },
  {
   "cell_type": "markdown",
   "id": "ad824909",
   "metadata": {
    "ExecuteTime": {
     "end_time": "2022-10-30T10:47:18.680102Z",
     "start_time": "2022-10-30T10:47:18.677030Z"
    }
   },
   "source": [
    "### 집합연산"
   ]
  },
  {
   "cell_type": "code",
   "execution_count": null,
   "id": "dd58e6c6",
   "metadata": {
    "ExecuteTime": {
     "end_time": "2022-10-30T10:51:59.204162Z",
     "start_time": "2022-10-30T10:51:59.192277Z"
    }
   },
   "outputs": [],
   "source": [
    "s1 = set([1,2,3,4,5,6])\n",
    "s2 = set([4,5,6,7,8,9])\n",
    "\n",
    "# 교집합구하기\n",
    "print(s1.intersection(s2))\n",
    "print(s1 & s2)\n",
    "\n",
    "# 합집합\n",
    "print(s1.union(s2))\n",
    "print(s1 | s2)\n",
    "\n",
    "# 차집합\n",
    "print(s1 - s2)\n",
    "print(s1.difference(s2))\n",
    "print(s2 - s1)\n",
    "\n"
   ]
  },
  {
   "cell_type": "code",
   "execution_count": null,
   "id": "03755250",
   "metadata": {
    "ExecuteTime": {
     "end_time": "2022-10-30T10:51:59.376557Z",
     "start_time": "2022-10-30T10:51:59.367942Z"
    }
   },
   "outputs": [],
   "source": [
    "# 값 추가\n",
    "s1.add(7)\n",
    "print(s1)\n",
    "\n",
    "# 여러개 추가\n",
    "s1.update([8,9])\n",
    "print(s1)"
   ]
  },
  {
   "cell_type": "code",
   "execution_count": null,
   "id": "0f1c6122",
   "metadata": {
    "ExecuteTime": {
     "end_time": "2022-10-30T10:51:59.573996Z",
     "start_time": "2022-10-30T10:51:59.568081Z"
    }
   },
   "outputs": [],
   "source": [
    "# 값 삭제\n",
    "s1.remove(2)\n",
    "print(s1)"
   ]
  },
  {
   "cell_type": "markdown",
   "id": "d34b6a0e",
   "metadata": {
    "ExecuteTime": {
     "end_time": "2022-10-30T10:52:14.163202Z",
     "start_time": "2022-10-30T10:52:14.160090Z"
    }
   },
   "source": [
    "## 불 자료형 "
   ]
  },
  {
   "cell_type": "markdown",
   "id": "6588c1e0",
   "metadata": {
    "ExecuteTime": {
     "end_time": "2022-10-30T10:52:25.292991Z",
     "start_time": "2022-10-30T10:52:25.288643Z"
    }
   },
   "source": [
    "### 정의 "
   ]
  },
  {
   "cell_type": "code",
   "execution_count": null,
   "id": "ed05cb82",
   "metadata": {
    "ExecuteTime": {
     "end_time": "2022-10-30T10:56:35.508340Z",
     "start_time": "2022-10-30T10:56:35.504276Z"
    }
   },
   "outputs": [],
   "source": [
    "#참과 거짓으로만 판단된다\n",
    "a = True\n",
    "b = False\n",
    "print(a, b)"
   ]
  },
  {
   "cell_type": "code",
   "execution_count": null,
   "id": "28288a3f",
   "metadata": {
    "ExecuteTime": {
     "end_time": "2022-10-30T10:56:51.167941Z",
     "start_time": "2022-10-30T10:56:51.162216Z"
    }
   },
   "outputs": [],
   "source": [
    "print(type(a))\n",
    "print(type(b))"
   ]
  },
  {
   "cell_type": "markdown",
   "id": "79f80a71",
   "metadata": {
    "ExecuteTime": {
     "end_time": "2022-10-30T10:52:37.228203Z",
     "start_time": "2022-10-30T10:52:37.224975Z"
    }
   },
   "source": [
    "### 자료형의 참과 거짓"
   ]
  },
  {
   "cell_type": "code",
   "execution_count": null,
   "id": "fa448250",
   "metadata": {
    "ExecuteTime": {
     "end_time": "2022-10-30T10:57:05.038889Z",
     "start_time": "2022-10-30T10:57:05.033567Z"
    }
   },
   "outputs": [],
   "source": [
    "type(1 == 1)"
   ]
  },
  {
   "cell_type": "code",
   "execution_count": null,
   "id": "5fa6fcf3",
   "metadata": {
    "ExecuteTime": {
     "end_time": "2022-10-30T10:57:13.867840Z",
     "start_time": "2022-10-30T10:57:13.861589Z"
    }
   },
   "outputs": [],
   "source": [
    "type(2 > 1)"
   ]
  },
  {
   "cell_type": "code",
   "execution_count": null,
   "id": "88cd6075",
   "metadata": {
    "ExecuteTime": {
     "end_time": "2022-10-30T11:00:12.638990Z",
     "start_time": "2022-10-30T11:00:12.631568Z"
    }
   },
   "outputs": [],
   "source": [
    "type(2 < 1)"
   ]
  },
  {
   "cell_type": "markdown",
   "id": "6e3e1010",
   "metadata": {},
   "source": [
    "### 불연산"
   ]
  },
  {
   "cell_type": "code",
   "execution_count": null,
   "id": "8235315d",
   "metadata": {
    "ExecuteTime": {
     "end_time": "2022-10-30T10:57:39.912376Z",
     "start_time": "2022-10-30T10:57:39.906540Z"
    }
   },
   "outputs": [],
   "source": [
    "print('aaa' == 'aaa')\n",
    "type('aaa' == 'bbb')"
   ]
  },
  {
   "cell_type": "code",
   "execution_count": null,
   "id": "7d967040",
   "metadata": {
    "ExecuteTime": {
     "end_time": "2022-10-30T10:58:18.523552Z",
     "start_time": "2022-10-30T10:58:18.517865Z"
    }
   },
   "outputs": [],
   "source": [
    "print(bool('a'))\n",
    "print(bool(''))\n",
    "print(bool([1,2]))\n",
    "print(bool([]))"
   ]
  },
  {
   "cell_type": "code",
   "execution_count": null,
   "id": "fe773551",
   "metadata": {
    "ExecuteTime": {
     "end_time": "2022-10-30T11:00:25.560037Z",
     "start_time": "2022-10-30T11:00:25.555469Z"
    }
   },
   "outputs": [],
   "source": [
    "print(bool(0))\n",
    "print(bool(None))\n",
    "print(bool(1))"
   ]
  },
  {
   "cell_type": "markdown",
   "id": "0c293562",
   "metadata": {
    "ExecuteTime": {
     "end_time": "2022-10-30T11:00:32.980473Z",
     "start_time": "2022-10-30T11:00:32.977036Z"
    }
   },
   "source": [
    "## 깊은복사, 얕은복사"
   ]
  },
  {
   "cell_type": "code",
   "execution_count": null,
   "id": "d90f723d",
   "metadata": {
    "ExecuteTime": {
     "end_time": "2022-10-30T11:00:55.965671Z",
     "start_time": "2022-10-30T11:00:55.958257Z"
    }
   },
   "outputs": [],
   "source": [
    "a = [1,2,3]\n",
    "a_new = a\n",
    "a[0] = 0\n",
    "print(a)\n",
    "print(a_new)"
   ]
  },
  {
   "cell_type": "code",
   "execution_count": null,
   "id": "8b812ca0",
   "metadata": {
    "ExecuteTime": {
     "end_time": "2022-10-30T11:01:40.216134Z",
     "start_time": "2022-10-30T11:01:40.211426Z"
    }
   },
   "outputs": [],
   "source": [
    "a = [1,2,3]\n",
    "a_new = a[:]\n",
    "a[0] = 0\n",
    "print(a)\n",
    "print(a_new)"
   ]
  },
  {
   "cell_type": "code",
   "execution_count": null,
   "id": "37616e9e",
   "metadata": {
    "ExecuteTime": {
     "end_time": "2022-10-30T11:05:35.213170Z",
     "start_time": "2022-10-30T11:05:35.204403Z"
    }
   },
   "outputs": [],
   "source": [
    "import copy\n",
    "a = [1,2,3]\n",
    "a_new = copy.deepcopy(a)\n",
    "a[0] = 0\n",
    "print(a)\n",
    "print(a_new)"
   ]
  },
  {
   "cell_type": "markdown",
   "id": "fad0e415",
   "metadata": {},
   "source": [
    "## 변수생성"
   ]
  },
  {
   "cell_type": "code",
   "execution_count": null,
   "id": "c59480aa",
   "metadata": {
    "ExecuteTime": {
     "end_time": "2022-10-30T11:03:59.535599Z",
     "start_time": "2022-10-30T11:03:59.528138Z"
    }
   },
   "outputs": [],
   "source": [
    "a = 'a'\n",
    "b = 'b'\n",
    "a, b = 'a', 'b'\n",
    "print(a, b)"
   ]
  },
  {
   "cell_type": "code",
   "execution_count": null,
   "id": "b1e60d91",
   "metadata": {
    "ExecuteTime": {
     "end_time": "2022-10-30T11:04:41.019677Z",
     "start_time": "2022-10-30T11:04:41.015426Z"
    }
   },
   "outputs": [],
   "source": [
    "[a,b] = ['a','b']\n",
    "print(a)\n",
    "print(b)"
   ]
  },
  {
   "cell_type": "code",
   "execution_count": null,
   "id": "79d092eb",
   "metadata": {
    "ExecuteTime": {
     "end_time": "2022-10-30T11:04:50.816151Z",
     "start_time": "2022-10-30T11:04:50.810071Z"
    }
   },
   "outputs": [],
   "source": [
    "a = b = 'a'\n",
    "print(a)\n",
    "print(b)"
   ]
  },
  {
   "cell_type": "code",
   "execution_count": null,
   "id": "9ce90695",
   "metadata": {
    "ExecuteTime": {
     "end_time": "2022-10-30T11:05:13.522515Z",
     "start_time": "2022-10-30T11:05:13.516544Z"
    }
   },
   "outputs": [],
   "source": [
    "a = 3\n",
    "b = 5\n",
    "a, b = b, a\n",
    "print(a, b)"
   ]
  },
  {
   "cell_type": "markdown",
   "id": "73c25107",
   "metadata": {
    "ExecuteTime": {
     "end_time": "2022-10-30T11:06:09.184948Z",
     "start_time": "2022-10-30T11:06:09.180536Z"
    }
   },
   "source": [
    "# 조건문, 논리식 등등"
   ]
  },
  {
   "cell_type": "markdown",
   "id": "ba7c83da",
   "metadata": {},
   "source": [
    "## if문"
   ]
  },
  {
   "cell_type": "code",
   "execution_count": null,
   "id": "b6ee55ba",
   "metadata": {
    "ExecuteTime": {
     "end_time": "2022-10-30T11:39:51.919774Z",
     "start_time": "2022-10-30T11:39:49.719738Z"
    }
   },
   "outputs": [],
   "source": [
    "member = input('회원인가요?(y/n)')\n",
    "if member == 'y':\n",
    "    print('어서오세용')\n",
    "else:\n",
    "    print('뉘세요')"
   ]
  },
  {
   "cell_type": "code",
   "execution_count": null,
   "id": "f34044d1",
   "metadata": {
    "ExecuteTime": {
     "start_time": "2022-10-30T11:44:47.675Z"
    }
   },
   "outputs": [],
   "source": [
    "age = int(input('나이 입력: '))\n",
    "price = 20000\n",
    "\n",
    "if 1 <= age < 6:\n",
    "    print('입장료 무료')\n",
    "elif 6 <= age < 60:\n",
    "    print('입장료는 ', price, '입니다.')\n",
    "elif age >= 60:\n",
    "    print('입장료는 ', price * 0.5, '입니다.')\n",
    "else:\n",
    "    print('1살 이상의 나이 입력해주세요')\n"
   ]
  },
  {
   "cell_type": "markdown",
   "id": "da33cb1e",
   "metadata": {},
   "source": [
    "### 중첩조건문"
   ]
  },
  {
   "cell_type": "code",
   "execution_count": null,
   "id": "386ed95e",
   "metadata": {
    "ExecuteTime": {
     "end_time": "2022-10-30T11:47:52.526650Z",
     "start_time": "2022-10-30T11:47:49.559079Z"
    }
   },
   "outputs": [],
   "source": [
    "id1 = input('아이디: ')\n",
    "pwd2 = input('비밀번호: ')\n",
    "if id1 == 'admin':\n",
    "    if pwd2 == '1234':\n",
    "        print('로그인성공')\n",
    "    else:\n",
    "        print('비밀번호 오류')\n",
    "else:\n",
    "    print('아이디오류')"
   ]
  },
  {
   "cell_type": "markdown",
   "id": "84f6a75d",
   "metadata": {},
   "source": [
    "## 반복문"
   ]
  },
  {
   "cell_type": "markdown",
   "id": "4f3cd248",
   "metadata": {},
   "source": [
    "### range"
   ]
  },
  {
   "cell_type": "code",
   "execution_count": null,
   "id": "c5dd64dc",
   "metadata": {
    "ExecuteTime": {
     "end_time": "2022-10-30T16:07:32.740647Z",
     "start_time": "2022-10-30T16:07:32.732807Z"
    }
   },
   "outputs": [],
   "source": [
    "for i in range(5):\n",
    "    print('+' * (i + 1))"
   ]
  },
  {
   "cell_type": "code",
   "execution_count": null,
   "id": "1a3c0240",
   "metadata": {
    "ExecuteTime": {
     "end_time": "2022-10-30T16:08:39.596065Z",
     "start_time": "2022-10-30T16:08:39.591080Z"
    }
   },
   "outputs": [],
   "source": [
    "odd = [1,3,5,7,9]\n",
    "for i in odd:\n",
    "    print(i + 1, end= ' ')"
   ]
  },
  {
   "cell_type": "code",
   "execution_count": null,
   "id": "d1bfb270",
   "metadata": {
    "ExecuteTime": {
     "end_time": "2022-10-30T16:31:46.403243Z",
     "start_time": "2022-10-30T16:31:46.394956Z"
    }
   },
   "outputs": [],
   "source": [
    "for i in range(1,31):\n",
    "    if i % 7 == 0:\n",
    "        print('7의배수: ', i)"
   ]
  },
  {
   "cell_type": "code",
   "execution_count": null,
   "id": "31971872",
   "metadata": {
    "ExecuteTime": {
     "end_time": "2022-10-30T16:38:09.830104Z",
     "start_time": "2022-10-30T16:38:01.530557Z"
    }
   },
   "outputs": [],
   "source": [
    "while (True):\n",
    "    num = int(input('구구단입력 0 종료:'))\n",
    "    if num == 0:\n",
    "        break\n",
    "    i = 1\n",
    "    while i <= 9:\n",
    "        print('%d x %d = %d' % (num, i, num * i))\n",
    "        i += 1"
   ]
  },
  {
   "cell_type": "code",
   "execution_count": null,
   "id": "fbd3e0fe",
   "metadata": {
    "ExecuteTime": {
     "end_time": "2022-10-30T16:41:19.246813Z",
     "start_time": "2022-10-30T16:41:13.753684Z"
    }
   },
   "outputs": [],
   "source": [
    "alpha = {'A' : '1!', 'B' : '2@', 'C' : '3#', 'D' : '4$', 'E':'5%' }\n",
    "while True:\n",
    "    code = ''\n",
    "    word = input('input')\n",
    "    if word == '0':\n",
    "        break\n",
    "    for ch in word:\n",
    "        code += alpha[ch]\n",
    "    print('단어:', word, '암호코드', code, '\\n')\n",
    "print('임호코드 변한프로그램')\n",
    "        \n",
    "        \n",
    "    "
   ]
  },
  {
   "cell_type": "markdown",
   "id": "d0d3fca1",
   "metadata": {},
   "source": [
    "# 함수"
   ]
  },
  {
   "cell_type": "markdown",
   "id": "b906ce62",
   "metadata": {},
   "source": [
    "## 내장함수"
   ]
  },
  {
   "cell_type": "code",
   "execution_count": 2,
   "id": "93769d3e",
   "metadata": {
    "ExecuteTime": {
     "end_time": "2022-11-04T00:30:05.043842Z",
     "start_time": "2022-11-04T00:30:05.034986Z"
    }
   },
   "outputs": [
    {
     "data": {
      "text/plain": [
       "int"
      ]
     },
     "execution_count": 2,
     "metadata": {},
     "output_type": "execute_result"
    }
   ],
   "source": [
    "type(1)"
   ]
  },
  {
   "cell_type": "code",
   "execution_count": 3,
   "id": "0ef6d6ae",
   "metadata": {
    "ExecuteTime": {
     "end_time": "2022-11-04T00:30:15.214935Z",
     "start_time": "2022-11-04T00:30:15.207788Z"
    }
   },
   "outputs": [
    {
     "data": {
      "text/plain": [
       "str"
      ]
     },
     "execution_count": 3,
     "metadata": {},
     "output_type": "execute_result"
    }
   ],
   "source": [
    "type(\"test\")"
   ]
  },
  {
   "cell_type": "code",
   "execution_count": 24,
   "id": "250a3c26",
   "metadata": {
    "ExecuteTime": {
     "end_time": "2022-11-04T00:36:10.995109Z",
     "start_time": "2022-11-04T00:36:10.985587Z"
    }
   },
   "outputs": [
    {
     "name": "stdout",
     "output_type": "stream",
     "text": [
      "1\n",
      "3\n",
      "-3\n",
      "1.0\n",
      "1.0\n",
      "3.3\n",
      "32\n",
      "3.3\n"
     ]
    }
   ],
   "source": [
    "print(int(\"1\"))\n",
    "#print(int('asdf'))\n",
    "print(int(3.2))\n",
    "print(int(-3.3))\n",
    "\n",
    "print(float(1))\n",
    "print(float('1'))\n",
    "print(float(3.3))\n",
    "\n",
    "print(str(32))\n",
    "print(float(3.3))"
   ]
  },
  {
   "cell_type": "code",
   "execution_count": 25,
   "id": "ae1349dd",
   "metadata": {
    "ExecuteTime": {
     "end_time": "2022-11-04T00:36:29.529823Z",
     "start_time": "2022-11-04T00:36:29.522320Z"
    }
   },
   "outputs": [
    {
     "name": "stdout",
     "output_type": "stream",
     "text": [
      "w\n",
      " \n",
      "11\n"
     ]
    }
   ],
   "source": [
    "print(max(\"hello world\"))\n",
    "print(min(\"hello world\"))\n",
    "print(len(\"Hello world\"))"
   ]
  },
  {
   "cell_type": "code",
   "execution_count": 26,
   "id": "4b74f76d",
   "metadata": {
    "ExecuteTime": {
     "end_time": "2022-11-04T00:36:34.693163Z",
     "start_time": "2022-11-04T00:36:34.687517Z"
    }
   },
   "outputs": [],
   "source": [
    "import math"
   ]
  },
  {
   "cell_type": "code",
   "execution_count": 30,
   "id": "ff8d57a4",
   "metadata": {
    "ExecuteTime": {
     "end_time": "2022-11-04T00:38:02.505821Z",
     "start_time": "2022-11-04T00:38:02.499682Z"
    }
   },
   "outputs": [
    {
     "name": "stdout",
     "output_type": "stream",
     "text": [
      "6361.725123519331\n"
     ]
    }
   ],
   "source": [
    "r = 45\n",
    "radians = r * r * math.pi\n",
    "print(radians)\n"
   ]
  },
  {
   "cell_type": "code",
   "execution_count": 31,
   "id": "348f37d9",
   "metadata": {
    "ExecuteTime": {
     "end_time": "2022-11-04T00:38:09.724481Z",
     "start_time": "2022-11-04T00:38:09.719145Z"
    }
   },
   "outputs": [],
   "source": [
    "import random"
   ]
  },
  {
   "cell_type": "code",
   "execution_count": 38,
   "id": "58fb528f",
   "metadata": {
    "ExecuteTime": {
     "end_time": "2022-11-04T00:39:09.105403Z",
     "start_time": "2022-11-04T00:39:09.098002Z"
    }
   },
   "outputs": [
    {
     "name": "stdout",
     "output_type": "stream",
     "text": [
      "0.9782409603578234\n",
      "0.674006513357297\n",
      "0.921258927168555\n",
      "0.2494825194175846\n",
      "0.9110895641210602\n",
      "0.7926913003302075\n",
      "0.7740780297530958\n",
      "0.20797561568001743\n",
      "0.6166150130643638\n",
      "0.147255098585113\n"
     ]
    }
   ],
   "source": [
    "for i in range(10):\n",
    "    x = random.random()\n",
    "    print(x)\n"
   ]
  },
  {
   "cell_type": "code",
   "execution_count": 51,
   "id": "70a748c8",
   "metadata": {
    "ExecuteTime": {
     "end_time": "2022-11-04T00:39:34.822038Z",
     "start_time": "2022-11-04T00:39:34.814812Z"
    }
   },
   "outputs": [
    {
     "name": "stdout",
     "output_type": "stream",
     "text": [
      "6\n"
     ]
    }
   ],
   "source": [
    "x = random.randint(5,10)\n",
    "print(x)"
   ]
  },
  {
   "cell_type": "code",
   "execution_count": 65,
   "id": "96e2f8a9",
   "metadata": {
    "ExecuteTime": {
     "end_time": "2022-11-04T00:40:00.653348Z",
     "start_time": "2022-11-04T00:40:00.647442Z"
    }
   },
   "outputs": [
    {
     "name": "stdout",
     "output_type": "stream",
     "text": [
      "3\n"
     ]
    }
   ],
   "source": [
    "t = [1,2,3,4]\n",
    "print(random.choice(t))"
   ]
  },
  {
   "cell_type": "markdown",
   "id": "565411d0",
   "metadata": {},
   "source": [
    "## 사용자정의함수"
   ]
  },
  {
   "cell_type": "markdown",
   "id": "f1d04077",
   "metadata": {},
   "source": [
    "def 함수이름(arg1, arg2):\n",
    "    statement1\n",
    "    ...\n",
    "    return 결과값\n",
    "\n"
   ]
  },
  {
   "cell_type": "code",
   "execution_count": 67,
   "id": "41c6c7dd",
   "metadata": {
    "ExecuteTime": {
     "end_time": "2022-11-04T00:42:32.162901Z",
     "start_time": "2022-11-04T00:42:32.156244Z"
    }
   },
   "outputs": [
    {
     "name": "stdout",
     "output_type": "stream",
     "text": [
      "I am okay.\n",
      "I sleep all night\n"
     ]
    }
   ],
   "source": [
    "def print_lyrics():\n",
    "    print('I am okay.')\n",
    "    print('I sleep all night')\n",
    "print_lyrics()"
   ]
  },
  {
   "cell_type": "code",
   "execution_count": 69,
   "id": "49440f92",
   "metadata": {
    "ExecuteTime": {
     "end_time": "2022-11-04T00:43:26.111479Z",
     "start_time": "2022-11-04T00:43:26.105118Z"
    }
   },
   "outputs": [],
   "source": [
    "def cylinder_volume(height, radius = 5): #디폴트값 radius 5\n",
    "    return radius ** 2 * height * math.pi"
   ]
  },
  {
   "cell_type": "code",
   "execution_count": 73,
   "id": "6154ca22",
   "metadata": {
    "ExecuteTime": {
     "end_time": "2022-11-04T00:44:07.383134Z",
     "start_time": "2022-11-04T00:44:07.376267Z"
    }
   },
   "outputs": [
    {
     "name": "stdout",
     "output_type": "stream",
     "text": [
      "785.3981633974482\n",
      "785.3981633974482\n"
     ]
    }
   ],
   "source": [
    "print(cylinder_volume(10, 5))\n",
    "print(cylinder_volume(10))"
   ]
  },
  {
   "cell_type": "code",
   "execution_count": 76,
   "id": "b4e9d9d5",
   "metadata": {
    "ExecuteTime": {
     "end_time": "2022-11-04T00:45:41.314978Z",
     "start_time": "2022-11-04T00:45:36.082396Z"
    }
   },
   "outputs": [
    {
     "name": "stdout",
     "output_type": "stream",
     "text": [
      "1st: 4\n",
      "2nd: 7\n",
      "큰수 : 7\n"
     ]
    }
   ],
   "source": [
    "def max1(num1, num2):\n",
    "    if num1 > num2:\n",
    "        return num1\n",
    "    else:\n",
    "        return num2\n",
    "\n",
    "a = int(input('1st: '))\n",
    "b = int(input('2nd: '))\n",
    "print('큰수 : %d' % (max1(a,b)))"
   ]
  },
  {
   "cell_type": "code",
   "execution_count": 81,
   "id": "3c6d4a62",
   "metadata": {
    "ExecuteTime": {
     "end_time": "2022-11-04T00:47:39.817172Z",
     "start_time": "2022-11-04T00:47:39.804758Z"
    }
   },
   "outputs": [
    {
     "name": "stdout",
     "output_type": "stream",
     "text": [
      "0 번째, next number\n",
      "1 번째, next number\n",
      "2 번째, next number\n",
      "3 번째, crap\n",
      "4 번째, next number\n",
      "5 번째, next number\n",
      "6 번째, crap\n",
      "7 번째, next number\n",
      "8 번째, next number\n",
      "9 번째, crap\n",
      "10 번째, next number\n",
      "11 번째, next number\n",
      "12 번째, next number\n",
      "13 번째, crap\n",
      "14 번째, next number\n",
      "15 번째, next number\n",
      "16 번째, crap\n",
      "17 번째, next number\n",
      "18 번째, next number\n",
      "19 번째, crap\n",
      "20 번째, next number\n",
      "21 번째, next number\n",
      "22 번째, next number\n",
      "23 번째, crap\n",
      "24 번째, next number\n",
      "25 번째, next number\n",
      "26 번째, crap\n",
      "27 번째, next number\n",
      "28 번째, next number\n",
      "29 번째, crap\n"
     ]
    }
   ],
   "source": [
    "def game(num):\n",
    "    a = num//10\n",
    "    b = num % 10\n",
    "    if a == 3 or a == 6 or a == 9:\n",
    "        return 'crap'\n",
    "    elif b == 3 or b == 6 or b == 9:\n",
    "        return 'crap'\n",
    "    else:\n",
    "        return 'next number'\n",
    "\n",
    "for i in range(30):\n",
    "    print('%d 번째, %s' % (i, game(i)))"
   ]
  },
  {
   "cell_type": "markdown",
   "id": "d0e308e8",
   "metadata": {},
   "source": [
    "## 람다함수"
   ]
  },
  {
   "cell_type": "code",
   "execution_count": 82,
   "id": "a0a3a3c9",
   "metadata": {
    "ExecuteTime": {
     "end_time": "2022-11-04T00:48:39.728514Z",
     "start_time": "2022-11-04T00:48:39.721213Z"
    }
   },
   "outputs": [],
   "source": [
    "def plus_five(x):\n",
    "    return x + 5"
   ]
  },
  {
   "cell_type": "code",
   "execution_count": 83,
   "id": "ae6121ca",
   "metadata": {
    "ExecuteTime": {
     "end_time": "2022-11-04T00:48:44.019668Z",
     "start_time": "2022-11-04T00:48:44.011508Z"
    }
   },
   "outputs": [
    {
     "data": {
      "text/plain": [
       "15"
      ]
     },
     "execution_count": 83,
     "metadata": {},
     "output_type": "execute_result"
    }
   ],
   "source": [
    "plus_five(10)"
   ]
  },
  {
   "cell_type": "code",
   "execution_count": 84,
   "id": "61ea5db3",
   "metadata": {
    "ExecuteTime": {
     "end_time": "2022-11-04T00:49:08.826927Z",
     "start_time": "2022-11-04T00:49:08.821503Z"
    }
   },
   "outputs": [],
   "source": [
    "#간단한건 람다함수쓰래요\n",
    "plus_five_lambda = lambda x: x + 5"
   ]
  },
  {
   "cell_type": "code",
   "execution_count": 86,
   "id": "f4585bd9",
   "metadata": {
    "ExecuteTime": {
     "end_time": "2022-11-04T00:49:29.967245Z",
     "start_time": "2022-11-04T00:49:29.952381Z"
    }
   },
   "outputs": [
    {
     "data": {
      "text/plain": [
       "15"
      ]
     },
     "execution_count": 86,
     "metadata": {},
     "output_type": "execute_result"
    }
   ],
   "source": [
    "plus_five_lambda(10)"
   ]
  },
  {
   "cell_type": "code",
   "execution_count": 92,
   "id": "bda97d3d",
   "metadata": {
    "ExecuteTime": {
     "end_time": "2022-11-04T00:51:27.230060Z",
     "start_time": "2022-11-04T00:51:27.221460Z"
    }
   },
   "outputs": [
    {
     "name": "stdout",
     "output_type": "stream",
     "text": [
      "<map object at 0x7f985129e7c0>\n",
      "[15, 25, 35]\n",
      "[15, 25, 35]\n",
      "[15, 25, 35]\n"
     ]
    }
   ],
   "source": [
    "raw_list = [10, 20, 30]\n",
    "print(map(plus_five_lambda, raw_list))\n",
    "print(list(map(plus_five, raw_list)))\n",
    "print(list(map(plus_five_lambda, raw_list)))\n",
    "print(list(map(lambda x: x + 5, raw_list))) #추천!"
   ]
  },
  {
   "cell_type": "markdown",
   "id": "3114e887",
   "metadata": {},
   "source": [
    "# 리스트내포\n"
   ]
  },
  {
   "cell_type": "markdown",
   "id": "7786581b",
   "metadata": {
    "ExecuteTime": {
     "end_time": "2022-11-04T00:56:36.973115Z",
     "start_time": "2022-11-04T00:56:36.967234Z"
    }
   },
   "source": [
    "## 조건없음"
   ]
  },
  {
   "cell_type": "markdown",
   "id": "8d209731",
   "metadata": {},
   "source": [
    "[표현식 for 변수 in 항목들]"
   ]
  },
  {
   "cell_type": "code",
   "execution_count": 102,
   "id": "0f6d213e",
   "metadata": {
    "ExecuteTime": {
     "end_time": "2022-11-04T00:55:30.418623Z",
     "start_time": "2022-11-04T00:55:30.412117Z"
    }
   },
   "outputs": [
    {
     "name": "stdout",
     "output_type": "stream",
     "text": [
      "[-20, -10, 0, 10, 20]\n"
     ]
    }
   ],
   "source": [
    "list1 = [-20, -10, 0, 10, 20]\n",
    "result = []\n",
    "for i in list1:\n",
    "    result.append(i)\n",
    "print(result)"
   ]
  },
  {
   "cell_type": "code",
   "execution_count": 101,
   "id": "5a5120fe",
   "metadata": {
    "ExecuteTime": {
     "end_time": "2022-11-04T00:54:56.264570Z",
     "start_time": "2022-11-04T00:54:56.255342Z"
    }
   },
   "outputs": [
    {
     "data": {
      "text/plain": [
       "[-20, -10, 0, 10, 20]"
      ]
     },
     "execution_count": 101,
     "metadata": {},
     "output_type": "execute_result"
    }
   ],
   "source": [
    "[i for i in result]"
   ]
  },
  {
   "cell_type": "code",
   "execution_count": 104,
   "id": "fb010aed",
   "metadata": {
    "ExecuteTime": {
     "end_time": "2022-11-04T00:55:51.307186Z",
     "start_time": "2022-11-04T00:55:51.298827Z"
    }
   },
   "outputs": [
    {
     "name": "stdout",
     "output_type": "stream",
     "text": [
      "[-4.0, -2.0, 0.0, 2.0, 4.0]\n"
     ]
    }
   ],
   "source": [
    "list1 = [-20, -10, 0, 10, 20]\n",
    "result = []\n",
    "for i in list1:\n",
    "    result.append(i / 5)\n",
    "print(result)"
   ]
  },
  {
   "cell_type": "code",
   "execution_count": 106,
   "id": "1487d583",
   "metadata": {
    "ExecuteTime": {
     "end_time": "2022-11-04T00:56:06.777420Z",
     "start_time": "2022-11-04T00:56:06.768568Z"
    }
   },
   "outputs": [
    {
     "data": {
      "text/plain": [
       "[-4.0, -2.0, 0.0, 2.0, 4.0]"
      ]
     },
     "execution_count": 106,
     "metadata": {},
     "output_type": "execute_result"
    }
   ],
   "source": [
    "[i / 5 for i in list1]"
   ]
  },
  {
   "cell_type": "code",
   "execution_count": 107,
   "id": "a01d0ef0",
   "metadata": {
    "ExecuteTime": {
     "end_time": "2022-11-04T00:56:14.545193Z",
     "start_time": "2022-11-04T00:56:14.536879Z"
    }
   },
   "outputs": [
    {
     "data": {
      "text/plain": [
       "[400, 100, 0, 100, 400]"
      ]
     },
     "execution_count": 107,
     "metadata": {},
     "output_type": "execute_result"
    }
   ],
   "source": [
    "[i ** 2 for i in list1]"
   ]
  },
  {
   "cell_type": "markdown",
   "id": "8aafff68",
   "metadata": {
    "ExecuteTime": {
     "end_time": "2022-11-04T00:56:45.960414Z",
     "start_time": "2022-11-04T00:56:45.955566Z"
    }
   },
   "source": [
    "## 조건 있음"
   ]
  },
  {
   "cell_type": "markdown",
   "id": "90a719e7",
   "metadata": {},
   "source": [
    "[표현식 for 변수 in 항복들 if 조건] "
   ]
  },
  {
   "cell_type": "code",
   "execution_count": 112,
   "id": "68168412",
   "metadata": {
    "ExecuteTime": {
     "end_time": "2022-11-04T00:58:28.368745Z",
     "start_time": "2022-11-04T00:58:28.362452Z"
    }
   },
   "outputs": [
    {
     "name": "stdout",
     "output_type": "stream",
     "text": [
      "[-0.05, -0.1, 0.1, 0.05]\n"
     ]
    }
   ],
   "source": [
    "result = []\n",
    "for i in list1:\n",
    "    if i != 0:\n",
    "        result.append(1/ i)\n",
    "print(result)"
   ]
  },
  {
   "cell_type": "code",
   "execution_count": 111,
   "id": "8f0ca58f",
   "metadata": {
    "ExecuteTime": {
     "end_time": "2022-11-04T00:57:34.810412Z",
     "start_time": "2022-11-04T00:57:34.802072Z"
    }
   },
   "outputs": [
    {
     "data": {
      "text/plain": [
       "[-0.05, -0.1, 0.1, 0.05]"
      ]
     },
     "execution_count": 111,
     "metadata": {},
     "output_type": "execute_result"
    }
   ],
   "source": [
    "[1 / i for i in list1 if i != 0]"
   ]
  },
  {
   "cell_type": "code",
   "execution_count": 113,
   "id": "662c7bb9",
   "metadata": {
    "ExecuteTime": {
     "end_time": "2022-11-04T00:58:50.867859Z",
     "start_time": "2022-11-04T00:58:50.860373Z"
    }
   },
   "outputs": [
    {
     "data": {
      "text/plain": [
       "[0, 3, 6]"
      ]
     },
     "execution_count": 113,
     "metadata": {},
     "output_type": "execute_result"
    }
   ],
   "source": [
    "[num * 3 for num in range(3)]"
   ]
  },
  {
   "cell_type": "code",
   "execution_count": 114,
   "id": "3248407a",
   "metadata": {
    "ExecuteTime": {
     "end_time": "2022-11-04T00:59:12.867650Z",
     "start_time": "2022-11-04T00:59:12.856960Z"
    }
   },
   "outputs": [
    {
     "data": {
      "text/plain": [
       "[0, 6, 12, 18, 24]"
      ]
     },
     "execution_count": 114,
     "metadata": {},
     "output_type": "execute_result"
    }
   ],
   "source": [
    "[num * 3 for num in range(10) if num % 2 == 0]"
   ]
  },
  {
   "cell_type": "code",
   "execution_count": 125,
   "id": "6bc2cfcd",
   "metadata": {
    "ExecuteTime": {
     "end_time": "2022-11-04T01:03:02.748546Z",
     "start_time": "2022-11-04T01:03:02.737722Z"
    }
   },
   "outputs": [
    {
     "name": "stdout",
     "output_type": "stream",
     "text": [
      "['a', 'b', 'c', 'd', 'e', 'f', 'g', 'h', 'i', 'j', 'k', 'l', 'm', 'n', 'o', 'p', 'q', 'r', 's', 't', 'u', 'v', 'w', 'x', 'y', 'z']\n",
      "['A', 'B', 'C', 'D', 'E', 'F', 'G', 'H', 'I', 'J', 'K', 'L', 'M', 'N', 'O', 'P', 'Q', 'R', 'S', 'T', 'U', 'V', 'W', 'X', 'Y', 'Z']\n",
      "['A', 'B', 'C', 'D', 'E', 'F', 'G', 'H', 'I', 'J', 'K', 'L', 'M', 'N', 'O', 'P', 'Q', 'R', 'S', 'T', 'U', 'V', 'W', 'X', 'Y', 'Z', 'a', 'b', 'c', 'd', 'e', 'f', 'g', 'h', 'i', 'j', 'k', 'l', 'm', 'n', 'o', 'p', 'q', 'r', 's', 't']\n"
     ]
    }
   ],
   "source": [
    "# A = 65,.... Z = 96... a = 97 \n",
    "alpha = [chr(n) for n in range(97, 97 + 26)]\n",
    "print(alpha)\n",
    "\n",
    "ALPHA = [chr(n) for n in range(65, 65 + 26)]\n",
    "print(ALPHA)\n",
    "\n",
    "Aalpha = [chr(n) for n in range(65, 65 + 52) if n not in range(91, 97)]\n",
    "print(Aalpha)"
   ]
  },
  {
   "cell_type": "markdown",
   "id": "f51e4383",
   "metadata": {
    "ExecuteTime": {
     "end_time": "2022-11-04T01:03:21.414895Z",
     "start_time": "2022-11-04T01:03:21.409771Z"
    }
   },
   "source": [
    "# 정규표현식"
   ]
  },
  {
   "cell_type": "code",
   "execution_count": 128,
   "id": "ec9dfbf9",
   "metadata": {
    "ExecuteTime": {
     "end_time": "2022-11-04T01:03:38.800205Z",
     "start_time": "2022-11-04T01:03:38.794877Z"
    }
   },
   "outputs": [],
   "source": [
    "import re"
   ]
  },
  {
   "cell_type": "code",
   "execution_count": 133,
   "id": "b3643b4b",
   "metadata": {
    "ExecuteTime": {
     "end_time": "2022-11-04T01:04:45.017907Z",
     "start_time": "2022-11-04T01:04:45.008473Z"
    }
   },
   "outputs": [
    {
     "data": {
      "text/plain": [
       "<re.Match object; span=(0, 5), match='Hello'>"
      ]
     },
     "execution_count": 133,
     "metadata": {},
     "output_type": "execute_result"
    }
   ],
   "source": [
    "re.match('Hello', 'Hello, world!')"
   ]
  },
  {
   "cell_type": "code",
   "execution_count": 134,
   "id": "28809882",
   "metadata": {
    "ExecuteTime": {
     "end_time": "2022-11-04T01:04:46.350274Z",
     "start_time": "2022-11-04T01:04:46.345509Z"
    }
   },
   "outputs": [],
   "source": [
    "re.match('Python', 'Hello, world!')"
   ]
  },
  {
   "cell_type": "code",
   "execution_count": 135,
   "id": "041212b9",
   "metadata": {
    "ExecuteTime": {
     "end_time": "2022-11-04T01:06:18.535723Z",
     "start_time": "2022-11-04T01:06:18.526181Z"
    }
   },
   "outputs": [
    {
     "data": {
      "text/plain": [
       "<re.Match object; span=(0, 5), match='Hello'>"
      ]
     },
     "execution_count": 135,
     "metadata": {},
     "output_type": "execute_result"
    }
   ],
   "source": [
    "re.search('^Hello', 'Hello, world!')#일부분 매치 확인"
   ]
  },
  {
   "cell_type": "code",
   "execution_count": 138,
   "id": "156fc389",
   "metadata": {
    "ExecuteTime": {
     "end_time": "2022-11-04T01:06:51.990321Z",
     "start_time": "2022-11-04T01:06:51.985485Z"
    }
   },
   "outputs": [],
   "source": [
    "re.search('^world', 'Hello, world!')"
   ]
  },
  {
   "cell_type": "code",
   "execution_count": 139,
   "id": "881db1ee",
   "metadata": {
    "ExecuteTime": {
     "end_time": "2022-11-04T01:06:53.280975Z",
     "start_time": "2022-11-04T01:06:53.272257Z"
    }
   },
   "outputs": [
    {
     "data": {
      "text/plain": [
       "<re.Match object; span=(7, 13), match='world!'>"
      ]
     },
     "execution_count": 139,
     "metadata": {},
     "output_type": "execute_result"
    }
   ],
   "source": [
    "re.search('world!$', 'Hello, world!')"
   ]
  },
  {
   "cell_type": "code",
   "execution_count": 153,
   "id": "456e97af",
   "metadata": {
    "ExecuteTime": {
     "end_time": "2022-11-04T01:08:15.001186Z",
     "start_time": "2022-11-04T01:08:14.995938Z"
    }
   },
   "outputs": [],
   "source": [
    "#특정문자열포함?\n",
    "re.match('hello|world', 'Hello, world!')"
   ]
  },
  {
   "cell_type": "code",
   "execution_count": 154,
   "id": "d8602506",
   "metadata": {
    "ExecuteTime": {
     "end_time": "2022-11-04T01:08:39.504846Z",
     "start_time": "2022-11-04T01:08:39.495865Z"
    }
   },
   "outputs": [
    {
     "data": {
      "text/plain": [
       "<re.Match object; span=(0, 6), match='123456'>"
      ]
     },
     "execution_count": 154,
     "metadata": {},
     "output_type": "execute_result"
    }
   ],
   "source": [
    "re.match('[0-9]*', '123456')"
   ]
  },
  {
   "cell_type": "code",
   "execution_count": 156,
   "id": "a52b120a",
   "metadata": {
    "ExecuteTime": {
     "end_time": "2022-11-04T01:09:47.132573Z",
     "start_time": "2022-11-04T01:09:47.124552Z"
    }
   },
   "outputs": [
    {
     "data": {
      "text/plain": [
       "<re.Match object; span=(0, 9), match='123456789'>"
      ]
     },
     "execution_count": 156,
     "metadata": {},
     "output_type": "execute_result"
    }
   ],
   "source": [
    "re.match('[0-9]+', '123456789abcde')"
   ]
  },
  {
   "cell_type": "code",
   "execution_count": 158,
   "id": "460c9b50",
   "metadata": {
    "ExecuteTime": {
     "end_time": "2022-11-04T01:10:04.477218Z",
     "start_time": "2022-11-04T01:10:04.472608Z"
    }
   },
   "outputs": [],
   "source": [
    "re.match('[0-9]+', 'abcde')"
   ]
  },
  {
   "cell_type": "code",
   "execution_count": 159,
   "id": "5e327421",
   "metadata": {
    "ExecuteTime": {
     "end_time": "2022-11-04T01:10:25.118119Z",
     "start_time": "2022-11-04T01:10:25.108898Z"
    }
   },
   "outputs": [
    {
     "data": {
      "text/plain": [
       "<re.Match object; span=(0, 1), match='b'>"
      ]
     },
     "execution_count": 159,
     "metadata": {},
     "output_type": "execute_result"
    }
   ],
   "source": [
    "re.match('a*b', 'b')"
   ]
  },
  {
   "cell_type": "code",
   "execution_count": 160,
   "id": "8df1e4a7",
   "metadata": {
    "ExecuteTime": {
     "end_time": "2022-11-04T01:10:33.254016Z",
     "start_time": "2022-11-04T01:10:33.247797Z"
    }
   },
   "outputs": [],
   "source": [
    "re.match('a+b', 'b')"
   ]
  },
  {
   "cell_type": "code",
   "execution_count": 161,
   "id": "d03fdc20",
   "metadata": {
    "ExecuteTime": {
     "end_time": "2022-11-04T01:10:48.936413Z",
     "start_time": "2022-11-04T01:10:48.928098Z"
    }
   },
   "outputs": [
    {
     "data": {
      "text/plain": [
       "<re.Match object; span=(0, 3), match='aab'>"
      ]
     },
     "execution_count": 161,
     "metadata": {},
     "output_type": "execute_result"
    }
   ],
   "source": [
    "re.match('a*b', 'aab')"
   ]
  },
  {
   "cell_type": "code",
   "execution_count": 162,
   "id": "d9d166f4",
   "metadata": {
    "ExecuteTime": {
     "end_time": "2022-11-04T01:10:55.526598Z",
     "start_time": "2022-11-04T01:10:55.518409Z"
    }
   },
   "outputs": [
    {
     "data": {
      "text/plain": [
       "<re.Match object; span=(0, 3), match='aab'>"
      ]
     },
     "execution_count": 162,
     "metadata": {},
     "output_type": "execute_result"
    }
   ],
   "source": [
    "re.match('a+b', 'aab')"
   ]
  },
  {
   "cell_type": "code",
   "execution_count": 163,
   "id": "71971348",
   "metadata": {
    "ExecuteTime": {
     "end_time": "2022-11-04T01:11:24.491742Z",
     "start_time": "2022-11-04T01:11:24.469084Z"
    }
   },
   "outputs": [
    {
     "data": {
      "text/plain": [
       "<re.Match object; span=(0, 3), match='abd'>"
      ]
     },
     "execution_count": 163,
     "metadata": {},
     "output_type": "execute_result"
    }
   ],
   "source": [
    "re.match('abc?d', 'abd')"
   ]
  },
  {
   "cell_type": "code",
   "execution_count": 165,
   "id": "10a8a1f6",
   "metadata": {
    "ExecuteTime": {
     "end_time": "2022-11-04T01:12:00.372980Z",
     "start_time": "2022-11-04T01:12:00.365730Z"
    }
   },
   "outputs": [
    {
     "data": {
      "text/plain": [
       "<re.Match object; span=(0, 3), match='abd'>"
      ]
     },
     "execution_count": 165,
     "metadata": {},
     "output_type": "execute_result"
    }
   ],
   "source": [
    "re.match('ab[0-9]?d', 'abd') #숫자 한개 or 0개 허용"
   ]
  },
  {
   "cell_type": "code",
   "execution_count": 166,
   "id": "14658773",
   "metadata": {
    "ExecuteTime": {
     "end_time": "2022-11-04T01:12:07.501779Z",
     "start_time": "2022-11-04T01:12:07.494025Z"
    }
   },
   "outputs": [
    {
     "data": {
      "text/plain": [
       "<re.Match object; span=(0, 4), match='ab0d'>"
      ]
     },
     "execution_count": 166,
     "metadata": {},
     "output_type": "execute_result"
    }
   ],
   "source": [
    "re.match('ab[0-9]?d', 'ab0d')"
   ]
  },
  {
   "cell_type": "code",
   "execution_count": 167,
   "id": "7feb124f",
   "metadata": {
    "ExecuteTime": {
     "end_time": "2022-11-04T01:12:11.948564Z",
     "start_time": "2022-11-04T01:12:11.940678Z"
    }
   },
   "outputs": [],
   "source": [
    "re.match('ab[0-9]?d', 'ab01d')"
   ]
  },
  {
   "cell_type": "code",
   "execution_count": 169,
   "id": "ec21ac4c",
   "metadata": {
    "ExecuteTime": {
     "end_time": "2022-11-04T01:12:51.214150Z",
     "start_time": "2022-11-04T01:12:51.207073Z"
    }
   },
   "outputs": [],
   "source": [
    "re.match('ab.d', 'abd')#.은 와일드카드"
   ]
  },
  {
   "cell_type": "code",
   "execution_count": 170,
   "id": "65a0e2eb",
   "metadata": {
    "ExecuteTime": {
     "end_time": "2022-11-04T01:13:00.187812Z",
     "start_time": "2022-11-04T01:13:00.176478Z"
    }
   },
   "outputs": [
    {
     "data": {
      "text/plain": [
       "<re.Match object; span=(0, 4), match='abcd'>"
      ]
     },
     "execution_count": 170,
     "metadata": {},
     "output_type": "execute_result"
    }
   ],
   "source": [
    "re.match('ab.d', 'abcd')"
   ]
  },
  {
   "cell_type": "code",
   "execution_count": 171,
   "id": "777361ea",
   "metadata": {
    "ExecuteTime": {
     "end_time": "2022-11-04T01:13:43.927421Z",
     "start_time": "2022-11-04T01:13:43.912183Z"
    }
   },
   "outputs": [
    {
     "data": {
      "text/plain": [
       "<re.Match object; span=(0, 3), match='hhh'>"
      ]
     },
     "execution_count": 171,
     "metadata": {},
     "output_type": "execute_result"
    }
   ],
   "source": [
    "re.match('h{3}', 'hhhello')"
   ]
  },
  {
   "cell_type": "code",
   "execution_count": 172,
   "id": "cc775bda",
   "metadata": {
    "ExecuteTime": {
     "end_time": "2022-11-04T01:14:06.466376Z",
     "start_time": "2022-11-04T01:14:06.457840Z"
    }
   },
   "outputs": [
    {
     "data": {
      "text/plain": [
       "<re.Match object; span=(0, 15), match='hellohellohello'>"
      ]
     },
     "execution_count": 172,
     "metadata": {},
     "output_type": "execute_result"
    }
   ],
   "source": [
    "re.match('(hello){3}', 'hellohellohelloworld')"
   ]
  },
  {
   "cell_type": "code",
   "execution_count": 174,
   "id": "dcd702fa",
   "metadata": {
    "ExecuteTime": {
     "end_time": "2022-11-04T01:15:00.293111Z",
     "start_time": "2022-11-04T01:15:00.283307Z"
    }
   },
   "outputs": [
    {
     "data": {
      "text/plain": [
       "<re.Match object; span=(0, 13), match='010-2419-0303'>"
      ]
     },
     "execution_count": 174,
     "metadata": {},
     "output_type": "execute_result"
    }
   ],
   "source": [
    "re.match('[0-9]{3}-?[0-9]{4}-?[0-9]{4}', '010-2419-0303')"
   ]
  },
  {
   "cell_type": "code",
   "execution_count": 175,
   "id": "5ebc1b44",
   "metadata": {
    "ExecuteTime": {
     "end_time": "2022-11-04T01:15:08.944339Z",
     "start_time": "2022-11-04T01:15:08.936588Z"
    }
   },
   "outputs": [
    {
     "data": {
      "text/plain": [
       "<re.Match object; span=(0, 12), match='010-24190303'>"
      ]
     },
     "execution_count": 175,
     "metadata": {},
     "output_type": "execute_result"
    }
   ],
   "source": [
    "re.match('[0-9]{3}-?[0-9]{4}-?[0-9]{4}', '010-24190303')"
   ]
  },
  {
   "cell_type": "code",
   "execution_count": 176,
   "id": "4c6abb15",
   "metadata": {
    "ExecuteTime": {
     "end_time": "2022-11-04T01:15:13.493263Z",
     "start_time": "2022-11-04T01:15:13.485598Z"
    }
   },
   "outputs": [
    {
     "data": {
      "text/plain": [
       "<re.Match object; span=(0, 11), match='01024190303'>"
      ]
     },
     "execution_count": 176,
     "metadata": {},
     "output_type": "execute_result"
    }
   ],
   "source": [
    "re.match('[0-9]{3}-?[0-9]{4}-?[0-9]{4}', '01024190303')"
   ]
  },
  {
   "cell_type": "code",
   "execution_count": 177,
   "id": "e0b8a8f9",
   "metadata": {
    "ExecuteTime": {
     "end_time": "2022-11-04T01:15:45.703930Z",
     "start_time": "2022-11-04T01:15:45.694321Z"
    }
   },
   "outputs": [
    {
     "data": {
      "text/plain": [
       "<re.Match object; span=(0, 12), match='010-24190303'>"
      ]
     },
     "execution_count": 177,
     "metadata": {},
     "output_type": "execute_result"
    }
   ],
   "source": [
    "re.match('010-?[0-9]{4}-?[0-9]{4}', '010-24190303')"
   ]
  },
  {
   "cell_type": "code",
   "execution_count": 178,
   "id": "9e6d135b",
   "metadata": {
    "ExecuteTime": {
     "end_time": "2022-11-04T01:15:49.918457Z",
     "start_time": "2022-11-04T01:15:49.912815Z"
    }
   },
   "outputs": [],
   "source": [
    "re.match('010-?[0-9]{4}-?[0-9]{4}', '017-24190303')"
   ]
  },
  {
   "cell_type": "code",
   "execution_count": 179,
   "id": "0ac67645",
   "metadata": {
    "ExecuteTime": {
     "end_time": "2022-11-04T01:16:16.185591Z",
     "start_time": "2022-11-04T01:16:16.179663Z"
    }
   },
   "outputs": [],
   "source": [
    "re.match('[a-zA-Z]+', '1234')"
   ]
  },
  {
   "cell_type": "code",
   "execution_count": 180,
   "id": "8f039756",
   "metadata": {
    "ExecuteTime": {
     "end_time": "2022-11-04T01:16:19.565708Z",
     "start_time": "2022-11-04T01:16:19.561671Z"
    }
   },
   "outputs": [],
   "source": [
    "re.match('[a-zA-Z]+', '123a4')"
   ]
  },
  {
   "cell_type": "code",
   "execution_count": 181,
   "id": "348da614",
   "metadata": {
    "ExecuteTime": {
     "end_time": "2022-11-04T01:16:34.908365Z",
     "start_time": "2022-11-04T01:16:34.899485Z"
    }
   },
   "outputs": [
    {
     "data": {
      "text/plain": [
       "<re.Match object; span=(0, 1), match='a'>"
      ]
     },
     "execution_count": 181,
     "metadata": {},
     "output_type": "execute_result"
    }
   ],
   "source": [
    "re.match('[a-zA-Z]+', 'a1234')"
   ]
  },
  {
   "cell_type": "code",
   "execution_count": 182,
   "id": "87e328f3",
   "metadata": {
    "ExecuteTime": {
     "end_time": "2022-11-04T01:16:45.996055Z",
     "start_time": "2022-11-04T01:16:45.988351Z"
    }
   },
   "outputs": [
    {
     "data": {
      "text/plain": [
       "<re.Match object; span=(0, 1), match='A'>"
      ]
     },
     "execution_count": 182,
     "metadata": {},
     "output_type": "execute_result"
    }
   ],
   "source": [
    "re.match('[A-Z]+', 'A1234')"
   ]
  },
  {
   "cell_type": "code",
   "execution_count": 184,
   "id": "650bcc67",
   "metadata": {
    "ExecuteTime": {
     "end_time": "2022-11-04T01:17:25.977454Z",
     "start_time": "2022-11-04T01:17:25.967574Z"
    }
   },
   "outputs": [
    {
     "data": {
      "text/plain": [
       "<re.Match object; span=(0, 1), match='웅'>"
      ]
     },
     "execution_count": 184,
     "metadata": {},
     "output_type": "execute_result"
    }
   ],
   "source": [
    "re.match('[가-힣]+', '웅1234')"
   ]
  },
  {
   "cell_type": "code",
   "execution_count": 185,
   "id": "ce0611ef",
   "metadata": {
    "ExecuteTime": {
     "end_time": "2022-11-04T01:17:36.011450Z",
     "start_time": "2022-11-04T01:17:36.002453Z"
    }
   },
   "outputs": [
    {
     "data": {
      "text/plain": [
       "<re.Match object; span=(0, 1), match='가'>"
      ]
     },
     "execution_count": 185,
     "metadata": {},
     "output_type": "execute_result"
    }
   ],
   "source": [
    "re.match('[가-힣]+', '가abc')"
   ]
  },
  {
   "cell_type": "code",
   "execution_count": 186,
   "id": "a6ad0c42",
   "metadata": {
    "ExecuteTime": {
     "end_time": "2022-11-04T01:18:04.857423Z",
     "start_time": "2022-11-04T01:18:04.847631Z"
    }
   },
   "outputs": [
    {
     "data": {
      "text/plain": [
       "<re.Match object; span=(0, 5), match='hello'>"
      ]
     },
     "execution_count": 186,
     "metadata": {},
     "output_type": "execute_result"
    }
   ],
   "source": [
    "#대괄호 안의 ^는 이 문자패턴을 제외한 것들을 의미\n",
    "re.match('[^A-Z]+', 'hello')"
   ]
  },
  {
   "cell_type": "code",
   "execution_count": 187,
   "id": "4fab6eab",
   "metadata": {
    "ExecuteTime": {
     "end_time": "2022-11-04T01:18:33.991736Z",
     "start_time": "2022-11-04T01:18:33.983486Z"
    }
   },
   "outputs": [],
   "source": [
    "re.match('[^A-Z]+', 'Hello')"
   ]
  },
  {
   "cell_type": "code",
   "execution_count": 188,
   "id": "ca61858a",
   "metadata": {
    "ExecuteTime": {
     "end_time": "2022-11-04T01:51:30.964244Z",
     "start_time": "2022-11-04T01:51:30.956258Z"
    }
   },
   "outputs": [],
   "source": [
    "re.search('[0-9]+$', 'asdfa')"
   ]
  },
  {
   "cell_type": "code",
   "execution_count": 189,
   "id": "1296e517",
   "metadata": {
    "ExecuteTime": {
     "end_time": "2022-11-04T01:51:35.835116Z",
     "start_time": "2022-11-04T01:51:35.829165Z"
    }
   },
   "outputs": [
    {
     "data": {
      "text/plain": [
       "<re.Match object; span=(5, 6), match='1'>"
      ]
     },
     "execution_count": 189,
     "metadata": {},
     "output_type": "execute_result"
    }
   ],
   "source": [
    "re.search('[0-9]+$', 'asdfa1')"
   ]
  },
  {
   "cell_type": "code",
   "execution_count": 190,
   "id": "e05aea06",
   "metadata": {
    "ExecuteTime": {
     "end_time": "2022-11-04T01:52:16.171524Z",
     "start_time": "2022-11-04T01:52:16.167429Z"
    }
   },
   "outputs": [
    {
     "data": {
      "text/plain": [
       "<re.Match object; span=(1, 2), match='*'>"
      ]
     },
     "execution_count": 190,
     "metadata": {},
     "output_type": "execute_result"
    }
   ],
   "source": [
    "#특수문자\n",
    "\n",
    "re.search('\\*', ' ** 2')"
   ]
  },
  {
   "cell_type": "code",
   "execution_count": 191,
   "id": "3ab3bf5f",
   "metadata": {
    "ExecuteTime": {
     "end_time": "2022-11-04T01:52:30.046639Z",
     "start_time": "2022-11-04T01:52:30.037532Z"
    }
   },
   "outputs": [
    {
     "data": {
      "text/plain": [
       "<re.Match object; span=(4, 5), match='2'>"
      ]
     },
     "execution_count": 191,
     "metadata": {},
     "output_type": "execute_result"
    }
   ],
   "source": [
    "re.search('\\d', ' ** 2')"
   ]
  },
  {
   "cell_type": "code",
   "execution_count": 193,
   "id": "d0cfc74d",
   "metadata": {
    "ExecuteTime": {
     "end_time": "2022-11-04T01:52:43.771477Z",
     "start_time": "2022-11-04T01:52:43.764233Z"
    }
   },
   "outputs": [
    {
     "data": {
      "text/plain": [
       "<re.Match object; span=(5, 6), match='%'>"
      ]
     },
     "execution_count": 193,
     "metadata": {},
     "output_type": "execute_result"
    }
   ],
   "source": [
    "re.search('\\%', ' ** 2%')"
   ]
  },
  {
   "cell_type": "code",
   "execution_count": 194,
   "id": "dc6a0dce",
   "metadata": {
    "ExecuteTime": {
     "end_time": "2022-11-04T01:53:23.774933Z",
     "start_time": "2022-11-04T01:53:23.765533Z"
    }
   },
   "outputs": [
    {
     "data": {
      "text/plain": [
       "<re.Match object; span=(0, 1), match='$'>"
      ]
     },
     "execution_count": 194,
     "metadata": {},
     "output_type": "execute_result"
    }
   ],
   "source": [
    "re.match('[$()]+', '$document') #하나라도 있는지 확인"
   ]
  },
  {
   "cell_type": "code",
   "execution_count": 195,
   "id": "976f262c",
   "metadata": {
    "ExecuteTime": {
     "end_time": "2022-11-04T01:54:34.243079Z",
     "start_time": "2022-11-04T01:54:34.230231Z"
    }
   },
   "outputs": [
    {
     "data": {
      "text/plain": [
       "<re.Match object; span=(0, 2), match='($'>"
      ]
     },
     "execution_count": 195,
     "metadata": {},
     "output_type": "execute_result"
    }
   ],
   "source": [
    "re.match('[$()]+', '(document)') #하나라도 있는지 확인"
   ]
  },
  {
   "cell_type": "code",
   "execution_count": 196,
   "id": "bf78756b",
   "metadata": {
    "ExecuteTime": {
     "end_time": "2022-11-04T01:54:58.916293Z",
     "start_time": "2022-11-04T01:54:58.907268Z"
    }
   },
   "outputs": [
    {
     "data": {
      "text/plain": [
       "<re.Match object; span=(0, 9), match='123421341'>"
      ]
     },
     "execution_count": 196,
     "metadata": {},
     "output_type": "execute_result"
    }
   ],
   "source": [
    "re.match('\\d+', '123421341') #[0-9]"
   ]
  },
  {
   "cell_type": "code",
   "execution_count": 197,
   "id": "ee815998",
   "metadata": {
    "ExecuteTime": {
     "end_time": "2022-11-04T01:55:08.174926Z",
     "start_time": "2022-11-04T01:55:08.167182Z"
    }
   },
   "outputs": [
    {
     "data": {
      "text/plain": [
       "<re.Match object; span=(0, 6), match='123421'>"
      ]
     },
     "execution_count": 197,
     "metadata": {},
     "output_type": "execute_result"
    }
   ],
   "source": [
    "re.match('\\d+', '123421abc')"
   ]
  },
  {
   "cell_type": "code",
   "execution_count": 198,
   "id": "d34fa81a",
   "metadata": {
    "ExecuteTime": {
     "end_time": "2022-11-04T01:55:20.748991Z",
     "start_time": "2022-11-04T01:55:20.742501Z"
    }
   },
   "outputs": [],
   "source": [
    "re.match('\\D+', '123421abc')#[^0-9]"
   ]
  },
  {
   "cell_type": "code",
   "execution_count": 199,
   "id": "5a4ca5d6",
   "metadata": {
    "ExecuteTime": {
     "end_time": "2022-11-04T01:55:32.846129Z",
     "start_time": "2022-11-04T01:55:32.837710Z"
    }
   },
   "outputs": [
    {
     "data": {
      "text/plain": [
       "<re.Match object; span=(0, 3), match='abc'>"
      ]
     },
     "execution_count": 199,
     "metadata": {},
     "output_type": "execute_result"
    }
   ],
   "source": [
    "re.match('\\D+', 'abc')"
   ]
  },
  {
   "cell_type": "code",
   "execution_count": 201,
   "id": "817a6f88",
   "metadata": {
    "ExecuteTime": {
     "end_time": "2022-11-04T01:57:04.661385Z",
     "start_time": "2022-11-04T01:57:04.652165Z"
    }
   },
   "outputs": [
    {
     "name": "stdout",
     "output_type": "stream",
     "text": [
      "None\n",
      "<re.Match object; span=(7, 8), match='#'>\n"
     ]
    }
   ],
   "source": [
    "print(re.search('\\W+', \"asdfasdf\"))\n",
    "print(re.search('\\W+', \"asdfasd#f\"))\n"
   ]
  },
  {
   "cell_type": "code",
   "execution_count": 204,
   "id": "7a5ce9bc",
   "metadata": {
    "ExecuteTime": {
     "end_time": "2022-11-04T01:58:00.123411Z",
     "start_time": "2022-11-04T01:58:00.116166Z"
    }
   },
   "outputs": [
    {
     "name": "stdout",
     "output_type": "stream",
     "text": [
      "<re.Match object; span=(0, 14), match='asdfasdfas 234'>\n",
      "<re.Match object; span=(0, 14), match='asdfasdfas 234'>\n"
     ]
    }
   ],
   "source": [
    "print(re.match('[a-zA-Z0-9 ]+', \"asdfasdfas 234\"))\n",
    "print(re.search('[a-zA-Z0-9 ]+', \"asdfasdfas 234\"))"
   ]
  },
  {
   "cell_type": "code",
   "execution_count": 207,
   "id": "38f62790",
   "metadata": {
    "ExecuteTime": {
     "end_time": "2022-11-04T01:59:42.231189Z",
     "start_time": "2022-11-04T01:59:42.223261Z"
    }
   },
   "outputs": [
    {
     "name": "stdout",
     "output_type": "stream",
     "text": [
      "<re.Match object; span=(0, 4), match='1324'>\n",
      "None\n"
     ]
    }
   ],
   "source": [
    "#표현식을 할때마다하는게 귀찮으니 객체화\n",
    "p = re.compile('[0-9]+')\n",
    "print(p.match('1324'))\n",
    "print(p.match('abc'))"
   ]
  },
  {
   "cell_type": "code",
   "execution_count": 210,
   "id": "ddc6f407",
   "metadata": {
    "ExecuteTime": {
     "end_time": "2022-11-04T02:01:45.775874Z",
     "start_time": "2022-11-04T02:01:45.767947Z"
    }
   },
   "outputs": [
    {
     "name": "stdout",
     "output_type": "stream",
     "text": [
      "He\n",
      "He\n"
     ]
    }
   ],
   "source": [
    "text = 'Hello world'\n",
    "print(re.match('^[A-Za-z]{2}', text).group()) #찾은 값 반환\n",
    "x = re.match('^[A-Za-z]{2}', text)\n",
    "print(x.group())"
   ]
  },
  {
   "cell_type": "code",
   "execution_count": null,
   "id": "b8e1f3ec",
   "metadata": {},
   "outputs": [],
   "source": []
  },
  {
   "cell_type": "code",
   "execution_count": 215,
   "id": "fa1c71a5",
   "metadata": {
    "ExecuteTime": {
     "end_time": "2022-11-04T02:03:09.814105Z",
     "start_time": "2022-11-04T02:03:09.806706Z"
    }
   },
   "outputs": [
    {
     "data": {
      "text/plain": [
       "<re.Match object; span=(0, 5), match='Hello'>"
      ]
     },
     "execution_count": 215,
     "metadata": {},
     "output_type": "execute_result"
    }
   ],
   "source": [
    "text = 'Hello World'\n",
    "re.search('[A-Za-z]{2,}', text)"
   ]
  },
  {
   "cell_type": "code",
   "execution_count": 214,
   "id": "65a59ef4",
   "metadata": {
    "ExecuteTime": {
     "end_time": "2022-11-04T02:03:07.835750Z",
     "start_time": "2022-11-04T02:03:07.827028Z"
    }
   },
   "outputs": [
    {
     "data": {
      "text/plain": [
       "['Hello', 'World']"
      ]
     },
     "execution_count": 214,
     "metadata": {},
     "output_type": "execute_result"
    }
   ],
   "source": [
    "re.findall('[A-Za-z]{2,}', text) #모두 찾고 싶을때는 findall"
   ]
  },
  {
   "cell_type": "markdown",
   "id": "bda2e354",
   "metadata": {},
   "source": [
    "# numpy"
   ]
  },
  {
   "cell_type": "markdown",
   "id": "8b1c9ea3",
   "metadata": {},
   "source": [
    "## 개념 및 특징"
   ]
  },
  {
   "cell_type": "markdown",
   "id": "2153de51",
   "metadata": {},
   "source": [
    "넘파이는 C로 작성된 고성능 수치계산 위한 라이브러리  \n",
    "판다스나, 맷플롯립을 기반으로 넘파이를 사용.  \n",
    "넘파이는 기본으로 array를 기반으로 사용함.  \n",
    "파이썬의 리스트 자료형과 비슷하지만, C를 기반으로 했기 때문에 더 빠르고 메모리를 효율적으로 관리한다.  \n",
    "복잡한 선형대수 연산, 쿼리기능도 가능.  \n",
    "\n"
   ]
  },
  {
   "cell_type": "code",
   "execution_count": 1,
   "id": "dfdd0228",
   "metadata": {
    "ExecuteTime": {
     "end_time": "2022-11-22T04:11:46.590950Z",
     "start_time": "2022-11-22T04:11:45.230587Z"
    }
   },
   "outputs": [],
   "source": [
    "import numpy as np"
   ]
  },
  {
   "cell_type": "markdown",
   "id": "f3803662",
   "metadata": {},
   "source": [
    "## 배열"
   ]
  },
  {
   "cell_type": "markdown",
   "id": "1020d4c2",
   "metadata": {},
   "source": [
    "- 2차원 배열 : \n",
    "    - axis 0 : x축\n",
    "    - axis 1 : y축\n",
    "- 3차원 배열 : \n",
    "    - axis 0 : 높이\n",
    "    - axis 1 : x축\n",
    "    - axis 2 : y축\n",
    "    \n"
   ]
  },
  {
   "cell_type": "code",
   "execution_count": 6,
   "id": "402fa198",
   "metadata": {
    "ExecuteTime": {
     "end_time": "2022-11-22T04:18:26.913072Z",
     "start_time": "2022-11-22T04:18:26.905575Z"
    }
   },
   "outputs": [
    {
     "data": {
      "text/plain": [
       "array([1, 2, 3, 4, 5])"
      ]
     },
     "execution_count": 6,
     "metadata": {},
     "output_type": "execute_result"
    }
   ],
   "source": [
    "arr = np.array([1,2,3,4,5])\n",
    "arr"
   ]
  },
  {
   "cell_type": "code",
   "execution_count": 7,
   "id": "1fc578d6",
   "metadata": {
    "ExecuteTime": {
     "end_time": "2022-11-22T04:18:27.504741Z",
     "start_time": "2022-11-22T04:18:27.496958Z"
    }
   },
   "outputs": [
    {
     "name": "stdout",
     "output_type": "stream",
     "text": [
      "[1 2 3 4 5]\n"
     ]
    }
   ],
   "source": [
    "print(arr)"
   ]
  },
  {
   "cell_type": "code",
   "execution_count": 8,
   "id": "9a5af382",
   "metadata": {
    "ExecuteTime": {
     "end_time": "2022-11-22T04:18:32.035254Z",
     "start_time": "2022-11-22T04:18:32.029456Z"
    }
   },
   "outputs": [
    {
     "data": {
      "text/plain": [
       "numpy.ndarray"
      ]
     },
     "execution_count": 8,
     "metadata": {},
     "output_type": "execute_result"
    }
   ],
   "source": [
    "type(arr)"
   ]
  },
  {
   "cell_type": "code",
   "execution_count": 12,
   "id": "9e1ee20b",
   "metadata": {
    "ExecuteTime": {
     "end_time": "2022-11-22T04:19:15.673520Z",
     "start_time": "2022-11-22T04:19:15.663224Z"
    }
   },
   "outputs": [
    {
     "name": "stdout",
     "output_type": "stream",
     "text": [
      "[[1 2 3]\n",
      " [4 5 6]]\n"
     ]
    }
   ],
   "source": [
    "arr2d = np.array([[1,2,3],[4,5,6]])\n",
    "print(arr2d)"
   ]
  },
  {
   "cell_type": "code",
   "execution_count": 18,
   "id": "8347d2f3",
   "metadata": {
    "ExecuteTime": {
     "end_time": "2022-11-22T04:21:14.599169Z",
     "start_time": "2022-11-22T04:21:14.591207Z"
    }
   },
   "outputs": [
    {
     "name": "stdout",
     "output_type": "stream",
     "text": [
      "[[[ 1  2  3]\n",
      "  [ 4  5  6]\n",
      "  [ 7  8  9]]\n",
      "\n",
      " [[10 11 12]\n",
      "  [13 14 15]\n",
      "  [16 17 18]]\n",
      "\n",
      " [[19 20 21]\n",
      "  [22 23 24]\n",
      "  [25 26 27]]]\n"
     ]
    }
   ],
   "source": [
    "arr3d = np.array([[[1,2,3],[4,5,6],[7,8,9]],\n",
    "                [[10,11,12],[13,14,15],[16,17,18]],\n",
    "                 [[19,20,21], [22,23,24], [25,26,27]]])\n",
    "print(arr3d)"
   ]
  },
  {
   "cell_type": "markdown",
   "id": "bd6ab3ac",
   "metadata": {
    "ExecuteTime": {
     "end_time": "2022-11-22T04:21:58.359794Z",
     "start_time": "2022-11-22T04:21:58.355735Z"
    }
   },
   "source": [
    "## 배열생성 함수들\n",
    "\n"
   ]
  },
  {
   "cell_type": "code",
   "execution_count": 23,
   "id": "e78088b2",
   "metadata": {
    "ExecuteTime": {
     "end_time": "2022-11-22T04:22:47.911114Z",
     "start_time": "2022-11-22T04:22:47.905863Z"
    }
   },
   "outputs": [
    {
     "name": "stdout",
     "output_type": "stream",
     "text": [
      "[0. 0. 0. 0. 0. 0. 0. 0. 0. 0.]\n"
     ]
    }
   ],
   "source": [
    "a = np.zeros(10)\n",
    "print(a)"
   ]
  },
  {
   "cell_type": "code",
   "execution_count": 24,
   "id": "06995a70",
   "metadata": {
    "ExecuteTime": {
     "end_time": "2022-11-22T04:23:01.826289Z",
     "start_time": "2022-11-22T04:23:01.821411Z"
    }
   },
   "outputs": [
    {
     "name": "stdout",
     "output_type": "stream",
     "text": [
      "[[0. 0. 0.]\n",
      " [0. 0. 0.]\n",
      " [0. 0. 0.]]\n"
     ]
    }
   ],
   "source": [
    "b = np.zeros((3,3))\n",
    "print(b)"
   ]
  },
  {
   "cell_type": "code",
   "execution_count": 26,
   "id": "2ae32d92",
   "metadata": {
    "ExecuteTime": {
     "end_time": "2022-11-22T04:23:15.805036Z",
     "start_time": "2022-11-22T04:23:15.797418Z"
    }
   },
   "outputs": [
    {
     "name": "stdout",
     "output_type": "stream",
     "text": [
      "[1. 1. 1. 1. 1. 1. 1. 1. 1. 1.]\n"
     ]
    }
   ],
   "source": [
    "c = np.ones(10)\n",
    "print(c)"
   ]
  },
  {
   "cell_type": "code",
   "execution_count": 27,
   "id": "413b667d",
   "metadata": {
    "ExecuteTime": {
     "end_time": "2022-11-22T04:23:29.227909Z",
     "start_time": "2022-11-22T04:23:29.221657Z"
    }
   },
   "outputs": [
    {
     "name": "stdout",
     "output_type": "stream",
     "text": [
      "[[1. 1. 1. 1. 1.]\n",
      " [1. 1. 1. 1. 1.]\n",
      " [1. 1. 1. 1. 1.]\n",
      " [1. 1. 1. 1. 1.]\n",
      " [1. 1. 1. 1. 1.]]\n"
     ]
    }
   ],
   "source": [
    "d = np.ones((5,5))\n",
    "print(d)"
   ]
  },
  {
   "cell_type": "code",
   "execution_count": 32,
   "id": "9d7b9559",
   "metadata": {
    "ExecuteTime": {
     "end_time": "2022-11-22T04:24:30.148078Z",
     "start_time": "2022-11-22T04:24:30.140468Z"
    }
   },
   "outputs": [
    {
     "name": "stdout",
     "output_type": "stream",
     "text": [
      "[[1.5 1.5 1.5]\n",
      " [1.5 1.5 1.5]\n",
      " [1.5 1.5 1.5]]\n"
     ]
    }
   ],
   "source": [
    "a = np.full((3,3), 1.5)\n",
    "print(a)"
   ]
  },
  {
   "cell_type": "code",
   "execution_count": 33,
   "id": "42ff85ca",
   "metadata": {
    "ExecuteTime": {
     "end_time": "2022-11-22T04:24:52.060088Z",
     "start_time": "2022-11-22T04:24:52.051654Z"
    }
   },
   "outputs": [
    {
     "name": "stdout",
     "output_type": "stream",
     "text": [
      "[[1. 0. 0. 0. 0. 0. 0. 0. 0. 0.]\n",
      " [0. 1. 0. 0. 0. 0. 0. 0. 0. 0.]\n",
      " [0. 0. 1. 0. 0. 0. 0. 0. 0. 0.]\n",
      " [0. 0. 0. 1. 0. 0. 0. 0. 0. 0.]\n",
      " [0. 0. 0. 0. 1. 0. 0. 0. 0. 0.]\n",
      " [0. 0. 0. 0. 0. 1. 0. 0. 0. 0.]\n",
      " [0. 0. 0. 0. 0. 0. 1. 0. 0. 0.]\n",
      " [0. 0. 0. 0. 0. 0. 0. 1. 0. 0.]\n",
      " [0. 0. 0. 0. 0. 0. 0. 0. 1. 0.]\n",
      " [0. 0. 0. 0. 0. 0. 0. 0. 0. 1.]]\n"
     ]
    }
   ],
   "source": [
    "a = np.eye(10)\n",
    "print(a)\n"
   ]
  },
  {
   "cell_type": "code",
   "execution_count": 37,
   "id": "0858300d",
   "metadata": {
    "ExecuteTime": {
     "end_time": "2022-11-22T04:26:48.618881Z",
     "start_time": "2022-11-22T04:26:48.608246Z"
    }
   },
   "outputs": [
    {
     "name": "stdout",
     "output_type": "stream",
     "text": [
      "range(0, 10)\n",
      "[0 1 2 3 4 5 6 7 8 9]\n"
     ]
    }
   ],
   "source": [
    "a = range(0,10)\n",
    "print(a)\n",
    "a = np.arange(0, 10)\n",
    "print(a)"
   ]
  },
  {
   "cell_type": "code",
   "execution_count": 39,
   "id": "14d941e3",
   "metadata": {
    "ExecuteTime": {
     "end_time": "2022-11-22T04:27:19.709020Z",
     "start_time": "2022-11-22T04:27:19.703574Z"
    }
   },
   "outputs": [
    {
     "name": "stdout",
     "output_type": "stream",
     "text": [
      "[ 0.   2.5  5.   7.5 10. ]\n"
     ]
    }
   ],
   "source": [
    "a = np.linspace(0, 10, 5)\n",
    "print(a)"
   ]
  },
  {
   "cell_type": "code",
   "execution_count": 40,
   "id": "3462e464",
   "metadata": {
    "ExecuteTime": {
     "end_time": "2022-11-22T04:28:30.428120Z",
     "start_time": "2022-11-22T04:28:30.417327Z"
    }
   },
   "outputs": [
    {
     "name": "stdout",
     "output_type": "stream",
     "text": [
      "[ 10.          17.7827941   31.6227766   56.23413252 100.        ]\n"
     ]
    }
   ],
   "source": [
    "a = np.logspace(np.log10(10), np.log10(100), 5)\n",
    "print(a)"
   ]
  },
  {
   "cell_type": "code",
   "execution_count": 42,
   "id": "90e37b8b",
   "metadata": {
    "ExecuteTime": {
     "end_time": "2022-11-22T04:29:54.056038Z",
     "start_time": "2022-11-22T04:29:54.049286Z"
    }
   },
   "outputs": [
    {
     "name": "stdout",
     "output_type": "stream",
     "text": [
      "0.3992502819647209\n"
     ]
    }
   ],
   "source": [
    "a = np.random.random()\n",
    "print(a)"
   ]
  },
  {
   "cell_type": "code",
   "execution_count": 44,
   "id": "04d94c30",
   "metadata": {
    "ExecuteTime": {
     "end_time": "2022-11-22T04:31:03.939824Z",
     "start_time": "2022-11-22T04:31:03.931697Z"
    }
   },
   "outputs": [
    {
     "name": "stdout",
     "output_type": "stream",
     "text": [
      "[[0.76288199 0.6386934  0.63861942 0.26332342]\n",
      " [0.42235101 0.39235571 0.9889186  0.09567684]\n",
      " [0.51909802 0.17064341 0.76492333 0.2085852 ]\n",
      " [0.47754091 0.36947611 0.79534597 0.63376866]]\n"
     ]
    }
   ],
   "source": [
    "a = np.random.random((4,4))\n",
    "print(a)"
   ]
  },
  {
   "cell_type": "code",
   "execution_count": 77,
   "id": "c224e989",
   "metadata": {
    "ExecuteTime": {
     "end_time": "2022-11-22T04:31:47.357617Z",
     "start_time": "2022-11-22T04:31:47.352279Z"
    }
   },
   "outputs": [
    {
     "name": "stdout",
     "output_type": "stream",
     "text": [
      "2\n"
     ]
    }
   ],
   "source": [
    "a = np.random.randint(1,10)\n",
    "print(a)\n"
   ]
  },
  {
   "cell_type": "code",
   "execution_count": 79,
   "id": "01ffab29",
   "metadata": {
    "ExecuteTime": {
     "end_time": "2022-11-22T04:32:09.589515Z",
     "start_time": "2022-11-22T04:32:09.584254Z"
    }
   },
   "outputs": [
    {
     "name": "stdout",
     "output_type": "stream",
     "text": [
      "[[6 5 2 8]\n",
      " [6 5 4 5]\n",
      " [5 9 4 9]\n",
      " [7 6 8 4]]\n"
     ]
    }
   ],
   "source": [
    "a = np.random.randint(1, 10, (4,4))\n",
    "print(a)"
   ]
  },
  {
   "cell_type": "code",
   "execution_count": 80,
   "id": "a0b79dbd",
   "metadata": {
    "ExecuteTime": {
     "end_time": "2022-11-22T04:32:42.999516Z",
     "start_time": "2022-11-22T04:32:42.993156Z"
    }
   },
   "outputs": [
    {
     "name": "stdout",
     "output_type": "stream",
     "text": [
      "[[0.27352599 0.38237876 0.722775  ]\n",
      " [0.06922183 0.8851948  0.60826194]\n",
      " [0.93823229 0.2120695  0.20992423]]\n"
     ]
    }
   ],
   "source": [
    "a = np.random.rand(3,3)\n",
    "print(a)"
   ]
  },
  {
   "cell_type": "code",
   "execution_count": 81,
   "id": "d6ef1363",
   "metadata": {
    "ExecuteTime": {
     "end_time": "2022-11-22T04:33:14.413995Z",
     "start_time": "2022-11-22T04:33:14.406583Z"
    }
   },
   "outputs": [
    {
     "name": "stdout",
     "output_type": "stream",
     "text": [
      "[[ 0.43965091 -0.68812715  0.33893592]\n",
      " [-0.73202598  0.22087937  0.88085293]\n",
      " [-1.43236441  0.41208766 -0.52827696]]\n"
     ]
    }
   ],
   "source": [
    "a = np.random.randn(3,3)\n",
    "print(a)"
   ]
  },
  {
   "cell_type": "markdown",
   "id": "0790c2a5",
   "metadata": {},
   "source": [
    "## 넘파이 배열 조회"
   ]
  },
  {
   "cell_type": "markdown",
   "id": "ca8cea33",
   "metadata": {},
   "source": [
    "np.int32/64 => 정수타입  \n",
    "np.float32/64 => 부동소수  \n",
    "np.bool => 불린  \n",
    "np.object => 파이썬객체  \n",
    "np.complex =>복소수  \n"
   ]
  },
  {
   "cell_type": "code",
   "execution_count": 83,
   "id": "ec803c67",
   "metadata": {
    "ExecuteTime": {
     "end_time": "2022-11-22T04:37:59.709694Z",
     "start_time": "2022-11-22T04:37:59.703406Z"
    }
   },
   "outputs": [
    {
     "name": "stdout",
     "output_type": "stream",
     "text": [
      "[1 2 3 4 5]\n",
      "1\n"
     ]
    }
   ],
   "source": [
    "arr = np.arange(1,6)\n",
    "print(arr)\n",
    "print(arr.ndim)"
   ]
  },
  {
   "cell_type": "code",
   "execution_count": 84,
   "id": "f9108e5e",
   "metadata": {
    "ExecuteTime": {
     "end_time": "2022-11-22T04:39:33.784802Z",
     "start_time": "2022-11-22T04:39:33.779073Z"
    }
   },
   "outputs": [
    {
     "name": "stdout",
     "output_type": "stream",
     "text": [
      "(5,)\n",
      "5\n",
      "int64\n",
      "8\n",
      "40\n"
     ]
    }
   ],
   "source": [
    "print(arr.shape)\n",
    "print(arr.size)\n",
    "print(arr.dtype)\n",
    "print(arr.itemsize)\n",
    "print(arr.nbytes)"
   ]
  },
  {
   "cell_type": "markdown",
   "id": "a31d565c",
   "metadata": {},
   "source": [
    "## 인덱싱"
   ]
  },
  {
   "cell_type": "code",
   "execution_count": 86,
   "id": "1b904f89",
   "metadata": {
    "ExecuteTime": {
     "end_time": "2022-11-22T04:41:29.353712Z",
     "start_time": "2022-11-22T04:41:29.346521Z"
    }
   },
   "outputs": [
    {
     "name": "stdout",
     "output_type": "stream",
     "text": [
      "[0 1 2 3 4 5 6 7 8 9]\n",
      "0\n",
      "9\n",
      "[10  1  2  3  4  5  6  7  8  9]\n"
     ]
    }
   ],
   "source": [
    "al = np.arange(10)\n",
    "print(al)\n",
    "\n",
    "print(al[0])\n",
    "print(al[-1])\n",
    "al[0] = 10\n",
    "print(al)"
   ]
  },
  {
   "cell_type": "code",
   "execution_count": 87,
   "id": "26154fd7",
   "metadata": {
    "ExecuteTime": {
     "end_time": "2022-11-22T04:43:30.175829Z",
     "start_time": "2022-11-22T04:43:30.169024Z"
    }
   },
   "outputs": [
    {
     "name": "stdout",
     "output_type": "stream",
     "text": [
      "[[0 1 2]\n",
      " [3 4 5]\n",
      " [6 7 8]]\n"
     ]
    }
   ],
   "source": [
    "a2 = np.arange(9).reshape((3,3))\n",
    "print(a2)"
   ]
  },
  {
   "cell_type": "code",
   "execution_count": 90,
   "id": "7525c51c",
   "metadata": {
    "ExecuteTime": {
     "end_time": "2022-11-22T04:44:14.461696Z",
     "start_time": "2022-11-22T04:44:14.457303Z"
    }
   },
   "outputs": [
    {
     "name": "stdout",
     "output_type": "stream",
     "text": [
      "3\n",
      "3\n"
     ]
    }
   ],
   "source": [
    "print(a2[1,0])"
   ]
  },
  {
   "cell_type": "code",
   "execution_count": 92,
   "id": "9206481b",
   "metadata": {
    "ExecuteTime": {
     "end_time": "2022-11-22T04:44:37.382587Z",
     "start_time": "2022-11-22T04:44:37.377949Z"
    }
   },
   "outputs": [
    {
     "name": "stdout",
     "output_type": "stream",
     "text": [
      "10\n"
     ]
    }
   ],
   "source": [
    "a2[1,0] = 10\n",
    "print(a2[1,0])"
   ]
  },
  {
   "cell_type": "code",
   "execution_count": 93,
   "id": "05147a1f",
   "metadata": {
    "ExecuteTime": {
     "end_time": "2022-11-22T04:44:46.759924Z",
     "start_time": "2022-11-22T04:44:46.754165Z"
    }
   },
   "outputs": [
    {
     "name": "stdout",
     "output_type": "stream",
     "text": [
      "[0 1 2 3 4 5]\n"
     ]
    }
   ],
   "source": [
    "al = np.arange(6)\n",
    "print(al)"
   ]
  },
  {
   "cell_type": "code",
   "execution_count": 95,
   "id": "190192b6",
   "metadata": {
    "ExecuteTime": {
     "end_time": "2022-11-22T04:44:58.281311Z",
     "start_time": "2022-11-22T04:44:58.275886Z"
    }
   },
   "outputs": [
    {
     "data": {
      "text/plain": [
       "array([0, 1, 2])"
      ]
     },
     "execution_count": 95,
     "metadata": {},
     "output_type": "execute_result"
    }
   ],
   "source": [
    "al[:3]"
   ]
  },
  {
   "cell_type": "code",
   "execution_count": 96,
   "id": "adc67ac7",
   "metadata": {
    "ExecuteTime": {
     "end_time": "2022-11-22T04:45:21.378059Z",
     "start_time": "2022-11-22T04:45:21.372494Z"
    }
   },
   "outputs": [
    {
     "data": {
      "text/plain": [
       "array([2, 3, 4, 5])"
      ]
     },
     "execution_count": 96,
     "metadata": {},
     "output_type": "execute_result"
    }
   ],
   "source": [
    "al[2:]"
   ]
  },
  {
   "cell_type": "code",
   "execution_count": 98,
   "id": "0530c5ba",
   "metadata": {
    "ExecuteTime": {
     "end_time": "2022-11-22T04:45:39.377461Z",
     "start_time": "2022-11-22T04:45:39.371338Z"
    }
   },
   "outputs": [
    {
     "data": {
      "text/plain": [
       "array([5, 4, 3, 2, 1, 0])"
      ]
     },
     "execution_count": 98,
     "metadata": {},
     "output_type": "execute_result"
    }
   ],
   "source": [
    "al[::-1] #뒤집어서 -1씩"
   ]
  },
  {
   "cell_type": "code",
   "execution_count": 99,
   "id": "acf134d5",
   "metadata": {
    "ExecuteTime": {
     "end_time": "2022-11-22T04:45:55.874860Z",
     "start_time": "2022-11-22T04:45:55.868983Z"
    }
   },
   "outputs": [
    {
     "data": {
      "text/plain": [
       "array([0, 2, 4])"
      ]
     },
     "execution_count": 99,
     "metadata": {},
     "output_type": "execute_result"
    }
   ],
   "source": [
    "al[::2] #스텝으로"
   ]
  },
  {
   "cell_type": "code",
   "execution_count": 101,
   "id": "5d9fd178",
   "metadata": {
    "ExecuteTime": {
     "end_time": "2022-11-22T04:46:22.019028Z",
     "start_time": "2022-11-22T04:46:22.011107Z"
    }
   },
   "outputs": [
    {
     "data": {
      "text/plain": [
       "array([5, 3, 1])"
      ]
     },
     "execution_count": 101,
     "metadata": {},
     "output_type": "execute_result"
    }
   ],
   "source": [
    "al[::-2] #역스텝"
   ]
  },
  {
   "cell_type": "code",
   "execution_count": 102,
   "id": "c61bfe61",
   "metadata": {
    "ExecuteTime": {
     "end_time": "2022-11-22T04:46:43.802080Z",
     "start_time": "2022-11-22T04:46:43.797922Z"
    }
   },
   "outputs": [],
   "source": [
    "a2 = np.arange(1,25).reshape((4,6))\n"
   ]
  },
  {
   "cell_type": "code",
   "execution_count": 103,
   "id": "62b0b765",
   "metadata": {
    "ExecuteTime": {
     "end_time": "2022-11-22T04:46:47.633687Z",
     "start_time": "2022-11-22T04:46:47.629289Z"
    }
   },
   "outputs": [
    {
     "name": "stdout",
     "output_type": "stream",
     "text": [
      "[[ 1  2  3  4  5  6]\n",
      " [ 7  8  9 10 11 12]\n",
      " [13 14 15 16 17 18]\n",
      " [19 20 21 22 23 24]]\n"
     ]
    }
   ],
   "source": [
    "print(a2)"
   ]
  },
  {
   "cell_type": "code",
   "execution_count": 104,
   "id": "6c5be460",
   "metadata": {
    "ExecuteTime": {
     "end_time": "2022-11-22T04:47:04.486814Z",
     "start_time": "2022-11-22T04:47:04.482397Z"
    }
   },
   "outputs": [
    {
     "name": "stdout",
     "output_type": "stream",
     "text": [
      "[ 7  8  9 10 11 12]\n"
     ]
    }
   ],
   "source": [
    "print(a2[1])"
   ]
  },
  {
   "cell_type": "code",
   "execution_count": 105,
   "id": "9f2d818b",
   "metadata": {
    "ExecuteTime": {
     "end_time": "2022-11-22T04:47:18.405744Z",
     "start_time": "2022-11-22T04:47:18.398650Z"
    }
   },
   "outputs": [
    {
     "data": {
      "text/plain": [
       "array([[ 8,  9, 10, 11],\n",
       "       [14, 15, 16, 17]])"
      ]
     },
     "execution_count": 105,
     "metadata": {},
     "output_type": "execute_result"
    }
   ],
   "source": [
    "a2[1:3, 1:5]\n",
    "#1,2번째 행의 1,2,3,4열 가져오기"
   ]
  },
  {
   "cell_type": "code",
   "execution_count": 111,
   "id": "cb4a32bd",
   "metadata": {
    "ExecuteTime": {
     "end_time": "2022-11-22T04:50:06.154544Z",
     "start_time": "2022-11-22T04:50:06.147971Z"
    }
   },
   "outputs": [
    {
     "name": "stdout",
     "output_type": "stream",
     "text": [
      "[13 14 15 16 17 18]\n",
      "[ 7  8  9 10 11 12]\n",
      "[[ 1  2  3]\n",
      " [ 7  8  9]\n",
      " [13 14 15]]\n",
      "[[18 17 16 15 14 13]\n",
      " [24 23 22 21 20 19]]\n"
     ]
    }
   ],
   "source": [
    "print(a2[2,:])\n",
    "print(a2[1,:])\n",
    "print(a2[:3, :3])\n"
   ]
  },
  {
   "cell_type": "code",
   "execution_count": 112,
   "id": "9a093a9a",
   "metadata": {
    "ExecuteTime": {
     "end_time": "2022-11-22T04:51:04.169684Z",
     "start_time": "2022-11-22T04:51:04.163619Z"
    }
   },
   "outputs": [
    {
     "name": "stdout",
     "output_type": "stream",
     "text": [
      "[[18 17 16 15 14 13]\n",
      " [24 23 22 21 20 19]]\n",
      "[[24 23 22 21 20 19]\n",
      " [18 17 16 15 14 13]\n",
      " [12 11 10  9  8  7]\n",
      " [ 6  5  4  3  2  1]]\n"
     ]
    }
   ],
   "source": [
    "print(a2[2:, ::-1])\n",
    "print(a2[::-1,::-1])"
   ]
  },
  {
   "cell_type": "markdown",
   "id": "93606cf7",
   "metadata": {},
   "source": [
    "## 논리인덱싱"
   ]
  },
  {
   "cell_type": "code",
   "execution_count": 114,
   "id": "7e60e69d",
   "metadata": {
    "ExecuteTime": {
     "end_time": "2022-11-22T04:52:35.798339Z",
     "start_time": "2022-11-22T04:52:35.791817Z"
    }
   },
   "outputs": [
    {
     "name": "stdout",
     "output_type": "stream",
     "text": [
      "[1 2 3 4 5]\n",
      "[1 4]\n"
     ]
    }
   ],
   "source": [
    "a = np.arange(1,6)\n",
    "print(a)\n",
    "b = [True, False,False,True, False]\n",
    "print(a[b])"
   ]
  },
  {
   "cell_type": "code",
   "execution_count": 115,
   "id": "872a7a67",
   "metadata": {
    "ExecuteTime": {
     "end_time": "2022-11-22T05:22:39.805031Z",
     "start_time": "2022-11-22T05:22:39.796634Z"
    }
   },
   "outputs": [
    {
     "name": "stdout",
     "output_type": "stream",
     "text": [
      "[0 1 2 3 4]\n"
     ]
    }
   ],
   "source": [
    "a = np.arange(11)\n",
    "print(a[a < 5])"
   ]
  },
  {
   "cell_type": "code",
   "execution_count": 117,
   "id": "6fddcef1",
   "metadata": {
    "ExecuteTime": {
     "end_time": "2022-11-22T05:22:56.301246Z",
     "start_time": "2022-11-22T05:22:56.295162Z"
    }
   },
   "outputs": [
    {
     "name": "stdout",
     "output_type": "stream",
     "text": [
      "[0 1 2 3 4]\n"
     ]
    }
   ],
   "source": [
    "five_up = a[a < 5]\n",
    "print(five_up)"
   ]
  },
  {
   "cell_type": "code",
   "execution_count": 119,
   "id": "13a1517f",
   "metadata": {
    "ExecuteTime": {
     "end_time": "2022-11-22T05:23:22.946454Z",
     "start_time": "2022-11-22T05:23:22.940451Z"
    }
   },
   "outputs": [
    {
     "name": "stdout",
     "output_type": "stream",
     "text": [
      "[ 0  2  4  6  8 10]\n"
     ]
    }
   ],
   "source": [
    "div_by_2 = a[a % 2 == 0]\n",
    "print(div_by_2)"
   ]
  },
  {
   "cell_type": "code",
   "execution_count": 122,
   "id": "f87e2a9f",
   "metadata": {
    "ExecuteTime": {
     "end_time": "2022-11-22T05:25:15.154506Z",
     "start_time": "2022-11-22T05:25:15.146245Z"
    }
   },
   "outputs": [
    {
     "name": "stdout",
     "output_type": "stream",
     "text": [
      "[ 6  7  8  9 10]\n",
      "[ 0  1  2  3  4 10]\n",
      "[ 1  2  4  5  7  8 10]\n"
     ]
    }
   ],
   "source": [
    "c = a[(a > 5) & (a < 11)]\n",
    "print(c)\n",
    "d = a[(a > 9) | (a < 5)]\n",
    "print(d)\n",
    "e = a[~(a % 3 == 0)]\n",
    "print(e)"
   ]
  },
  {
   "cell_type": "markdown",
   "id": "6513109e",
   "metadata": {},
   "source": [
    "## 배열 연산"
   ]
  },
  {
   "cell_type": "code",
   "execution_count": 126,
   "id": "de62bf87",
   "metadata": {
    "ExecuteTime": {
     "end_time": "2022-11-22T05:26:40.490114Z",
     "start_time": "2022-11-22T05:26:40.480422Z"
    }
   },
   "outputs": [
    {
     "name": "stdout",
     "output_type": "stream",
     "text": [
      "[ 1  2  3  4  5  6  7  8  9 10]\n",
      "[ 1  2  3  4  5  6  7  8  9 10]\n",
      "[ 2  4  6  8 10 12 14 16 18 20]\n",
      "[0 0 0 0 0 0 0 0 0 0]\n",
      "[1. 1. 1. 1. 1. 1. 1. 1. 1. 1.]\n",
      "[  1   4   9  16  25  36  49  64  81 100]\n"
     ]
    }
   ],
   "source": [
    "a = np.arange(1, 11)\n",
    "b = np.arange(1, 11)\n",
    "print(a)\n",
    "print(b)\n",
    "print(a + b)\n",
    "print(a - b)\n",
    "print(a/ b)\n",
    "print(a * b)"
   ]
  },
  {
   "cell_type": "code",
   "execution_count": 128,
   "id": "102ebf04",
   "metadata": {
    "ExecuteTime": {
     "end_time": "2022-11-22T05:27:37.868037Z",
     "start_time": "2022-11-22T05:27:37.857548Z"
    }
   },
   "outputs": [
    {
     "name": "stdout",
     "output_type": "stream",
     "text": [
      "[ 2  4  6  8 10 12 14 16 18 20]\n",
      "[0 0 0 0 0 0 0 0 0 0]\n",
      "[1. 1. 1. 1. 1. 1. 1. 1. 1. 1.]\n",
      "[  1   4   9  16  25  36  49  64  81 100]\n"
     ]
    }
   ],
   "source": [
    "print(np.add(a,b))\n",
    "print(np.subtract(a,b))\n",
    "print(np.divide(a,b))\n",
    "print(np.multiply(a,b))"
   ]
  },
  {
   "cell_type": "code",
   "execution_count": 129,
   "id": "df5b9b07",
   "metadata": {
    "ExecuteTime": {
     "end_time": "2022-11-22T05:27:54.200050Z",
     "start_time": "2022-11-22T05:27:54.194228Z"
    }
   },
   "outputs": [
    {
     "name": "stdout",
     "output_type": "stream",
     "text": [
      "[2.71828183e+00 7.38905610e+00 2.00855369e+01 5.45981500e+01\n",
      " 1.48413159e+02 4.03428793e+02 1.09663316e+03 2.98095799e+03\n",
      " 8.10308393e+03 2.20264658e+04]\n",
      "[1.         1.41421356 1.73205081 2.         2.23606798 2.44948974\n",
      " 2.64575131 2.82842712 3.         3.16227766]\n"
     ]
    }
   ],
   "source": [
    "print(np.exp(a))\n",
    "print(np.sqrt(a))\n"
   ]
  },
  {
   "cell_type": "code",
   "execution_count": 132,
   "id": "45cf0fb7",
   "metadata": {
    "ExecuteTime": {
     "end_time": "2022-11-22T05:28:49.516579Z",
     "start_time": "2022-11-22T05:28:49.509463Z"
    }
   },
   "outputs": [
    {
     "name": "stdout",
     "output_type": "stream",
     "text": [
      "[ 0.84147098  0.90929743  0.14112001 -0.7568025  -0.95892427 -0.2794155\n",
      "  0.6569866   0.98935825  0.41211849 -0.54402111]\n",
      "[ 1.55740772 -2.18503986 -0.14254654  1.15782128 -3.38051501 -0.29100619\n",
      "  0.87144798 -6.79971146 -0.45231566  0.64836083]\n",
      "[ 0.54030231 -0.41614684 -0.9899925  -0.65364362  0.28366219  0.96017029\n",
      "  0.75390225 -0.14550003 -0.91113026 -0.83907153]\n",
      "[0.         0.69314718 1.09861229 1.38629436 1.60943791 1.79175947\n",
      " 1.94591015 2.07944154 2.19722458 2.30258509]\n"
     ]
    }
   ],
   "source": [
    "print(np.sin(a))\n",
    "print(np.tan(a))\n",
    "print(np.cos(a))\n",
    "print(np.log(a))"
   ]
  },
  {
   "cell_type": "code",
   "execution_count": 133,
   "id": "a6abb849",
   "metadata": {
    "ExecuteTime": {
     "end_time": "2022-11-22T05:29:20.055137Z",
     "start_time": "2022-11-22T05:29:20.049672Z"
    }
   },
   "outputs": [
    {
     "name": "stdout",
     "output_type": "stream",
     "text": [
      "[[1 2 3]\n",
      " [4 5 6]\n",
      " [7 8 9]]\n",
      "45\n"
     ]
    }
   ],
   "source": [
    "a = np.arange(1,10).reshape(3,3)\n",
    "print(a)\n",
    "print(a.sum())"
   ]
  },
  {
   "cell_type": "code",
   "execution_count": 134,
   "id": "1fc92783",
   "metadata": {
    "ExecuteTime": {
     "end_time": "2022-11-22T05:29:27.718595Z",
     "start_time": "2022-11-22T05:29:27.714129Z"
    }
   },
   "outputs": [
    {
     "name": "stdout",
     "output_type": "stream",
     "text": [
      "[12 15 18]\n"
     ]
    }
   ],
   "source": [
    "print(a.sum(axis = 0))"
   ]
  },
  {
   "cell_type": "code",
   "execution_count": 135,
   "id": "a266ebb4",
   "metadata": {
    "ExecuteTime": {
     "end_time": "2022-11-22T05:29:42.273528Z",
     "start_time": "2022-11-22T05:29:42.270568Z"
    }
   },
   "outputs": [
    {
     "name": "stdout",
     "output_type": "stream",
     "text": [
      "[ 6 15 24]\n"
     ]
    }
   ],
   "source": [
    "print(a.sum(axis = 1))"
   ]
  },
  {
   "cell_type": "code",
   "execution_count": 137,
   "id": "2dd3313a",
   "metadata": {
    "ExecuteTime": {
     "end_time": "2022-11-22T05:31:08.841835Z",
     "start_time": "2022-11-22T05:31:08.832551Z"
    }
   },
   "outputs": [
    {
     "name": "stdout",
     "output_type": "stream",
     "text": [
      "[[1 2 3]\n",
      " [4 5 6]\n",
      " [7 8 9]]\n",
      "9\n",
      "[7 8 9]\n",
      "[3 6 9]\n"
     ]
    }
   ],
   "source": [
    "print(a)\n",
    "print(a.max())\n",
    "print(a.max(axis = 0))\n",
    "print(a.max(axis = 1))"
   ]
  },
  {
   "cell_type": "code",
   "execution_count": 140,
   "id": "853d9bc7",
   "metadata": {
    "ExecuteTime": {
     "end_time": "2022-11-22T05:32:42.138605Z",
     "start_time": "2022-11-22T05:32:42.130384Z"
    }
   },
   "outputs": [
    {
     "name": "stdout",
     "output_type": "stream",
     "text": [
      "[[1 2 3]\n",
      " [4 5 6]\n",
      " [7 8 9]]\n",
      "5.0\n",
      "[4. 5. 6.]\n",
      "[2. 5. 8.]\n",
      "5.0\n",
      "[2. 5. 8.]\n"
     ]
    }
   ],
   "source": [
    "print(a)\n",
    "print(a.mean())\n",
    "print(a.mean(axis = 0))\n",
    "print(a.mean(axis = 1))"
   ]
  },
  {
   "cell_type": "code",
   "execution_count": 143,
   "id": "3a8c25af",
   "metadata": {
    "ExecuteTime": {
     "end_time": "2022-11-22T05:33:40.757359Z",
     "start_time": "2022-11-22T05:33:40.748458Z"
    }
   },
   "outputs": [
    {
     "name": "stdout",
     "output_type": "stream",
     "text": [
      "[[1 2 3]\n",
      " [4 5 6]\n",
      " [7 8 9]]\n",
      "5.0\n"
     ]
    }
   ],
   "source": [
    "print(a)\n",
    "print(np.median(a))"
   ]
  },
  {
   "cell_type": "code",
   "execution_count": 144,
   "id": "6a0739ef",
   "metadata": {
    "ExecuteTime": {
     "end_time": "2022-11-22T05:34:12.726813Z",
     "start_time": "2022-11-22T05:34:12.720532Z"
    }
   },
   "outputs": [
    {
     "name": "stdout",
     "output_type": "stream",
     "text": [
      "[4. 5. 6.]\n",
      "[2. 5. 8.]\n"
     ]
    }
   ],
   "source": [
    "print(np.median(a, axis = 0))\n",
    "print(np.median(a, axis = 1))"
   ]
  },
  {
   "cell_type": "code",
   "execution_count": 145,
   "id": "b9c722d3",
   "metadata": {
    "ExecuteTime": {
     "end_time": "2022-11-22T05:34:31.518469Z",
     "start_time": "2022-11-22T05:34:31.513249Z"
    }
   },
   "outputs": [
    {
     "name": "stdout",
     "output_type": "stream",
     "text": [
      "2.581988897471611\n",
      "2.581988897471611\n"
     ]
    }
   ],
   "source": [
    "#표준편차\n",
    "print(a.std())\n",
    "print(np.std(a))"
   ]
  },
  {
   "cell_type": "markdown",
   "id": "e9473743",
   "metadata": {},
   "source": [
    "## 브로드캐스팅 연산"
   ]
  },
  {
   "cell_type": "code",
   "execution_count": 148,
   "id": "63832ac7",
   "metadata": {
    "ExecuteTime": {
     "end_time": "2022-11-22T05:36:42.265545Z",
     "start_time": "2022-11-22T05:36:42.259360Z"
    }
   },
   "outputs": [
    {
     "name": "stdout",
     "output_type": "stream",
     "text": [
      "[2 3 4 5 6]\n"
     ]
    }
   ],
   "source": [
    "x = np.array([1,2,3,4,5])\n",
    "y = np.array([1,1,1,1,1])\n",
    "print(x + y)"
   ]
  },
  {
   "cell_type": "code",
   "execution_count": 147,
   "id": "9b1a92b3",
   "metadata": {
    "ExecuteTime": {
     "end_time": "2022-11-22T05:36:40.764203Z",
     "start_time": "2022-11-22T05:36:40.758563Z"
    }
   },
   "outputs": [
    {
     "name": "stdout",
     "output_type": "stream",
     "text": [
      "[2 3 4 5 6]\n"
     ]
    }
   ],
   "source": [
    "y = 1\n",
    "print(x + y)"
   ]
  },
  {
   "cell_type": "code",
   "execution_count": 150,
   "id": "2eeb4454",
   "metadata": {
    "ExecuteTime": {
     "end_time": "2022-11-22T05:37:29.535833Z",
     "start_time": "2022-11-22T05:37:29.530464Z"
    }
   },
   "outputs": [
    {
     "name": "stdout",
     "output_type": "stream",
     "text": [
      "[[ 1  2  3  4  5  6]\n",
      " [ 7  8  9 10 11 12]\n",
      " [13 14 15 16 17 18]\n",
      " [19 20 21 22 23 24]]\n",
      "[[101 102 103 104 105 106]\n",
      " [107 108 109 110 111 112]\n",
      " [113 114 115 116 117 118]\n",
      " [119 120 121 122 123 124]]\n"
     ]
    }
   ],
   "source": [
    "a = np.arange(1,25).reshape(4,6)\n",
    "print(a)\n",
    "print(a + 100)"
   ]
  },
  {
   "cell_type": "code",
   "execution_count": 152,
   "id": "6c9addc3",
   "metadata": {
    "ExecuteTime": {
     "end_time": "2022-11-22T05:37:59.546901Z",
     "start_time": "2022-11-22T05:37:59.540066Z"
    }
   },
   "outputs": [
    {
     "data": {
      "text/plain": [
       "array([[101, 102, 103, 104, 105, 106],\n",
       "       [107, 108, 109, 110, 111, 112],\n",
       "       [113, 114, 115, 116, 117, 118],\n",
       "       [119, 120, 121, 122, 123, 124]])"
      ]
     },
     "execution_count": 152,
     "metadata": {},
     "output_type": "execute_result"
    }
   ],
   "source": [
    "a + np.full_like(a, 100)"
   ]
  },
  {
   "cell_type": "code",
   "execution_count": 153,
   "id": "10ed10fc",
   "metadata": {
    "ExecuteTime": {
     "end_time": "2022-11-22T05:38:23.822802Z",
     "start_time": "2022-11-22T05:38:23.818025Z"
    }
   },
   "outputs": [
    {
     "name": "stdout",
     "output_type": "stream",
     "text": [
      "[[0 1 2 3 4]]\n"
     ]
    }
   ],
   "source": [
    "a = np.arange(5).reshape((1,5))\n",
    "print(a)\n"
   ]
  },
  {
   "cell_type": "code",
   "execution_count": 155,
   "id": "86670b0b",
   "metadata": {
    "ExecuteTime": {
     "end_time": "2022-11-22T05:38:40.229819Z",
     "start_time": "2022-11-22T05:38:40.221444Z"
    }
   },
   "outputs": [
    {
     "name": "stdout",
     "output_type": "stream",
     "text": [
      "[[0]\n",
      " [1]\n",
      " [2]\n",
      " [3]\n",
      " [4]]\n"
     ]
    }
   ],
   "source": [
    "b = np.arange(5).reshape((5,1))\n",
    "print(b)"
   ]
  },
  {
   "cell_type": "code",
   "execution_count": 156,
   "id": "513d47a0",
   "metadata": {
    "ExecuteTime": {
     "end_time": "2022-11-22T05:38:44.820646Z",
     "start_time": "2022-11-22T05:38:44.815720Z"
    }
   },
   "outputs": [
    {
     "name": "stdout",
     "output_type": "stream",
     "text": [
      "[[0 1 2 3 4]\n",
      " [1 2 3 4 5]\n",
      " [2 3 4 5 6]\n",
      " [3 4 5 6 7]\n",
      " [4 5 6 7 8]]\n"
     ]
    }
   ],
   "source": [
    "print(a + b)"
   ]
  },
  {
   "cell_type": "code",
   "execution_count": 158,
   "id": "2e4a5cb9",
   "metadata": {
    "ExecuteTime": {
     "end_time": "2022-11-22T05:39:15.949414Z",
     "start_time": "2022-11-22T05:39:15.945919Z"
    }
   },
   "outputs": [],
   "source": [
    "import time"
   ]
  },
  {
   "cell_type": "code",
   "execution_count": 163,
   "id": "73bb80fa",
   "metadata": {
    "ExecuteTime": {
     "end_time": "2022-11-22T05:41:43.156572Z",
     "start_time": "2022-11-22T05:41:19.956135Z"
    }
   },
   "outputs": [
    {
     "name": "stdout",
     "output_type": "stream",
     "text": [
      "22.849313020706177\n"
     ]
    }
   ],
   "source": [
    "a = np.arange(100000000)\n",
    "result = 0\n",
    "s = time.time()\n",
    "\n",
    "for v in a:\n",
    "    result += v\n",
    "\n",
    "e = time.time()\n",
    "print(e - s)"
   ]
  },
  {
   "cell_type": "code",
   "execution_count": 164,
   "id": "9d750a34",
   "metadata": {
    "ExecuteTime": {
     "end_time": "2022-11-22T05:41:43.819792Z",
     "start_time": "2022-11-22T05:41:43.159645Z"
    }
   },
   "outputs": [
    {
     "name": "stdout",
     "output_type": "stream",
     "text": [
      "0.2809009552001953\n"
     ]
    }
   ],
   "source": [
    "a = np.arange(100000000)\n",
    "result = 0\n",
    "s = time.time()\n",
    "\n",
    "result = np.sum(a)\n",
    "\n",
    "e = time.time()\n",
    "print(e - s)"
   ]
  },
  {
   "cell_type": "markdown",
   "id": "044c6d6d",
   "metadata": {},
   "source": [
    "## 배열 변환"
   ]
  },
  {
   "cell_type": "markdown",
   "id": "4180b8bf",
   "metadata": {},
   "source": [
    "### 전치"
   ]
  },
  {
   "cell_type": "markdown",
   "id": "ce63f135",
   "metadata": {},
   "source": [
    "대각선은 유지하고, 나머지를 대각선 방향으로 위치변환"
   ]
  },
  {
   "cell_type": "code",
   "execution_count": 166,
   "id": "625aefdb",
   "metadata": {
    "ExecuteTime": {
     "end_time": "2022-11-22T05:43:03.679417Z",
     "start_time": "2022-11-22T05:43:03.673389Z"
    }
   },
   "outputs": [
    {
     "name": "stdout",
     "output_type": "stream",
     "text": [
      "[[5 4 9]\n",
      " [6 9 2]\n",
      " [5 4 6]]\n",
      "[[5 6 5]\n",
      " [4 9 4]\n",
      " [9 2 6]]\n"
     ]
    }
   ],
   "source": [
    "a = np.random.randint(1, 10, (3,3))\n",
    "print(a)\n",
    "print(a.T)"
   ]
  },
  {
   "cell_type": "code",
   "execution_count": 167,
   "id": "d56f4bd9",
   "metadata": {
    "ExecuteTime": {
     "end_time": "2022-11-22T05:43:45.048370Z",
     "start_time": "2022-11-22T05:43:45.040343Z"
    }
   },
   "outputs": [
    {
     "data": {
      "text/plain": [
       "array([5, 4, 9, 6, 9, 2, 5, 4, 6])"
      ]
     },
     "execution_count": 167,
     "metadata": {},
     "output_type": "execute_result"
    }
   ],
   "source": [
    "a.ravel() #펼치기"
   ]
  },
  {
   "cell_type": "code",
   "execution_count": 169,
   "id": "11e1ef71",
   "metadata": {
    "ExecuteTime": {
     "end_time": "2022-11-22T05:44:12.776085Z",
     "start_time": "2022-11-22T05:44:12.768075Z"
    }
   },
   "outputs": [
    {
     "name": "stdout",
     "output_type": "stream",
     "text": [
      "[5 4 9 6 9 2 5 4 6]\n",
      "[[10  4  9]\n",
      " [ 6  9  2]\n",
      " [ 5  4  6]]\n"
     ]
    }
   ],
   "source": [
    "b = a.ravel()\n",
    "print(b)\n",
    "b[0] = 10\n",
    "print(a) #원본도 반영된다."
   ]
  },
  {
   "cell_type": "code",
   "execution_count": 175,
   "id": "694cd4f3",
   "metadata": {
    "ExecuteTime": {
     "end_time": "2022-11-22T05:45:17.621019Z",
     "start_time": "2022-11-22T05:45:17.614829Z"
    }
   },
   "outputs": [
    {
     "name": "stdout",
     "output_type": "stream",
     "text": [
      "[[500   4   9]\n",
      " [  6   9   2]\n",
      " [  5   4   6]]\n",
      "[[500   4   9]\n",
      " [  6   9   2]\n",
      " [  5   4   6]]\n"
     ]
    }
   ],
   "source": [
    "x = np.arange(10).reshape((2,5))\n",
    "print(a)\n",
    "a[0,0] = 500\n",
    "print(a) #원본도 바뀐다."
   ]
  },
  {
   "cell_type": "code",
   "execution_count": 176,
   "id": "99659c74",
   "metadata": {
    "ExecuteTime": {
     "end_time": "2022-11-22T05:46:12.814842Z",
     "start_time": "2022-11-22T05:46:12.808632Z"
    }
   },
   "outputs": [
    {
     "name": "stdout",
     "output_type": "stream",
     "text": [
      "[[1 2]\n",
      " [3 4]]\n"
     ]
    }
   ],
   "source": [
    "list_data = [1,2,3,4]\n",
    "#파이썬 리스트는 reshape안되므로 바꿔줘야함\n",
    "data = np.array(list_data).reshape((2,2))\n",
    "print(data)"
   ]
  },
  {
   "cell_type": "code",
   "execution_count": 182,
   "id": "56b287d2",
   "metadata": {
    "ExecuteTime": {
     "end_time": "2022-11-22T05:50:17.547996Z",
     "start_time": "2022-11-22T05:50:17.539926Z"
    }
   },
   "outputs": [
    {
     "name": "stdout",
     "output_type": "stream",
     "text": [
      "[[ 0  1  2  3]\n",
      " [ 4  5  6  7]\n",
      " [ 8  9 10 11]\n",
      " [12 13 14 15]\n",
      " [16 17 18 19]]\n",
      "[[ 0  1  2  3  4  5]\n",
      " [ 6  7  8  9 10 11]\n",
      " [12 13 14 15 16 17]\n",
      " [18 19  0  1  2  3]\n",
      " [ 4  5  6  7  8  9]]\n",
      "[[ 0  1  2  3]\n",
      " [ 4  5  6  7]\n",
      " [ 8  9 10 11]\n",
      " [12 13 14 15]]\n"
     ]
    }
   ],
   "source": [
    "#resize는 reshape과 동일한 결과 가져오게된다.\n",
    "x = np.arange(20)\n",
    "y = np.resize(x, (5,4))\n",
    "print(y)\n",
    "\n",
    "#단, 없으면 추가해준다.\n",
    "y = np.resize(x, (5,6))\n",
    "print(y)\n",
    "\n",
    "#또 잘라줄수도 있다.\n",
    "y = np.resize(x, (4,4))\n",
    "print(y)\n"
   ]
  },
  {
   "cell_type": "code",
   "execution_count": 179,
   "id": "342cf453",
   "metadata": {
    "ExecuteTime": {
     "end_time": "2022-11-22T05:47:53.481608Z",
     "start_time": "2022-11-22T05:47:53.475611Z"
    }
   },
   "outputs": [
    {
     "name": "stdout",
     "output_type": "stream",
     "text": [
      "[[ 0  1  2  3  4  5]\n",
      " [ 6  7  8  9 10 11]\n",
      " [12 13 14 15 16 17]\n",
      " [18 19  0  1  2  3]\n",
      " [ 4  5  6  7  8  9]]\n"
     ]
    }
   ],
   "source": [
    "y = np.resize(x, (5,6))\n",
    "print(y)"
   ]
  },
  {
   "cell_type": "code",
   "execution_count": 180,
   "id": "d1b27022",
   "metadata": {
    "ExecuteTime": {
     "end_time": "2022-11-22T05:48:58.635458Z",
     "start_time": "2022-11-22T05:48:58.607234Z"
    }
   },
   "outputs": [
    {
     "ename": "ValueError",
     "evalue": "cannot reshape array of size 20 into shape (5,6)",
     "output_type": "error",
     "traceback": [
      "\u001b[0;31m---------------------------------------------------------------------------\u001b[0m",
      "\u001b[0;31mValueError\u001b[0m                                Traceback (most recent call last)",
      "Input \u001b[0;32mIn [180]\u001b[0m, in \u001b[0;36m<cell line: 2>\u001b[0;34m()\u001b[0m\n\u001b[1;32m      1\u001b[0m \u001b[38;5;66;03m#reshape는 자동추가가 안된다.\u001b[39;00m\n\u001b[0;32m----> 2\u001b[0m y \u001b[38;5;241m=\u001b[39m \u001b[43mx\u001b[49m\u001b[38;5;241;43m.\u001b[39;49m\u001b[43mreshape\u001b[49m\u001b[43m(\u001b[49m\u001b[38;5;241;43m5\u001b[39;49m\u001b[43m,\u001b[49m\u001b[38;5;241;43m6\u001b[39;49m\u001b[43m)\u001b[49m\n\u001b[1;32m      3\u001b[0m \u001b[38;5;28mprint\u001b[39m(y)\n",
      "\u001b[0;31mValueError\u001b[0m: cannot reshape array of size 20 into shape (5,6)"
     ]
    }
   ],
   "source": [
    "#reshape는 자동추가가 안된다.\n",
    "y = x.reshape(5,6)\n",
    "print(y)\n"
   ]
  },
  {
   "cell_type": "code",
   "execution_count": 183,
   "id": "b156bbb5",
   "metadata": {
    "ExecuteTime": {
     "end_time": "2022-11-22T05:51:01.002192Z",
     "start_time": "2022-11-22T05:51:00.995153Z"
    }
   },
   "outputs": [
    {
     "data": {
      "text/plain": [
       "array([0, 1, 2, 3])"
      ]
     },
     "execution_count": 183,
     "metadata": {},
     "output_type": "execute_result"
    }
   ],
   "source": [
    "a = np.arange(3)\n",
    "b = np.append(a, 3)\n",
    "b"
   ]
  },
  {
   "cell_type": "code",
   "execution_count": 192,
   "id": "435727df",
   "metadata": {
    "ExecuteTime": {
     "end_time": "2022-11-22T05:51:41.345373Z",
     "start_time": "2022-11-22T05:51:41.339093Z"
    }
   },
   "outputs": [
    {
     "name": "stdout",
     "output_type": "stream",
     "text": [
      "[[1 2 3]\n",
      " [4 5 6]]\n",
      "[[7 8 9]]\n"
     ]
    }
   ],
   "source": [
    "a = np.array([[1,2,3], [4,5,6]])\n",
    "b = np.array([[7,8,9]])\n",
    "print(a)\n",
    "print(b)"
   ]
  },
  {
   "cell_type": "code",
   "execution_count": 196,
   "id": "659a6b36",
   "metadata": {
    "ExecuteTime": {
     "end_time": "2022-11-22T05:52:08.236427Z",
     "start_time": "2022-11-22T05:52:08.230676Z"
    }
   },
   "outputs": [
    {
     "name": "stdout",
     "output_type": "stream",
     "text": [
      "[1 2 3 4 5 6 7 8 9]\n"
     ]
    }
   ],
   "source": [
    "c = np.append(a, b)\n",
    "print(c)"
   ]
  },
  {
   "cell_type": "code",
   "execution_count": 198,
   "id": "c5692823",
   "metadata": {
    "ExecuteTime": {
     "end_time": "2022-11-22T05:52:41.825962Z",
     "start_time": "2022-11-22T05:52:41.820272Z"
    }
   },
   "outputs": [
    {
     "name": "stdout",
     "output_type": "stream",
     "text": [
      "[[1 2 3]\n",
      " [4 5 6]\n",
      " [7 8 9]]\n"
     ]
    }
   ],
   "source": [
    "c = np.append(a,b,axis=0)\n",
    "print(c)"
   ]
  },
  {
   "cell_type": "code",
   "execution_count": 199,
   "id": "ba7a9c4d",
   "metadata": {
    "ExecuteTime": {
     "end_time": "2022-11-22T05:53:19.694308Z",
     "start_time": "2022-11-22T05:53:19.686698Z"
    }
   },
   "outputs": [
    {
     "name": "stdout",
     "output_type": "stream",
     "text": [
      "[1 5 2 3]\n"
     ]
    }
   ],
   "source": [
    "a = np.array([1,2,3])\n",
    "b = np.insert(a, 1, 5)\n",
    "print(b)"
   ]
  },
  {
   "cell_type": "code",
   "execution_count": 203,
   "id": "54403b50",
   "metadata": {
    "ExecuteTime": {
     "end_time": "2022-11-22T05:54:49.932547Z",
     "start_time": "2022-11-22T05:54:49.921977Z"
    }
   },
   "outputs": [
    {
     "name": "stdout",
     "output_type": "stream",
     "text": [
      "[[0 1 2 3 4]\n",
      " [5 6 7 8 9]]\n",
      "[[0 1 2 3 4]\n",
      " [5 6 7 8 9]]\n",
      "[0 5 1 2 3 4 5 6 7 8 9]\n",
      "[[0 1 2 3 4]\n",
      " [5 5 5 5 5]\n",
      " [5 6 7 8 9]]\n",
      "[[0 5 1 2 3 4]\n",
      " [5 5 6 7 8 9]]\n"
     ]
    }
   ],
   "source": [
    "a = np.arange(10).reshape(2,5)\n",
    "print(a)\n",
    "b = np.insert(a, 1, 5)\n",
    "print(a)\n",
    "print(b)#flatten된다.\n",
    "\n",
    "b = np.insert(a, 1, 5, axis=0) #행에 값을 추가해준다.\n",
    "c = np.insert(a, 1, 5, axis=1)\n",
    "print(b)\n",
    "print(c)"
   ]
  },
  {
   "cell_type": "code",
   "execution_count": 204,
   "id": "2a28877a",
   "metadata": {
    "ExecuteTime": {
     "end_time": "2022-11-22T05:56:04.534327Z",
     "start_time": "2022-11-22T05:56:04.528023Z"
    }
   },
   "outputs": [
    {
     "name": "stdout",
     "output_type": "stream",
     "text": [
      "[[ 0  1  2  3]\n",
      " [ 4  5  6  7]\n",
      " [ 8  9 10 11]]\n"
     ]
    }
   ],
   "source": [
    "a = np.arange(12).reshape(3,4)\n",
    "print(a)"
   ]
  },
  {
   "cell_type": "code",
   "execution_count": 210,
   "id": "39b05b01",
   "metadata": {
    "ExecuteTime": {
     "end_time": "2022-11-22T05:57:48.877143Z",
     "start_time": "2022-11-22T05:57:48.870587Z"
    }
   },
   "outputs": [
    {
     "name": "stdout",
     "output_type": "stream",
     "text": [
      "[[ 0  1  2  3]\n",
      " [ 4  5  6  7]\n",
      " [ 8  9 10 11]]\n",
      "\n",
      "[ 0  1  2  3  4  6  7  8  9 10 11]\n",
      "\n",
      "[[ 0  1  2  3]\n",
      " [ 8  9 10 11]]\n",
      "\n",
      "[[ 0  2  3]\n",
      " [ 4  6  7]\n",
      " [ 8 10 11]]\n"
     ]
    }
   ],
   "source": [
    "print(a)\n",
    "\n",
    "print('')\n",
    "\n",
    "print(np.delete(a, 5))\n",
    "print('')\n",
    "print(np.delete(a, 1, axis=0))\n",
    "print('')\n",
    "print(np.delete(a, 1, axis=1))"
   ]
  },
  {
   "cell_type": "markdown",
   "id": "8ad0e1ce",
   "metadata": {
    "ExecuteTime": {
     "end_time": "2022-11-22T05:57:06.397825Z",
     "start_time": "2022-11-22T05:57:06.390970Z"
    }
   },
   "source": [
    "### 결합"
   ]
  },
  {
   "cell_type": "code",
   "execution_count": 214,
   "id": "8ef7112a",
   "metadata": {
    "ExecuteTime": {
     "end_time": "2022-11-22T06:00:32.282212Z",
     "start_time": "2022-11-22T06:00:32.275040Z"
    }
   },
   "outputs": [
    {
     "name": "stdout",
     "output_type": "stream",
     "text": [
      "[1 2 3 4 5 6]\n"
     ]
    }
   ],
   "source": [
    "a = np.array([1,2,3])\n",
    "b = np.array([4,5,6])\n",
    "arr = np.concatenate((a,b ))\n",
    "print(arr)"
   ]
  },
  {
   "cell_type": "code",
   "execution_count": 218,
   "id": "c028e686",
   "metadata": {
    "ExecuteTime": {
     "end_time": "2022-11-22T06:01:59.519864Z",
     "start_time": "2022-11-22T06:01:59.511764Z"
    }
   },
   "outputs": [
    {
     "name": "stdout",
     "output_type": "stream",
     "text": [
      "[[1 2 3]\n",
      " [4 5 6]]\n"
     ]
    }
   ],
   "source": [
    "a = np.array([[1,2,3]])\n",
    "b = np.array([[4,5,6]])\n",
    "arr = np.concatenate((a,b))\n",
    "print(arr)"
   ]
  },
  {
   "cell_type": "code",
   "execution_count": 220,
   "id": "42c5b2ab",
   "metadata": {
    "ExecuteTime": {
     "end_time": "2022-11-22T06:02:10.177916Z",
     "start_time": "2022-11-22T06:02:10.169636Z"
    }
   },
   "outputs": [
    {
     "name": "stdout",
     "output_type": "stream",
     "text": [
      "[[1 2 3]\n",
      " [4 5 6]]\n",
      "[[1 2 3 4 5 6]]\n"
     ]
    }
   ],
   "source": [
    "arr = np.concatenate((a,b), axis = 0) #디폴트로 axis가 0\n",
    "print(arr)\n",
    "\n",
    "arr = np.concatenate((a,b), axis = 1)\n",
    "print(arr)\n",
    "\n"
   ]
  },
  {
   "cell_type": "code",
   "execution_count": 222,
   "id": "334180eb",
   "metadata": {
    "ExecuteTime": {
     "end_time": "2022-11-22T06:02:47.739865Z",
     "start_time": "2022-11-22T06:02:47.731874Z"
    }
   },
   "outputs": [
    {
     "data": {
      "text/plain": [
       "array([[1, 2, 3],\n",
       "       [4, 5, 6]])"
      ]
     },
     "execution_count": 222,
     "metadata": {},
     "output_type": "execute_result"
    }
   ],
   "source": [
    "a = np.array([1,2,3])\n",
    "b = np.array([4,5,6])\n",
    "\n",
    "np.vstack((a,b))"
   ]
  },
  {
   "cell_type": "code",
   "execution_count": 223,
   "id": "e4423ed4",
   "metadata": {
    "ExecuteTime": {
     "end_time": "2022-11-22T06:02:56.409413Z",
     "start_time": "2022-11-22T06:02:56.402256Z"
    }
   },
   "outputs": [
    {
     "data": {
      "text/plain": [
       "array([1, 2, 3, 4, 5, 6])"
      ]
     },
     "execution_count": 223,
     "metadata": {},
     "output_type": "execute_result"
    }
   ],
   "source": [
    "np.hstack((a,b))"
   ]
  },
  {
   "cell_type": "markdown",
   "id": "5f172653",
   "metadata": {},
   "source": [
    "### 분리"
   ]
  },
  {
   "cell_type": "code",
   "execution_count": 233,
   "id": "24c97184",
   "metadata": {
    "ExecuteTime": {
     "end_time": "2022-11-22T06:04:49.495364Z",
     "start_time": "2022-11-22T06:04:49.489895Z"
    }
   },
   "outputs": [
    {
     "name": "stdout",
     "output_type": "stream",
     "text": [
      "[[ 0  1  2  3]\n",
      " [ 4  5  6  7]\n",
      " [ 8  9 10 11]\n",
      " [12 13 14 15]]\n"
     ]
    }
   ],
   "source": [
    "a = np.arange(16).reshape(4,4)\n",
    "print(a)"
   ]
  },
  {
   "cell_type": "code",
   "execution_count": 234,
   "id": "0a859258",
   "metadata": {
    "ExecuteTime": {
     "end_time": "2022-11-22T06:04:49.644662Z",
     "start_time": "2022-11-22T06:04:49.638597Z"
    }
   },
   "outputs": [
    {
     "name": "stdout",
     "output_type": "stream",
     "text": [
      "[array([[ 0,  1],\n",
      "       [ 4,  5],\n",
      "       [ 8,  9],\n",
      "       [12, 13]]), array([[ 2,  3],\n",
      "       [ 6,  7],\n",
      "       [10, 11],\n",
      "       [14, 15]])]\n"
     ]
    }
   ],
   "source": [
    "a_h = np.hsplit(a, 2)\n",
    "print(a_h)"
   ]
  },
  {
   "cell_type": "code",
   "execution_count": 235,
   "id": "22748676",
   "metadata": {
    "ExecuteTime": {
     "end_time": "2022-11-22T06:04:49.796542Z",
     "start_time": "2022-11-22T06:04:49.791102Z"
    }
   },
   "outputs": [
    {
     "name": "stdout",
     "output_type": "stream",
     "text": [
      "[array([[0, 1, 2, 3],\n",
      "       [4, 5, 6, 7]]), array([[ 8,  9, 10, 11],\n",
      "       [12, 13, 14, 15]])]\n"
     ]
    }
   ],
   "source": [
    "a_v = np.vsplit(a, 2)\n",
    "print(a_v)"
   ]
  },
  {
   "cell_type": "markdown",
   "id": "2cc52825",
   "metadata": {
    "ExecuteTime": {
     "end_time": "2022-11-22T06:05:22.698976Z",
     "start_time": "2022-11-22T06:05:22.695936Z"
    }
   },
   "source": [
    "# pandas"
   ]
  },
  {
   "cell_type": "markdown",
   "id": "745a9506",
   "metadata": {},
   "source": [
    "## 판다스 기본"
   ]
  },
  {
   "cell_type": "code",
   "execution_count": 237,
   "id": "4cdc709e",
   "metadata": {
    "ExecuteTime": {
     "end_time": "2022-11-22T06:06:35.011588Z",
     "start_time": "2022-11-22T06:06:18.995249Z"
    }
   },
   "outputs": [],
   "source": [
    "import pandas as pd"
   ]
  },
  {
   "cell_type": "code",
   "execution_count": 238,
   "id": "f19db991",
   "metadata": {
    "ExecuteTime": {
     "end_time": "2022-11-22T06:06:53.242678Z",
     "start_time": "2022-11-22T06:06:53.231641Z"
    }
   },
   "outputs": [
    {
     "data": {
      "text/plain": [
       "0     95\n",
       "1    100\n",
       "2     90\n",
       "3     60\n",
       "dtype: int64"
      ]
     },
     "execution_count": 238,
     "metadata": {},
     "output_type": "execute_result"
    }
   ],
   "source": [
    "score = pd.Series([95, 100, 90, 60])\n",
    "score"
   ]
  },
  {
   "cell_type": "code",
   "execution_count": 240,
   "id": "501ace79",
   "metadata": {
    "ExecuteTime": {
     "end_time": "2022-11-22T06:17:52.640951Z",
     "start_time": "2022-11-22T06:17:52.631526Z"
    }
   },
   "outputs": [
    {
     "data": {
      "text/plain": [
       "0    4.0\n",
       "1    3.5\n",
       "2    3.8\n",
       "3    3.0\n",
       "4    3.7\n",
       "dtype: float64"
      ]
     },
     "execution_count": 240,
     "metadata": {},
     "output_type": "execute_result"
    }
   ],
   "source": [
    "s = pd.Series([4,3.5,3.8,3,3.7])\n",
    "s"
   ]
  },
  {
   "cell_type": "code",
   "execution_count": 241,
   "id": "37fcafe9",
   "metadata": {
    "ExecuteTime": {
     "end_time": "2022-11-22T06:51:36.270477Z",
     "start_time": "2022-11-22T06:51:36.230604Z"
    }
   },
   "outputs": [
    {
     "data": {
      "text/plain": [
       "A    90\n",
       "B    80\n",
       "C    95\n",
       "dtype: int64"
      ]
     },
     "execution_count": 241,
     "metadata": {},
     "output_type": "execute_result"
    }
   ],
   "source": [
    "s = pd.Series([90, 80, 95], index=['A', 'B', 'C'])\n",
    "s"
   ]
  },
  {
   "cell_type": "code",
   "execution_count": 247,
   "id": "888f0b43",
   "metadata": {
    "ExecuteTime": {
     "end_time": "2022-11-22T06:54:32.786661Z",
     "start_time": "2022-11-22T06:54:32.777722Z"
    }
   },
   "outputs": [
    {
     "data": {
      "text/plain": [
       "array([[ 0,  1,  2],\n",
       "       [ 3,  4,  5],\n",
       "       [ 6,  7,  8],\n",
       "       [ 9, 10, 11]])"
      ]
     },
     "execution_count": 247,
     "metadata": {},
     "output_type": "execute_result"
    }
   ],
   "source": [
    "df = np.arange(12).reshape(4,3)\n",
    "df"
   ]
  },
  {
   "cell_type": "markdown",
   "id": "82f85e51",
   "metadata": {},
   "source": [
    "## 데이터프레임 만들기"
   ]
  },
  {
   "cell_type": "code",
   "execution_count": 246,
   "id": "d89aa973",
   "metadata": {
    "ExecuteTime": {
     "end_time": "2022-11-22T06:54:31.009034Z",
     "start_time": "2022-11-22T06:54:30.991535Z"
    }
   },
   "outputs": [
    {
     "name": "stdout",
     "output_type": "stream",
     "text": [
      "   0  1  2  3  4  5\n",
      "0  1  2  3  4  5  6\n"
     ]
    }
   ],
   "source": [
    "df = pd.DataFrame(arr)\n",
    "print(df)"
   ]
  },
  {
   "cell_type": "code",
   "execution_count": 245,
   "id": "11066e51",
   "metadata": {
    "ExecuteTime": {
     "end_time": "2022-11-22T06:52:52.119469Z",
     "start_time": "2022-11-22T06:52:52.104018Z"
    }
   },
   "outputs": [
    {
     "data": {
      "text/html": [
       "<div>\n",
       "<style scoped>\n",
       "    .dataframe tbody tr th:only-of-type {\n",
       "        vertical-align: middle;\n",
       "    }\n",
       "\n",
       "    .dataframe tbody tr th {\n",
       "        vertical-align: top;\n",
       "    }\n",
       "\n",
       "    .dataframe thead th {\n",
       "        text-align: right;\n",
       "    }\n",
       "</style>\n",
       "<table border=\"1\" class=\"dataframe\">\n",
       "  <thead>\n",
       "    <tr style=\"text-align: right;\">\n",
       "      <th></th>\n",
       "      <th>0</th>\n",
       "      <th>1</th>\n",
       "      <th>2</th>\n",
       "      <th>3</th>\n",
       "      <th>4</th>\n",
       "      <th>5</th>\n",
       "    </tr>\n",
       "  </thead>\n",
       "  <tbody>\n",
       "    <tr>\n",
       "      <th>0</th>\n",
       "      <td>1</td>\n",
       "      <td>2</td>\n",
       "      <td>3</td>\n",
       "      <td>4</td>\n",
       "      <td>5</td>\n",
       "      <td>6</td>\n",
       "    </tr>\n",
       "  </tbody>\n",
       "</table>\n",
       "</div>"
      ],
      "text/plain": [
       "   0  1  2  3  4  5\n",
       "0  1  2  3  4  5  6"
      ]
     },
     "execution_count": 245,
     "metadata": {},
     "output_type": "execute_result"
    }
   ],
   "source": [
    "df"
   ]
  },
  {
   "cell_type": "code",
   "execution_count": 249,
   "id": "1e3087eb",
   "metadata": {
    "ExecuteTime": {
     "end_time": "2022-11-22T06:56:03.761893Z",
     "start_time": "2022-11-22T06:56:03.739082Z"
    }
   },
   "outputs": [
    {
     "data": {
      "text/html": [
       "<div>\n",
       "<style scoped>\n",
       "    .dataframe tbody tr th:only-of-type {\n",
       "        vertical-align: middle;\n",
       "    }\n",
       "\n",
       "    .dataframe tbody tr th {\n",
       "        vertical-align: top;\n",
       "    }\n",
       "\n",
       "    .dataframe thead th {\n",
       "        text-align: right;\n",
       "    }\n",
       "</style>\n",
       "<table border=\"1\" class=\"dataframe\">\n",
       "  <thead>\n",
       "    <tr style=\"text-align: right;\">\n",
       "      <th></th>\n",
       "      <th>name</th>\n",
       "      <th>score</th>\n",
       "      <th>dept</th>\n",
       "    </tr>\n",
       "  </thead>\n",
       "  <tbody>\n",
       "    <tr>\n",
       "      <th>0</th>\n",
       "      <td>aaa</td>\n",
       "      <td>90</td>\n",
       "      <td>com</td>\n",
       "    </tr>\n",
       "    <tr>\n",
       "      <th>1</th>\n",
       "      <td>bbb</td>\n",
       "      <td>80</td>\n",
       "      <td>eng</td>\n",
       "    </tr>\n",
       "    <tr>\n",
       "      <th>2</th>\n",
       "      <td>ccc</td>\n",
       "      <td>95</td>\n",
       "      <td>math</td>\n",
       "    </tr>\n",
       "  </tbody>\n",
       "</table>\n",
       "</div>"
      ],
      "text/plain": [
       "  name  score  dept\n",
       "0  aaa     90   com\n",
       "1  bbb     80   eng\n",
       "2  ccc     95  math"
      ]
     },
     "execution_count": 249,
     "metadata": {},
     "output_type": "execute_result"
    }
   ],
   "source": [
    "df = pd.DataFrame({\n",
    "    'name' : ['aaa', 'bbb', 'ccc'],\n",
    "    'score' : [90 ,80, 95],\n",
    "    'dept' : ['com', 'eng', 'math']\n",
    "})\n",
    "df"
   ]
  },
  {
   "cell_type": "markdown",
   "id": "1e868448",
   "metadata": {
    "ExecuteTime": {
     "end_time": "2022-11-22T06:56:45.235305Z",
     "start_time": "2022-11-22T06:56:45.231855Z"
    }
   },
   "source": [
    "## CSV파일 불러오기"
   ]
  },
  {
   "cell_type": "code",
   "execution_count": 404,
   "id": "39c6e948",
   "metadata": {
    "ExecuteTime": {
     "end_time": "2022-11-22T09:25:01.727641Z",
     "start_time": "2022-11-22T09:25:01.715977Z"
    }
   },
   "outputs": [
    {
     "data": {
      "text/plain": [
       "'/Users/ddinghwan/Desktop/학교/22-2/randpython/8weeks'"
      ]
     },
     "execution_count": 404,
     "metadata": {},
     "output_type": "execute_result"
    }
   ],
   "source": [
    "import os\n",
    "\n",
    "os.getcwd()"
   ]
  },
  {
   "cell_type": "code",
   "execution_count": 423,
   "id": "2fc9ed0a",
   "metadata": {
    "ExecuteTime": {
     "end_time": "2022-11-22T09:25:58.795336Z",
     "start_time": "2022-11-22T09:25:58.770161Z"
    }
   },
   "outputs": [
    {
     "data": {
      "text/html": [
       "<div>\n",
       "<style scoped>\n",
       "    .dataframe tbody tr th:only-of-type {\n",
       "        vertical-align: middle;\n",
       "    }\n",
       "\n",
       "    .dataframe tbody tr th {\n",
       "        vertical-align: top;\n",
       "    }\n",
       "\n",
       "    .dataframe thead th {\n",
       "        text-align: right;\n",
       "    }\n",
       "</style>\n",
       "<table border=\"1\" class=\"dataframe\">\n",
       "  <thead>\n",
       "    <tr style=\"text-align: right;\">\n",
       "      <th></th>\n",
       "      <th>date</th>\n",
       "      <th>temp</th>\n",
       "      <th>max_wind</th>\n",
       "      <th>mean_wind</th>\n",
       "    </tr>\n",
       "  </thead>\n",
       "  <tbody>\n",
       "    <tr>\n",
       "      <th>0</th>\n",
       "      <td>2010-08-01</td>\n",
       "      <td>28.7</td>\n",
       "      <td>8.3</td>\n",
       "      <td>3.4</td>\n",
       "    </tr>\n",
       "    <tr>\n",
       "      <th>1</th>\n",
       "      <td>2010-08-02</td>\n",
       "      <td>25.2</td>\n",
       "      <td>8.7</td>\n",
       "      <td>3.8</td>\n",
       "    </tr>\n",
       "    <tr>\n",
       "      <th>2</th>\n",
       "      <td>2010-08-03</td>\n",
       "      <td>22.1</td>\n",
       "      <td>6.3</td>\n",
       "      <td>2.9</td>\n",
       "    </tr>\n",
       "    <tr>\n",
       "      <th>3</th>\n",
       "      <td>2010-08-04</td>\n",
       "      <td>25.3</td>\n",
       "      <td>6.6</td>\n",
       "      <td>4.2</td>\n",
       "    </tr>\n",
       "    <tr>\n",
       "      <th>4</th>\n",
       "      <td>2010-08-05</td>\n",
       "      <td>27.2</td>\n",
       "      <td>9.1</td>\n",
       "      <td>5.6</td>\n",
       "    </tr>\n",
       "    <tr>\n",
       "      <th>...</th>\n",
       "      <td>...</td>\n",
       "      <td>...</td>\n",
       "      <td>...</td>\n",
       "      <td>...</td>\n",
       "    </tr>\n",
       "    <tr>\n",
       "      <th>3648</th>\n",
       "      <td>2020-07-27</td>\n",
       "      <td>22.1</td>\n",
       "      <td>4.2</td>\n",
       "      <td>1.7</td>\n",
       "    </tr>\n",
       "    <tr>\n",
       "      <th>3649</th>\n",
       "      <td>2020-07-28</td>\n",
       "      <td>21.9</td>\n",
       "      <td>4.5</td>\n",
       "      <td>1.6</td>\n",
       "    </tr>\n",
       "    <tr>\n",
       "      <th>3650</th>\n",
       "      <td>2020-07-29</td>\n",
       "      <td>21.6</td>\n",
       "      <td>3.2</td>\n",
       "      <td>1.0</td>\n",
       "    </tr>\n",
       "    <tr>\n",
       "      <th>3651</th>\n",
       "      <td>2020-07-30</td>\n",
       "      <td>22.9</td>\n",
       "      <td>9.7</td>\n",
       "      <td>2.4</td>\n",
       "    </tr>\n",
       "    <tr>\n",
       "      <th>3652</th>\n",
       "      <td>2020-07-31</td>\n",
       "      <td>25.7</td>\n",
       "      <td>4.8</td>\n",
       "      <td>2.5</td>\n",
       "    </tr>\n",
       "  </tbody>\n",
       "</table>\n",
       "<p>3653 rows × 4 columns</p>\n",
       "</div>"
      ],
      "text/plain": [
       "            date  temp  max_wind  mean_wind\n",
       "0     2010-08-01  28.7       8.3        3.4\n",
       "1     2010-08-02  25.2       8.7        3.8\n",
       "2     2010-08-03  22.1       6.3        2.9\n",
       "3     2010-08-04  25.3       6.6        4.2\n",
       "4     2010-08-05  27.2       9.1        5.6\n",
       "...          ...   ...       ...        ...\n",
       "3648  2020-07-27  22.1       4.2        1.7\n",
       "3649  2020-07-28  21.9       4.5        1.6\n",
       "3650  2020-07-29  21.6       3.2        1.0\n",
       "3651  2020-07-30  22.9       9.7        2.4\n",
       "3652  2020-07-31  25.7       4.8        2.5\n",
       "\n",
       "[3653 rows x 4 columns]"
      ]
     },
     "execution_count": 423,
     "metadata": {},
     "output_type": "execute_result"
    }
   ],
   "source": [
    "df = pd.read_csv('./data/weather1.csv')\n",
    "df\n",
    "#구분자가 다를때는 sep option, header option등을 변경한다.\n"
   ]
  },
  {
   "cell_type": "code",
   "execution_count": 406,
   "id": "ed3843c2",
   "metadata": {
    "ExecuteTime": {
     "end_time": "2022-11-22T09:25:04.655859Z",
     "start_time": "2022-11-22T09:25:04.648251Z"
    }
   },
   "outputs": [
    {
     "data": {
      "text/plain": [
       "str"
      ]
     },
     "execution_count": 406,
     "metadata": {},
     "output_type": "execute_result"
    }
   ],
   "source": [
    "type(df['date'][0])"
   ]
  },
  {
   "cell_type": "code",
   "execution_count": 407,
   "id": "08bea5d6",
   "metadata": {
    "ExecuteTime": {
     "end_time": "2022-11-22T09:25:05.669526Z",
     "start_time": "2022-11-22T09:25:05.663300Z"
    }
   },
   "outputs": [
    {
     "data": {
      "text/plain": [
       "numpy.float64"
      ]
     },
     "execution_count": 407,
     "metadata": {},
     "output_type": "execute_result"
    }
   ],
   "source": [
    "type(df['temp'][0])"
   ]
  },
  {
   "cell_type": "markdown",
   "id": "17ab9f82",
   "metadata": {},
   "source": [
    "## 데이터 화긴"
   ]
  },
  {
   "cell_type": "code",
   "execution_count": 272,
   "id": "1e1a6575",
   "metadata": {
    "ExecuteTime": {
     "end_time": "2022-11-22T08:07:35.728306Z",
     "start_time": "2022-11-22T08:07:35.719698Z"
    }
   },
   "outputs": [
    {
     "data": {
      "text/plain": [
       "(3653, 4)"
      ]
     },
     "execution_count": 272,
     "metadata": {},
     "output_type": "execute_result"
    }
   ],
   "source": [
    "df.shape"
   ]
  },
  {
   "cell_type": "code",
   "execution_count": 269,
   "id": "0f49e911",
   "metadata": {
    "ExecuteTime": {
     "end_time": "2022-11-22T07:04:13.913369Z",
     "start_time": "2022-11-22T07:04:13.896681Z"
    }
   },
   "outputs": [
    {
     "name": "stdout",
     "output_type": "stream",
     "text": [
      "<class 'pandas.core.frame.DataFrame'>\n",
      "RangeIndex: 3653 entries, 0 to 3652\n",
      "Data columns (total 4 columns):\n",
      " #   Column     Non-Null Count  Dtype  \n",
      "---  ------     --------------  -----  \n",
      " 0   date       3653 non-null   object \n",
      " 1   temp       3653 non-null   float64\n",
      " 2   max_wind   3649 non-null   float64\n",
      " 3   mean_wind  3647 non-null   float64\n",
      "dtypes: float64(3), object(1)\n",
      "memory usage: 114.3+ KB\n"
     ]
    }
   ],
   "source": [
    "df.info()"
   ]
  },
  {
   "cell_type": "code",
   "execution_count": 275,
   "id": "90124f0c",
   "metadata": {
    "ExecuteTime": {
     "end_time": "2022-11-22T08:07:59.008183Z",
     "start_time": "2022-11-22T08:07:58.990653Z"
    }
   },
   "outputs": [
    {
     "data": {
      "text/html": [
       "<div>\n",
       "<style scoped>\n",
       "    .dataframe tbody tr th:only-of-type {\n",
       "        vertical-align: middle;\n",
       "    }\n",
       "\n",
       "    .dataframe tbody tr th {\n",
       "        vertical-align: top;\n",
       "    }\n",
       "\n",
       "    .dataframe thead th {\n",
       "        text-align: right;\n",
       "    }\n",
       "</style>\n",
       "<table border=\"1\" class=\"dataframe\">\n",
       "  <thead>\n",
       "    <tr style=\"text-align: right;\">\n",
       "      <th></th>\n",
       "      <th>date</th>\n",
       "      <th>temp</th>\n",
       "      <th>max_wind</th>\n",
       "      <th>mean_wind</th>\n",
       "    </tr>\n",
       "  </thead>\n",
       "  <tbody>\n",
       "    <tr>\n",
       "      <th>0</th>\n",
       "      <td>2010-08-01</td>\n",
       "      <td>28.7</td>\n",
       "      <td>8.3</td>\n",
       "      <td>3.4</td>\n",
       "    </tr>\n",
       "    <tr>\n",
       "      <th>1</th>\n",
       "      <td>2010-08-02</td>\n",
       "      <td>25.2</td>\n",
       "      <td>8.7</td>\n",
       "      <td>3.8</td>\n",
       "    </tr>\n",
       "    <tr>\n",
       "      <th>2</th>\n",
       "      <td>2010-08-03</td>\n",
       "      <td>22.1</td>\n",
       "      <td>6.3</td>\n",
       "      <td>2.9</td>\n",
       "    </tr>\n",
       "    <tr>\n",
       "      <th>3</th>\n",
       "      <td>2010-08-04</td>\n",
       "      <td>25.3</td>\n",
       "      <td>6.6</td>\n",
       "      <td>4.2</td>\n",
       "    </tr>\n",
       "    <tr>\n",
       "      <th>4</th>\n",
       "      <td>2010-08-05</td>\n",
       "      <td>27.2</td>\n",
       "      <td>9.1</td>\n",
       "      <td>5.6</td>\n",
       "    </tr>\n",
       "  </tbody>\n",
       "</table>\n",
       "</div>"
      ],
      "text/plain": [
       "         date  temp  max_wind  mean_wind\n",
       "0  2010-08-01  28.7       8.3        3.4\n",
       "1  2010-08-02  25.2       8.7        3.8\n",
       "2  2010-08-03  22.1       6.3        2.9\n",
       "3  2010-08-04  25.3       6.6        4.2\n",
       "4  2010-08-05  27.2       9.1        5.6"
      ]
     },
     "execution_count": 275,
     "metadata": {},
     "output_type": "execute_result"
    }
   ],
   "source": [
    "df.head()"
   ]
  },
  {
   "cell_type": "code",
   "execution_count": 276,
   "id": "47683e0b",
   "metadata": {
    "ExecuteTime": {
     "end_time": "2022-11-22T08:08:02.425519Z",
     "start_time": "2022-11-22T08:08:02.404703Z"
    }
   },
   "outputs": [
    {
     "data": {
      "text/html": [
       "<div>\n",
       "<style scoped>\n",
       "    .dataframe tbody tr th:only-of-type {\n",
       "        vertical-align: middle;\n",
       "    }\n",
       "\n",
       "    .dataframe tbody tr th {\n",
       "        vertical-align: top;\n",
       "    }\n",
       "\n",
       "    .dataframe thead th {\n",
       "        text-align: right;\n",
       "    }\n",
       "</style>\n",
       "<table border=\"1\" class=\"dataframe\">\n",
       "  <thead>\n",
       "    <tr style=\"text-align: right;\">\n",
       "      <th></th>\n",
       "      <th>date</th>\n",
       "      <th>temp</th>\n",
       "      <th>max_wind</th>\n",
       "      <th>mean_wind</th>\n",
       "    </tr>\n",
       "  </thead>\n",
       "  <tbody>\n",
       "    <tr>\n",
       "      <th>0</th>\n",
       "      <td>2010-08-01</td>\n",
       "      <td>28.7</td>\n",
       "      <td>8.3</td>\n",
       "      <td>3.4</td>\n",
       "    </tr>\n",
       "    <tr>\n",
       "      <th>1</th>\n",
       "      <td>2010-08-02</td>\n",
       "      <td>25.2</td>\n",
       "      <td>8.7</td>\n",
       "      <td>3.8</td>\n",
       "    </tr>\n",
       "    <tr>\n",
       "      <th>2</th>\n",
       "      <td>2010-08-03</td>\n",
       "      <td>22.1</td>\n",
       "      <td>6.3</td>\n",
       "      <td>2.9</td>\n",
       "    </tr>\n",
       "    <tr>\n",
       "      <th>3</th>\n",
       "      <td>2010-08-04</td>\n",
       "      <td>25.3</td>\n",
       "      <td>6.6</td>\n",
       "      <td>4.2</td>\n",
       "    </tr>\n",
       "    <tr>\n",
       "      <th>4</th>\n",
       "      <td>2010-08-05</td>\n",
       "      <td>27.2</td>\n",
       "      <td>9.1</td>\n",
       "      <td>5.6</td>\n",
       "    </tr>\n",
       "    <tr>\n",
       "      <th>5</th>\n",
       "      <td>2010-08-06</td>\n",
       "      <td>26.8</td>\n",
       "      <td>9.8</td>\n",
       "      <td>8.0</td>\n",
       "    </tr>\n",
       "    <tr>\n",
       "      <th>6</th>\n",
       "      <td>2010-08-07</td>\n",
       "      <td>27.5</td>\n",
       "      <td>9.1</td>\n",
       "      <td>5.0</td>\n",
       "    </tr>\n",
       "    <tr>\n",
       "      <th>7</th>\n",
       "      <td>2010-08-08</td>\n",
       "      <td>26.6</td>\n",
       "      <td>5.9</td>\n",
       "      <td>4.0</td>\n",
       "    </tr>\n",
       "    <tr>\n",
       "      <th>8</th>\n",
       "      <td>2010-08-09</td>\n",
       "      <td>26.9</td>\n",
       "      <td>5.1</td>\n",
       "      <td>3.1</td>\n",
       "    </tr>\n",
       "    <tr>\n",
       "      <th>9</th>\n",
       "      <td>2010-08-10</td>\n",
       "      <td>25.6</td>\n",
       "      <td>10.2</td>\n",
       "      <td>5.5</td>\n",
       "    </tr>\n",
       "  </tbody>\n",
       "</table>\n",
       "</div>"
      ],
      "text/plain": [
       "         date  temp  max_wind  mean_wind\n",
       "0  2010-08-01  28.7       8.3        3.4\n",
       "1  2010-08-02  25.2       8.7        3.8\n",
       "2  2010-08-03  22.1       6.3        2.9\n",
       "3  2010-08-04  25.3       6.6        4.2\n",
       "4  2010-08-05  27.2       9.1        5.6\n",
       "5  2010-08-06  26.8       9.8        8.0\n",
       "6  2010-08-07  27.5       9.1        5.0\n",
       "7  2010-08-08  26.6       5.9        4.0\n",
       "8  2010-08-09  26.9       5.1        3.1\n",
       "9  2010-08-10  25.6      10.2        5.5"
      ]
     },
     "execution_count": 276,
     "metadata": {},
     "output_type": "execute_result"
    }
   ],
   "source": [
    "df.head(10)"
   ]
  },
  {
   "cell_type": "code",
   "execution_count": 274,
   "id": "35ea978e",
   "metadata": {
    "ExecuteTime": {
     "end_time": "2022-11-22T08:07:57.121284Z",
     "start_time": "2022-11-22T08:07:57.103733Z"
    }
   },
   "outputs": [
    {
     "data": {
      "text/html": [
       "<div>\n",
       "<style scoped>\n",
       "    .dataframe tbody tr th:only-of-type {\n",
       "        vertical-align: middle;\n",
       "    }\n",
       "\n",
       "    .dataframe tbody tr th {\n",
       "        vertical-align: top;\n",
       "    }\n",
       "\n",
       "    .dataframe thead th {\n",
       "        text-align: right;\n",
       "    }\n",
       "</style>\n",
       "<table border=\"1\" class=\"dataframe\">\n",
       "  <thead>\n",
       "    <tr style=\"text-align: right;\">\n",
       "      <th></th>\n",
       "      <th>date</th>\n",
       "      <th>temp</th>\n",
       "      <th>max_wind</th>\n",
       "      <th>mean_wind</th>\n",
       "    </tr>\n",
       "  </thead>\n",
       "  <tbody>\n",
       "    <tr>\n",
       "      <th>3648</th>\n",
       "      <td>2020-07-27</td>\n",
       "      <td>22.1</td>\n",
       "      <td>4.2</td>\n",
       "      <td>1.7</td>\n",
       "    </tr>\n",
       "    <tr>\n",
       "      <th>3649</th>\n",
       "      <td>2020-07-28</td>\n",
       "      <td>21.9</td>\n",
       "      <td>4.5</td>\n",
       "      <td>1.6</td>\n",
       "    </tr>\n",
       "    <tr>\n",
       "      <th>3650</th>\n",
       "      <td>2020-07-29</td>\n",
       "      <td>21.6</td>\n",
       "      <td>3.2</td>\n",
       "      <td>1.0</td>\n",
       "    </tr>\n",
       "    <tr>\n",
       "      <th>3651</th>\n",
       "      <td>2020-07-30</td>\n",
       "      <td>22.9</td>\n",
       "      <td>9.7</td>\n",
       "      <td>2.4</td>\n",
       "    </tr>\n",
       "    <tr>\n",
       "      <th>3652</th>\n",
       "      <td>2020-07-31</td>\n",
       "      <td>25.7</td>\n",
       "      <td>4.8</td>\n",
       "      <td>2.5</td>\n",
       "    </tr>\n",
       "  </tbody>\n",
       "</table>\n",
       "</div>"
      ],
      "text/plain": [
       "            date  temp  max_wind  mean_wind\n",
       "3648  2020-07-27  22.1       4.2        1.7\n",
       "3649  2020-07-28  21.9       4.5        1.6\n",
       "3650  2020-07-29  21.6       3.2        1.0\n",
       "3651  2020-07-30  22.9       9.7        2.4\n",
       "3652  2020-07-31  25.7       4.8        2.5"
      ]
     },
     "execution_count": 274,
     "metadata": {},
     "output_type": "execute_result"
    }
   ],
   "source": [
    "df.tail()"
   ]
  },
  {
   "cell_type": "code",
   "execution_count": 277,
   "id": "3c0f4c7b",
   "metadata": {
    "ExecuteTime": {
     "end_time": "2022-11-22T08:08:08.362304Z",
     "start_time": "2022-11-22T08:08:08.340977Z"
    }
   },
   "outputs": [
    {
     "data": {
      "text/html": [
       "<div>\n",
       "<style scoped>\n",
       "    .dataframe tbody tr th:only-of-type {\n",
       "        vertical-align: middle;\n",
       "    }\n",
       "\n",
       "    .dataframe tbody tr th {\n",
       "        vertical-align: top;\n",
       "    }\n",
       "\n",
       "    .dataframe thead th {\n",
       "        text-align: right;\n",
       "    }\n",
       "</style>\n",
       "<table border=\"1\" class=\"dataframe\">\n",
       "  <thead>\n",
       "    <tr style=\"text-align: right;\">\n",
       "      <th></th>\n",
       "      <th>date</th>\n",
       "      <th>temp</th>\n",
       "      <th>max_wind</th>\n",
       "      <th>mean_wind</th>\n",
       "    </tr>\n",
       "  </thead>\n",
       "  <tbody>\n",
       "    <tr>\n",
       "      <th>3643</th>\n",
       "      <td>2020-07-22</td>\n",
       "      <td>22.2</td>\n",
       "      <td>4.3</td>\n",
       "      <td>1.9</td>\n",
       "    </tr>\n",
       "    <tr>\n",
       "      <th>3644</th>\n",
       "      <td>2020-07-23</td>\n",
       "      <td>21.5</td>\n",
       "      <td>4.9</td>\n",
       "      <td>2.3</td>\n",
       "    </tr>\n",
       "    <tr>\n",
       "      <th>3645</th>\n",
       "      <td>2020-07-24</td>\n",
       "      <td>20.4</td>\n",
       "      <td>7.2</td>\n",
       "      <td>2.8</td>\n",
       "    </tr>\n",
       "    <tr>\n",
       "      <th>3646</th>\n",
       "      <td>2020-07-25</td>\n",
       "      <td>20.7</td>\n",
       "      <td>3.8</td>\n",
       "      <td>1.1</td>\n",
       "    </tr>\n",
       "    <tr>\n",
       "      <th>3647</th>\n",
       "      <td>2020-07-26</td>\n",
       "      <td>21.4</td>\n",
       "      <td>4.8</td>\n",
       "      <td>2.8</td>\n",
       "    </tr>\n",
       "    <tr>\n",
       "      <th>3648</th>\n",
       "      <td>2020-07-27</td>\n",
       "      <td>22.1</td>\n",
       "      <td>4.2</td>\n",
       "      <td>1.7</td>\n",
       "    </tr>\n",
       "    <tr>\n",
       "      <th>3649</th>\n",
       "      <td>2020-07-28</td>\n",
       "      <td>21.9</td>\n",
       "      <td>4.5</td>\n",
       "      <td>1.6</td>\n",
       "    </tr>\n",
       "    <tr>\n",
       "      <th>3650</th>\n",
       "      <td>2020-07-29</td>\n",
       "      <td>21.6</td>\n",
       "      <td>3.2</td>\n",
       "      <td>1.0</td>\n",
       "    </tr>\n",
       "    <tr>\n",
       "      <th>3651</th>\n",
       "      <td>2020-07-30</td>\n",
       "      <td>22.9</td>\n",
       "      <td>9.7</td>\n",
       "      <td>2.4</td>\n",
       "    </tr>\n",
       "    <tr>\n",
       "      <th>3652</th>\n",
       "      <td>2020-07-31</td>\n",
       "      <td>25.7</td>\n",
       "      <td>4.8</td>\n",
       "      <td>2.5</td>\n",
       "    </tr>\n",
       "  </tbody>\n",
       "</table>\n",
       "</div>"
      ],
      "text/plain": [
       "            date  temp  max_wind  mean_wind\n",
       "3643  2020-07-22  22.2       4.3        1.9\n",
       "3644  2020-07-23  21.5       4.9        2.3\n",
       "3645  2020-07-24  20.4       7.2        2.8\n",
       "3646  2020-07-25  20.7       3.8        1.1\n",
       "3647  2020-07-26  21.4       4.8        2.8\n",
       "3648  2020-07-27  22.1       4.2        1.7\n",
       "3649  2020-07-28  21.9       4.5        1.6\n",
       "3650  2020-07-29  21.6       3.2        1.0\n",
       "3651  2020-07-30  22.9       9.7        2.4\n",
       "3652  2020-07-31  25.7       4.8        2.5"
      ]
     },
     "execution_count": 277,
     "metadata": {},
     "output_type": "execute_result"
    }
   ],
   "source": [
    "df.tail(10)"
   ]
  },
  {
   "cell_type": "code",
   "execution_count": 289,
   "id": "c7b033d6",
   "metadata": {
    "ExecuteTime": {
     "end_time": "2022-11-22T08:10:32.604568Z",
     "start_time": "2022-11-22T08:10:32.596977Z"
    }
   },
   "outputs": [
    {
     "name": "stdout",
     "output_type": "stream",
     "text": [
      "RangeIndex(start=0, stop=3653, step=1)\n",
      "Index(['date', 'temp', 'max_wind', 'mean_wind'], dtype='object')\n"
     ]
    }
   ],
   "source": [
    "print(df.index) #인덱스확인\n",
    "print(df.columns) #칼럼확인"
   ]
  },
  {
   "cell_type": "code",
   "execution_count": 291,
   "id": "33836d4d",
   "metadata": {
    "ExecuteTime": {
     "end_time": "2022-11-22T08:10:56.010761Z",
     "start_time": "2022-11-22T08:10:56.001583Z"
    }
   },
   "outputs": [
    {
     "data": {
      "text/plain": [
       "12.942102381604148"
      ]
     },
     "execution_count": 291,
     "metadata": {},
     "output_type": "execute_result"
    }
   ],
   "source": [
    "#칼럼의 평균 구하기\n",
    "df['temp'].mean()"
   ]
  },
  {
   "cell_type": "code",
   "execution_count": 295,
   "id": "f66d58af",
   "metadata": {
    "ExecuteTime": {
     "end_time": "2022-11-22T08:11:19.444446Z",
     "start_time": "2022-11-22T08:11:19.421692Z"
    }
   },
   "outputs": [
    {
     "data": {
      "text/html": [
       "<div>\n",
       "<style scoped>\n",
       "    .dataframe tbody tr th:only-of-type {\n",
       "        vertical-align: middle;\n",
       "    }\n",
       "\n",
       "    .dataframe tbody tr th {\n",
       "        vertical-align: top;\n",
       "    }\n",
       "\n",
       "    .dataframe thead th {\n",
       "        text-align: right;\n",
       "    }\n",
       "</style>\n",
       "<table border=\"1\" class=\"dataframe\">\n",
       "  <thead>\n",
       "    <tr style=\"text-align: right;\">\n",
       "      <th></th>\n",
       "      <th>date</th>\n",
       "      <th>temp</th>\n",
       "      <th>max_wind</th>\n",
       "      <th>mean_wind</th>\n",
       "    </tr>\n",
       "  </thead>\n",
       "  <tbody>\n",
       "    <tr>\n",
       "      <th>0</th>\n",
       "      <td>2010-08-01</td>\n",
       "      <td>28.7</td>\n",
       "      <td>8.3</td>\n",
       "      <td>3.4</td>\n",
       "    </tr>\n",
       "    <tr>\n",
       "      <th>1</th>\n",
       "      <td>2010-08-02</td>\n",
       "      <td>25.2</td>\n",
       "      <td>8.7</td>\n",
       "      <td>3.8</td>\n",
       "    </tr>\n",
       "    <tr>\n",
       "      <th>2</th>\n",
       "      <td>2010-08-03</td>\n",
       "      <td>22.1</td>\n",
       "      <td>6.3</td>\n",
       "      <td>2.9</td>\n",
       "    </tr>\n",
       "    <tr>\n",
       "      <th>3</th>\n",
       "      <td>2010-08-04</td>\n",
       "      <td>25.3</td>\n",
       "      <td>6.6</td>\n",
       "      <td>4.2</td>\n",
       "    </tr>\n",
       "    <tr>\n",
       "      <th>4</th>\n",
       "      <td>2010-08-05</td>\n",
       "      <td>27.2</td>\n",
       "      <td>9.1</td>\n",
       "      <td>5.6</td>\n",
       "    </tr>\n",
       "    <tr>\n",
       "      <th>...</th>\n",
       "      <td>...</td>\n",
       "      <td>...</td>\n",
       "      <td>...</td>\n",
       "      <td>...</td>\n",
       "    </tr>\n",
       "    <tr>\n",
       "      <th>3648</th>\n",
       "      <td>2020-07-27</td>\n",
       "      <td>22.1</td>\n",
       "      <td>4.2</td>\n",
       "      <td>1.7</td>\n",
       "    </tr>\n",
       "    <tr>\n",
       "      <th>3649</th>\n",
       "      <td>2020-07-28</td>\n",
       "      <td>21.9</td>\n",
       "      <td>4.5</td>\n",
       "      <td>1.6</td>\n",
       "    </tr>\n",
       "    <tr>\n",
       "      <th>3650</th>\n",
       "      <td>2020-07-29</td>\n",
       "      <td>21.6</td>\n",
       "      <td>3.2</td>\n",
       "      <td>1.0</td>\n",
       "    </tr>\n",
       "    <tr>\n",
       "      <th>3651</th>\n",
       "      <td>2020-07-30</td>\n",
       "      <td>22.9</td>\n",
       "      <td>9.7</td>\n",
       "      <td>2.4</td>\n",
       "    </tr>\n",
       "    <tr>\n",
       "      <th>3652</th>\n",
       "      <td>2020-07-31</td>\n",
       "      <td>25.7</td>\n",
       "      <td>4.8</td>\n",
       "      <td>2.5</td>\n",
       "    </tr>\n",
       "  </tbody>\n",
       "</table>\n",
       "<p>3653 rows × 4 columns</p>\n",
       "</div>"
      ],
      "text/plain": [
       "            date  temp  max_wind  mean_wind\n",
       "0     2010-08-01  28.7       8.3        3.4\n",
       "1     2010-08-02  25.2       8.7        3.8\n",
       "2     2010-08-03  22.1       6.3        2.9\n",
       "3     2010-08-04  25.3       6.6        4.2\n",
       "4     2010-08-05  27.2       9.1        5.6\n",
       "...          ...   ...       ...        ...\n",
       "3648  2020-07-27  22.1       4.2        1.7\n",
       "3649  2020-07-28  21.9       4.5        1.6\n",
       "3650  2020-07-29  21.6       3.2        1.0\n",
       "3651  2020-07-30  22.9       9.7        2.4\n",
       "3652  2020-07-31  25.7       4.8        2.5\n",
       "\n",
       "[3653 rows x 4 columns]"
      ]
     },
     "execution_count": 295,
     "metadata": {},
     "output_type": "execute_result"
    }
   ],
   "source": [
    "# 크기순 정렬\n",
    "df.sort_values(by='date')"
   ]
  },
  {
   "cell_type": "code",
   "execution_count": 298,
   "id": "d325e127",
   "metadata": {
    "ExecuteTime": {
     "end_time": "2022-11-22T08:17:27.224226Z",
     "start_time": "2022-11-22T08:17:27.198103Z"
    }
   },
   "outputs": [
    {
     "data": {
      "text/html": [
       "<div>\n",
       "<style scoped>\n",
       "    .dataframe tbody tr th:only-of-type {\n",
       "        vertical-align: middle;\n",
       "    }\n",
       "\n",
       "    .dataframe tbody tr th {\n",
       "        vertical-align: top;\n",
       "    }\n",
       "\n",
       "    .dataframe thead th {\n",
       "        text-align: right;\n",
       "    }\n",
       "</style>\n",
       "<table border=\"1\" class=\"dataframe\">\n",
       "  <thead>\n",
       "    <tr style=\"text-align: right;\">\n",
       "      <th></th>\n",
       "      <th>date</th>\n",
       "      <th>temp</th>\n",
       "      <th>max_wind</th>\n",
       "      <th>mean_wind</th>\n",
       "    </tr>\n",
       "  </thead>\n",
       "  <tbody>\n",
       "    <tr>\n",
       "      <th>3652</th>\n",
       "      <td>2020-07-31</td>\n",
       "      <td>25.7</td>\n",
       "      <td>4.8</td>\n",
       "      <td>2.5</td>\n",
       "    </tr>\n",
       "    <tr>\n",
       "      <th>3651</th>\n",
       "      <td>2020-07-30</td>\n",
       "      <td>22.9</td>\n",
       "      <td>9.7</td>\n",
       "      <td>2.4</td>\n",
       "    </tr>\n",
       "    <tr>\n",
       "      <th>3650</th>\n",
       "      <td>2020-07-29</td>\n",
       "      <td>21.6</td>\n",
       "      <td>3.2</td>\n",
       "      <td>1.0</td>\n",
       "    </tr>\n",
       "    <tr>\n",
       "      <th>3649</th>\n",
       "      <td>2020-07-28</td>\n",
       "      <td>21.9</td>\n",
       "      <td>4.5</td>\n",
       "      <td>1.6</td>\n",
       "    </tr>\n",
       "    <tr>\n",
       "      <th>3648</th>\n",
       "      <td>2020-07-27</td>\n",
       "      <td>22.1</td>\n",
       "      <td>4.2</td>\n",
       "      <td>1.7</td>\n",
       "    </tr>\n",
       "    <tr>\n",
       "      <th>...</th>\n",
       "      <td>...</td>\n",
       "      <td>...</td>\n",
       "      <td>...</td>\n",
       "      <td>...</td>\n",
       "    </tr>\n",
       "    <tr>\n",
       "      <th>4</th>\n",
       "      <td>2010-08-05</td>\n",
       "      <td>27.2</td>\n",
       "      <td>9.1</td>\n",
       "      <td>5.6</td>\n",
       "    </tr>\n",
       "    <tr>\n",
       "      <th>3</th>\n",
       "      <td>2010-08-04</td>\n",
       "      <td>25.3</td>\n",
       "      <td>6.6</td>\n",
       "      <td>4.2</td>\n",
       "    </tr>\n",
       "    <tr>\n",
       "      <th>2</th>\n",
       "      <td>2010-08-03</td>\n",
       "      <td>22.1</td>\n",
       "      <td>6.3</td>\n",
       "      <td>2.9</td>\n",
       "    </tr>\n",
       "    <tr>\n",
       "      <th>1</th>\n",
       "      <td>2010-08-02</td>\n",
       "      <td>25.2</td>\n",
       "      <td>8.7</td>\n",
       "      <td>3.8</td>\n",
       "    </tr>\n",
       "    <tr>\n",
       "      <th>0</th>\n",
       "      <td>2010-08-01</td>\n",
       "      <td>28.7</td>\n",
       "      <td>8.3</td>\n",
       "      <td>3.4</td>\n",
       "    </tr>\n",
       "  </tbody>\n",
       "</table>\n",
       "<p>3653 rows × 4 columns</p>\n",
       "</div>"
      ],
      "text/plain": [
       "            date  temp  max_wind  mean_wind\n",
       "3652  2020-07-31  25.7       4.8        2.5\n",
       "3651  2020-07-30  22.9       9.7        2.4\n",
       "3650  2020-07-29  21.6       3.2        1.0\n",
       "3649  2020-07-28  21.9       4.5        1.6\n",
       "3648  2020-07-27  22.1       4.2        1.7\n",
       "...          ...   ...       ...        ...\n",
       "4     2010-08-05  27.2       9.1        5.6\n",
       "3     2010-08-04  25.3       6.6        4.2\n",
       "2     2010-08-03  22.1       6.3        2.9\n",
       "1     2010-08-02  25.2       8.7        3.8\n",
       "0     2010-08-01  28.7       8.3        3.4\n",
       "\n",
       "[3653 rows x 4 columns]"
      ]
     },
     "execution_count": 298,
     "metadata": {},
     "output_type": "execute_result"
    }
   ],
   "source": [
    "#정렬 시 내림차순 정렬\n",
    "df.sort_values(by='date', ascending=False)"
   ]
  },
  {
   "cell_type": "code",
   "execution_count": 299,
   "id": "1d3a932c",
   "metadata": {
    "ExecuteTime": {
     "end_time": "2022-11-22T08:17:30.448449Z",
     "start_time": "2022-11-22T08:17:30.428909Z"
    }
   },
   "outputs": [
    {
     "data": {
      "text/html": [
       "<div>\n",
       "<style scoped>\n",
       "    .dataframe tbody tr th:only-of-type {\n",
       "        vertical-align: middle;\n",
       "    }\n",
       "\n",
       "    .dataframe tbody tr th {\n",
       "        vertical-align: top;\n",
       "    }\n",
       "\n",
       "    .dataframe thead th {\n",
       "        text-align: right;\n",
       "    }\n",
       "</style>\n",
       "<table border=\"1\" class=\"dataframe\">\n",
       "  <thead>\n",
       "    <tr style=\"text-align: right;\">\n",
       "      <th></th>\n",
       "      <th>date</th>\n",
       "      <th>temp</th>\n",
       "      <th>max_wind</th>\n",
       "      <th>mean_wind</th>\n",
       "    </tr>\n",
       "  </thead>\n",
       "  <tbody>\n",
       "    <tr>\n",
       "      <th>0</th>\n",
       "      <td>2010-08-01</td>\n",
       "      <td>28.7</td>\n",
       "      <td>8.3</td>\n",
       "      <td>3.4</td>\n",
       "    </tr>\n",
       "    <tr>\n",
       "      <th>1</th>\n",
       "      <td>2010-08-02</td>\n",
       "      <td>25.2</td>\n",
       "      <td>8.7</td>\n",
       "      <td>3.8</td>\n",
       "    </tr>\n",
       "    <tr>\n",
       "      <th>2</th>\n",
       "      <td>2010-08-03</td>\n",
       "      <td>22.1</td>\n",
       "      <td>6.3</td>\n",
       "      <td>2.9</td>\n",
       "    </tr>\n",
       "    <tr>\n",
       "      <th>3</th>\n",
       "      <td>2010-08-04</td>\n",
       "      <td>25.3</td>\n",
       "      <td>6.6</td>\n",
       "      <td>4.2</td>\n",
       "    </tr>\n",
       "    <tr>\n",
       "      <th>4</th>\n",
       "      <td>2010-08-05</td>\n",
       "      <td>27.2</td>\n",
       "      <td>9.1</td>\n",
       "      <td>5.6</td>\n",
       "    </tr>\n",
       "    <tr>\n",
       "      <th>...</th>\n",
       "      <td>...</td>\n",
       "      <td>...</td>\n",
       "      <td>...</td>\n",
       "      <td>...</td>\n",
       "    </tr>\n",
       "    <tr>\n",
       "      <th>3648</th>\n",
       "      <td>2020-07-27</td>\n",
       "      <td>22.1</td>\n",
       "      <td>4.2</td>\n",
       "      <td>1.7</td>\n",
       "    </tr>\n",
       "    <tr>\n",
       "      <th>3649</th>\n",
       "      <td>2020-07-28</td>\n",
       "      <td>21.9</td>\n",
       "      <td>4.5</td>\n",
       "      <td>1.6</td>\n",
       "    </tr>\n",
       "    <tr>\n",
       "      <th>3650</th>\n",
       "      <td>2020-07-29</td>\n",
       "      <td>21.6</td>\n",
       "      <td>3.2</td>\n",
       "      <td>1.0</td>\n",
       "    </tr>\n",
       "    <tr>\n",
       "      <th>3651</th>\n",
       "      <td>2020-07-30</td>\n",
       "      <td>22.9</td>\n",
       "      <td>9.7</td>\n",
       "      <td>2.4</td>\n",
       "    </tr>\n",
       "    <tr>\n",
       "      <th>3652</th>\n",
       "      <td>2020-07-31</td>\n",
       "      <td>25.7</td>\n",
       "      <td>4.8</td>\n",
       "      <td>2.5</td>\n",
       "    </tr>\n",
       "  </tbody>\n",
       "</table>\n",
       "<p>3653 rows × 4 columns</p>\n",
       "</div>"
      ],
      "text/plain": [
       "            date  temp  max_wind  mean_wind\n",
       "0     2010-08-01  28.7       8.3        3.4\n",
       "1     2010-08-02  25.2       8.7        3.8\n",
       "2     2010-08-03  22.1       6.3        2.9\n",
       "3     2010-08-04  25.3       6.6        4.2\n",
       "4     2010-08-05  27.2       9.1        5.6\n",
       "...          ...   ...       ...        ...\n",
       "3648  2020-07-27  22.1       4.2        1.7\n",
       "3649  2020-07-28  21.9       4.5        1.6\n",
       "3650  2020-07-29  21.6       3.2        1.0\n",
       "3651  2020-07-30  22.9       9.7        2.4\n",
       "3652  2020-07-31  25.7       4.8        2.5\n",
       "\n",
       "[3653 rows x 4 columns]"
      ]
     },
     "execution_count": 299,
     "metadata": {},
     "output_type": "execute_result"
    }
   ],
   "source": [
    "df"
   ]
  },
  {
   "cell_type": "code",
   "execution_count": 300,
   "id": "bf0e9d94",
   "metadata": {
    "ExecuteTime": {
     "end_time": "2022-11-22T08:17:36.143161Z",
     "start_time": "2022-11-22T08:17:36.133735Z"
    }
   },
   "outputs": [],
   "source": [
    "df_new = df.sort_values(by='max_wind', ascending=False) #변수에 할당\n",
    "df_org = df.copy() #복사하는 메서드\n",
    "df.sort_values(by='max_wind', ascending=False, inplace=True) #정렬 결과 원본에 저장해 반영하기"
   ]
  },
  {
   "cell_type": "code",
   "execution_count": 301,
   "id": "7b53d923",
   "metadata": {
    "ExecuteTime": {
     "end_time": "2022-11-22T08:17:36.764564Z",
     "start_time": "2022-11-22T08:17:36.744302Z"
    }
   },
   "outputs": [
    {
     "data": {
      "text/html": [
       "<div>\n",
       "<style scoped>\n",
       "    .dataframe tbody tr th:only-of-type {\n",
       "        vertical-align: middle;\n",
       "    }\n",
       "\n",
       "    .dataframe tbody tr th {\n",
       "        vertical-align: top;\n",
       "    }\n",
       "\n",
       "    .dataframe thead th {\n",
       "        text-align: right;\n",
       "    }\n",
       "</style>\n",
       "<table border=\"1\" class=\"dataframe\">\n",
       "  <thead>\n",
       "    <tr style=\"text-align: right;\">\n",
       "      <th></th>\n",
       "      <th>date</th>\n",
       "      <th>temp</th>\n",
       "      <th>max_wind</th>\n",
       "      <th>mean_wind</th>\n",
       "    </tr>\n",
       "  </thead>\n",
       "  <tbody>\n",
       "    <tr>\n",
       "      <th>2988</th>\n",
       "      <td>2018-10-06</td>\n",
       "      <td>19.4</td>\n",
       "      <td>26.0</td>\n",
       "      <td>7.0</td>\n",
       "    </tr>\n",
       "    <tr>\n",
       "      <th>3340</th>\n",
       "      <td>2019-09-23</td>\n",
       "      <td>15.0</td>\n",
       "      <td>25.8</td>\n",
       "      <td>11.0</td>\n",
       "    </tr>\n",
       "    <tr>\n",
       "      <th>1850</th>\n",
       "      <td>2015-08-25</td>\n",
       "      <td>20.1</td>\n",
       "      <td>25.3</td>\n",
       "      <td>14.9</td>\n",
       "    </tr>\n",
       "    <tr>\n",
       "      <th>3339</th>\n",
       "      <td>2019-09-22</td>\n",
       "      <td>15.7</td>\n",
       "      <td>23.1</td>\n",
       "      <td>11.9</td>\n",
       "    </tr>\n",
       "    <tr>\n",
       "      <th>1851</th>\n",
       "      <td>2015-08-26</td>\n",
       "      <td>17.4</td>\n",
       "      <td>22.6</td>\n",
       "      <td>8.1</td>\n",
       "    </tr>\n",
       "    <tr>\n",
       "      <th>...</th>\n",
       "      <td>...</td>\n",
       "      <td>...</td>\n",
       "      <td>...</td>\n",
       "      <td>...</td>\n",
       "    </tr>\n",
       "    <tr>\n",
       "      <th>1514</th>\n",
       "      <td>2014-09-23</td>\n",
       "      <td>20.7</td>\n",
       "      <td>2.0</td>\n",
       "      <td>1.0</td>\n",
       "    </tr>\n",
       "    <tr>\n",
       "      <th>559</th>\n",
       "      <td>2012-02-11</td>\n",
       "      <td>-0.7</td>\n",
       "      <td>NaN</td>\n",
       "      <td>NaN</td>\n",
       "    </tr>\n",
       "    <tr>\n",
       "      <th>560</th>\n",
       "      <td>2012-02-12</td>\n",
       "      <td>0.4</td>\n",
       "      <td>NaN</td>\n",
       "      <td>NaN</td>\n",
       "    </tr>\n",
       "    <tr>\n",
       "      <th>561</th>\n",
       "      <td>2012-02-13</td>\n",
       "      <td>4.0</td>\n",
       "      <td>NaN</td>\n",
       "      <td>NaN</td>\n",
       "    </tr>\n",
       "    <tr>\n",
       "      <th>3183</th>\n",
       "      <td>2019-04-19</td>\n",
       "      <td>7.8</td>\n",
       "      <td>NaN</td>\n",
       "      <td>2.3</td>\n",
       "    </tr>\n",
       "  </tbody>\n",
       "</table>\n",
       "<p>3653 rows × 4 columns</p>\n",
       "</div>"
      ],
      "text/plain": [
       "            date  temp  max_wind  mean_wind\n",
       "2988  2018-10-06  19.4      26.0        7.0\n",
       "3340  2019-09-23  15.0      25.8       11.0\n",
       "1850  2015-08-25  20.1      25.3       14.9\n",
       "3339  2019-09-22  15.7      23.1       11.9\n",
       "1851  2015-08-26  17.4      22.6        8.1\n",
       "...          ...   ...       ...        ...\n",
       "1514  2014-09-23  20.7       2.0        1.0\n",
       "559   2012-02-11  -0.7       NaN        NaN\n",
       "560   2012-02-12   0.4       NaN        NaN\n",
       "561   2012-02-13   4.0       NaN        NaN\n",
       "3183  2019-04-19   7.8       NaN        2.3\n",
       "\n",
       "[3653 rows x 4 columns]"
      ]
     },
     "execution_count": 301,
     "metadata": {},
     "output_type": "execute_result"
    }
   ],
   "source": [
    "df"
   ]
  },
  {
   "cell_type": "code",
   "execution_count": 302,
   "id": "f2ebc30b",
   "metadata": {
    "ExecuteTime": {
     "end_time": "2022-11-22T08:18:10.485382Z",
     "start_time": "2022-11-22T08:18:10.450441Z"
    }
   },
   "outputs": [
    {
     "data": {
      "text/plain": [
       "date        temp  max_wind  mean_wind\n",
       "2010-08-01  28.7  8.3       3.4          1\n",
       "2017-04-20  12.7  3.7       1.8          1\n",
       "2017-03-25  5.7   5.1       2.3          1\n",
       "2017-03-26  6.8   4.1       1.9          1\n",
       "2017-03-27  5.3   4.6       1.5          1\n",
       "                                        ..\n",
       "2013-12-05  9.3   6.3       2.9          1\n",
       "2013-12-06  4.9   6.4       3.5          1\n",
       "2013-12-07  5.2   5.6       2.9          1\n",
       "2013-12-08  5.7   4.1       1.9          1\n",
       "2020-07-31  25.7  4.8       2.5          1\n",
       "Length: 3646, dtype: int64"
      ]
     },
     "execution_count": 302,
     "metadata": {},
     "output_type": "execute_result"
    }
   ],
   "source": [
    "#고유값 확인\n",
    "df.value_counts()"
   ]
  },
  {
   "cell_type": "code",
   "execution_count": 303,
   "id": "b638cd99",
   "metadata": {
    "ExecuteTime": {
     "end_time": "2022-11-22T08:21:20.173156Z",
     "start_time": "2022-11-22T08:21:20.125248Z"
    }
   },
   "outputs": [
    {
     "data": {
      "text/html": [
       "<div>\n",
       "<style scoped>\n",
       "    .dataframe tbody tr th:only-of-type {\n",
       "        vertical-align: middle;\n",
       "    }\n",
       "\n",
       "    .dataframe tbody tr th {\n",
       "        vertical-align: top;\n",
       "    }\n",
       "\n",
       "    .dataframe thead th {\n",
       "        text-align: right;\n",
       "    }\n",
       "</style>\n",
       "<table border=\"1\" class=\"dataframe\">\n",
       "  <thead>\n",
       "    <tr style=\"text-align: right;\">\n",
       "      <th></th>\n",
       "      <th>age</th>\n",
       "      <th>job</th>\n",
       "      <th>marital</th>\n",
       "      <th>education</th>\n",
       "      <th>default</th>\n",
       "      <th>balance</th>\n",
       "      <th>housing</th>\n",
       "      <th>loan</th>\n",
       "      <th>contact</th>\n",
       "      <th>day</th>\n",
       "      <th>month</th>\n",
       "      <th>duration</th>\n",
       "      <th>campaign</th>\n",
       "      <th>pdays</th>\n",
       "      <th>previous</th>\n",
       "      <th>poutcome</th>\n",
       "      <th>deposit</th>\n",
       "    </tr>\n",
       "  </thead>\n",
       "  <tbody>\n",
       "    <tr>\n",
       "      <th>0</th>\n",
       "      <td>59</td>\n",
       "      <td>admin.</td>\n",
       "      <td>married</td>\n",
       "      <td>secondary</td>\n",
       "      <td>no</td>\n",
       "      <td>2343</td>\n",
       "      <td>yes</td>\n",
       "      <td>no</td>\n",
       "      <td>unknown</td>\n",
       "      <td>5</td>\n",
       "      <td>may</td>\n",
       "      <td>1042</td>\n",
       "      <td>1</td>\n",
       "      <td>-1</td>\n",
       "      <td>0</td>\n",
       "      <td>unknown</td>\n",
       "      <td>yes</td>\n",
       "    </tr>\n",
       "    <tr>\n",
       "      <th>1</th>\n",
       "      <td>56</td>\n",
       "      <td>admin.</td>\n",
       "      <td>married</td>\n",
       "      <td>secondary</td>\n",
       "      <td>no</td>\n",
       "      <td>45</td>\n",
       "      <td>no</td>\n",
       "      <td>no</td>\n",
       "      <td>unknown</td>\n",
       "      <td>5</td>\n",
       "      <td>may</td>\n",
       "      <td>1467</td>\n",
       "      <td>1</td>\n",
       "      <td>-1</td>\n",
       "      <td>0</td>\n",
       "      <td>unknown</td>\n",
       "      <td>yes</td>\n",
       "    </tr>\n",
       "    <tr>\n",
       "      <th>2</th>\n",
       "      <td>41</td>\n",
       "      <td>technician</td>\n",
       "      <td>married</td>\n",
       "      <td>secondary</td>\n",
       "      <td>no</td>\n",
       "      <td>1270</td>\n",
       "      <td>yes</td>\n",
       "      <td>no</td>\n",
       "      <td>unknown</td>\n",
       "      <td>5</td>\n",
       "      <td>may</td>\n",
       "      <td>1389</td>\n",
       "      <td>1</td>\n",
       "      <td>-1</td>\n",
       "      <td>0</td>\n",
       "      <td>unknown</td>\n",
       "      <td>yes</td>\n",
       "    </tr>\n",
       "    <tr>\n",
       "      <th>3</th>\n",
       "      <td>55</td>\n",
       "      <td>services</td>\n",
       "      <td>married</td>\n",
       "      <td>secondary</td>\n",
       "      <td>no</td>\n",
       "      <td>2476</td>\n",
       "      <td>yes</td>\n",
       "      <td>no</td>\n",
       "      <td>unknown</td>\n",
       "      <td>5</td>\n",
       "      <td>may</td>\n",
       "      <td>579</td>\n",
       "      <td>1</td>\n",
       "      <td>-1</td>\n",
       "      <td>0</td>\n",
       "      <td>unknown</td>\n",
       "      <td>yes</td>\n",
       "    </tr>\n",
       "    <tr>\n",
       "      <th>4</th>\n",
       "      <td>54</td>\n",
       "      <td>admin.</td>\n",
       "      <td>married</td>\n",
       "      <td>tertiary</td>\n",
       "      <td>no</td>\n",
       "      <td>184</td>\n",
       "      <td>no</td>\n",
       "      <td>no</td>\n",
       "      <td>unknown</td>\n",
       "      <td>5</td>\n",
       "      <td>may</td>\n",
       "      <td>673</td>\n",
       "      <td>2</td>\n",
       "      <td>-1</td>\n",
       "      <td>0</td>\n",
       "      <td>unknown</td>\n",
       "      <td>yes</td>\n",
       "    </tr>\n",
       "    <tr>\n",
       "      <th>...</th>\n",
       "      <td>...</td>\n",
       "      <td>...</td>\n",
       "      <td>...</td>\n",
       "      <td>...</td>\n",
       "      <td>...</td>\n",
       "      <td>...</td>\n",
       "      <td>...</td>\n",
       "      <td>...</td>\n",
       "      <td>...</td>\n",
       "      <td>...</td>\n",
       "      <td>...</td>\n",
       "      <td>...</td>\n",
       "      <td>...</td>\n",
       "      <td>...</td>\n",
       "      <td>...</td>\n",
       "      <td>...</td>\n",
       "      <td>...</td>\n",
       "    </tr>\n",
       "    <tr>\n",
       "      <th>11157</th>\n",
       "      <td>33</td>\n",
       "      <td>blue-collar</td>\n",
       "      <td>single</td>\n",
       "      <td>primary</td>\n",
       "      <td>no</td>\n",
       "      <td>1</td>\n",
       "      <td>yes</td>\n",
       "      <td>no</td>\n",
       "      <td>cellular</td>\n",
       "      <td>20</td>\n",
       "      <td>apr</td>\n",
       "      <td>257</td>\n",
       "      <td>1</td>\n",
       "      <td>-1</td>\n",
       "      <td>0</td>\n",
       "      <td>unknown</td>\n",
       "      <td>no</td>\n",
       "    </tr>\n",
       "    <tr>\n",
       "      <th>11158</th>\n",
       "      <td>39</td>\n",
       "      <td>services</td>\n",
       "      <td>married</td>\n",
       "      <td>secondary</td>\n",
       "      <td>no</td>\n",
       "      <td>733</td>\n",
       "      <td>no</td>\n",
       "      <td>no</td>\n",
       "      <td>unknown</td>\n",
       "      <td>16</td>\n",
       "      <td>jun</td>\n",
       "      <td>83</td>\n",
       "      <td>4</td>\n",
       "      <td>-1</td>\n",
       "      <td>0</td>\n",
       "      <td>unknown</td>\n",
       "      <td>no</td>\n",
       "    </tr>\n",
       "    <tr>\n",
       "      <th>11159</th>\n",
       "      <td>32</td>\n",
       "      <td>technician</td>\n",
       "      <td>single</td>\n",
       "      <td>secondary</td>\n",
       "      <td>no</td>\n",
       "      <td>29</td>\n",
       "      <td>no</td>\n",
       "      <td>no</td>\n",
       "      <td>cellular</td>\n",
       "      <td>19</td>\n",
       "      <td>aug</td>\n",
       "      <td>156</td>\n",
       "      <td>2</td>\n",
       "      <td>-1</td>\n",
       "      <td>0</td>\n",
       "      <td>unknown</td>\n",
       "      <td>no</td>\n",
       "    </tr>\n",
       "    <tr>\n",
       "      <th>11160</th>\n",
       "      <td>43</td>\n",
       "      <td>technician</td>\n",
       "      <td>married</td>\n",
       "      <td>secondary</td>\n",
       "      <td>no</td>\n",
       "      <td>0</td>\n",
       "      <td>no</td>\n",
       "      <td>yes</td>\n",
       "      <td>cellular</td>\n",
       "      <td>8</td>\n",
       "      <td>may</td>\n",
       "      <td>9</td>\n",
       "      <td>2</td>\n",
       "      <td>172</td>\n",
       "      <td>5</td>\n",
       "      <td>failure</td>\n",
       "      <td>no</td>\n",
       "    </tr>\n",
       "    <tr>\n",
       "      <th>11161</th>\n",
       "      <td>34</td>\n",
       "      <td>technician</td>\n",
       "      <td>married</td>\n",
       "      <td>secondary</td>\n",
       "      <td>no</td>\n",
       "      <td>0</td>\n",
       "      <td>no</td>\n",
       "      <td>no</td>\n",
       "      <td>cellular</td>\n",
       "      <td>9</td>\n",
       "      <td>jul</td>\n",
       "      <td>628</td>\n",
       "      <td>1</td>\n",
       "      <td>-1</td>\n",
       "      <td>0</td>\n",
       "      <td>unknown</td>\n",
       "      <td>no</td>\n",
       "    </tr>\n",
       "  </tbody>\n",
       "</table>\n",
       "<p>11162 rows × 17 columns</p>\n",
       "</div>"
      ],
      "text/plain": [
       "       age          job  marital  education default  balance housing loan  \\\n",
       "0       59       admin.  married  secondary      no     2343     yes   no   \n",
       "1       56       admin.  married  secondary      no       45      no   no   \n",
       "2       41   technician  married  secondary      no     1270     yes   no   \n",
       "3       55     services  married  secondary      no     2476     yes   no   \n",
       "4       54       admin.  married   tertiary      no      184      no   no   \n",
       "...    ...          ...      ...        ...     ...      ...     ...  ...   \n",
       "11157   33  blue-collar   single    primary      no        1     yes   no   \n",
       "11158   39     services  married  secondary      no      733      no   no   \n",
       "11159   32   technician   single  secondary      no       29      no   no   \n",
       "11160   43   technician  married  secondary      no        0      no  yes   \n",
       "11161   34   technician  married  secondary      no        0      no   no   \n",
       "\n",
       "        contact  day month  duration  campaign  pdays  previous poutcome  \\\n",
       "0       unknown    5   may      1042         1     -1         0  unknown   \n",
       "1       unknown    5   may      1467         1     -1         0  unknown   \n",
       "2       unknown    5   may      1389         1     -1         0  unknown   \n",
       "3       unknown    5   may       579         1     -1         0  unknown   \n",
       "4       unknown    5   may       673         2     -1         0  unknown   \n",
       "...         ...  ...   ...       ...       ...    ...       ...      ...   \n",
       "11157  cellular   20   apr       257         1     -1         0  unknown   \n",
       "11158   unknown   16   jun        83         4     -1         0  unknown   \n",
       "11159  cellular   19   aug       156         2     -1         0  unknown   \n",
       "11160  cellular    8   may         9         2    172         5  failure   \n",
       "11161  cellular    9   jul       628         1     -1         0  unknown   \n",
       "\n",
       "      deposit  \n",
       "0         yes  \n",
       "1         yes  \n",
       "2         yes  \n",
       "3         yes  \n",
       "4         yes  \n",
       "...       ...  \n",
       "11157      no  \n",
       "11158      no  \n",
       "11159      no  \n",
       "11160      no  \n",
       "11161      no  \n",
       "\n",
       "[11162 rows x 17 columns]"
      ]
     },
     "execution_count": 303,
     "metadata": {},
     "output_type": "execute_result"
    }
   ],
   "source": [
    "bank = pd.read_csv('./data/bank.csv')\n",
    "bank"
   ]
  },
  {
   "cell_type": "code",
   "execution_count": 306,
   "id": "c44e9bce",
   "metadata": {
    "ExecuteTime": {
     "end_time": "2022-11-22T08:22:22.293183Z",
     "start_time": "2022-11-22T08:22:22.282563Z"
    }
   },
   "outputs": [
    {
     "data": {
      "text/plain": [
       "unknown            70\n",
       "housemaid         274\n",
       "entrepreneur      328\n",
       "unemployed        357\n",
       "student           360\n",
       "self-employed     405\n",
       "retired           778\n",
       "services          923\n",
       "admin.           1334\n",
       "technician       1823\n",
       "blue-collar      1944\n",
       "management       2566\n",
       "Name: job, dtype: int64"
      ]
     },
     "execution_count": 306,
     "metadata": {},
     "output_type": "execute_result"
    }
   ],
   "source": [
    "#중복제거한 빈도분석\n",
    "bank['job'].value_counts(ascending=True)"
   ]
  },
  {
   "cell_type": "code",
   "execution_count": 307,
   "id": "0094db22",
   "metadata": {
    "ExecuteTime": {
     "end_time": "2022-11-22T08:22:45.250720Z",
     "start_time": "2022-11-22T08:22:45.247714Z"
    }
   },
   "outputs": [
    {
     "data": {
      "text/plain": [
       "array(['admin.', 'technician', 'services', 'management', 'retired',\n",
       "       'blue-collar', 'unemployed', 'entrepreneur', 'housemaid',\n",
       "       'unknown', 'self-employed', 'student'], dtype=object)"
      ]
     },
     "execution_count": 307,
     "metadata": {},
     "output_type": "execute_result"
    }
   ],
   "source": [
    "#열의 고유값 확인\n",
    "bank['job'].unique()\n"
   ]
  },
  {
   "cell_type": "markdown",
   "id": "e46bffe1",
   "metadata": {
    "ExecuteTime": {
     "end_time": "2022-11-22T08:23:25.133269Z",
     "start_time": "2022-11-22T08:23:25.128541Z"
    }
   },
   "source": [
    "## 판다스 데이터 선택"
   ]
  },
  {
   "cell_type": "markdown",
   "id": "d396abf3",
   "metadata": {},
   "source": [
    "열선택, 행선택 레이블선택, 위치선택, 불인덱싱"
   ]
  },
  {
   "cell_type": "code",
   "execution_count": 309,
   "id": "895268c5",
   "metadata": {
    "ExecuteTime": {
     "end_time": "2022-11-22T08:30:18.472520Z",
     "start_time": "2022-11-22T08:30:18.463803Z"
    }
   },
   "outputs": [
    {
     "data": {
      "text/plain": [
       "pandas.core.series.Series"
      ]
     },
     "execution_count": 309,
     "metadata": {},
     "output_type": "execute_result"
    }
   ],
   "source": [
    "type(df['temp'])"
   ]
  },
  {
   "cell_type": "code",
   "execution_count": 312,
   "id": "7f9e117a",
   "metadata": {
    "ExecuteTime": {
     "end_time": "2022-11-22T08:37:58.873852Z",
     "start_time": "2022-11-22T08:37:58.864290Z"
    }
   },
   "outputs": [
    {
     "name": "stdout",
     "output_type": "stream",
     "text": [
      "2988    19.4\n",
      "3340    15.0\n",
      "1850    20.1\n",
      "3339    15.7\n",
      "1851    17.4\n",
      "        ... \n",
      "1514    20.7\n",
      "559     -0.7\n",
      "560      0.4\n",
      "561      4.0\n",
      "3183     7.8\n",
      "Name: temp, Length: 3653, dtype: float64\n",
      "2988    19.4\n",
      "3340    15.0\n",
      "1850    20.1\n",
      "3339    15.7\n",
      "1851    17.4\n",
      "        ... \n",
      "1514    20.7\n",
      "559     -0.7\n",
      "560      0.4\n",
      "561      4.0\n",
      "3183     7.8\n",
      "Name: temp, Length: 3653, dtype: float64\n"
     ]
    }
   ],
   "source": [
    "print(df.temp)\n",
    "print(df['temp'])"
   ]
  },
  {
   "cell_type": "code",
   "execution_count": 314,
   "id": "b5fa9926",
   "metadata": {
    "ExecuteTime": {
     "end_time": "2022-11-22T08:38:17.670223Z",
     "start_time": "2022-11-22T08:38:17.658568Z"
    }
   },
   "outputs": [
    {
     "name": "stdout",
     "output_type": "stream",
     "text": [
      "            date  temp\n",
      "2988  2018-10-06  19.4\n",
      "3340  2019-09-23  15.0\n",
      "1850  2015-08-25  20.1\n",
      "3339  2019-09-22  15.7\n",
      "1851  2015-08-26  17.4\n",
      "...          ...   ...\n",
      "1514  2014-09-23  20.7\n",
      "559   2012-02-11  -0.7\n",
      "560   2012-02-12   0.4\n",
      "561   2012-02-13   4.0\n",
      "3183  2019-04-19   7.8\n",
      "\n",
      "[3653 rows x 2 columns]\n"
     ]
    }
   ],
   "source": [
    "df[['date', 'temp']]"
   ]
  },
  {
   "cell_type": "code",
   "execution_count": 316,
   "id": "3b17dad5",
   "metadata": {
    "ExecuteTime": {
     "end_time": "2022-11-22T08:39:02.428829Z",
     "start_time": "2022-11-22T08:39:02.408201Z"
    }
   },
   "outputs": [
    {
     "data": {
      "text/html": [
       "<div>\n",
       "<style scoped>\n",
       "    .dataframe tbody tr th:only-of-type {\n",
       "        vertical-align: middle;\n",
       "    }\n",
       "\n",
       "    .dataframe tbody tr th {\n",
       "        vertical-align: top;\n",
       "    }\n",
       "\n",
       "    .dataframe thead th {\n",
       "        text-align: right;\n",
       "    }\n",
       "</style>\n",
       "<table border=\"1\" class=\"dataframe\">\n",
       "  <thead>\n",
       "    <tr style=\"text-align: right;\">\n",
       "      <th></th>\n",
       "      <th>date</th>\n",
       "      <th>temp</th>\n",
       "    </tr>\n",
       "  </thead>\n",
       "  <tbody>\n",
       "    <tr>\n",
       "      <th>2988</th>\n",
       "      <td>2018-10-06</td>\n",
       "      <td>19.4</td>\n",
       "    </tr>\n",
       "    <tr>\n",
       "      <th>3340</th>\n",
       "      <td>2019-09-23</td>\n",
       "      <td>15.0</td>\n",
       "    </tr>\n",
       "    <tr>\n",
       "      <th>1850</th>\n",
       "      <td>2015-08-25</td>\n",
       "      <td>20.1</td>\n",
       "    </tr>\n",
       "    <tr>\n",
       "      <th>3339</th>\n",
       "      <td>2019-09-22</td>\n",
       "      <td>15.7</td>\n",
       "    </tr>\n",
       "    <tr>\n",
       "      <th>1851</th>\n",
       "      <td>2015-08-26</td>\n",
       "      <td>17.4</td>\n",
       "    </tr>\n",
       "    <tr>\n",
       "      <th>...</th>\n",
       "      <td>...</td>\n",
       "      <td>...</td>\n",
       "    </tr>\n",
       "    <tr>\n",
       "      <th>1514</th>\n",
       "      <td>2014-09-23</td>\n",
       "      <td>20.7</td>\n",
       "    </tr>\n",
       "    <tr>\n",
       "      <th>559</th>\n",
       "      <td>2012-02-11</td>\n",
       "      <td>-0.7</td>\n",
       "    </tr>\n",
       "    <tr>\n",
       "      <th>560</th>\n",
       "      <td>2012-02-12</td>\n",
       "      <td>0.4</td>\n",
       "    </tr>\n",
       "    <tr>\n",
       "      <th>561</th>\n",
       "      <td>2012-02-13</td>\n",
       "      <td>4.0</td>\n",
       "    </tr>\n",
       "    <tr>\n",
       "      <th>3183</th>\n",
       "      <td>2019-04-19</td>\n",
       "      <td>7.8</td>\n",
       "    </tr>\n",
       "  </tbody>\n",
       "</table>\n",
       "<p>3653 rows × 2 columns</p>\n",
       "</div>"
      ],
      "text/plain": [
       "            date  temp\n",
       "2988  2018-10-06  19.4\n",
       "3340  2019-09-23  15.0\n",
       "1850  2015-08-25  20.1\n",
       "3339  2019-09-22  15.7\n",
       "1851  2015-08-26  17.4\n",
       "...          ...   ...\n",
       "1514  2014-09-23  20.7\n",
       "559   2012-02-11  -0.7\n",
       "560   2012-02-12   0.4\n",
       "561   2012-02-13   4.0\n",
       "3183  2019-04-19   7.8\n",
       "\n",
       "[3653 rows x 2 columns]"
      ]
     },
     "execution_count": 316,
     "metadata": {},
     "output_type": "execute_result"
    }
   ],
   "source": [
    "#몇 행, 열정보\n",
    "df.loc[:, ['date', 'temp']]"
   ]
  },
  {
   "cell_type": "code",
   "execution_count": 317,
   "id": "87c9a2e8",
   "metadata": {
    "ExecuteTime": {
     "end_time": "2022-11-22T08:39:21.122050Z",
     "start_time": "2022-11-22T08:39:21.105622Z"
    }
   },
   "outputs": [
    {
     "data": {
      "text/html": [
       "<div>\n",
       "<style scoped>\n",
       "    .dataframe tbody tr th:only-of-type {\n",
       "        vertical-align: middle;\n",
       "    }\n",
       "\n",
       "    .dataframe tbody tr th {\n",
       "        vertical-align: top;\n",
       "    }\n",
       "\n",
       "    .dataframe thead th {\n",
       "        text-align: right;\n",
       "    }\n",
       "</style>\n",
       "<table border=\"1\" class=\"dataframe\">\n",
       "  <thead>\n",
       "    <tr style=\"text-align: right;\">\n",
       "      <th></th>\n",
       "      <th>date</th>\n",
       "      <th>temp</th>\n",
       "    </tr>\n",
       "  </thead>\n",
       "  <tbody>\n",
       "    <tr>\n",
       "      <th>2988</th>\n",
       "      <td>2018-10-06</td>\n",
       "      <td>19.4</td>\n",
       "    </tr>\n",
       "    <tr>\n",
       "      <th>3340</th>\n",
       "      <td>2019-09-23</td>\n",
       "      <td>15.0</td>\n",
       "    </tr>\n",
       "    <tr>\n",
       "      <th>1850</th>\n",
       "      <td>2015-08-25</td>\n",
       "      <td>20.1</td>\n",
       "    </tr>\n",
       "    <tr>\n",
       "      <th>3339</th>\n",
       "      <td>2019-09-22</td>\n",
       "      <td>15.7</td>\n",
       "    </tr>\n",
       "    <tr>\n",
       "      <th>1851</th>\n",
       "      <td>2015-08-26</td>\n",
       "      <td>17.4</td>\n",
       "    </tr>\n",
       "    <tr>\n",
       "      <th>...</th>\n",
       "      <td>...</td>\n",
       "      <td>...</td>\n",
       "    </tr>\n",
       "    <tr>\n",
       "      <th>1514</th>\n",
       "      <td>2014-09-23</td>\n",
       "      <td>20.7</td>\n",
       "    </tr>\n",
       "    <tr>\n",
       "      <th>559</th>\n",
       "      <td>2012-02-11</td>\n",
       "      <td>-0.7</td>\n",
       "    </tr>\n",
       "    <tr>\n",
       "      <th>560</th>\n",
       "      <td>2012-02-12</td>\n",
       "      <td>0.4</td>\n",
       "    </tr>\n",
       "    <tr>\n",
       "      <th>561</th>\n",
       "      <td>2012-02-13</td>\n",
       "      <td>4.0</td>\n",
       "    </tr>\n",
       "    <tr>\n",
       "      <th>3183</th>\n",
       "      <td>2019-04-19</td>\n",
       "      <td>7.8</td>\n",
       "    </tr>\n",
       "  </tbody>\n",
       "</table>\n",
       "<p>3653 rows × 2 columns</p>\n",
       "</div>"
      ],
      "text/plain": [
       "            date  temp\n",
       "2988  2018-10-06  19.4\n",
       "3340  2019-09-23  15.0\n",
       "1850  2015-08-25  20.1\n",
       "3339  2019-09-22  15.7\n",
       "1851  2015-08-26  17.4\n",
       "...          ...   ...\n",
       "1514  2014-09-23  20.7\n",
       "559   2012-02-11  -0.7\n",
       "560   2012-02-12   0.4\n",
       "561   2012-02-13   4.0\n",
       "3183  2019-04-19   7.8\n",
       "\n",
       "[3653 rows x 2 columns]"
      ]
     },
     "execution_count": 317,
     "metadata": {},
     "output_type": "execute_result"
    }
   ],
   "source": [
    "df.iloc[:, [0, 1]]"
   ]
  },
  {
   "cell_type": "code",
   "execution_count": 322,
   "id": "ec70bdcd",
   "metadata": {
    "ExecuteTime": {
     "end_time": "2022-11-22T08:41:11.066891Z",
     "start_time": "2022-11-22T08:41:11.051823Z"
    }
   },
   "outputs": [
    {
     "data": {
      "text/html": [
       "<div>\n",
       "<style scoped>\n",
       "    .dataframe tbody tr th:only-of-type {\n",
       "        vertical-align: middle;\n",
       "    }\n",
       "\n",
       "    .dataframe tbody tr th {\n",
       "        vertical-align: top;\n",
       "    }\n",
       "\n",
       "    .dataframe thead th {\n",
       "        text-align: right;\n",
       "    }\n",
       "</style>\n",
       "<table border=\"1\" class=\"dataframe\">\n",
       "  <thead>\n",
       "    <tr style=\"text-align: right;\">\n",
       "      <th></th>\n",
       "      <th>date</th>\n",
       "      <th>temp</th>\n",
       "      <th>max_wind</th>\n",
       "      <th>mean_wind</th>\n",
       "    </tr>\n",
       "  </thead>\n",
       "  <tbody>\n",
       "    <tr>\n",
       "      <th>0</th>\n",
       "      <td>2010-08-01</td>\n",
       "      <td>28.7</td>\n",
       "      <td>8.3</td>\n",
       "      <td>3.4</td>\n",
       "    </tr>\n",
       "    <tr>\n",
       "      <th>1</th>\n",
       "      <td>2010-08-02</td>\n",
       "      <td>25.2</td>\n",
       "      <td>8.7</td>\n",
       "      <td>3.8</td>\n",
       "    </tr>\n",
       "    <tr>\n",
       "      <th>2</th>\n",
       "      <td>2010-08-03</td>\n",
       "      <td>22.1</td>\n",
       "      <td>6.3</td>\n",
       "      <td>2.9</td>\n",
       "    </tr>\n",
       "  </tbody>\n",
       "</table>\n",
       "</div>"
      ],
      "text/plain": [
       "         date  temp  max_wind  mean_wind\n",
       "0  2010-08-01  28.7       8.3        3.4\n",
       "1  2010-08-02  25.2       8.7        3.8\n",
       "2  2010-08-03  22.1       6.3        2.9"
      ]
     },
     "execution_count": 322,
     "metadata": {},
     "output_type": "execute_result"
    }
   ],
   "source": [
    "df[:3]"
   ]
  },
  {
   "cell_type": "code",
   "execution_count": 321,
   "id": "7f9b324a",
   "metadata": {
    "ExecuteTime": {
     "end_time": "2022-11-22T08:41:09.717370Z",
     "start_time": "2022-11-22T08:41:09.713002Z"
    }
   },
   "outputs": [],
   "source": [
    "df = df_org.copy()"
   ]
  },
  {
   "cell_type": "code",
   "execution_count": 323,
   "id": "9e317f83",
   "metadata": {
    "ExecuteTime": {
     "end_time": "2022-11-22T08:41:42.316544Z",
     "start_time": "2022-11-22T08:41:42.311450Z"
    }
   },
   "outputs": [],
   "source": [
    "df.index = df['date']"
   ]
  },
  {
   "cell_type": "code",
   "execution_count": 324,
   "id": "c9894114",
   "metadata": {
    "ExecuteTime": {
     "end_time": "2022-11-22T08:41:47.079691Z",
     "start_time": "2022-11-22T08:41:47.058361Z"
    }
   },
   "outputs": [
    {
     "data": {
      "text/html": [
       "<div>\n",
       "<style scoped>\n",
       "    .dataframe tbody tr th:only-of-type {\n",
       "        vertical-align: middle;\n",
       "    }\n",
       "\n",
       "    .dataframe tbody tr th {\n",
       "        vertical-align: top;\n",
       "    }\n",
       "\n",
       "    .dataframe thead th {\n",
       "        text-align: right;\n",
       "    }\n",
       "</style>\n",
       "<table border=\"1\" class=\"dataframe\">\n",
       "  <thead>\n",
       "    <tr style=\"text-align: right;\">\n",
       "      <th></th>\n",
       "      <th>date</th>\n",
       "      <th>temp</th>\n",
       "      <th>max_wind</th>\n",
       "      <th>mean_wind</th>\n",
       "    </tr>\n",
       "    <tr>\n",
       "      <th>date</th>\n",
       "      <th></th>\n",
       "      <th></th>\n",
       "      <th></th>\n",
       "      <th></th>\n",
       "    </tr>\n",
       "  </thead>\n",
       "  <tbody>\n",
       "    <tr>\n",
       "      <th>2010-08-01</th>\n",
       "      <td>2010-08-01</td>\n",
       "      <td>28.7</td>\n",
       "      <td>8.3</td>\n",
       "      <td>3.4</td>\n",
       "    </tr>\n",
       "    <tr>\n",
       "      <th>2010-08-02</th>\n",
       "      <td>2010-08-02</td>\n",
       "      <td>25.2</td>\n",
       "      <td>8.7</td>\n",
       "      <td>3.8</td>\n",
       "    </tr>\n",
       "    <tr>\n",
       "      <th>2010-08-03</th>\n",
       "      <td>2010-08-03</td>\n",
       "      <td>22.1</td>\n",
       "      <td>6.3</td>\n",
       "      <td>2.9</td>\n",
       "    </tr>\n",
       "    <tr>\n",
       "      <th>2010-08-04</th>\n",
       "      <td>2010-08-04</td>\n",
       "      <td>25.3</td>\n",
       "      <td>6.6</td>\n",
       "      <td>4.2</td>\n",
       "    </tr>\n",
       "    <tr>\n",
       "      <th>2010-08-05</th>\n",
       "      <td>2010-08-05</td>\n",
       "      <td>27.2</td>\n",
       "      <td>9.1</td>\n",
       "      <td>5.6</td>\n",
       "    </tr>\n",
       "    <tr>\n",
       "      <th>...</th>\n",
       "      <td>...</td>\n",
       "      <td>...</td>\n",
       "      <td>...</td>\n",
       "      <td>...</td>\n",
       "    </tr>\n",
       "    <tr>\n",
       "      <th>2020-07-27</th>\n",
       "      <td>2020-07-27</td>\n",
       "      <td>22.1</td>\n",
       "      <td>4.2</td>\n",
       "      <td>1.7</td>\n",
       "    </tr>\n",
       "    <tr>\n",
       "      <th>2020-07-28</th>\n",
       "      <td>2020-07-28</td>\n",
       "      <td>21.9</td>\n",
       "      <td>4.5</td>\n",
       "      <td>1.6</td>\n",
       "    </tr>\n",
       "    <tr>\n",
       "      <th>2020-07-29</th>\n",
       "      <td>2020-07-29</td>\n",
       "      <td>21.6</td>\n",
       "      <td>3.2</td>\n",
       "      <td>1.0</td>\n",
       "    </tr>\n",
       "    <tr>\n",
       "      <th>2020-07-30</th>\n",
       "      <td>2020-07-30</td>\n",
       "      <td>22.9</td>\n",
       "      <td>9.7</td>\n",
       "      <td>2.4</td>\n",
       "    </tr>\n",
       "    <tr>\n",
       "      <th>2020-07-31</th>\n",
       "      <td>2020-07-31</td>\n",
       "      <td>25.7</td>\n",
       "      <td>4.8</td>\n",
       "      <td>2.5</td>\n",
       "    </tr>\n",
       "  </tbody>\n",
       "</table>\n",
       "<p>3653 rows × 4 columns</p>\n",
       "</div>"
      ],
      "text/plain": [
       "                  date  temp  max_wind  mean_wind\n",
       "date                                             \n",
       "2010-08-01  2010-08-01  28.7       8.3        3.4\n",
       "2010-08-02  2010-08-02  25.2       8.7        3.8\n",
       "2010-08-03  2010-08-03  22.1       6.3        2.9\n",
       "2010-08-04  2010-08-04  25.3       6.6        4.2\n",
       "2010-08-05  2010-08-05  27.2       9.1        5.6\n",
       "...                ...   ...       ...        ...\n",
       "2020-07-27  2020-07-27  22.1       4.2        1.7\n",
       "2020-07-28  2020-07-28  21.9       4.5        1.6\n",
       "2020-07-29  2020-07-29  21.6       3.2        1.0\n",
       "2020-07-30  2020-07-30  22.9       9.7        2.4\n",
       "2020-07-31  2020-07-31  25.7       4.8        2.5\n",
       "\n",
       "[3653 rows x 4 columns]"
      ]
     },
     "execution_count": 324,
     "metadata": {},
     "output_type": "execute_result"
    }
   ],
   "source": [
    "df"
   ]
  },
  {
   "cell_type": "code",
   "execution_count": 327,
   "id": "63e77454",
   "metadata": {
    "ExecuteTime": {
     "end_time": "2022-11-22T08:42:57.694897Z",
     "start_time": "2022-11-22T08:42:57.686614Z"
    }
   },
   "outputs": [
    {
     "data": {
      "text/plain": [
       "temp         28.7\n",
       "mean_wind     3.4\n",
       "Name: 2010-08-01, dtype: object"
      ]
     },
     "execution_count": 327,
     "metadata": {},
     "output_type": "execute_result"
    }
   ],
   "source": [
    "df.loc['2010-08-01', ['temp', 'mean_wind']]\n",
    "#Series형태로 가져오기"
   ]
  },
  {
   "cell_type": "code",
   "execution_count": 329,
   "id": "11b45b3c",
   "metadata": {
    "ExecuteTime": {
     "end_time": "2022-11-22T08:43:28.542092Z",
     "start_time": "2022-11-22T08:43:28.528451Z"
    }
   },
   "outputs": [
    {
     "data": {
      "text/plain": [
       "date         2010-08-04\n",
       "temp               25.3\n",
       "max_wind            6.6\n",
       "mean_wind           4.2\n",
       "Name: 2010-08-04, dtype: object"
      ]
     },
     "execution_count": 329,
     "metadata": {},
     "output_type": "execute_result"
    }
   ],
   "source": [
    "df.iloc[3]"
   ]
  },
  {
   "cell_type": "code",
   "execution_count": 330,
   "id": "bf09c779",
   "metadata": {
    "ExecuteTime": {
     "end_time": "2022-11-22T08:44:05.581492Z",
     "start_time": "2022-11-22T08:44:05.560492Z"
    }
   },
   "outputs": [
    {
     "data": {
      "text/html": [
       "<div>\n",
       "<style scoped>\n",
       "    .dataframe tbody tr th:only-of-type {\n",
       "        vertical-align: middle;\n",
       "    }\n",
       "\n",
       "    .dataframe tbody tr th {\n",
       "        vertical-align: top;\n",
       "    }\n",
       "\n",
       "    .dataframe thead th {\n",
       "        text-align: right;\n",
       "    }\n",
       "</style>\n",
       "<table border=\"1\" class=\"dataframe\">\n",
       "  <thead>\n",
       "    <tr style=\"text-align: right;\">\n",
       "      <th></th>\n",
       "      <th>date</th>\n",
       "      <th>temp</th>\n",
       "    </tr>\n",
       "    <tr>\n",
       "      <th>date</th>\n",
       "      <th></th>\n",
       "      <th></th>\n",
       "    </tr>\n",
       "  </thead>\n",
       "  <tbody>\n",
       "    <tr>\n",
       "      <th>2010-08-02</th>\n",
       "      <td>2010-08-02</td>\n",
       "      <td>25.2</td>\n",
       "    </tr>\n",
       "    <tr>\n",
       "      <th>2010-08-03</th>\n",
       "      <td>2010-08-03</td>\n",
       "      <td>22.1</td>\n",
       "    </tr>\n",
       "  </tbody>\n",
       "</table>\n",
       "</div>"
      ],
      "text/plain": [
       "                  date  temp\n",
       "date                        \n",
       "2010-08-02  2010-08-02  25.2\n",
       "2010-08-03  2010-08-03  22.1"
      ]
     },
     "execution_count": 330,
     "metadata": {},
     "output_type": "execute_result"
    }
   ],
   "source": [
    "df.iloc[1:3, 0:2]"
   ]
  },
  {
   "cell_type": "markdown",
   "id": "14f1fbe7",
   "metadata": {
    "ExecuteTime": {
     "end_time": "2022-11-22T08:44:32.782894Z",
     "start_time": "2022-11-22T08:44:32.778662Z"
    }
   },
   "source": [
    "### 불인덱싱"
   ]
  },
  {
   "cell_type": "code",
   "execution_count": 332,
   "id": "69fc785f",
   "metadata": {
    "ExecuteTime": {
     "end_time": "2022-11-22T08:45:31.587452Z",
     "start_time": "2022-11-22T08:45:31.576499Z"
    }
   },
   "outputs": [
    {
     "data": {
      "text/plain": [
       "date\n",
       "2010-08-01    False\n",
       "2010-08-02    False\n",
       "2010-08-03    False\n",
       "2010-08-04    False\n",
       "2010-08-05    False\n",
       "              ...  \n",
       "2020-07-27    False\n",
       "2020-07-28    False\n",
       "2020-07-29    False\n",
       "2020-07-30    False\n",
       "2020-07-31    False\n",
       "Name: temp, Length: 3653, dtype: bool"
      ]
     },
     "execution_count": 332,
     "metadata": {},
     "output_type": "execute_result"
    }
   ],
   "source": [
    "df['temp'] >= 30"
   ]
  },
  {
   "cell_type": "code",
   "execution_count": 334,
   "id": "c5ce2a70",
   "metadata": {
    "ExecuteTime": {
     "end_time": "2022-11-22T08:45:59.674078Z",
     "start_time": "2022-11-22T08:45:59.656230Z"
    }
   },
   "outputs": [
    {
     "data": {
      "text/html": [
       "<div>\n",
       "<style scoped>\n",
       "    .dataframe tbody tr th:only-of-type {\n",
       "        vertical-align: middle;\n",
       "    }\n",
       "\n",
       "    .dataframe tbody tr th {\n",
       "        vertical-align: top;\n",
       "    }\n",
       "\n",
       "    .dataframe thead th {\n",
       "        text-align: right;\n",
       "    }\n",
       "</style>\n",
       "<table border=\"1\" class=\"dataframe\">\n",
       "  <thead>\n",
       "    <tr style=\"text-align: right;\">\n",
       "      <th></th>\n",
       "      <th>date</th>\n",
       "      <th>temp</th>\n",
       "      <th>max_wind</th>\n",
       "      <th>mean_wind</th>\n",
       "    </tr>\n",
       "    <tr>\n",
       "      <th>date</th>\n",
       "      <th></th>\n",
       "      <th></th>\n",
       "      <th></th>\n",
       "      <th></th>\n",
       "    </tr>\n",
       "  </thead>\n",
       "  <tbody>\n",
       "    <tr>\n",
       "      <th>2013-08-08</th>\n",
       "      <td>2013-08-08</td>\n",
       "      <td>31.3</td>\n",
       "      <td>7.8</td>\n",
       "      <td>4.6</td>\n",
       "    </tr>\n",
       "    <tr>\n",
       "      <th>2013-08-09</th>\n",
       "      <td>2013-08-09</td>\n",
       "      <td>30.6</td>\n",
       "      <td>9.9</td>\n",
       "      <td>6.4</td>\n",
       "    </tr>\n",
       "    <tr>\n",
       "      <th>2013-08-10</th>\n",
       "      <td>2013-08-10</td>\n",
       "      <td>30.6</td>\n",
       "      <td>7.4</td>\n",
       "      <td>3.8</td>\n",
       "    </tr>\n",
       "    <tr>\n",
       "      <th>2018-07-23</th>\n",
       "      <td>2018-07-23</td>\n",
       "      <td>30.5</td>\n",
       "      <td>6.5</td>\n",
       "      <td>1.6</td>\n",
       "    </tr>\n",
       "    <tr>\n",
       "      <th>2018-08-04</th>\n",
       "      <td>2018-08-04</td>\n",
       "      <td>30.3</td>\n",
       "      <td>5.8</td>\n",
       "      <td>3.0</td>\n",
       "    </tr>\n",
       "  </tbody>\n",
       "</table>\n",
       "</div>"
      ],
      "text/plain": [
       "                  date  temp  max_wind  mean_wind\n",
       "date                                             \n",
       "2013-08-08  2013-08-08  31.3       7.8        4.6\n",
       "2013-08-09  2013-08-09  30.6       9.9        6.4\n",
       "2013-08-10  2013-08-10  30.6       7.4        3.8\n",
       "2018-07-23  2018-07-23  30.5       6.5        1.6\n",
       "2018-08-04  2018-08-04  30.3       5.8        3.0"
      ]
     },
     "execution_count": 334,
     "metadata": {},
     "output_type": "execute_result"
    }
   ],
   "source": [
    "df[df['temp'] >= 30] #해당 하는 값들만 가져올 수 있음"
   ]
  },
  {
   "cell_type": "code",
   "execution_count": 335,
   "id": "f29cbddf",
   "metadata": {
    "ExecuteTime": {
     "end_time": "2022-11-22T08:46:20.939669Z",
     "start_time": "2022-11-22T08:46:20.934765Z"
    }
   },
   "outputs": [
    {
     "data": {
      "text/plain": [
       "31.3"
      ]
     },
     "execution_count": 335,
     "metadata": {},
     "output_type": "execute_result"
    }
   ],
   "source": [
    "df['temp'].max()"
   ]
  },
  {
   "cell_type": "code",
   "execution_count": 336,
   "id": "ef410bf5",
   "metadata": {
    "ExecuteTime": {
     "end_time": "2022-11-22T08:46:33.291903Z",
     "start_time": "2022-11-22T08:46:33.282102Z"
    }
   },
   "outputs": [
    {
     "data": {
      "text/plain": [
       "date\n",
       "2010-08-01    False\n",
       "2010-08-02    False\n",
       "2010-08-03    False\n",
       "2010-08-04    False\n",
       "2010-08-05    False\n",
       "              ...  \n",
       "2020-07-27    False\n",
       "2020-07-28    False\n",
       "2020-07-29    False\n",
       "2020-07-30    False\n",
       "2020-07-31    False\n",
       "Name: temp, Length: 3653, dtype: bool"
      ]
     },
     "execution_count": 336,
     "metadata": {},
     "output_type": "execute_result"
    }
   ],
   "source": [
    "df['temp'] == df['temp'].max()"
   ]
  },
  {
   "cell_type": "code",
   "execution_count": 337,
   "id": "cfa60fc2",
   "metadata": {
    "ExecuteTime": {
     "end_time": "2022-11-22T08:46:38.824746Z",
     "start_time": "2022-11-22T08:46:38.807840Z"
    }
   },
   "outputs": [
    {
     "data": {
      "text/html": [
       "<div>\n",
       "<style scoped>\n",
       "    .dataframe tbody tr th:only-of-type {\n",
       "        vertical-align: middle;\n",
       "    }\n",
       "\n",
       "    .dataframe tbody tr th {\n",
       "        vertical-align: top;\n",
       "    }\n",
       "\n",
       "    .dataframe thead th {\n",
       "        text-align: right;\n",
       "    }\n",
       "</style>\n",
       "<table border=\"1\" class=\"dataframe\">\n",
       "  <thead>\n",
       "    <tr style=\"text-align: right;\">\n",
       "      <th></th>\n",
       "      <th>date</th>\n",
       "      <th>temp</th>\n",
       "      <th>max_wind</th>\n",
       "      <th>mean_wind</th>\n",
       "    </tr>\n",
       "    <tr>\n",
       "      <th>date</th>\n",
       "      <th></th>\n",
       "      <th></th>\n",
       "      <th></th>\n",
       "      <th></th>\n",
       "    </tr>\n",
       "  </thead>\n",
       "  <tbody>\n",
       "    <tr>\n",
       "      <th>2013-08-08</th>\n",
       "      <td>2013-08-08</td>\n",
       "      <td>31.3</td>\n",
       "      <td>7.8</td>\n",
       "      <td>4.6</td>\n",
       "    </tr>\n",
       "  </tbody>\n",
       "</table>\n",
       "</div>"
      ],
      "text/plain": [
       "                  date  temp  max_wind  mean_wind\n",
       "date                                             \n",
       "2013-08-08  2013-08-08  31.3       7.8        4.6"
      ]
     },
     "execution_count": 337,
     "metadata": {},
     "output_type": "execute_result"
    }
   ],
   "source": [
    "df[df['temp'] == df['temp'].max()]"
   ]
  },
  {
   "cell_type": "code",
   "execution_count": 341,
   "id": "83d45118",
   "metadata": {
    "ExecuteTime": {
     "end_time": "2022-11-22T08:47:48.905017Z",
     "start_time": "2022-11-22T08:47:48.886338Z"
    }
   },
   "outputs": [
    {
     "data": {
      "text/html": [
       "<div>\n",
       "<style scoped>\n",
       "    .dataframe tbody tr th:only-of-type {\n",
       "        vertical-align: middle;\n",
       "    }\n",
       "\n",
       "    .dataframe tbody tr th {\n",
       "        vertical-align: top;\n",
       "    }\n",
       "\n",
       "    .dataframe thead th {\n",
       "        text-align: right;\n",
       "    }\n",
       "</style>\n",
       "<table border=\"1\" class=\"dataframe\">\n",
       "  <thead>\n",
       "    <tr style=\"text-align: right;\">\n",
       "      <th></th>\n",
       "      <th>date</th>\n",
       "      <th>temp</th>\n",
       "      <th>max_wind</th>\n",
       "      <th>mean_wind</th>\n",
       "    </tr>\n",
       "    <tr>\n",
       "      <th>date</th>\n",
       "      <th></th>\n",
       "      <th></th>\n",
       "      <th></th>\n",
       "      <th></th>\n",
       "    </tr>\n",
       "  </thead>\n",
       "  <tbody>\n",
       "    <tr>\n",
       "      <th>2013-08-09</th>\n",
       "      <td>2013-08-09</td>\n",
       "      <td>30.6</td>\n",
       "      <td>9.9</td>\n",
       "      <td>6.4</td>\n",
       "    </tr>\n",
       "  </tbody>\n",
       "</table>\n",
       "</div>"
      ],
      "text/plain": [
       "                  date  temp  max_wind  mean_wind\n",
       "date                                             \n",
       "2013-08-09  2013-08-09  30.6       9.9        6.4"
      ]
     },
     "execution_count": 341,
     "metadata": {},
     "output_type": "execute_result"
    }
   ],
   "source": [
    "df[(df['temp'] >= 30) & (df['max_wind'] >= 9)]"
   ]
  },
  {
   "cell_type": "markdown",
   "id": "98aa25cc",
   "metadata": {
    "ExecuteTime": {
     "end_time": "2022-11-22T08:48:18.307866Z",
     "start_time": "2022-11-22T08:48:18.304748Z"
    }
   },
   "source": [
    "## 결측데이터 처리"
   ]
  },
  {
   "cell_type": "markdown",
   "id": "65c3ecbb",
   "metadata": {},
   "source": [
    "### 결측데이터 확인"
   ]
  },
  {
   "cell_type": "code",
   "execution_count": 350,
   "id": "d8944924",
   "metadata": {
    "ExecuteTime": {
     "end_time": "2022-11-22T08:50:07.782709Z",
     "start_time": "2022-11-22T08:50:07.774575Z"
    }
   },
   "outputs": [
    {
     "data": {
      "text/plain": [
       "date\n",
       "2010-08-01    False\n",
       "2010-08-02    False\n",
       "2010-08-03    False\n",
       "2010-08-04    False\n",
       "2010-08-05    False\n",
       "              ...  \n",
       "2020-07-27    False\n",
       "2020-07-28    False\n",
       "2020-07-29    False\n",
       "2020-07-30    False\n",
       "2020-07-31    False\n",
       "Name: max_wind, Length: 3653, dtype: bool"
      ]
     },
     "execution_count": 350,
     "metadata": {},
     "output_type": "execute_result"
    }
   ],
   "source": [
    "df['max_wind'].isna()"
   ]
  },
  {
   "cell_type": "code",
   "execution_count": 351,
   "id": "7b21228b",
   "metadata": {
    "ExecuteTime": {
     "end_time": "2022-11-22T08:50:10.090059Z",
     "start_time": "2022-11-22T08:50:10.071598Z"
    }
   },
   "outputs": [
    {
     "data": {
      "text/html": [
       "<div>\n",
       "<style scoped>\n",
       "    .dataframe tbody tr th:only-of-type {\n",
       "        vertical-align: middle;\n",
       "    }\n",
       "\n",
       "    .dataframe tbody tr th {\n",
       "        vertical-align: top;\n",
       "    }\n",
       "\n",
       "    .dataframe thead th {\n",
       "        text-align: right;\n",
       "    }\n",
       "</style>\n",
       "<table border=\"1\" class=\"dataframe\">\n",
       "  <thead>\n",
       "    <tr style=\"text-align: right;\">\n",
       "      <th></th>\n",
       "      <th>date</th>\n",
       "      <th>temp</th>\n",
       "      <th>max_wind</th>\n",
       "      <th>mean_wind</th>\n",
       "    </tr>\n",
       "    <tr>\n",
       "      <th>date</th>\n",
       "      <th></th>\n",
       "      <th></th>\n",
       "      <th></th>\n",
       "      <th></th>\n",
       "    </tr>\n",
       "  </thead>\n",
       "  <tbody>\n",
       "    <tr>\n",
       "      <th>2012-02-11</th>\n",
       "      <td>2012-02-11</td>\n",
       "      <td>-0.7</td>\n",
       "      <td>NaN</td>\n",
       "      <td>NaN</td>\n",
       "    </tr>\n",
       "    <tr>\n",
       "      <th>2012-02-12</th>\n",
       "      <td>2012-02-12</td>\n",
       "      <td>0.4</td>\n",
       "      <td>NaN</td>\n",
       "      <td>NaN</td>\n",
       "    </tr>\n",
       "    <tr>\n",
       "      <th>2012-02-13</th>\n",
       "      <td>2012-02-13</td>\n",
       "      <td>4.0</td>\n",
       "      <td>NaN</td>\n",
       "      <td>NaN</td>\n",
       "    </tr>\n",
       "    <tr>\n",
       "      <th>2019-04-19</th>\n",
       "      <td>2019-04-19</td>\n",
       "      <td>7.8</td>\n",
       "      <td>NaN</td>\n",
       "      <td>2.3</td>\n",
       "    </tr>\n",
       "  </tbody>\n",
       "</table>\n",
       "</div>"
      ],
      "text/plain": [
       "                  date  temp  max_wind  mean_wind\n",
       "date                                             \n",
       "2012-02-11  2012-02-11  -0.7       NaN        NaN\n",
       "2012-02-12  2012-02-12   0.4       NaN        NaN\n",
       "2012-02-13  2012-02-13   4.0       NaN        NaN\n",
       "2019-04-19  2019-04-19   7.8       NaN        2.3"
      ]
     },
     "execution_count": 351,
     "metadata": {},
     "output_type": "execute_result"
    }
   ],
   "source": [
    "df[df['max_wind'].isna()]"
   ]
  },
  {
   "cell_type": "code",
   "execution_count": 352,
   "id": "09761a60",
   "metadata": {
    "ExecuteTime": {
     "end_time": "2022-11-22T08:50:13.906315Z",
     "start_time": "2022-11-22T08:50:13.889064Z"
    }
   },
   "outputs": [
    {
     "data": {
      "text/html": [
       "<div>\n",
       "<style scoped>\n",
       "    .dataframe tbody tr th:only-of-type {\n",
       "        vertical-align: middle;\n",
       "    }\n",
       "\n",
       "    .dataframe tbody tr th {\n",
       "        vertical-align: top;\n",
       "    }\n",
       "\n",
       "    .dataframe thead th {\n",
       "        text-align: right;\n",
       "    }\n",
       "</style>\n",
       "<table border=\"1\" class=\"dataframe\">\n",
       "  <thead>\n",
       "    <tr style=\"text-align: right;\">\n",
       "      <th></th>\n",
       "      <th>date</th>\n",
       "      <th>temp</th>\n",
       "      <th>max_wind</th>\n",
       "      <th>mean_wind</th>\n",
       "    </tr>\n",
       "    <tr>\n",
       "      <th>date</th>\n",
       "      <th></th>\n",
       "      <th></th>\n",
       "      <th></th>\n",
       "      <th></th>\n",
       "    </tr>\n",
       "  </thead>\n",
       "  <tbody>\n",
       "    <tr>\n",
       "      <th>2010-08-01</th>\n",
       "      <td>False</td>\n",
       "      <td>False</td>\n",
       "      <td>False</td>\n",
       "      <td>False</td>\n",
       "    </tr>\n",
       "    <tr>\n",
       "      <th>2010-08-02</th>\n",
       "      <td>False</td>\n",
       "      <td>False</td>\n",
       "      <td>False</td>\n",
       "      <td>False</td>\n",
       "    </tr>\n",
       "    <tr>\n",
       "      <th>2010-08-03</th>\n",
       "      <td>False</td>\n",
       "      <td>False</td>\n",
       "      <td>False</td>\n",
       "      <td>False</td>\n",
       "    </tr>\n",
       "    <tr>\n",
       "      <th>2010-08-04</th>\n",
       "      <td>False</td>\n",
       "      <td>False</td>\n",
       "      <td>False</td>\n",
       "      <td>False</td>\n",
       "    </tr>\n",
       "    <tr>\n",
       "      <th>2010-08-05</th>\n",
       "      <td>False</td>\n",
       "      <td>False</td>\n",
       "      <td>False</td>\n",
       "      <td>False</td>\n",
       "    </tr>\n",
       "    <tr>\n",
       "      <th>...</th>\n",
       "      <td>...</td>\n",
       "      <td>...</td>\n",
       "      <td>...</td>\n",
       "      <td>...</td>\n",
       "    </tr>\n",
       "    <tr>\n",
       "      <th>2020-07-27</th>\n",
       "      <td>False</td>\n",
       "      <td>False</td>\n",
       "      <td>False</td>\n",
       "      <td>False</td>\n",
       "    </tr>\n",
       "    <tr>\n",
       "      <th>2020-07-28</th>\n",
       "      <td>False</td>\n",
       "      <td>False</td>\n",
       "      <td>False</td>\n",
       "      <td>False</td>\n",
       "    </tr>\n",
       "    <tr>\n",
       "      <th>2020-07-29</th>\n",
       "      <td>False</td>\n",
       "      <td>False</td>\n",
       "      <td>False</td>\n",
       "      <td>False</td>\n",
       "    </tr>\n",
       "    <tr>\n",
       "      <th>2020-07-30</th>\n",
       "      <td>False</td>\n",
       "      <td>False</td>\n",
       "      <td>False</td>\n",
       "      <td>False</td>\n",
       "    </tr>\n",
       "    <tr>\n",
       "      <th>2020-07-31</th>\n",
       "      <td>False</td>\n",
       "      <td>False</td>\n",
       "      <td>False</td>\n",
       "      <td>False</td>\n",
       "    </tr>\n",
       "  </tbody>\n",
       "</table>\n",
       "<p>3653 rows × 4 columns</p>\n",
       "</div>"
      ],
      "text/plain": [
       "             date   temp  max_wind  mean_wind\n",
       "date                                         \n",
       "2010-08-01  False  False     False      False\n",
       "2010-08-02  False  False     False      False\n",
       "2010-08-03  False  False     False      False\n",
       "2010-08-04  False  False     False      False\n",
       "2010-08-05  False  False     False      False\n",
       "...           ...    ...       ...        ...\n",
       "2020-07-27  False  False     False      False\n",
       "2020-07-28  False  False     False      False\n",
       "2020-07-29  False  False     False      False\n",
       "2020-07-30  False  False     False      False\n",
       "2020-07-31  False  False     False      False\n",
       "\n",
       "[3653 rows x 4 columns]"
      ]
     },
     "execution_count": 352,
     "metadata": {},
     "output_type": "execute_result"
    }
   ],
   "source": [
    "df.isnull()"
   ]
  },
  {
   "cell_type": "code",
   "execution_count": 353,
   "id": "cd7dc67c",
   "metadata": {
    "ExecuteTime": {
     "end_time": "2022-11-22T08:50:22.993275Z",
     "start_time": "2022-11-22T08:50:22.978858Z"
    }
   },
   "outputs": [
    {
     "data": {
      "text/plain": [
       "date         0\n",
       "temp         0\n",
       "max_wind     4\n",
       "mean_wind    6\n",
       "dtype: int64"
      ]
     },
     "execution_count": 353,
     "metadata": {},
     "output_type": "execute_result"
    }
   ],
   "source": [
    "df.isnull().sum()"
   ]
  },
  {
   "cell_type": "code",
   "execution_count": 354,
   "id": "55abc31c",
   "metadata": {
    "ExecuteTime": {
     "end_time": "2022-11-22T08:52:48.688335Z",
     "start_time": "2022-11-22T08:52:48.667166Z"
    }
   },
   "outputs": [
    {
     "data": {
      "text/html": [
       "<div>\n",
       "<style scoped>\n",
       "    .dataframe tbody tr th:only-of-type {\n",
       "        vertical-align: middle;\n",
       "    }\n",
       "\n",
       "    .dataframe tbody tr th {\n",
       "        vertical-align: top;\n",
       "    }\n",
       "\n",
       "    .dataframe thead th {\n",
       "        text-align: right;\n",
       "    }\n",
       "</style>\n",
       "<table border=\"1\" class=\"dataframe\">\n",
       "  <thead>\n",
       "    <tr style=\"text-align: right;\">\n",
       "      <th></th>\n",
       "      <th>date</th>\n",
       "      <th>temp</th>\n",
       "      <th>max_wind</th>\n",
       "      <th>mean_wind</th>\n",
       "    </tr>\n",
       "    <tr>\n",
       "      <th>date</th>\n",
       "      <th></th>\n",
       "      <th></th>\n",
       "      <th></th>\n",
       "      <th></th>\n",
       "    </tr>\n",
       "  </thead>\n",
       "  <tbody>\n",
       "    <tr>\n",
       "      <th>2010-08-01</th>\n",
       "      <td>True</td>\n",
       "      <td>True</td>\n",
       "      <td>True</td>\n",
       "      <td>True</td>\n",
       "    </tr>\n",
       "    <tr>\n",
       "      <th>2010-08-02</th>\n",
       "      <td>True</td>\n",
       "      <td>True</td>\n",
       "      <td>True</td>\n",
       "      <td>True</td>\n",
       "    </tr>\n",
       "    <tr>\n",
       "      <th>2010-08-03</th>\n",
       "      <td>True</td>\n",
       "      <td>True</td>\n",
       "      <td>True</td>\n",
       "      <td>True</td>\n",
       "    </tr>\n",
       "    <tr>\n",
       "      <th>2010-08-04</th>\n",
       "      <td>True</td>\n",
       "      <td>True</td>\n",
       "      <td>True</td>\n",
       "      <td>True</td>\n",
       "    </tr>\n",
       "    <tr>\n",
       "      <th>2010-08-05</th>\n",
       "      <td>True</td>\n",
       "      <td>True</td>\n",
       "      <td>True</td>\n",
       "      <td>True</td>\n",
       "    </tr>\n",
       "    <tr>\n",
       "      <th>...</th>\n",
       "      <td>...</td>\n",
       "      <td>...</td>\n",
       "      <td>...</td>\n",
       "      <td>...</td>\n",
       "    </tr>\n",
       "    <tr>\n",
       "      <th>2020-07-27</th>\n",
       "      <td>True</td>\n",
       "      <td>True</td>\n",
       "      <td>True</td>\n",
       "      <td>True</td>\n",
       "    </tr>\n",
       "    <tr>\n",
       "      <th>2020-07-28</th>\n",
       "      <td>True</td>\n",
       "      <td>True</td>\n",
       "      <td>True</td>\n",
       "      <td>True</td>\n",
       "    </tr>\n",
       "    <tr>\n",
       "      <th>2020-07-29</th>\n",
       "      <td>True</td>\n",
       "      <td>True</td>\n",
       "      <td>True</td>\n",
       "      <td>True</td>\n",
       "    </tr>\n",
       "    <tr>\n",
       "      <th>2020-07-30</th>\n",
       "      <td>True</td>\n",
       "      <td>True</td>\n",
       "      <td>True</td>\n",
       "      <td>True</td>\n",
       "    </tr>\n",
       "    <tr>\n",
       "      <th>2020-07-31</th>\n",
       "      <td>True</td>\n",
       "      <td>True</td>\n",
       "      <td>True</td>\n",
       "      <td>True</td>\n",
       "    </tr>\n",
       "  </tbody>\n",
       "</table>\n",
       "<p>3653 rows × 4 columns</p>\n",
       "</div>"
      ],
      "text/plain": [
       "            date  temp  max_wind  mean_wind\n",
       "date                                       \n",
       "2010-08-01  True  True      True       True\n",
       "2010-08-02  True  True      True       True\n",
       "2010-08-03  True  True      True       True\n",
       "2010-08-04  True  True      True       True\n",
       "2010-08-05  True  True      True       True\n",
       "...          ...   ...       ...        ...\n",
       "2020-07-27  True  True      True       True\n",
       "2020-07-28  True  True      True       True\n",
       "2020-07-29  True  True      True       True\n",
       "2020-07-30  True  True      True       True\n",
       "2020-07-31  True  True      True       True\n",
       "\n",
       "[3653 rows x 4 columns]"
      ]
     },
     "execution_count": 354,
     "metadata": {},
     "output_type": "execute_result"
    }
   ],
   "source": [
    "df.notnull()"
   ]
  },
  {
   "cell_type": "code",
   "execution_count": 355,
   "id": "a3591d40",
   "metadata": {
    "ExecuteTime": {
     "end_time": "2022-11-22T08:52:55.247274Z",
     "start_time": "2022-11-22T08:52:55.236318Z"
    }
   },
   "outputs": [
    {
     "data": {
      "text/plain": [
       "date         3653\n",
       "temp         3653\n",
       "max_wind     3649\n",
       "mean_wind    3647\n",
       "dtype: int64"
      ]
     },
     "execution_count": 355,
     "metadata": {},
     "output_type": "execute_result"
    }
   ],
   "source": [
    "df.notnull().sum()"
   ]
  },
  {
   "cell_type": "code",
   "execution_count": 356,
   "id": "4654455e",
   "metadata": {
    "ExecuteTime": {
     "end_time": "2022-11-22T08:59:48.494317Z",
     "start_time": "2022-11-22T08:59:48.469958Z"
    }
   },
   "outputs": [
    {
     "name": "stdout",
     "output_type": "stream",
     "text": [
      "<class 'pandas.core.frame.DataFrame'>\n",
      "Index: 3653 entries, 2010-08-01 to 2020-07-31\n",
      "Data columns (total 4 columns):\n",
      " #   Column     Non-Null Count  Dtype  \n",
      "---  ------     --------------  -----  \n",
      " 0   date       3653 non-null   object \n",
      " 1   temp       3653 non-null   float64\n",
      " 2   max_wind   3649 non-null   float64\n",
      " 3   mean_wind  3647 non-null   float64\n",
      "dtypes: float64(3), object(1)\n",
      "memory usage: 271.7+ KB\n"
     ]
    }
   ],
   "source": [
    "df.info()"
   ]
  },
  {
   "cell_type": "code",
   "execution_count": 367,
   "id": "d1bd4d4e",
   "metadata": {
    "ExecuteTime": {
     "end_time": "2022-11-22T09:03:27.248828Z",
     "start_time": "2022-11-22T09:03:27.224372Z"
    }
   },
   "outputs": [
    {
     "data": {
      "text/html": [
       "<div>\n",
       "<style scoped>\n",
       "    .dataframe tbody tr th:only-of-type {\n",
       "        vertical-align: middle;\n",
       "    }\n",
       "\n",
       "    .dataframe tbody tr th {\n",
       "        vertical-align: top;\n",
       "    }\n",
       "\n",
       "    .dataframe thead th {\n",
       "        text-align: right;\n",
       "    }\n",
       "</style>\n",
       "<table border=\"1\" class=\"dataframe\">\n",
       "  <thead>\n",
       "    <tr style=\"text-align: right;\">\n",
       "      <th></th>\n",
       "      <th>date</th>\n",
       "      <th>temp</th>\n",
       "      <th>max_wind</th>\n",
       "      <th>mean_wind</th>\n",
       "    </tr>\n",
       "    <tr>\n",
       "      <th>date</th>\n",
       "      <th></th>\n",
       "      <th></th>\n",
       "      <th></th>\n",
       "      <th></th>\n",
       "    </tr>\n",
       "  </thead>\n",
       "  <tbody>\n",
       "    <tr>\n",
       "      <th>2010-08-01</th>\n",
       "      <td>2010-08-01</td>\n",
       "      <td>28.7</td>\n",
       "      <td>8.3</td>\n",
       "      <td>3.4</td>\n",
       "    </tr>\n",
       "    <tr>\n",
       "      <th>2010-08-02</th>\n",
       "      <td>2010-08-02</td>\n",
       "      <td>25.2</td>\n",
       "      <td>8.7</td>\n",
       "      <td>3.8</td>\n",
       "    </tr>\n",
       "    <tr>\n",
       "      <th>2010-08-03</th>\n",
       "      <td>2010-08-03</td>\n",
       "      <td>22.1</td>\n",
       "      <td>6.3</td>\n",
       "      <td>2.9</td>\n",
       "    </tr>\n",
       "    <tr>\n",
       "      <th>2010-08-04</th>\n",
       "      <td>2010-08-04</td>\n",
       "      <td>25.3</td>\n",
       "      <td>6.6</td>\n",
       "      <td>4.2</td>\n",
       "    </tr>\n",
       "    <tr>\n",
       "      <th>2010-08-05</th>\n",
       "      <td>2010-08-05</td>\n",
       "      <td>27.2</td>\n",
       "      <td>9.1</td>\n",
       "      <td>5.6</td>\n",
       "    </tr>\n",
       "    <tr>\n",
       "      <th>...</th>\n",
       "      <td>...</td>\n",
       "      <td>...</td>\n",
       "      <td>...</td>\n",
       "      <td>...</td>\n",
       "    </tr>\n",
       "    <tr>\n",
       "      <th>2020-07-27</th>\n",
       "      <td>2020-07-27</td>\n",
       "      <td>22.1</td>\n",
       "      <td>4.2</td>\n",
       "      <td>1.7</td>\n",
       "    </tr>\n",
       "    <tr>\n",
       "      <th>2020-07-28</th>\n",
       "      <td>2020-07-28</td>\n",
       "      <td>21.9</td>\n",
       "      <td>4.5</td>\n",
       "      <td>1.6</td>\n",
       "    </tr>\n",
       "    <tr>\n",
       "      <th>2020-07-29</th>\n",
       "      <td>2020-07-29</td>\n",
       "      <td>21.6</td>\n",
       "      <td>3.2</td>\n",
       "      <td>1.0</td>\n",
       "    </tr>\n",
       "    <tr>\n",
       "      <th>2020-07-30</th>\n",
       "      <td>2020-07-30</td>\n",
       "      <td>22.9</td>\n",
       "      <td>9.7</td>\n",
       "      <td>2.4</td>\n",
       "    </tr>\n",
       "    <tr>\n",
       "      <th>2020-07-31</th>\n",
       "      <td>2020-07-31</td>\n",
       "      <td>25.7</td>\n",
       "      <td>4.8</td>\n",
       "      <td>2.5</td>\n",
       "    </tr>\n",
       "  </tbody>\n",
       "</table>\n",
       "<p>3646 rows × 4 columns</p>\n",
       "</div>"
      ],
      "text/plain": [
       "                  date  temp  max_wind  mean_wind\n",
       "date                                             \n",
       "2010-08-01  2010-08-01  28.7       8.3        3.4\n",
       "2010-08-02  2010-08-02  25.2       8.7        3.8\n",
       "2010-08-03  2010-08-03  22.1       6.3        2.9\n",
       "2010-08-04  2010-08-04  25.3       6.6        4.2\n",
       "2010-08-05  2010-08-05  27.2       9.1        5.6\n",
       "...                ...   ...       ...        ...\n",
       "2020-07-27  2020-07-27  22.1       4.2        1.7\n",
       "2020-07-28  2020-07-28  21.9       4.5        1.6\n",
       "2020-07-29  2020-07-29  21.6       3.2        1.0\n",
       "2020-07-30  2020-07-30  22.9       9.7        2.4\n",
       "2020-07-31  2020-07-31  25.7       4.8        2.5\n",
       "\n",
       "[3646 rows x 4 columns]"
      ]
     },
     "execution_count": 367,
     "metadata": {},
     "output_type": "execute_result"
    }
   ],
   "source": [
    "df2 = df.dropna()\n",
    "df2"
   ]
  },
  {
   "cell_type": "code",
   "execution_count": 369,
   "id": "2218789a",
   "metadata": {
    "ExecuteTime": {
     "end_time": "2022-11-22T09:03:35.474010Z",
     "start_time": "2022-11-22T09:03:35.462723Z"
    }
   },
   "outputs": [
    {
     "data": {
      "text/plain": [
       "date         0\n",
       "temp         0\n",
       "max_wind     4\n",
       "mean_wind    6\n",
       "dtype: int64"
      ]
     },
     "execution_count": 369,
     "metadata": {},
     "output_type": "execute_result"
    }
   ],
   "source": [
    "df.isnull().sum()"
   ]
  },
  {
   "cell_type": "code",
   "execution_count": 361,
   "id": "6fe1acc6",
   "metadata": {
    "ExecuteTime": {
     "end_time": "2022-11-22T09:00:25.067105Z",
     "start_time": "2022-11-22T09:00:25.056142Z"
    }
   },
   "outputs": [
    {
     "data": {
      "text/plain": [
       "date         0\n",
       "temp         0\n",
       "max_wind     0\n",
       "mean_wind    0\n",
       "dtype: int64"
      ]
     },
     "execution_count": 361,
     "metadata": {},
     "output_type": "execute_result"
    }
   ],
   "source": [
    "df2.isnull().sum()"
   ]
  },
  {
   "cell_type": "code",
   "execution_count": 365,
   "id": "fd3eeac0",
   "metadata": {
    "ExecuteTime": {
     "end_time": "2022-11-22T09:02:41.916827Z",
     "start_time": "2022-11-22T09:02:41.894517Z"
    }
   },
   "outputs": [
    {
     "data": {
      "text/html": [
       "<div>\n",
       "<style scoped>\n",
       "    .dataframe tbody tr th:only-of-type {\n",
       "        vertical-align: middle;\n",
       "    }\n",
       "\n",
       "    .dataframe tbody tr th {\n",
       "        vertical-align: top;\n",
       "    }\n",
       "\n",
       "    .dataframe thead th {\n",
       "        text-align: right;\n",
       "    }\n",
       "</style>\n",
       "<table border=\"1\" class=\"dataframe\">\n",
       "  <thead>\n",
       "    <tr style=\"text-align: right;\">\n",
       "      <th></th>\n",
       "      <th>date</th>\n",
       "      <th>temp</th>\n",
       "      <th>max_wind</th>\n",
       "      <th>mean_wind</th>\n",
       "    </tr>\n",
       "    <tr>\n",
       "      <th>date</th>\n",
       "      <th></th>\n",
       "      <th></th>\n",
       "      <th></th>\n",
       "      <th></th>\n",
       "    </tr>\n",
       "  </thead>\n",
       "  <tbody>\n",
       "    <tr>\n",
       "      <th>2010-08-01</th>\n",
       "      <td>2010-08-01</td>\n",
       "      <td>28.7</td>\n",
       "      <td>8.3</td>\n",
       "      <td>3.4</td>\n",
       "    </tr>\n",
       "    <tr>\n",
       "      <th>2010-08-02</th>\n",
       "      <td>2010-08-02</td>\n",
       "      <td>25.2</td>\n",
       "      <td>8.7</td>\n",
       "      <td>3.8</td>\n",
       "    </tr>\n",
       "    <tr>\n",
       "      <th>2010-08-03</th>\n",
       "      <td>2010-08-03</td>\n",
       "      <td>22.1</td>\n",
       "      <td>6.3</td>\n",
       "      <td>2.9</td>\n",
       "    </tr>\n",
       "    <tr>\n",
       "      <th>2010-08-04</th>\n",
       "      <td>2010-08-04</td>\n",
       "      <td>25.3</td>\n",
       "      <td>6.6</td>\n",
       "      <td>4.2</td>\n",
       "    </tr>\n",
       "    <tr>\n",
       "      <th>2010-08-05</th>\n",
       "      <td>2010-08-05</td>\n",
       "      <td>27.2</td>\n",
       "      <td>9.1</td>\n",
       "      <td>5.6</td>\n",
       "    </tr>\n",
       "    <tr>\n",
       "      <th>...</th>\n",
       "      <td>...</td>\n",
       "      <td>...</td>\n",
       "      <td>...</td>\n",
       "      <td>...</td>\n",
       "    </tr>\n",
       "    <tr>\n",
       "      <th>2020-07-27</th>\n",
       "      <td>2020-07-27</td>\n",
       "      <td>22.1</td>\n",
       "      <td>4.2</td>\n",
       "      <td>1.7</td>\n",
       "    </tr>\n",
       "    <tr>\n",
       "      <th>2020-07-28</th>\n",
       "      <td>2020-07-28</td>\n",
       "      <td>21.9</td>\n",
       "      <td>4.5</td>\n",
       "      <td>1.6</td>\n",
       "    </tr>\n",
       "    <tr>\n",
       "      <th>2020-07-29</th>\n",
       "      <td>2020-07-29</td>\n",
       "      <td>21.6</td>\n",
       "      <td>3.2</td>\n",
       "      <td>1.0</td>\n",
       "    </tr>\n",
       "    <tr>\n",
       "      <th>2020-07-30</th>\n",
       "      <td>2020-07-30</td>\n",
       "      <td>22.9</td>\n",
       "      <td>9.7</td>\n",
       "      <td>2.4</td>\n",
       "    </tr>\n",
       "    <tr>\n",
       "      <th>2020-07-31</th>\n",
       "      <td>2020-07-31</td>\n",
       "      <td>25.7</td>\n",
       "      <td>4.8</td>\n",
       "      <td>2.5</td>\n",
       "    </tr>\n",
       "  </tbody>\n",
       "</table>\n",
       "<p>3646 rows × 4 columns</p>\n",
       "</div>"
      ],
      "text/plain": [
       "                  date  temp  max_wind  mean_wind\n",
       "date                                             \n",
       "2010-08-01  2010-08-01  28.7       8.3        3.4\n",
       "2010-08-02  2010-08-02  25.2       8.7        3.8\n",
       "2010-08-03  2010-08-03  22.1       6.3        2.9\n",
       "2010-08-04  2010-08-04  25.3       6.6        4.2\n",
       "2010-08-05  2010-08-05  27.2       9.1        5.6\n",
       "...                ...   ...       ...        ...\n",
       "2020-07-27  2020-07-27  22.1       4.2        1.7\n",
       "2020-07-28  2020-07-28  21.9       4.5        1.6\n",
       "2020-07-29  2020-07-29  21.6       3.2        1.0\n",
       "2020-07-30  2020-07-30  22.9       9.7        2.4\n",
       "2020-07-31  2020-07-31  25.7       4.8        2.5\n",
       "\n",
       "[3646 rows x 4 columns]"
      ]
     },
     "execution_count": 365,
     "metadata": {},
     "output_type": "execute_result"
    }
   ],
   "source": [
    "#특정 행 제거\n",
    "df3 = df.dropna(axis=0) #누락값 있는 모든 행 제거\n",
    "df3"
   ]
  },
  {
   "cell_type": "code",
   "execution_count": 364,
   "id": "f9acc32d",
   "metadata": {
    "ExecuteTime": {
     "end_time": "2022-11-22T09:02:11.837871Z",
     "start_time": "2022-11-22T09:02:11.826577Z"
    }
   },
   "outputs": [
    {
     "data": {
      "text/plain": [
       "date         0\n",
       "temp         0\n",
       "max_wind     0\n",
       "mean_wind    0\n",
       "dtype: int64"
      ]
     },
     "execution_count": 364,
     "metadata": {},
     "output_type": "execute_result"
    }
   ],
   "source": [
    "df3.isnull().sum()"
   ]
  },
  {
   "cell_type": "code",
   "execution_count": 366,
   "id": "95b69e6c",
   "metadata": {
    "ExecuteTime": {
     "end_time": "2022-11-22T09:03:10.729517Z",
     "start_time": "2022-11-22T09:03:10.704889Z"
    }
   },
   "outputs": [
    {
     "data": {
      "text/html": [
       "<div>\n",
       "<style scoped>\n",
       "    .dataframe tbody tr th:only-of-type {\n",
       "        vertical-align: middle;\n",
       "    }\n",
       "\n",
       "    .dataframe tbody tr th {\n",
       "        vertical-align: top;\n",
       "    }\n",
       "\n",
       "    .dataframe thead th {\n",
       "        text-align: right;\n",
       "    }\n",
       "</style>\n",
       "<table border=\"1\" class=\"dataframe\">\n",
       "  <thead>\n",
       "    <tr style=\"text-align: right;\">\n",
       "      <th></th>\n",
       "      <th>date</th>\n",
       "      <th>temp</th>\n",
       "    </tr>\n",
       "    <tr>\n",
       "      <th>date</th>\n",
       "      <th></th>\n",
       "      <th></th>\n",
       "    </tr>\n",
       "  </thead>\n",
       "  <tbody>\n",
       "    <tr>\n",
       "      <th>2010-08-01</th>\n",
       "      <td>2010-08-01</td>\n",
       "      <td>28.7</td>\n",
       "    </tr>\n",
       "    <tr>\n",
       "      <th>2010-08-02</th>\n",
       "      <td>2010-08-02</td>\n",
       "      <td>25.2</td>\n",
       "    </tr>\n",
       "    <tr>\n",
       "      <th>2010-08-03</th>\n",
       "      <td>2010-08-03</td>\n",
       "      <td>22.1</td>\n",
       "    </tr>\n",
       "    <tr>\n",
       "      <th>2010-08-04</th>\n",
       "      <td>2010-08-04</td>\n",
       "      <td>25.3</td>\n",
       "    </tr>\n",
       "    <tr>\n",
       "      <th>2010-08-05</th>\n",
       "      <td>2010-08-05</td>\n",
       "      <td>27.2</td>\n",
       "    </tr>\n",
       "    <tr>\n",
       "      <th>...</th>\n",
       "      <td>...</td>\n",
       "      <td>...</td>\n",
       "    </tr>\n",
       "    <tr>\n",
       "      <th>2020-07-27</th>\n",
       "      <td>2020-07-27</td>\n",
       "      <td>22.1</td>\n",
       "    </tr>\n",
       "    <tr>\n",
       "      <th>2020-07-28</th>\n",
       "      <td>2020-07-28</td>\n",
       "      <td>21.9</td>\n",
       "    </tr>\n",
       "    <tr>\n",
       "      <th>2020-07-29</th>\n",
       "      <td>2020-07-29</td>\n",
       "      <td>21.6</td>\n",
       "    </tr>\n",
       "    <tr>\n",
       "      <th>2020-07-30</th>\n",
       "      <td>2020-07-30</td>\n",
       "      <td>22.9</td>\n",
       "    </tr>\n",
       "    <tr>\n",
       "      <th>2020-07-31</th>\n",
       "      <td>2020-07-31</td>\n",
       "      <td>25.7</td>\n",
       "    </tr>\n",
       "  </tbody>\n",
       "</table>\n",
       "<p>3653 rows × 2 columns</p>\n",
       "</div>"
      ],
      "text/plain": [
       "                  date  temp\n",
       "date                        \n",
       "2010-08-01  2010-08-01  28.7\n",
       "2010-08-02  2010-08-02  25.2\n",
       "2010-08-03  2010-08-03  22.1\n",
       "2010-08-04  2010-08-04  25.3\n",
       "2010-08-05  2010-08-05  27.2\n",
       "...                ...   ...\n",
       "2020-07-27  2020-07-27  22.1\n",
       "2020-07-28  2020-07-28  21.9\n",
       "2020-07-29  2020-07-29  21.6\n",
       "2020-07-30  2020-07-30  22.9\n",
       "2020-07-31  2020-07-31  25.7\n",
       "\n",
       "[3653 rows x 2 columns]"
      ]
     },
     "execution_count": 366,
     "metadata": {},
     "output_type": "execute_result"
    }
   ],
   "source": [
    "df4 = df.dropna(axis=1) #결측치가 있는 칼럼을 제거한다.\n",
    "df4"
   ]
  },
  {
   "cell_type": "code",
   "execution_count": 370,
   "id": "1dd5ee74",
   "metadata": {
    "ExecuteTime": {
     "end_time": "2022-11-22T09:06:02.056603Z",
     "start_time": "2022-11-22T09:06:02.047056Z"
    }
   },
   "outputs": [
    {
     "data": {
      "text/html": [
       "<div>\n",
       "<style scoped>\n",
       "    .dataframe tbody tr th:only-of-type {\n",
       "        vertical-align: middle;\n",
       "    }\n",
       "\n",
       "    .dataframe tbody tr th {\n",
       "        vertical-align: top;\n",
       "    }\n",
       "\n",
       "    .dataframe thead th {\n",
       "        text-align: right;\n",
       "    }\n",
       "</style>\n",
       "<table border=\"1\" class=\"dataframe\">\n",
       "  <thead>\n",
       "    <tr style=\"text-align: right;\">\n",
       "      <th></th>\n",
       "      <th>date</th>\n",
       "      <th>temp</th>\n",
       "      <th>max_wind</th>\n",
       "      <th>mean_wind</th>\n",
       "    </tr>\n",
       "    <tr>\n",
       "      <th>date</th>\n",
       "      <th></th>\n",
       "      <th></th>\n",
       "      <th></th>\n",
       "      <th></th>\n",
       "    </tr>\n",
       "  </thead>\n",
       "  <tbody>\n",
       "    <tr>\n",
       "      <th>2010-08-01</th>\n",
       "      <td>2010-08-01</td>\n",
       "      <td>28.7</td>\n",
       "      <td>8.3</td>\n",
       "      <td>3.4</td>\n",
       "    </tr>\n",
       "    <tr>\n",
       "      <th>2010-08-02</th>\n",
       "      <td>2010-08-02</td>\n",
       "      <td>25.2</td>\n",
       "      <td>8.7</td>\n",
       "      <td>3.8</td>\n",
       "    </tr>\n",
       "    <tr>\n",
       "      <th>2010-08-03</th>\n",
       "      <td>2010-08-03</td>\n",
       "      <td>22.1</td>\n",
       "      <td>6.3</td>\n",
       "      <td>2.9</td>\n",
       "    </tr>\n",
       "    <tr>\n",
       "      <th>2010-08-04</th>\n",
       "      <td>2010-08-04</td>\n",
       "      <td>25.3</td>\n",
       "      <td>6.6</td>\n",
       "      <td>4.2</td>\n",
       "    </tr>\n",
       "    <tr>\n",
       "      <th>2010-08-05</th>\n",
       "      <td>2010-08-05</td>\n",
       "      <td>27.2</td>\n",
       "      <td>9.1</td>\n",
       "      <td>5.6</td>\n",
       "    </tr>\n",
       "    <tr>\n",
       "      <th>...</th>\n",
       "      <td>...</td>\n",
       "      <td>...</td>\n",
       "      <td>...</td>\n",
       "      <td>...</td>\n",
       "    </tr>\n",
       "    <tr>\n",
       "      <th>2020-07-27</th>\n",
       "      <td>2020-07-27</td>\n",
       "      <td>22.1</td>\n",
       "      <td>4.2</td>\n",
       "      <td>1.7</td>\n",
       "    </tr>\n",
       "    <tr>\n",
       "      <th>2020-07-28</th>\n",
       "      <td>2020-07-28</td>\n",
       "      <td>21.9</td>\n",
       "      <td>4.5</td>\n",
       "      <td>1.6</td>\n",
       "    </tr>\n",
       "    <tr>\n",
       "      <th>2020-07-29</th>\n",
       "      <td>2020-07-29</td>\n",
       "      <td>21.6</td>\n",
       "      <td>3.2</td>\n",
       "      <td>1.0</td>\n",
       "    </tr>\n",
       "    <tr>\n",
       "      <th>2020-07-30</th>\n",
       "      <td>2020-07-30</td>\n",
       "      <td>22.9</td>\n",
       "      <td>9.7</td>\n",
       "      <td>2.4</td>\n",
       "    </tr>\n",
       "    <tr>\n",
       "      <th>2020-07-31</th>\n",
       "      <td>2020-07-31</td>\n",
       "      <td>25.7</td>\n",
       "      <td>4.8</td>\n",
       "      <td>2.5</td>\n",
       "    </tr>\n",
       "  </tbody>\n",
       "</table>\n",
       "<p>3646 rows × 4 columns</p>\n",
       "</div>"
      ],
      "text/plain": [
       "                  date  temp  max_wind  mean_wind\n",
       "date                                             \n",
       "2010-08-01  2010-08-01  28.7       8.3        3.4\n",
       "2010-08-02  2010-08-02  25.2       8.7        3.8\n",
       "2010-08-03  2010-08-03  22.1       6.3        2.9\n",
       "2010-08-04  2010-08-04  25.3       6.6        4.2\n",
       "2010-08-05  2010-08-05  27.2       9.1        5.6\n",
       "...                ...   ...       ...        ...\n",
       "2020-07-27  2020-07-27  22.1       4.2        1.7\n",
       "2020-07-28  2020-07-28  21.9       4.5        1.6\n",
       "2020-07-29  2020-07-29  21.6       3.2        1.0\n",
       "2020-07-30  2020-07-30  22.9       9.7        2.4\n",
       "2020-07-31  2020-07-31  25.7       4.8        2.5\n",
       "\n",
       "[3646 rows x 4 columns]"
      ]
     },
     "execution_count": 370,
     "metadata": {},
     "output_type": "execute_result"
    }
   ],
   "source": [
    "df5 = df.dropna(how='any')#결측치 1개라도 있으면 삭제 all:모든 값이 결측치인 경우에만\n",
    "df5"
   ]
  },
  {
   "cell_type": "code",
   "execution_count": 372,
   "id": "2651fdbb",
   "metadata": {
    "ExecuteTime": {
     "end_time": "2022-11-22T09:06:16.512879Z",
     "start_time": "2022-11-22T09:06:16.499519Z"
    }
   },
   "outputs": [
    {
     "data": {
      "text/plain": [
       "date         0\n",
       "temp         0\n",
       "max_wind     0\n",
       "mean_wind    0\n",
       "dtype: int64"
      ]
     },
     "execution_count": 372,
     "metadata": {},
     "output_type": "execute_result"
    }
   ],
   "source": [
    "df5.isnull().sum()"
   ]
  },
  {
   "cell_type": "code",
   "execution_count": 373,
   "id": "bb46f889",
   "metadata": {
    "ExecuteTime": {
     "end_time": "2022-11-22T09:06:34.288504Z",
     "start_time": "2022-11-22T09:06:34.277710Z"
    }
   },
   "outputs": [
    {
     "data": {
      "text/plain": [
       "date         0\n",
       "temp         0\n",
       "max_wind     4\n",
       "mean_wind    6\n",
       "dtype: int64"
      ]
     },
     "execution_count": 373,
     "metadata": {},
     "output_type": "execute_result"
    }
   ],
   "source": [
    "df.isnull().sum()"
   ]
  },
  {
   "cell_type": "code",
   "execution_count": 374,
   "id": "17481b5d",
   "metadata": {
    "ExecuteTime": {
     "end_time": "2022-11-22T09:07:13.683567Z",
     "start_time": "2022-11-22T09:07:13.660208Z"
    }
   },
   "outputs": [
    {
     "data": {
      "text/html": [
       "<div>\n",
       "<style scoped>\n",
       "    .dataframe tbody tr th:only-of-type {\n",
       "        vertical-align: middle;\n",
       "    }\n",
       "\n",
       "    .dataframe tbody tr th {\n",
       "        vertical-align: top;\n",
       "    }\n",
       "\n",
       "    .dataframe thead th {\n",
       "        text-align: right;\n",
       "    }\n",
       "</style>\n",
       "<table border=\"1\" class=\"dataframe\">\n",
       "  <thead>\n",
       "    <tr style=\"text-align: right;\">\n",
       "      <th></th>\n",
       "      <th>date</th>\n",
       "      <th>temp</th>\n",
       "      <th>max_wind</th>\n",
       "      <th>mean_wind</th>\n",
       "    </tr>\n",
       "    <tr>\n",
       "      <th>date</th>\n",
       "      <th></th>\n",
       "      <th></th>\n",
       "      <th></th>\n",
       "      <th></th>\n",
       "    </tr>\n",
       "  </thead>\n",
       "  <tbody>\n",
       "    <tr>\n",
       "      <th>2010-08-01</th>\n",
       "      <td>2010-08-01</td>\n",
       "      <td>28.7</td>\n",
       "      <td>8.3</td>\n",
       "      <td>3.4</td>\n",
       "    </tr>\n",
       "    <tr>\n",
       "      <th>2010-08-02</th>\n",
       "      <td>2010-08-02</td>\n",
       "      <td>25.2</td>\n",
       "      <td>8.7</td>\n",
       "      <td>3.8</td>\n",
       "    </tr>\n",
       "    <tr>\n",
       "      <th>2010-08-03</th>\n",
       "      <td>2010-08-03</td>\n",
       "      <td>22.1</td>\n",
       "      <td>6.3</td>\n",
       "      <td>2.9</td>\n",
       "    </tr>\n",
       "    <tr>\n",
       "      <th>2010-08-04</th>\n",
       "      <td>2010-08-04</td>\n",
       "      <td>25.3</td>\n",
       "      <td>6.6</td>\n",
       "      <td>4.2</td>\n",
       "    </tr>\n",
       "    <tr>\n",
       "      <th>2010-08-05</th>\n",
       "      <td>2010-08-05</td>\n",
       "      <td>27.2</td>\n",
       "      <td>9.1</td>\n",
       "      <td>5.6</td>\n",
       "    </tr>\n",
       "    <tr>\n",
       "      <th>...</th>\n",
       "      <td>...</td>\n",
       "      <td>...</td>\n",
       "      <td>...</td>\n",
       "      <td>...</td>\n",
       "    </tr>\n",
       "    <tr>\n",
       "      <th>2020-07-27</th>\n",
       "      <td>2020-07-27</td>\n",
       "      <td>22.1</td>\n",
       "      <td>4.2</td>\n",
       "      <td>1.7</td>\n",
       "    </tr>\n",
       "    <tr>\n",
       "      <th>2020-07-28</th>\n",
       "      <td>2020-07-28</td>\n",
       "      <td>21.9</td>\n",
       "      <td>4.5</td>\n",
       "      <td>1.6</td>\n",
       "    </tr>\n",
       "    <tr>\n",
       "      <th>2020-07-29</th>\n",
       "      <td>2020-07-29</td>\n",
       "      <td>21.6</td>\n",
       "      <td>3.2</td>\n",
       "      <td>1.0</td>\n",
       "    </tr>\n",
       "    <tr>\n",
       "      <th>2020-07-30</th>\n",
       "      <td>2020-07-30</td>\n",
       "      <td>22.9</td>\n",
       "      <td>9.7</td>\n",
       "      <td>2.4</td>\n",
       "    </tr>\n",
       "    <tr>\n",
       "      <th>2020-07-31</th>\n",
       "      <td>2020-07-31</td>\n",
       "      <td>25.7</td>\n",
       "      <td>4.8</td>\n",
       "      <td>2.5</td>\n",
       "    </tr>\n",
       "  </tbody>\n",
       "</table>\n",
       "<p>3653 rows × 4 columns</p>\n",
       "</div>"
      ],
      "text/plain": [
       "                  date  temp  max_wind  mean_wind\n",
       "date                                             \n",
       "2010-08-01  2010-08-01  28.7       8.3        3.4\n",
       "2010-08-02  2010-08-02  25.2       8.7        3.8\n",
       "2010-08-03  2010-08-03  22.1       6.3        2.9\n",
       "2010-08-04  2010-08-04  25.3       6.6        4.2\n",
       "2010-08-05  2010-08-05  27.2       9.1        5.6\n",
       "...                ...   ...       ...        ...\n",
       "2020-07-27  2020-07-27  22.1       4.2        1.7\n",
       "2020-07-28  2020-07-28  21.9       4.5        1.6\n",
       "2020-07-29  2020-07-29  21.6       3.2        1.0\n",
       "2020-07-30  2020-07-30  22.9       9.7        2.4\n",
       "2020-07-31  2020-07-31  25.7       4.8        2.5\n",
       "\n",
       "[3653 rows x 4 columns]"
      ]
     },
     "execution_count": 374,
     "metadata": {},
     "output_type": "execute_result"
    }
   ],
   "source": [
    "df5 = df.dropna(how='all')\n",
    "df5"
   ]
  },
  {
   "cell_type": "code",
   "execution_count": 376,
   "id": "350bd4b2",
   "metadata": {
    "ExecuteTime": {
     "end_time": "2022-11-22T09:07:26.372628Z",
     "start_time": "2022-11-22T09:07:26.359984Z"
    }
   },
   "outputs": [
    {
     "data": {
      "text/plain": [
       "date         0\n",
       "temp         0\n",
       "max_wind     4\n",
       "mean_wind    6\n",
       "dtype: int64"
      ]
     },
     "execution_count": 376,
     "metadata": {},
     "output_type": "execute_result"
    }
   ],
   "source": [
    "df5.isnull().sum()"
   ]
  },
  {
   "cell_type": "code",
   "execution_count": 378,
   "id": "4b8c9b28",
   "metadata": {
    "ExecuteTime": {
     "end_time": "2022-11-22T09:08:02.452450Z",
     "start_time": "2022-11-22T09:08:02.430564Z"
    }
   },
   "outputs": [
    {
     "data": {
      "text/html": [
       "<div>\n",
       "<style scoped>\n",
       "    .dataframe tbody tr th:only-of-type {\n",
       "        vertical-align: middle;\n",
       "    }\n",
       "\n",
       "    .dataframe tbody tr th {\n",
       "        vertical-align: top;\n",
       "    }\n",
       "\n",
       "    .dataframe thead th {\n",
       "        text-align: right;\n",
       "    }\n",
       "</style>\n",
       "<table border=\"1\" class=\"dataframe\">\n",
       "  <thead>\n",
       "    <tr style=\"text-align: right;\">\n",
       "      <th></th>\n",
       "      <th>date</th>\n",
       "      <th>temp</th>\n",
       "      <th>max_wind</th>\n",
       "      <th>mean_wind</th>\n",
       "    </tr>\n",
       "    <tr>\n",
       "      <th>date</th>\n",
       "      <th></th>\n",
       "      <th></th>\n",
       "      <th></th>\n",
       "      <th></th>\n",
       "    </tr>\n",
       "  </thead>\n",
       "  <tbody>\n",
       "    <tr>\n",
       "      <th>2010-08-01</th>\n",
       "      <td>2010-08-01</td>\n",
       "      <td>28.7</td>\n",
       "      <td>8.3</td>\n",
       "      <td>3.4</td>\n",
       "    </tr>\n",
       "    <tr>\n",
       "      <th>2010-08-02</th>\n",
       "      <td>2010-08-02</td>\n",
       "      <td>25.2</td>\n",
       "      <td>8.7</td>\n",
       "      <td>3.8</td>\n",
       "    </tr>\n",
       "    <tr>\n",
       "      <th>2010-08-03</th>\n",
       "      <td>2010-08-03</td>\n",
       "      <td>22.1</td>\n",
       "      <td>6.3</td>\n",
       "      <td>2.9</td>\n",
       "    </tr>\n",
       "    <tr>\n",
       "      <th>2010-08-04</th>\n",
       "      <td>2010-08-04</td>\n",
       "      <td>25.3</td>\n",
       "      <td>6.6</td>\n",
       "      <td>4.2</td>\n",
       "    </tr>\n",
       "    <tr>\n",
       "      <th>2010-08-05</th>\n",
       "      <td>2010-08-05</td>\n",
       "      <td>27.2</td>\n",
       "      <td>9.1</td>\n",
       "      <td>5.6</td>\n",
       "    </tr>\n",
       "    <tr>\n",
       "      <th>...</th>\n",
       "      <td>...</td>\n",
       "      <td>...</td>\n",
       "      <td>...</td>\n",
       "      <td>...</td>\n",
       "    </tr>\n",
       "    <tr>\n",
       "      <th>2020-07-27</th>\n",
       "      <td>2020-07-27</td>\n",
       "      <td>22.1</td>\n",
       "      <td>4.2</td>\n",
       "      <td>1.7</td>\n",
       "    </tr>\n",
       "    <tr>\n",
       "      <th>2020-07-28</th>\n",
       "      <td>2020-07-28</td>\n",
       "      <td>21.9</td>\n",
       "      <td>4.5</td>\n",
       "      <td>1.6</td>\n",
       "    </tr>\n",
       "    <tr>\n",
       "      <th>2020-07-29</th>\n",
       "      <td>2020-07-29</td>\n",
       "      <td>21.6</td>\n",
       "      <td>3.2</td>\n",
       "      <td>1.0</td>\n",
       "    </tr>\n",
       "    <tr>\n",
       "      <th>2020-07-30</th>\n",
       "      <td>2020-07-30</td>\n",
       "      <td>22.9</td>\n",
       "      <td>9.7</td>\n",
       "      <td>2.4</td>\n",
       "    </tr>\n",
       "    <tr>\n",
       "      <th>2020-07-31</th>\n",
       "      <td>2020-07-31</td>\n",
       "      <td>25.7</td>\n",
       "      <td>4.8</td>\n",
       "      <td>2.5</td>\n",
       "    </tr>\n",
       "  </tbody>\n",
       "</table>\n",
       "<p>3646 rows × 4 columns</p>\n",
       "</div>"
      ],
      "text/plain": [
       "                  date  temp  max_wind  mean_wind\n",
       "date                                             \n",
       "2010-08-01  2010-08-01  28.7       8.3        3.4\n",
       "2010-08-02  2010-08-02  25.2       8.7        3.8\n",
       "2010-08-03  2010-08-03  22.1       6.3        2.9\n",
       "2010-08-04  2010-08-04  25.3       6.6        4.2\n",
       "2010-08-05  2010-08-05  27.2       9.1        5.6\n",
       "...                ...   ...       ...        ...\n",
       "2020-07-27  2020-07-27  22.1       4.2        1.7\n",
       "2020-07-28  2020-07-28  21.9       4.5        1.6\n",
       "2020-07-29  2020-07-29  21.6       3.2        1.0\n",
       "2020-07-30  2020-07-30  22.9       9.7        2.4\n",
       "2020-07-31  2020-07-31  25.7       4.8        2.5\n",
       "\n",
       "[3646 rows x 4 columns]"
      ]
     },
     "execution_count": 378,
     "metadata": {},
     "output_type": "execute_result"
    }
   ],
   "source": [
    "#inplace속성을 통해 원본에 바로 수정할 수 있음.\n",
    "df.dropna(inplace=True)\n",
    "df"
   ]
  },
  {
   "cell_type": "markdown",
   "id": "df272337",
   "metadata": {
    "ExecuteTime": {
     "end_time": "2022-11-22T09:08:34.502241Z",
     "start_time": "2022-11-22T09:08:34.496598Z"
    }
   },
   "source": [
    "### 결측치 대체"
   ]
  },
  {
   "cell_type": "code",
   "execution_count": 382,
   "id": "8782d6c5",
   "metadata": {
    "ExecuteTime": {
     "end_time": "2022-11-22T09:09:05.436877Z",
     "start_time": "2022-11-22T09:09:05.412766Z"
    }
   },
   "outputs": [
    {
     "data": {
      "text/html": [
       "<div>\n",
       "<style scoped>\n",
       "    .dataframe tbody tr th:only-of-type {\n",
       "        vertical-align: middle;\n",
       "    }\n",
       "\n",
       "    .dataframe tbody tr th {\n",
       "        vertical-align: top;\n",
       "    }\n",
       "\n",
       "    .dataframe thead th {\n",
       "        text-align: right;\n",
       "    }\n",
       "</style>\n",
       "<table border=\"1\" class=\"dataframe\">\n",
       "  <thead>\n",
       "    <tr style=\"text-align: right;\">\n",
       "      <th></th>\n",
       "      <th>date</th>\n",
       "      <th>temp</th>\n",
       "      <th>max_wind</th>\n",
       "      <th>mean_wind</th>\n",
       "    </tr>\n",
       "    <tr>\n",
       "      <th>date</th>\n",
       "      <th></th>\n",
       "      <th></th>\n",
       "      <th></th>\n",
       "      <th></th>\n",
       "    </tr>\n",
       "  </thead>\n",
       "  <tbody>\n",
       "    <tr>\n",
       "      <th>2010-08-01</th>\n",
       "      <td>2010-08-01</td>\n",
       "      <td>28.7</td>\n",
       "      <td>8.3</td>\n",
       "      <td>3.4</td>\n",
       "    </tr>\n",
       "    <tr>\n",
       "      <th>2010-08-02</th>\n",
       "      <td>2010-08-02</td>\n",
       "      <td>25.2</td>\n",
       "      <td>8.7</td>\n",
       "      <td>3.8</td>\n",
       "    </tr>\n",
       "    <tr>\n",
       "      <th>2010-08-03</th>\n",
       "      <td>2010-08-03</td>\n",
       "      <td>22.1</td>\n",
       "      <td>6.3</td>\n",
       "      <td>2.9</td>\n",
       "    </tr>\n",
       "    <tr>\n",
       "      <th>2010-08-04</th>\n",
       "      <td>2010-08-04</td>\n",
       "      <td>25.3</td>\n",
       "      <td>6.6</td>\n",
       "      <td>4.2</td>\n",
       "    </tr>\n",
       "    <tr>\n",
       "      <th>2010-08-05</th>\n",
       "      <td>2010-08-05</td>\n",
       "      <td>27.2</td>\n",
       "      <td>9.1</td>\n",
       "      <td>5.6</td>\n",
       "    </tr>\n",
       "    <tr>\n",
       "      <th>...</th>\n",
       "      <td>...</td>\n",
       "      <td>...</td>\n",
       "      <td>...</td>\n",
       "      <td>...</td>\n",
       "    </tr>\n",
       "    <tr>\n",
       "      <th>2020-07-27</th>\n",
       "      <td>2020-07-27</td>\n",
       "      <td>22.1</td>\n",
       "      <td>4.2</td>\n",
       "      <td>1.7</td>\n",
       "    </tr>\n",
       "    <tr>\n",
       "      <th>2020-07-28</th>\n",
       "      <td>2020-07-28</td>\n",
       "      <td>21.9</td>\n",
       "      <td>4.5</td>\n",
       "      <td>1.6</td>\n",
       "    </tr>\n",
       "    <tr>\n",
       "      <th>2020-07-29</th>\n",
       "      <td>2020-07-29</td>\n",
       "      <td>21.6</td>\n",
       "      <td>3.2</td>\n",
       "      <td>1.0</td>\n",
       "    </tr>\n",
       "    <tr>\n",
       "      <th>2020-07-30</th>\n",
       "      <td>2020-07-30</td>\n",
       "      <td>22.9</td>\n",
       "      <td>9.7</td>\n",
       "      <td>2.4</td>\n",
       "    </tr>\n",
       "    <tr>\n",
       "      <th>2020-07-31</th>\n",
       "      <td>2020-07-31</td>\n",
       "      <td>25.7</td>\n",
       "      <td>4.8</td>\n",
       "      <td>2.5</td>\n",
       "    </tr>\n",
       "  </tbody>\n",
       "</table>\n",
       "<p>3646 rows × 4 columns</p>\n",
       "</div>"
      ],
      "text/plain": [
       "                  date  temp  max_wind  mean_wind\n",
       "date                                             \n",
       "2010-08-01  2010-08-01  28.7       8.3        3.4\n",
       "2010-08-02  2010-08-02  25.2       8.7        3.8\n",
       "2010-08-03  2010-08-03  22.1       6.3        2.9\n",
       "2010-08-04  2010-08-04  25.3       6.6        4.2\n",
       "2010-08-05  2010-08-05  27.2       9.1        5.6\n",
       "...                ...   ...       ...        ...\n",
       "2020-07-27  2020-07-27  22.1       4.2        1.7\n",
       "2020-07-28  2020-07-28  21.9       4.5        1.6\n",
       "2020-07-29  2020-07-29  21.6       3.2        1.0\n",
       "2020-07-30  2020-07-30  22.9       9.7        2.4\n",
       "2020-07-31  2020-07-31  25.7       4.8        2.5\n",
       "\n",
       "[3646 rows x 4 columns]"
      ]
     },
     "execution_count": 382,
     "metadata": {},
     "output_type": "execute_result"
    }
   ],
   "source": [
    "df.fillna(0)"
   ]
  },
  {
   "cell_type": "code",
   "execution_count": 383,
   "id": "c6850e98",
   "metadata": {
    "ExecuteTime": {
     "end_time": "2022-11-22T09:09:05.687772Z",
     "start_time": "2022-11-22T09:09:05.675497Z"
    }
   },
   "outputs": [
    {
     "data": {
      "text/plain": [
       "date         0\n",
       "temp         0\n",
       "max_wind     0\n",
       "mean_wind    0\n",
       "dtype: int64"
      ]
     },
     "execution_count": 383,
     "metadata": {},
     "output_type": "execute_result"
    }
   ],
   "source": [
    "df.fillna(0).isnull().sum()"
   ]
  },
  {
   "cell_type": "code",
   "execution_count": 385,
   "id": "b692d781",
   "metadata": {
    "ExecuteTime": {
     "end_time": "2022-11-22T09:09:18.199028Z",
     "start_time": "2022-11-22T09:09:18.187112Z"
    }
   },
   "outputs": [
    {
     "data": {
      "text/plain": [
       "date         0\n",
       "temp         0\n",
       "max_wind     0\n",
       "mean_wind    0\n",
       "dtype: int64"
      ]
     },
     "execution_count": 385,
     "metadata": {},
     "output_type": "execute_result"
    }
   ],
   "source": [
    "df.isnull().sum()"
   ]
  },
  {
   "cell_type": "code",
   "execution_count": 386,
   "id": "e3eba471",
   "metadata": {
    "ExecuteTime": {
     "end_time": "2022-11-22T09:09:31.241301Z",
     "start_time": "2022-11-22T09:09:31.234670Z"
    }
   },
   "outputs": [],
   "source": [
    "df_new = df.copy()"
   ]
  },
  {
   "cell_type": "code",
   "execution_count": 388,
   "id": "e0d94bf3",
   "metadata": {
    "ExecuteTime": {
     "end_time": "2022-11-22T09:09:51.167901Z",
     "start_time": "2022-11-22T09:09:51.153973Z"
    }
   },
   "outputs": [
    {
     "data": {
      "text/plain": [
       "date         0\n",
       "temp         0\n",
       "max_wind     0\n",
       "mean_wind    0\n",
       "dtype: int64"
      ]
     },
     "execution_count": 388,
     "metadata": {},
     "output_type": "execute_result"
    }
   ],
   "source": [
    "df_new.fillna(0, inplace=True)\n",
    "df_new.isnull().sum()"
   ]
  },
  {
   "cell_type": "markdown",
   "id": "da100955",
   "metadata": {
    "ExecuteTime": {
     "end_time": "2022-11-22T09:13:21.861582Z",
     "start_time": "2022-11-22T09:13:21.849570Z"
    }
   },
   "source": [
    "## 가공하기"
   ]
  },
  {
   "cell_type": "code",
   "execution_count": 390,
   "id": "7dd0efc1",
   "metadata": {
    "ExecuteTime": {
     "end_time": "2022-11-22T09:13:48.348501Z",
     "start_time": "2022-11-22T09:13:47.907140Z"
    }
   },
   "outputs": [
    {
     "data": {
      "text/html": [
       "<div>\n",
       "<style scoped>\n",
       "    .dataframe tbody tr th:only-of-type {\n",
       "        vertical-align: middle;\n",
       "    }\n",
       "\n",
       "    .dataframe tbody tr th {\n",
       "        vertical-align: top;\n",
       "    }\n",
       "\n",
       "    .dataframe thead th {\n",
       "        text-align: right;\n",
       "    }\n",
       "</style>\n",
       "<table border=\"1\" class=\"dataframe\">\n",
       "  <thead>\n",
       "    <tr style=\"text-align: right;\">\n",
       "      <th></th>\n",
       "      <th>지역</th>\n",
       "      <th>망</th>\n",
       "      <th>측정소코드</th>\n",
       "      <th>측정소명</th>\n",
       "      <th>측정일시</th>\n",
       "      <th>SO2</th>\n",
       "      <th>CO</th>\n",
       "      <th>O3</th>\n",
       "      <th>NO2</th>\n",
       "      <th>PM10</th>\n",
       "      <th>PM25</th>\n",
       "      <th>주소</th>\n",
       "    </tr>\n",
       "  </thead>\n",
       "  <tbody>\n",
       "    <tr>\n",
       "      <th>0</th>\n",
       "      <td>서울 송파구</td>\n",
       "      <td>도시대기</td>\n",
       "      <td>111273</td>\n",
       "      <td>송파구</td>\n",
       "      <td>2021040101</td>\n",
       "      <td>0.004</td>\n",
       "      <td>1.0</td>\n",
       "      <td>0.002</td>\n",
       "      <td>0.066</td>\n",
       "      <td>50.0</td>\n",
       "      <td>18.0</td>\n",
       "      <td>서울 송파구 백제고분로 236</td>\n",
       "    </tr>\n",
       "    <tr>\n",
       "      <th>1</th>\n",
       "      <td>서울 송파구</td>\n",
       "      <td>도시대기</td>\n",
       "      <td>111273</td>\n",
       "      <td>송파구</td>\n",
       "      <td>2021040102</td>\n",
       "      <td>0.004</td>\n",
       "      <td>0.8</td>\n",
       "      <td>0.002</td>\n",
       "      <td>0.058</td>\n",
       "      <td>48.0</td>\n",
       "      <td>20.0</td>\n",
       "      <td>서울 송파구 백제고분로 236</td>\n",
       "    </tr>\n",
       "    <tr>\n",
       "      <th>2</th>\n",
       "      <td>서울 송파구</td>\n",
       "      <td>도시대기</td>\n",
       "      <td>111273</td>\n",
       "      <td>송파구</td>\n",
       "      <td>2021040103</td>\n",
       "      <td>0.004</td>\n",
       "      <td>0.8</td>\n",
       "      <td>0.002</td>\n",
       "      <td>0.055</td>\n",
       "      <td>44.0</td>\n",
       "      <td>20.0</td>\n",
       "      <td>서울 송파구 백제고분로 236</td>\n",
       "    </tr>\n",
       "    <tr>\n",
       "      <th>3</th>\n",
       "      <td>서울 송파구</td>\n",
       "      <td>도시대기</td>\n",
       "      <td>111273</td>\n",
       "      <td>송파구</td>\n",
       "      <td>2021040104</td>\n",
       "      <td>0.003</td>\n",
       "      <td>0.8</td>\n",
       "      <td>0.002</td>\n",
       "      <td>0.055</td>\n",
       "      <td>40.0</td>\n",
       "      <td>20.0</td>\n",
       "      <td>서울 송파구 백제고분로 236</td>\n",
       "    </tr>\n",
       "    <tr>\n",
       "      <th>4</th>\n",
       "      <td>서울 송파구</td>\n",
       "      <td>도시대기</td>\n",
       "      <td>111273</td>\n",
       "      <td>송파구</td>\n",
       "      <td>2021040105</td>\n",
       "      <td>0.004</td>\n",
       "      <td>0.8</td>\n",
       "      <td>0.002</td>\n",
       "      <td>0.053</td>\n",
       "      <td>38.0</td>\n",
       "      <td>17.0</td>\n",
       "      <td>서울 송파구 백제고분로 236</td>\n",
       "    </tr>\n",
       "    <tr>\n",
       "      <th>...</th>\n",
       "      <td>...</td>\n",
       "      <td>...</td>\n",
       "      <td>...</td>\n",
       "      <td>...</td>\n",
       "      <td>...</td>\n",
       "      <td>...</td>\n",
       "      <td>...</td>\n",
       "      <td>...</td>\n",
       "      <td>...</td>\n",
       "      <td>...</td>\n",
       "      <td>...</td>\n",
       "      <td>...</td>\n",
       "    </tr>\n",
       "    <tr>\n",
       "      <th>715</th>\n",
       "      <td>서울 송파구</td>\n",
       "      <td>도시대기</td>\n",
       "      <td>111273</td>\n",
       "      <td>송파구</td>\n",
       "      <td>2021043020</td>\n",
       "      <td>0.002</td>\n",
       "      <td>0.5</td>\n",
       "      <td>0.039</td>\n",
       "      <td>0.020</td>\n",
       "      <td>69.0</td>\n",
       "      <td>33.0</td>\n",
       "      <td>서울 송파구 백제고분로 236</td>\n",
       "    </tr>\n",
       "    <tr>\n",
       "      <th>716</th>\n",
       "      <td>서울 송파구</td>\n",
       "      <td>도시대기</td>\n",
       "      <td>111273</td>\n",
       "      <td>송파구</td>\n",
       "      <td>2021043021</td>\n",
       "      <td>0.002</td>\n",
       "      <td>0.5</td>\n",
       "      <td>0.039</td>\n",
       "      <td>0.019</td>\n",
       "      <td>76.0</td>\n",
       "      <td>34.0</td>\n",
       "      <td>서울 송파구 백제고분로 236</td>\n",
       "    </tr>\n",
       "    <tr>\n",
       "      <th>717</th>\n",
       "      <td>서울 송파구</td>\n",
       "      <td>도시대기</td>\n",
       "      <td>111273</td>\n",
       "      <td>송파구</td>\n",
       "      <td>2021043022</td>\n",
       "      <td>0.002</td>\n",
       "      <td>0.5</td>\n",
       "      <td>0.037</td>\n",
       "      <td>0.018</td>\n",
       "      <td>71.0</td>\n",
       "      <td>31.0</td>\n",
       "      <td>서울 송파구 백제고분로 236</td>\n",
       "    </tr>\n",
       "    <tr>\n",
       "      <th>718</th>\n",
       "      <td>서울 송파구</td>\n",
       "      <td>도시대기</td>\n",
       "      <td>111273</td>\n",
       "      <td>송파구</td>\n",
       "      <td>2021043023</td>\n",
       "      <td>0.002</td>\n",
       "      <td>0.5</td>\n",
       "      <td>0.040</td>\n",
       "      <td>0.016</td>\n",
       "      <td>46.0</td>\n",
       "      <td>22.0</td>\n",
       "      <td>서울 송파구 백제고분로 236</td>\n",
       "    </tr>\n",
       "    <tr>\n",
       "      <th>719</th>\n",
       "      <td>서울 송파구</td>\n",
       "      <td>도시대기</td>\n",
       "      <td>111273</td>\n",
       "      <td>송파구</td>\n",
       "      <td>2021043024</td>\n",
       "      <td>0.002</td>\n",
       "      <td>0.4</td>\n",
       "      <td>0.039</td>\n",
       "      <td>0.016</td>\n",
       "      <td>34.0</td>\n",
       "      <td>18.0</td>\n",
       "      <td>서울 송파구 백제고분로 236</td>\n",
       "    </tr>\n",
       "  </tbody>\n",
       "</table>\n",
       "<p>720 rows × 12 columns</p>\n",
       "</div>"
      ],
      "text/plain": [
       "         지역     망   측정소코드 측정소명        측정일시    SO2   CO     O3    NO2  PM10  \\\n",
       "0    서울 송파구  도시대기  111273  송파구  2021040101  0.004  1.0  0.002  0.066  50.0   \n",
       "1    서울 송파구  도시대기  111273  송파구  2021040102  0.004  0.8  0.002  0.058  48.0   \n",
       "2    서울 송파구  도시대기  111273  송파구  2021040103  0.004  0.8  0.002  0.055  44.0   \n",
       "3    서울 송파구  도시대기  111273  송파구  2021040104  0.003  0.8  0.002  0.055  40.0   \n",
       "4    서울 송파구  도시대기  111273  송파구  2021040105  0.004  0.8  0.002  0.053  38.0   \n",
       "..      ...   ...     ...  ...         ...    ...  ...    ...    ...   ...   \n",
       "715  서울 송파구  도시대기  111273  송파구  2021043020  0.002  0.5  0.039  0.020  69.0   \n",
       "716  서울 송파구  도시대기  111273  송파구  2021043021  0.002  0.5  0.039  0.019  76.0   \n",
       "717  서울 송파구  도시대기  111273  송파구  2021043022  0.002  0.5  0.037  0.018  71.0   \n",
       "718  서울 송파구  도시대기  111273  송파구  2021043023  0.002  0.5  0.040  0.016  46.0   \n",
       "719  서울 송파구  도시대기  111273  송파구  2021043024  0.002  0.4  0.039  0.016  34.0   \n",
       "\n",
       "     PM25                주소  \n",
       "0    18.0  서울 송파구 백제고분로 236  \n",
       "1    20.0  서울 송파구 백제고분로 236  \n",
       "2    20.0  서울 송파구 백제고분로 236  \n",
       "3    20.0  서울 송파구 백제고분로 236  \n",
       "4    17.0  서울 송파구 백제고분로 236  \n",
       "..    ...               ...  \n",
       "715  33.0  서울 송파구 백제고분로 236  \n",
       "716  34.0  서울 송파구 백제고분로 236  \n",
       "717  31.0  서울 송파구 백제고분로 236  \n",
       "718  22.0  서울 송파구 백제고분로 236  \n",
       "719  18.0  서울 송파구 백제고분로 236  \n",
       "\n",
       "[720 rows x 12 columns]"
      ]
     },
     "execution_count": 390,
     "metadata": {},
     "output_type": "execute_result"
    }
   ],
   "source": [
    "dust = pd.read_excel('./data/dust1.xlsx')\n",
    "dust"
   ]
  },
  {
   "cell_type": "markdown",
   "id": "36987f0d",
   "metadata": {
    "ExecuteTime": {
     "end_time": "2022-11-22T09:14:00.340950Z",
     "start_time": "2022-11-22T09:14:00.337309Z"
    }
   },
   "source": [
    "### 칼럼 변수 삭제/생성"
   ]
  },
  {
   "cell_type": "code",
   "execution_count": 402,
   "id": "3faa3d06",
   "metadata": {
    "ExecuteTime": {
     "end_time": "2022-11-22T09:22:34.258364Z",
     "start_time": "2022-11-22T09:22:34.232308Z"
    }
   },
   "outputs": [
    {
     "data": {
      "text/plain": [
       "numpy.int64"
      ]
     },
     "execution_count": 402,
     "metadata": {},
     "output_type": "execute_result"
    }
   ],
   "source": [
    "type(dust['지역'][0])\n",
    "type(dust['측정소코드'][3])"
   ]
  },
  {
   "cell_type": "code",
   "execution_count": 424,
   "id": "d2d983f5",
   "metadata": {
    "ExecuteTime": {
     "end_time": "2022-11-22T09:28:51.804452Z",
     "start_time": "2022-11-22T09:28:51.770357Z"
    }
   },
   "outputs": [
    {
     "data": {
      "text/html": [
       "<div>\n",
       "<style scoped>\n",
       "    .dataframe tbody tr th:only-of-type {\n",
       "        vertical-align: middle;\n",
       "    }\n",
       "\n",
       "    .dataframe tbody tr th {\n",
       "        vertical-align: top;\n",
       "    }\n",
       "\n",
       "    .dataframe thead th {\n",
       "        text-align: right;\n",
       "    }\n",
       "</style>\n",
       "<table border=\"1\" class=\"dataframe\">\n",
       "  <thead>\n",
       "    <tr style=\"text-align: right;\">\n",
       "      <th></th>\n",
       "      <th>측정소명</th>\n",
       "      <th>측정일시</th>\n",
       "      <th>SO2</th>\n",
       "      <th>CO</th>\n",
       "      <th>O3</th>\n",
       "      <th>NO2</th>\n",
       "      <th>PM10</th>\n",
       "      <th>PM25</th>\n",
       "      <th>주소</th>\n",
       "    </tr>\n",
       "  </thead>\n",
       "  <tbody>\n",
       "    <tr>\n",
       "      <th>0</th>\n",
       "      <td>송파구</td>\n",
       "      <td>2021040101</td>\n",
       "      <td>0.004</td>\n",
       "      <td>1.0</td>\n",
       "      <td>0.002</td>\n",
       "      <td>0.066</td>\n",
       "      <td>50.0</td>\n",
       "      <td>18.0</td>\n",
       "      <td>서울 송파구 백제고분로 236</td>\n",
       "    </tr>\n",
       "    <tr>\n",
       "      <th>1</th>\n",
       "      <td>송파구</td>\n",
       "      <td>2021040102</td>\n",
       "      <td>0.004</td>\n",
       "      <td>0.8</td>\n",
       "      <td>0.002</td>\n",
       "      <td>0.058</td>\n",
       "      <td>48.0</td>\n",
       "      <td>20.0</td>\n",
       "      <td>서울 송파구 백제고분로 236</td>\n",
       "    </tr>\n",
       "    <tr>\n",
       "      <th>2</th>\n",
       "      <td>송파구</td>\n",
       "      <td>2021040103</td>\n",
       "      <td>0.004</td>\n",
       "      <td>0.8</td>\n",
       "      <td>0.002</td>\n",
       "      <td>0.055</td>\n",
       "      <td>44.0</td>\n",
       "      <td>20.0</td>\n",
       "      <td>서울 송파구 백제고분로 236</td>\n",
       "    </tr>\n",
       "    <tr>\n",
       "      <th>3</th>\n",
       "      <td>송파구</td>\n",
       "      <td>2021040104</td>\n",
       "      <td>0.003</td>\n",
       "      <td>0.8</td>\n",
       "      <td>0.002</td>\n",
       "      <td>0.055</td>\n",
       "      <td>40.0</td>\n",
       "      <td>20.0</td>\n",
       "      <td>서울 송파구 백제고분로 236</td>\n",
       "    </tr>\n",
       "    <tr>\n",
       "      <th>4</th>\n",
       "      <td>송파구</td>\n",
       "      <td>2021040105</td>\n",
       "      <td>0.004</td>\n",
       "      <td>0.8</td>\n",
       "      <td>0.002</td>\n",
       "      <td>0.053</td>\n",
       "      <td>38.0</td>\n",
       "      <td>17.0</td>\n",
       "      <td>서울 송파구 백제고분로 236</td>\n",
       "    </tr>\n",
       "    <tr>\n",
       "      <th>...</th>\n",
       "      <td>...</td>\n",
       "      <td>...</td>\n",
       "      <td>...</td>\n",
       "      <td>...</td>\n",
       "      <td>...</td>\n",
       "      <td>...</td>\n",
       "      <td>...</td>\n",
       "      <td>...</td>\n",
       "      <td>...</td>\n",
       "    </tr>\n",
       "    <tr>\n",
       "      <th>715</th>\n",
       "      <td>송파구</td>\n",
       "      <td>2021043020</td>\n",
       "      <td>0.002</td>\n",
       "      <td>0.5</td>\n",
       "      <td>0.039</td>\n",
       "      <td>0.020</td>\n",
       "      <td>69.0</td>\n",
       "      <td>33.0</td>\n",
       "      <td>서울 송파구 백제고분로 236</td>\n",
       "    </tr>\n",
       "    <tr>\n",
       "      <th>716</th>\n",
       "      <td>송파구</td>\n",
       "      <td>2021043021</td>\n",
       "      <td>0.002</td>\n",
       "      <td>0.5</td>\n",
       "      <td>0.039</td>\n",
       "      <td>0.019</td>\n",
       "      <td>76.0</td>\n",
       "      <td>34.0</td>\n",
       "      <td>서울 송파구 백제고분로 236</td>\n",
       "    </tr>\n",
       "    <tr>\n",
       "      <th>717</th>\n",
       "      <td>송파구</td>\n",
       "      <td>2021043022</td>\n",
       "      <td>0.002</td>\n",
       "      <td>0.5</td>\n",
       "      <td>0.037</td>\n",
       "      <td>0.018</td>\n",
       "      <td>71.0</td>\n",
       "      <td>31.0</td>\n",
       "      <td>서울 송파구 백제고분로 236</td>\n",
       "    </tr>\n",
       "    <tr>\n",
       "      <th>718</th>\n",
       "      <td>송파구</td>\n",
       "      <td>2021043023</td>\n",
       "      <td>0.002</td>\n",
       "      <td>0.5</td>\n",
       "      <td>0.040</td>\n",
       "      <td>0.016</td>\n",
       "      <td>46.0</td>\n",
       "      <td>22.0</td>\n",
       "      <td>서울 송파구 백제고분로 236</td>\n",
       "    </tr>\n",
       "    <tr>\n",
       "      <th>719</th>\n",
       "      <td>송파구</td>\n",
       "      <td>2021043024</td>\n",
       "      <td>0.002</td>\n",
       "      <td>0.4</td>\n",
       "      <td>0.039</td>\n",
       "      <td>0.016</td>\n",
       "      <td>34.0</td>\n",
       "      <td>18.0</td>\n",
       "      <td>서울 송파구 백제고분로 236</td>\n",
       "    </tr>\n",
       "  </tbody>\n",
       "</table>\n",
       "<p>720 rows × 9 columns</p>\n",
       "</div>"
      ],
      "text/plain": [
       "    측정소명        측정일시    SO2   CO     O3    NO2  PM10  PM25                주소\n",
       "0    송파구  2021040101  0.004  1.0  0.002  0.066  50.0  18.0  서울 송파구 백제고분로 236\n",
       "1    송파구  2021040102  0.004  0.8  0.002  0.058  48.0  20.0  서울 송파구 백제고분로 236\n",
       "2    송파구  2021040103  0.004  0.8  0.002  0.055  44.0  20.0  서울 송파구 백제고분로 236\n",
       "3    송파구  2021040104  0.003  0.8  0.002  0.055  40.0  20.0  서울 송파구 백제고분로 236\n",
       "4    송파구  2021040105  0.004  0.8  0.002  0.053  38.0  17.0  서울 송파구 백제고분로 236\n",
       "..   ...         ...    ...  ...    ...    ...   ...   ...               ...\n",
       "715  송파구  2021043020  0.002  0.5  0.039  0.020  69.0  33.0  서울 송파구 백제고분로 236\n",
       "716  송파구  2021043021  0.002  0.5  0.039  0.019  76.0  34.0  서울 송파구 백제고분로 236\n",
       "717  송파구  2021043022  0.002  0.5  0.037  0.018  71.0  31.0  서울 송파구 백제고분로 236\n",
       "718  송파구  2021043023  0.002  0.5  0.040  0.016  46.0  22.0  서울 송파구 백제고분로 236\n",
       "719  송파구  2021043024  0.002  0.4  0.039  0.016  34.0  18.0  서울 송파구 백제고분로 236\n",
       "\n",
       "[720 rows x 9 columns]"
      ]
     },
     "execution_count": 424,
     "metadata": {},
     "output_type": "execute_result"
    }
   ],
   "source": [
    "dust.drop(['지역', '망', '측정소코드'], axis=1) #axis=1 ->열방향(칼럼)삭제, "
   ]
  },
  {
   "cell_type": "code",
   "execution_count": 429,
   "id": "f63cc5b0",
   "metadata": {
    "ExecuteTime": {
     "end_time": "2022-11-22T09:31:34.318065Z",
     "start_time": "2022-11-22T09:31:34.290380Z"
    }
   },
   "outputs": [
    {
     "data": {
      "text/html": [
       "<div>\n",
       "<style scoped>\n",
       "    .dataframe tbody tr th:only-of-type {\n",
       "        vertical-align: middle;\n",
       "    }\n",
       "\n",
       "    .dataframe tbody tr th {\n",
       "        vertical-align: top;\n",
       "    }\n",
       "\n",
       "    .dataframe thead th {\n",
       "        text-align: right;\n",
       "    }\n",
       "</style>\n",
       "<table border=\"1\" class=\"dataframe\">\n",
       "  <thead>\n",
       "    <tr style=\"text-align: right;\">\n",
       "      <th></th>\n",
       "      <th>지역</th>\n",
       "      <th>망</th>\n",
       "      <th>측정소코드</th>\n",
       "      <th>측정소명</th>\n",
       "      <th>측정일시</th>\n",
       "      <th>SO2</th>\n",
       "      <th>CO</th>\n",
       "      <th>O3</th>\n",
       "      <th>NO2</th>\n",
       "      <th>PM10</th>\n",
       "      <th>PM25</th>\n",
       "      <th>주소</th>\n",
       "      <th>city</th>\n",
       "    </tr>\n",
       "  </thead>\n",
       "  <tbody>\n",
       "    <tr>\n",
       "      <th>0</th>\n",
       "      <td>서울 송파구</td>\n",
       "      <td>도시대기</td>\n",
       "      <td>111273</td>\n",
       "      <td>송파구</td>\n",
       "      <td>2021040101</td>\n",
       "      <td>0.004</td>\n",
       "      <td>1.0</td>\n",
       "      <td>0.002</td>\n",
       "      <td>0.066</td>\n",
       "      <td>50.0</td>\n",
       "      <td>18.0</td>\n",
       "      <td>서울 송파구 백제고분로 236</td>\n",
       "      <td>서울</td>\n",
       "    </tr>\n",
       "    <tr>\n",
       "      <th>1</th>\n",
       "      <td>서울 송파구</td>\n",
       "      <td>도시대기</td>\n",
       "      <td>111273</td>\n",
       "      <td>송파구</td>\n",
       "      <td>2021040102</td>\n",
       "      <td>0.004</td>\n",
       "      <td>0.8</td>\n",
       "      <td>0.002</td>\n",
       "      <td>0.058</td>\n",
       "      <td>48.0</td>\n",
       "      <td>20.0</td>\n",
       "      <td>서울 송파구 백제고분로 236</td>\n",
       "      <td>서울</td>\n",
       "    </tr>\n",
       "    <tr>\n",
       "      <th>2</th>\n",
       "      <td>서울 송파구</td>\n",
       "      <td>도시대기</td>\n",
       "      <td>111273</td>\n",
       "      <td>송파구</td>\n",
       "      <td>2021040103</td>\n",
       "      <td>0.004</td>\n",
       "      <td>0.8</td>\n",
       "      <td>0.002</td>\n",
       "      <td>0.055</td>\n",
       "      <td>44.0</td>\n",
       "      <td>20.0</td>\n",
       "      <td>서울 송파구 백제고분로 236</td>\n",
       "      <td>서울</td>\n",
       "    </tr>\n",
       "    <tr>\n",
       "      <th>3</th>\n",
       "      <td>서울 송파구</td>\n",
       "      <td>도시대기</td>\n",
       "      <td>111273</td>\n",
       "      <td>송파구</td>\n",
       "      <td>2021040104</td>\n",
       "      <td>0.003</td>\n",
       "      <td>0.8</td>\n",
       "      <td>0.002</td>\n",
       "      <td>0.055</td>\n",
       "      <td>40.0</td>\n",
       "      <td>20.0</td>\n",
       "      <td>서울 송파구 백제고분로 236</td>\n",
       "      <td>서울</td>\n",
       "    </tr>\n",
       "    <tr>\n",
       "      <th>4</th>\n",
       "      <td>서울 송파구</td>\n",
       "      <td>도시대기</td>\n",
       "      <td>111273</td>\n",
       "      <td>송파구</td>\n",
       "      <td>2021040105</td>\n",
       "      <td>0.004</td>\n",
       "      <td>0.8</td>\n",
       "      <td>0.002</td>\n",
       "      <td>0.053</td>\n",
       "      <td>38.0</td>\n",
       "      <td>17.0</td>\n",
       "      <td>서울 송파구 백제고분로 236</td>\n",
       "      <td>서울</td>\n",
       "    </tr>\n",
       "    <tr>\n",
       "      <th>...</th>\n",
       "      <td>...</td>\n",
       "      <td>...</td>\n",
       "      <td>...</td>\n",
       "      <td>...</td>\n",
       "      <td>...</td>\n",
       "      <td>...</td>\n",
       "      <td>...</td>\n",
       "      <td>...</td>\n",
       "      <td>...</td>\n",
       "      <td>...</td>\n",
       "      <td>...</td>\n",
       "      <td>...</td>\n",
       "      <td>...</td>\n",
       "    </tr>\n",
       "    <tr>\n",
       "      <th>715</th>\n",
       "      <td>서울 송파구</td>\n",
       "      <td>도시대기</td>\n",
       "      <td>111273</td>\n",
       "      <td>송파구</td>\n",
       "      <td>2021043020</td>\n",
       "      <td>0.002</td>\n",
       "      <td>0.5</td>\n",
       "      <td>0.039</td>\n",
       "      <td>0.020</td>\n",
       "      <td>69.0</td>\n",
       "      <td>33.0</td>\n",
       "      <td>서울 송파구 백제고분로 236</td>\n",
       "      <td>서울</td>\n",
       "    </tr>\n",
       "    <tr>\n",
       "      <th>716</th>\n",
       "      <td>서울 송파구</td>\n",
       "      <td>도시대기</td>\n",
       "      <td>111273</td>\n",
       "      <td>송파구</td>\n",
       "      <td>2021043021</td>\n",
       "      <td>0.002</td>\n",
       "      <td>0.5</td>\n",
       "      <td>0.039</td>\n",
       "      <td>0.019</td>\n",
       "      <td>76.0</td>\n",
       "      <td>34.0</td>\n",
       "      <td>서울 송파구 백제고분로 236</td>\n",
       "      <td>서울</td>\n",
       "    </tr>\n",
       "    <tr>\n",
       "      <th>717</th>\n",
       "      <td>서울 송파구</td>\n",
       "      <td>도시대기</td>\n",
       "      <td>111273</td>\n",
       "      <td>송파구</td>\n",
       "      <td>2021043022</td>\n",
       "      <td>0.002</td>\n",
       "      <td>0.5</td>\n",
       "      <td>0.037</td>\n",
       "      <td>0.018</td>\n",
       "      <td>71.0</td>\n",
       "      <td>31.0</td>\n",
       "      <td>서울 송파구 백제고분로 236</td>\n",
       "      <td>서울</td>\n",
       "    </tr>\n",
       "    <tr>\n",
       "      <th>718</th>\n",
       "      <td>서울 송파구</td>\n",
       "      <td>도시대기</td>\n",
       "      <td>111273</td>\n",
       "      <td>송파구</td>\n",
       "      <td>2021043023</td>\n",
       "      <td>0.002</td>\n",
       "      <td>0.5</td>\n",
       "      <td>0.040</td>\n",
       "      <td>0.016</td>\n",
       "      <td>46.0</td>\n",
       "      <td>22.0</td>\n",
       "      <td>서울 송파구 백제고분로 236</td>\n",
       "      <td>서울</td>\n",
       "    </tr>\n",
       "    <tr>\n",
       "      <th>719</th>\n",
       "      <td>서울 송파구</td>\n",
       "      <td>도시대기</td>\n",
       "      <td>111273</td>\n",
       "      <td>송파구</td>\n",
       "      <td>2021043024</td>\n",
       "      <td>0.002</td>\n",
       "      <td>0.4</td>\n",
       "      <td>0.039</td>\n",
       "      <td>0.016</td>\n",
       "      <td>34.0</td>\n",
       "      <td>18.0</td>\n",
       "      <td>서울 송파구 백제고분로 236</td>\n",
       "      <td>서울</td>\n",
       "    </tr>\n",
       "  </tbody>\n",
       "</table>\n",
       "<p>720 rows × 13 columns</p>\n",
       "</div>"
      ],
      "text/plain": [
       "         지역     망   측정소코드 측정소명        측정일시    SO2   CO     O3    NO2  PM10  \\\n",
       "0    서울 송파구  도시대기  111273  송파구  2021040101  0.004  1.0  0.002  0.066  50.0   \n",
       "1    서울 송파구  도시대기  111273  송파구  2021040102  0.004  0.8  0.002  0.058  48.0   \n",
       "2    서울 송파구  도시대기  111273  송파구  2021040103  0.004  0.8  0.002  0.055  44.0   \n",
       "3    서울 송파구  도시대기  111273  송파구  2021040104  0.003  0.8  0.002  0.055  40.0   \n",
       "4    서울 송파구  도시대기  111273  송파구  2021040105  0.004  0.8  0.002  0.053  38.0   \n",
       "..      ...   ...     ...  ...         ...    ...  ...    ...    ...   ...   \n",
       "715  서울 송파구  도시대기  111273  송파구  2021043020  0.002  0.5  0.039  0.020  69.0   \n",
       "716  서울 송파구  도시대기  111273  송파구  2021043021  0.002  0.5  0.039  0.019  76.0   \n",
       "717  서울 송파구  도시대기  111273  송파구  2021043022  0.002  0.5  0.037  0.018  71.0   \n",
       "718  서울 송파구  도시대기  111273  송파구  2021043023  0.002  0.5  0.040  0.016  46.0   \n",
       "719  서울 송파구  도시대기  111273  송파구  2021043024  0.002  0.4  0.039  0.016  34.0   \n",
       "\n",
       "     PM25                주소 city  \n",
       "0    18.0  서울 송파구 백제고분로 236   서울  \n",
       "1    20.0  서울 송파구 백제고분로 236   서울  \n",
       "2    20.0  서울 송파구 백제고분로 236   서울  \n",
       "3    20.0  서울 송파구 백제고분로 236   서울  \n",
       "4    17.0  서울 송파구 백제고분로 236   서울  \n",
       "..    ...               ...  ...  \n",
       "715  33.0  서울 송파구 백제고분로 236   서울  \n",
       "716  34.0  서울 송파구 백제고분로 236   서울  \n",
       "717  31.0  서울 송파구 백제고분로 236   서울  \n",
       "718  22.0  서울 송파구 백제고분로 236   서울  \n",
       "719  18.0  서울 송파구 백제고분로 236   서울  \n",
       "\n",
       "[720 rows x 13 columns]"
      ]
     },
     "execution_count": 429,
     "metadata": {},
     "output_type": "execute_result"
    }
   ],
   "source": [
    "dust"
   ]
  },
  {
   "cell_type": "markdown",
   "id": "040978ba",
   "metadata": {
    "ExecuteTime": {
     "end_time": "2022-11-22T09:31:40.800017Z",
     "start_time": "2022-11-22T09:31:40.797180Z"
    }
   },
   "source": [
    "### 칼럼생성"
   ]
  },
  {
   "cell_type": "code",
   "execution_count": 431,
   "id": "567f85d6",
   "metadata": {
    "ExecuteTime": {
     "end_time": "2022-11-22T09:31:48.664460Z",
     "start_time": "2022-11-22T09:31:48.635674Z"
    }
   },
   "outputs": [
    {
     "data": {
      "text/html": [
       "<div>\n",
       "<style scoped>\n",
       "    .dataframe tbody tr th:only-of-type {\n",
       "        vertical-align: middle;\n",
       "    }\n",
       "\n",
       "    .dataframe tbody tr th {\n",
       "        vertical-align: top;\n",
       "    }\n",
       "\n",
       "    .dataframe thead th {\n",
       "        text-align: right;\n",
       "    }\n",
       "</style>\n",
       "<table border=\"1\" class=\"dataframe\">\n",
       "  <thead>\n",
       "    <tr style=\"text-align: right;\">\n",
       "      <th></th>\n",
       "      <th>지역</th>\n",
       "      <th>망</th>\n",
       "      <th>측정소코드</th>\n",
       "      <th>측정소명</th>\n",
       "      <th>측정일시</th>\n",
       "      <th>SO2</th>\n",
       "      <th>CO</th>\n",
       "      <th>O3</th>\n",
       "      <th>NO2</th>\n",
       "      <th>PM10</th>\n",
       "      <th>PM25</th>\n",
       "      <th>주소</th>\n",
       "      <th>city</th>\n",
       "    </tr>\n",
       "  </thead>\n",
       "  <tbody>\n",
       "    <tr>\n",
       "      <th>0</th>\n",
       "      <td>서울 송파구</td>\n",
       "      <td>도시대기</td>\n",
       "      <td>111273</td>\n",
       "      <td>송파구</td>\n",
       "      <td>2021040101</td>\n",
       "      <td>0.004</td>\n",
       "      <td>1.0</td>\n",
       "      <td>0.002</td>\n",
       "      <td>0.066</td>\n",
       "      <td>50.0</td>\n",
       "      <td>18.0</td>\n",
       "      <td>서울 송파구 백제고분로 236</td>\n",
       "      <td>서울</td>\n",
       "    </tr>\n",
       "    <tr>\n",
       "      <th>1</th>\n",
       "      <td>서울 송파구</td>\n",
       "      <td>도시대기</td>\n",
       "      <td>111273</td>\n",
       "      <td>송파구</td>\n",
       "      <td>2021040102</td>\n",
       "      <td>0.004</td>\n",
       "      <td>0.8</td>\n",
       "      <td>0.002</td>\n",
       "      <td>0.058</td>\n",
       "      <td>48.0</td>\n",
       "      <td>20.0</td>\n",
       "      <td>서울 송파구 백제고분로 236</td>\n",
       "      <td>서울</td>\n",
       "    </tr>\n",
       "    <tr>\n",
       "      <th>2</th>\n",
       "      <td>서울 송파구</td>\n",
       "      <td>도시대기</td>\n",
       "      <td>111273</td>\n",
       "      <td>송파구</td>\n",
       "      <td>2021040103</td>\n",
       "      <td>0.004</td>\n",
       "      <td>0.8</td>\n",
       "      <td>0.002</td>\n",
       "      <td>0.055</td>\n",
       "      <td>44.0</td>\n",
       "      <td>20.0</td>\n",
       "      <td>서울 송파구 백제고분로 236</td>\n",
       "      <td>서울</td>\n",
       "    </tr>\n",
       "    <tr>\n",
       "      <th>3</th>\n",
       "      <td>서울 송파구</td>\n",
       "      <td>도시대기</td>\n",
       "      <td>111273</td>\n",
       "      <td>송파구</td>\n",
       "      <td>2021040104</td>\n",
       "      <td>0.003</td>\n",
       "      <td>0.8</td>\n",
       "      <td>0.002</td>\n",
       "      <td>0.055</td>\n",
       "      <td>40.0</td>\n",
       "      <td>20.0</td>\n",
       "      <td>서울 송파구 백제고분로 236</td>\n",
       "      <td>서울</td>\n",
       "    </tr>\n",
       "    <tr>\n",
       "      <th>4</th>\n",
       "      <td>서울 송파구</td>\n",
       "      <td>도시대기</td>\n",
       "      <td>111273</td>\n",
       "      <td>송파구</td>\n",
       "      <td>2021040105</td>\n",
       "      <td>0.004</td>\n",
       "      <td>0.8</td>\n",
       "      <td>0.002</td>\n",
       "      <td>0.053</td>\n",
       "      <td>38.0</td>\n",
       "      <td>17.0</td>\n",
       "      <td>서울 송파구 백제고분로 236</td>\n",
       "      <td>서울</td>\n",
       "    </tr>\n",
       "    <tr>\n",
       "      <th>...</th>\n",
       "      <td>...</td>\n",
       "      <td>...</td>\n",
       "      <td>...</td>\n",
       "      <td>...</td>\n",
       "      <td>...</td>\n",
       "      <td>...</td>\n",
       "      <td>...</td>\n",
       "      <td>...</td>\n",
       "      <td>...</td>\n",
       "      <td>...</td>\n",
       "      <td>...</td>\n",
       "      <td>...</td>\n",
       "      <td>...</td>\n",
       "    </tr>\n",
       "    <tr>\n",
       "      <th>715</th>\n",
       "      <td>서울 송파구</td>\n",
       "      <td>도시대기</td>\n",
       "      <td>111273</td>\n",
       "      <td>송파구</td>\n",
       "      <td>2021043020</td>\n",
       "      <td>0.002</td>\n",
       "      <td>0.5</td>\n",
       "      <td>0.039</td>\n",
       "      <td>0.020</td>\n",
       "      <td>69.0</td>\n",
       "      <td>33.0</td>\n",
       "      <td>서울 송파구 백제고분로 236</td>\n",
       "      <td>서울</td>\n",
       "    </tr>\n",
       "    <tr>\n",
       "      <th>716</th>\n",
       "      <td>서울 송파구</td>\n",
       "      <td>도시대기</td>\n",
       "      <td>111273</td>\n",
       "      <td>송파구</td>\n",
       "      <td>2021043021</td>\n",
       "      <td>0.002</td>\n",
       "      <td>0.5</td>\n",
       "      <td>0.039</td>\n",
       "      <td>0.019</td>\n",
       "      <td>76.0</td>\n",
       "      <td>34.0</td>\n",
       "      <td>서울 송파구 백제고분로 236</td>\n",
       "      <td>서울</td>\n",
       "    </tr>\n",
       "    <tr>\n",
       "      <th>717</th>\n",
       "      <td>서울 송파구</td>\n",
       "      <td>도시대기</td>\n",
       "      <td>111273</td>\n",
       "      <td>송파구</td>\n",
       "      <td>2021043022</td>\n",
       "      <td>0.002</td>\n",
       "      <td>0.5</td>\n",
       "      <td>0.037</td>\n",
       "      <td>0.018</td>\n",
       "      <td>71.0</td>\n",
       "      <td>31.0</td>\n",
       "      <td>서울 송파구 백제고분로 236</td>\n",
       "      <td>서울</td>\n",
       "    </tr>\n",
       "    <tr>\n",
       "      <th>718</th>\n",
       "      <td>서울 송파구</td>\n",
       "      <td>도시대기</td>\n",
       "      <td>111273</td>\n",
       "      <td>송파구</td>\n",
       "      <td>2021043023</td>\n",
       "      <td>0.002</td>\n",
       "      <td>0.5</td>\n",
       "      <td>0.040</td>\n",
       "      <td>0.016</td>\n",
       "      <td>46.0</td>\n",
       "      <td>22.0</td>\n",
       "      <td>서울 송파구 백제고분로 236</td>\n",
       "      <td>서울</td>\n",
       "    </tr>\n",
       "    <tr>\n",
       "      <th>719</th>\n",
       "      <td>서울 송파구</td>\n",
       "      <td>도시대기</td>\n",
       "      <td>111273</td>\n",
       "      <td>송파구</td>\n",
       "      <td>2021043024</td>\n",
       "      <td>0.002</td>\n",
       "      <td>0.4</td>\n",
       "      <td>0.039</td>\n",
       "      <td>0.016</td>\n",
       "      <td>34.0</td>\n",
       "      <td>18.0</td>\n",
       "      <td>서울 송파구 백제고분로 236</td>\n",
       "      <td>서울</td>\n",
       "    </tr>\n",
       "  </tbody>\n",
       "</table>\n",
       "<p>720 rows × 13 columns</p>\n",
       "</div>"
      ],
      "text/plain": [
       "         지역     망   측정소코드 측정소명        측정일시    SO2   CO     O3    NO2  PM10  \\\n",
       "0    서울 송파구  도시대기  111273  송파구  2021040101  0.004  1.0  0.002  0.066  50.0   \n",
       "1    서울 송파구  도시대기  111273  송파구  2021040102  0.004  0.8  0.002  0.058  48.0   \n",
       "2    서울 송파구  도시대기  111273  송파구  2021040103  0.004  0.8  0.002  0.055  44.0   \n",
       "3    서울 송파구  도시대기  111273  송파구  2021040104  0.003  0.8  0.002  0.055  40.0   \n",
       "4    서울 송파구  도시대기  111273  송파구  2021040105  0.004  0.8  0.002  0.053  38.0   \n",
       "..      ...   ...     ...  ...         ...    ...  ...    ...    ...   ...   \n",
       "715  서울 송파구  도시대기  111273  송파구  2021043020  0.002  0.5  0.039  0.020  69.0   \n",
       "716  서울 송파구  도시대기  111273  송파구  2021043021  0.002  0.5  0.039  0.019  76.0   \n",
       "717  서울 송파구  도시대기  111273  송파구  2021043022  0.002  0.5  0.037  0.018  71.0   \n",
       "718  서울 송파구  도시대기  111273  송파구  2021043023  0.002  0.5  0.040  0.016  46.0   \n",
       "719  서울 송파구  도시대기  111273  송파구  2021043024  0.002  0.4  0.039  0.016  34.0   \n",
       "\n",
       "     PM25                주소 city  \n",
       "0    18.0  서울 송파구 백제고분로 236   서울  \n",
       "1    20.0  서울 송파구 백제고분로 236   서울  \n",
       "2    20.0  서울 송파구 백제고분로 236   서울  \n",
       "3    20.0  서울 송파구 백제고분로 236   서울  \n",
       "4    17.0  서울 송파구 백제고분로 236   서울  \n",
       "..    ...               ...  ...  \n",
       "715  33.0  서울 송파구 백제고분로 236   서울  \n",
       "716  34.0  서울 송파구 백제고분로 236   서울  \n",
       "717  31.0  서울 송파구 백제고분로 236   서울  \n",
       "718  22.0  서울 송파구 백제고분로 236   서울  \n",
       "719  18.0  서울 송파구 백제고분로 236   서울  \n",
       "\n",
       "[720 rows x 13 columns]"
      ]
     },
     "execution_count": 431,
     "metadata": {},
     "output_type": "execute_result"
    }
   ],
   "source": [
    "dust['city'] = '서울'\n",
    "dust"
   ]
  },
  {
   "cell_type": "markdown",
   "id": "8d4a8c97",
   "metadata": {
    "ExecuteTime": {
     "end_time": "2022-11-22T09:14:05.946127Z",
     "start_time": "2022-11-22T09:14:05.942941Z"
    }
   },
   "source": [
    "### 칼럼 이름 변경"
   ]
  },
  {
   "cell_type": "code",
   "execution_count": 433,
   "id": "d4944464",
   "metadata": {
    "ExecuteTime": {
     "end_time": "2022-11-22T09:32:57.826067Z",
     "start_time": "2022-11-22T09:32:57.799276Z"
    }
   },
   "outputs": [
    {
     "data": {
      "text/html": [
       "<div>\n",
       "<style scoped>\n",
       "    .dataframe tbody tr th:only-of-type {\n",
       "        vertical-align: middle;\n",
       "    }\n",
       "\n",
       "    .dataframe tbody tr th {\n",
       "        vertical-align: top;\n",
       "    }\n",
       "\n",
       "    .dataframe thead th {\n",
       "        text-align: right;\n",
       "    }\n",
       "</style>\n",
       "<table border=\"1\" class=\"dataframe\">\n",
       "  <thead>\n",
       "    <tr style=\"text-align: right;\">\n",
       "      <th></th>\n",
       "      <th>지역</th>\n",
       "      <th>망</th>\n",
       "      <th>측정소코드</th>\n",
       "      <th>name</th>\n",
       "      <th>date</th>\n",
       "      <th>SO2</th>\n",
       "      <th>CO</th>\n",
       "      <th>O3</th>\n",
       "      <th>NO2</th>\n",
       "      <th>PM10</th>\n",
       "      <th>PM25</th>\n",
       "      <th>addr</th>\n",
       "      <th>city</th>\n",
       "    </tr>\n",
       "  </thead>\n",
       "  <tbody>\n",
       "    <tr>\n",
       "      <th>0</th>\n",
       "      <td>서울 송파구</td>\n",
       "      <td>도시대기</td>\n",
       "      <td>111273</td>\n",
       "      <td>송파구</td>\n",
       "      <td>2021040101</td>\n",
       "      <td>0.004</td>\n",
       "      <td>1.0</td>\n",
       "      <td>0.002</td>\n",
       "      <td>0.066</td>\n",
       "      <td>50.0</td>\n",
       "      <td>18.0</td>\n",
       "      <td>서울 송파구 백제고분로 236</td>\n",
       "      <td>서울</td>\n",
       "    </tr>\n",
       "    <tr>\n",
       "      <th>1</th>\n",
       "      <td>서울 송파구</td>\n",
       "      <td>도시대기</td>\n",
       "      <td>111273</td>\n",
       "      <td>송파구</td>\n",
       "      <td>2021040102</td>\n",
       "      <td>0.004</td>\n",
       "      <td>0.8</td>\n",
       "      <td>0.002</td>\n",
       "      <td>0.058</td>\n",
       "      <td>48.0</td>\n",
       "      <td>20.0</td>\n",
       "      <td>서울 송파구 백제고분로 236</td>\n",
       "      <td>서울</td>\n",
       "    </tr>\n",
       "    <tr>\n",
       "      <th>2</th>\n",
       "      <td>서울 송파구</td>\n",
       "      <td>도시대기</td>\n",
       "      <td>111273</td>\n",
       "      <td>송파구</td>\n",
       "      <td>2021040103</td>\n",
       "      <td>0.004</td>\n",
       "      <td>0.8</td>\n",
       "      <td>0.002</td>\n",
       "      <td>0.055</td>\n",
       "      <td>44.0</td>\n",
       "      <td>20.0</td>\n",
       "      <td>서울 송파구 백제고분로 236</td>\n",
       "      <td>서울</td>\n",
       "    </tr>\n",
       "    <tr>\n",
       "      <th>3</th>\n",
       "      <td>서울 송파구</td>\n",
       "      <td>도시대기</td>\n",
       "      <td>111273</td>\n",
       "      <td>송파구</td>\n",
       "      <td>2021040104</td>\n",
       "      <td>0.003</td>\n",
       "      <td>0.8</td>\n",
       "      <td>0.002</td>\n",
       "      <td>0.055</td>\n",
       "      <td>40.0</td>\n",
       "      <td>20.0</td>\n",
       "      <td>서울 송파구 백제고분로 236</td>\n",
       "      <td>서울</td>\n",
       "    </tr>\n",
       "    <tr>\n",
       "      <th>4</th>\n",
       "      <td>서울 송파구</td>\n",
       "      <td>도시대기</td>\n",
       "      <td>111273</td>\n",
       "      <td>송파구</td>\n",
       "      <td>2021040105</td>\n",
       "      <td>0.004</td>\n",
       "      <td>0.8</td>\n",
       "      <td>0.002</td>\n",
       "      <td>0.053</td>\n",
       "      <td>38.0</td>\n",
       "      <td>17.0</td>\n",
       "      <td>서울 송파구 백제고분로 236</td>\n",
       "      <td>서울</td>\n",
       "    </tr>\n",
       "    <tr>\n",
       "      <th>...</th>\n",
       "      <td>...</td>\n",
       "      <td>...</td>\n",
       "      <td>...</td>\n",
       "      <td>...</td>\n",
       "      <td>...</td>\n",
       "      <td>...</td>\n",
       "      <td>...</td>\n",
       "      <td>...</td>\n",
       "      <td>...</td>\n",
       "      <td>...</td>\n",
       "      <td>...</td>\n",
       "      <td>...</td>\n",
       "      <td>...</td>\n",
       "    </tr>\n",
       "    <tr>\n",
       "      <th>715</th>\n",
       "      <td>서울 송파구</td>\n",
       "      <td>도시대기</td>\n",
       "      <td>111273</td>\n",
       "      <td>송파구</td>\n",
       "      <td>2021043020</td>\n",
       "      <td>0.002</td>\n",
       "      <td>0.5</td>\n",
       "      <td>0.039</td>\n",
       "      <td>0.020</td>\n",
       "      <td>69.0</td>\n",
       "      <td>33.0</td>\n",
       "      <td>서울 송파구 백제고분로 236</td>\n",
       "      <td>서울</td>\n",
       "    </tr>\n",
       "    <tr>\n",
       "      <th>716</th>\n",
       "      <td>서울 송파구</td>\n",
       "      <td>도시대기</td>\n",
       "      <td>111273</td>\n",
       "      <td>송파구</td>\n",
       "      <td>2021043021</td>\n",
       "      <td>0.002</td>\n",
       "      <td>0.5</td>\n",
       "      <td>0.039</td>\n",
       "      <td>0.019</td>\n",
       "      <td>76.0</td>\n",
       "      <td>34.0</td>\n",
       "      <td>서울 송파구 백제고분로 236</td>\n",
       "      <td>서울</td>\n",
       "    </tr>\n",
       "    <tr>\n",
       "      <th>717</th>\n",
       "      <td>서울 송파구</td>\n",
       "      <td>도시대기</td>\n",
       "      <td>111273</td>\n",
       "      <td>송파구</td>\n",
       "      <td>2021043022</td>\n",
       "      <td>0.002</td>\n",
       "      <td>0.5</td>\n",
       "      <td>0.037</td>\n",
       "      <td>0.018</td>\n",
       "      <td>71.0</td>\n",
       "      <td>31.0</td>\n",
       "      <td>서울 송파구 백제고분로 236</td>\n",
       "      <td>서울</td>\n",
       "    </tr>\n",
       "    <tr>\n",
       "      <th>718</th>\n",
       "      <td>서울 송파구</td>\n",
       "      <td>도시대기</td>\n",
       "      <td>111273</td>\n",
       "      <td>송파구</td>\n",
       "      <td>2021043023</td>\n",
       "      <td>0.002</td>\n",
       "      <td>0.5</td>\n",
       "      <td>0.040</td>\n",
       "      <td>0.016</td>\n",
       "      <td>46.0</td>\n",
       "      <td>22.0</td>\n",
       "      <td>서울 송파구 백제고분로 236</td>\n",
       "      <td>서울</td>\n",
       "    </tr>\n",
       "    <tr>\n",
       "      <th>719</th>\n",
       "      <td>서울 송파구</td>\n",
       "      <td>도시대기</td>\n",
       "      <td>111273</td>\n",
       "      <td>송파구</td>\n",
       "      <td>2021043024</td>\n",
       "      <td>0.002</td>\n",
       "      <td>0.4</td>\n",
       "      <td>0.039</td>\n",
       "      <td>0.016</td>\n",
       "      <td>34.0</td>\n",
       "      <td>18.0</td>\n",
       "      <td>서울 송파구 백제고분로 236</td>\n",
       "      <td>서울</td>\n",
       "    </tr>\n",
       "  </tbody>\n",
       "</table>\n",
       "<p>720 rows × 13 columns</p>\n",
       "</div>"
      ],
      "text/plain": [
       "         지역     망   측정소코드 name        date    SO2   CO     O3    NO2  PM10  \\\n",
       "0    서울 송파구  도시대기  111273  송파구  2021040101  0.004  1.0  0.002  0.066  50.0   \n",
       "1    서울 송파구  도시대기  111273  송파구  2021040102  0.004  0.8  0.002  0.058  48.0   \n",
       "2    서울 송파구  도시대기  111273  송파구  2021040103  0.004  0.8  0.002  0.055  44.0   \n",
       "3    서울 송파구  도시대기  111273  송파구  2021040104  0.003  0.8  0.002  0.055  40.0   \n",
       "4    서울 송파구  도시대기  111273  송파구  2021040105  0.004  0.8  0.002  0.053  38.0   \n",
       "..      ...   ...     ...  ...         ...    ...  ...    ...    ...   ...   \n",
       "715  서울 송파구  도시대기  111273  송파구  2021043020  0.002  0.5  0.039  0.020  69.0   \n",
       "716  서울 송파구  도시대기  111273  송파구  2021043021  0.002  0.5  0.039  0.019  76.0   \n",
       "717  서울 송파구  도시대기  111273  송파구  2021043022  0.002  0.5  0.037  0.018  71.0   \n",
       "718  서울 송파구  도시대기  111273  송파구  2021043023  0.002  0.5  0.040  0.016  46.0   \n",
       "719  서울 송파구  도시대기  111273  송파구  2021043024  0.002  0.4  0.039  0.016  34.0   \n",
       "\n",
       "     PM25              addr city  \n",
       "0    18.0  서울 송파구 백제고분로 236   서울  \n",
       "1    20.0  서울 송파구 백제고분로 236   서울  \n",
       "2    20.0  서울 송파구 백제고분로 236   서울  \n",
       "3    20.0  서울 송파구 백제고분로 236   서울  \n",
       "4    17.0  서울 송파구 백제고분로 236   서울  \n",
       "..    ...               ...  ...  \n",
       "715  33.0  서울 송파구 백제고분로 236   서울  \n",
       "716  34.0  서울 송파구 백제고분로 236   서울  \n",
       "717  31.0  서울 송파구 백제고분로 236   서울  \n",
       "718  22.0  서울 송파구 백제고분로 236   서울  \n",
       "719  18.0  서울 송파구 백제고분로 236   서울  \n",
       "\n",
       "[720 rows x 13 columns]"
      ]
     },
     "execution_count": 433,
     "metadata": {},
     "output_type": "execute_result"
    }
   ],
   "source": [
    "dust.rename(columns={'측정소명' : 'name',\n",
    "                  '측정일시' : 'date',\n",
    "                  '주소' : 'addr'}, inplace=True)\n",
    "dust"
   ]
  },
  {
   "cell_type": "markdown",
   "id": "5b10837e",
   "metadata": {
    "ExecuteTime": {
     "end_time": "2022-11-22T09:14:10.786452Z",
     "start_time": "2022-11-22T09:14:10.782135Z"
    }
   },
   "source": [
    "### 데이터형변환"
   ]
  },
  {
   "cell_type": "code",
   "execution_count": 437,
   "id": "4e4bc4bb",
   "metadata": {
    "ExecuteTime": {
     "end_time": "2022-11-22T09:33:31.672333Z",
     "start_time": "2022-11-22T09:33:31.663789Z"
    }
   },
   "outputs": [
    {
     "data": {
      "text/plain": [
       "지역        object\n",
       "망         object\n",
       "측정소코드      int64\n",
       "name      object\n",
       "date       int64\n",
       "SO2      float64\n",
       "CO       float64\n",
       "O3       float64\n",
       "NO2      float64\n",
       "PM10     float64\n",
       "PM25     float64\n",
       "addr      object\n",
       "city      object\n",
       "dtype: object"
      ]
     },
     "execution_count": 437,
     "metadata": {},
     "output_type": "execute_result"
    }
   ],
   "source": [
    "dust.dtypes #df타입확인"
   ]
  },
  {
   "cell_type": "code",
   "execution_count": 442,
   "id": "ff72076c",
   "metadata": {
    "ExecuteTime": {
     "end_time": "2022-11-22T09:35:36.629349Z",
     "start_time": "2022-11-22T09:35:36.620606Z"
    }
   },
   "outputs": [
    {
     "data": {
      "text/plain": [
       "지역        object\n",
       "망         object\n",
       "측정소코드      int64\n",
       "name      object\n",
       "date      object\n",
       "SO2      float64\n",
       "CO       float64\n",
       "O3       float64\n",
       "NO2      float64\n",
       "PM10     float64\n",
       "PM25     float64\n",
       "addr      object\n",
       "city      object\n",
       "dtype: object"
      ]
     },
     "execution_count": 442,
     "metadata": {},
     "output_type": "execute_result"
    }
   ],
   "source": [
    "#date를 str로 바꾸기\n",
    "dust['date'] = dust['date'].astype(str)\n",
    "dust.dtypes"
   ]
  },
  {
   "cell_type": "code",
   "execution_count": 443,
   "id": "5e540223",
   "metadata": {
    "ExecuteTime": {
     "end_time": "2022-11-22T09:36:13.448229Z",
     "start_time": "2022-11-22T09:36:13.419505Z"
    }
   },
   "outputs": [
    {
     "data": {
      "text/html": [
       "<div>\n",
       "<style scoped>\n",
       "    .dataframe tbody tr th:only-of-type {\n",
       "        vertical-align: middle;\n",
       "    }\n",
       "\n",
       "    .dataframe tbody tr th {\n",
       "        vertical-align: top;\n",
       "    }\n",
       "\n",
       "    .dataframe thead th {\n",
       "        text-align: right;\n",
       "    }\n",
       "</style>\n",
       "<table border=\"1\" class=\"dataframe\">\n",
       "  <thead>\n",
       "    <tr style=\"text-align: right;\">\n",
       "      <th></th>\n",
       "      <th>지역</th>\n",
       "      <th>망</th>\n",
       "      <th>측정소코드</th>\n",
       "      <th>name</th>\n",
       "      <th>date</th>\n",
       "      <th>SO2</th>\n",
       "      <th>CO</th>\n",
       "      <th>O3</th>\n",
       "      <th>NO2</th>\n",
       "      <th>PM10</th>\n",
       "      <th>PM25</th>\n",
       "      <th>addr</th>\n",
       "      <th>city</th>\n",
       "    </tr>\n",
       "  </thead>\n",
       "  <tbody>\n",
       "    <tr>\n",
       "      <th>0</th>\n",
       "      <td>서울 송파구</td>\n",
       "      <td>도시대기</td>\n",
       "      <td>111273</td>\n",
       "      <td>송파구</td>\n",
       "      <td>20210401</td>\n",
       "      <td>0.004</td>\n",
       "      <td>1.0</td>\n",
       "      <td>0.002</td>\n",
       "      <td>0.066</td>\n",
       "      <td>50.0</td>\n",
       "      <td>18.0</td>\n",
       "      <td>서울 송파구 백제고분로 236</td>\n",
       "      <td>서울</td>\n",
       "    </tr>\n",
       "    <tr>\n",
       "      <th>1</th>\n",
       "      <td>서울 송파구</td>\n",
       "      <td>도시대기</td>\n",
       "      <td>111273</td>\n",
       "      <td>송파구</td>\n",
       "      <td>20210401</td>\n",
       "      <td>0.004</td>\n",
       "      <td>0.8</td>\n",
       "      <td>0.002</td>\n",
       "      <td>0.058</td>\n",
       "      <td>48.0</td>\n",
       "      <td>20.0</td>\n",
       "      <td>서울 송파구 백제고분로 236</td>\n",
       "      <td>서울</td>\n",
       "    </tr>\n",
       "    <tr>\n",
       "      <th>2</th>\n",
       "      <td>서울 송파구</td>\n",
       "      <td>도시대기</td>\n",
       "      <td>111273</td>\n",
       "      <td>송파구</td>\n",
       "      <td>20210401</td>\n",
       "      <td>0.004</td>\n",
       "      <td>0.8</td>\n",
       "      <td>0.002</td>\n",
       "      <td>0.055</td>\n",
       "      <td>44.0</td>\n",
       "      <td>20.0</td>\n",
       "      <td>서울 송파구 백제고분로 236</td>\n",
       "      <td>서울</td>\n",
       "    </tr>\n",
       "    <tr>\n",
       "      <th>3</th>\n",
       "      <td>서울 송파구</td>\n",
       "      <td>도시대기</td>\n",
       "      <td>111273</td>\n",
       "      <td>송파구</td>\n",
       "      <td>20210401</td>\n",
       "      <td>0.003</td>\n",
       "      <td>0.8</td>\n",
       "      <td>0.002</td>\n",
       "      <td>0.055</td>\n",
       "      <td>40.0</td>\n",
       "      <td>20.0</td>\n",
       "      <td>서울 송파구 백제고분로 236</td>\n",
       "      <td>서울</td>\n",
       "    </tr>\n",
       "    <tr>\n",
       "      <th>4</th>\n",
       "      <td>서울 송파구</td>\n",
       "      <td>도시대기</td>\n",
       "      <td>111273</td>\n",
       "      <td>송파구</td>\n",
       "      <td>20210401</td>\n",
       "      <td>0.004</td>\n",
       "      <td>0.8</td>\n",
       "      <td>0.002</td>\n",
       "      <td>0.053</td>\n",
       "      <td>38.0</td>\n",
       "      <td>17.0</td>\n",
       "      <td>서울 송파구 백제고분로 236</td>\n",
       "      <td>서울</td>\n",
       "    </tr>\n",
       "    <tr>\n",
       "      <th>...</th>\n",
       "      <td>...</td>\n",
       "      <td>...</td>\n",
       "      <td>...</td>\n",
       "      <td>...</td>\n",
       "      <td>...</td>\n",
       "      <td>...</td>\n",
       "      <td>...</td>\n",
       "      <td>...</td>\n",
       "      <td>...</td>\n",
       "      <td>...</td>\n",
       "      <td>...</td>\n",
       "      <td>...</td>\n",
       "      <td>...</td>\n",
       "    </tr>\n",
       "    <tr>\n",
       "      <th>715</th>\n",
       "      <td>서울 송파구</td>\n",
       "      <td>도시대기</td>\n",
       "      <td>111273</td>\n",
       "      <td>송파구</td>\n",
       "      <td>20210430</td>\n",
       "      <td>0.002</td>\n",
       "      <td>0.5</td>\n",
       "      <td>0.039</td>\n",
       "      <td>0.020</td>\n",
       "      <td>69.0</td>\n",
       "      <td>33.0</td>\n",
       "      <td>서울 송파구 백제고분로 236</td>\n",
       "      <td>서울</td>\n",
       "    </tr>\n",
       "    <tr>\n",
       "      <th>716</th>\n",
       "      <td>서울 송파구</td>\n",
       "      <td>도시대기</td>\n",
       "      <td>111273</td>\n",
       "      <td>송파구</td>\n",
       "      <td>20210430</td>\n",
       "      <td>0.002</td>\n",
       "      <td>0.5</td>\n",
       "      <td>0.039</td>\n",
       "      <td>0.019</td>\n",
       "      <td>76.0</td>\n",
       "      <td>34.0</td>\n",
       "      <td>서울 송파구 백제고분로 236</td>\n",
       "      <td>서울</td>\n",
       "    </tr>\n",
       "    <tr>\n",
       "      <th>717</th>\n",
       "      <td>서울 송파구</td>\n",
       "      <td>도시대기</td>\n",
       "      <td>111273</td>\n",
       "      <td>송파구</td>\n",
       "      <td>20210430</td>\n",
       "      <td>0.002</td>\n",
       "      <td>0.5</td>\n",
       "      <td>0.037</td>\n",
       "      <td>0.018</td>\n",
       "      <td>71.0</td>\n",
       "      <td>31.0</td>\n",
       "      <td>서울 송파구 백제고분로 236</td>\n",
       "      <td>서울</td>\n",
       "    </tr>\n",
       "    <tr>\n",
       "      <th>718</th>\n",
       "      <td>서울 송파구</td>\n",
       "      <td>도시대기</td>\n",
       "      <td>111273</td>\n",
       "      <td>송파구</td>\n",
       "      <td>20210430</td>\n",
       "      <td>0.002</td>\n",
       "      <td>0.5</td>\n",
       "      <td>0.040</td>\n",
       "      <td>0.016</td>\n",
       "      <td>46.0</td>\n",
       "      <td>22.0</td>\n",
       "      <td>서울 송파구 백제고분로 236</td>\n",
       "      <td>서울</td>\n",
       "    </tr>\n",
       "    <tr>\n",
       "      <th>719</th>\n",
       "      <td>서울 송파구</td>\n",
       "      <td>도시대기</td>\n",
       "      <td>111273</td>\n",
       "      <td>송파구</td>\n",
       "      <td>20210430</td>\n",
       "      <td>0.002</td>\n",
       "      <td>0.4</td>\n",
       "      <td>0.039</td>\n",
       "      <td>0.016</td>\n",
       "      <td>34.0</td>\n",
       "      <td>18.0</td>\n",
       "      <td>서울 송파구 백제고분로 236</td>\n",
       "      <td>서울</td>\n",
       "    </tr>\n",
       "  </tbody>\n",
       "</table>\n",
       "<p>720 rows × 13 columns</p>\n",
       "</div>"
      ],
      "text/plain": [
       "         지역     망   측정소코드 name      date    SO2   CO     O3    NO2  PM10  \\\n",
       "0    서울 송파구  도시대기  111273  송파구  20210401  0.004  1.0  0.002  0.066  50.0   \n",
       "1    서울 송파구  도시대기  111273  송파구  20210401  0.004  0.8  0.002  0.058  48.0   \n",
       "2    서울 송파구  도시대기  111273  송파구  20210401  0.004  0.8  0.002  0.055  44.0   \n",
       "3    서울 송파구  도시대기  111273  송파구  20210401  0.003  0.8  0.002  0.055  40.0   \n",
       "4    서울 송파구  도시대기  111273  송파구  20210401  0.004  0.8  0.002  0.053  38.0   \n",
       "..      ...   ...     ...  ...       ...    ...  ...    ...    ...   ...   \n",
       "715  서울 송파구  도시대기  111273  송파구  20210430  0.002  0.5  0.039  0.020  69.0   \n",
       "716  서울 송파구  도시대기  111273  송파구  20210430  0.002  0.5  0.039  0.019  76.0   \n",
       "717  서울 송파구  도시대기  111273  송파구  20210430  0.002  0.5  0.037  0.018  71.0   \n",
       "718  서울 송파구  도시대기  111273  송파구  20210430  0.002  0.5  0.040  0.016  46.0   \n",
       "719  서울 송파구  도시대기  111273  송파구  20210430  0.002  0.4  0.039  0.016  34.0   \n",
       "\n",
       "     PM25              addr city  \n",
       "0    18.0  서울 송파구 백제고분로 236   서울  \n",
       "1    20.0  서울 송파구 백제고분로 236   서울  \n",
       "2    20.0  서울 송파구 백제고분로 236   서울  \n",
       "3    20.0  서울 송파구 백제고분로 236   서울  \n",
       "4    17.0  서울 송파구 백제고분로 236   서울  \n",
       "..    ...               ...  ...  \n",
       "715  33.0  서울 송파구 백제고분로 236   서울  \n",
       "716  34.0  서울 송파구 백제고분로 236   서울  \n",
       "717  31.0  서울 송파구 백제고분로 236   서울  \n",
       "718  22.0  서울 송파구 백제고분로 236   서울  \n",
       "719  18.0  서울 송파구 백제고분로 236   서울  \n",
       "\n",
       "[720 rows x 13 columns]"
      ]
     },
     "execution_count": 443,
     "metadata": {},
     "output_type": "execute_result"
    }
   ],
   "source": [
    "#값을 삭제하기\n",
    "dust['date'] = dust['date'].str.slice(0, 8) #date에서 날짜만 남게 슬라이싱\n",
    "dust"
   ]
  },
  {
   "cell_type": "code",
   "execution_count": 446,
   "id": "042a3808",
   "metadata": {
    "ExecuteTime": {
     "end_time": "2022-11-22T09:37:16.702841Z",
     "start_time": "2022-11-22T09:37:16.671895Z"
    }
   },
   "outputs": [
    {
     "data": {
      "text/html": [
       "<div>\n",
       "<style scoped>\n",
       "    .dataframe tbody tr th:only-of-type {\n",
       "        vertical-align: middle;\n",
       "    }\n",
       "\n",
       "    .dataframe tbody tr th {\n",
       "        vertical-align: top;\n",
       "    }\n",
       "\n",
       "    .dataframe thead th {\n",
       "        text-align: right;\n",
       "    }\n",
       "</style>\n",
       "<table border=\"1\" class=\"dataframe\">\n",
       "  <thead>\n",
       "    <tr style=\"text-align: right;\">\n",
       "      <th></th>\n",
       "      <th>지역</th>\n",
       "      <th>망</th>\n",
       "      <th>측정소코드</th>\n",
       "      <th>name</th>\n",
       "      <th>date</th>\n",
       "      <th>SO2</th>\n",
       "      <th>CO</th>\n",
       "      <th>O3</th>\n",
       "      <th>NO2</th>\n",
       "      <th>PM10</th>\n",
       "      <th>PM25</th>\n",
       "      <th>addr</th>\n",
       "      <th>city</th>\n",
       "    </tr>\n",
       "  </thead>\n",
       "  <tbody>\n",
       "    <tr>\n",
       "      <th>0</th>\n",
       "      <td>서울 송파구</td>\n",
       "      <td>도시대기</td>\n",
       "      <td>111273</td>\n",
       "      <td>송파구</td>\n",
       "      <td>2021-04-01</td>\n",
       "      <td>0.004</td>\n",
       "      <td>1.0</td>\n",
       "      <td>0.002</td>\n",
       "      <td>0.066</td>\n",
       "      <td>50.0</td>\n",
       "      <td>18.0</td>\n",
       "      <td>서울 송파구 백제고분로 236</td>\n",
       "      <td>서울</td>\n",
       "    </tr>\n",
       "    <tr>\n",
       "      <th>1</th>\n",
       "      <td>서울 송파구</td>\n",
       "      <td>도시대기</td>\n",
       "      <td>111273</td>\n",
       "      <td>송파구</td>\n",
       "      <td>2021-04-01</td>\n",
       "      <td>0.004</td>\n",
       "      <td>0.8</td>\n",
       "      <td>0.002</td>\n",
       "      <td>0.058</td>\n",
       "      <td>48.0</td>\n",
       "      <td>20.0</td>\n",
       "      <td>서울 송파구 백제고분로 236</td>\n",
       "      <td>서울</td>\n",
       "    </tr>\n",
       "    <tr>\n",
       "      <th>2</th>\n",
       "      <td>서울 송파구</td>\n",
       "      <td>도시대기</td>\n",
       "      <td>111273</td>\n",
       "      <td>송파구</td>\n",
       "      <td>2021-04-01</td>\n",
       "      <td>0.004</td>\n",
       "      <td>0.8</td>\n",
       "      <td>0.002</td>\n",
       "      <td>0.055</td>\n",
       "      <td>44.0</td>\n",
       "      <td>20.0</td>\n",
       "      <td>서울 송파구 백제고분로 236</td>\n",
       "      <td>서울</td>\n",
       "    </tr>\n",
       "    <tr>\n",
       "      <th>3</th>\n",
       "      <td>서울 송파구</td>\n",
       "      <td>도시대기</td>\n",
       "      <td>111273</td>\n",
       "      <td>송파구</td>\n",
       "      <td>2021-04-01</td>\n",
       "      <td>0.003</td>\n",
       "      <td>0.8</td>\n",
       "      <td>0.002</td>\n",
       "      <td>0.055</td>\n",
       "      <td>40.0</td>\n",
       "      <td>20.0</td>\n",
       "      <td>서울 송파구 백제고분로 236</td>\n",
       "      <td>서울</td>\n",
       "    </tr>\n",
       "    <tr>\n",
       "      <th>4</th>\n",
       "      <td>서울 송파구</td>\n",
       "      <td>도시대기</td>\n",
       "      <td>111273</td>\n",
       "      <td>송파구</td>\n",
       "      <td>2021-04-01</td>\n",
       "      <td>0.004</td>\n",
       "      <td>0.8</td>\n",
       "      <td>0.002</td>\n",
       "      <td>0.053</td>\n",
       "      <td>38.0</td>\n",
       "      <td>17.0</td>\n",
       "      <td>서울 송파구 백제고분로 236</td>\n",
       "      <td>서울</td>\n",
       "    </tr>\n",
       "    <tr>\n",
       "      <th>...</th>\n",
       "      <td>...</td>\n",
       "      <td>...</td>\n",
       "      <td>...</td>\n",
       "      <td>...</td>\n",
       "      <td>...</td>\n",
       "      <td>...</td>\n",
       "      <td>...</td>\n",
       "      <td>...</td>\n",
       "      <td>...</td>\n",
       "      <td>...</td>\n",
       "      <td>...</td>\n",
       "      <td>...</td>\n",
       "      <td>...</td>\n",
       "    </tr>\n",
       "    <tr>\n",
       "      <th>715</th>\n",
       "      <td>서울 송파구</td>\n",
       "      <td>도시대기</td>\n",
       "      <td>111273</td>\n",
       "      <td>송파구</td>\n",
       "      <td>2021-04-30</td>\n",
       "      <td>0.002</td>\n",
       "      <td>0.5</td>\n",
       "      <td>0.039</td>\n",
       "      <td>0.020</td>\n",
       "      <td>69.0</td>\n",
       "      <td>33.0</td>\n",
       "      <td>서울 송파구 백제고분로 236</td>\n",
       "      <td>서울</td>\n",
       "    </tr>\n",
       "    <tr>\n",
       "      <th>716</th>\n",
       "      <td>서울 송파구</td>\n",
       "      <td>도시대기</td>\n",
       "      <td>111273</td>\n",
       "      <td>송파구</td>\n",
       "      <td>2021-04-30</td>\n",
       "      <td>0.002</td>\n",
       "      <td>0.5</td>\n",
       "      <td>0.039</td>\n",
       "      <td>0.019</td>\n",
       "      <td>76.0</td>\n",
       "      <td>34.0</td>\n",
       "      <td>서울 송파구 백제고분로 236</td>\n",
       "      <td>서울</td>\n",
       "    </tr>\n",
       "    <tr>\n",
       "      <th>717</th>\n",
       "      <td>서울 송파구</td>\n",
       "      <td>도시대기</td>\n",
       "      <td>111273</td>\n",
       "      <td>송파구</td>\n",
       "      <td>2021-04-30</td>\n",
       "      <td>0.002</td>\n",
       "      <td>0.5</td>\n",
       "      <td>0.037</td>\n",
       "      <td>0.018</td>\n",
       "      <td>71.0</td>\n",
       "      <td>31.0</td>\n",
       "      <td>서울 송파구 백제고분로 236</td>\n",
       "      <td>서울</td>\n",
       "    </tr>\n",
       "    <tr>\n",
       "      <th>718</th>\n",
       "      <td>서울 송파구</td>\n",
       "      <td>도시대기</td>\n",
       "      <td>111273</td>\n",
       "      <td>송파구</td>\n",
       "      <td>2021-04-30</td>\n",
       "      <td>0.002</td>\n",
       "      <td>0.5</td>\n",
       "      <td>0.040</td>\n",
       "      <td>0.016</td>\n",
       "      <td>46.0</td>\n",
       "      <td>22.0</td>\n",
       "      <td>서울 송파구 백제고분로 236</td>\n",
       "      <td>서울</td>\n",
       "    </tr>\n",
       "    <tr>\n",
       "      <th>719</th>\n",
       "      <td>서울 송파구</td>\n",
       "      <td>도시대기</td>\n",
       "      <td>111273</td>\n",
       "      <td>송파구</td>\n",
       "      <td>2021-04-30</td>\n",
       "      <td>0.002</td>\n",
       "      <td>0.4</td>\n",
       "      <td>0.039</td>\n",
       "      <td>0.016</td>\n",
       "      <td>34.0</td>\n",
       "      <td>18.0</td>\n",
       "      <td>서울 송파구 백제고분로 236</td>\n",
       "      <td>서울</td>\n",
       "    </tr>\n",
       "  </tbody>\n",
       "</table>\n",
       "<p>720 rows × 13 columns</p>\n",
       "</div>"
      ],
      "text/plain": [
       "         지역     망   측정소코드 name       date    SO2   CO     O3    NO2  PM10  \\\n",
       "0    서울 송파구  도시대기  111273  송파구 2021-04-01  0.004  1.0  0.002  0.066  50.0   \n",
       "1    서울 송파구  도시대기  111273  송파구 2021-04-01  0.004  0.8  0.002  0.058  48.0   \n",
       "2    서울 송파구  도시대기  111273  송파구 2021-04-01  0.004  0.8  0.002  0.055  44.0   \n",
       "3    서울 송파구  도시대기  111273  송파구 2021-04-01  0.003  0.8  0.002  0.055  40.0   \n",
       "4    서울 송파구  도시대기  111273  송파구 2021-04-01  0.004  0.8  0.002  0.053  38.0   \n",
       "..      ...   ...     ...  ...        ...    ...  ...    ...    ...   ...   \n",
       "715  서울 송파구  도시대기  111273  송파구 2021-04-30  0.002  0.5  0.039  0.020  69.0   \n",
       "716  서울 송파구  도시대기  111273  송파구 2021-04-30  0.002  0.5  0.039  0.019  76.0   \n",
       "717  서울 송파구  도시대기  111273  송파구 2021-04-30  0.002  0.5  0.037  0.018  71.0   \n",
       "718  서울 송파구  도시대기  111273  송파구 2021-04-30  0.002  0.5  0.040  0.016  46.0   \n",
       "719  서울 송파구  도시대기  111273  송파구 2021-04-30  0.002  0.4  0.039  0.016  34.0   \n",
       "\n",
       "     PM25              addr city  \n",
       "0    18.0  서울 송파구 백제고분로 236   서울  \n",
       "1    20.0  서울 송파구 백제고분로 236   서울  \n",
       "2    20.0  서울 송파구 백제고분로 236   서울  \n",
       "3    20.0  서울 송파구 백제고분로 236   서울  \n",
       "4    17.0  서울 송파구 백제고분로 236   서울  \n",
       "..    ...               ...  ...  \n",
       "715  33.0  서울 송파구 백제고분로 236   서울  \n",
       "716  34.0  서울 송파구 백제고분로 236   서울  \n",
       "717  31.0  서울 송파구 백제고분로 236   서울  \n",
       "718  22.0  서울 송파구 백제고분로 236   서울  \n",
       "719  18.0  서울 송파구 백제고분로 236   서울  \n",
       "\n",
       "[720 rows x 13 columns]"
      ]
     },
     "execution_count": 446,
     "metadata": {},
     "output_type": "execute_result"
    }
   ],
   "source": [
    "dust['date'] = pd.to_datetime(dust['date']) #string에서 date type으로 다시 변환\n",
    "dust"
   ]
  },
  {
   "cell_type": "code",
   "execution_count": 452,
   "id": "f8129a07",
   "metadata": {
    "ExecuteTime": {
     "end_time": "2022-11-22T09:39:47.239356Z",
     "start_time": "2022-11-22T09:39:47.230052Z"
    }
   },
   "outputs": [],
   "source": [
    "#연월일 칼럼추가하기\n",
    "#date type.dt.year=>date type의 year정보\n",
    "dust['year'] = dust['date'].dt.year\n",
    "dust['month'] = dust['date'].dt.month\n",
    "dust['day'] = dust['date'].dt.day\n"
   ]
  },
  {
   "cell_type": "code",
   "execution_count": 453,
   "id": "21b113b5",
   "metadata": {
    "ExecuteTime": {
     "end_time": "2022-11-22T09:39:47.425073Z",
     "start_time": "2022-11-22T09:39:47.398833Z"
    }
   },
   "outputs": [
    {
     "data": {
      "text/html": [
       "<div>\n",
       "<style scoped>\n",
       "    .dataframe tbody tr th:only-of-type {\n",
       "        vertical-align: middle;\n",
       "    }\n",
       "\n",
       "    .dataframe tbody tr th {\n",
       "        vertical-align: top;\n",
       "    }\n",
       "\n",
       "    .dataframe thead th {\n",
       "        text-align: right;\n",
       "    }\n",
       "</style>\n",
       "<table border=\"1\" class=\"dataframe\">\n",
       "  <thead>\n",
       "    <tr style=\"text-align: right;\">\n",
       "      <th></th>\n",
       "      <th>지역</th>\n",
       "      <th>망</th>\n",
       "      <th>측정소코드</th>\n",
       "      <th>name</th>\n",
       "      <th>date</th>\n",
       "      <th>SO2</th>\n",
       "      <th>CO</th>\n",
       "      <th>O3</th>\n",
       "      <th>NO2</th>\n",
       "      <th>PM10</th>\n",
       "      <th>PM25</th>\n",
       "      <th>addr</th>\n",
       "      <th>city</th>\n",
       "      <th>year</th>\n",
       "      <th>month</th>\n",
       "      <th>day</th>\n",
       "    </tr>\n",
       "  </thead>\n",
       "  <tbody>\n",
       "    <tr>\n",
       "      <th>0</th>\n",
       "      <td>서울 송파구</td>\n",
       "      <td>도시대기</td>\n",
       "      <td>111273</td>\n",
       "      <td>송파구</td>\n",
       "      <td>2021-04-01</td>\n",
       "      <td>0.004</td>\n",
       "      <td>1.0</td>\n",
       "      <td>0.002</td>\n",
       "      <td>0.066</td>\n",
       "      <td>50.0</td>\n",
       "      <td>18.0</td>\n",
       "      <td>서울 송파구 백제고분로 236</td>\n",
       "      <td>서울</td>\n",
       "      <td>2021</td>\n",
       "      <td>4</td>\n",
       "      <td>1</td>\n",
       "    </tr>\n",
       "    <tr>\n",
       "      <th>1</th>\n",
       "      <td>서울 송파구</td>\n",
       "      <td>도시대기</td>\n",
       "      <td>111273</td>\n",
       "      <td>송파구</td>\n",
       "      <td>2021-04-01</td>\n",
       "      <td>0.004</td>\n",
       "      <td>0.8</td>\n",
       "      <td>0.002</td>\n",
       "      <td>0.058</td>\n",
       "      <td>48.0</td>\n",
       "      <td>20.0</td>\n",
       "      <td>서울 송파구 백제고분로 236</td>\n",
       "      <td>서울</td>\n",
       "      <td>2021</td>\n",
       "      <td>4</td>\n",
       "      <td>1</td>\n",
       "    </tr>\n",
       "    <tr>\n",
       "      <th>2</th>\n",
       "      <td>서울 송파구</td>\n",
       "      <td>도시대기</td>\n",
       "      <td>111273</td>\n",
       "      <td>송파구</td>\n",
       "      <td>2021-04-01</td>\n",
       "      <td>0.004</td>\n",
       "      <td>0.8</td>\n",
       "      <td>0.002</td>\n",
       "      <td>0.055</td>\n",
       "      <td>44.0</td>\n",
       "      <td>20.0</td>\n",
       "      <td>서울 송파구 백제고분로 236</td>\n",
       "      <td>서울</td>\n",
       "      <td>2021</td>\n",
       "      <td>4</td>\n",
       "      <td>1</td>\n",
       "    </tr>\n",
       "    <tr>\n",
       "      <th>3</th>\n",
       "      <td>서울 송파구</td>\n",
       "      <td>도시대기</td>\n",
       "      <td>111273</td>\n",
       "      <td>송파구</td>\n",
       "      <td>2021-04-01</td>\n",
       "      <td>0.003</td>\n",
       "      <td>0.8</td>\n",
       "      <td>0.002</td>\n",
       "      <td>0.055</td>\n",
       "      <td>40.0</td>\n",
       "      <td>20.0</td>\n",
       "      <td>서울 송파구 백제고분로 236</td>\n",
       "      <td>서울</td>\n",
       "      <td>2021</td>\n",
       "      <td>4</td>\n",
       "      <td>1</td>\n",
       "    </tr>\n",
       "    <tr>\n",
       "      <th>4</th>\n",
       "      <td>서울 송파구</td>\n",
       "      <td>도시대기</td>\n",
       "      <td>111273</td>\n",
       "      <td>송파구</td>\n",
       "      <td>2021-04-01</td>\n",
       "      <td>0.004</td>\n",
       "      <td>0.8</td>\n",
       "      <td>0.002</td>\n",
       "      <td>0.053</td>\n",
       "      <td>38.0</td>\n",
       "      <td>17.0</td>\n",
       "      <td>서울 송파구 백제고분로 236</td>\n",
       "      <td>서울</td>\n",
       "      <td>2021</td>\n",
       "      <td>4</td>\n",
       "      <td>1</td>\n",
       "    </tr>\n",
       "    <tr>\n",
       "      <th>...</th>\n",
       "      <td>...</td>\n",
       "      <td>...</td>\n",
       "      <td>...</td>\n",
       "      <td>...</td>\n",
       "      <td>...</td>\n",
       "      <td>...</td>\n",
       "      <td>...</td>\n",
       "      <td>...</td>\n",
       "      <td>...</td>\n",
       "      <td>...</td>\n",
       "      <td>...</td>\n",
       "      <td>...</td>\n",
       "      <td>...</td>\n",
       "      <td>...</td>\n",
       "      <td>...</td>\n",
       "      <td>...</td>\n",
       "    </tr>\n",
       "    <tr>\n",
       "      <th>715</th>\n",
       "      <td>서울 송파구</td>\n",
       "      <td>도시대기</td>\n",
       "      <td>111273</td>\n",
       "      <td>송파구</td>\n",
       "      <td>2021-04-30</td>\n",
       "      <td>0.002</td>\n",
       "      <td>0.5</td>\n",
       "      <td>0.039</td>\n",
       "      <td>0.020</td>\n",
       "      <td>69.0</td>\n",
       "      <td>33.0</td>\n",
       "      <td>서울 송파구 백제고분로 236</td>\n",
       "      <td>서울</td>\n",
       "      <td>2021</td>\n",
       "      <td>4</td>\n",
       "      <td>30</td>\n",
       "    </tr>\n",
       "    <tr>\n",
       "      <th>716</th>\n",
       "      <td>서울 송파구</td>\n",
       "      <td>도시대기</td>\n",
       "      <td>111273</td>\n",
       "      <td>송파구</td>\n",
       "      <td>2021-04-30</td>\n",
       "      <td>0.002</td>\n",
       "      <td>0.5</td>\n",
       "      <td>0.039</td>\n",
       "      <td>0.019</td>\n",
       "      <td>76.0</td>\n",
       "      <td>34.0</td>\n",
       "      <td>서울 송파구 백제고분로 236</td>\n",
       "      <td>서울</td>\n",
       "      <td>2021</td>\n",
       "      <td>4</td>\n",
       "      <td>30</td>\n",
       "    </tr>\n",
       "    <tr>\n",
       "      <th>717</th>\n",
       "      <td>서울 송파구</td>\n",
       "      <td>도시대기</td>\n",
       "      <td>111273</td>\n",
       "      <td>송파구</td>\n",
       "      <td>2021-04-30</td>\n",
       "      <td>0.002</td>\n",
       "      <td>0.5</td>\n",
       "      <td>0.037</td>\n",
       "      <td>0.018</td>\n",
       "      <td>71.0</td>\n",
       "      <td>31.0</td>\n",
       "      <td>서울 송파구 백제고분로 236</td>\n",
       "      <td>서울</td>\n",
       "      <td>2021</td>\n",
       "      <td>4</td>\n",
       "      <td>30</td>\n",
       "    </tr>\n",
       "    <tr>\n",
       "      <th>718</th>\n",
       "      <td>서울 송파구</td>\n",
       "      <td>도시대기</td>\n",
       "      <td>111273</td>\n",
       "      <td>송파구</td>\n",
       "      <td>2021-04-30</td>\n",
       "      <td>0.002</td>\n",
       "      <td>0.5</td>\n",
       "      <td>0.040</td>\n",
       "      <td>0.016</td>\n",
       "      <td>46.0</td>\n",
       "      <td>22.0</td>\n",
       "      <td>서울 송파구 백제고분로 236</td>\n",
       "      <td>서울</td>\n",
       "      <td>2021</td>\n",
       "      <td>4</td>\n",
       "      <td>30</td>\n",
       "    </tr>\n",
       "    <tr>\n",
       "      <th>719</th>\n",
       "      <td>서울 송파구</td>\n",
       "      <td>도시대기</td>\n",
       "      <td>111273</td>\n",
       "      <td>송파구</td>\n",
       "      <td>2021-04-30</td>\n",
       "      <td>0.002</td>\n",
       "      <td>0.4</td>\n",
       "      <td>0.039</td>\n",
       "      <td>0.016</td>\n",
       "      <td>34.0</td>\n",
       "      <td>18.0</td>\n",
       "      <td>서울 송파구 백제고분로 236</td>\n",
       "      <td>서울</td>\n",
       "      <td>2021</td>\n",
       "      <td>4</td>\n",
       "      <td>30</td>\n",
       "    </tr>\n",
       "  </tbody>\n",
       "</table>\n",
       "<p>720 rows × 16 columns</p>\n",
       "</div>"
      ],
      "text/plain": [
       "         지역     망   측정소코드 name       date    SO2   CO     O3    NO2  PM10  \\\n",
       "0    서울 송파구  도시대기  111273  송파구 2021-04-01  0.004  1.0  0.002  0.066  50.0   \n",
       "1    서울 송파구  도시대기  111273  송파구 2021-04-01  0.004  0.8  0.002  0.058  48.0   \n",
       "2    서울 송파구  도시대기  111273  송파구 2021-04-01  0.004  0.8  0.002  0.055  44.0   \n",
       "3    서울 송파구  도시대기  111273  송파구 2021-04-01  0.003  0.8  0.002  0.055  40.0   \n",
       "4    서울 송파구  도시대기  111273  송파구 2021-04-01  0.004  0.8  0.002  0.053  38.0   \n",
       "..      ...   ...     ...  ...        ...    ...  ...    ...    ...   ...   \n",
       "715  서울 송파구  도시대기  111273  송파구 2021-04-30  0.002  0.5  0.039  0.020  69.0   \n",
       "716  서울 송파구  도시대기  111273  송파구 2021-04-30  0.002  0.5  0.039  0.019  76.0   \n",
       "717  서울 송파구  도시대기  111273  송파구 2021-04-30  0.002  0.5  0.037  0.018  71.0   \n",
       "718  서울 송파구  도시대기  111273  송파구 2021-04-30  0.002  0.5  0.040  0.016  46.0   \n",
       "719  서울 송파구  도시대기  111273  송파구 2021-04-30  0.002  0.4  0.039  0.016  34.0   \n",
       "\n",
       "     PM25              addr city  year  month  day  \n",
       "0    18.0  서울 송파구 백제고분로 236   서울  2021      4    1  \n",
       "1    20.0  서울 송파구 백제고분로 236   서울  2021      4    1  \n",
       "2    20.0  서울 송파구 백제고분로 236   서울  2021      4    1  \n",
       "3    20.0  서울 송파구 백제고분로 236   서울  2021      4    1  \n",
       "4    17.0  서울 송파구 백제고분로 236   서울  2021      4    1  \n",
       "..    ...               ...  ...   ...    ...  ...  \n",
       "715  33.0  서울 송파구 백제고분로 236   서울  2021      4   30  \n",
       "716  34.0  서울 송파구 백제고분로 236   서울  2021      4   30  \n",
       "717  31.0  서울 송파구 백제고분로 236   서울  2021      4   30  \n",
       "718  22.0  서울 송파구 백제고분로 236   서울  2021      4   30  \n",
       "719  18.0  서울 송파구 백제고분로 236   서울  2021      4   30  \n",
       "\n",
       "[720 rows x 16 columns]"
      ]
     },
     "execution_count": 453,
     "metadata": {},
     "output_type": "execute_result"
    }
   ],
   "source": [
    "dust"
   ]
  },
  {
   "cell_type": "markdown",
   "id": "9879b975",
   "metadata": {
    "ExecuteTime": {
     "end_time": "2022-11-22T09:40:24.744202Z",
     "start_time": "2022-11-22T09:40:24.740754Z"
    }
   },
   "source": [
    "## 데이터 병합"
   ]
  },
  {
   "cell_type": "code",
   "execution_count": 455,
   "id": "60b49322",
   "metadata": {
    "ExecuteTime": {
     "end_time": "2022-11-22T09:40:55.027982Z",
     "start_time": "2022-11-22T09:40:54.978431Z"
    }
   },
   "outputs": [],
   "source": [
    "s1 = pd.read_excel('./data/nation.xlsx')\n",
    "s2 = pd.read_excel('./data/code.xlsx')"
   ]
  },
  {
   "cell_type": "code",
   "execution_count": 456,
   "id": "f98f672f",
   "metadata": {
    "ExecuteTime": {
     "end_time": "2022-11-22T09:40:56.968089Z",
     "start_time": "2022-11-22T09:40:56.956378Z"
    }
   },
   "outputs": [
    {
     "data": {
      "text/html": [
       "<div>\n",
       "<style scoped>\n",
       "    .dataframe tbody tr th:only-of-type {\n",
       "        vertical-align: middle;\n",
       "    }\n",
       "\n",
       "    .dataframe tbody tr th {\n",
       "        vertical-align: top;\n",
       "    }\n",
       "\n",
       "    .dataframe thead th {\n",
       "        text-align: right;\n",
       "    }\n",
       "</style>\n",
       "<table border=\"1\" class=\"dataframe\">\n",
       "  <thead>\n",
       "    <tr style=\"text-align: right;\">\n",
       "      <th></th>\n",
       "      <th>국적코드</th>\n",
       "      <th>성별</th>\n",
       "      <th>입국객수</th>\n",
       "      <th>증가수</th>\n",
       "    </tr>\n",
       "  </thead>\n",
       "  <tbody>\n",
       "    <tr>\n",
       "      <th>0</th>\n",
       "      <td>A01</td>\n",
       "      <td>남</td>\n",
       "      <td>125000</td>\n",
       "      <td>8000</td>\n",
       "    </tr>\n",
       "    <tr>\n",
       "      <th>1</th>\n",
       "      <td>A01</td>\n",
       "      <td>여</td>\n",
       "      <td>130000</td>\n",
       "      <td>10000</td>\n",
       "    </tr>\n",
       "    <tr>\n",
       "      <th>2</th>\n",
       "      <td>A05</td>\n",
       "      <td>남</td>\n",
       "      <td>300</td>\n",
       "      <td>10</td>\n",
       "    </tr>\n",
       "    <tr>\n",
       "      <th>3</th>\n",
       "      <td>A05</td>\n",
       "      <td>여</td>\n",
       "      <td>200</td>\n",
       "      <td>50</td>\n",
       "    </tr>\n",
       "    <tr>\n",
       "      <th>4</th>\n",
       "      <td>A06</td>\n",
       "      <td>남</td>\n",
       "      <td>158912</td>\n",
       "      <td>24486</td>\n",
       "    </tr>\n",
       "    <tr>\n",
       "      <th>5</th>\n",
       "      <td>A06</td>\n",
       "      <td>여</td>\n",
       "      <td>325000</td>\n",
       "      <td>63466</td>\n",
       "    </tr>\n",
       "  </tbody>\n",
       "</table>\n",
       "</div>"
      ],
      "text/plain": [
       "  국적코드 성별    입국객수    증가수\n",
       "0  A01  남  125000   8000\n",
       "1  A01  여  130000  10000\n",
       "2  A05  남     300     10\n",
       "3  A05  여     200     50\n",
       "4  A06  남  158912  24486\n",
       "5  A06  여  325000  63466"
      ]
     },
     "execution_count": 456,
     "metadata": {},
     "output_type": "execute_result"
    }
   ],
   "source": [
    "s1\n"
   ]
  },
  {
   "cell_type": "code",
   "execution_count": 457,
   "id": "75607473",
   "metadata": {
    "ExecuteTime": {
     "end_time": "2022-11-22T09:40:59.107480Z",
     "start_time": "2022-11-22T09:40:59.095367Z"
    }
   },
   "outputs": [
    {
     "data": {
      "text/html": [
       "<div>\n",
       "<style scoped>\n",
       "    .dataframe tbody tr th:only-of-type {\n",
       "        vertical-align: middle;\n",
       "    }\n",
       "\n",
       "    .dataframe tbody tr th {\n",
       "        vertical-align: top;\n",
       "    }\n",
       "\n",
       "    .dataframe thead th {\n",
       "        text-align: right;\n",
       "    }\n",
       "</style>\n",
       "<table border=\"1\" class=\"dataframe\">\n",
       "  <thead>\n",
       "    <tr style=\"text-align: right;\">\n",
       "      <th></th>\n",
       "      <th>국적코드</th>\n",
       "      <th>국적명</th>\n",
       "    </tr>\n",
       "  </thead>\n",
       "  <tbody>\n",
       "    <tr>\n",
       "      <th>0</th>\n",
       "      <td>A01</td>\n",
       "      <td>필리핀</td>\n",
       "    </tr>\n",
       "    <tr>\n",
       "      <th>1</th>\n",
       "      <td>A02</td>\n",
       "      <td>일본</td>\n",
       "    </tr>\n",
       "    <tr>\n",
       "      <th>2</th>\n",
       "      <td>A03</td>\n",
       "      <td>미국</td>\n",
       "    </tr>\n",
       "    <tr>\n",
       "      <th>3</th>\n",
       "      <td>A04</td>\n",
       "      <td>중국</td>\n",
       "    </tr>\n",
       "    <tr>\n",
       "      <th>4</th>\n",
       "      <td>A05</td>\n",
       "      <td>호주</td>\n",
       "    </tr>\n",
       "    <tr>\n",
       "      <th>5</th>\n",
       "      <td>A06</td>\n",
       "      <td>베트남</td>\n",
       "    </tr>\n",
       "    <tr>\n",
       "      <th>6</th>\n",
       "      <td>A07</td>\n",
       "      <td>스위스</td>\n",
       "    </tr>\n",
       "    <tr>\n",
       "      <th>7</th>\n",
       "      <td>A99</td>\n",
       "      <td>기타</td>\n",
       "    </tr>\n",
       "  </tbody>\n",
       "</table>\n",
       "</div>"
      ],
      "text/plain": [
       "  국적코드  국적명\n",
       "0  A01  필리핀\n",
       "1  A02   일본\n",
       "2  A03   미국\n",
       "3  A04   중국\n",
       "4  A05   호주\n",
       "5  A06  베트남\n",
       "6  A07  스위스\n",
       "7  A99   기타"
      ]
     },
     "execution_count": 457,
     "metadata": {},
     "output_type": "execute_result"
    }
   ],
   "source": [
    "\n",
    "s2"
   ]
  },
  {
   "cell_type": "code",
   "execution_count": 459,
   "id": "0f755e5f",
   "metadata": {
    "ExecuteTime": {
     "end_time": "2022-11-22T09:56:36.703441Z",
     "start_time": "2022-11-22T09:56:36.684781Z"
    }
   },
   "outputs": [
    {
     "data": {
      "text/html": [
       "<div>\n",
       "<style scoped>\n",
       "    .dataframe tbody tr th:only-of-type {\n",
       "        vertical-align: middle;\n",
       "    }\n",
       "\n",
       "    .dataframe tbody tr th {\n",
       "        vertical-align: top;\n",
       "    }\n",
       "\n",
       "    .dataframe thead th {\n",
       "        text-align: right;\n",
       "    }\n",
       "</style>\n",
       "<table border=\"1\" class=\"dataframe\">\n",
       "  <thead>\n",
       "    <tr style=\"text-align: right;\">\n",
       "      <th></th>\n",
       "      <th>국적코드</th>\n",
       "      <th>성별</th>\n",
       "      <th>입국객수</th>\n",
       "      <th>증가수</th>\n",
       "      <th>국적명</th>\n",
       "    </tr>\n",
       "  </thead>\n",
       "  <tbody>\n",
       "    <tr>\n",
       "      <th>0</th>\n",
       "      <td>A01</td>\n",
       "      <td>남</td>\n",
       "      <td>125000</td>\n",
       "      <td>8000</td>\n",
       "      <td>필리핀</td>\n",
       "    </tr>\n",
       "    <tr>\n",
       "      <th>1</th>\n",
       "      <td>A01</td>\n",
       "      <td>여</td>\n",
       "      <td>130000</td>\n",
       "      <td>10000</td>\n",
       "      <td>필리핀</td>\n",
       "    </tr>\n",
       "    <tr>\n",
       "      <th>2</th>\n",
       "      <td>A05</td>\n",
       "      <td>남</td>\n",
       "      <td>300</td>\n",
       "      <td>10</td>\n",
       "      <td>호주</td>\n",
       "    </tr>\n",
       "    <tr>\n",
       "      <th>3</th>\n",
       "      <td>A05</td>\n",
       "      <td>여</td>\n",
       "      <td>200</td>\n",
       "      <td>50</td>\n",
       "      <td>호주</td>\n",
       "    </tr>\n",
       "    <tr>\n",
       "      <th>4</th>\n",
       "      <td>A06</td>\n",
       "      <td>남</td>\n",
       "      <td>158912</td>\n",
       "      <td>24486</td>\n",
       "      <td>베트남</td>\n",
       "    </tr>\n",
       "    <tr>\n",
       "      <th>5</th>\n",
       "      <td>A06</td>\n",
       "      <td>여</td>\n",
       "      <td>325000</td>\n",
       "      <td>63466</td>\n",
       "      <td>베트남</td>\n",
       "    </tr>\n",
       "  </tbody>\n",
       "</table>\n",
       "</div>"
      ],
      "text/plain": [
       "  국적코드 성별    입국객수    증가수  국적명\n",
       "0  A01  남  125000   8000  필리핀\n",
       "1  A01  여  130000  10000  필리핀\n",
       "2  A05  남     300     10   호주\n",
       "3  A05  여     200     50   호주\n",
       "4  A06  남  158912  24486  베트남\n",
       "5  A06  여  325000  63466  베트남"
      ]
     },
     "execution_count": 459,
     "metadata": {},
     "output_type": "execute_result"
    }
   ],
   "source": [
    "pd.merge(s1, s2, on='국적코드')"
   ]
  },
  {
   "cell_type": "code",
   "execution_count": 460,
   "id": "e7954162",
   "metadata": {
    "ExecuteTime": {
     "end_time": "2022-11-22T09:57:41.523793Z",
     "start_time": "2022-11-22T09:57:41.495842Z"
    }
   },
   "outputs": [
    {
     "data": {
      "text/html": [
       "<div>\n",
       "<style scoped>\n",
       "    .dataframe tbody tr th:only-of-type {\n",
       "        vertical-align: middle;\n",
       "    }\n",
       "\n",
       "    .dataframe tbody tr th {\n",
       "        vertical-align: top;\n",
       "    }\n",
       "\n",
       "    .dataframe thead th {\n",
       "        text-align: right;\n",
       "    }\n",
       "</style>\n",
       "<table border=\"1\" class=\"dataframe\">\n",
       "  <thead>\n",
       "    <tr style=\"text-align: right;\">\n",
       "      <th></th>\n",
       "      <th>국적코드</th>\n",
       "      <th>성별</th>\n",
       "      <th>입국객수</th>\n",
       "      <th>증가수</th>\n",
       "      <th>국적명</th>\n",
       "    </tr>\n",
       "  </thead>\n",
       "  <tbody>\n",
       "    <tr>\n",
       "      <th>0</th>\n",
       "      <td>A01</td>\n",
       "      <td>남</td>\n",
       "      <td>125000</td>\n",
       "      <td>8000</td>\n",
       "      <td>필리핀</td>\n",
       "    </tr>\n",
       "    <tr>\n",
       "      <th>1</th>\n",
       "      <td>A01</td>\n",
       "      <td>여</td>\n",
       "      <td>130000</td>\n",
       "      <td>10000</td>\n",
       "      <td>필리핀</td>\n",
       "    </tr>\n",
       "    <tr>\n",
       "      <th>2</th>\n",
       "      <td>A05</td>\n",
       "      <td>남</td>\n",
       "      <td>300</td>\n",
       "      <td>10</td>\n",
       "      <td>호주</td>\n",
       "    </tr>\n",
       "    <tr>\n",
       "      <th>3</th>\n",
       "      <td>A05</td>\n",
       "      <td>여</td>\n",
       "      <td>200</td>\n",
       "      <td>50</td>\n",
       "      <td>호주</td>\n",
       "    </tr>\n",
       "    <tr>\n",
       "      <th>4</th>\n",
       "      <td>A06</td>\n",
       "      <td>남</td>\n",
       "      <td>158912</td>\n",
       "      <td>24486</td>\n",
       "      <td>베트남</td>\n",
       "    </tr>\n",
       "    <tr>\n",
       "      <th>5</th>\n",
       "      <td>A06</td>\n",
       "      <td>여</td>\n",
       "      <td>325000</td>\n",
       "      <td>63466</td>\n",
       "      <td>베트남</td>\n",
       "    </tr>\n",
       "  </tbody>\n",
       "</table>\n",
       "</div>"
      ],
      "text/plain": [
       "  국적코드 성별    입국객수    증가수  국적명\n",
       "0  A01  남  125000   8000  필리핀\n",
       "1  A01  여  130000  10000  필리핀\n",
       "2  A05  남     300     10   호주\n",
       "3  A05  여     200     50   호주\n",
       "4  A06  남  158912  24486  베트남\n",
       "5  A06  여  325000  63466  베트남"
      ]
     },
     "execution_count": 460,
     "metadata": {},
     "output_type": "execute_result"
    }
   ],
   "source": [
    "pd.merge(s1, s2, on='국적코드', how='left')"
   ]
  },
  {
   "cell_type": "code",
   "execution_count": 461,
   "id": "b8581caa",
   "metadata": {
    "ExecuteTime": {
     "end_time": "2022-11-22T09:57:51.233082Z",
     "start_time": "2022-11-22T09:57:51.187620Z"
    }
   },
   "outputs": [
    {
     "data": {
      "text/html": [
       "<div>\n",
       "<style scoped>\n",
       "    .dataframe tbody tr th:only-of-type {\n",
       "        vertical-align: middle;\n",
       "    }\n",
       "\n",
       "    .dataframe tbody tr th {\n",
       "        vertical-align: top;\n",
       "    }\n",
       "\n",
       "    .dataframe thead th {\n",
       "        text-align: right;\n",
       "    }\n",
       "</style>\n",
       "<table border=\"1\" class=\"dataframe\">\n",
       "  <thead>\n",
       "    <tr style=\"text-align: right;\">\n",
       "      <th></th>\n",
       "      <th>국적코드</th>\n",
       "      <th>성별</th>\n",
       "      <th>입국객수</th>\n",
       "      <th>증가수</th>\n",
       "      <th>국적명</th>\n",
       "    </tr>\n",
       "  </thead>\n",
       "  <tbody>\n",
       "    <tr>\n",
       "      <th>0</th>\n",
       "      <td>A01</td>\n",
       "      <td>남</td>\n",
       "      <td>125000.0</td>\n",
       "      <td>8000.0</td>\n",
       "      <td>필리핀</td>\n",
       "    </tr>\n",
       "    <tr>\n",
       "      <th>1</th>\n",
       "      <td>A01</td>\n",
       "      <td>여</td>\n",
       "      <td>130000.0</td>\n",
       "      <td>10000.0</td>\n",
       "      <td>필리핀</td>\n",
       "    </tr>\n",
       "    <tr>\n",
       "      <th>2</th>\n",
       "      <td>A02</td>\n",
       "      <td>NaN</td>\n",
       "      <td>NaN</td>\n",
       "      <td>NaN</td>\n",
       "      <td>일본</td>\n",
       "    </tr>\n",
       "    <tr>\n",
       "      <th>3</th>\n",
       "      <td>A03</td>\n",
       "      <td>NaN</td>\n",
       "      <td>NaN</td>\n",
       "      <td>NaN</td>\n",
       "      <td>미국</td>\n",
       "    </tr>\n",
       "    <tr>\n",
       "      <th>4</th>\n",
       "      <td>A04</td>\n",
       "      <td>NaN</td>\n",
       "      <td>NaN</td>\n",
       "      <td>NaN</td>\n",
       "      <td>중국</td>\n",
       "    </tr>\n",
       "    <tr>\n",
       "      <th>5</th>\n",
       "      <td>A05</td>\n",
       "      <td>남</td>\n",
       "      <td>300.0</td>\n",
       "      <td>10.0</td>\n",
       "      <td>호주</td>\n",
       "    </tr>\n",
       "    <tr>\n",
       "      <th>6</th>\n",
       "      <td>A05</td>\n",
       "      <td>여</td>\n",
       "      <td>200.0</td>\n",
       "      <td>50.0</td>\n",
       "      <td>호주</td>\n",
       "    </tr>\n",
       "    <tr>\n",
       "      <th>7</th>\n",
       "      <td>A06</td>\n",
       "      <td>남</td>\n",
       "      <td>158912.0</td>\n",
       "      <td>24486.0</td>\n",
       "      <td>베트남</td>\n",
       "    </tr>\n",
       "    <tr>\n",
       "      <th>8</th>\n",
       "      <td>A06</td>\n",
       "      <td>여</td>\n",
       "      <td>325000.0</td>\n",
       "      <td>63466.0</td>\n",
       "      <td>베트남</td>\n",
       "    </tr>\n",
       "    <tr>\n",
       "      <th>9</th>\n",
       "      <td>A07</td>\n",
       "      <td>NaN</td>\n",
       "      <td>NaN</td>\n",
       "      <td>NaN</td>\n",
       "      <td>스위스</td>\n",
       "    </tr>\n",
       "    <tr>\n",
       "      <th>10</th>\n",
       "      <td>A99</td>\n",
       "      <td>NaN</td>\n",
       "      <td>NaN</td>\n",
       "      <td>NaN</td>\n",
       "      <td>기타</td>\n",
       "    </tr>\n",
       "  </tbody>\n",
       "</table>\n",
       "</div>"
      ],
      "text/plain": [
       "   국적코드   성별      입국객수      증가수  국적명\n",
       "0   A01    남  125000.0   8000.0  필리핀\n",
       "1   A01    여  130000.0  10000.0  필리핀\n",
       "2   A02  NaN       NaN      NaN   일본\n",
       "3   A03  NaN       NaN      NaN   미국\n",
       "4   A04  NaN       NaN      NaN   중국\n",
       "5   A05    남     300.0     10.0   호주\n",
       "6   A05    여     200.0     50.0   호주\n",
       "7   A06    남  158912.0  24486.0  베트남\n",
       "8   A06    여  325000.0  63466.0  베트남\n",
       "9   A07  NaN       NaN      NaN  스위스\n",
       "10  A99  NaN       NaN      NaN   기타"
      ]
     },
     "execution_count": 461,
     "metadata": {},
     "output_type": "execute_result"
    }
   ],
   "source": [
    "pd.merge(s1, s2, on='국적코드', how='right')"
   ]
  },
  {
   "cell_type": "code",
   "execution_count": 462,
   "id": "f2aabe02",
   "metadata": {
    "ExecuteTime": {
     "end_time": "2022-11-22T09:58:05.588365Z",
     "start_time": "2022-11-22T09:58:05.561993Z"
    }
   },
   "outputs": [
    {
     "data": {
      "text/html": [
       "<div>\n",
       "<style scoped>\n",
       "    .dataframe tbody tr th:only-of-type {\n",
       "        vertical-align: middle;\n",
       "    }\n",
       "\n",
       "    .dataframe tbody tr th {\n",
       "        vertical-align: top;\n",
       "    }\n",
       "\n",
       "    .dataframe thead th {\n",
       "        text-align: right;\n",
       "    }\n",
       "</style>\n",
       "<table border=\"1\" class=\"dataframe\">\n",
       "  <thead>\n",
       "    <tr style=\"text-align: right;\">\n",
       "      <th></th>\n",
       "      <th>국적코드</th>\n",
       "      <th>성별</th>\n",
       "      <th>입국객수</th>\n",
       "      <th>증가수</th>\n",
       "      <th>국적명</th>\n",
       "    </tr>\n",
       "  </thead>\n",
       "  <tbody>\n",
       "    <tr>\n",
       "      <th>0</th>\n",
       "      <td>A01</td>\n",
       "      <td>남</td>\n",
       "      <td>125000.0</td>\n",
       "      <td>8000.0</td>\n",
       "      <td>필리핀</td>\n",
       "    </tr>\n",
       "    <tr>\n",
       "      <th>1</th>\n",
       "      <td>A01</td>\n",
       "      <td>여</td>\n",
       "      <td>130000.0</td>\n",
       "      <td>10000.0</td>\n",
       "      <td>필리핀</td>\n",
       "    </tr>\n",
       "    <tr>\n",
       "      <th>2</th>\n",
       "      <td>A05</td>\n",
       "      <td>남</td>\n",
       "      <td>300.0</td>\n",
       "      <td>10.0</td>\n",
       "      <td>호주</td>\n",
       "    </tr>\n",
       "    <tr>\n",
       "      <th>3</th>\n",
       "      <td>A05</td>\n",
       "      <td>여</td>\n",
       "      <td>200.0</td>\n",
       "      <td>50.0</td>\n",
       "      <td>호주</td>\n",
       "    </tr>\n",
       "    <tr>\n",
       "      <th>4</th>\n",
       "      <td>A06</td>\n",
       "      <td>남</td>\n",
       "      <td>158912.0</td>\n",
       "      <td>24486.0</td>\n",
       "      <td>베트남</td>\n",
       "    </tr>\n",
       "    <tr>\n",
       "      <th>5</th>\n",
       "      <td>A06</td>\n",
       "      <td>여</td>\n",
       "      <td>325000.0</td>\n",
       "      <td>63466.0</td>\n",
       "      <td>베트남</td>\n",
       "    </tr>\n",
       "    <tr>\n",
       "      <th>6</th>\n",
       "      <td>A02</td>\n",
       "      <td>NaN</td>\n",
       "      <td>NaN</td>\n",
       "      <td>NaN</td>\n",
       "      <td>일본</td>\n",
       "    </tr>\n",
       "    <tr>\n",
       "      <th>7</th>\n",
       "      <td>A03</td>\n",
       "      <td>NaN</td>\n",
       "      <td>NaN</td>\n",
       "      <td>NaN</td>\n",
       "      <td>미국</td>\n",
       "    </tr>\n",
       "    <tr>\n",
       "      <th>8</th>\n",
       "      <td>A04</td>\n",
       "      <td>NaN</td>\n",
       "      <td>NaN</td>\n",
       "      <td>NaN</td>\n",
       "      <td>중국</td>\n",
       "    </tr>\n",
       "    <tr>\n",
       "      <th>9</th>\n",
       "      <td>A07</td>\n",
       "      <td>NaN</td>\n",
       "      <td>NaN</td>\n",
       "      <td>NaN</td>\n",
       "      <td>스위스</td>\n",
       "    </tr>\n",
       "    <tr>\n",
       "      <th>10</th>\n",
       "      <td>A99</td>\n",
       "      <td>NaN</td>\n",
       "      <td>NaN</td>\n",
       "      <td>NaN</td>\n",
       "      <td>기타</td>\n",
       "    </tr>\n",
       "  </tbody>\n",
       "</table>\n",
       "</div>"
      ],
      "text/plain": [
       "   국적코드   성별      입국객수      증가수  국적명\n",
       "0   A01    남  125000.0   8000.0  필리핀\n",
       "1   A01    여  130000.0  10000.0  필리핀\n",
       "2   A05    남     300.0     10.0   호주\n",
       "3   A05    여     200.0     50.0   호주\n",
       "4   A06    남  158912.0  24486.0  베트남\n",
       "5   A06    여  325000.0  63466.0  베트남\n",
       "6   A02  NaN       NaN      NaN   일본\n",
       "7   A03  NaN       NaN      NaN   미국\n",
       "8   A04  NaN       NaN      NaN   중국\n",
       "9   A07  NaN       NaN      NaN  스위스\n",
       "10  A99  NaN       NaN      NaN   기타"
      ]
     },
     "execution_count": 462,
     "metadata": {},
     "output_type": "execute_result"
    }
   ],
   "source": [
    "pd.merge(s1, s2, on='국적코드', how='outer')"
   ]
  },
  {
   "cell_type": "markdown",
   "id": "f1ade2b6",
   "metadata": {},
   "source": [
    "## 데이터 그루핑"
   ]
  },
  {
   "cell_type": "code",
   "execution_count": 463,
   "id": "d0023e89",
   "metadata": {
    "ExecuteTime": {
     "end_time": "2022-11-22T09:59:41.766494Z",
     "start_time": "2022-11-22T09:59:41.742141Z"
    }
   },
   "outputs": [
    {
     "data": {
      "text/html": [
       "<div>\n",
       "<style scoped>\n",
       "    .dataframe tbody tr th:only-of-type {\n",
       "        vertical-align: middle;\n",
       "    }\n",
       "\n",
       "    .dataframe tbody tr th {\n",
       "        vertical-align: top;\n",
       "    }\n",
       "\n",
       "    .dataframe thead th {\n",
       "        text-align: right;\n",
       "    }\n",
       "</style>\n",
       "<table border=\"1\" class=\"dataframe\">\n",
       "  <thead>\n",
       "    <tr style=\"text-align: right;\">\n",
       "      <th></th>\n",
       "      <th>입국객수</th>\n",
       "      <th>증가수</th>\n",
       "    </tr>\n",
       "    <tr>\n",
       "      <th>국적코드</th>\n",
       "      <th></th>\n",
       "      <th></th>\n",
       "    </tr>\n",
       "  </thead>\n",
       "  <tbody>\n",
       "    <tr>\n",
       "      <th>A01</th>\n",
       "      <td>255000</td>\n",
       "      <td>18000</td>\n",
       "    </tr>\n",
       "    <tr>\n",
       "      <th>A05</th>\n",
       "      <td>500</td>\n",
       "      <td>60</td>\n",
       "    </tr>\n",
       "    <tr>\n",
       "      <th>A06</th>\n",
       "      <td>483912</td>\n",
       "      <td>87952</td>\n",
       "    </tr>\n",
       "  </tbody>\n",
       "</table>\n",
       "</div>"
      ],
      "text/plain": [
       "        입국객수    증가수\n",
       "국적코드               \n",
       "A01   255000  18000\n",
       "A05      500     60\n",
       "A06   483912  87952"
      ]
     },
     "execution_count": 463,
     "metadata": {},
     "output_type": "execute_result"
    }
   ],
   "source": [
    "#한 칼럼 기준 그룹화\n",
    "s1.groupby('국적코드').sum()"
   ]
  },
  {
   "cell_type": "code",
   "execution_count": 6,
   "id": "a9cb6010",
   "metadata": {
    "ExecuteTime": {
     "end_time": "2022-11-22T10:10:35.422177Z",
     "start_time": "2022-11-22T10:10:35.395214Z"
    }
   },
   "outputs": [
    {
     "ename": "NameError",
     "evalue": "name 's1' is not defined",
     "output_type": "error",
     "traceback": [
      "\u001b[0;31m---------------------------------------------------------------------------\u001b[0m",
      "\u001b[0;31mNameError\u001b[0m                                 Traceback (most recent call last)",
      "Input \u001b[0;32mIn [6]\u001b[0m, in \u001b[0;36m<cell line: 1>\u001b[0;34m()\u001b[0m\n\u001b[0;32m----> 1\u001b[0m \u001b[43ms1\u001b[49m\u001b[38;5;241m.\u001b[39mgroupby([\u001b[38;5;124m'\u001b[39m\u001b[38;5;124m국적코드\u001b[39m\u001b[38;5;124m'\u001b[39m, \u001b[38;5;124m'\u001b[39m\u001b[38;5;124m성별\u001b[39m\u001b[38;5;124m'\u001b[39m])\u001b[38;5;241m.\u001b[39msum()\n",
      "\u001b[0;31mNameError\u001b[0m: name 's1' is not defined"
     ]
    }
   ],
   "source": [
    "s1.groupby(['국적코드', '성별']).sum()"
   ]
  },
  {
   "cell_type": "code",
   "execution_count": 5,
   "id": "b1f20e99",
   "metadata": {
    "ExecuteTime": {
     "end_time": "2022-11-22T10:10:31.938448Z",
     "start_time": "2022-11-22T10:10:31.918786Z"
    }
   },
   "outputs": [],
   "source": [
    "iris = pd.read_csv(\"./data/Iris.csv\")"
   ]
  },
  {
   "cell_type": "code",
   "execution_count": 7,
   "id": "afaebcea",
   "metadata": {
    "ExecuteTime": {
     "end_time": "2022-11-22T10:10:56.519818Z",
     "start_time": "2022-11-22T10:10:56.496582Z"
    }
   },
   "outputs": [
    {
     "data": {
      "text/html": [
       "<div>\n",
       "<style scoped>\n",
       "    .dataframe tbody tr th:only-of-type {\n",
       "        vertical-align: middle;\n",
       "    }\n",
       "\n",
       "    .dataframe tbody tr th {\n",
       "        vertical-align: top;\n",
       "    }\n",
       "\n",
       "    .dataframe thead th {\n",
       "        text-align: right;\n",
       "    }\n",
       "</style>\n",
       "<table border=\"1\" class=\"dataframe\">\n",
       "  <thead>\n",
       "    <tr style=\"text-align: right;\">\n",
       "      <th></th>\n",
       "      <th>Id</th>\n",
       "      <th>SepalLengthCm</th>\n",
       "      <th>SepalWidthCm</th>\n",
       "      <th>PetalLengthCm</th>\n",
       "      <th>PetalWidthCm</th>\n",
       "      <th>Species</th>\n",
       "    </tr>\n",
       "  </thead>\n",
       "  <tbody>\n",
       "    <tr>\n",
       "      <th>0</th>\n",
       "      <td>1</td>\n",
       "      <td>5.1</td>\n",
       "      <td>3.5</td>\n",
       "      <td>1.4</td>\n",
       "      <td>0.2</td>\n",
       "      <td>Iris-setosa</td>\n",
       "    </tr>\n",
       "    <tr>\n",
       "      <th>1</th>\n",
       "      <td>2</td>\n",
       "      <td>4.9</td>\n",
       "      <td>3.0</td>\n",
       "      <td>1.4</td>\n",
       "      <td>0.2</td>\n",
       "      <td>Iris-setosa</td>\n",
       "    </tr>\n",
       "    <tr>\n",
       "      <th>2</th>\n",
       "      <td>3</td>\n",
       "      <td>4.7</td>\n",
       "      <td>3.2</td>\n",
       "      <td>1.3</td>\n",
       "      <td>0.2</td>\n",
       "      <td>Iris-setosa</td>\n",
       "    </tr>\n",
       "    <tr>\n",
       "      <th>3</th>\n",
       "      <td>4</td>\n",
       "      <td>4.6</td>\n",
       "      <td>3.1</td>\n",
       "      <td>1.5</td>\n",
       "      <td>0.2</td>\n",
       "      <td>Iris-setosa</td>\n",
       "    </tr>\n",
       "    <tr>\n",
       "      <th>4</th>\n",
       "      <td>5</td>\n",
       "      <td>5.0</td>\n",
       "      <td>3.6</td>\n",
       "      <td>1.4</td>\n",
       "      <td>0.2</td>\n",
       "      <td>Iris-setosa</td>\n",
       "    </tr>\n",
       "  </tbody>\n",
       "</table>\n",
       "</div>"
      ],
      "text/plain": [
       "   Id  SepalLengthCm  SepalWidthCm  PetalLengthCm  PetalWidthCm      Species\n",
       "0   1            5.1           3.5            1.4           0.2  Iris-setosa\n",
       "1   2            4.9           3.0            1.4           0.2  Iris-setosa\n",
       "2   3            4.7           3.2            1.3           0.2  Iris-setosa\n",
       "3   4            4.6           3.1            1.5           0.2  Iris-setosa\n",
       "4   5            5.0           3.6            1.4           0.2  Iris-setosa"
      ]
     },
     "execution_count": 7,
     "metadata": {},
     "output_type": "execute_result"
    }
   ],
   "source": [
    "iris.head()"
   ]
  },
  {
   "cell_type": "code",
   "execution_count": 8,
   "id": "743d287e",
   "metadata": {
    "ExecuteTime": {
     "end_time": "2022-11-22T10:11:01.460540Z",
     "start_time": "2022-11-22T10:11:01.435012Z"
    }
   },
   "outputs": [
    {
     "name": "stdout",
     "output_type": "stream",
     "text": [
      "<class 'pandas.core.frame.DataFrame'>\n",
      "RangeIndex: 150 entries, 0 to 149\n",
      "Data columns (total 6 columns):\n",
      " #   Column         Non-Null Count  Dtype  \n",
      "---  ------         --------------  -----  \n",
      " 0   Id             150 non-null    int64  \n",
      " 1   SepalLengthCm  150 non-null    float64\n",
      " 2   SepalWidthCm   150 non-null    float64\n",
      " 3   PetalLengthCm  150 non-null    float64\n",
      " 4   PetalWidthCm   150 non-null    float64\n",
      " 5   Species        150 non-null    object \n",
      "dtypes: float64(4), int64(1), object(1)\n",
      "memory usage: 7.2+ KB\n"
     ]
    }
   ],
   "source": [
    "iris.info()"
   ]
  },
  {
   "cell_type": "code",
   "execution_count": 9,
   "id": "d84b56ff",
   "metadata": {
    "ExecuteTime": {
     "end_time": "2022-11-22T10:12:48.321088Z",
     "start_time": "2022-11-22T10:12:48.291878Z"
    }
   },
   "outputs": [
    {
     "data": {
      "text/html": [
       "<div>\n",
       "<style scoped>\n",
       "    .dataframe tbody tr th:only-of-type {\n",
       "        vertical-align: middle;\n",
       "    }\n",
       "\n",
       "    .dataframe tbody tr th {\n",
       "        vertical-align: top;\n",
       "    }\n",
       "\n",
       "    .dataframe thead th {\n",
       "        text-align: right;\n",
       "    }\n",
       "</style>\n",
       "<table border=\"1\" class=\"dataframe\">\n",
       "  <thead>\n",
       "    <tr style=\"text-align: right;\">\n",
       "      <th></th>\n",
       "      <th>Id</th>\n",
       "      <th>SepalLengthCm</th>\n",
       "      <th>SepalWidthCm</th>\n",
       "      <th>PetalLengthCm</th>\n",
       "      <th>PetalWidthCm</th>\n",
       "    </tr>\n",
       "  </thead>\n",
       "  <tbody>\n",
       "    <tr>\n",
       "      <th>count</th>\n",
       "      <td>150.000000</td>\n",
       "      <td>150.000000</td>\n",
       "      <td>150.000000</td>\n",
       "      <td>150.000000</td>\n",
       "      <td>150.000000</td>\n",
       "    </tr>\n",
       "    <tr>\n",
       "      <th>mean</th>\n",
       "      <td>75.500000</td>\n",
       "      <td>5.843333</td>\n",
       "      <td>3.054000</td>\n",
       "      <td>3.758667</td>\n",
       "      <td>1.198667</td>\n",
       "    </tr>\n",
       "    <tr>\n",
       "      <th>std</th>\n",
       "      <td>43.445368</td>\n",
       "      <td>0.828066</td>\n",
       "      <td>0.433594</td>\n",
       "      <td>1.764420</td>\n",
       "      <td>0.763161</td>\n",
       "    </tr>\n",
       "    <tr>\n",
       "      <th>min</th>\n",
       "      <td>1.000000</td>\n",
       "      <td>4.300000</td>\n",
       "      <td>2.000000</td>\n",
       "      <td>1.000000</td>\n",
       "      <td>0.100000</td>\n",
       "    </tr>\n",
       "    <tr>\n",
       "      <th>25%</th>\n",
       "      <td>38.250000</td>\n",
       "      <td>5.100000</td>\n",
       "      <td>2.800000</td>\n",
       "      <td>1.600000</td>\n",
       "      <td>0.300000</td>\n",
       "    </tr>\n",
       "    <tr>\n",
       "      <th>50%</th>\n",
       "      <td>75.500000</td>\n",
       "      <td>5.800000</td>\n",
       "      <td>3.000000</td>\n",
       "      <td>4.350000</td>\n",
       "      <td>1.300000</td>\n",
       "    </tr>\n",
       "    <tr>\n",
       "      <th>75%</th>\n",
       "      <td>112.750000</td>\n",
       "      <td>6.400000</td>\n",
       "      <td>3.300000</td>\n",
       "      <td>5.100000</td>\n",
       "      <td>1.800000</td>\n",
       "    </tr>\n",
       "    <tr>\n",
       "      <th>max</th>\n",
       "      <td>150.000000</td>\n",
       "      <td>7.900000</td>\n",
       "      <td>4.400000</td>\n",
       "      <td>6.900000</td>\n",
       "      <td>2.500000</td>\n",
       "    </tr>\n",
       "  </tbody>\n",
       "</table>\n",
       "</div>"
      ],
      "text/plain": [
       "               Id  SepalLengthCm  SepalWidthCm  PetalLengthCm  PetalWidthCm\n",
       "count  150.000000     150.000000    150.000000     150.000000    150.000000\n",
       "mean    75.500000       5.843333      3.054000       3.758667      1.198667\n",
       "std     43.445368       0.828066      0.433594       1.764420      0.763161\n",
       "min      1.000000       4.300000      2.000000       1.000000      0.100000\n",
       "25%     38.250000       5.100000      2.800000       1.600000      0.300000\n",
       "50%     75.500000       5.800000      3.000000       4.350000      1.300000\n",
       "75%    112.750000       6.400000      3.300000       5.100000      1.800000\n",
       "max    150.000000       7.900000      4.400000       6.900000      2.500000"
      ]
     },
     "execution_count": 9,
     "metadata": {},
     "output_type": "execute_result"
    }
   ],
   "source": [
    "iris.describe()"
   ]
  },
  {
   "cell_type": "code",
   "execution_count": 10,
   "id": "d08f0526",
   "metadata": {
    "ExecuteTime": {
     "end_time": "2022-11-22T10:13:17.652555Z",
     "start_time": "2022-11-22T10:13:17.644159Z"
    }
   },
   "outputs": [
    {
     "data": {
      "text/plain": [
       "Iris-setosa        50\n",
       "Iris-versicolor    50\n",
       "Iris-virginica     50\n",
       "Name: Species, dtype: int64"
      ]
     },
     "execution_count": 10,
     "metadata": {},
     "output_type": "execute_result"
    }
   ],
   "source": [
    "iris['Species'].value_counts()\n"
   ]
  },
  {
   "cell_type": "code",
   "execution_count": 12,
   "id": "6ac63732",
   "metadata": {
    "ExecuteTime": {
     "end_time": "2022-11-22T10:13:47.416141Z",
     "start_time": "2022-11-22T10:13:47.406419Z"
    }
   },
   "outputs": [
    {
     "data": {
      "text/plain": [
       "Id               0\n",
       "SepalLengthCm    0\n",
       "SepalWidthCm     0\n",
       "PetalLengthCm    0\n",
       "PetalWidthCm     0\n",
       "Species          0\n",
       "dtype: int64"
      ]
     },
     "execution_count": 12,
     "metadata": {},
     "output_type": "execute_result"
    }
   ],
   "source": [
    "iris.isnull().sum()"
   ]
  },
  {
   "cell_type": "code",
   "execution_count": 15,
   "id": "43d3218f",
   "metadata": {
    "ExecuteTime": {
     "end_time": "2022-11-22T10:14:14.260212Z",
     "start_time": "2022-11-22T10:14:14.251503Z"
    }
   },
   "outputs": [
    {
     "data": {
      "text/plain": [
       "0"
      ]
     },
     "execution_count": 15,
     "metadata": {},
     "output_type": "execute_result"
    }
   ],
   "source": [
    "iris.duplicated().sum() #중복확인"
   ]
  },
  {
   "cell_type": "code",
   "execution_count": 16,
   "id": "281fa06c",
   "metadata": {
    "ExecuteTime": {
     "end_time": "2022-11-22T10:14:33.234342Z",
     "start_time": "2022-11-22T10:14:33.225914Z"
    }
   },
   "outputs": [],
   "source": [
    "iris.drop('Id', axis=1, inplace=True)"
   ]
  },
  {
   "cell_type": "code",
   "execution_count": 17,
   "id": "6a31bcfb",
   "metadata": {
    "ExecuteTime": {
     "end_time": "2022-11-22T10:14:36.070331Z",
     "start_time": "2022-11-22T10:14:36.047964Z"
    }
   },
   "outputs": [
    {
     "data": {
      "text/html": [
       "<div>\n",
       "<style scoped>\n",
       "    .dataframe tbody tr th:only-of-type {\n",
       "        vertical-align: middle;\n",
       "    }\n",
       "\n",
       "    .dataframe tbody tr th {\n",
       "        vertical-align: top;\n",
       "    }\n",
       "\n",
       "    .dataframe thead th {\n",
       "        text-align: right;\n",
       "    }\n",
       "</style>\n",
       "<table border=\"1\" class=\"dataframe\">\n",
       "  <thead>\n",
       "    <tr style=\"text-align: right;\">\n",
       "      <th></th>\n",
       "      <th>SepalLengthCm</th>\n",
       "      <th>SepalWidthCm</th>\n",
       "      <th>PetalLengthCm</th>\n",
       "      <th>PetalWidthCm</th>\n",
       "      <th>Species</th>\n",
       "    </tr>\n",
       "  </thead>\n",
       "  <tbody>\n",
       "    <tr>\n",
       "      <th>0</th>\n",
       "      <td>5.1</td>\n",
       "      <td>3.5</td>\n",
       "      <td>1.4</td>\n",
       "      <td>0.2</td>\n",
       "      <td>Iris-setosa</td>\n",
       "    </tr>\n",
       "    <tr>\n",
       "      <th>1</th>\n",
       "      <td>4.9</td>\n",
       "      <td>3.0</td>\n",
       "      <td>1.4</td>\n",
       "      <td>0.2</td>\n",
       "      <td>Iris-setosa</td>\n",
       "    </tr>\n",
       "    <tr>\n",
       "      <th>2</th>\n",
       "      <td>4.7</td>\n",
       "      <td>3.2</td>\n",
       "      <td>1.3</td>\n",
       "      <td>0.2</td>\n",
       "      <td>Iris-setosa</td>\n",
       "    </tr>\n",
       "    <tr>\n",
       "      <th>3</th>\n",
       "      <td>4.6</td>\n",
       "      <td>3.1</td>\n",
       "      <td>1.5</td>\n",
       "      <td>0.2</td>\n",
       "      <td>Iris-setosa</td>\n",
       "    </tr>\n",
       "    <tr>\n",
       "      <th>4</th>\n",
       "      <td>5.0</td>\n",
       "      <td>3.6</td>\n",
       "      <td>1.4</td>\n",
       "      <td>0.2</td>\n",
       "      <td>Iris-setosa</td>\n",
       "    </tr>\n",
       "    <tr>\n",
       "      <th>...</th>\n",
       "      <td>...</td>\n",
       "      <td>...</td>\n",
       "      <td>...</td>\n",
       "      <td>...</td>\n",
       "      <td>...</td>\n",
       "    </tr>\n",
       "    <tr>\n",
       "      <th>145</th>\n",
       "      <td>6.7</td>\n",
       "      <td>3.0</td>\n",
       "      <td>5.2</td>\n",
       "      <td>2.3</td>\n",
       "      <td>Iris-virginica</td>\n",
       "    </tr>\n",
       "    <tr>\n",
       "      <th>146</th>\n",
       "      <td>6.3</td>\n",
       "      <td>2.5</td>\n",
       "      <td>5.0</td>\n",
       "      <td>1.9</td>\n",
       "      <td>Iris-virginica</td>\n",
       "    </tr>\n",
       "    <tr>\n",
       "      <th>147</th>\n",
       "      <td>6.5</td>\n",
       "      <td>3.0</td>\n",
       "      <td>5.2</td>\n",
       "      <td>2.0</td>\n",
       "      <td>Iris-virginica</td>\n",
       "    </tr>\n",
       "    <tr>\n",
       "      <th>148</th>\n",
       "      <td>6.2</td>\n",
       "      <td>3.4</td>\n",
       "      <td>5.4</td>\n",
       "      <td>2.3</td>\n",
       "      <td>Iris-virginica</td>\n",
       "    </tr>\n",
       "    <tr>\n",
       "      <th>149</th>\n",
       "      <td>5.9</td>\n",
       "      <td>3.0</td>\n",
       "      <td>5.1</td>\n",
       "      <td>1.8</td>\n",
       "      <td>Iris-virginica</td>\n",
       "    </tr>\n",
       "  </tbody>\n",
       "</table>\n",
       "<p>150 rows × 5 columns</p>\n",
       "</div>"
      ],
      "text/plain": [
       "     SepalLengthCm  SepalWidthCm  PetalLengthCm  PetalWidthCm         Species\n",
       "0              5.1           3.5            1.4           0.2     Iris-setosa\n",
       "1              4.9           3.0            1.4           0.2     Iris-setosa\n",
       "2              4.7           3.2            1.3           0.2     Iris-setosa\n",
       "3              4.6           3.1            1.5           0.2     Iris-setosa\n",
       "4              5.0           3.6            1.4           0.2     Iris-setosa\n",
       "..             ...           ...            ...           ...             ...\n",
       "145            6.7           3.0            5.2           2.3  Iris-virginica\n",
       "146            6.3           2.5            5.0           1.9  Iris-virginica\n",
       "147            6.5           3.0            5.2           2.0  Iris-virginica\n",
       "148            6.2           3.4            5.4           2.3  Iris-virginica\n",
       "149            5.9           3.0            5.1           1.8  Iris-virginica\n",
       "\n",
       "[150 rows x 5 columns]"
      ]
     },
     "execution_count": 17,
     "metadata": {},
     "output_type": "execute_result"
    }
   ],
   "source": [
    "iris"
   ]
  },
  {
   "cell_type": "code",
   "execution_count": 21,
   "id": "88ee4939",
   "metadata": {
    "ExecuteTime": {
     "end_time": "2022-11-22T10:15:39.938101Z",
     "start_time": "2022-11-22T10:15:39.926217Z"
    }
   },
   "outputs": [
    {
     "data": {
      "text/plain": [
       "3"
      ]
     },
     "execution_count": 21,
     "metadata": {},
     "output_type": "execute_result"
    }
   ],
   "source": [
    "iris.duplicated().sum()"
   ]
  },
  {
   "cell_type": "code",
   "execution_count": 22,
   "id": "63ee28cb",
   "metadata": {
    "ExecuteTime": {
     "end_time": "2022-11-22T10:15:45.491322Z",
     "start_time": "2022-11-22T10:15:45.482129Z"
    }
   },
   "outputs": [
    {
     "data": {
      "text/plain": [
       "0      False\n",
       "1      False\n",
       "2      False\n",
       "3      False\n",
       "4      False\n",
       "       ...  \n",
       "145    False\n",
       "146    False\n",
       "147    False\n",
       "148    False\n",
       "149    False\n",
       "Length: 150, dtype: bool"
      ]
     },
     "execution_count": 22,
     "metadata": {},
     "output_type": "execute_result"
    }
   ],
   "source": [
    "iris.duplicated()"
   ]
  },
  {
   "cell_type": "code",
   "execution_count": 20,
   "id": "76c2182b",
   "metadata": {
    "ExecuteTime": {
     "end_time": "2022-11-22T10:15:24.602681Z",
     "start_time": "2022-11-22T10:15:24.582752Z"
    }
   },
   "outputs": [
    {
     "data": {
      "text/html": [
       "<div>\n",
       "<style scoped>\n",
       "    .dataframe tbody tr th:only-of-type {\n",
       "        vertical-align: middle;\n",
       "    }\n",
       "\n",
       "    .dataframe tbody tr th {\n",
       "        vertical-align: top;\n",
       "    }\n",
       "\n",
       "    .dataframe thead th {\n",
       "        text-align: right;\n",
       "    }\n",
       "</style>\n",
       "<table border=\"1\" class=\"dataframe\">\n",
       "  <thead>\n",
       "    <tr style=\"text-align: right;\">\n",
       "      <th></th>\n",
       "      <th>SepalLengthCm</th>\n",
       "      <th>SepalWidthCm</th>\n",
       "      <th>PetalLengthCm</th>\n",
       "      <th>PetalWidthCm</th>\n",
       "      <th>Species</th>\n",
       "    </tr>\n",
       "  </thead>\n",
       "  <tbody>\n",
       "    <tr>\n",
       "      <th>34</th>\n",
       "      <td>4.9</td>\n",
       "      <td>3.1</td>\n",
       "      <td>1.5</td>\n",
       "      <td>0.1</td>\n",
       "      <td>Iris-setosa</td>\n",
       "    </tr>\n",
       "    <tr>\n",
       "      <th>37</th>\n",
       "      <td>4.9</td>\n",
       "      <td>3.1</td>\n",
       "      <td>1.5</td>\n",
       "      <td>0.1</td>\n",
       "      <td>Iris-setosa</td>\n",
       "    </tr>\n",
       "    <tr>\n",
       "      <th>142</th>\n",
       "      <td>5.8</td>\n",
       "      <td>2.7</td>\n",
       "      <td>5.1</td>\n",
       "      <td>1.9</td>\n",
       "      <td>Iris-virginica</td>\n",
       "    </tr>\n",
       "  </tbody>\n",
       "</table>\n",
       "</div>"
      ],
      "text/plain": [
       "     SepalLengthCm  SepalWidthCm  PetalLengthCm  PetalWidthCm         Species\n",
       "34             4.9           3.1            1.5           0.1     Iris-setosa\n",
       "37             4.9           3.1            1.5           0.1     Iris-setosa\n",
       "142            5.8           2.7            5.1           1.9  Iris-virginica"
      ]
     },
     "execution_count": 20,
     "metadata": {},
     "output_type": "execute_result"
    }
   ],
   "source": [
    "iris.loc[iris.duplicated(), :]"
   ]
  },
  {
   "cell_type": "code",
   "execution_count": 25,
   "id": "afa3d05a",
   "metadata": {
    "ExecuteTime": {
     "end_time": "2022-11-22T12:45:11.952771Z",
     "start_time": "2022-11-22T12:45:11.932026Z"
    }
   },
   "outputs": [
    {
     "data": {
      "text/html": [
       "<div>\n",
       "<style scoped>\n",
       "    .dataframe tbody tr th:only-of-type {\n",
       "        vertical-align: middle;\n",
       "    }\n",
       "\n",
       "    .dataframe tbody tr th {\n",
       "        vertical-align: top;\n",
       "    }\n",
       "\n",
       "    .dataframe thead th {\n",
       "        text-align: right;\n",
       "    }\n",
       "</style>\n",
       "<table border=\"1\" class=\"dataframe\">\n",
       "  <thead>\n",
       "    <tr style=\"text-align: right;\">\n",
       "      <th></th>\n",
       "      <th>SepalLengthCm</th>\n",
       "      <th>SepalWidthCm</th>\n",
       "      <th>PetalLengthCm</th>\n",
       "      <th>PetalWidthCm</th>\n",
       "      <th>Species</th>\n",
       "    </tr>\n",
       "  </thead>\n",
       "  <tbody>\n",
       "    <tr>\n",
       "      <th>101</th>\n",
       "      <td>5.8</td>\n",
       "      <td>2.7</td>\n",
       "      <td>5.1</td>\n",
       "      <td>1.9</td>\n",
       "      <td>Iris-virginica</td>\n",
       "    </tr>\n",
       "    <tr>\n",
       "      <th>142</th>\n",
       "      <td>5.8</td>\n",
       "      <td>2.7</td>\n",
       "      <td>5.1</td>\n",
       "      <td>1.9</td>\n",
       "      <td>Iris-virginica</td>\n",
       "    </tr>\n",
       "  </tbody>\n",
       "</table>\n",
       "</div>"
      ],
      "text/plain": [
       "     SepalLengthCm  SepalWidthCm  PetalLengthCm  PetalWidthCm         Species\n",
       "101            5.8           2.7            5.1           1.9  Iris-virginica\n",
       "142            5.8           2.7            5.1           1.9  Iris-virginica"
      ]
     },
     "execution_count": 25,
     "metadata": {},
     "output_type": "execute_result"
    }
   ],
   "source": [
    "iris.loc[(iris['SepalLengthCm'] == 5.8) & (iris['PetalWidthCm'] == 1.9), :]"
   ]
  },
  {
   "cell_type": "code",
   "execution_count": 28,
   "id": "edfe16b9",
   "metadata": {
    "ExecuteTime": {
     "end_time": "2022-11-22T12:45:54.160071Z",
     "start_time": "2022-11-22T12:45:54.152489Z"
    }
   },
   "outputs": [],
   "source": [
    "iris = iris.drop_duplicates()"
   ]
  },
  {
   "cell_type": "code",
   "execution_count": 30,
   "id": "242d0663",
   "metadata": {
    "ExecuteTime": {
     "end_time": "2022-11-22T12:46:08.553275Z",
     "start_time": "2022-11-22T12:46:08.542765Z"
    }
   },
   "outputs": [
    {
     "data": {
      "text/plain": [
       "0"
      ]
     },
     "execution_count": 30,
     "metadata": {},
     "output_type": "execute_result"
    }
   ],
   "source": [
    "iris.duplicated().sum()"
   ]
  },
  {
   "cell_type": "code",
   "execution_count": 31,
   "id": "3a9876c3",
   "metadata": {
    "ExecuteTime": {
     "end_time": "2022-11-22T12:46:23.008053Z",
     "start_time": "2022-11-22T12:46:22.983080Z"
    }
   },
   "outputs": [
    {
     "data": {
      "text/html": [
       "<div>\n",
       "<style scoped>\n",
       "    .dataframe tbody tr th:only-of-type {\n",
       "        vertical-align: middle;\n",
       "    }\n",
       "\n",
       "    .dataframe tbody tr th {\n",
       "        vertical-align: top;\n",
       "    }\n",
       "\n",
       "    .dataframe thead th {\n",
       "        text-align: right;\n",
       "    }\n",
       "</style>\n",
       "<table border=\"1\" class=\"dataframe\">\n",
       "  <thead>\n",
       "    <tr style=\"text-align: right;\">\n",
       "      <th></th>\n",
       "      <th>SepalLengthCm</th>\n",
       "      <th>SepalWidthCm</th>\n",
       "      <th>PetalLengthCm</th>\n",
       "      <th>PetalWidthCm</th>\n",
       "    </tr>\n",
       "    <tr>\n",
       "      <th>Species</th>\n",
       "      <th></th>\n",
       "      <th></th>\n",
       "      <th></th>\n",
       "      <th></th>\n",
       "    </tr>\n",
       "  </thead>\n",
       "  <tbody>\n",
       "    <tr>\n",
       "      <th>Iris-setosa</th>\n",
       "      <td>240.5</td>\n",
       "      <td>164.7</td>\n",
       "      <td>70.2</td>\n",
       "      <td>12.0</td>\n",
       "    </tr>\n",
       "    <tr>\n",
       "      <th>Iris-versicolor</th>\n",
       "      <td>296.8</td>\n",
       "      <td>138.5</td>\n",
       "      <td>213.0</td>\n",
       "      <td>66.3</td>\n",
       "    </tr>\n",
       "    <tr>\n",
       "      <th>Iris-virginica</th>\n",
       "      <td>323.6</td>\n",
       "      <td>146.0</td>\n",
       "      <td>272.5</td>\n",
       "      <td>99.4</td>\n",
       "    </tr>\n",
       "  </tbody>\n",
       "</table>\n",
       "</div>"
      ],
      "text/plain": [
       "                 SepalLengthCm  SepalWidthCm  PetalLengthCm  PetalWidthCm\n",
       "Species                                                                  \n",
       "Iris-setosa              240.5         164.7           70.2          12.0\n",
       "Iris-versicolor          296.8         138.5          213.0          66.3\n",
       "Iris-virginica           323.6         146.0          272.5          99.4"
      ]
     },
     "execution_count": 31,
     "metadata": {},
     "output_type": "execute_result"
    }
   ],
   "source": [
    "iris.groupby('Species').sum()"
   ]
  },
  {
   "cell_type": "code",
   "execution_count": 32,
   "id": "1ce46742",
   "metadata": {
    "ExecuteTime": {
     "end_time": "2022-11-22T12:46:40.165415Z",
     "start_time": "2022-11-22T12:46:40.146683Z"
    }
   },
   "outputs": [
    {
     "data": {
      "text/plain": [
       "SepalLengthCm    286.966667\n",
       "SepalWidthCm     149.733333\n",
       "PetalLengthCm    185.233333\n",
       "PetalWidthCm      59.233333\n",
       "dtype: float64"
      ]
     },
     "execution_count": 32,
     "metadata": {},
     "output_type": "execute_result"
    }
   ],
   "source": [
    "iris.groupby('Species').sum().mean()"
   ]
  },
  {
   "cell_type": "code",
   "execution_count": 33,
   "id": "d40d48cf",
   "metadata": {
    "ExecuteTime": {
     "end_time": "2022-11-22T12:47:10.084928Z",
     "start_time": "2022-11-22T12:47:10.080626Z"
    }
   },
   "outputs": [],
   "source": [
    "import matplotlib.pyplot as plt"
   ]
  },
  {
   "cell_type": "code",
   "execution_count": 43,
   "id": "c7bc9038",
   "metadata": {
    "ExecuteTime": {
     "end_time": "2022-11-22T12:50:32.117808Z",
     "start_time": "2022-11-22T12:50:32.017225Z"
    }
   },
   "outputs": [
    {
     "data": {
      "text/plain": [
       "<AxesSubplot:>"
      ]
     },
     "execution_count": 43,
     "metadata": {},
     "output_type": "execute_result"
    },
    {
     "data": {
      "image/png": "[encoded data removed]",
      "text/plain": [
       "<Figure size 432x288 with 1 Axes>"
      ]
     },
     "metadata": {
      "needs_background": "light"
     },
     "output_type": "display_data"
    }
   ],
   "source": [
    "iris.SepalLengthCm[:10].plot(kind='bar', rot=0)"
   ]
  },
  {
   "cell_type": "code",
   "execution_count": 38,
   "id": "56b05e8c",
   "metadata": {
    "ExecuteTime": {
     "end_time": "2022-11-22T12:49:37.507463Z",
     "start_time": "2022-11-22T12:49:37.424997Z"
    }
   },
   "outputs": [
    {
     "data": {
      "image/png": "[encoded data removed]",
      "text/plain": [
       "<Figure size 432x288 with 1 Axes>"
      ]
     },
     "metadata": {
      "needs_background": "light"
     },
     "output_type": "display_data"
    }
   ],
   "source": [
    "plt.title('SepalLength Visualization')\n",
    "plt.xlabel(\"Data\")\n",
    "plt.ylabel(\"Sepal Length\")\n",
    "plt.show()"
   ]
  },
  {
   "cell_type": "code",
   "execution_count": 44,
   "id": "7f176af4",
   "metadata": {
    "ExecuteTime": {
     "end_time": "2022-11-22T12:50:38.383629Z",
     "start_time": "2022-11-22T12:50:38.367771Z"
    }
   },
   "outputs": [
    {
     "data": {
      "text/html": [
       "<div>\n",
       "<style scoped>\n",
       "    .dataframe tbody tr th:only-of-type {\n",
       "        vertical-align: middle;\n",
       "    }\n",
       "\n",
       "    .dataframe tbody tr th {\n",
       "        vertical-align: top;\n",
       "    }\n",
       "\n",
       "    .dataframe thead th {\n",
       "        text-align: right;\n",
       "    }\n",
       "</style>\n",
       "<table border=\"1\" class=\"dataframe\">\n",
       "  <thead>\n",
       "    <tr style=\"text-align: right;\">\n",
       "      <th></th>\n",
       "      <th>SepalLengthCm</th>\n",
       "      <th>SepalWidthCm</th>\n",
       "      <th>PetalLengthCm</th>\n",
       "      <th>PetalWidthCm</th>\n",
       "    </tr>\n",
       "    <tr>\n",
       "      <th>Species</th>\n",
       "      <th></th>\n",
       "      <th></th>\n",
       "      <th></th>\n",
       "      <th></th>\n",
       "    </tr>\n",
       "  </thead>\n",
       "  <tbody>\n",
       "    <tr>\n",
       "      <th>Iris-setosa</th>\n",
       "      <td>5.010417</td>\n",
       "      <td>3.431250</td>\n",
       "      <td>1.462500</td>\n",
       "      <td>0.250000</td>\n",
       "    </tr>\n",
       "    <tr>\n",
       "      <th>Iris-versicolor</th>\n",
       "      <td>5.936000</td>\n",
       "      <td>2.770000</td>\n",
       "      <td>4.260000</td>\n",
       "      <td>1.326000</td>\n",
       "    </tr>\n",
       "    <tr>\n",
       "      <th>Iris-virginica</th>\n",
       "      <td>6.604082</td>\n",
       "      <td>2.979592</td>\n",
       "      <td>5.561224</td>\n",
       "      <td>2.028571</td>\n",
       "    </tr>\n",
       "  </tbody>\n",
       "</table>\n",
       "</div>"
      ],
      "text/plain": [
       "                 SepalLengthCm  SepalWidthCm  PetalLengthCm  PetalWidthCm\n",
       "Species                                                                  \n",
       "Iris-setosa           5.010417      3.431250       1.462500      0.250000\n",
       "Iris-versicolor       5.936000      2.770000       4.260000      1.326000\n",
       "Iris-virginica        6.604082      2.979592       5.561224      2.028571"
      ]
     },
     "execution_count": 44,
     "metadata": {},
     "output_type": "execute_result"
    }
   ],
   "source": [
    "df2 = iris.groupby('Species').mean()\n",
    "df2"
   ]
  },
  {
   "cell_type": "code",
   "execution_count": 46,
   "id": "65b8a6c4",
   "metadata": {
    "ExecuteTime": {
     "end_time": "2022-11-22T12:52:04.069415Z",
     "start_time": "2022-11-22T12:52:03.973852Z"
    }
   },
   "outputs": [
    {
     "data": {
      "text/plain": [
       "Text(0, 0.5, 'Mean of Sepal Length')"
      ]
     },
     "execution_count": 46,
     "metadata": {},
     "output_type": "execute_result"
    },
    {
     "data": {
      "image/png": "[encoded data removed]",
      "text/plain": [
       "<Figure size 432x288 with 1 Axes>"
      ]
     },
     "metadata": {
      "needs_background": "light"
     },
     "output_type": "display_data"
    }
   ],
   "source": [
    "#막대그래프\n",
    "df2.SepalLengthCm[:].plot(kind='bar', rot=0)\n",
    "plt.title(\"Species SepalLength\")\n",
    "plt.xlabel(\"Data\")\n",
    "plt.ylabel(\"Mean of Sepal Length\")"
   ]
  },
  {
   "cell_type": "code",
   "execution_count": 47,
   "id": "193b8a95",
   "metadata": {
    "ExecuteTime": {
     "end_time": "2022-11-22T12:52:19.149969Z",
     "start_time": "2022-11-22T12:52:19.145765Z"
    }
   },
   "outputs": [],
   "source": [
    "#히스토그램"
   ]
  },
  {
   "cell_type": "code",
   "execution_count": 49,
   "id": "67b242f3",
   "metadata": {
    "ExecuteTime": {
     "end_time": "2022-11-22T12:52:46.843618Z",
     "start_time": "2022-11-22T12:52:46.693229Z"
    }
   },
   "outputs": [
    {
     "data": {
      "text/plain": [
       "<AxesSubplot:ylabel='Frequency'>"
      ]
     },
     "execution_count": 49,
     "metadata": {},
     "output_type": "execute_result"
    },
    {
     "data": {
      "image/png": "[encoded data removed]",
      "text/plain": [
       "<Figure size 432x288 with 1 Axes>"
      ]
     },
     "metadata": {
      "needs_background": "light"
     },
     "output_type": "display_data"
    }
   ],
   "source": [
    "iris.plot(kind='hist')"
   ]
  },
  {
   "cell_type": "code",
   "execution_count": 51,
   "id": "491c2eaf",
   "metadata": {
    "ExecuteTime": {
     "end_time": "2022-11-22T12:53:17.277581Z",
     "start_time": "2022-11-22T12:53:17.166789Z"
    }
   },
   "outputs": [
    {
     "data": {
      "text/plain": [
       "<AxesSubplot:>"
      ]
     },
     "execution_count": 51,
     "metadata": {},
     "output_type": "execute_result"
    },
    {
     "data": {
      "image/png": "[encoded data removed]",
      "text/plain": [
       "<Figure size 432x288 with 1 Axes>"
      ]
     },
     "metadata": {
      "needs_background": "light"
     },
     "output_type": "display_data"
    }
   ],
   "source": [
    "iris.plot(kind='box') #boxplot -> 이상치 극단치"
   ]
  },
  {
   "cell_type": "code",
   "execution_count": 52,
   "id": "6e4ca643",
   "metadata": {
    "ExecuteTime": {
     "end_time": "2022-11-22T12:54:18.614551Z",
     "start_time": "2022-11-22T12:54:18.484633Z"
    }
   },
   "outputs": [
    {
     "data": {
      "text/plain": [
       "<AxesSubplot:xlabel='SepalLengthCm', ylabel='PetalLengthCm'>"
      ]
     },
     "execution_count": 52,
     "metadata": {},
     "output_type": "execute_result"
    },
    {
     "data": {
      "image/png": "[encoded data removed]",
      "text/plain": [
       "<Figure size 432x288 with 1 Axes>"
      ]
     },
     "metadata": {
      "needs_background": "light"
     },
     "output_type": "display_data"
    }
   ],
   "source": [
    "iris.plot(x='SepalLengthCm', y = 'PetalLengthCm',kind='scatter') #산점도"
   ]
  },
  {
   "cell_type": "code",
   "execution_count": null,
   "id": "1085fc32",
   "metadata": {},
   "outputs": [],
   "source": []
  },
  {
   "cell_type": "code",
   "execution_count": null,
   "id": "4469a4ff",
   "metadata": {},
   "outputs": [],
   "source": []
  },
  {
   "cell_type": "code",
   "execution_count": null,
   "id": "9acea65d",
   "metadata": {},
   "outputs": [],
   "source": []
  },
  {
   "cell_type": "code",
   "execution_count": null,
   "id": "cc8c9d16",
   "metadata": {},
   "outputs": [],
   "source": []
  },
  {
   "cell_type": "code",
   "execution_count": null,
   "id": "78de7bcf",
   "metadata": {},
   "outputs": [],
   "source": []
  },
  {
   "cell_type": "code",
   "execution_count": null,
   "id": "0d32b0ee",
   "metadata": {},
   "outputs": [],
   "source": []
  },
  {
   "cell_type": "code",
   "execution_count": null,
   "id": "67472d01",
   "metadata": {},
   "outputs": [],
   "source": []
  }
 ],
 "metadata": {
  "kernelspec": {
   "display_name": "Python 3 (ipykernel)",
   "language": "python",
   "name": "python3"
  },
  "language_info": {
   "codemirror_mode": {
    "name": "ipython",
    "version": 3
   },
   "file_extension": ".py",
   "mimetype": "text/x-python",
   "name": "python",
   "nbconvert_exporter": "python",
   "pygments_lexer": "ipython3",
   "version": "3.9.12"
  },
  "toc": {
   "base_numbering": 1,
   "nav_menu": {},
   "number_sections": true,
   "sideBar": true,
   "skip_h1_title": false,
   "title_cell": "Table of Contents",
   "title_sidebar": "Contents",
   "toc_cell": false,
   "toc_position": {
    "height": "calc(100% - 180px)",
    "left": "10px",
    "top": "150px",
    "width": "336px"
   },
   "toc_section_display": true,
   "toc_window_display": true
  }
 },
 "nbformat": 4,
 "nbformat_minor": 5
}
