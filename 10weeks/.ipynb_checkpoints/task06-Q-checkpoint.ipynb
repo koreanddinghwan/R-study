{
 "cells": [
  {
   "cell_type": "markdown",
   "id": "fb31ab76",
   "metadata": {},
   "source": [
    "제출 파일명은 task06-학번.ipynb (예시:task06-2000000000.ipynb)로 제출해주세요.\n",
    "- 메뉴에서 File > rename 으로 파일명을 변경할 수 있어요.\n",
    "- 워킹 디렉토리는 보통 C드라이브 Users(사용자) 폴더 내에 본인 계정명으로 되어 있는 폴더에요.\n",
    "- 작성한 노트북파일을 찾아 제출하면 됩니다.\n",
    "\n",
    "\n",
    "*주의사항*\n",
    "\n",
    "- 제공된 스크립트에 답 작성 시, 코드 진행에 대한 설명 등을 주석으로 남기도록 합니다.\n",
    "\n",
    "- 파일명 오류 시 감점 요인이 될 수 있습니다.\n",
    "\n",
    "- 수업 시간에 배우지 않은 내용이 있다면 같은 결과가 출력되더라도 감점됩니다.\n",
    "\n",
    "- 과제의 문제 해결 시 복습을 통해서 충분히 풀 수 있는 문제들이기 때문에 타인과 상의하거나  의논하거나 정답을 공유하는 일체의 행동을 하지 않기 바랍니다. \n"
   ]
  },
  {
   "cell_type": "markdown",
   "id": "d0fe9844",
   "metadata": {},
   "source": [
    " "
   ]
  },
  {
   "cell_type": "markdown",
   "id": "4bbac84c",
   "metadata": {},
   "source": [
    "### 문제.  다음 빈 곳에 람다 표현식을 사용하여 알맞은 코드를 작성하세요.\n",
    "- word_list 리스트에서 실행 결과와 같이 단어가 완성되도록 하세요.\n",
    "- 람다 표현식을 사용하세요."
   ]
  },
  {
   "attachments": {
    "image-2.png": {
     "image/png": "[encoded data removed]"
    }
   },
   "cell_type": "markdown",
   "id": "674385a6",
   "metadata": {},
   "source": [
    "![image-2.png](attachment:image-2.png)"
   ]
  },
  {
   "cell_type": "code",
   "execution_count": 12,
   "id": "05563bd4",
   "metadata": {
    "ExecuteTime": {
     "end_time": "2022-11-04T01:49:04.365539Z",
     "start_time": "2022-11-04T01:49:04.358771Z"
    }
   },
   "outputs": [
    {
     "name": "stdout",
     "output_type": "stream",
     "text": [
      "['기러기', '토마토', '스위스', '인도인', '별똥별', '우영우']\n"
     ]
    }
   ],
   "source": [
    "word_list = ['기러', '토마', '스위', '인도', '별똥', '우영']\n",
    "#map함수로 람다함수를 리스트 각 원소에 적용, 반환된 map객체를 list화\n",
    "print(list(map(lambda c: c + c[0], word_list))) #여기 괄호 안에 작성하여 출력시키세요. 공백은 지우고 작성하면 됩니다."
   ]
  }
 ],
 "metadata": {
  "kernelspec": {
   "display_name": "Python 3 (ipykernel)",
   "language": "python",
   "name": "python3"
  },
  "language_info": {
   "codemirror_mode": {
    "name": "ipython",
    "version": 3
   },
   "file_extension": ".py",
   "mimetype": "text/x-python",
   "name": "python",
   "nbconvert_exporter": "python",
   "pygments_lexer": "ipython3",
   "version": "3.9.12"
  },
  "toc": {
   "base_numbering": 1,
   "nav_menu": {},
   "number_sections": true,
   "sideBar": true,
   "skip_h1_title": false,
   "title_cell": "Table of Contents",
   "title_sidebar": "Contents",
   "toc_cell": false,
   "toc_position": {},
   "toc_section_display": true,
   "toc_window_display": true
  }
 },
 "nbformat": 4,
 "nbformat_minor": 5
}
